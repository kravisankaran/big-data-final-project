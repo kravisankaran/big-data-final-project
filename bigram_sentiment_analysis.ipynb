{
 "cells": [
  {
   "cell_type": "code",
   "execution_count": 1,
   "metadata": {},
   "outputs": [
    {
     "name": "stdout",
     "output_type": "stream",
     "text": [
      ":: loading settings :: url = jar:file:/Library/Frameworks/Python.framework/Versions/3.10/lib/python3.10/site-packages/pyspark/jars/ivy-2.5.1.jar!/org/apache/ivy/core/settings/ivysettings.xml\n"
     ]
    },
    {
     "name": "stderr",
     "output_type": "stream",
     "text": [
      "Ivy Default Cache set to: /Users/soniasusanto/.ivy2/cache\n",
      "The jars for the packages stored in: /Users/soniasusanto/.ivy2/jars\n",
      "com.johnsnowlabs.nlp#spark-nlp_2.12 added as a dependency\n",
      ":: resolving dependencies :: org.apache.spark#spark-submit-parent-47f41d5e-0073-491b-ba55-26ef4d8322de;1.0\n",
      "\tconfs: [default]\n",
      "\tfound com.johnsnowlabs.nlp#spark-nlp_2.12;5.3.3 in central\n",
      "\tfound com.typesafe#config;1.4.2 in central\n",
      "\tfound org.rocksdb#rocksdbjni;6.29.5 in central\n",
      "\tfound com.amazonaws#aws-java-sdk-s3;1.12.500 in central\n",
      "\tfound com.amazonaws#aws-java-sdk-kms;1.12.500 in central\n",
      "\tfound com.amazonaws#aws-java-sdk-core;1.12.500 in central\n",
      "\tfound commons-logging#commons-logging;1.1.3 in central\n",
      "\tfound commons-codec#commons-codec;1.15 in local-m2-cache\n",
      "\tfound org.apache.httpcomponents#httpclient;4.5.13 in local-m2-cache\n",
      "\tfound org.apache.httpcomponents#httpcore;4.4.13 in local-m2-cache\n",
      "\tfound software.amazon.ion#ion-java;1.0.2 in central\n",
      "\tfound joda-time#joda-time;2.8.1 in central\n",
      "\tfound com.amazonaws#jmespath-java;1.12.500 in central\n",
      "\tfound com.github.universal-automata#liblevenshtein;3.0.0 in central\n",
      "\tfound com.google.protobuf#protobuf-java-util;3.0.0-beta-3 in central\n",
      "\tfound com.google.protobuf#protobuf-java;3.0.0-beta-3 in central\n",
      "\tfound com.google.code.gson#gson;2.3 in central\n",
      "\tfound it.unimi.dsi#fastutil;7.0.12 in central\n",
      "\tfound org.projectlombok#lombok;1.16.8 in central\n",
      "\tfound com.google.cloud#google-cloud-storage;2.20.1 in central\n",
      "\tfound com.google.guava#guava;31.1-jre in local-m2-cache\n",
      "\tfound com.google.guava#failureaccess;1.0.1 in local-m2-cache\n",
      "\tfound com.google.guava#listenablefuture;9999.0-empty-to-avoid-conflict-with-guava in local-m2-cache\n",
      "\tfound com.google.errorprone#error_prone_annotations;2.18.0 in central\n",
      "\tfound com.google.j2objc#j2objc-annotations;1.3 in local-m2-cache\n",
      "\tfound com.google.http-client#google-http-client;1.43.0 in central\n",
      "\tfound io.opencensus#opencensus-contrib-http-util;0.31.1 in central\n",
      "\tfound com.google.http-client#google-http-client-jackson2;1.43.0 in central\n",
      "\tfound com.google.http-client#google-http-client-gson;1.43.0 in central\n",
      "\tfound com.google.api-client#google-api-client;2.2.0 in central\n",
      "\tfound com.google.oauth-client#google-oauth-client;1.34.1 in central\n",
      "\tfound com.google.http-client#google-http-client-apache-v2;1.43.0 in central\n",
      "\tfound com.google.apis#google-api-services-storage;v1-rev20220705-2.0.0 in central\n",
      "\tfound com.google.code.gson#gson;2.10.1 in central\n",
      "\tfound com.google.cloud#google-cloud-core;2.12.0 in central\n",
      "\tfound io.grpc#grpc-context;1.53.0 in central\n",
      "\tfound com.google.auto.value#auto-value-annotations;1.10.1 in central\n",
      "\tfound com.google.auto.value#auto-value;1.10.1 in central\n",
      "\tfound javax.annotation#javax.annotation-api;1.3.2 in local-m2-cache\n",
      "\tfound com.google.cloud#google-cloud-core-http;2.12.0 in central\n",
      "\tfound com.google.http-client#google-http-client-appengine;1.43.0 in central\n",
      "\tfound com.google.api#gax-httpjson;0.108.2 in central\n",
      "\tfound com.google.cloud#google-cloud-core-grpc;2.12.0 in central\n",
      "\tfound io.grpc#grpc-alts;1.53.0 in central\n",
      "\tfound io.grpc#grpc-grpclb;1.53.0 in central\n",
      "\tfound org.conscrypt#conscrypt-openjdk-uber;2.5.2 in central\n",
      "\tfound io.grpc#grpc-auth;1.53.0 in central\n",
      "\tfound io.grpc#grpc-protobuf;1.53.0 in central\n",
      "\tfound io.grpc#grpc-protobuf-lite;1.53.0 in central\n",
      "\tfound io.grpc#grpc-core;1.53.0 in central\n",
      "\tfound com.google.api#gax;2.23.2 in central\n",
      "\tfound com.google.api#gax-grpc;2.23.2 in central\n",
      "\tfound com.google.auth#google-auth-library-credentials;1.16.0 in central\n",
      "\tfound com.google.auth#google-auth-library-oauth2-http;1.16.0 in central\n",
      "\tfound com.google.api#api-common;2.6.2 in central\n",
      "\tfound io.opencensus#opencensus-api;0.31.1 in central\n",
      "\tfound com.google.api.grpc#proto-google-iam-v1;1.9.2 in central\n",
      "\tfound com.google.protobuf#protobuf-java;3.21.12 in central\n",
      "\tfound com.google.protobuf#protobuf-java-util;3.21.12 in central\n",
      "\tfound com.google.api.grpc#proto-google-common-protos;2.14.2 in central\n",
      "\tfound org.threeten#threetenbp;1.6.5 in central\n",
      "\tfound com.google.api.grpc#proto-google-cloud-storage-v2;2.20.1-alpha in central\n",
      "\tfound com.google.api.grpc#grpc-google-cloud-storage-v2;2.20.1-alpha in central\n",
      "\tfound com.google.api.grpc#gapic-google-cloud-storage-v2;2.20.1-alpha in central\n",
      "\tfound com.google.code.findbugs#jsr305;3.0.2 in local-m2-cache\n",
      "\tfound io.grpc#grpc-api;1.53.0 in central\n",
      "\tfound io.grpc#grpc-stub;1.53.0 in central\n",
      "\tfound org.checkerframework#checker-qual;3.31.0 in central\n",
      "\tfound io.perfmark#perfmark-api;0.26.0 in central\n",
      "\tfound com.google.android#annotations;4.1.1.4 in central\n",
      "\tfound org.codehaus.mojo#animal-sniffer-annotations;1.22 in central\n",
      "\tfound io.opencensus#opencensus-proto;0.2.0 in central\n",
      "\tfound io.grpc#grpc-services;1.53.0 in central\n",
      "\tfound com.google.re2j#re2j;1.6 in central\n",
      "\tfound io.grpc#grpc-netty-shaded;1.53.0 in central\n",
      "\tfound io.grpc#grpc-googleapis;1.53.0 in central\n",
      "\tfound io.grpc#grpc-xds;1.53.0 in central\n",
      "\tfound com.navigamez#greex;1.0 in central\n",
      "\tfound dk.brics.automaton#automaton;1.11-8 in central\n",
      "\tfound com.johnsnowlabs.nlp#tensorflow-cpu_2.12;0.4.4 in central\n",
      "\tfound com.microsoft.onnxruntime#onnxruntime;1.17.0 in central\n",
      ":: resolution report :: resolve 2682ms :: artifacts dl 122ms\n",
      "\t:: modules in use:\n",
      "\tcom.amazonaws#aws-java-sdk-core;1.12.500 from central in [default]\n",
      "\tcom.amazonaws#aws-java-sdk-kms;1.12.500 from central in [default]\n",
      "\tcom.amazonaws#aws-java-sdk-s3;1.12.500 from central in [default]\n",
      "\tcom.amazonaws#jmespath-java;1.12.500 from central in [default]\n",
      "\tcom.github.universal-automata#liblevenshtein;3.0.0 from central in [default]\n",
      "\tcom.google.android#annotations;4.1.1.4 from central in [default]\n",
      "\tcom.google.api#api-common;2.6.2 from central in [default]\n",
      "\tcom.google.api#gax;2.23.2 from central in [default]\n",
      "\tcom.google.api#gax-grpc;2.23.2 from central in [default]\n",
      "\tcom.google.api#gax-httpjson;0.108.2 from central in [default]\n",
      "\tcom.google.api-client#google-api-client;2.2.0 from central in [default]\n",
      "\tcom.google.api.grpc#gapic-google-cloud-storage-v2;2.20.1-alpha from central in [default]\n",
      "\tcom.google.api.grpc#grpc-google-cloud-storage-v2;2.20.1-alpha from central in [default]\n",
      "\tcom.google.api.grpc#proto-google-cloud-storage-v2;2.20.1-alpha from central in [default]\n",
      "\tcom.google.api.grpc#proto-google-common-protos;2.14.2 from central in [default]\n",
      "\tcom.google.api.grpc#proto-google-iam-v1;1.9.2 from central in [default]\n",
      "\tcom.google.apis#google-api-services-storage;v1-rev20220705-2.0.0 from central in [default]\n",
      "\tcom.google.auth#google-auth-library-credentials;1.16.0 from central in [default]\n",
      "\tcom.google.auth#google-auth-library-oauth2-http;1.16.0 from central in [default]\n",
      "\tcom.google.auto.value#auto-value;1.10.1 from central in [default]\n",
      "\tcom.google.auto.value#auto-value-annotations;1.10.1 from central in [default]\n",
      "\tcom.google.cloud#google-cloud-core;2.12.0 from central in [default]\n",
      "\tcom.google.cloud#google-cloud-core-grpc;2.12.0 from central in [default]\n",
      "\tcom.google.cloud#google-cloud-core-http;2.12.0 from central in [default]\n",
      "\tcom.google.cloud#google-cloud-storage;2.20.1 from central in [default]\n",
      "\tcom.google.code.findbugs#jsr305;3.0.2 from local-m2-cache in [default]\n",
      "\tcom.google.code.gson#gson;2.10.1 from central in [default]\n",
      "\tcom.google.errorprone#error_prone_annotations;2.18.0 from central in [default]\n",
      "\tcom.google.guava#failureaccess;1.0.1 from local-m2-cache in [default]\n",
      "\tcom.google.guava#guava;31.1-jre from local-m2-cache in [default]\n",
      "\tcom.google.guava#listenablefuture;9999.0-empty-to-avoid-conflict-with-guava from local-m2-cache in [default]\n",
      "\tcom.google.http-client#google-http-client;1.43.0 from central in [default]\n",
      "\tcom.google.http-client#google-http-client-apache-v2;1.43.0 from central in [default]\n",
      "\tcom.google.http-client#google-http-client-appengine;1.43.0 from central in [default]\n",
      "\tcom.google.http-client#google-http-client-gson;1.43.0 from central in [default]\n",
      "\tcom.google.http-client#google-http-client-jackson2;1.43.0 from central in [default]\n",
      "\tcom.google.j2objc#j2objc-annotations;1.3 from local-m2-cache in [default]\n",
      "\tcom.google.oauth-client#google-oauth-client;1.34.1 from central in [default]\n",
      "\tcom.google.protobuf#protobuf-java;3.21.12 from central in [default]\n",
      "\tcom.google.protobuf#protobuf-java-util;3.21.12 from central in [default]\n",
      "\tcom.google.re2j#re2j;1.6 from central in [default]\n",
      "\tcom.johnsnowlabs.nlp#spark-nlp_2.12;5.3.3 from central in [default]\n",
      "\tcom.johnsnowlabs.nlp#tensorflow-cpu_2.12;0.4.4 from central in [default]\n",
      "\tcom.microsoft.onnxruntime#onnxruntime;1.17.0 from central in [default]\n",
      "\tcom.navigamez#greex;1.0 from central in [default]\n",
      "\tcom.typesafe#config;1.4.2 from central in [default]\n",
      "\tcommons-codec#commons-codec;1.15 from local-m2-cache in [default]\n",
      "\tcommons-logging#commons-logging;1.1.3 from central in [default]\n",
      "\tdk.brics.automaton#automaton;1.11-8 from central in [default]\n",
      "\tio.grpc#grpc-alts;1.53.0 from central in [default]\n",
      "\tio.grpc#grpc-api;1.53.0 from central in [default]\n",
      "\tio.grpc#grpc-auth;1.53.0 from central in [default]\n",
      "\tio.grpc#grpc-context;1.53.0 from central in [default]\n",
      "\tio.grpc#grpc-core;1.53.0 from central in [default]\n",
      "\tio.grpc#grpc-googleapis;1.53.0 from central in [default]\n",
      "\tio.grpc#grpc-grpclb;1.53.0 from central in [default]\n",
      "\tio.grpc#grpc-netty-shaded;1.53.0 from central in [default]\n",
      "\tio.grpc#grpc-protobuf;1.53.0 from central in [default]\n",
      "\tio.grpc#grpc-protobuf-lite;1.53.0 from central in [default]\n",
      "\tio.grpc#grpc-services;1.53.0 from central in [default]\n",
      "\tio.grpc#grpc-stub;1.53.0 from central in [default]\n",
      "\tio.grpc#grpc-xds;1.53.0 from central in [default]\n",
      "\tio.opencensus#opencensus-api;0.31.1 from central in [default]\n",
      "\tio.opencensus#opencensus-contrib-http-util;0.31.1 from central in [default]\n",
      "\tio.opencensus#opencensus-proto;0.2.0 from central in [default]\n",
      "\tio.perfmark#perfmark-api;0.26.0 from central in [default]\n",
      "\tit.unimi.dsi#fastutil;7.0.12 from central in [default]\n",
      "\tjavax.annotation#javax.annotation-api;1.3.2 from local-m2-cache in [default]\n",
      "\tjoda-time#joda-time;2.8.1 from central in [default]\n",
      "\torg.apache.httpcomponents#httpclient;4.5.13 from local-m2-cache in [default]\n",
      "\torg.apache.httpcomponents#httpcore;4.4.13 from local-m2-cache in [default]\n",
      "\torg.checkerframework#checker-qual;3.31.0 from central in [default]\n",
      "\torg.codehaus.mojo#animal-sniffer-annotations;1.22 from central in [default]\n",
      "\torg.conscrypt#conscrypt-openjdk-uber;2.5.2 from central in [default]\n",
      "\torg.projectlombok#lombok;1.16.8 from central in [default]\n",
      "\torg.rocksdb#rocksdbjni;6.29.5 from central in [default]\n",
      "\torg.threeten#threetenbp;1.6.5 from central in [default]\n",
      "\tsoftware.amazon.ion#ion-java;1.0.2 from central in [default]\n",
      "\t:: evicted modules:\n",
      "\tcommons-logging#commons-logging;1.2 by [commons-logging#commons-logging;1.1.3] in [default]\n",
      "\tcommons-codec#commons-codec;1.11 by [commons-codec#commons-codec;1.15] in [default]\n",
      "\tcom.google.protobuf#protobuf-java-util;3.0.0-beta-3 by [com.google.protobuf#protobuf-java-util;3.21.12] in [default]\n",
      "\tcom.google.protobuf#protobuf-java;3.0.0-beta-3 by [com.google.protobuf#protobuf-java;3.21.12] in [default]\n",
      "\tcom.google.code.gson#gson;2.3 by [com.google.code.gson#gson;2.10.1] in [default]\n",
      "\t---------------------------------------------------------------------\n",
      "\t|                  |            modules            ||   artifacts   |\n",
      "\t|       conf       | number| search|dwnlded|evicted|| number|dwnlded|\n",
      "\t---------------------------------------------------------------------\n",
      "\t|      default     |   83  |   0   |   0   |   5   ||   78  |   0   |\n",
      "\t---------------------------------------------------------------------\n",
      ":: retrieving :: org.apache.spark#spark-submit-parent-47f41d5e-0073-491b-ba55-26ef4d8322de\n",
      "\tconfs: [default]\n",
      "\t0 artifacts copied, 78 already retrieved (0kB/84ms)\n",
      "24/04/29 21:40:57 WARN NativeCodeLoader: Unable to load native-hadoop library for your platform... using builtin-java classes where applicable\n",
      "Setting default log level to \"WARN\".\n",
      "To adjust logging level use sc.setLogLevel(newLevel). For SparkR, use setLogLevel(newLevel).\n"
     ]
    }
   ],
   "source": [
    "from pyspark.sql import SparkSession\n",
    "allocated_memory = 18 * 0.75\n",
    "\n",
    "# create a SparkSession\n",
    "spark = SparkSession.builder.appName(\"ReadJSON\")\\\n",
    ".config(\"spark.executor.memory\", \"6g\") \\\n",
    ".master(\"local[*]\")  \\\n",
    ".config(\"spark.driver.memory\", \"4g\") \\\n",
    ".config(\"spark.network.timeout\", \"800s\")\\\n",
    ".config(\"spark.executor.heartbeatInterval\", \"200s\")\\\n",
    ".config(\"spark.executor.extraJavaOptions\", \"-XX:+UseG1GC\")\\\n",
    ".config(\"spark.driver.extraJavaOptions\", \"-XX:+UseG1GC\")\\\n",
    ".config(\"spark.memory.fraction\", \"0.8\") \\\n",
    ".config(\"spark.jars.packages\", \"com.johnsnowlabs.nlp:spark-nlp_2.12:5.3.3\")\\\n",
    ".getOrCreate()\n",
    "\n",
    "# YOUR FILE PATH MAY BE DIFFERENT, PLEASE ADJUST ACCORDINGLY\n",
    "json_training_file_path =\"../combined_train_data_chunked_10mb_latest.json\""
   ]
  },
  {
   "cell_type": "code",
   "execution_count": 2,
   "metadata": {},
   "outputs": [],
   "source": [
    "import pyspark.sql.functions as F\n",
    "from pyspark.sql.types import IntegerType\n",
    "\n",
    "targetUDF = F.udf(lambda x: 1 if x >= 4.0 else 0, IntegerType())"
   ]
  },
  {
   "cell_type": "code",
   "execution_count": 3,
   "metadata": {},
   "outputs": [],
   "source": [
    "from nltk.stem.porter import PorterStemmer\n",
    "from pyspark import keyword_only\n",
    "import numpy as np\n",
    "import pyspark.sql.functions as F\n",
    "from pyspark.sql import DataFrame\n",
    "from pyspark.sql.types import ArrayType, StringType\n",
    "from pyspark.ml import Transformer\n",
    "from pyspark.ml.param.shared import HasInputCol, HasOutputCol, Param\n",
    "\n",
    "\n",
    "class PorterStemming(Transformer, HasInputCol, HasOutputCol):\n",
    "    \"\"\"\n",
    "    PosterStemming class using the NLTK Porter Stemmer\n",
    "\n",
    "    This comes from https://stackoverflow.com/questions/32331848/create-a-custom-transformer-in-pyspark-ml\n",
    "    Adapted to work with the Porter Stemmer from NLTK.\n",
    "    \"\"\"\n",
    "\n",
    "    @keyword_only\n",
    "    def __init__(self,\n",
    "                 inputCol  : str = None,\n",
    "                 outputCol : str = None,\n",
    "                 min_size  : int = None):\n",
    "        \"\"\"\n",
    "        Constructor takes in the input column name, output column name,\n",
    "        plus the minimum legnth of a token (min_size)\n",
    "        \"\"\"\n",
    "        # call Transformer classes constructor since were extending it.\n",
    "        super(Transformer, self).__init__()\n",
    "\n",
    "        # set Parameter objects minimum token size\n",
    "        self.min_size = Param(self, \"min_size\", \"\")\n",
    "        self._setDefault(min_size=0)\n",
    "\n",
    "        # set the input keywork arguments\n",
    "        kwargs = self._input_kwargs\n",
    "        self.setParams(**kwargs)\n",
    "\n",
    "        # initialize Stemmer object\n",
    "        self.stemmer  = PorterStemmer()\n",
    "\n",
    "\n",
    "    @keyword_only\n",
    "    def setParams(self,\n",
    "                  inputCol  : str = None,\n",
    "                  outputCol : str = None,\n",
    "                  min_size  : int = None\n",
    "      ) -> None:\n",
    "        \"\"\"\n",
    "        Function to set the keyword arguemnts\n",
    "        \"\"\"\n",
    "        kwargs = self._input_kwargs\n",
    "        return self._set(**kwargs)\n",
    "\n",
    "\n",
    "    def _stem_func(self, words  : list) -> list:\n",
    "        \"\"\"\n",
    "        Stemmer function call that performs stemming on a\n",
    "        list of tokens in words and returns a list of tokens\n",
    "        that have meet the minimum length requiremnt.\n",
    "        \"\"\"\n",
    "        # We need a way to get min_size and cannot access it\n",
    "        # with self.min_size\n",
    "        min_size       = self.getMinSize()\n",
    "\n",
    "        # stem that actual tokens by applying\n",
    "        # self.stemmer.stem function to each token in\n",
    "        # the words list\n",
    "        stemmed_words  = map(self.stemmer.stem, words)\n",
    "\n",
    "        # now create the new list of tokens from\n",
    "        # stemmed_words by filtering out those\n",
    "        # that are not of legnth > min_size\n",
    "        filtered_words = filter(lambda x: len(x) > min_size, stemmed_words)\n",
    "\n",
    "        return list(filtered_words)\n",
    "\n",
    "    def _transform(self, df: DataFrame) -> DataFrame:\n",
    "        \"\"\"\n",
    "        Transform function is the method that is called in the\n",
    "        MLPipleline.  We have to override this function for our own use\n",
    "        and have it call the _stem_func.\n",
    "\n",
    "        Notice how it takes in a type DataFrame and returns type Dataframe\n",
    "        \"\"\"\n",
    "        # Get the names of the input and output columns to use\n",
    "        out_col       = self.getOutputCol()\n",
    "        in_col        = self.getInputCol()\n",
    "\n",
    "        # create the stemming function UDF by wrapping the stemmer\n",
    "        # method function\n",
    "        stem_func_udf = F.udf(self._stem_func, ArrayType(StringType()))\n",
    "\n",
    "        # now apply that UDF to the column in the dataframe to return\n",
    "        # a new column that has the same list of words after being stemmed\n",
    "        df2           = df.withColumn(out_col, stem_func_udf(df[in_col]))\n",
    "\n",
    "        return df2\n",
    "\n",
    "\n",
    "    def setMinSize(self,value):\n",
    "        \"\"\"\n",
    "        This method sets the minimum size value\n",
    "        for the _paramMap dictionary.\n",
    "        \"\"\"\n",
    "        self._paramMap[self.min_size] = value\n",
    "        return self\n",
    "\n",
    "    def getMinSize(self) -> int:\n",
    "        \"\"\"\n",
    "        This method uses the parent classes (Transformer)\n",
    "        .getOrDefault method to get the minimum\n",
    "        size of a token.\n",
    "        \"\"\"\n",
    "        return self.getOrDefault(self.min_size)"
   ]
  },
  {
   "cell_type": "code",
   "execution_count": 4,
   "metadata": {},
   "outputs": [],
   "source": [
    "json_objects = []\n",
    "from pyspark.sql.types import StructType, StructField, StringType, FloatType, BooleanType, IntegerType\n",
    "#\"reviewerID\": \"A8WEXFRWX1ZHH\",\n",
    "# \"asin\": \"0209688726\",\n",
    "# \"style\": {\"Color:\": \" AC\"},\n",
    "# \"reviewerName\": \"Goldengate\",\n",
    "# Define the schema\n",
    "schema = StructType([\n",
    "    StructField(\"overall\", FloatType(), True),\n",
    "    StructField(\"verified\", BooleanType(), True),\n",
    "    StructField(\"reviewTime\", StringType(), True),\n",
    "    StructField(\"reviewerID\", StringType(), True),\n",
    "    StructField(\"asin\", StringType(), True),\n",
    "    StructField(\"style\", StructType([StructField(\"Color:\", StringType(), True)]), True),\n",
    "    StructField(\"reviewerName\", StringType(), True),\n",
    "    StructField(\"reviewText\", StringType(), True),\n",
    "    StructField(\"unixReviewTime\", IntegerType(), True)\n",
    "\n",
    "])\n",
    "\n",
    "def pre_process(chunk, run):\n",
    "    if run == 0:\n",
    "        print(\"Processing chunk\")\n",
    "        df = spark.createDataFrame(json_objects, schema=schema)\n",
    "        print('Showing original df')\n",
    "        df.show(20)\n",
    "        reduced_df = df.select(\"overall\", \"reviewerID\", \"asin\", \"reviewText\")\n",
    "        print('Showing a subset of relevant columns from original df')\n",
    "        print('Count:', reduced_df.count())\n",
    "        reduced_df.show(20)\n",
    "        unique_df = reduced_df.dropDuplicates([\"reviewerID\", \"asin\"])\n",
    "        print('Showing df after dropping duplicates')\n",
    "        print('Count:', unique_df.count())\n",
    "        unique_df.show(20)\n",
    "        unique_df = unique_df.filter(unique_df.reviewText.isNotNull())\n",
    "        print('Showing df after removing nulls')\n",
    "        print('Count:', unique_df.count())\n",
    "        unique_df.show(20)\n",
    "        df_sentiment = unique_df.withColumn(\"sentiment\", targetUDF(unique_df[\"overall\"]))\n",
    "        print('Showing df after adding sentiment column')\n",
    "        df_sentiment.show(20)\n",
    "    else:\n",
    "        df = spark.createDataFrame(json_objects, schema=schema)\n",
    "        reduced_df = df.select(\"overall\", \"reviewerID\", \"asin\", \"reviewText\")\n",
    "        unique_df = reduced_df.dropDuplicates([\"reviewerID\", \"asin\"])\n",
    "        unique_df = unique_df.filter(unique_df.reviewText.isNotNull())\n",
    "        df_sentiment = unique_df.withColumn(\"sentiment\", targetUDF(unique_df[\"overall\"]))\n",
    "    return df_sentiment"
   ]
  },
  {
   "cell_type": "code",
   "execution_count": 5,
   "metadata": {},
   "outputs": [],
   "source": [
    "# Building the pipeline for nlp transformers\n",
    "from sparknlp.base import *\n",
    "from pyspark.ml import Pipeline\n",
    "from sparknlp.annotator import Tokenizer, DocumentAssembler, StopWordsCleaner, Normalizer\n",
    "\n",
    "def get_nlp_pipeline():\n",
    "    documentAssembler = DocumentAssembler()\\\n",
    "        .setInputCol(\"reviewText\")\\\n",
    "        .setOutputCol(\"document\")\n",
    "\n",
    "    stopwords_cleaner = StopWordsCleaner()\\\n",
    "        .setInputCols(\"token\")\\\n",
    "        .setOutputCol(\"cleanTokens\")\\\n",
    "        .setCaseSensitive(False)\n",
    "\n",
    "    tokenizer = Tokenizer() \\\n",
    "        .setInputCols([\"document\"]) \\\n",
    "        .setOutputCol(\"token\")\n",
    "\n",
    "    normalizer = Normalizer() \\\n",
    "        .setInputCols([\"token\"]) \\\n",
    "        .setOutputCol(\"normalized\")\\\n",
    "        .setLowercase(True)\\\n",
    "        .setCleanupPatterns([\"[^\\w\\d\\s]\"]) # remove punctuations (keep alphanumeric chars)\n",
    "    # if we don't set CleanupPatterns, it will only keep alphabet letters ([^A-Za-z])\n",
    "\n",
    "\n",
    "    nlpPipeline = Pipeline(stages=[\n",
    "        documentAssembler,\n",
    "        tokenizer,\n",
    "        stopwords_cleaner\n",
    "    ])\n",
    "\n",
    "    return nlpPipeline"
   ]
  },
  {
   "cell_type": "code",
   "execution_count": 6,
   "metadata": {},
   "outputs": [],
   "source": [
    "from pyspark.ml import Pipeline\n",
    "from pyspark.ml.feature import NGram, HashingTF, IDF, Tokenizer as MLTokenizer\n",
    "from pyspark.ml.classification import LogisticRegression\n",
    "\n",
    "bigram = NGram(inputCol=\"stemmed\", outputCol=\"bigrams\", n=2)\n",
    "tf5   = HashingTF(inputCol=\"bigrams\", outputCol=\"rawFeatures\", numFeatures=2e5)\n",
    "# create tokens from reviews\n",
    "tk = MLTokenizer(inputCol= \"reviewText\", outputCol = \"tokens\")\n",
    "stem_pipeline = PorterStemming(inputCol=\"token\", outputCol=\"stemmed\")\n",
    "# create tf-idf for each of the tokens\n",
    "idf = IDF(inputCol=\"rawFeatures\", outputCol=\"features\", minDocFreq=2.0)\n",
    "# create basic logistic regression model\n",
    "lr = LogisticRegression(maxIter=20)\n",
    "\n",
    "bigram_pipeline  = Pipeline(stages= [tk, bigram, tf5, idf, lr])"
   ]
  },
  {
   "cell_type": "code",
   "execution_count": 7,
   "metadata": {},
   "outputs": [
    {
     "name": "stdout",
     "output_type": "stream",
     "text": [
      "Begin preprocessing\n",
      "Processing chunk\n",
      "Showing original df\n"
     ]
    },
    {
     "name": "stderr",
     "output_type": "stream",
     "text": [
      "                                                                                \r"
     ]
    },
    {
     "name": "stdout",
     "output_type": "stream",
     "text": [
      "+-------+--------+-----------+--------------+----------+------+--------------------+--------------------+--------------+\n",
      "|overall|verified| reviewTime|    reviewerID|      asin| style|        reviewerName|          reviewText|unixReviewTime|\n",
      "+-------+--------+-----------+--------------+----------+------+--------------------+--------------------+--------------+\n",
      "|    5.0|    true| 04 5, 2016|A1274GG1EB2JLJ|0486427706|{NULL}|         barbara ann|The pictures are ...|    1459814400|\n",
      "|    5.0|    true|02 13, 2016|A30X5EGBYAZQQK|0486427706|{NULL}|            Samantha|I absolutely love...|    1455321600|\n",
      "|    5.0|    true|12 10, 2015|A3U6UNXLAUY6ZV|0486427706|{NULL}|         CP in Texas|          I love it!|    1449705600|\n",
      "|    5.0|    true|10 26, 2015|A1SAJF5SNM6WJS|0486427706|{NULL}|         LOIS LABIER|MY HUSBAND LOVED ...|    1445817600|\n",
      "|    4.0|    true|09 15, 2015| AHJWO3SI0S0OR|0486427706|{NULL}|      Saundra Hatley|                cool|    1442275200|\n",
      "|    5.0|    true|05 24, 2015| ALLSNTNR6N6UL|0486427706|{NULL}|     Amazon Customer|Exactly as descri...|    1432425600|\n",
      "|    1.0|    true|08 16, 2015|A3O6CP5TT54LJE|0486448789|{NULL}|                Gaby|total waste of mo...|    1439683200|\n",
      "|    5.0|    true|06 17, 2015|A216BPGO0ZBR5N|0486448789|{NULL}|                jean|Nephew, age 5 lov...|    1434499200|\n",
      "|    5.0|    true|06 10, 2015|A3OJCR7TKQIPQM|0486448789|{NULL}|                  PQ|          Very Cute!|    1433894400|\n",
      "|    3.0|   false|03 31, 2015|A2DSZOLDOG70GC|0486448789|{NULL}|            Kalistah|This is pretty mu...|    1427760000|\n",
      "|    5.0|    true|03 18, 2015|A1ZXYT6S1SZ087|0486448789|{NULL}|     sandy lindquist|AGE APPROPIATE. G...|    1426636800|\n",
      "|    4.0|    true|03 16, 2015|A3K4NTIXV7Z559|0486448789|{NULL}|       TexasVaughans|its a cute little...|    1426464000|\n",
      "|    2.0|    true|02 15, 2015|A3EAVL6N8Q6MOA|0486448789|{NULL}|            SharSteg|They were ok but ...|    1423958400|\n",
      "|    5.0|    true|01 30, 2015|A15UXQOOJ0TL8K|0486448789|{NULL}|Vitor Augusto Bos...|        Good product|    1422576000|\n",
      "|    4.0|    true|01 18, 2015| AI3JLLMYH16NZ|0486448789|{NULL}|       Laura Snelson|This was a stocki...|    1421539200|\n",
      "|    5.0|    true| 12 5, 2014|A2KBV1CL6U7CBV|0486448789|{NULL}|  Debra S. Overfield|            Fun gift|    1417737600|\n",
      "|    5.0|    true|11 19, 2014| ARMU5CK7T1RZ9|0486448789|{NULL}|               Olive|          great book|    1416355200|\n",
      "|    5.0|    true|10 22, 2014|A2G7033C3Z61KL|0486448789|{NULL}|     Pamela D. Jones|   Grandson loved it|    1413936000|\n",
      "|    5.0|    true|09 12, 2014|A1NVBHOKOP8N9G|0486448789|{NULL}|        Nancy Baudry|This is a small book|    1410480000|\n",
      "|    5.0|    true| 09 6, 2014|A1NH7LYE1XIICF|0486448789|{NULL}|               karen|a wonderful littl...|    1409961600|\n",
      "+-------+--------+-----------+--------------+----------+------+--------------------+--------------------+--------------+\n",
      "only showing top 20 rows\n",
      "\n",
      "Showing a subset of relevant columns from original df\n"
     ]
    },
    {
     "name": "stderr",
     "output_type": "stream",
     "text": [
      "24/04/29 21:41:28 WARN TaskSetManager: Stage 1 contains a task of very large size (1005 KiB). The maximum recommended task size is 1000 KiB.\n",
      "                                                                                \r"
     ]
    },
    {
     "name": "stdout",
     "output_type": "stream",
     "text": [
      "Count: 17665\n",
      "+-------+--------------+----------+--------------------+\n",
      "|overall|    reviewerID|      asin|          reviewText|\n",
      "+-------+--------------+----------+--------------------+\n",
      "|    5.0|A1274GG1EB2JLJ|0486427706|The pictures are ...|\n",
      "|    5.0|A30X5EGBYAZQQK|0486427706|I absolutely love...|\n",
      "|    5.0|A3U6UNXLAUY6ZV|0486427706|          I love it!|\n",
      "|    5.0|A1SAJF5SNM6WJS|0486427706|MY HUSBAND LOVED ...|\n",
      "|    4.0| AHJWO3SI0S0OR|0486427706|                cool|\n",
      "|    5.0| ALLSNTNR6N6UL|0486427706|Exactly as descri...|\n",
      "|    1.0|A3O6CP5TT54LJE|0486448789|total waste of mo...|\n",
      "|    5.0|A216BPGO0ZBR5N|0486448789|Nephew, age 5 lov...|\n",
      "|    5.0|A3OJCR7TKQIPQM|0486448789|          Very Cute!|\n",
      "|    3.0|A2DSZOLDOG70GC|0486448789|This is pretty mu...|\n",
      "|    5.0|A1ZXYT6S1SZ087|0486448789|AGE APPROPIATE. G...|\n",
      "|    4.0|A3K4NTIXV7Z559|0486448789|its a cute little...|\n",
      "|    2.0|A3EAVL6N8Q6MOA|0486448789|They were ok but ...|\n",
      "|    5.0|A15UXQOOJ0TL8K|0486448789|        Good product|\n",
      "|    4.0| AI3JLLMYH16NZ|0486448789|This was a stocki...|\n",
      "|    5.0|A2KBV1CL6U7CBV|0486448789|            Fun gift|\n",
      "|    5.0| ARMU5CK7T1RZ9|0486448789|          great book|\n",
      "|    5.0|A2G7033C3Z61KL|0486448789|   Grandson loved it|\n",
      "|    5.0|A1NVBHOKOP8N9G|0486448789|This is a small book|\n",
      "|    5.0|A1NH7LYE1XIICF|0486448789|a wonderful littl...|\n",
      "+-------+--------------+----------+--------------------+\n",
      "only showing top 20 rows\n",
      "\n",
      "Showing df after dropping duplicates\n"
     ]
    },
    {
     "name": "stderr",
     "output_type": "stream",
     "text": [
      "24/04/29 21:41:30 WARN TaskSetManager: Stage 5 contains a task of very large size (1005 KiB). The maximum recommended task size is 1000 KiB.\n",
      "24/04/29 21:41:32 WARN TaskSetManager: Stage 11 contains a task of very large size (1005 KiB). The maximum recommended task size is 1000 KiB.\n"
     ]
    },
    {
     "name": "stdout",
     "output_type": "stream",
     "text": [
      "Count: 17602\n"
     ]
    },
    {
     "name": "stderr",
     "output_type": "stream",
     "text": [
      "                                                                                \r"
     ]
    },
    {
     "name": "stdout",
     "output_type": "stream",
     "text": [
      "+-------+--------------------+----------+--------------------+\n",
      "|overall|          reviewerID|      asin|          reviewText|\n",
      "+-------+--------------------+----------+--------------------+\n",
      "|    5.0|A0482121TDG9NDZIJPKR|B00000K3BR|havent had a chan...|\n",
      "|    2.0|A0516005NLXNKCMT2YI9|B00000K3BR|I really wanted t...|\n",
      "|    5.0|      A100UD67AHFODS|0975277324|There aren't enou...|\n",
      "|    5.0|      A101THPNN8FBB5|B00000DMF5| Perfect! Thank you!|\n",
      "|    5.0|      A1047P9FLHTDZJ|B00000IZGI|Great travel size...|\n",
      "|    2.0|      A104FIKJTC7PGB|B00000J1E2|Falls into itself...|\n",
      "|    5.0|      A1084SNUEXOQJY|8499004768|I have only used ...|\n",
      "|    1.0|      A108TM6JIPEPIC|B00000IVZJ|This is pretty mu...|\n",
      "|    4.0|      A108TYQMA932C4|1616616598|Others have cover...|\n",
      "|    3.0|      A109ZTTYWCH3OS|B00000IWD9|The compact size ...|\n",
      "|    5.0|      A10BFWUY7NEE9H|B00001QEAJ|                Cute|\n",
      "|    5.0|      A10DB0H2NZF11E|B00000DMDJ|My son is a huge ...|\n",
      "|    3.0|      A10HF288PYJ7AF|0975277324|Ticket to Ride is...|\n",
      "|    5.0|      A10HOR83EN1YNS|B00000IZOU|This toy is easil...|\n",
      "|    4.0|      A10ITJK80QY8PM|1932188126|I really like Scr...|\n",
      "|    5.0|      A10ITJK80QY8PM|B00000IZJB|This is a classic...|\n",
      "|    5.0|      A10JVP8ROXXQ7B|B00000J1DM|My grandson loves...|\n",
      "|    5.0|      A10KEVPK6PBH5M|B00000DMFD|Super old school ...|\n",
      "|    5.0|      A10L9NQO44OLOU|B00000IV8D|INITIALLY:  Extre...|\n",
      "|    5.0|      A10LU4EDJ82UFQ|B00001QHVP|Great value.  Top...|\n",
      "+-------+--------------------+----------+--------------------+\n",
      "only showing top 20 rows\n",
      "\n",
      "Showing df after removing nulls\n"
     ]
    },
    {
     "name": "stderr",
     "output_type": "stream",
     "text": [
      "24/04/29 21:41:34 WARN TaskSetManager: Stage 14 contains a task of very large size (1005 KiB). The maximum recommended task size is 1000 KiB.\n",
      "24/04/29 21:41:36 WARN TaskSetManager: Stage 20 contains a task of very large size (1005 KiB). The maximum recommended task size is 1000 KiB.\n"
     ]
    },
    {
     "name": "stdout",
     "output_type": "stream",
     "text": [
      "Count: 17599\n"
     ]
    },
    {
     "name": "stderr",
     "output_type": "stream",
     "text": [
      "                                                                                \r"
     ]
    },
    {
     "name": "stdout",
     "output_type": "stream",
     "text": [
      "+-------+--------------------+----------+--------------------+\n",
      "|overall|          reviewerID|      asin|          reviewText|\n",
      "+-------+--------------------+----------+--------------------+\n",
      "|    5.0|A0482121TDG9NDZIJPKR|B00000K3BR|havent had a chan...|\n",
      "|    2.0|A0516005NLXNKCMT2YI9|B00000K3BR|I really wanted t...|\n",
      "|    5.0|      A100UD67AHFODS|0975277324|There aren't enou...|\n",
      "|    5.0|      A101THPNN8FBB5|B00000DMF5| Perfect! Thank you!|\n",
      "|    5.0|      A1047P9FLHTDZJ|B00000IZGI|Great travel size...|\n",
      "|    2.0|      A104FIKJTC7PGB|B00000J1E2|Falls into itself...|\n",
      "|    5.0|      A1084SNUEXOQJY|8499004768|I have only used ...|\n",
      "|    1.0|      A108TM6JIPEPIC|B00000IVZJ|This is pretty mu...|\n",
      "|    4.0|      A108TYQMA932C4|1616616598|Others have cover...|\n",
      "|    3.0|      A109ZTTYWCH3OS|B00000IWD9|The compact size ...|\n",
      "|    5.0|      A10BFWUY7NEE9H|B00001QEAJ|                Cute|\n",
      "|    5.0|      A10DB0H2NZF11E|B00000DMDJ|My son is a huge ...|\n",
      "|    3.0|      A10HF288PYJ7AF|0975277324|Ticket to Ride is...|\n",
      "|    5.0|      A10HOR83EN1YNS|B00000IZOU|This toy is easil...|\n",
      "|    4.0|      A10ITJK80QY8PM|1932188126|I really like Scr...|\n",
      "|    5.0|      A10ITJK80QY8PM|B00000IZJB|This is a classic...|\n",
      "|    5.0|      A10JVP8ROXXQ7B|B00000J1DM|My grandson loves...|\n",
      "|    5.0|      A10KEVPK6PBH5M|B00000DMFD|Super old school ...|\n",
      "|    5.0|      A10L9NQO44OLOU|B00000IV8D|INITIALLY:  Extre...|\n",
      "|    5.0|      A10LU4EDJ82UFQ|B00001QHVP|Great value.  Top...|\n",
      "+-------+--------------------+----------+--------------------+\n",
      "only showing top 20 rows\n",
      "\n",
      "Showing df after adding sentiment column\n"
     ]
    },
    {
     "name": "stderr",
     "output_type": "stream",
     "text": [
      "24/04/29 21:41:38 WARN TaskSetManager: Stage 23 contains a task of very large size (1005 KiB). The maximum recommended task size is 1000 KiB.\n",
      "24/04/29 21:41:41 WARN TaskSetManager: Stage 26 contains a task of very large size (1005 KiB). The maximum recommended task size is 1000 KiB.\n"
     ]
    },
    {
     "name": "stdout",
     "output_type": "stream",
     "text": [
      "+-------+--------------------+----------+--------------------+---------+\n",
      "|overall|          reviewerID|      asin|          reviewText|sentiment|\n",
      "+-------+--------------------+----------+--------------------+---------+\n",
      "|    5.0|A0482121TDG9NDZIJPKR|B00000K3BR|havent had a chan...|        1|\n",
      "|    2.0|A0516005NLXNKCMT2YI9|B00000K3BR|I really wanted t...|        0|\n",
      "|    5.0|      A100UD67AHFODS|0975277324|There aren't enou...|        1|\n",
      "|    5.0|      A101THPNN8FBB5|B00000DMF5| Perfect! Thank you!|        1|\n",
      "|    5.0|      A1047P9FLHTDZJ|B00000IZGI|Great travel size...|        1|\n",
      "|    2.0|      A104FIKJTC7PGB|B00000J1E2|Falls into itself...|        0|\n",
      "|    5.0|      A1084SNUEXOQJY|8499004768|I have only used ...|        1|\n",
      "|    1.0|      A108TM6JIPEPIC|B00000IVZJ|This is pretty mu...|        0|\n",
      "|    4.0|      A108TYQMA932C4|1616616598|Others have cover...|        1|\n",
      "|    3.0|      A109ZTTYWCH3OS|B00000IWD9|The compact size ...|        0|\n",
      "|    5.0|      A10BFWUY7NEE9H|B00001QEAJ|                Cute|        1|\n",
      "|    5.0|      A10DB0H2NZF11E|B00000DMDJ|My son is a huge ...|        1|\n",
      "|    3.0|      A10HF288PYJ7AF|0975277324|Ticket to Ride is...|        0|\n",
      "|    5.0|      A10HOR83EN1YNS|B00000IZOU|This toy is easil...|        1|\n",
      "|    4.0|      A10ITJK80QY8PM|1932188126|I really like Scr...|        1|\n",
      "|    5.0|      A10ITJK80QY8PM|B00000IZJB|This is a classic...|        1|\n",
      "|    5.0|      A10JVP8ROXXQ7B|B00000J1DM|My grandson loves...|        1|\n",
      "|    5.0|      A10KEVPK6PBH5M|B00000DMFD|Super old school ...|        1|\n",
      "|    5.0|      A10L9NQO44OLOU|B00000IV8D|INITIALLY:  Extre...|        1|\n",
      "|    5.0|      A10LU4EDJ82UFQ|B00001QHVP|Great value.  Top...|        1|\n",
      "+-------+--------------------+----------+--------------------+---------+\n",
      "only showing top 20 rows\n",
      "\n",
      "Show preprocessed chunk:\n"
     ]
    },
    {
     "name": "stderr",
     "output_type": "stream",
     "text": [
      "                                                                                \r"
     ]
    },
    {
     "name": "stdout",
     "output_type": "stream",
     "text": [
      "+-------+--------------------+----------+--------------------+---------+\n",
      "|overall|          reviewerID|      asin|          reviewText|sentiment|\n",
      "+-------+--------------------+----------+--------------------+---------+\n",
      "|    5.0|A0482121TDG9NDZIJPKR|B00000K3BR|havent had a chan...|        1|\n",
      "|    2.0|A0516005NLXNKCMT2YI9|B00000K3BR|I really wanted t...|        0|\n",
      "|    5.0|      A100UD67AHFODS|0975277324|There aren't enou...|        1|\n",
      "|    5.0|      A101THPNN8FBB5|B00000DMF5| Perfect! Thank you!|        1|\n",
      "|    5.0|      A1047P9FLHTDZJ|B00000IZGI|Great travel size...|        1|\n",
      "|    2.0|      A104FIKJTC7PGB|B00000J1E2|Falls into itself...|        0|\n",
      "|    5.0|      A1084SNUEXOQJY|8499004768|I have only used ...|        1|\n",
      "|    1.0|      A108TM6JIPEPIC|B00000IVZJ|This is pretty mu...|        0|\n",
      "|    4.0|      A108TYQMA932C4|1616616598|Others have cover...|        1|\n",
      "|    3.0|      A109ZTTYWCH3OS|B00000IWD9|The compact size ...|        0|\n",
      "|    5.0|      A10BFWUY7NEE9H|B00001QEAJ|                Cute|        1|\n",
      "|    5.0|      A10DB0H2NZF11E|B00000DMDJ|My son is a huge ...|        1|\n",
      "|    3.0|      A10HF288PYJ7AF|0975277324|Ticket to Ride is...|        0|\n",
      "|    5.0|      A10HOR83EN1YNS|B00000IZOU|This toy is easil...|        1|\n",
      "|    4.0|      A10ITJK80QY8PM|1932188126|I really like Scr...|        1|\n",
      "|    5.0|      A10ITJK80QY8PM|B00000IZJB|This is a classic...|        1|\n",
      "|    5.0|      A10JVP8ROXXQ7B|B00000J1DM|My grandson loves...|        1|\n",
      "|    5.0|      A10KEVPK6PBH5M|B00000DMFD|Super old school ...|        1|\n",
      "|    5.0|      A10L9NQO44OLOU|B00000IV8D|INITIALLY:  Extre...|        1|\n",
      "|    5.0|      A10LU4EDJ82UFQ|B00001QHVP|Great value.  Top...|        1|\n",
      "+-------+--------------------+----------+--------------------+---------+\n",
      "only showing top 20 rows\n",
      "\n",
      "Showing tokenized dataframe\n"
     ]
    },
    {
     "name": "stderr",
     "output_type": "stream",
     "text": [
      "24/04/29 21:41:44 WARN TaskSetManager: Stage 29 contains a task of very large size (1005 KiB). The maximum recommended task size is 1000 KiB.\n",
      "                                                                                \r"
     ]
    },
    {
     "name": "stdout",
     "output_type": "stream",
     "text": [
      "+-------+--------------------+----------+--------------------+---------+--------------------+--------------------+--------------------+\n",
      "|overall|          reviewerID|      asin|          reviewText|sentiment|            document|               token|         cleanTokens|\n",
      "+-------+--------------------+----------+--------------------+---------+--------------------+--------------------+--------------------+\n",
      "|    5.0|A0482121TDG9NDZIJPKR|B00000K3BR|havent had a chan...|        1|[{document, 0, 68...|[{token, 0, 5, ha...|[{token, 0, 5, ha...|\n",
      "|    2.0|A0516005NLXNKCMT2YI9|B00000K3BR|I really wanted t...|        0|[{document, 0, 10...|[{token, 0, 0, I,...|[{token, 2, 7, re...|\n",
      "|    5.0|      A100UD67AHFODS|0975277324|There aren't enou...|        1|[{document, 0, 12...|[{token, 0, 4, Th...|[{token, 13, 18, ...|\n",
      "|    5.0|      A101THPNN8FBB5|B00000DMF5| Perfect! Thank you!|        1|[{document, 0, 18...|[{token, 0, 6, Pe...|[{token, 0, 6, Pe...|\n",
      "|    5.0|      A1047P9FLHTDZJ|B00000IZGI|Great travel size...|        1|[{document, 0, 50...|[{token, 0, 4, Gr...|[{token, 0, 4, Gr...|\n",
      "|    2.0|      A104FIKJTC7PGB|B00000J1E2|Falls into itself...|        0|[{document, 0, 25...|[{token, 0, 4, Fa...|[{token, 0, 4, Fa...|\n",
      "|    5.0|      A1084SNUEXOQJY|8499004768|I have only used ...|        1|[{document, 0, 51...|[{token, 0, 0, I,...|[{token, 12, 15, ...|\n",
      "|    1.0|      A108TM6JIPEPIC|B00000IVZJ|This is pretty mu...|        0|[{document, 0, 50...|[{token, 0, 3, Th...|[{token, 8, 13, p...|\n",
      "|    4.0|      A108TYQMA932C4|1616616598|Others have cover...|        1|[{document, 0, 57...|[{token, 0, 5, Ot...|[{token, 0, 5, Ot...|\n",
      "|    3.0|      A109ZTTYWCH3OS|B00000IWD9|The compact size ...|        0|[{document, 0, 27...|[{token, 0, 2, Th...|[{token, 4, 10, c...|\n",
      "|    5.0|      A10BFWUY7NEE9H|B00001QEAJ|                Cute|        1|[{document, 0, 3,...|[{token, 0, 3, Cu...|[{token, 0, 3, Cu...|\n",
      "|    5.0|      A10DB0H2NZF11E|B00000DMDJ|My son is a huge ...|        1|[{document, 0, 17...|[{token, 0, 1, My...|[{token, 3, 5, so...|\n",
      "|    3.0|      A10HF288PYJ7AF|0975277324|Ticket to Ride is...|        0|[{document, 0, 44...|[{token, 0, 5, Ti...|[{token, 0, 5, Ti...|\n",
      "|    5.0|      A10HOR83EN1YNS|B00000IZOU|This toy is easil...|        1|[{document, 0, 45...|[{token, 0, 3, Th...|[{token, 5, 7, to...|\n",
      "|    4.0|      A10ITJK80QY8PM|1932188126|I really like Scr...|        1|[{document, 0, 38...|[{token, 0, 0, I,...|[{token, 2, 7, re...|\n",
      "|    5.0|      A10ITJK80QY8PM|B00000IZJB|This is a classic...|        1|[{document, 0, 15...|[{token, 0, 3, Th...|[{token, 10, 16, ...|\n",
      "|    5.0|      A10JVP8ROXXQ7B|B00000J1DM|My grandson loves...|        1|[{document, 0, 26...|[{token, 0, 1, My...|[{token, 3, 10, g...|\n",
      "|    5.0|      A10KEVPK6PBH5M|B00000DMFD|Super old school ...|        1|[{document, 0, 14...|[{token, 0, 4, Su...|[{token, 0, 4, Su...|\n",
      "|    5.0|      A10L9NQO44OLOU|B00000IV8D|INITIALLY:  Extre...|        1|[{document, 0, 19...|[{token, 0, 8, IN...|[{token, 0, 8, IN...|\n",
      "|    5.0|      A10LU4EDJ82UFQ|B00001QHVP|Great value.  Top...|        1|[{document, 0, 25...|[{token, 0, 4, Gr...|[{token, 0, 4, Gr...|\n",
      "+-------+--------------------+----------+--------------------+---------+--------------------+--------------------+--------------------+\n",
      "only showing top 20 rows\n",
      "\n",
      "Showing processed tokenized dataframe\n"
     ]
    },
    {
     "name": "stderr",
     "output_type": "stream",
     "text": [
      "24/04/29 21:41:47 WARN TaskSetManager: Stage 32 contains a task of very large size (1005 KiB). The maximum recommended task size is 1000 KiB.\n",
      "24/04/29 21:41:49 WARN TaskSetManager: Stage 35 contains a task of very large size (1005 KiB). The maximum recommended task size is 1000 KiB.\n"
     ]
    },
    {
     "name": "stdout",
     "output_type": "stream",
     "text": [
      "+-------+--------------------+----------+--------------------+---------+--------------------+--------------------+--------------------+\n",
      "|overall|          reviewerID|      asin|          reviewText|sentiment|            document|               token|         cleanTokens|\n",
      "+-------+--------------------+----------+--------------------+---------+--------------------+--------------------+--------------------+\n",
      "|    5.0|A0482121TDG9NDZIJPKR|B00000K3BR|havent had a chan...|        1|[{document, 0, 68...|[{token, 0, 5, ha...|[{token, 0, 5, ha...|\n",
      "|    2.0|A0516005NLXNKCMT2YI9|B00000K3BR|I really wanted t...|        0|[{document, 0, 10...|[{token, 0, 0, I,...|[{token, 2, 7, re...|\n",
      "|    5.0|      A100UD67AHFODS|0975277324|There aren't enou...|        1|[{document, 0, 12...|[{token, 0, 4, Th...|[{token, 13, 18, ...|\n",
      "|    5.0|      A101THPNN8FBB5|B00000DMF5| Perfect! Thank you!|        1|[{document, 0, 18...|[{token, 0, 6, Pe...|[{token, 0, 6, Pe...|\n",
      "|    5.0|      A1047P9FLHTDZJ|B00000IZGI|Great travel size...|        1|[{document, 0, 50...|[{token, 0, 4, Gr...|[{token, 0, 4, Gr...|\n",
      "|    2.0|      A104FIKJTC7PGB|B00000J1E2|Falls into itself...|        0|[{document, 0, 25...|[{token, 0, 4, Fa...|[{token, 0, 4, Fa...|\n",
      "|    5.0|      A1084SNUEXOQJY|8499004768|I have only used ...|        1|[{document, 0, 51...|[{token, 0, 0, I,...|[{token, 12, 15, ...|\n",
      "|    1.0|      A108TM6JIPEPIC|B00000IVZJ|This is pretty mu...|        0|[{document, 0, 50...|[{token, 0, 3, Th...|[{token, 8, 13, p...|\n",
      "|    4.0|      A108TYQMA932C4|1616616598|Others have cover...|        1|[{document, 0, 57...|[{token, 0, 5, Ot...|[{token, 0, 5, Ot...|\n",
      "|    3.0|      A109ZTTYWCH3OS|B00000IWD9|The compact size ...|        0|[{document, 0, 27...|[{token, 0, 2, Th...|[{token, 4, 10, c...|\n",
      "|    5.0|      A10BFWUY7NEE9H|B00001QEAJ|                Cute|        1|[{document, 0, 3,...|[{token, 0, 3, Cu...|[{token, 0, 3, Cu...|\n",
      "|    5.0|      A10DB0H2NZF11E|B00000DMDJ|My son is a huge ...|        1|[{document, 0, 17...|[{token, 0, 1, My...|[{token, 3, 5, so...|\n",
      "|    3.0|      A10HF288PYJ7AF|0975277324|Ticket to Ride is...|        0|[{document, 0, 44...|[{token, 0, 5, Ti...|[{token, 0, 5, Ti...|\n",
      "|    5.0|      A10HOR83EN1YNS|B00000IZOU|This toy is easil...|        1|[{document, 0, 45...|[{token, 0, 3, Th...|[{token, 5, 7, to...|\n",
      "|    4.0|      A10ITJK80QY8PM|1932188126|I really like Scr...|        1|[{document, 0, 38...|[{token, 0, 0, I,...|[{token, 2, 7, re...|\n",
      "|    5.0|      A10ITJK80QY8PM|B00000IZJB|This is a classic...|        1|[{document, 0, 15...|[{token, 0, 3, Th...|[{token, 10, 16, ...|\n",
      "|    5.0|      A10JVP8ROXXQ7B|B00000J1DM|My grandson loves...|        1|[{document, 0, 26...|[{token, 0, 1, My...|[{token, 3, 10, g...|\n",
      "|    5.0|      A10KEVPK6PBH5M|B00000DMFD|Super old school ...|        1|[{document, 0, 14...|[{token, 0, 4, Su...|[{token, 0, 4, Su...|\n",
      "|    5.0|      A10L9NQO44OLOU|B00000IV8D|INITIALLY:  Extre...|        1|[{document, 0, 19...|[{token, 0, 8, IN...|[{token, 0, 8, IN...|\n",
      "|    5.0|      A10LU4EDJ82UFQ|B00001QHVP|Great value.  Top...|        1|[{document, 0, 25...|[{token, 0, 4, Gr...|[{token, 0, 4, Gr...|\n",
      "+-------+--------------------+----------+--------------------+---------+--------------------+--------------------+--------------------+\n",
      "only showing top 20 rows\n",
      "\n",
      "Show transformed chunk:\n"
     ]
    },
    {
     "name": "stderr",
     "output_type": "stream",
     "text": [
      "                                                                                \r"
     ]
    },
    {
     "name": "stdout",
     "output_type": "stream",
     "text": [
      "+--------------------+-----+--------------------+\n",
      "|          reviewText|label|               token|\n",
      "+--------------------+-----+--------------------+\n",
      "|havent had a chan...|    1|[havent, chance, ...|\n",
      "|I really wanted t...|    0|[really, wanted, ...|\n",
      "|There aren't enou...|    1|[enough, adjectiv...|\n",
      "| Perfect! Thank you!|    1|[Perfect, !, Than...|\n",
      "|Great travel size...|    1|[Great, travel, s...|\n",
      "|Falls into itself...|    0|[Falls, stay, ., ...|\n",
      "|I have only used ...|    1|[used, twice, far...|\n",
      "|This is pretty mu...|    0|[pretty, much, le...|\n",
      "|Others have cover...|    1|[Others, covered,...|\n",
      "|The compact size ...|    0|[compact, size, n...|\n",
      "|                Cute|    1|              [Cute]|\n",
      "|My son is a huge ...|    1|[son, huge, Curio...|\n",
      "|Ticket to Ride is...|    0|[Ticket, Ride, ok...|\n",
      "|This toy is easil...|    1|[toy, easily, one...|\n",
      "|I really like Scr...|    1|[really, like, Sc...|\n",
      "|This is a classic...|    1|[classic, never, ...|\n",
      "|My grandson loves...|    1|[grandson, loves,...|\n",
      "|Super old school ...|    1|[Super, old, scho...|\n",
      "|INITIALLY:  Extre...|    1|[INITIALLY, :, Ex...|\n",
      "|Great value.  Top...|    1|[Great, value, .,...|\n",
      "+--------------------+-----+--------------------+\n",
      "only showing top 20 rows\n",
      "\n",
      "Run 0\n"
     ]
    },
    {
     "name": "stderr",
     "output_type": "stream",
     "text": [
      "24/04/29 21:41:52 WARN TaskSetManager: Stage 38 contains a task of very large size (1005 KiB). The maximum recommended task size is 1000 KiB.\n",
      "24/04/29 21:42:28 WARN TaskSetManager: Stage 41 contains a task of very large size (1005 KiB). The maximum recommended task size is 1000 KiB.\n",
      "24/04/29 21:42:29 WARN TaskSetManager: Stage 42 contains a task of very large size (1005 KiB). The maximum recommended task size is 1000 KiB.\n",
      "24/04/29 21:42:30 WARN DAGScheduler: Broadcasting large task binary with size 3.3 MiB\n",
      "24/04/29 21:42:55 WARN InstanceBuilder: Failed to load implementation from:dev.ludovic.netlib.blas.JNIBLAS\n",
      "24/04/29 21:42:55 WARN InstanceBuilder: Failed to load implementation from:dev.ludovic.netlib.blas.VectorBLAS\n",
      "24/04/29 21:42:56 WARN DAGScheduler: Broadcasting large task binary with size 3.3 MiB\n",
      "24/04/29 21:43:19 WARN DAGScheduler: Broadcasting large task binary with size 3.3 MiB\n",
      "24/04/29 21:43:19 WARN DAGScheduler: Broadcasting large task binary with size 3.3 MiB\n",
      "24/04/29 21:43:19 WARN DAGScheduler: Broadcasting large task binary with size 3.3 MiB\n",
      "24/04/29 21:43:20 WARN DAGScheduler: Broadcasting large task binary with size 3.3 MiB\n",
      "24/04/29 21:43:20 WARN DAGScheduler: Broadcasting large task binary with size 3.3 MiB\n",
      "24/04/29 21:43:20 WARN DAGScheduler: Broadcasting large task binary with size 3.3 MiB\n",
      "24/04/29 21:43:20 WARN DAGScheduler: Broadcasting large task binary with size 3.3 MiB\n",
      "24/04/29 21:43:20 WARN DAGScheduler: Broadcasting large task binary with size 3.3 MiB\n",
      "24/04/29 21:43:21 WARN DAGScheduler: Broadcasting large task binary with size 3.3 MiB\n",
      "24/04/29 21:43:21 WARN DAGScheduler: Broadcasting large task binary with size 3.3 MiB\n",
      "24/04/29 21:43:21 WARN DAGScheduler: Broadcasting large task binary with size 3.3 MiB\n",
      "24/04/29 21:43:21 WARN DAGScheduler: Broadcasting large task binary with size 3.3 MiB\n",
      "24/04/29 21:43:21 WARN DAGScheduler: Broadcasting large task binary with size 3.3 MiB\n",
      "24/04/29 21:43:22 WARN DAGScheduler: Broadcasting large task binary with size 3.3 MiB\n",
      "24/04/29 21:43:22 WARN DAGScheduler: Broadcasting large task binary with size 3.3 MiB\n",
      "24/04/29 21:43:22 WARN DAGScheduler: Broadcasting large task binary with size 3.3 MiB\n",
      "24/04/29 21:43:22 WARN DAGScheduler: Broadcasting large task binary with size 3.3 MiB\n",
      "24/04/29 21:43:22 WARN DAGScheduler: Broadcasting large task binary with size 3.3 MiB\n",
      "24/04/29 21:43:22 WARN DAGScheduler: Broadcasting large task binary with size 3.3 MiB\n",
      "24/04/29 21:43:22 WARN DAGScheduler: Broadcasting large task binary with size 3.3 MiB\n",
      "24/04/29 21:43:23 WARN DAGScheduler: Broadcasting large task binary with size 3.3 MiB\n",
      "24/04/29 21:43:23 WARN TaskSetManager: Stage 89 contains a task of very large size (1005 KiB). The maximum recommended task size is 1000 KiB.\n",
      "24/04/29 21:43:25 WARN TaskSetManager: Stage 90 contains a task of very large size (1005 KiB). The maximum recommended task size is 1000 KiB.\n",
      "24/04/29 21:43:29 WARN TaskSetManager: Stage 96 contains a task of very large size (3211 KiB). The maximum recommended task size is 1000 KiB.\n",
      "                                                                                \r"
     ]
    },
    {
     "name": "stdout",
     "output_type": "stream",
     "text": [
      "Model saved for current chunk\n",
      "Begin preprocessing\n",
      "Run 1\n"
     ]
    },
    {
     "name": "stderr",
     "output_type": "stream",
     "text": [
      "24/04/29 21:43:40 WARN TaskSetManager: Stage 124 contains a task of very large size (3211 KiB). The maximum recommended task size is 1000 KiB.\n"
     ]
    },
    {
     "name": "stdout",
     "output_type": "stream",
     "text": [
      "Model saved for current chunk\n",
      "Begin preprocessing\n",
      "Run 2\n"
     ]
    },
    {
     "name": "stderr",
     "output_type": "stream",
     "text": [
      "24/04/29 21:43:47 WARN TaskSetManager: Stage 152 contains a task of very large size (3211 KiB). The maximum recommended task size is 1000 KiB.\n"
     ]
    },
    {
     "name": "stdout",
     "output_type": "stream",
     "text": [
      "Model saved for current chunk\n",
      "Begin preprocessing\n",
      "Run 3\n"
     ]
    },
    {
     "name": "stderr",
     "output_type": "stream",
     "text": [
      "24/04/29 21:43:53 WARN TaskSetManager: Stage 180 contains a task of very large size (3211 KiB). The maximum recommended task size is 1000 KiB.\n"
     ]
    },
    {
     "name": "stdout",
     "output_type": "stream",
     "text": [
      "Model saved for current chunk\n",
      "Begin preprocessing\n",
      "Run 4\n"
     ]
    },
    {
     "name": "stderr",
     "output_type": "stream",
     "text": [
      "24/04/29 21:43:59 WARN TaskSetManager: Stage 208 contains a task of very large size (3211 KiB). The maximum recommended task size is 1000 KiB.\n"
     ]
    },
    {
     "name": "stdout",
     "output_type": "stream",
     "text": [
      "Model saved for current chunk\n",
      "Begin preprocessing\n",
      "Run 5\n"
     ]
    },
    {
     "name": "stderr",
     "output_type": "stream",
     "text": [
      "24/04/29 21:44:05 WARN TaskSetManager: Stage 236 contains a task of very large size (3211 KiB). The maximum recommended task size is 1000 KiB.\n"
     ]
    },
    {
     "name": "stdout",
     "output_type": "stream",
     "text": [
      "Model saved for current chunk\n",
      "Begin preprocessing\n",
      "Run 6\n"
     ]
    },
    {
     "name": "stderr",
     "output_type": "stream",
     "text": [
      "24/04/29 21:44:10 WARN TaskSetManager: Stage 264 contains a task of very large size (3211 KiB). The maximum recommended task size is 1000 KiB.\n"
     ]
    },
    {
     "name": "stdout",
     "output_type": "stream",
     "text": [
      "Model saved for current chunk\n",
      "Begin preprocessing\n",
      "Run 7\n"
     ]
    },
    {
     "name": "stderr",
     "output_type": "stream",
     "text": [
      "24/04/29 21:44:16 WARN TaskSetManager: Stage 292 contains a task of very large size (3211 KiB). The maximum recommended task size is 1000 KiB.\n"
     ]
    },
    {
     "name": "stdout",
     "output_type": "stream",
     "text": [
      "Model saved for current chunk\n",
      "Begin preprocessing\n",
      "Run 8\n"
     ]
    },
    {
     "name": "stderr",
     "output_type": "stream",
     "text": [
      "24/04/29 21:44:22 WARN TaskSetManager: Stage 320 contains a task of very large size (3211 KiB). The maximum recommended task size is 1000 KiB.\n"
     ]
    },
    {
     "name": "stdout",
     "output_type": "stream",
     "text": [
      "Model saved for current chunk\n",
      "Begin preprocessing\n",
      "Run 9\n"
     ]
    },
    {
     "name": "stderr",
     "output_type": "stream",
     "text": [
      "24/04/29 21:44:27 WARN TaskSetManager: Stage 348 contains a task of very large size (3211 KiB). The maximum recommended task size is 1000 KiB.\n"
     ]
    },
    {
     "name": "stdout",
     "output_type": "stream",
     "text": [
      "Model saved for current chunk\n",
      "Begin preprocessing\n",
      "Run 10\n"
     ]
    },
    {
     "name": "stderr",
     "output_type": "stream",
     "text": [
      "24/04/29 21:44:33 WARN TaskSetManager: Stage 376 contains a task of very large size (3211 KiB). The maximum recommended task size is 1000 KiB.\n"
     ]
    },
    {
     "name": "stdout",
     "output_type": "stream",
     "text": [
      "Model saved for current chunk\n",
      "Begin preprocessing\n",
      "Run 11\n"
     ]
    },
    {
     "name": "stderr",
     "output_type": "stream",
     "text": [
      "24/04/29 21:44:38 WARN TaskSetManager: Stage 404 contains a task of very large size (3211 KiB). The maximum recommended task size is 1000 KiB.\n"
     ]
    },
    {
     "name": "stdout",
     "output_type": "stream",
     "text": [
      "Model saved for current chunk\n",
      "Begin preprocessing\n",
      "Run 12\n"
     ]
    },
    {
     "name": "stderr",
     "output_type": "stream",
     "text": [
      "24/04/29 21:44:44 WARN TaskSetManager: Stage 432 contains a task of very large size (3211 KiB). The maximum recommended task size is 1000 KiB.\n"
     ]
    },
    {
     "name": "stdout",
     "output_type": "stream",
     "text": [
      "Model saved for current chunk\n",
      "Begin preprocessing\n",
      "Run 13\n"
     ]
    },
    {
     "name": "stderr",
     "output_type": "stream",
     "text": [
      "24/04/29 21:44:50 WARN TaskSetManager: Stage 460 contains a task of very large size (3211 KiB). The maximum recommended task size is 1000 KiB.\n"
     ]
    },
    {
     "name": "stdout",
     "output_type": "stream",
     "text": [
      "Model saved for current chunk\n",
      "Begin preprocessing\n",
      "Run 14\n"
     ]
    },
    {
     "name": "stderr",
     "output_type": "stream",
     "text": [
      "24/04/29 21:44:55 WARN TaskSetManager: Stage 488 contains a task of very large size (3211 KiB). The maximum recommended task size is 1000 KiB.\n"
     ]
    },
    {
     "name": "stdout",
     "output_type": "stream",
     "text": [
      "Model saved for current chunk\n",
      "Begin preprocessing\n",
      "Run 15\n"
     ]
    },
    {
     "name": "stderr",
     "output_type": "stream",
     "text": [
      "24/04/29 21:45:00 WARN TaskSetManager: Stage 516 contains a task of very large size (3211 KiB). The maximum recommended task size is 1000 KiB.\n"
     ]
    },
    {
     "name": "stdout",
     "output_type": "stream",
     "text": [
      "Model saved for current chunk\n",
      "Begin preprocessing\n",
      "Run 16\n"
     ]
    },
    {
     "name": "stderr",
     "output_type": "stream",
     "text": [
      "24/04/29 21:45:06 WARN TaskSetManager: Stage 544 contains a task of very large size (3211 KiB). The maximum recommended task size is 1000 KiB.\n"
     ]
    },
    {
     "name": "stdout",
     "output_type": "stream",
     "text": [
      "Model saved for current chunk\n",
      "Begin preprocessing\n",
      "Run 17\n"
     ]
    },
    {
     "name": "stderr",
     "output_type": "stream",
     "text": [
      "24/04/29 21:45:11 WARN TaskSetManager: Stage 572 contains a task of very large size (3211 KiB). The maximum recommended task size is 1000 KiB.\n"
     ]
    },
    {
     "name": "stdout",
     "output_type": "stream",
     "text": [
      "Model saved for current chunk\n",
      "Begin preprocessing\n",
      "Run 18\n"
     ]
    },
    {
     "name": "stderr",
     "output_type": "stream",
     "text": [
      "24/04/29 21:45:16 WARN TaskSetManager: Stage 600 contains a task of very large size (3211 KiB). The maximum recommended task size is 1000 KiB.\n"
     ]
    },
    {
     "name": "stdout",
     "output_type": "stream",
     "text": [
      "Model saved for current chunk\n",
      "Begin preprocessing\n",
      "Run 19\n"
     ]
    },
    {
     "name": "stderr",
     "output_type": "stream",
     "text": [
      "24/04/29 21:45:21 WARN TaskSetManager: Stage 628 contains a task of very large size (3211 KiB). The maximum recommended task size is 1000 KiB.\n"
     ]
    },
    {
     "name": "stdout",
     "output_type": "stream",
     "text": [
      "Model saved for current chunk\n",
      "Begin preprocessing\n",
      "Run 20\n"
     ]
    },
    {
     "name": "stderr",
     "output_type": "stream",
     "text": [
      "24/04/29 21:45:27 WARN TaskSetManager: Stage 656 contains a task of very large size (3211 KiB). The maximum recommended task size is 1000 KiB.\n"
     ]
    },
    {
     "name": "stdout",
     "output_type": "stream",
     "text": [
      "Model saved for current chunk\n",
      "Begin preprocessing\n",
      "Run 21\n"
     ]
    },
    {
     "name": "stderr",
     "output_type": "stream",
     "text": [
      "24/04/29 21:45:33 WARN TaskSetManager: Stage 684 contains a task of very large size (3211 KiB). The maximum recommended task size is 1000 KiB.\n"
     ]
    },
    {
     "name": "stdout",
     "output_type": "stream",
     "text": [
      "Model saved for current chunk\n",
      "Begin preprocessing\n",
      "Run 22\n"
     ]
    },
    {
     "name": "stderr",
     "output_type": "stream",
     "text": [
      "24/04/29 21:45:38 WARN TaskSetManager: Stage 712 contains a task of very large size (3211 KiB). The maximum recommended task size is 1000 KiB.\n"
     ]
    },
    {
     "name": "stdout",
     "output_type": "stream",
     "text": [
      "Model saved for current chunk\n",
      "Begin preprocessing\n",
      "Run 23\n"
     ]
    },
    {
     "name": "stderr",
     "output_type": "stream",
     "text": [
      "24/04/29 21:45:44 WARN TaskSetManager: Stage 740 contains a task of very large size (3211 KiB). The maximum recommended task size is 1000 KiB.\n"
     ]
    },
    {
     "name": "stdout",
     "output_type": "stream",
     "text": [
      "Model saved for current chunk\n",
      "Begin preprocessing\n",
      "Run 24\n"
     ]
    },
    {
     "name": "stderr",
     "output_type": "stream",
     "text": [
      "24/04/29 21:45:49 WARN TaskSetManager: Stage 768 contains a task of very large size (3211 KiB). The maximum recommended task size is 1000 KiB.\n"
     ]
    },
    {
     "name": "stdout",
     "output_type": "stream",
     "text": [
      "Model saved for current chunk\n",
      "Begin preprocessing\n",
      "Run 25\n"
     ]
    },
    {
     "name": "stderr",
     "output_type": "stream",
     "text": [
      "24/04/29 21:45:54 WARN TaskSetManager: Stage 796 contains a task of very large size (3211 KiB). The maximum recommended task size is 1000 KiB.\n"
     ]
    },
    {
     "name": "stdout",
     "output_type": "stream",
     "text": [
      "Model saved for current chunk\n",
      "Begin preprocessing\n",
      "Run 26\n"
     ]
    },
    {
     "name": "stderr",
     "output_type": "stream",
     "text": [
      "24/04/29 21:45:59 WARN TaskSetManager: Stage 824 contains a task of very large size (3211 KiB). The maximum recommended task size is 1000 KiB.\n"
     ]
    },
    {
     "name": "stdout",
     "output_type": "stream",
     "text": [
      "Model saved for current chunk\n",
      "Begin preprocessing\n",
      "Run 27\n"
     ]
    },
    {
     "name": "stderr",
     "output_type": "stream",
     "text": [
      "24/04/29 21:46:04 WARN TaskSetManager: Stage 852 contains a task of very large size (3211 KiB). The maximum recommended task size is 1000 KiB.\n"
     ]
    },
    {
     "name": "stdout",
     "output_type": "stream",
     "text": [
      "Model saved for current chunk\n",
      "Begin preprocessing\n",
      "Run 28\n"
     ]
    },
    {
     "name": "stderr",
     "output_type": "stream",
     "text": [
      "24/04/29 21:46:09 WARN TaskSetManager: Stage 880 contains a task of very large size (3211 KiB). The maximum recommended task size is 1000 KiB.\n"
     ]
    },
    {
     "name": "stdout",
     "output_type": "stream",
     "text": [
      "Model saved for current chunk\n",
      "Begin preprocessing\n",
      "Run 29\n"
     ]
    },
    {
     "name": "stderr",
     "output_type": "stream",
     "text": [
      "24/04/29 21:46:14 WARN TaskSetManager: Stage 908 contains a task of very large size (3211 KiB). The maximum recommended task size is 1000 KiB.\n"
     ]
    },
    {
     "name": "stdout",
     "output_type": "stream",
     "text": [
      "Model saved for current chunk\n",
      "Begin preprocessing\n",
      "Run 30\n"
     ]
    },
    {
     "name": "stderr",
     "output_type": "stream",
     "text": [
      "24/04/29 21:46:19 WARN TaskSetManager: Stage 936 contains a task of very large size (3211 KiB). The maximum recommended task size is 1000 KiB.\n"
     ]
    },
    {
     "name": "stdout",
     "output_type": "stream",
     "text": [
      "Model saved for current chunk\n",
      "Begin preprocessing\n",
      "Run 31\n"
     ]
    },
    {
     "name": "stderr",
     "output_type": "stream",
     "text": [
      "24/04/29 21:46:24 WARN TaskSetManager: Stage 964 contains a task of very large size (3211 KiB). The maximum recommended task size is 1000 KiB.\n"
     ]
    },
    {
     "name": "stdout",
     "output_type": "stream",
     "text": [
      "Model saved for current chunk\n",
      "Begin preprocessing\n",
      "Run 32\n"
     ]
    },
    {
     "name": "stderr",
     "output_type": "stream",
     "text": [
      "24/04/29 21:46:29 WARN TaskSetManager: Stage 992 contains a task of very large size (3211 KiB). The maximum recommended task size is 1000 KiB.\n"
     ]
    },
    {
     "name": "stdout",
     "output_type": "stream",
     "text": [
      "Model saved for current chunk\n",
      "Begin preprocessing\n",
      "Run 33\n"
     ]
    },
    {
     "name": "stderr",
     "output_type": "stream",
     "text": [
      "24/04/29 21:46:33 WARN TaskSetManager: Stage 1020 contains a task of very large size (3211 KiB). The maximum recommended task size is 1000 KiB.\n"
     ]
    },
    {
     "name": "stdout",
     "output_type": "stream",
     "text": [
      "Model saved for current chunk\n",
      "Begin preprocessing\n",
      "Run 34\n"
     ]
    },
    {
     "name": "stderr",
     "output_type": "stream",
     "text": [
      "24/04/29 21:46:39 WARN TaskSetManager: Stage 1048 contains a task of very large size (3211 KiB). The maximum recommended task size is 1000 KiB.\n"
     ]
    },
    {
     "name": "stdout",
     "output_type": "stream",
     "text": [
      "Model saved for current chunk\n",
      "Begin preprocessing\n",
      "Run 35\n"
     ]
    },
    {
     "name": "stderr",
     "output_type": "stream",
     "text": [
      "24/04/29 21:46:44 WARN TaskSetManager: Stage 1076 contains a task of very large size (3211 KiB). The maximum recommended task size is 1000 KiB.\n"
     ]
    },
    {
     "name": "stdout",
     "output_type": "stream",
     "text": [
      "Model saved for current chunk\n",
      "Begin preprocessing\n",
      "Run 36\n"
     ]
    },
    {
     "name": "stderr",
     "output_type": "stream",
     "text": [
      "24/04/29 21:46:49 WARN TaskSetManager: Stage 1104 contains a task of very large size (3211 KiB). The maximum recommended task size is 1000 KiB.\n"
     ]
    },
    {
     "name": "stdout",
     "output_type": "stream",
     "text": [
      "Model saved for current chunk\n",
      "Begin preprocessing\n",
      "Run 37\n"
     ]
    },
    {
     "name": "stderr",
     "output_type": "stream",
     "text": [
      "24/04/29 21:46:54 WARN TaskSetManager: Stage 1132 contains a task of very large size (3211 KiB). The maximum recommended task size is 1000 KiB.\n"
     ]
    },
    {
     "name": "stdout",
     "output_type": "stream",
     "text": [
      "Model saved for current chunk\n",
      "Begin preprocessing\n",
      "Run 38\n"
     ]
    },
    {
     "name": "stderr",
     "output_type": "stream",
     "text": [
      "24/04/29 21:46:59 WARN TaskSetManager: Stage 1160 contains a task of very large size (3211 KiB). The maximum recommended task size is 1000 KiB.\n"
     ]
    },
    {
     "name": "stdout",
     "output_type": "stream",
     "text": [
      "Model saved for current chunk\n",
      "Begin preprocessing\n",
      "Run 39\n"
     ]
    },
    {
     "name": "stderr",
     "output_type": "stream",
     "text": [
      "24/04/29 21:47:04 WARN TaskSetManager: Stage 1188 contains a task of very large size (3211 KiB). The maximum recommended task size is 1000 KiB.\n"
     ]
    },
    {
     "name": "stdout",
     "output_type": "stream",
     "text": [
      "Model saved for current chunk\n",
      "Begin preprocessing\n",
      "Run 40\n"
     ]
    },
    {
     "name": "stderr",
     "output_type": "stream",
     "text": [
      "24/04/29 21:47:09 WARN TaskSetManager: Stage 1216 contains a task of very large size (3211 KiB). The maximum recommended task size is 1000 KiB.\n"
     ]
    },
    {
     "name": "stdout",
     "output_type": "stream",
     "text": [
      "Model saved for current chunk\n",
      "Begin preprocessing\n",
      "Run 41\n"
     ]
    },
    {
     "name": "stderr",
     "output_type": "stream",
     "text": [
      "24/04/29 21:47:15 WARN TaskSetManager: Stage 1244 contains a task of very large size (3211 KiB). The maximum recommended task size is 1000 KiB.\n"
     ]
    },
    {
     "name": "stdout",
     "output_type": "stream",
     "text": [
      "Model saved for current chunk\n",
      "Begin preprocessing\n",
      "Run 42\n"
     ]
    },
    {
     "name": "stderr",
     "output_type": "stream",
     "text": [
      "24/04/29 21:47:20 WARN TaskSetManager: Stage 1272 contains a task of very large size (3211 KiB). The maximum recommended task size is 1000 KiB.\n"
     ]
    },
    {
     "name": "stdout",
     "output_type": "stream",
     "text": [
      "Model saved for current chunk\n",
      "Begin preprocessing\n",
      "Run 43\n"
     ]
    },
    {
     "name": "stderr",
     "output_type": "stream",
     "text": [
      "24/04/29 21:47:25 WARN TaskSetManager: Stage 1300 contains a task of very large size (3211 KiB). The maximum recommended task size is 1000 KiB.\n"
     ]
    },
    {
     "name": "stdout",
     "output_type": "stream",
     "text": [
      "Model saved for current chunk\n",
      "Begin preprocessing\n",
      "Run 44\n"
     ]
    },
    {
     "name": "stderr",
     "output_type": "stream",
     "text": [
      "24/04/29 21:47:31 WARN TaskSetManager: Stage 1328 contains a task of very large size (3211 KiB). The maximum recommended task size is 1000 KiB.\n"
     ]
    },
    {
     "name": "stdout",
     "output_type": "stream",
     "text": [
      "Model saved for current chunk\n",
      "Begin preprocessing\n",
      "Run 45\n"
     ]
    },
    {
     "name": "stderr",
     "output_type": "stream",
     "text": [
      "24/04/29 21:47:36 WARN TaskSetManager: Stage 1356 contains a task of very large size (3211 KiB). The maximum recommended task size is 1000 KiB.\n"
     ]
    },
    {
     "name": "stdout",
     "output_type": "stream",
     "text": [
      "Model saved for current chunk\n",
      "Begin preprocessing\n",
      "Run 46\n"
     ]
    },
    {
     "name": "stderr",
     "output_type": "stream",
     "text": [
      "24/04/29 21:47:41 WARN TaskSetManager: Stage 1384 contains a task of very large size (3211 KiB). The maximum recommended task size is 1000 KiB.\n"
     ]
    },
    {
     "name": "stdout",
     "output_type": "stream",
     "text": [
      "Model saved for current chunk\n",
      "Begin preprocessing\n",
      "Run 47\n"
     ]
    },
    {
     "name": "stderr",
     "output_type": "stream",
     "text": [
      "24/04/29 21:47:46 WARN TaskSetManager: Stage 1412 contains a task of very large size (3211 KiB). The maximum recommended task size is 1000 KiB.\n"
     ]
    },
    {
     "name": "stdout",
     "output_type": "stream",
     "text": [
      "Model saved for current chunk\n",
      "Begin preprocessing\n",
      "Run 48\n"
     ]
    },
    {
     "name": "stderr",
     "output_type": "stream",
     "text": [
      "24/04/29 21:47:51 WARN TaskSetManager: Stage 1440 contains a task of very large size (3211 KiB). The maximum recommended task size is 1000 KiB.\n"
     ]
    },
    {
     "name": "stdout",
     "output_type": "stream",
     "text": [
      "Model saved for current chunk\n",
      "Begin preprocessing\n",
      "Run 49\n"
     ]
    },
    {
     "name": "stderr",
     "output_type": "stream",
     "text": [
      "24/04/29 21:47:56 WARN TaskSetManager: Stage 1468 contains a task of very large size (3211 KiB). The maximum recommended task size is 1000 KiB.\n"
     ]
    },
    {
     "name": "stdout",
     "output_type": "stream",
     "text": [
      "Model saved for current chunk\n",
      "Begin preprocessing\n",
      "Run 50\n"
     ]
    },
    {
     "name": "stderr",
     "output_type": "stream",
     "text": [
      "24/04/29 21:48:01 WARN TaskSetManager: Stage 1496 contains a task of very large size (3211 KiB). The maximum recommended task size is 1000 KiB.\n"
     ]
    },
    {
     "name": "stdout",
     "output_type": "stream",
     "text": [
      "Model saved for current chunk\n",
      "Begin preprocessing\n",
      "Run 51\n"
     ]
    },
    {
     "name": "stderr",
     "output_type": "stream",
     "text": [
      "24/04/29 21:48:06 WARN TaskSetManager: Stage 1524 contains a task of very large size (3211 KiB). The maximum recommended task size is 1000 KiB.\n"
     ]
    },
    {
     "name": "stdout",
     "output_type": "stream",
     "text": [
      "Model saved for current chunk\n",
      "Begin preprocessing\n",
      "Run 52\n"
     ]
    },
    {
     "name": "stderr",
     "output_type": "stream",
     "text": [
      "24/04/29 21:48:11 WARN TaskSetManager: Stage 1552 contains a task of very large size (3211 KiB). The maximum recommended task size is 1000 KiB.\n"
     ]
    },
    {
     "name": "stdout",
     "output_type": "stream",
     "text": [
      "Model saved for current chunk\n",
      "Begin preprocessing\n",
      "Run 53\n"
     ]
    },
    {
     "name": "stderr",
     "output_type": "stream",
     "text": [
      "24/04/29 21:48:16 WARN TaskSetManager: Stage 1580 contains a task of very large size (3211 KiB). The maximum recommended task size is 1000 KiB.\n"
     ]
    },
    {
     "name": "stdout",
     "output_type": "stream",
     "text": [
      "Model saved for current chunk\n",
      "Begin preprocessing\n",
      "Run 54\n"
     ]
    },
    {
     "name": "stderr",
     "output_type": "stream",
     "text": [
      "24/04/29 21:48:22 WARN TaskSetManager: Stage 1608 contains a task of very large size (3211 KiB). The maximum recommended task size is 1000 KiB.\n"
     ]
    },
    {
     "name": "stdout",
     "output_type": "stream",
     "text": [
      "Model saved for current chunk\n",
      "Begin preprocessing\n",
      "Run 55\n"
     ]
    },
    {
     "name": "stderr",
     "output_type": "stream",
     "text": [
      "24/04/29 21:48:27 WARN TaskSetManager: Stage 1636 contains a task of very large size (3211 KiB). The maximum recommended task size is 1000 KiB.\n"
     ]
    },
    {
     "name": "stdout",
     "output_type": "stream",
     "text": [
      "Model saved for current chunk\n",
      "Begin preprocessing\n",
      "Run 56\n"
     ]
    },
    {
     "name": "stderr",
     "output_type": "stream",
     "text": [
      "24/04/29 21:48:32 WARN TaskSetManager: Stage 1664 contains a task of very large size (3211 KiB). The maximum recommended task size is 1000 KiB.\n"
     ]
    },
    {
     "name": "stdout",
     "output_type": "stream",
     "text": [
      "Model saved for current chunk\n",
      "Begin preprocessing\n",
      "Run 57\n"
     ]
    },
    {
     "name": "stderr",
     "output_type": "stream",
     "text": [
      "24/04/29 21:48:37 WARN TaskSetManager: Stage 1692 contains a task of very large size (3211 KiB). The maximum recommended task size is 1000 KiB.\n"
     ]
    },
    {
     "name": "stdout",
     "output_type": "stream",
     "text": [
      "Model saved for current chunk\n",
      "Begin preprocessing\n",
      "Run 58\n"
     ]
    },
    {
     "name": "stderr",
     "output_type": "stream",
     "text": [
      "24/04/29 21:48:42 WARN TaskSetManager: Stage 1720 contains a task of very large size (3211 KiB). The maximum recommended task size is 1000 KiB.\n"
     ]
    },
    {
     "name": "stdout",
     "output_type": "stream",
     "text": [
      "Model saved for current chunk\n",
      "Begin preprocessing\n",
      "Run 59\n"
     ]
    },
    {
     "name": "stderr",
     "output_type": "stream",
     "text": [
      "24/04/29 21:48:48 WARN TaskSetManager: Stage 1748 contains a task of very large size (3211 KiB). The maximum recommended task size is 1000 KiB.\n"
     ]
    },
    {
     "name": "stdout",
     "output_type": "stream",
     "text": [
      "Model saved for current chunk\n",
      "Begin preprocessing\n",
      "Run 60\n"
     ]
    },
    {
     "name": "stderr",
     "output_type": "stream",
     "text": [
      "24/04/29 21:48:53 WARN TaskSetManager: Stage 1776 contains a task of very large size (3211 KiB). The maximum recommended task size is 1000 KiB.\n"
     ]
    },
    {
     "name": "stdout",
     "output_type": "stream",
     "text": [
      "Model saved for current chunk\n",
      "Begin preprocessing\n",
      "Run 61\n"
     ]
    },
    {
     "name": "stderr",
     "output_type": "stream",
     "text": [
      "24/04/29 21:48:58 WARN TaskSetManager: Stage 1804 contains a task of very large size (3211 KiB). The maximum recommended task size is 1000 KiB.\n"
     ]
    },
    {
     "name": "stdout",
     "output_type": "stream",
     "text": [
      "Model saved for current chunk\n",
      "Begin preprocessing\n",
      "Run 62\n"
     ]
    },
    {
     "name": "stderr",
     "output_type": "stream",
     "text": [
      "24/04/29 21:49:02 WARN TaskSetManager: Stage 1832 contains a task of very large size (3211 KiB). The maximum recommended task size is 1000 KiB.\n"
     ]
    },
    {
     "name": "stdout",
     "output_type": "stream",
     "text": [
      "Model saved for current chunk\n",
      "Begin preprocessing\n",
      "Run 63\n"
     ]
    },
    {
     "name": "stderr",
     "output_type": "stream",
     "text": [
      "24/04/29 21:49:07 WARN TaskSetManager: Stage 1860 contains a task of very large size (3211 KiB). The maximum recommended task size is 1000 KiB.\n"
     ]
    },
    {
     "name": "stdout",
     "output_type": "stream",
     "text": [
      "Model saved for current chunk\n",
      "Begin preprocessing\n",
      "Run 64\n"
     ]
    },
    {
     "name": "stderr",
     "output_type": "stream",
     "text": [
      "24/04/29 21:49:12 WARN TaskSetManager: Stage 1888 contains a task of very large size (3211 KiB). The maximum recommended task size is 1000 KiB.\n"
     ]
    },
    {
     "name": "stdout",
     "output_type": "stream",
     "text": [
      "Model saved for current chunk\n",
      "Begin preprocessing\n",
      "Run 65\n"
     ]
    },
    {
     "name": "stderr",
     "output_type": "stream",
     "text": [
      "24/04/29 21:49:17 WARN TaskSetManager: Stage 1916 contains a task of very large size (3211 KiB). The maximum recommended task size is 1000 KiB.\n"
     ]
    },
    {
     "name": "stdout",
     "output_type": "stream",
     "text": [
      "Model saved for current chunk\n",
      "Begin preprocessing\n",
      "Run 66\n"
     ]
    },
    {
     "name": "stderr",
     "output_type": "stream",
     "text": [
      "24/04/29 21:49:22 WARN TaskSetManager: Stage 1944 contains a task of very large size (3211 KiB). The maximum recommended task size is 1000 KiB.\n"
     ]
    },
    {
     "name": "stdout",
     "output_type": "stream",
     "text": [
      "Model saved for current chunk\n",
      "Begin preprocessing\n",
      "Run 67\n"
     ]
    },
    {
     "name": "stderr",
     "output_type": "stream",
     "text": [
      "24/04/29 21:49:27 WARN TaskSetManager: Stage 1972 contains a task of very large size (3211 KiB). The maximum recommended task size is 1000 KiB.\n"
     ]
    },
    {
     "name": "stdout",
     "output_type": "stream",
     "text": [
      "Model saved for current chunk\n",
      "Begin preprocessing\n",
      "Run 68\n"
     ]
    },
    {
     "name": "stderr",
     "output_type": "stream",
     "text": [
      "24/04/29 21:49:31 WARN TaskSetManager: Stage 2000 contains a task of very large size (3211 KiB). The maximum recommended task size is 1000 KiB.\n"
     ]
    },
    {
     "name": "stdout",
     "output_type": "stream",
     "text": [
      "Model saved for current chunk\n",
      "Begin preprocessing\n",
      "Run 69\n"
     ]
    },
    {
     "name": "stderr",
     "output_type": "stream",
     "text": [
      "24/04/29 21:49:37 WARN TaskSetManager: Stage 2028 contains a task of very large size (3211 KiB). The maximum recommended task size is 1000 KiB.\n"
     ]
    },
    {
     "name": "stdout",
     "output_type": "stream",
     "text": [
      "Model saved for current chunk\n",
      "Begin preprocessing\n",
      "Run 70\n"
     ]
    },
    {
     "name": "stderr",
     "output_type": "stream",
     "text": [
      "24/04/29 21:49:42 WARN TaskSetManager: Stage 2056 contains a task of very large size (3211 KiB). The maximum recommended task size is 1000 KiB.\n"
     ]
    },
    {
     "name": "stdout",
     "output_type": "stream",
     "text": [
      "Model saved for current chunk\n",
      "Begin preprocessing\n",
      "Run 71\n"
     ]
    },
    {
     "name": "stderr",
     "output_type": "stream",
     "text": [
      "24/04/29 21:49:48 WARN TaskSetManager: Stage 2084 contains a task of very large size (3211 KiB). The maximum recommended task size is 1000 KiB.\n"
     ]
    },
    {
     "name": "stdout",
     "output_type": "stream",
     "text": [
      "Model saved for current chunk\n",
      "Begin preprocessing\n",
      "Run 72\n"
     ]
    },
    {
     "name": "stderr",
     "output_type": "stream",
     "text": [
      "24/04/29 21:49:53 WARN TaskSetManager: Stage 2112 contains a task of very large size (3211 KiB). The maximum recommended task size is 1000 KiB.\n"
     ]
    },
    {
     "name": "stdout",
     "output_type": "stream",
     "text": [
      "Model saved for current chunk\n",
      "Begin preprocessing\n",
      "Run 73\n"
     ]
    },
    {
     "name": "stderr",
     "output_type": "stream",
     "text": [
      "24/04/29 21:49:57 WARN TaskSetManager: Stage 2140 contains a task of very large size (3211 KiB). The maximum recommended task size is 1000 KiB.\n"
     ]
    },
    {
     "name": "stdout",
     "output_type": "stream",
     "text": [
      "Model saved for current chunk\n",
      "Begin preprocessing\n",
      "Run 74\n"
     ]
    },
    {
     "name": "stderr",
     "output_type": "stream",
     "text": [
      "24/04/29 21:50:02 WARN TaskSetManager: Stage 2168 contains a task of very large size (3211 KiB). The maximum recommended task size is 1000 KiB.\n"
     ]
    },
    {
     "name": "stdout",
     "output_type": "stream",
     "text": [
      "Model saved for current chunk\n",
      "Begin preprocessing\n",
      "Run 75\n"
     ]
    },
    {
     "name": "stderr",
     "output_type": "stream",
     "text": [
      "24/04/29 21:50:07 WARN TaskSetManager: Stage 2196 contains a task of very large size (3211 KiB). The maximum recommended task size is 1000 KiB.\n"
     ]
    },
    {
     "name": "stdout",
     "output_type": "stream",
     "text": [
      "Model saved for current chunk\n",
      "Begin preprocessing\n",
      "Run 76\n"
     ]
    },
    {
     "name": "stderr",
     "output_type": "stream",
     "text": [
      "24/04/29 21:50:12 WARN TaskSetManager: Stage 2224 contains a task of very large size (3211 KiB). The maximum recommended task size is 1000 KiB.\n"
     ]
    },
    {
     "name": "stdout",
     "output_type": "stream",
     "text": [
      "Model saved for current chunk\n",
      "Begin preprocessing\n",
      "Run 77\n"
     ]
    },
    {
     "name": "stderr",
     "output_type": "stream",
     "text": [
      "24/04/29 21:50:17 WARN TaskSetManager: Stage 2252 contains a task of very large size (3211 KiB). The maximum recommended task size is 1000 KiB.\n"
     ]
    },
    {
     "name": "stdout",
     "output_type": "stream",
     "text": [
      "Model saved for current chunk\n",
      "Begin preprocessing\n",
      "Run 78\n"
     ]
    },
    {
     "name": "stderr",
     "output_type": "stream",
     "text": [
      "24/04/29 21:50:21 WARN TaskSetManager: Stage 2280 contains a task of very large size (3211 KiB). The maximum recommended task size is 1000 KiB.\n"
     ]
    },
    {
     "name": "stdout",
     "output_type": "stream",
     "text": [
      "Model saved for current chunk\n",
      "Begin preprocessing\n",
      "Run 79\n"
     ]
    },
    {
     "name": "stderr",
     "output_type": "stream",
     "text": [
      "24/04/29 21:50:26 WARN TaskSetManager: Stage 2308 contains a task of very large size (3211 KiB). The maximum recommended task size is 1000 KiB.\n"
     ]
    },
    {
     "name": "stdout",
     "output_type": "stream",
     "text": [
      "Model saved for current chunk\n",
      "Begin preprocessing\n",
      "Run 80\n"
     ]
    },
    {
     "name": "stderr",
     "output_type": "stream",
     "text": [
      "24/04/29 21:50:30 WARN TaskSetManager: Stage 2336 contains a task of very large size (3211 KiB). The maximum recommended task size is 1000 KiB.\n"
     ]
    },
    {
     "name": "stdout",
     "output_type": "stream",
     "text": [
      "Model saved for current chunk\n",
      "Begin preprocessing\n",
      "Run 81\n"
     ]
    },
    {
     "name": "stderr",
     "output_type": "stream",
     "text": [
      "24/04/29 21:50:35 WARN TaskSetManager: Stage 2364 contains a task of very large size (3211 KiB). The maximum recommended task size is 1000 KiB.\n"
     ]
    },
    {
     "name": "stdout",
     "output_type": "stream",
     "text": [
      "Model saved for current chunk\n",
      "Begin preprocessing\n",
      "Run 82\n"
     ]
    },
    {
     "name": "stderr",
     "output_type": "stream",
     "text": [
      "24/04/29 21:50:39 WARN TaskSetManager: Stage 2392 contains a task of very large size (3211 KiB). The maximum recommended task size is 1000 KiB.\n"
     ]
    },
    {
     "name": "stdout",
     "output_type": "stream",
     "text": [
      "Model saved for current chunk\n",
      "Begin preprocessing\n",
      "Run 83\n"
     ]
    },
    {
     "name": "stderr",
     "output_type": "stream",
     "text": [
      "24/04/29 21:50:43 WARN TaskSetManager: Stage 2420 contains a task of very large size (3211 KiB). The maximum recommended task size is 1000 KiB.\n"
     ]
    },
    {
     "name": "stdout",
     "output_type": "stream",
     "text": [
      "Model saved for current chunk\n",
      "Begin preprocessing\n",
      "Run 84\n"
     ]
    },
    {
     "name": "stderr",
     "output_type": "stream",
     "text": [
      "24/04/29 21:50:47 WARN TaskSetManager: Stage 2448 contains a task of very large size (3211 KiB). The maximum recommended task size is 1000 KiB.\n"
     ]
    },
    {
     "name": "stdout",
     "output_type": "stream",
     "text": [
      "Model saved for current chunk\n",
      "Begin preprocessing\n",
      "Run 85\n"
     ]
    },
    {
     "name": "stderr",
     "output_type": "stream",
     "text": [
      "24/04/29 21:50:51 WARN TaskSetManager: Stage 2476 contains a task of very large size (3211 KiB). The maximum recommended task size is 1000 KiB.\n"
     ]
    },
    {
     "name": "stdout",
     "output_type": "stream",
     "text": [
      "Model saved for current chunk\n",
      "Begin preprocessing\n",
      "Run 86\n"
     ]
    },
    {
     "name": "stderr",
     "output_type": "stream",
     "text": [
      "24/04/29 21:50:55 WARN TaskSetManager: Stage 2504 contains a task of very large size (3211 KiB). The maximum recommended task size is 1000 KiB.\n"
     ]
    },
    {
     "name": "stdout",
     "output_type": "stream",
     "text": [
      "Model saved for current chunk\n",
      "Begin preprocessing\n",
      "Run 87\n"
     ]
    },
    {
     "name": "stderr",
     "output_type": "stream",
     "text": [
      "24/04/29 21:50:59 WARN TaskSetManager: Stage 2532 contains a task of very large size (3211 KiB). The maximum recommended task size is 1000 KiB.\n"
     ]
    },
    {
     "name": "stdout",
     "output_type": "stream",
     "text": [
      "Model saved for current chunk\n",
      "Begin preprocessing\n",
      "Run 88\n"
     ]
    },
    {
     "name": "stderr",
     "output_type": "stream",
     "text": [
      "24/04/29 21:51:03 WARN TaskSetManager: Stage 2560 contains a task of very large size (3211 KiB). The maximum recommended task size is 1000 KiB.\n"
     ]
    },
    {
     "name": "stdout",
     "output_type": "stream",
     "text": [
      "Model saved for current chunk\n",
      "Begin preprocessing\n",
      "Run 89\n"
     ]
    },
    {
     "name": "stderr",
     "output_type": "stream",
     "text": [
      "24/04/29 21:51:07 WARN TaskSetManager: Stage 2588 contains a task of very large size (3211 KiB). The maximum recommended task size is 1000 KiB.\n"
     ]
    },
    {
     "name": "stdout",
     "output_type": "stream",
     "text": [
      "Model saved for current chunk\n",
      "Begin preprocessing\n",
      "Run 90\n"
     ]
    },
    {
     "name": "stderr",
     "output_type": "stream",
     "text": [
      "24/04/29 21:51:11 WARN TaskSetManager: Stage 2616 contains a task of very large size (3211 KiB). The maximum recommended task size is 1000 KiB.\n"
     ]
    },
    {
     "name": "stdout",
     "output_type": "stream",
     "text": [
      "Model saved for current chunk\n",
      "Begin preprocessing\n",
      "Run 91\n"
     ]
    },
    {
     "name": "stderr",
     "output_type": "stream",
     "text": [
      "24/04/29 21:51:16 WARN TaskSetManager: Stage 2644 contains a task of very large size (3211 KiB). The maximum recommended task size is 1000 KiB.\n"
     ]
    },
    {
     "name": "stdout",
     "output_type": "stream",
     "text": [
      "Model saved for current chunk\n",
      "Begin preprocessing\n",
      "Run 92\n"
     ]
    },
    {
     "name": "stderr",
     "output_type": "stream",
     "text": [
      "24/04/29 21:51:20 WARN TaskSetManager: Stage 2672 contains a task of very large size (3211 KiB). The maximum recommended task size is 1000 KiB.\n"
     ]
    },
    {
     "name": "stdout",
     "output_type": "stream",
     "text": [
      "Model saved for current chunk\n",
      "Begin preprocessing\n",
      "Run 93\n"
     ]
    },
    {
     "name": "stderr",
     "output_type": "stream",
     "text": [
      "24/04/29 21:51:24 WARN TaskSetManager: Stage 2700 contains a task of very large size (3211 KiB). The maximum recommended task size is 1000 KiB.\n"
     ]
    },
    {
     "name": "stdout",
     "output_type": "stream",
     "text": [
      "Model saved for current chunk\n",
      "Begin preprocessing\n",
      "Run 94\n"
     ]
    },
    {
     "name": "stderr",
     "output_type": "stream",
     "text": [
      "24/04/29 21:51:28 WARN TaskSetManager: Stage 2728 contains a task of very large size (3211 KiB). The maximum recommended task size is 1000 KiB.\n"
     ]
    },
    {
     "name": "stdout",
     "output_type": "stream",
     "text": [
      "Model saved for current chunk\n",
      "Begin preprocessing\n",
      "Run 95\n"
     ]
    },
    {
     "name": "stderr",
     "output_type": "stream",
     "text": [
      "24/04/29 21:51:32 WARN TaskSetManager: Stage 2756 contains a task of very large size (3211 KiB). The maximum recommended task size is 1000 KiB.\n"
     ]
    },
    {
     "name": "stdout",
     "output_type": "stream",
     "text": [
      "Model saved for current chunk\n",
      "Begin preprocessing\n",
      "Run 96\n"
     ]
    },
    {
     "name": "stderr",
     "output_type": "stream",
     "text": [
      "24/04/29 21:51:37 WARN TaskSetManager: Stage 2784 contains a task of very large size (3211 KiB). The maximum recommended task size is 1000 KiB.\n"
     ]
    },
    {
     "name": "stdout",
     "output_type": "stream",
     "text": [
      "Model saved for current chunk\n",
      "Begin preprocessing\n",
      "Run 97\n"
     ]
    },
    {
     "name": "stderr",
     "output_type": "stream",
     "text": [
      "24/04/29 21:51:41 WARN TaskSetManager: Stage 2812 contains a task of very large size (3211 KiB). The maximum recommended task size is 1000 KiB.\n"
     ]
    },
    {
     "name": "stdout",
     "output_type": "stream",
     "text": [
      "Model saved for current chunk\n",
      "Begin preprocessing\n",
      "Run 98\n"
     ]
    },
    {
     "name": "stderr",
     "output_type": "stream",
     "text": [
      "24/04/29 21:51:46 WARN TaskSetManager: Stage 2840 contains a task of very large size (3211 KiB). The maximum recommended task size is 1000 KiB.\n"
     ]
    },
    {
     "name": "stdout",
     "output_type": "stream",
     "text": [
      "Model saved for current chunk\n",
      "Begin preprocessing\n",
      "Run 99\n"
     ]
    },
    {
     "name": "stderr",
     "output_type": "stream",
     "text": [
      "24/04/29 21:51:52 WARN TaskSetManager: Stage 2868 contains a task of very large size (3211 KiB). The maximum recommended task size is 1000 KiB.\n"
     ]
    },
    {
     "name": "stdout",
     "output_type": "stream",
     "text": [
      "Model saved for current chunk\n",
      "Begin preprocessing\n",
      "Run 100\n"
     ]
    },
    {
     "name": "stderr",
     "output_type": "stream",
     "text": [
      "24/04/29 21:51:57 WARN TaskSetManager: Stage 2896 contains a task of very large size (3211 KiB). The maximum recommended task size is 1000 KiB.\n"
     ]
    },
    {
     "name": "stdout",
     "output_type": "stream",
     "text": [
      "Model saved for current chunk\n",
      "Begin preprocessing\n",
      "Run 101\n"
     ]
    },
    {
     "name": "stderr",
     "output_type": "stream",
     "text": [
      "24/04/29 21:52:02 WARN TaskSetManager: Stage 2924 contains a task of very large size (3211 KiB). The maximum recommended task size is 1000 KiB.\n"
     ]
    },
    {
     "name": "stdout",
     "output_type": "stream",
     "text": [
      "Model saved for current chunk\n",
      "Begin preprocessing\n",
      "Run 102\n"
     ]
    },
    {
     "name": "stderr",
     "output_type": "stream",
     "text": [
      "24/04/29 21:52:08 WARN TaskSetManager: Stage 2952 contains a task of very large size (3211 KiB). The maximum recommended task size is 1000 KiB.\n"
     ]
    },
    {
     "name": "stdout",
     "output_type": "stream",
     "text": [
      "Model saved for current chunk\n",
      "Begin preprocessing\n",
      "Run 103\n"
     ]
    },
    {
     "name": "stderr",
     "output_type": "stream",
     "text": [
      "24/04/29 21:52:13 WARN TaskSetManager: Stage 2980 contains a task of very large size (3211 KiB). The maximum recommended task size is 1000 KiB.\n"
     ]
    },
    {
     "name": "stdout",
     "output_type": "stream",
     "text": [
      "Model saved for current chunk\n",
      "Begin preprocessing\n",
      "Run 104\n"
     ]
    },
    {
     "name": "stderr",
     "output_type": "stream",
     "text": [
      "24/04/29 21:52:19 WARN TaskSetManager: Stage 3008 contains a task of very large size (3211 KiB). The maximum recommended task size is 1000 KiB.\n"
     ]
    },
    {
     "name": "stdout",
     "output_type": "stream",
     "text": [
      "Model saved for current chunk\n",
      "Begin preprocessing\n",
      "Run 105\n"
     ]
    },
    {
     "name": "stderr",
     "output_type": "stream",
     "text": [
      "24/04/29 21:52:24 WARN TaskSetManager: Stage 3036 contains a task of very large size (3211 KiB). The maximum recommended task size is 1000 KiB.\n"
     ]
    },
    {
     "name": "stdout",
     "output_type": "stream",
     "text": [
      "Model saved for current chunk\n",
      "Begin preprocessing\n",
      "Run 106\n"
     ]
    },
    {
     "name": "stderr",
     "output_type": "stream",
     "text": [
      "24/04/29 21:52:29 WARN TaskSetManager: Stage 3064 contains a task of very large size (3211 KiB). The maximum recommended task size is 1000 KiB.\n"
     ]
    },
    {
     "name": "stdout",
     "output_type": "stream",
     "text": [
      "Model saved for current chunk\n",
      "Begin preprocessing\n",
      "Run 107\n"
     ]
    },
    {
     "name": "stderr",
     "output_type": "stream",
     "text": [
      "24/04/29 21:52:33 WARN TaskSetManager: Stage 3092 contains a task of very large size (3211 KiB). The maximum recommended task size is 1000 KiB.\n"
     ]
    },
    {
     "name": "stdout",
     "output_type": "stream",
     "text": [
      "Model saved for current chunk\n",
      "Begin preprocessing\n",
      "Run 108\n"
     ]
    },
    {
     "name": "stderr",
     "output_type": "stream",
     "text": [
      "24/04/29 21:52:38 WARN TaskSetManager: Stage 3120 contains a task of very large size (3211 KiB). The maximum recommended task size is 1000 KiB.\n"
     ]
    },
    {
     "name": "stdout",
     "output_type": "stream",
     "text": [
      "Model saved for current chunk\n",
      "Begin preprocessing\n",
      "Run 109\n"
     ]
    },
    {
     "name": "stderr",
     "output_type": "stream",
     "text": [
      "24/04/29 21:52:42 WARN TaskSetManager: Stage 3148 contains a task of very large size (3211 KiB). The maximum recommended task size is 1000 KiB.\n"
     ]
    },
    {
     "name": "stdout",
     "output_type": "stream",
     "text": [
      "Model saved for current chunk\n",
      "Begin preprocessing\n",
      "Run 110\n"
     ]
    },
    {
     "name": "stderr",
     "output_type": "stream",
     "text": [
      "24/04/29 21:52:46 WARN TaskSetManager: Stage 3176 contains a task of very large size (3211 KiB). The maximum recommended task size is 1000 KiB.\n"
     ]
    },
    {
     "name": "stdout",
     "output_type": "stream",
     "text": [
      "Model saved for current chunk\n",
      "Begin preprocessing\n",
      "Run 111\n"
     ]
    },
    {
     "name": "stderr",
     "output_type": "stream",
     "text": [
      "24/04/29 21:52:50 WARN TaskSetManager: Stage 3204 contains a task of very large size (3211 KiB). The maximum recommended task size is 1000 KiB.\n"
     ]
    },
    {
     "name": "stdout",
     "output_type": "stream",
     "text": [
      "Model saved for current chunk\n",
      "Begin preprocessing\n",
      "Run 112\n"
     ]
    },
    {
     "name": "stderr",
     "output_type": "stream",
     "text": [
      "24/04/29 21:52:53 WARN TaskSetManager: Stage 3232 contains a task of very large size (3211 KiB). The maximum recommended task size is 1000 KiB.\n"
     ]
    },
    {
     "name": "stdout",
     "output_type": "stream",
     "text": [
      "Model saved for current chunk\n",
      "Begin preprocessing\n",
      "Run 113\n"
     ]
    },
    {
     "name": "stderr",
     "output_type": "stream",
     "text": [
      "24/04/29 21:52:57 WARN TaskSetManager: Stage 3260 contains a task of very large size (3211 KiB). The maximum recommended task size is 1000 KiB.\n"
     ]
    },
    {
     "name": "stdout",
     "output_type": "stream",
     "text": [
      "Model saved for current chunk\n",
      "Begin preprocessing\n",
      "Run 114\n"
     ]
    },
    {
     "name": "stderr",
     "output_type": "stream",
     "text": [
      "24/04/29 21:53:00 WARN TaskSetManager: Stage 3288 contains a task of very large size (3211 KiB). The maximum recommended task size is 1000 KiB.\n"
     ]
    },
    {
     "name": "stdout",
     "output_type": "stream",
     "text": [
      "Model saved for current chunk\n",
      "Begin preprocessing\n",
      "Run 115\n"
     ]
    },
    {
     "name": "stderr",
     "output_type": "stream",
     "text": [
      "24/04/29 21:53:03 WARN TaskSetManager: Stage 3316 contains a task of very large size (3211 KiB). The maximum recommended task size is 1000 KiB.\n"
     ]
    },
    {
     "name": "stdout",
     "output_type": "stream",
     "text": [
      "Model saved for current chunk\n",
      "Begin preprocessing\n",
      "Run 116\n"
     ]
    },
    {
     "name": "stderr",
     "output_type": "stream",
     "text": [
      "24/04/29 21:53:07 WARN TaskSetManager: Stage 3344 contains a task of very large size (3211 KiB). The maximum recommended task size is 1000 KiB.\n"
     ]
    },
    {
     "name": "stdout",
     "output_type": "stream",
     "text": [
      "Model saved for current chunk\n",
      "Begin preprocessing\n",
      "Run 117\n"
     ]
    },
    {
     "name": "stderr",
     "output_type": "stream",
     "text": [
      "24/04/29 21:53:10 WARN TaskSetManager: Stage 3372 contains a task of very large size (3211 KiB). The maximum recommended task size is 1000 KiB.\n"
     ]
    },
    {
     "name": "stdout",
     "output_type": "stream",
     "text": [
      "Model saved for current chunk\n",
      "Begin preprocessing\n",
      "Run 118\n"
     ]
    },
    {
     "name": "stderr",
     "output_type": "stream",
     "text": [
      "24/04/29 21:53:13 WARN TaskSetManager: Stage 3400 contains a task of very large size (3211 KiB). The maximum recommended task size is 1000 KiB.\n"
     ]
    },
    {
     "name": "stdout",
     "output_type": "stream",
     "text": [
      "Model saved for current chunk\n",
      "Begin preprocessing\n",
      "Run 119\n"
     ]
    },
    {
     "name": "stderr",
     "output_type": "stream",
     "text": [
      "24/04/29 21:53:17 WARN TaskSetManager: Stage 3428 contains a task of very large size (3211 KiB). The maximum recommended task size is 1000 KiB.\n"
     ]
    },
    {
     "name": "stdout",
     "output_type": "stream",
     "text": [
      "Model saved for current chunk\n",
      "Begin preprocessing\n",
      "Run 120\n"
     ]
    },
    {
     "name": "stderr",
     "output_type": "stream",
     "text": [
      "24/04/29 21:53:21 WARN TaskSetManager: Stage 3456 contains a task of very large size (3211 KiB). The maximum recommended task size is 1000 KiB.\n"
     ]
    },
    {
     "name": "stdout",
     "output_type": "stream",
     "text": [
      "Model saved for current chunk\n",
      "Begin preprocessing\n",
      "Run 121\n"
     ]
    },
    {
     "name": "stderr",
     "output_type": "stream",
     "text": [
      "24/04/29 21:53:24 WARN TaskSetManager: Stage 3484 contains a task of very large size (3211 KiB). The maximum recommended task size is 1000 KiB.\n"
     ]
    },
    {
     "name": "stdout",
     "output_type": "stream",
     "text": [
      "Model saved for current chunk\n",
      "Begin preprocessing\n",
      "Run 122\n"
     ]
    },
    {
     "name": "stderr",
     "output_type": "stream",
     "text": [
      "24/04/29 21:53:27 WARN TaskSetManager: Stage 3512 contains a task of very large size (3211 KiB). The maximum recommended task size is 1000 KiB.\n"
     ]
    },
    {
     "name": "stdout",
     "output_type": "stream",
     "text": [
      "Model saved for current chunk\n",
      "Begin preprocessing\n",
      "Run 123\n"
     ]
    },
    {
     "name": "stderr",
     "output_type": "stream",
     "text": [
      "24/04/29 21:53:31 WARN TaskSetManager: Stage 3540 contains a task of very large size (3211 KiB). The maximum recommended task size is 1000 KiB.\n"
     ]
    },
    {
     "name": "stdout",
     "output_type": "stream",
     "text": [
      "Model saved for current chunk\n",
      "Begin preprocessing\n",
      "Run 124\n"
     ]
    },
    {
     "name": "stderr",
     "output_type": "stream",
     "text": [
      "24/04/29 21:53:34 WARN TaskSetManager: Stage 3568 contains a task of very large size (3211 KiB). The maximum recommended task size is 1000 KiB.\n"
     ]
    },
    {
     "name": "stdout",
     "output_type": "stream",
     "text": [
      "Model saved for current chunk\n",
      "Begin preprocessing\n",
      "Run 125\n"
     ]
    },
    {
     "name": "stderr",
     "output_type": "stream",
     "text": [
      "24/04/29 21:53:37 WARN TaskSetManager: Stage 3596 contains a task of very large size (3211 KiB). The maximum recommended task size is 1000 KiB.\n"
     ]
    },
    {
     "name": "stdout",
     "output_type": "stream",
     "text": [
      "Model saved for current chunk\n",
      "Begin preprocessing\n",
      "Run 126\n"
     ]
    },
    {
     "name": "stderr",
     "output_type": "stream",
     "text": [
      "24/04/29 21:53:40 WARN TaskSetManager: Stage 3624 contains a task of very large size (3211 KiB). The maximum recommended task size is 1000 KiB.\n"
     ]
    },
    {
     "name": "stdout",
     "output_type": "stream",
     "text": [
      "Model saved for current chunk\n",
      "Begin preprocessing\n",
      "Run 127\n"
     ]
    },
    {
     "name": "stderr",
     "output_type": "stream",
     "text": [
      "24/04/29 21:53:44 WARN TaskSetManager: Stage 3652 contains a task of very large size (3211 KiB). The maximum recommended task size is 1000 KiB.\n"
     ]
    },
    {
     "name": "stdout",
     "output_type": "stream",
     "text": [
      "Model saved for current chunk\n",
      "Begin preprocessing\n",
      "Run 128\n"
     ]
    },
    {
     "name": "stderr",
     "output_type": "stream",
     "text": [
      "24/04/29 21:53:47 WARN TaskSetManager: Stage 3680 contains a task of very large size (3211 KiB). The maximum recommended task size is 1000 KiB.\n"
     ]
    },
    {
     "name": "stdout",
     "output_type": "stream",
     "text": [
      "Model saved for current chunk\n",
      "Begin preprocessing\n",
      "Run 129\n"
     ]
    },
    {
     "name": "stderr",
     "output_type": "stream",
     "text": [
      "24/04/29 21:53:51 WARN TaskSetManager: Stage 3708 contains a task of very large size (3211 KiB). The maximum recommended task size is 1000 KiB.\n"
     ]
    },
    {
     "name": "stdout",
     "output_type": "stream",
     "text": [
      "Model saved for current chunk\n",
      "Begin preprocessing\n",
      "Run 130\n"
     ]
    },
    {
     "name": "stderr",
     "output_type": "stream",
     "text": [
      "24/04/29 21:53:54 WARN TaskSetManager: Stage 3736 contains a task of very large size (3211 KiB). The maximum recommended task size is 1000 KiB.\n"
     ]
    },
    {
     "name": "stdout",
     "output_type": "stream",
     "text": [
      "Model saved for current chunk\n",
      "Begin preprocessing\n",
      "Run 131\n"
     ]
    },
    {
     "name": "stderr",
     "output_type": "stream",
     "text": [
      "24/04/29 21:53:58 WARN TaskSetManager: Stage 3764 contains a task of very large size (3211 KiB). The maximum recommended task size is 1000 KiB.\n"
     ]
    },
    {
     "name": "stdout",
     "output_type": "stream",
     "text": [
      "Model saved for current chunk\n",
      "Begin preprocessing\n",
      "Run 132\n"
     ]
    },
    {
     "name": "stderr",
     "output_type": "stream",
     "text": [
      "24/04/29 21:54:02 WARN TaskSetManager: Stage 3792 contains a task of very large size (3211 KiB). The maximum recommended task size is 1000 KiB.\n"
     ]
    },
    {
     "name": "stdout",
     "output_type": "stream",
     "text": [
      "Model saved for current chunk\n",
      "Begin preprocessing\n",
      "Run 133\n"
     ]
    },
    {
     "name": "stderr",
     "output_type": "stream",
     "text": [
      "24/04/29 21:54:06 WARN TaskSetManager: Stage 3820 contains a task of very large size (3211 KiB). The maximum recommended task size is 1000 KiB.\n"
     ]
    },
    {
     "name": "stdout",
     "output_type": "stream",
     "text": [
      "Model saved for current chunk\n",
      "Begin preprocessing\n",
      "Run 134\n"
     ]
    },
    {
     "name": "stderr",
     "output_type": "stream",
     "text": [
      "24/04/29 21:54:09 WARN TaskSetManager: Stage 3848 contains a task of very large size (3211 KiB). The maximum recommended task size is 1000 KiB.\n"
     ]
    },
    {
     "name": "stdout",
     "output_type": "stream",
     "text": [
      "Model saved for current chunk\n",
      "Begin preprocessing\n",
      "Run 135\n"
     ]
    },
    {
     "name": "stderr",
     "output_type": "stream",
     "text": [
      "24/04/29 21:54:13 WARN TaskSetManager: Stage 3876 contains a task of very large size (3211 KiB). The maximum recommended task size is 1000 KiB.\n"
     ]
    },
    {
     "name": "stdout",
     "output_type": "stream",
     "text": [
      "Model saved for current chunk\n",
      "Begin preprocessing\n",
      "Run 136\n"
     ]
    },
    {
     "name": "stderr",
     "output_type": "stream",
     "text": [
      "24/04/29 21:54:17 WARN TaskSetManager: Stage 3904 contains a task of very large size (3211 KiB). The maximum recommended task size is 1000 KiB.\n"
     ]
    },
    {
     "name": "stdout",
     "output_type": "stream",
     "text": [
      "Model saved for current chunk\n",
      "Begin preprocessing\n",
      "Run 137\n"
     ]
    },
    {
     "name": "stderr",
     "output_type": "stream",
     "text": [
      "24/04/29 21:54:20 WARN TaskSetManager: Stage 3932 contains a task of very large size (3211 KiB). The maximum recommended task size is 1000 KiB.\n"
     ]
    },
    {
     "name": "stdout",
     "output_type": "stream",
     "text": [
      "Model saved for current chunk\n",
      "Begin preprocessing\n",
      "Run 138\n"
     ]
    },
    {
     "name": "stderr",
     "output_type": "stream",
     "text": [
      "24/04/29 21:54:24 WARN TaskSetManager: Stage 3960 contains a task of very large size (3211 KiB). The maximum recommended task size is 1000 KiB.\n"
     ]
    },
    {
     "name": "stdout",
     "output_type": "stream",
     "text": [
      "Model saved for current chunk\n",
      "Begin preprocessing\n",
      "Run 139\n"
     ]
    },
    {
     "name": "stderr",
     "output_type": "stream",
     "text": [
      "24/04/29 21:54:28 WARN TaskSetManager: Stage 3988 contains a task of very large size (3211 KiB). The maximum recommended task size is 1000 KiB.\n"
     ]
    },
    {
     "name": "stdout",
     "output_type": "stream",
     "text": [
      "Model saved for current chunk\n",
      "Begin preprocessing\n",
      "Run 140\n"
     ]
    },
    {
     "name": "stderr",
     "output_type": "stream",
     "text": [
      "24/04/29 21:54:31 WARN TaskSetManager: Stage 4016 contains a task of very large size (3211 KiB). The maximum recommended task size is 1000 KiB.\n"
     ]
    },
    {
     "name": "stdout",
     "output_type": "stream",
     "text": [
      "Model saved for current chunk\n",
      "Begin preprocessing\n",
      "Run 141\n"
     ]
    },
    {
     "name": "stderr",
     "output_type": "stream",
     "text": [
      "24/04/29 21:54:35 WARN TaskSetManager: Stage 4044 contains a task of very large size (3211 KiB). The maximum recommended task size is 1000 KiB.\n"
     ]
    },
    {
     "name": "stdout",
     "output_type": "stream",
     "text": [
      "Model saved for current chunk\n",
      "Begin preprocessing\n",
      "Run 142\n"
     ]
    },
    {
     "name": "stderr",
     "output_type": "stream",
     "text": [
      "24/04/29 21:54:39 WARN TaskSetManager: Stage 4072 contains a task of very large size (3211 KiB). The maximum recommended task size is 1000 KiB.\n"
     ]
    },
    {
     "name": "stdout",
     "output_type": "stream",
     "text": [
      "Model saved for current chunk\n",
      "Begin preprocessing\n",
      "Run 143\n"
     ]
    },
    {
     "name": "stderr",
     "output_type": "stream",
     "text": [
      "24/04/29 21:54:42 WARN TaskSetManager: Stage 4100 contains a task of very large size (3211 KiB). The maximum recommended task size is 1000 KiB.\n"
     ]
    },
    {
     "name": "stdout",
     "output_type": "stream",
     "text": [
      "Model saved for current chunk\n",
      "Begin preprocessing\n",
      "Run 144\n"
     ]
    },
    {
     "name": "stderr",
     "output_type": "stream",
     "text": [
      "24/04/29 21:54:46 WARN TaskSetManager: Stage 4128 contains a task of very large size (3211 KiB). The maximum recommended task size is 1000 KiB.\n"
     ]
    },
    {
     "name": "stdout",
     "output_type": "stream",
     "text": [
      "Model saved for current chunk\n",
      "Begin preprocessing\n",
      "Run 145\n"
     ]
    },
    {
     "name": "stderr",
     "output_type": "stream",
     "text": [
      "24/04/29 21:54:49 WARN TaskSetManager: Stage 4156 contains a task of very large size (3211 KiB). The maximum recommended task size is 1000 KiB.\n"
     ]
    },
    {
     "name": "stdout",
     "output_type": "stream",
     "text": [
      "Model saved for current chunk\n",
      "Begin preprocessing\n",
      "Run 146\n"
     ]
    },
    {
     "name": "stderr",
     "output_type": "stream",
     "text": [
      "24/04/29 21:54:53 WARN TaskSetManager: Stage 4184 contains a task of very large size (3211 KiB). The maximum recommended task size is 1000 KiB.\n"
     ]
    },
    {
     "name": "stdout",
     "output_type": "stream",
     "text": [
      "Model saved for current chunk\n",
      "Begin preprocessing\n",
      "Run 147\n"
     ]
    },
    {
     "name": "stderr",
     "output_type": "stream",
     "text": [
      "24/04/29 21:54:56 WARN TaskSetManager: Stage 4212 contains a task of very large size (3211 KiB). The maximum recommended task size is 1000 KiB.\n"
     ]
    },
    {
     "name": "stdout",
     "output_type": "stream",
     "text": [
      "Model saved for current chunk\n",
      "Begin preprocessing\n",
      "Run 148\n"
     ]
    },
    {
     "name": "stderr",
     "output_type": "stream",
     "text": [
      "24/04/29 21:55:00 WARN TaskSetManager: Stage 4240 contains a task of very large size (3211 KiB). The maximum recommended task size is 1000 KiB.\n"
     ]
    },
    {
     "name": "stdout",
     "output_type": "stream",
     "text": [
      "Model saved for current chunk\n",
      "Begin preprocessing\n",
      "Run 149\n"
     ]
    },
    {
     "name": "stderr",
     "output_type": "stream",
     "text": [
      "24/04/29 21:55:03 WARN TaskSetManager: Stage 4268 contains a task of very large size (3211 KiB). The maximum recommended task size is 1000 KiB.\n"
     ]
    },
    {
     "name": "stdout",
     "output_type": "stream",
     "text": [
      "Model saved for current chunk\n",
      "Begin preprocessing\n",
      "Run 150\n"
     ]
    },
    {
     "name": "stderr",
     "output_type": "stream",
     "text": [
      "24/04/29 21:55:07 WARN TaskSetManager: Stage 4296 contains a task of very large size (3211 KiB). The maximum recommended task size is 1000 KiB.\n"
     ]
    },
    {
     "name": "stdout",
     "output_type": "stream",
     "text": [
      "Model saved for current chunk\n",
      "Begin preprocessing\n",
      "Run 151\n"
     ]
    },
    {
     "name": "stderr",
     "output_type": "stream",
     "text": [
      "24/04/29 21:55:11 WARN TaskSetManager: Stage 4324 contains a task of very large size (3211 KiB). The maximum recommended task size is 1000 KiB.\n"
     ]
    },
    {
     "name": "stdout",
     "output_type": "stream",
     "text": [
      "Model saved for current chunk\n",
      "Begin preprocessing\n",
      "Run 152\n"
     ]
    },
    {
     "name": "stderr",
     "output_type": "stream",
     "text": [
      "24/04/29 21:55:15 WARN TaskSetManager: Stage 4352 contains a task of very large size (3211 KiB). The maximum recommended task size is 1000 KiB.\n"
     ]
    },
    {
     "name": "stdout",
     "output_type": "stream",
     "text": [
      "Model saved for current chunk\n",
      "Begin preprocessing\n",
      "Run 153\n"
     ]
    },
    {
     "name": "stderr",
     "output_type": "stream",
     "text": [
      "24/04/29 21:55:19 WARN TaskSetManager: Stage 4380 contains a task of very large size (3211 KiB). The maximum recommended task size is 1000 KiB.\n"
     ]
    },
    {
     "name": "stdout",
     "output_type": "stream",
     "text": [
      "Model saved for current chunk\n",
      "Begin preprocessing\n",
      "Run 154\n"
     ]
    },
    {
     "name": "stderr",
     "output_type": "stream",
     "text": [
      "24/04/29 21:55:23 WARN TaskSetManager: Stage 4408 contains a task of very large size (3211 KiB). The maximum recommended task size is 1000 KiB.\n"
     ]
    },
    {
     "name": "stdout",
     "output_type": "stream",
     "text": [
      "Model saved for current chunk\n",
      "Begin preprocessing\n",
      "Run 155\n"
     ]
    },
    {
     "name": "stderr",
     "output_type": "stream",
     "text": [
      "24/04/29 21:55:27 WARN TaskSetManager: Stage 4436 contains a task of very large size (3211 KiB). The maximum recommended task size is 1000 KiB.\n"
     ]
    },
    {
     "name": "stdout",
     "output_type": "stream",
     "text": [
      "Model saved for current chunk\n",
      "Begin preprocessing\n",
      "Run 156\n"
     ]
    },
    {
     "name": "stderr",
     "output_type": "stream",
     "text": [
      "24/04/29 21:55:30 WARN TaskSetManager: Stage 4464 contains a task of very large size (3211 KiB). The maximum recommended task size is 1000 KiB.\n"
     ]
    },
    {
     "name": "stdout",
     "output_type": "stream",
     "text": [
      "Model saved for current chunk\n",
      "Begin preprocessing\n",
      "Run 157\n"
     ]
    },
    {
     "name": "stderr",
     "output_type": "stream",
     "text": [
      "24/04/29 21:55:34 WARN TaskSetManager: Stage 4492 contains a task of very large size (3211 KiB). The maximum recommended task size is 1000 KiB.\n"
     ]
    },
    {
     "name": "stdout",
     "output_type": "stream",
     "text": [
      "Model saved for current chunk\n",
      "Begin preprocessing\n",
      "Run 158\n"
     ]
    },
    {
     "name": "stderr",
     "output_type": "stream",
     "text": [
      "24/04/29 21:55:39 WARN TaskSetManager: Stage 4520 contains a task of very large size (3211 KiB). The maximum recommended task size is 1000 KiB.\n"
     ]
    },
    {
     "name": "stdout",
     "output_type": "stream",
     "text": [
      "Model saved for current chunk\n",
      "Begin preprocessing\n",
      "Run 159\n"
     ]
    },
    {
     "name": "stderr",
     "output_type": "stream",
     "text": [
      "24/04/29 21:55:43 WARN TaskSetManager: Stage 4548 contains a task of very large size (3211 KiB). The maximum recommended task size is 1000 KiB.\n"
     ]
    },
    {
     "name": "stdout",
     "output_type": "stream",
     "text": [
      "Model saved for current chunk\n",
      "Begin preprocessing\n",
      "Run 160\n"
     ]
    },
    {
     "name": "stderr",
     "output_type": "stream",
     "text": [
      "24/04/29 21:55:48 WARN TaskSetManager: Stage 4576 contains a task of very large size (3211 KiB). The maximum recommended task size is 1000 KiB.\n"
     ]
    },
    {
     "name": "stdout",
     "output_type": "stream",
     "text": [
      "Model saved for current chunk\n",
      "Begin preprocessing\n",
      "Run 161\n"
     ]
    },
    {
     "name": "stderr",
     "output_type": "stream",
     "text": [
      "24/04/29 21:55:52 WARN TaskSetManager: Stage 4604 contains a task of very large size (3211 KiB). The maximum recommended task size is 1000 KiB.\n"
     ]
    },
    {
     "name": "stdout",
     "output_type": "stream",
     "text": [
      "Model saved for current chunk\n",
      "Begin preprocessing\n",
      "Run 162\n"
     ]
    },
    {
     "name": "stderr",
     "output_type": "stream",
     "text": [
      "24/04/29 21:55:56 WARN TaskSetManager: Stage 4632 contains a task of very large size (3211 KiB). The maximum recommended task size is 1000 KiB.\n"
     ]
    },
    {
     "name": "stdout",
     "output_type": "stream",
     "text": [
      "Model saved for current chunk\n",
      "Begin preprocessing\n",
      "Run 163\n"
     ]
    },
    {
     "name": "stderr",
     "output_type": "stream",
     "text": [
      "24/04/29 21:56:00 WARN TaskSetManager: Stage 4660 contains a task of very large size (3211 KiB). The maximum recommended task size is 1000 KiB.\n"
     ]
    },
    {
     "name": "stdout",
     "output_type": "stream",
     "text": [
      "Model saved for current chunk\n",
      "Begin preprocessing\n",
      "Run 164\n"
     ]
    },
    {
     "name": "stderr",
     "output_type": "stream",
     "text": [
      "24/04/29 21:56:04 WARN TaskSetManager: Stage 4688 contains a task of very large size (3211 KiB). The maximum recommended task size is 1000 KiB.\n"
     ]
    },
    {
     "name": "stdout",
     "output_type": "stream",
     "text": [
      "Model saved for current chunk\n",
      "Begin preprocessing\n",
      "Run 165\n"
     ]
    },
    {
     "name": "stderr",
     "output_type": "stream",
     "text": [
      "24/04/29 21:56:08 WARN TaskSetManager: Stage 4716 contains a task of very large size (3211 KiB). The maximum recommended task size is 1000 KiB.\n"
     ]
    },
    {
     "name": "stdout",
     "output_type": "stream",
     "text": [
      "Model saved for current chunk\n",
      "Begin preprocessing\n",
      "Run 166\n"
     ]
    },
    {
     "name": "stderr",
     "output_type": "stream",
     "text": [
      "24/04/29 21:56:11 WARN TaskSetManager: Stage 4744 contains a task of very large size (3211 KiB). The maximum recommended task size is 1000 KiB.\n"
     ]
    },
    {
     "name": "stdout",
     "output_type": "stream",
     "text": [
      "Model saved for current chunk\n",
      "Begin preprocessing\n",
      "Run 167\n"
     ]
    },
    {
     "name": "stderr",
     "output_type": "stream",
     "text": [
      "24/04/29 21:56:15 WARN TaskSetManager: Stage 4772 contains a task of very large size (3211 KiB). The maximum recommended task size is 1000 KiB.\n"
     ]
    },
    {
     "name": "stdout",
     "output_type": "stream",
     "text": [
      "Model saved for current chunk\n",
      "Begin preprocessing\n",
      "Run 168\n"
     ]
    },
    {
     "name": "stderr",
     "output_type": "stream",
     "text": [
      "24/04/29 21:56:20 WARN TaskSetManager: Stage 4800 contains a task of very large size (3211 KiB). The maximum recommended task size is 1000 KiB.\n"
     ]
    },
    {
     "name": "stdout",
     "output_type": "stream",
     "text": [
      "Model saved for current chunk\n",
      "Begin preprocessing\n",
      "Run 169\n"
     ]
    },
    {
     "name": "stderr",
     "output_type": "stream",
     "text": [
      "24/04/29 21:56:24 WARN TaskSetManager: Stage 4828 contains a task of very large size (3211 KiB). The maximum recommended task size is 1000 KiB.\n"
     ]
    },
    {
     "name": "stdout",
     "output_type": "stream",
     "text": [
      "Model saved for current chunk\n",
      "Begin preprocessing\n",
      "Run 170\n"
     ]
    },
    {
     "name": "stderr",
     "output_type": "stream",
     "text": [
      "24/04/29 21:56:29 WARN TaskSetManager: Stage 4856 contains a task of very large size (3211 KiB). The maximum recommended task size is 1000 KiB.\n"
     ]
    },
    {
     "name": "stdout",
     "output_type": "stream",
     "text": [
      "Model saved for current chunk\n",
      "Begin preprocessing\n",
      "Run 171\n"
     ]
    },
    {
     "name": "stderr",
     "output_type": "stream",
     "text": [
      "24/04/29 21:56:33 WARN TaskSetManager: Stage 4884 contains a task of very large size (3211 KiB). The maximum recommended task size is 1000 KiB.\n"
     ]
    },
    {
     "name": "stdout",
     "output_type": "stream",
     "text": [
      "Model saved for current chunk\n",
      "Begin preprocessing\n",
      "Run 172\n"
     ]
    },
    {
     "name": "stderr",
     "output_type": "stream",
     "text": [
      "24/04/29 21:56:38 WARN TaskSetManager: Stage 4912 contains a task of very large size (3211 KiB). The maximum recommended task size is 1000 KiB.\n"
     ]
    },
    {
     "name": "stdout",
     "output_type": "stream",
     "text": [
      "Model saved for current chunk\n",
      "Begin preprocessing\n",
      "Run 173\n"
     ]
    },
    {
     "name": "stderr",
     "output_type": "stream",
     "text": [
      "24/04/29 21:56:42 WARN TaskSetManager: Stage 4940 contains a task of very large size (3211 KiB). The maximum recommended task size is 1000 KiB.\n"
     ]
    },
    {
     "name": "stdout",
     "output_type": "stream",
     "text": [
      "Model saved for current chunk\n",
      "Begin preprocessing\n",
      "Run 174\n"
     ]
    },
    {
     "name": "stderr",
     "output_type": "stream",
     "text": [
      "24/04/29 21:56:46 WARN TaskSetManager: Stage 4968 contains a task of very large size (3211 KiB). The maximum recommended task size is 1000 KiB.\n"
     ]
    },
    {
     "name": "stdout",
     "output_type": "stream",
     "text": [
      "Model saved for current chunk\n",
      "Begin preprocessing\n",
      "Run 175\n"
     ]
    },
    {
     "name": "stderr",
     "output_type": "stream",
     "text": [
      "24/04/29 21:56:50 WARN TaskSetManager: Stage 4996 contains a task of very large size (3211 KiB). The maximum recommended task size is 1000 KiB.\n"
     ]
    },
    {
     "name": "stdout",
     "output_type": "stream",
     "text": [
      "Model saved for current chunk\n",
      "Begin preprocessing\n",
      "Run 176\n"
     ]
    },
    {
     "name": "stderr",
     "output_type": "stream",
     "text": [
      "24/04/29 21:56:54 WARN TaskSetManager: Stage 5024 contains a task of very large size (3211 KiB). The maximum recommended task size is 1000 KiB.\n"
     ]
    },
    {
     "name": "stdout",
     "output_type": "stream",
     "text": [
      "Model saved for current chunk\n",
      "Begin preprocessing\n",
      "Run 177\n"
     ]
    },
    {
     "name": "stderr",
     "output_type": "stream",
     "text": [
      "24/04/29 21:56:59 WARN TaskSetManager: Stage 5052 contains a task of very large size (3211 KiB). The maximum recommended task size is 1000 KiB.\n"
     ]
    },
    {
     "name": "stdout",
     "output_type": "stream",
     "text": [
      "Model saved for current chunk\n",
      "Begin preprocessing\n",
      "Run 178\n"
     ]
    },
    {
     "name": "stderr",
     "output_type": "stream",
     "text": [
      "24/04/29 21:57:03 WARN TaskSetManager: Stage 5080 contains a task of very large size (3211 KiB). The maximum recommended task size is 1000 KiB.\n"
     ]
    },
    {
     "name": "stdout",
     "output_type": "stream",
     "text": [
      "Model saved for current chunk\n",
      "Begin preprocessing\n",
      "Run 179\n"
     ]
    },
    {
     "name": "stderr",
     "output_type": "stream",
     "text": [
      "24/04/29 21:57:08 WARN TaskSetManager: Stage 5108 contains a task of very large size (3211 KiB). The maximum recommended task size is 1000 KiB.\n"
     ]
    },
    {
     "name": "stdout",
     "output_type": "stream",
     "text": [
      "Model saved for current chunk\n",
      "Begin preprocessing\n",
      "Run 180\n"
     ]
    },
    {
     "name": "stderr",
     "output_type": "stream",
     "text": [
      "24/04/29 21:57:12 WARN TaskSetManager: Stage 5136 contains a task of very large size (3211 KiB). The maximum recommended task size is 1000 KiB.\n"
     ]
    },
    {
     "name": "stdout",
     "output_type": "stream",
     "text": [
      "Model saved for current chunk\n",
      "Begin preprocessing\n",
      "Run 181\n"
     ]
    },
    {
     "name": "stderr",
     "output_type": "stream",
     "text": [
      "24/04/29 21:57:17 WARN TaskSetManager: Stage 5164 contains a task of very large size (3211 KiB). The maximum recommended task size is 1000 KiB.\n"
     ]
    },
    {
     "name": "stdout",
     "output_type": "stream",
     "text": [
      "Model saved for current chunk\n",
      "Begin preprocessing\n",
      "Run 182\n"
     ]
    },
    {
     "name": "stderr",
     "output_type": "stream",
     "text": [
      "24/04/29 21:57:21 WARN TaskSetManager: Stage 5192 contains a task of very large size (3211 KiB). The maximum recommended task size is 1000 KiB.\n"
     ]
    },
    {
     "name": "stdout",
     "output_type": "stream",
     "text": [
      "Model saved for current chunk\n",
      "Begin preprocessing\n",
      "Run 183\n"
     ]
    },
    {
     "name": "stderr",
     "output_type": "stream",
     "text": [
      "24/04/29 21:57:25 WARN TaskSetManager: Stage 5220 contains a task of very large size (3211 KiB). The maximum recommended task size is 1000 KiB.\n"
     ]
    },
    {
     "name": "stdout",
     "output_type": "stream",
     "text": [
      "Model saved for current chunk\n",
      "Begin preprocessing\n",
      "Run 184\n"
     ]
    },
    {
     "name": "stderr",
     "output_type": "stream",
     "text": [
      "24/04/29 21:57:29 WARN TaskSetManager: Stage 5248 contains a task of very large size (3211 KiB). The maximum recommended task size is 1000 KiB.\n"
     ]
    },
    {
     "name": "stdout",
     "output_type": "stream",
     "text": [
      "Model saved for current chunk\n",
      "Begin preprocessing\n",
      "Run 185\n"
     ]
    },
    {
     "name": "stderr",
     "output_type": "stream",
     "text": [
      "24/04/29 21:57:34 WARN TaskSetManager: Stage 5276 contains a task of very large size (3211 KiB). The maximum recommended task size is 1000 KiB.\n"
     ]
    },
    {
     "name": "stdout",
     "output_type": "stream",
     "text": [
      "Model saved for current chunk\n",
      "Begin preprocessing\n",
      "Run 186\n"
     ]
    },
    {
     "name": "stderr",
     "output_type": "stream",
     "text": [
      "24/04/29 21:57:38 WARN TaskSetManager: Stage 5304 contains a task of very large size (3211 KiB). The maximum recommended task size is 1000 KiB.\n"
     ]
    },
    {
     "name": "stdout",
     "output_type": "stream",
     "text": [
      "Model saved for current chunk\n",
      "Begin preprocessing\n",
      "Run 187\n"
     ]
    },
    {
     "name": "stderr",
     "output_type": "stream",
     "text": [
      "24/04/29 21:57:43 WARN TaskSetManager: Stage 5332 contains a task of very large size (3211 KiB). The maximum recommended task size is 1000 KiB.\n"
     ]
    },
    {
     "name": "stdout",
     "output_type": "stream",
     "text": [
      "Model saved for current chunk\n",
      "Begin preprocessing\n",
      "Run 188\n"
     ]
    },
    {
     "name": "stderr",
     "output_type": "stream",
     "text": [
      "24/04/29 21:57:48 WARN TaskSetManager: Stage 5360 contains a task of very large size (3211 KiB). The maximum recommended task size is 1000 KiB.\n"
     ]
    },
    {
     "name": "stdout",
     "output_type": "stream",
     "text": [
      "Model saved for current chunk\n",
      "Begin preprocessing\n",
      "Run 189\n"
     ]
    },
    {
     "name": "stderr",
     "output_type": "stream",
     "text": [
      "24/04/29 21:57:52 WARN TaskSetManager: Stage 5388 contains a task of very large size (3211 KiB). The maximum recommended task size is 1000 KiB.\n"
     ]
    },
    {
     "name": "stdout",
     "output_type": "stream",
     "text": [
      "Model saved for current chunk\n",
      "Begin preprocessing\n",
      "Run 190\n"
     ]
    },
    {
     "name": "stderr",
     "output_type": "stream",
     "text": [
      "24/04/29 21:57:56 WARN TaskSetManager: Stage 5416 contains a task of very large size (3211 KiB). The maximum recommended task size is 1000 KiB.\n"
     ]
    },
    {
     "name": "stdout",
     "output_type": "stream",
     "text": [
      "Model saved for current chunk\n",
      "Begin preprocessing\n",
      "Run 191\n"
     ]
    },
    {
     "name": "stderr",
     "output_type": "stream",
     "text": [
      "24/04/29 21:58:00 WARN TaskSetManager: Stage 5444 contains a task of very large size (3211 KiB). The maximum recommended task size is 1000 KiB.\n"
     ]
    },
    {
     "name": "stdout",
     "output_type": "stream",
     "text": [
      "Model saved for current chunk\n",
      "Begin preprocessing\n",
      "Run 192\n"
     ]
    },
    {
     "name": "stderr",
     "output_type": "stream",
     "text": [
      "24/04/29 21:58:04 WARN TaskSetManager: Stage 5472 contains a task of very large size (3211 KiB). The maximum recommended task size is 1000 KiB.\n"
     ]
    },
    {
     "name": "stdout",
     "output_type": "stream",
     "text": [
      "Model saved for current chunk\n",
      "Begin preprocessing\n",
      "Run 193\n"
     ]
    },
    {
     "name": "stderr",
     "output_type": "stream",
     "text": [
      "24/04/29 21:58:08 WARN TaskSetManager: Stage 5500 contains a task of very large size (3211 KiB). The maximum recommended task size is 1000 KiB.\n"
     ]
    },
    {
     "name": "stdout",
     "output_type": "stream",
     "text": [
      "Model saved for current chunk\n",
      "Begin preprocessing\n",
      "Run 194\n"
     ]
    },
    {
     "name": "stderr",
     "output_type": "stream",
     "text": [
      "24/04/29 21:58:13 WARN TaskSetManager: Stage 5528 contains a task of very large size (3211 KiB). The maximum recommended task size is 1000 KiB.\n"
     ]
    },
    {
     "name": "stdout",
     "output_type": "stream",
     "text": [
      "Model saved for current chunk\n",
      "Begin preprocessing\n",
      "Run 195\n"
     ]
    },
    {
     "name": "stderr",
     "output_type": "stream",
     "text": [
      "24/04/29 21:58:17 WARN TaskSetManager: Stage 5556 contains a task of very large size (3211 KiB). The maximum recommended task size is 1000 KiB.\n"
     ]
    },
    {
     "name": "stdout",
     "output_type": "stream",
     "text": [
      "Model saved for current chunk\n",
      "Begin preprocessing\n",
      "Run 196\n"
     ]
    },
    {
     "name": "stderr",
     "output_type": "stream",
     "text": [
      "24/04/29 21:58:22 WARN TaskSetManager: Stage 5584 contains a task of very large size (3211 KiB). The maximum recommended task size is 1000 KiB.\n"
     ]
    },
    {
     "name": "stdout",
     "output_type": "stream",
     "text": [
      "Model saved for current chunk\n",
      "Begin preprocessing\n",
      "Run 197\n"
     ]
    },
    {
     "name": "stderr",
     "output_type": "stream",
     "text": [
      "24/04/29 21:58:26 WARN TaskSetManager: Stage 5612 contains a task of very large size (3211 KiB). The maximum recommended task size is 1000 KiB.\n"
     ]
    },
    {
     "name": "stdout",
     "output_type": "stream",
     "text": [
      "Model saved for current chunk\n",
      "Begin preprocessing\n",
      "Run 198\n"
     ]
    },
    {
     "name": "stderr",
     "output_type": "stream",
     "text": [
      "24/04/29 21:58:31 WARN TaskSetManager: Stage 5640 contains a task of very large size (3211 KiB). The maximum recommended task size is 1000 KiB.\n"
     ]
    },
    {
     "name": "stdout",
     "output_type": "stream",
     "text": [
      "Model saved for current chunk\n",
      "Begin preprocessing\n",
      "Run 199\n"
     ]
    },
    {
     "name": "stderr",
     "output_type": "stream",
     "text": [
      "24/04/29 21:58:36 WARN TaskSetManager: Stage 5668 contains a task of very large size (3211 KiB). The maximum recommended task size is 1000 KiB.\n"
     ]
    },
    {
     "name": "stdout",
     "output_type": "stream",
     "text": [
      "Model saved for current chunk\n",
      "Begin preprocessing\n",
      "Run 200\n"
     ]
    },
    {
     "name": "stderr",
     "output_type": "stream",
     "text": [
      "24/04/29 21:58:40 WARN TaskSetManager: Stage 5696 contains a task of very large size (3211 KiB). The maximum recommended task size is 1000 KiB.\n"
     ]
    },
    {
     "name": "stdout",
     "output_type": "stream",
     "text": [
      "Model saved for current chunk\n",
      "Begin preprocessing\n",
      "Run 201\n"
     ]
    },
    {
     "name": "stderr",
     "output_type": "stream",
     "text": [
      "24/04/29 21:58:45 WARN TaskSetManager: Stage 5724 contains a task of very large size (3211 KiB). The maximum recommended task size is 1000 KiB.\n"
     ]
    },
    {
     "name": "stdout",
     "output_type": "stream",
     "text": [
      "Model saved for current chunk\n",
      "Begin preprocessing\n",
      "Run 202\n"
     ]
    },
    {
     "name": "stderr",
     "output_type": "stream",
     "text": [
      "24/04/29 21:58:49 WARN TaskSetManager: Stage 5752 contains a task of very large size (3211 KiB). The maximum recommended task size is 1000 KiB.\n"
     ]
    },
    {
     "name": "stdout",
     "output_type": "stream",
     "text": [
      "Model saved for current chunk\n",
      "Begin preprocessing\n",
      "Run 203\n"
     ]
    },
    {
     "name": "stderr",
     "output_type": "stream",
     "text": [
      "24/04/29 21:58:53 WARN TaskSetManager: Stage 5780 contains a task of very large size (3211 KiB). The maximum recommended task size is 1000 KiB.\n"
     ]
    },
    {
     "name": "stdout",
     "output_type": "stream",
     "text": [
      "Model saved for current chunk\n",
      "Begin preprocessing\n",
      "Run 204\n"
     ]
    },
    {
     "name": "stderr",
     "output_type": "stream",
     "text": [
      "24/04/29 21:58:57 WARN TaskSetManager: Stage 5808 contains a task of very large size (3211 KiB). The maximum recommended task size is 1000 KiB.\n"
     ]
    },
    {
     "name": "stdout",
     "output_type": "stream",
     "text": [
      "Model saved for current chunk\n",
      "Begin preprocessing\n",
      "Run 205\n"
     ]
    },
    {
     "name": "stderr",
     "output_type": "stream",
     "text": [
      "24/04/29 21:59:01 WARN TaskSetManager: Stage 5836 contains a task of very large size (3211 KiB). The maximum recommended task size is 1000 KiB.\n"
     ]
    },
    {
     "name": "stdout",
     "output_type": "stream",
     "text": [
      "Model saved for current chunk\n",
      "Begin preprocessing\n",
      "Run 206\n"
     ]
    },
    {
     "name": "stderr",
     "output_type": "stream",
     "text": [
      "24/04/29 21:59:05 WARN TaskSetManager: Stage 5864 contains a task of very large size (3211 KiB). The maximum recommended task size is 1000 KiB.\n"
     ]
    },
    {
     "name": "stdout",
     "output_type": "stream",
     "text": [
      "Model saved for current chunk\n",
      "Begin preprocessing\n",
      "Run 207\n"
     ]
    },
    {
     "name": "stderr",
     "output_type": "stream",
     "text": [
      "24/04/29 21:59:10 WARN TaskSetManager: Stage 5892 contains a task of very large size (3211 KiB). The maximum recommended task size is 1000 KiB.\n"
     ]
    },
    {
     "name": "stdout",
     "output_type": "stream",
     "text": [
      "Model saved for current chunk\n",
      "Begin preprocessing\n",
      "Run 208\n"
     ]
    },
    {
     "name": "stderr",
     "output_type": "stream",
     "text": [
      "24/04/29 21:59:14 WARN TaskSetManager: Stage 5920 contains a task of very large size (3211 KiB). The maximum recommended task size is 1000 KiB.\n"
     ]
    },
    {
     "name": "stdout",
     "output_type": "stream",
     "text": [
      "Model saved for current chunk\n",
      "Begin preprocessing\n",
      "Run 209\n"
     ]
    },
    {
     "name": "stderr",
     "output_type": "stream",
     "text": [
      "24/04/29 21:59:18 WARN TaskSetManager: Stage 5948 contains a task of very large size (3211 KiB). The maximum recommended task size is 1000 KiB.\n"
     ]
    },
    {
     "name": "stdout",
     "output_type": "stream",
     "text": [
      "Model saved for current chunk\n",
      "Begin preprocessing\n",
      "Run 210\n"
     ]
    },
    {
     "name": "stderr",
     "output_type": "stream",
     "text": [
      "24/04/29 21:59:23 WARN TaskSetManager: Stage 5976 contains a task of very large size (3211 KiB). The maximum recommended task size is 1000 KiB.\n"
     ]
    },
    {
     "name": "stdout",
     "output_type": "stream",
     "text": [
      "Model saved for current chunk\n",
      "Begin preprocessing\n",
      "Run 211\n"
     ]
    },
    {
     "name": "stderr",
     "output_type": "stream",
     "text": [
      "24/04/29 21:59:27 WARN TaskSetManager: Stage 6004 contains a task of very large size (3211 KiB). The maximum recommended task size is 1000 KiB.\n"
     ]
    },
    {
     "name": "stdout",
     "output_type": "stream",
     "text": [
      "Model saved for current chunk\n",
      "Begin preprocessing\n",
      "Run 212\n"
     ]
    },
    {
     "name": "stderr",
     "output_type": "stream",
     "text": [
      "24/04/29 21:59:31 WARN TaskSetManager: Stage 6032 contains a task of very large size (3211 KiB). The maximum recommended task size is 1000 KiB.\n"
     ]
    },
    {
     "name": "stdout",
     "output_type": "stream",
     "text": [
      "Model saved for current chunk\n",
      "Begin preprocessing\n",
      "Run 213\n"
     ]
    },
    {
     "name": "stderr",
     "output_type": "stream",
     "text": [
      "24/04/29 21:59:35 WARN TaskSetManager: Stage 6060 contains a task of very large size (3211 KiB). The maximum recommended task size is 1000 KiB.\n"
     ]
    },
    {
     "name": "stdout",
     "output_type": "stream",
     "text": [
      "Model saved for current chunk\n",
      "Begin preprocessing\n",
      "Run 214\n"
     ]
    },
    {
     "name": "stderr",
     "output_type": "stream",
     "text": [
      "24/04/29 21:59:40 WARN TaskSetManager: Stage 6088 contains a task of very large size (3211 KiB). The maximum recommended task size is 1000 KiB.\n"
     ]
    },
    {
     "name": "stdout",
     "output_type": "stream",
     "text": [
      "Model saved for current chunk\n",
      "Begin preprocessing\n",
      "Run 215\n"
     ]
    },
    {
     "name": "stderr",
     "output_type": "stream",
     "text": [
      "24/04/29 21:59:44 WARN TaskSetManager: Stage 6116 contains a task of very large size (3211 KiB). The maximum recommended task size is 1000 KiB.\n"
     ]
    },
    {
     "name": "stdout",
     "output_type": "stream",
     "text": [
      "Model saved for current chunk\n",
      "Begin preprocessing\n",
      "Run 216\n"
     ]
    },
    {
     "name": "stderr",
     "output_type": "stream",
     "text": [
      "24/04/29 21:59:49 WARN TaskSetManager: Stage 6144 contains a task of very large size (3211 KiB). The maximum recommended task size is 1000 KiB.\n"
     ]
    },
    {
     "name": "stdout",
     "output_type": "stream",
     "text": [
      "Model saved for current chunk\n",
      "Begin preprocessing\n",
      "Run 217\n"
     ]
    },
    {
     "name": "stderr",
     "output_type": "stream",
     "text": [
      "24/04/29 21:59:53 WARN TaskSetManager: Stage 6172 contains a task of very large size (3211 KiB). The maximum recommended task size is 1000 KiB.\n"
     ]
    },
    {
     "name": "stdout",
     "output_type": "stream",
     "text": [
      "Model saved for current chunk\n",
      "Begin preprocessing\n",
      "Run 218\n"
     ]
    },
    {
     "name": "stderr",
     "output_type": "stream",
     "text": [
      "24/04/29 21:59:57 WARN TaskSetManager: Stage 6200 contains a task of very large size (3211 KiB). The maximum recommended task size is 1000 KiB.\n"
     ]
    },
    {
     "name": "stdout",
     "output_type": "stream",
     "text": [
      "Model saved for current chunk\n",
      "Begin preprocessing\n",
      "Run 219\n"
     ]
    },
    {
     "name": "stderr",
     "output_type": "stream",
     "text": [
      "24/04/29 22:00:02 WARN TaskSetManager: Stage 6228 contains a task of very large size (3211 KiB). The maximum recommended task size is 1000 KiB.\n"
     ]
    },
    {
     "name": "stdout",
     "output_type": "stream",
     "text": [
      "Model saved for current chunk\n",
      "Begin preprocessing\n",
      "Run 220\n"
     ]
    },
    {
     "name": "stderr",
     "output_type": "stream",
     "text": [
      "24/04/29 22:00:06 WARN TaskSetManager: Stage 6256 contains a task of very large size (3211 KiB). The maximum recommended task size is 1000 KiB.\n"
     ]
    },
    {
     "name": "stdout",
     "output_type": "stream",
     "text": [
      "Model saved for current chunk\n",
      "Begin preprocessing\n",
      "Run 221\n"
     ]
    },
    {
     "name": "stderr",
     "output_type": "stream",
     "text": [
      "24/04/29 22:00:10 WARN TaskSetManager: Stage 6284 contains a task of very large size (3211 KiB). The maximum recommended task size is 1000 KiB.\n"
     ]
    },
    {
     "name": "stdout",
     "output_type": "stream",
     "text": [
      "Model saved for current chunk\n",
      "Begin preprocessing\n",
      "Run 222\n"
     ]
    },
    {
     "name": "stderr",
     "output_type": "stream",
     "text": [
      "24/04/29 22:00:14 WARN TaskSetManager: Stage 6312 contains a task of very large size (3211 KiB). The maximum recommended task size is 1000 KiB.\n"
     ]
    },
    {
     "name": "stdout",
     "output_type": "stream",
     "text": [
      "Model saved for current chunk\n",
      "Begin preprocessing\n",
      "Run 223\n"
     ]
    },
    {
     "name": "stderr",
     "output_type": "stream",
     "text": [
      "24/04/29 22:00:18 WARN TaskSetManager: Stage 6340 contains a task of very large size (3211 KiB). The maximum recommended task size is 1000 KiB.\n"
     ]
    },
    {
     "name": "stdout",
     "output_type": "stream",
     "text": [
      "Model saved for current chunk\n",
      "Begin preprocessing\n",
      "Run 224\n"
     ]
    },
    {
     "name": "stderr",
     "output_type": "stream",
     "text": [
      "24/04/29 22:00:23 WARN TaskSetManager: Stage 6368 contains a task of very large size (3211 KiB). The maximum recommended task size is 1000 KiB.\n"
     ]
    },
    {
     "name": "stdout",
     "output_type": "stream",
     "text": [
      "Model saved for current chunk\n",
      "Begin preprocessing\n",
      "Run 225\n"
     ]
    },
    {
     "name": "stderr",
     "output_type": "stream",
     "text": [
      "24/04/29 22:00:28 WARN TaskSetManager: Stage 6396 contains a task of very large size (3211 KiB). The maximum recommended task size is 1000 KiB.\n"
     ]
    },
    {
     "name": "stdout",
     "output_type": "stream",
     "text": [
      "Model saved for current chunk\n",
      "Begin preprocessing\n",
      "Run 226\n"
     ]
    },
    {
     "name": "stderr",
     "output_type": "stream",
     "text": [
      "24/04/29 22:00:33 WARN TaskSetManager: Stage 6424 contains a task of very large size (3211 KiB). The maximum recommended task size is 1000 KiB.\n"
     ]
    },
    {
     "name": "stdout",
     "output_type": "stream",
     "text": [
      "Model saved for current chunk\n",
      "Begin preprocessing\n",
      "Run 227\n"
     ]
    },
    {
     "name": "stderr",
     "output_type": "stream",
     "text": [
      "24/04/29 22:00:38 WARN TaskSetManager: Stage 6452 contains a task of very large size (3211 KiB). The maximum recommended task size is 1000 KiB.\n"
     ]
    },
    {
     "name": "stdout",
     "output_type": "stream",
     "text": [
      "Model saved for current chunk\n",
      "Begin preprocessing\n",
      "Run 228\n"
     ]
    },
    {
     "name": "stderr",
     "output_type": "stream",
     "text": [
      "24/04/29 22:00:42 WARN TaskSetManager: Stage 6480 contains a task of very large size (3211 KiB). The maximum recommended task size is 1000 KiB.\n"
     ]
    },
    {
     "name": "stdout",
     "output_type": "stream",
     "text": [
      "Model saved for current chunk\n",
      "Begin preprocessing\n",
      "Run 229\n"
     ]
    },
    {
     "name": "stderr",
     "output_type": "stream",
     "text": [
      "24/04/29 22:00:46 WARN TaskSetManager: Stage 6508 contains a task of very large size (3211 KiB). The maximum recommended task size is 1000 KiB.\n"
     ]
    },
    {
     "name": "stdout",
     "output_type": "stream",
     "text": [
      "Model saved for current chunk\n",
      "Begin preprocessing\n",
      "Run 230\n"
     ]
    },
    {
     "name": "stderr",
     "output_type": "stream",
     "text": [
      "24/04/29 22:00:51 WARN TaskSetManager: Stage 6536 contains a task of very large size (3211 KiB). The maximum recommended task size is 1000 KiB.\n"
     ]
    },
    {
     "name": "stdout",
     "output_type": "stream",
     "text": [
      "Model saved for current chunk\n",
      "Begin preprocessing\n",
      "Run 231\n"
     ]
    },
    {
     "name": "stderr",
     "output_type": "stream",
     "text": [
      "24/04/29 22:00:55 WARN TaskSetManager: Stage 6564 contains a task of very large size (3211 KiB). The maximum recommended task size is 1000 KiB.\n"
     ]
    },
    {
     "name": "stdout",
     "output_type": "stream",
     "text": [
      "Model saved for current chunk\n",
      "Begin preprocessing\n",
      "Run 232\n"
     ]
    },
    {
     "name": "stderr",
     "output_type": "stream",
     "text": [
      "24/04/29 22:01:00 WARN TaskSetManager: Stage 6592 contains a task of very large size (3211 KiB). The maximum recommended task size is 1000 KiB.\n"
     ]
    },
    {
     "name": "stdout",
     "output_type": "stream",
     "text": [
      "Model saved for current chunk\n",
      "Begin preprocessing\n",
      "Run 233\n"
     ]
    },
    {
     "name": "stderr",
     "output_type": "stream",
     "text": [
      "24/04/29 22:01:05 WARN TaskSetManager: Stage 6620 contains a task of very large size (3211 KiB). The maximum recommended task size is 1000 KiB.\n"
     ]
    },
    {
     "name": "stdout",
     "output_type": "stream",
     "text": [
      "Model saved for current chunk\n",
      "Begin preprocessing\n",
      "Run 234\n"
     ]
    },
    {
     "name": "stderr",
     "output_type": "stream",
     "text": [
      "24/04/29 22:01:10 WARN TaskSetManager: Stage 6648 contains a task of very large size (3211 KiB). The maximum recommended task size is 1000 KiB.\n"
     ]
    },
    {
     "name": "stdout",
     "output_type": "stream",
     "text": [
      "Model saved for current chunk\n",
      "Begin preprocessing\n",
      "Run 235\n"
     ]
    },
    {
     "name": "stderr",
     "output_type": "stream",
     "text": [
      "24/04/29 22:01:14 WARN TaskSetManager: Stage 6676 contains a task of very large size (3211 KiB). The maximum recommended task size is 1000 KiB.\n"
     ]
    },
    {
     "name": "stdout",
     "output_type": "stream",
     "text": [
      "Model saved for current chunk\n",
      "Begin preprocessing\n",
      "Run 236\n"
     ]
    },
    {
     "name": "stderr",
     "output_type": "stream",
     "text": [
      "24/04/29 22:01:19 WARN TaskSetManager: Stage 6704 contains a task of very large size (3211 KiB). The maximum recommended task size is 1000 KiB.\n"
     ]
    },
    {
     "name": "stdout",
     "output_type": "stream",
     "text": [
      "Model saved for current chunk\n",
      "Begin preprocessing\n",
      "Run 237\n"
     ]
    },
    {
     "name": "stderr",
     "output_type": "stream",
     "text": [
      "24/04/29 22:01:25 WARN TaskSetManager: Stage 6732 contains a task of very large size (3211 KiB). The maximum recommended task size is 1000 KiB.\n"
     ]
    },
    {
     "name": "stdout",
     "output_type": "stream",
     "text": [
      "Model saved for current chunk\n",
      "Begin preprocessing\n",
      "Run 238\n"
     ]
    },
    {
     "name": "stderr",
     "output_type": "stream",
     "text": [
      "24/04/29 22:01:29 WARN TaskSetManager: Stage 6760 contains a task of very large size (3211 KiB). The maximum recommended task size is 1000 KiB.\n"
     ]
    },
    {
     "name": "stdout",
     "output_type": "stream",
     "text": [
      "Model saved for current chunk\n",
      "Begin preprocessing\n",
      "Run 239\n"
     ]
    },
    {
     "name": "stderr",
     "output_type": "stream",
     "text": [
      "24/04/29 22:01:35 WARN TaskSetManager: Stage 6788 contains a task of very large size (3211 KiB). The maximum recommended task size is 1000 KiB.\n"
     ]
    },
    {
     "name": "stdout",
     "output_type": "stream",
     "text": [
      "Model saved for current chunk\n",
      "Begin preprocessing\n",
      "Run 240\n"
     ]
    },
    {
     "name": "stderr",
     "output_type": "stream",
     "text": [
      "24/04/29 22:01:40 WARN TaskSetManager: Stage 6816 contains a task of very large size (3211 KiB). The maximum recommended task size is 1000 KiB.\n"
     ]
    },
    {
     "name": "stdout",
     "output_type": "stream",
     "text": [
      "Model saved for current chunk\n",
      "Begin preprocessing\n",
      "Run 241\n"
     ]
    },
    {
     "name": "stderr",
     "output_type": "stream",
     "text": [
      "24/04/29 22:01:45 WARN TaskSetManager: Stage 6844 contains a task of very large size (3211 KiB). The maximum recommended task size is 1000 KiB.\n"
     ]
    },
    {
     "name": "stdout",
     "output_type": "stream",
     "text": [
      "Model saved for current chunk\n",
      "Begin preprocessing\n",
      "Run 242\n"
     ]
    },
    {
     "name": "stderr",
     "output_type": "stream",
     "text": [
      "24/04/29 22:01:49 WARN TaskSetManager: Stage 6872 contains a task of very large size (3211 KiB). The maximum recommended task size is 1000 KiB.\n"
     ]
    },
    {
     "name": "stdout",
     "output_type": "stream",
     "text": [
      "Model saved for current chunk\n",
      "Begin preprocessing\n",
      "Run 243\n"
     ]
    },
    {
     "name": "stderr",
     "output_type": "stream",
     "text": [
      "24/04/29 22:01:54 WARN TaskSetManager: Stage 6900 contains a task of very large size (3211 KiB). The maximum recommended task size is 1000 KiB.\n"
     ]
    },
    {
     "name": "stdout",
     "output_type": "stream",
     "text": [
      "Model saved for current chunk\n",
      "Begin preprocessing\n",
      "Run 244\n"
     ]
    },
    {
     "name": "stderr",
     "output_type": "stream",
     "text": [
      "24/04/29 22:01:58 WARN TaskSetManager: Stage 6928 contains a task of very large size (3211 KiB). The maximum recommended task size is 1000 KiB.\n"
     ]
    },
    {
     "name": "stdout",
     "output_type": "stream",
     "text": [
      "Model saved for current chunk\n",
      "Begin preprocessing\n",
      "Run 245\n"
     ]
    },
    {
     "name": "stderr",
     "output_type": "stream",
     "text": [
      "24/04/29 22:02:02 WARN TaskSetManager: Stage 6956 contains a task of very large size (3211 KiB). The maximum recommended task size is 1000 KiB.\n"
     ]
    },
    {
     "name": "stdout",
     "output_type": "stream",
     "text": [
      "Model saved for current chunk\n",
      "Begin preprocessing\n",
      "Run 246\n"
     ]
    },
    {
     "name": "stderr",
     "output_type": "stream",
     "text": [
      "24/04/29 22:02:07 WARN TaskSetManager: Stage 6984 contains a task of very large size (3211 KiB). The maximum recommended task size is 1000 KiB.\n"
     ]
    },
    {
     "name": "stdout",
     "output_type": "stream",
     "text": [
      "Model saved for current chunk\n",
      "Begin preprocessing\n",
      "Run 247\n"
     ]
    },
    {
     "name": "stderr",
     "output_type": "stream",
     "text": [
      "24/04/29 22:02:12 WARN TaskSetManager: Stage 7012 contains a task of very large size (3211 KiB). The maximum recommended task size is 1000 KiB.\n"
     ]
    },
    {
     "name": "stdout",
     "output_type": "stream",
     "text": [
      "Model saved for current chunk\n",
      "Begin preprocessing\n",
      "Run 248\n"
     ]
    },
    {
     "name": "stderr",
     "output_type": "stream",
     "text": [
      "24/04/29 22:02:16 WARN TaskSetManager: Stage 7040 contains a task of very large size (3211 KiB). The maximum recommended task size is 1000 KiB.\n"
     ]
    },
    {
     "name": "stdout",
     "output_type": "stream",
     "text": [
      "Model saved for current chunk\n",
      "Begin preprocessing\n",
      "Run 249\n"
     ]
    },
    {
     "name": "stderr",
     "output_type": "stream",
     "text": [
      "24/04/29 22:02:21 WARN TaskSetManager: Stage 7068 contains a task of very large size (3211 KiB). The maximum recommended task size is 1000 KiB.\n"
     ]
    },
    {
     "name": "stdout",
     "output_type": "stream",
     "text": [
      "Model saved for current chunk\n",
      "Begin preprocessing\n",
      "Run 250\n"
     ]
    },
    {
     "name": "stderr",
     "output_type": "stream",
     "text": [
      "24/04/29 22:02:25 WARN TaskSetManager: Stage 7096 contains a task of very large size (3211 KiB). The maximum recommended task size is 1000 KiB.\n"
     ]
    },
    {
     "name": "stdout",
     "output_type": "stream",
     "text": [
      "Model saved for current chunk\n",
      "Begin preprocessing\n",
      "Run 251\n"
     ]
    },
    {
     "name": "stderr",
     "output_type": "stream",
     "text": [
      "24/04/29 22:02:30 WARN TaskSetManager: Stage 7124 contains a task of very large size (3211 KiB). The maximum recommended task size is 1000 KiB.\n"
     ]
    },
    {
     "name": "stdout",
     "output_type": "stream",
     "text": [
      "Model saved for current chunk\n",
      "Begin preprocessing\n",
      "Run 252\n"
     ]
    },
    {
     "name": "stderr",
     "output_type": "stream",
     "text": [
      "24/04/29 22:02:35 WARN TaskSetManager: Stage 7152 contains a task of very large size (3211 KiB). The maximum recommended task size is 1000 KiB.\n"
     ]
    },
    {
     "name": "stdout",
     "output_type": "stream",
     "text": [
      "Model saved for current chunk\n",
      "Begin preprocessing\n",
      "Run 253\n"
     ]
    },
    {
     "name": "stderr",
     "output_type": "stream",
     "text": [
      "24/04/29 22:02:41 WARN TaskSetManager: Stage 7180 contains a task of very large size (3211 KiB). The maximum recommended task size is 1000 KiB.\n"
     ]
    },
    {
     "name": "stdout",
     "output_type": "stream",
     "text": [
      "Model saved for current chunk\n",
      "Begin preprocessing\n",
      "Run 254\n"
     ]
    },
    {
     "name": "stderr",
     "output_type": "stream",
     "text": [
      "24/04/29 22:02:46 WARN TaskSetManager: Stage 7208 contains a task of very large size (3211 KiB). The maximum recommended task size is 1000 KiB.\n"
     ]
    },
    {
     "name": "stdout",
     "output_type": "stream",
     "text": [
      "Model saved for current chunk\n",
      "Begin preprocessing\n",
      "Run 255\n"
     ]
    },
    {
     "name": "stderr",
     "output_type": "stream",
     "text": [
      "24/04/29 22:02:51 WARN TaskSetManager: Stage 7236 contains a task of very large size (3211 KiB). The maximum recommended task size is 1000 KiB.\n"
     ]
    },
    {
     "name": "stdout",
     "output_type": "stream",
     "text": [
      "Model saved for current chunk\n",
      "Begin preprocessing\n",
      "Run 256\n"
     ]
    },
    {
     "name": "stderr",
     "output_type": "stream",
     "text": [
      "24/04/29 22:02:56 WARN TaskSetManager: Stage 7264 contains a task of very large size (3211 KiB). The maximum recommended task size is 1000 KiB.\n"
     ]
    },
    {
     "name": "stdout",
     "output_type": "stream",
     "text": [
      "Model saved for current chunk\n",
      "Begin preprocessing\n",
      "Run 257\n"
     ]
    },
    {
     "name": "stderr",
     "output_type": "stream",
     "text": [
      "24/04/29 22:03:00 WARN TaskSetManager: Stage 7292 contains a task of very large size (3211 KiB). The maximum recommended task size is 1000 KiB.\n"
     ]
    },
    {
     "name": "stdout",
     "output_type": "stream",
     "text": [
      "Model saved for current chunk\n",
      "Begin preprocessing\n",
      "Run 258\n"
     ]
    },
    {
     "name": "stderr",
     "output_type": "stream",
     "text": [
      "24/04/29 22:03:05 WARN TaskSetManager: Stage 7320 contains a task of very large size (3211 KiB). The maximum recommended task size is 1000 KiB.\n"
     ]
    },
    {
     "name": "stdout",
     "output_type": "stream",
     "text": [
      "Model saved for current chunk\n",
      "Begin preprocessing\n",
      "Run 259\n"
     ]
    },
    {
     "name": "stderr",
     "output_type": "stream",
     "text": [
      "24/04/29 22:03:09 WARN TaskSetManager: Stage 7348 contains a task of very large size (3211 KiB). The maximum recommended task size is 1000 KiB.\n"
     ]
    },
    {
     "name": "stdout",
     "output_type": "stream",
     "text": [
      "Model saved for current chunk\n",
      "Begin preprocessing\n",
      "Run 260\n"
     ]
    },
    {
     "name": "stderr",
     "output_type": "stream",
     "text": [
      "24/04/29 22:03:13 WARN TaskSetManager: Stage 7376 contains a task of very large size (3211 KiB). The maximum recommended task size is 1000 KiB.\n"
     ]
    },
    {
     "name": "stdout",
     "output_type": "stream",
     "text": [
      "Model saved for current chunk\n",
      "Begin preprocessing\n",
      "Run 261\n"
     ]
    },
    {
     "name": "stderr",
     "output_type": "stream",
     "text": [
      "24/04/29 22:03:18 WARN TaskSetManager: Stage 7404 contains a task of very large size (3211 KiB). The maximum recommended task size is 1000 KiB.\n"
     ]
    },
    {
     "name": "stdout",
     "output_type": "stream",
     "text": [
      "Model saved for current chunk\n",
      "Begin preprocessing\n",
      "Run 262\n"
     ]
    },
    {
     "name": "stderr",
     "output_type": "stream",
     "text": [
      "24/04/29 22:03:23 WARN TaskSetManager: Stage 7432 contains a task of very large size (3211 KiB). The maximum recommended task size is 1000 KiB.\n"
     ]
    },
    {
     "name": "stdout",
     "output_type": "stream",
     "text": [
      "Model saved for current chunk\n",
      "Begin preprocessing\n",
      "Run 263\n"
     ]
    },
    {
     "name": "stderr",
     "output_type": "stream",
     "text": [
      "24/04/29 22:03:28 WARN TaskSetManager: Stage 7460 contains a task of very large size (3211 KiB). The maximum recommended task size is 1000 KiB.\n"
     ]
    },
    {
     "name": "stdout",
     "output_type": "stream",
     "text": [
      "Model saved for current chunk\n",
      "Begin preprocessing\n",
      "Run 264\n"
     ]
    },
    {
     "name": "stderr",
     "output_type": "stream",
     "text": [
      "24/04/29 22:03:33 WARN TaskSetManager: Stage 7488 contains a task of very large size (3211 KiB). The maximum recommended task size is 1000 KiB.\n"
     ]
    },
    {
     "name": "stdout",
     "output_type": "stream",
     "text": [
      "Model saved for current chunk\n",
      "Begin preprocessing\n",
      "Run 265\n"
     ]
    },
    {
     "name": "stderr",
     "output_type": "stream",
     "text": [
      "24/04/29 22:03:37 WARN TaskSetManager: Stage 7516 contains a task of very large size (3211 KiB). The maximum recommended task size is 1000 KiB.\n"
     ]
    },
    {
     "name": "stdout",
     "output_type": "stream",
     "text": [
      "Model saved for current chunk\n",
      "Begin preprocessing\n",
      "Run 266\n"
     ]
    },
    {
     "name": "stderr",
     "output_type": "stream",
     "text": [
      "24/04/29 22:03:42 WARN TaskSetManager: Stage 7544 contains a task of very large size (3211 KiB). The maximum recommended task size is 1000 KiB.\n"
     ]
    },
    {
     "name": "stdout",
     "output_type": "stream",
     "text": [
      "Model saved for current chunk\n",
      "Begin preprocessing\n",
      "Run 267\n"
     ]
    },
    {
     "name": "stderr",
     "output_type": "stream",
     "text": [
      "24/04/29 22:03:46 WARN TaskSetManager: Stage 7572 contains a task of very large size (3211 KiB). The maximum recommended task size is 1000 KiB.\n"
     ]
    },
    {
     "name": "stdout",
     "output_type": "stream",
     "text": [
      "Model saved for current chunk\n",
      "Begin preprocessing\n",
      "Run 268\n"
     ]
    },
    {
     "name": "stderr",
     "output_type": "stream",
     "text": [
      "24/04/29 22:03:49 WARN TaskSetManager: Stage 7600 contains a task of very large size (3211 KiB). The maximum recommended task size is 1000 KiB.\n"
     ]
    },
    {
     "name": "stdout",
     "output_type": "stream",
     "text": [
      "Model saved for current chunk\n",
      "Begin preprocessing\n",
      "Run 269\n"
     ]
    },
    {
     "name": "stderr",
     "output_type": "stream",
     "text": [
      "24/04/29 22:03:54 WARN TaskSetManager: Stage 7628 contains a task of very large size (3211 KiB). The maximum recommended task size is 1000 KiB.\n"
     ]
    },
    {
     "name": "stdout",
     "output_type": "stream",
     "text": [
      "Model saved for current chunk\n",
      "Begin preprocessing\n",
      "Run 270\n"
     ]
    },
    {
     "name": "stderr",
     "output_type": "stream",
     "text": [
      "24/04/29 22:03:58 WARN TaskSetManager: Stage 7656 contains a task of very large size (3211 KiB). The maximum recommended task size is 1000 KiB.\n"
     ]
    },
    {
     "name": "stdout",
     "output_type": "stream",
     "text": [
      "Model saved for current chunk\n",
      "Begin preprocessing\n",
      "Run 271\n"
     ]
    },
    {
     "name": "stderr",
     "output_type": "stream",
     "text": [
      "24/04/29 22:04:03 WARN TaskSetManager: Stage 7684 contains a task of very large size (3211 KiB). The maximum recommended task size is 1000 KiB.\n"
     ]
    },
    {
     "name": "stdout",
     "output_type": "stream",
     "text": [
      "Model saved for current chunk\n",
      "Begin preprocessing\n",
      "Run 272\n"
     ]
    },
    {
     "name": "stderr",
     "output_type": "stream",
     "text": [
      "24/04/29 22:04:08 WARN TaskSetManager: Stage 7712 contains a task of very large size (3211 KiB). The maximum recommended task size is 1000 KiB.\n"
     ]
    },
    {
     "name": "stdout",
     "output_type": "stream",
     "text": [
      "Model saved for current chunk\n",
      "Begin preprocessing\n",
      "Run 273\n"
     ]
    },
    {
     "name": "stderr",
     "output_type": "stream",
     "text": [
      "24/04/29 22:04:13 WARN TaskSetManager: Stage 7740 contains a task of very large size (3211 KiB). The maximum recommended task size is 1000 KiB.\n"
     ]
    },
    {
     "name": "stdout",
     "output_type": "stream",
     "text": [
      "Model saved for current chunk\n",
      "Begin preprocessing\n",
      "Run 274\n"
     ]
    },
    {
     "name": "stderr",
     "output_type": "stream",
     "text": [
      "24/04/29 22:04:18 WARN TaskSetManager: Stage 7768 contains a task of very large size (3211 KiB). The maximum recommended task size is 1000 KiB.\n"
     ]
    },
    {
     "name": "stdout",
     "output_type": "stream",
     "text": [
      "Model saved for current chunk\n",
      "Begin preprocessing\n",
      "Run 275\n"
     ]
    },
    {
     "name": "stderr",
     "output_type": "stream",
     "text": [
      "24/04/29 22:04:22 WARN TaskSetManager: Stage 7796 contains a task of very large size (3211 KiB). The maximum recommended task size is 1000 KiB.\n"
     ]
    },
    {
     "name": "stdout",
     "output_type": "stream",
     "text": [
      "Model saved for current chunk\n",
      "Begin preprocessing\n",
      "Run 276\n"
     ]
    },
    {
     "name": "stderr",
     "output_type": "stream",
     "text": [
      "24/04/29 22:04:26 WARN TaskSetManager: Stage 7824 contains a task of very large size (3211 KiB). The maximum recommended task size is 1000 KiB.\n"
     ]
    },
    {
     "name": "stdout",
     "output_type": "stream",
     "text": [
      "Model saved for current chunk\n",
      "Begin preprocessing\n",
      "Run 277\n"
     ]
    },
    {
     "name": "stderr",
     "output_type": "stream",
     "text": [
      "24/04/29 22:04:30 WARN TaskSetManager: Stage 7852 contains a task of very large size (3211 KiB). The maximum recommended task size is 1000 KiB.\n"
     ]
    },
    {
     "name": "stdout",
     "output_type": "stream",
     "text": [
      "Model saved for current chunk\n",
      "Begin preprocessing\n",
      "Run 278\n"
     ]
    },
    {
     "name": "stderr",
     "output_type": "stream",
     "text": [
      "24/04/29 22:04:35 WARN TaskSetManager: Stage 7880 contains a task of very large size (3211 KiB). The maximum recommended task size is 1000 KiB.\n"
     ]
    },
    {
     "name": "stdout",
     "output_type": "stream",
     "text": [
      "Model saved for current chunk\n",
      "Begin preprocessing\n",
      "Run 279\n"
     ]
    },
    {
     "name": "stderr",
     "output_type": "stream",
     "text": [
      "24/04/29 22:04:39 WARN TaskSetManager: Stage 7908 contains a task of very large size (3211 KiB). The maximum recommended task size is 1000 KiB.\n"
     ]
    },
    {
     "name": "stdout",
     "output_type": "stream",
     "text": [
      "Model saved for current chunk\n",
      "Begin preprocessing\n",
      "Run 280\n"
     ]
    },
    {
     "name": "stderr",
     "output_type": "stream",
     "text": [
      "24/04/29 22:04:44 WARN TaskSetManager: Stage 7936 contains a task of very large size (3211 KiB). The maximum recommended task size is 1000 KiB.\n"
     ]
    },
    {
     "name": "stdout",
     "output_type": "stream",
     "text": [
      "Model saved for current chunk\n",
      "Begin preprocessing\n",
      "Run 281\n"
     ]
    },
    {
     "name": "stderr",
     "output_type": "stream",
     "text": [
      "24/04/29 22:04:49 WARN TaskSetManager: Stage 7964 contains a task of very large size (3211 KiB). The maximum recommended task size is 1000 KiB.\n"
     ]
    },
    {
     "name": "stdout",
     "output_type": "stream",
     "text": [
      "Model saved for current chunk\n",
      "Begin preprocessing\n",
      "Run 282\n"
     ]
    },
    {
     "name": "stderr",
     "output_type": "stream",
     "text": [
      "24/04/29 22:04:53 WARN TaskSetManager: Stage 7992 contains a task of very large size (3211 KiB). The maximum recommended task size is 1000 KiB.\n"
     ]
    },
    {
     "name": "stdout",
     "output_type": "stream",
     "text": [
      "Model saved for current chunk\n",
      "Begin preprocessing\n",
      "Run 283\n"
     ]
    },
    {
     "name": "stderr",
     "output_type": "stream",
     "text": [
      "24/04/29 22:04:58 WARN TaskSetManager: Stage 8020 contains a task of very large size (3211 KiB). The maximum recommended task size is 1000 KiB.\n"
     ]
    },
    {
     "name": "stdout",
     "output_type": "stream",
     "text": [
      "Model saved for current chunk\n",
      "Begin preprocessing\n",
      "Run 284\n"
     ]
    },
    {
     "name": "stderr",
     "output_type": "stream",
     "text": [
      "24/04/29 22:05:02 WARN TaskSetManager: Stage 8048 contains a task of very large size (3211 KiB). The maximum recommended task size is 1000 KiB.\n"
     ]
    },
    {
     "name": "stdout",
     "output_type": "stream",
     "text": [
      "Model saved for current chunk\n",
      "Begin preprocessing\n",
      "Run 285\n"
     ]
    },
    {
     "name": "stderr",
     "output_type": "stream",
     "text": [
      "24/04/29 22:05:06 WARN TaskSetManager: Stage 8076 contains a task of very large size (3211 KiB). The maximum recommended task size is 1000 KiB.\n"
     ]
    },
    {
     "name": "stdout",
     "output_type": "stream",
     "text": [
      "Model saved for current chunk\n",
      "Begin preprocessing\n",
      "Run 286\n"
     ]
    },
    {
     "name": "stderr",
     "output_type": "stream",
     "text": [
      "24/04/29 22:05:10 WARN TaskSetManager: Stage 8104 contains a task of very large size (3211 KiB). The maximum recommended task size is 1000 KiB.\n"
     ]
    },
    {
     "name": "stdout",
     "output_type": "stream",
     "text": [
      "Model saved for current chunk\n",
      "Begin preprocessing\n",
      "Run 287\n"
     ]
    },
    {
     "name": "stderr",
     "output_type": "stream",
     "text": [
      "24/04/29 22:05:14 WARN TaskSetManager: Stage 8132 contains a task of very large size (3211 KiB). The maximum recommended task size is 1000 KiB.\n"
     ]
    },
    {
     "name": "stdout",
     "output_type": "stream",
     "text": [
      "Model saved for current chunk\n",
      "Begin preprocessing\n",
      "Run 288\n"
     ]
    },
    {
     "name": "stderr",
     "output_type": "stream",
     "text": [
      "24/04/29 22:05:18 WARN TaskSetManager: Stage 8160 contains a task of very large size (3211 KiB). The maximum recommended task size is 1000 KiB.\n"
     ]
    },
    {
     "name": "stdout",
     "output_type": "stream",
     "text": [
      "Model saved for current chunk\n",
      "Begin preprocessing\n",
      "Run 289\n"
     ]
    },
    {
     "name": "stderr",
     "output_type": "stream",
     "text": [
      "24/04/29 22:05:23 WARN TaskSetManager: Stage 8188 contains a task of very large size (3211 KiB). The maximum recommended task size is 1000 KiB.\n"
     ]
    },
    {
     "name": "stdout",
     "output_type": "stream",
     "text": [
      "Model saved for current chunk\n",
      "Begin preprocessing\n",
      "Run 290\n"
     ]
    },
    {
     "name": "stderr",
     "output_type": "stream",
     "text": [
      "24/04/29 22:05:28 WARN TaskSetManager: Stage 8216 contains a task of very large size (3211 KiB). The maximum recommended task size is 1000 KiB.\n"
     ]
    },
    {
     "name": "stdout",
     "output_type": "stream",
     "text": [
      "Model saved for current chunk\n",
      "Begin preprocessing\n",
      "Run 291\n"
     ]
    },
    {
     "name": "stderr",
     "output_type": "stream",
     "text": [
      "24/04/29 22:05:32 WARN TaskSetManager: Stage 8244 contains a task of very large size (3211 KiB). The maximum recommended task size is 1000 KiB.\n"
     ]
    },
    {
     "name": "stdout",
     "output_type": "stream",
     "text": [
      "Model saved for current chunk\n",
      "Begin preprocessing\n",
      "Run 292\n"
     ]
    },
    {
     "name": "stderr",
     "output_type": "stream",
     "text": [
      "24/04/29 22:05:37 WARN TaskSetManager: Stage 8272 contains a task of very large size (3211 KiB). The maximum recommended task size is 1000 KiB.\n"
     ]
    },
    {
     "name": "stdout",
     "output_type": "stream",
     "text": [
      "Model saved for current chunk\n",
      "Begin preprocessing\n",
      "Run 293\n"
     ]
    },
    {
     "name": "stderr",
     "output_type": "stream",
     "text": [
      "24/04/29 22:05:41 WARN TaskSetManager: Stage 8300 contains a task of very large size (3211 KiB). The maximum recommended task size is 1000 KiB.\n"
     ]
    },
    {
     "name": "stdout",
     "output_type": "stream",
     "text": [
      "Model saved for current chunk\n",
      "Begin preprocessing\n",
      "Run 294\n"
     ]
    },
    {
     "name": "stderr",
     "output_type": "stream",
     "text": [
      "24/04/29 22:05:45 WARN TaskSetManager: Stage 8328 contains a task of very large size (3211 KiB). The maximum recommended task size is 1000 KiB.\n"
     ]
    },
    {
     "name": "stdout",
     "output_type": "stream",
     "text": [
      "Model saved for current chunk\n",
      "Begin preprocessing\n",
      "Run 295\n"
     ]
    },
    {
     "name": "stderr",
     "output_type": "stream",
     "text": [
      "24/04/29 22:05:48 WARN TaskSetManager: Stage 8356 contains a task of very large size (3211 KiB). The maximum recommended task size is 1000 KiB.\n"
     ]
    },
    {
     "name": "stdout",
     "output_type": "stream",
     "text": [
      "Model saved for current chunk\n",
      "Begin preprocessing\n",
      "Run 296\n"
     ]
    },
    {
     "name": "stderr",
     "output_type": "stream",
     "text": [
      "24/04/29 22:05:52 WARN TaskSetManager: Stage 8384 contains a task of very large size (3211 KiB). The maximum recommended task size is 1000 KiB.\n"
     ]
    },
    {
     "name": "stdout",
     "output_type": "stream",
     "text": [
      "Model saved for current chunk\n",
      "Begin preprocessing\n",
      "Run 297\n"
     ]
    },
    {
     "name": "stderr",
     "output_type": "stream",
     "text": [
      "24/04/29 22:05:57 WARN TaskSetManager: Stage 8412 contains a task of very large size (3211 KiB). The maximum recommended task size is 1000 KiB.\n"
     ]
    },
    {
     "name": "stdout",
     "output_type": "stream",
     "text": [
      "Model saved for current chunk\n",
      "Begin preprocessing\n",
      "Run 298\n"
     ]
    },
    {
     "name": "stderr",
     "output_type": "stream",
     "text": [
      "24/04/29 22:06:02 WARN TaskSetManager: Stage 8440 contains a task of very large size (3211 KiB). The maximum recommended task size is 1000 KiB.\n"
     ]
    },
    {
     "name": "stdout",
     "output_type": "stream",
     "text": [
      "Model saved for current chunk\n",
      "Begin preprocessing\n",
      "Run 299\n"
     ]
    },
    {
     "name": "stderr",
     "output_type": "stream",
     "text": [
      "24/04/29 22:06:07 WARN TaskSetManager: Stage 8468 contains a task of very large size (3211 KiB). The maximum recommended task size is 1000 KiB.\n"
     ]
    },
    {
     "name": "stdout",
     "output_type": "stream",
     "text": [
      "Model saved for current chunk\n",
      "Begin preprocessing\n",
      "Run 300\n"
     ]
    },
    {
     "name": "stderr",
     "output_type": "stream",
     "text": [
      "24/04/29 22:06:12 WARN TaskSetManager: Stage 8496 contains a task of very large size (3211 KiB). The maximum recommended task size is 1000 KiB.\n"
     ]
    },
    {
     "name": "stdout",
     "output_type": "stream",
     "text": [
      "Model saved for current chunk\n",
      "Begin preprocessing\n",
      "Run 301\n"
     ]
    },
    {
     "name": "stderr",
     "output_type": "stream",
     "text": [
      "24/04/29 22:06:17 WARN TaskSetManager: Stage 8524 contains a task of very large size (3211 KiB). The maximum recommended task size is 1000 KiB.\n"
     ]
    },
    {
     "name": "stdout",
     "output_type": "stream",
     "text": [
      "Model saved for current chunk\n",
      "Begin preprocessing\n",
      "Run 302\n"
     ]
    },
    {
     "name": "stderr",
     "output_type": "stream",
     "text": [
      "24/04/29 22:06:21 WARN TaskSetManager: Stage 8552 contains a task of very large size (3211 KiB). The maximum recommended task size is 1000 KiB.\n"
     ]
    },
    {
     "name": "stdout",
     "output_type": "stream",
     "text": [
      "Model saved for current chunk\n",
      "Begin preprocessing\n",
      "Run 303\n"
     ]
    },
    {
     "name": "stderr",
     "output_type": "stream",
     "text": [
      "24/04/29 22:06:25 WARN TaskSetManager: Stage 8580 contains a task of very large size (3211 KiB). The maximum recommended task size is 1000 KiB.\n"
     ]
    },
    {
     "name": "stdout",
     "output_type": "stream",
     "text": [
      "Model saved for current chunk\n",
      "Begin preprocessing\n",
      "Run 304\n"
     ]
    },
    {
     "name": "stderr",
     "output_type": "stream",
     "text": [
      "24/04/29 22:06:29 WARN TaskSetManager: Stage 8608 contains a task of very large size (3211 KiB). The maximum recommended task size is 1000 KiB.\n"
     ]
    },
    {
     "name": "stdout",
     "output_type": "stream",
     "text": [
      "Model saved for current chunk\n",
      "Begin preprocessing\n",
      "Run 305\n"
     ]
    },
    {
     "name": "stderr",
     "output_type": "stream",
     "text": [
      "24/04/29 22:06:33 WARN TaskSetManager: Stage 8636 contains a task of very large size (3211 KiB). The maximum recommended task size is 1000 KiB.\n"
     ]
    },
    {
     "name": "stdout",
     "output_type": "stream",
     "text": [
      "Model saved for current chunk\n",
      "Begin preprocessing\n",
      "Run 306\n"
     ]
    },
    {
     "name": "stderr",
     "output_type": "stream",
     "text": [
      "24/04/29 22:06:37 WARN TaskSetManager: Stage 8664 contains a task of very large size (3211 KiB). The maximum recommended task size is 1000 KiB.\n"
     ]
    },
    {
     "name": "stdout",
     "output_type": "stream",
     "text": [
      "Model saved for current chunk\n",
      "Begin preprocessing\n",
      "Run 307\n"
     ]
    },
    {
     "name": "stderr",
     "output_type": "stream",
     "text": [
      "24/04/29 22:06:41 WARN TaskSetManager: Stage 8692 contains a task of very large size (3211 KiB). The maximum recommended task size is 1000 KiB.\n"
     ]
    },
    {
     "name": "stdout",
     "output_type": "stream",
     "text": [
      "Model saved for current chunk\n",
      "Begin preprocessing\n",
      "Run 308\n"
     ]
    },
    {
     "name": "stderr",
     "output_type": "stream",
     "text": [
      "24/04/29 22:06:45 WARN TaskSetManager: Stage 8720 contains a task of very large size (3211 KiB). The maximum recommended task size is 1000 KiB.\n"
     ]
    },
    {
     "name": "stdout",
     "output_type": "stream",
     "text": [
      "Model saved for current chunk\n",
      "Begin preprocessing\n",
      "Run 309\n"
     ]
    },
    {
     "name": "stderr",
     "output_type": "stream",
     "text": [
      "24/04/29 22:06:49 WARN TaskSetManager: Stage 8748 contains a task of very large size (3211 KiB). The maximum recommended task size is 1000 KiB.\n"
     ]
    },
    {
     "name": "stdout",
     "output_type": "stream",
     "text": [
      "Model saved for current chunk\n",
      "Begin preprocessing\n",
      "Run 310\n"
     ]
    },
    {
     "name": "stderr",
     "output_type": "stream",
     "text": [
      "24/04/29 22:06:54 WARN TaskSetManager: Stage 8776 contains a task of very large size (3211 KiB). The maximum recommended task size is 1000 KiB.\n"
     ]
    },
    {
     "name": "stdout",
     "output_type": "stream",
     "text": [
      "Model saved for current chunk\n",
      "Begin preprocessing\n",
      "Run 311\n"
     ]
    },
    {
     "name": "stderr",
     "output_type": "stream",
     "text": [
      "24/04/29 22:06:58 WARN TaskSetManager: Stage 8804 contains a task of very large size (3211 KiB). The maximum recommended task size is 1000 KiB.\n"
     ]
    },
    {
     "name": "stdout",
     "output_type": "stream",
     "text": [
      "Model saved for current chunk\n",
      "Begin preprocessing\n",
      "Run 312\n"
     ]
    },
    {
     "name": "stderr",
     "output_type": "stream",
     "text": [
      "24/04/29 22:07:03 WARN TaskSetManager: Stage 8832 contains a task of very large size (3211 KiB). The maximum recommended task size is 1000 KiB.\n"
     ]
    },
    {
     "name": "stdout",
     "output_type": "stream",
     "text": [
      "Model saved for current chunk\n",
      "Begin preprocessing\n",
      "Run 313\n"
     ]
    },
    {
     "name": "stderr",
     "output_type": "stream",
     "text": [
      "24/04/29 22:07:07 WARN TaskSetManager: Stage 8860 contains a task of very large size (3211 KiB). The maximum recommended task size is 1000 KiB.\n"
     ]
    },
    {
     "name": "stdout",
     "output_type": "stream",
     "text": [
      "Model saved for current chunk\n",
      "Begin preprocessing\n",
      "Run 314\n"
     ]
    },
    {
     "name": "stderr",
     "output_type": "stream",
     "text": [
      "24/04/29 22:07:12 WARN TaskSetManager: Stage 8888 contains a task of very large size (3211 KiB). The maximum recommended task size is 1000 KiB.\n"
     ]
    },
    {
     "name": "stdout",
     "output_type": "stream",
     "text": [
      "Model saved for current chunk\n",
      "Begin preprocessing\n",
      "Run 315\n"
     ]
    },
    {
     "name": "stderr",
     "output_type": "stream",
     "text": [
      "24/04/29 22:07:16 WARN TaskSetManager: Stage 8916 contains a task of very large size (3211 KiB). The maximum recommended task size is 1000 KiB.\n"
     ]
    },
    {
     "name": "stdout",
     "output_type": "stream",
     "text": [
      "Model saved for current chunk\n",
      "Begin preprocessing\n",
      "Run 316\n"
     ]
    },
    {
     "name": "stderr",
     "output_type": "stream",
     "text": [
      "24/04/29 22:07:20 WARN TaskSetManager: Stage 8944 contains a task of very large size (3211 KiB). The maximum recommended task size is 1000 KiB.\n"
     ]
    },
    {
     "name": "stdout",
     "output_type": "stream",
     "text": [
      "Model saved for current chunk\n",
      "Begin preprocessing\n",
      "Run 317\n"
     ]
    },
    {
     "name": "stderr",
     "output_type": "stream",
     "text": [
      "24/04/29 22:07:25 WARN TaskSetManager: Stage 8972 contains a task of very large size (3211 KiB). The maximum recommended task size is 1000 KiB.\n"
     ]
    },
    {
     "name": "stdout",
     "output_type": "stream",
     "text": [
      "Model saved for current chunk\n",
      "Begin preprocessing\n",
      "Run 318\n"
     ]
    },
    {
     "name": "stderr",
     "output_type": "stream",
     "text": [
      "24/04/29 22:07:29 WARN TaskSetManager: Stage 9000 contains a task of very large size (3211 KiB). The maximum recommended task size is 1000 KiB.\n"
     ]
    },
    {
     "name": "stdout",
     "output_type": "stream",
     "text": [
      "Model saved for current chunk\n",
      "Begin preprocessing\n",
      "Run 319\n"
     ]
    },
    {
     "name": "stderr",
     "output_type": "stream",
     "text": [
      "24/04/29 22:07:33 WARN TaskSetManager: Stage 9028 contains a task of very large size (3211 KiB). The maximum recommended task size is 1000 KiB.\n"
     ]
    },
    {
     "name": "stdout",
     "output_type": "stream",
     "text": [
      "Model saved for current chunk\n",
      "Begin preprocessing\n",
      "Run 320\n"
     ]
    },
    {
     "name": "stderr",
     "output_type": "stream",
     "text": [
      "24/04/29 22:07:38 WARN TaskSetManager: Stage 9056 contains a task of very large size (3211 KiB). The maximum recommended task size is 1000 KiB.\n"
     ]
    },
    {
     "name": "stdout",
     "output_type": "stream",
     "text": [
      "Model saved for current chunk\n",
      "Begin preprocessing\n",
      "Run 321\n"
     ]
    },
    {
     "name": "stderr",
     "output_type": "stream",
     "text": [
      "24/04/29 22:07:44 WARN TaskSetManager: Stage 9084 contains a task of very large size (3211 KiB). The maximum recommended task size is 1000 KiB.\n"
     ]
    },
    {
     "name": "stdout",
     "output_type": "stream",
     "text": [
      "Model saved for current chunk\n",
      "Begin preprocessing\n",
      "Run 322\n"
     ]
    },
    {
     "name": "stderr",
     "output_type": "stream",
     "text": [
      "24/04/29 22:07:49 WARN TaskSetManager: Stage 9112 contains a task of very large size (3211 KiB). The maximum recommended task size is 1000 KiB.\n"
     ]
    },
    {
     "name": "stdout",
     "output_type": "stream",
     "text": [
      "Model saved for current chunk\n",
      "Begin preprocessing\n",
      "Run 323\n"
     ]
    },
    {
     "name": "stderr",
     "output_type": "stream",
     "text": [
      "24/04/29 22:07:53 WARN TaskSetManager: Stage 9140 contains a task of very large size (3211 KiB). The maximum recommended task size is 1000 KiB.\n"
     ]
    },
    {
     "name": "stdout",
     "output_type": "stream",
     "text": [
      "Model saved for current chunk\n",
      "Begin preprocessing\n",
      "Run 324\n"
     ]
    },
    {
     "name": "stderr",
     "output_type": "stream",
     "text": [
      "24/04/29 22:07:58 WARN TaskSetManager: Stage 9168 contains a task of very large size (3211 KiB). The maximum recommended task size is 1000 KiB.\n"
     ]
    },
    {
     "name": "stdout",
     "output_type": "stream",
     "text": [
      "Model saved for current chunk\n",
      "Begin preprocessing\n",
      "Run 325\n"
     ]
    },
    {
     "name": "stderr",
     "output_type": "stream",
     "text": [
      "24/04/29 22:08:02 WARN TaskSetManager: Stage 9196 contains a task of very large size (3211 KiB). The maximum recommended task size is 1000 KiB.\n"
     ]
    },
    {
     "name": "stdout",
     "output_type": "stream",
     "text": [
      "Model saved for current chunk\n",
      "Begin preprocessing\n",
      "Run 326\n"
     ]
    },
    {
     "name": "stderr",
     "output_type": "stream",
     "text": [
      "24/04/29 22:08:06 WARN TaskSetManager: Stage 9224 contains a task of very large size (3211 KiB). The maximum recommended task size is 1000 KiB.\n"
     ]
    },
    {
     "name": "stdout",
     "output_type": "stream",
     "text": [
      "Model saved for current chunk\n",
      "Begin preprocessing\n",
      "Run 327\n"
     ]
    },
    {
     "name": "stderr",
     "output_type": "stream",
     "text": [
      "24/04/29 22:08:10 WARN TaskSetManager: Stage 9252 contains a task of very large size (3211 KiB). The maximum recommended task size is 1000 KiB.\n"
     ]
    },
    {
     "name": "stdout",
     "output_type": "stream",
     "text": [
      "Model saved for current chunk\n",
      "Begin preprocessing\n",
      "Run 328\n"
     ]
    },
    {
     "name": "stderr",
     "output_type": "stream",
     "text": [
      "24/04/29 22:08:14 WARN TaskSetManager: Stage 9280 contains a task of very large size (3211 KiB). The maximum recommended task size is 1000 KiB.\n"
     ]
    },
    {
     "name": "stdout",
     "output_type": "stream",
     "text": [
      "Model saved for current chunk\n",
      "Begin preprocessing\n",
      "Run 329\n"
     ]
    },
    {
     "name": "stderr",
     "output_type": "stream",
     "text": [
      "24/04/29 22:08:19 WARN TaskSetManager: Stage 9308 contains a task of very large size (3211 KiB). The maximum recommended task size is 1000 KiB.\n"
     ]
    },
    {
     "name": "stdout",
     "output_type": "stream",
     "text": [
      "Model saved for current chunk\n",
      "Begin preprocessing\n",
      "Run 330\n"
     ]
    },
    {
     "name": "stderr",
     "output_type": "stream",
     "text": [
      "24/04/29 22:08:23 WARN TaskSetManager: Stage 9336 contains a task of very large size (3211 KiB). The maximum recommended task size is 1000 KiB.\n"
     ]
    },
    {
     "name": "stdout",
     "output_type": "stream",
     "text": [
      "Model saved for current chunk\n",
      "Begin preprocessing\n",
      "Run 331\n"
     ]
    },
    {
     "name": "stderr",
     "output_type": "stream",
     "text": [
      "24/04/29 22:08:27 WARN TaskSetManager: Stage 9364 contains a task of very large size (3211 KiB). The maximum recommended task size is 1000 KiB.\n"
     ]
    },
    {
     "name": "stdout",
     "output_type": "stream",
     "text": [
      "Model saved for current chunk\n",
      "Begin preprocessing\n",
      "Run 332\n"
     ]
    },
    {
     "name": "stderr",
     "output_type": "stream",
     "text": [
      "24/04/29 22:08:31 WARN TaskSetManager: Stage 9392 contains a task of very large size (3211 KiB). The maximum recommended task size is 1000 KiB.\n"
     ]
    },
    {
     "name": "stdout",
     "output_type": "stream",
     "text": [
      "Model saved for current chunk\n",
      "Begin preprocessing\n",
      "Run 333\n"
     ]
    },
    {
     "name": "stderr",
     "output_type": "stream",
     "text": [
      "24/04/29 22:08:35 WARN TaskSetManager: Stage 9420 contains a task of very large size (3211 KiB). The maximum recommended task size is 1000 KiB.\n"
     ]
    },
    {
     "name": "stdout",
     "output_type": "stream",
     "text": [
      "Model saved for current chunk\n",
      "Begin preprocessing\n",
      "Run 334\n"
     ]
    },
    {
     "name": "stderr",
     "output_type": "stream",
     "text": [
      "24/04/29 22:08:40 WARN TaskSetManager: Stage 9448 contains a task of very large size (3211 KiB). The maximum recommended task size is 1000 KiB.\n"
     ]
    },
    {
     "name": "stdout",
     "output_type": "stream",
     "text": [
      "Model saved for current chunk\n",
      "Begin preprocessing\n",
      "Run 335\n"
     ]
    },
    {
     "name": "stderr",
     "output_type": "stream",
     "text": [
      "24/04/29 22:08:44 WARN TaskSetManager: Stage 9476 contains a task of very large size (3211 KiB). The maximum recommended task size is 1000 KiB.\n"
     ]
    },
    {
     "name": "stdout",
     "output_type": "stream",
     "text": [
      "Model saved for current chunk\n",
      "Begin preprocessing\n",
      "Run 336\n"
     ]
    },
    {
     "name": "stderr",
     "output_type": "stream",
     "text": [
      "24/04/29 22:08:49 WARN TaskSetManager: Stage 9504 contains a task of very large size (3211 KiB). The maximum recommended task size is 1000 KiB.\n"
     ]
    },
    {
     "name": "stdout",
     "output_type": "stream",
     "text": [
      "Model saved for current chunk\n",
      "Begin preprocessing\n",
      "Run 337\n"
     ]
    },
    {
     "name": "stderr",
     "output_type": "stream",
     "text": [
      "24/04/29 22:08:55 WARN TaskSetManager: Stage 9532 contains a task of very large size (3211 KiB). The maximum recommended task size is 1000 KiB.\n"
     ]
    },
    {
     "name": "stdout",
     "output_type": "stream",
     "text": [
      "Model saved for current chunk\n",
      "Begin preprocessing\n",
      "Run 338\n"
     ]
    },
    {
     "name": "stderr",
     "output_type": "stream",
     "text": [
      "24/04/29 22:09:00 WARN TaskSetManager: Stage 9560 contains a task of very large size (3211 KiB). The maximum recommended task size is 1000 KiB.\n"
     ]
    },
    {
     "name": "stdout",
     "output_type": "stream",
     "text": [
      "Model saved for current chunk\n",
      "Begin preprocessing\n",
      "Run 339\n"
     ]
    },
    {
     "name": "stderr",
     "output_type": "stream",
     "text": [
      "24/04/29 22:09:04 WARN TaskSetManager: Stage 9588 contains a task of very large size (3211 KiB). The maximum recommended task size is 1000 KiB.\n"
     ]
    },
    {
     "name": "stdout",
     "output_type": "stream",
     "text": [
      "Model saved for current chunk\n",
      "Begin preprocessing\n",
      "Run 340\n"
     ]
    },
    {
     "name": "stderr",
     "output_type": "stream",
     "text": [
      "24/04/29 22:09:08 WARN TaskSetManager: Stage 9616 contains a task of very large size (3211 KiB). The maximum recommended task size is 1000 KiB.\n"
     ]
    },
    {
     "name": "stdout",
     "output_type": "stream",
     "text": [
      "Model saved for current chunk\n",
      "Begin preprocessing\n",
      "Run 341\n"
     ]
    },
    {
     "name": "stderr",
     "output_type": "stream",
     "text": [
      "24/04/29 22:09:12 WARN TaskSetManager: Stage 9644 contains a task of very large size (3211 KiB). The maximum recommended task size is 1000 KiB.\n"
     ]
    },
    {
     "name": "stdout",
     "output_type": "stream",
     "text": [
      "Model saved for current chunk\n",
      "Begin preprocessing\n",
      "Run 342\n"
     ]
    },
    {
     "name": "stderr",
     "output_type": "stream",
     "text": [
      "24/04/29 22:09:16 WARN TaskSetManager: Stage 9672 contains a task of very large size (3211 KiB). The maximum recommended task size is 1000 KiB.\n"
     ]
    },
    {
     "name": "stdout",
     "output_type": "stream",
     "text": [
      "Model saved for current chunk\n",
      "Begin preprocessing\n",
      "Run 343\n"
     ]
    },
    {
     "name": "stderr",
     "output_type": "stream",
     "text": [
      "24/04/29 22:09:20 WARN TaskSetManager: Stage 9700 contains a task of very large size (3211 KiB). The maximum recommended task size is 1000 KiB.\n"
     ]
    },
    {
     "name": "stdout",
     "output_type": "stream",
     "text": [
      "Model saved for current chunk\n",
      "Begin preprocessing\n",
      "Run 344\n"
     ]
    },
    {
     "name": "stderr",
     "output_type": "stream",
     "text": [
      "24/04/29 22:09:24 WARN TaskSetManager: Stage 9728 contains a task of very large size (3211 KiB). The maximum recommended task size is 1000 KiB.\n"
     ]
    },
    {
     "name": "stdout",
     "output_type": "stream",
     "text": [
      "Model saved for current chunk\n",
      "Begin preprocessing\n",
      "Run 345\n"
     ]
    },
    {
     "name": "stderr",
     "output_type": "stream",
     "text": [
      "24/04/29 22:09:29 WARN TaskSetManager: Stage 9756 contains a task of very large size (3211 KiB). The maximum recommended task size is 1000 KiB.\n"
     ]
    },
    {
     "name": "stdout",
     "output_type": "stream",
     "text": [
      "Model saved for current chunk\n",
      "Begin preprocessing\n",
      "Run 346\n"
     ]
    },
    {
     "name": "stderr",
     "output_type": "stream",
     "text": [
      "24/04/29 22:09:33 WARN TaskSetManager: Stage 9784 contains a task of very large size (3211 KiB). The maximum recommended task size is 1000 KiB.\n"
     ]
    },
    {
     "name": "stdout",
     "output_type": "stream",
     "text": [
      "Model saved for current chunk\n",
      "Begin preprocessing\n",
      "Run 347\n"
     ]
    },
    {
     "name": "stderr",
     "output_type": "stream",
     "text": [
      "24/04/29 22:09:38 WARN TaskSetManager: Stage 9812 contains a task of very large size (3211 KiB). The maximum recommended task size is 1000 KiB.\n"
     ]
    },
    {
     "name": "stdout",
     "output_type": "stream",
     "text": [
      "Model saved for current chunk\n",
      "Begin preprocessing\n",
      "Run 348\n"
     ]
    },
    {
     "name": "stderr",
     "output_type": "stream",
     "text": [
      "24/04/29 22:09:42 WARN TaskSetManager: Stage 9840 contains a task of very large size (3211 KiB). The maximum recommended task size is 1000 KiB.\n"
     ]
    },
    {
     "name": "stdout",
     "output_type": "stream",
     "text": [
      "Model saved for current chunk\n",
      "Begin preprocessing\n",
      "Run 349\n"
     ]
    },
    {
     "name": "stderr",
     "output_type": "stream",
     "text": [
      "24/04/29 22:09:46 WARN TaskSetManager: Stage 9868 contains a task of very large size (3211 KiB). The maximum recommended task size is 1000 KiB.\n"
     ]
    },
    {
     "name": "stdout",
     "output_type": "stream",
     "text": [
      "Model saved for current chunk\n",
      "Begin preprocessing\n",
      "Run 350\n"
     ]
    },
    {
     "name": "stderr",
     "output_type": "stream",
     "text": [
      "24/04/29 22:09:50 WARN TaskSetManager: Stage 9896 contains a task of very large size (3211 KiB). The maximum recommended task size is 1000 KiB.\n"
     ]
    },
    {
     "name": "stdout",
     "output_type": "stream",
     "text": [
      "Model saved for current chunk\n",
      "Begin preprocessing\n",
      "Run 351\n"
     ]
    },
    {
     "name": "stderr",
     "output_type": "stream",
     "text": [
      "24/04/29 22:09:54 WARN TaskSetManager: Stage 9924 contains a task of very large size (3211 KiB). The maximum recommended task size is 1000 KiB.\n"
     ]
    },
    {
     "name": "stdout",
     "output_type": "stream",
     "text": [
      "Model saved for current chunk\n",
      "Begin preprocessing\n",
      "Run 352\n"
     ]
    },
    {
     "name": "stderr",
     "output_type": "stream",
     "text": [
      "24/04/29 22:09:58 WARN TaskSetManager: Stage 9952 contains a task of very large size (3211 KiB). The maximum recommended task size is 1000 KiB.\n"
     ]
    },
    {
     "name": "stdout",
     "output_type": "stream",
     "text": [
      "Model saved for current chunk\n",
      "Begin preprocessing\n",
      "Run 353\n"
     ]
    },
    {
     "name": "stderr",
     "output_type": "stream",
     "text": [
      "24/04/29 22:10:02 WARN TaskSetManager: Stage 9980 contains a task of very large size (3211 KiB). The maximum recommended task size is 1000 KiB.\n"
     ]
    },
    {
     "name": "stdout",
     "output_type": "stream",
     "text": [
      "Model saved for current chunk\n",
      "Begin preprocessing\n",
      "Run 354\n"
     ]
    },
    {
     "name": "stderr",
     "output_type": "stream",
     "text": [
      "24/04/29 22:10:07 WARN TaskSetManager: Stage 10008 contains a task of very large size (3211 KiB). The maximum recommended task size is 1000 KiB.\n"
     ]
    },
    {
     "name": "stdout",
     "output_type": "stream",
     "text": [
      "Model saved for current chunk\n",
      "Begin preprocessing\n",
      "Run 355\n"
     ]
    },
    {
     "name": "stderr",
     "output_type": "stream",
     "text": [
      "24/04/29 22:10:11 WARN TaskSetManager: Stage 10036 contains a task of very large size (3211 KiB). The maximum recommended task size is 1000 KiB.\n"
     ]
    },
    {
     "name": "stdout",
     "output_type": "stream",
     "text": [
      "Model saved for current chunk\n",
      "Begin preprocessing\n",
      "Run 356\n"
     ]
    },
    {
     "name": "stderr",
     "output_type": "stream",
     "text": [
      "24/04/29 22:10:16 WARN TaskSetManager: Stage 10064 contains a task of very large size (3211 KiB). The maximum recommended task size is 1000 KiB.\n"
     ]
    },
    {
     "name": "stdout",
     "output_type": "stream",
     "text": [
      "Model saved for current chunk\n",
      "Begin preprocessing\n",
      "Run 357\n"
     ]
    },
    {
     "name": "stderr",
     "output_type": "stream",
     "text": [
      "24/04/29 22:10:20 WARN TaskSetManager: Stage 10092 contains a task of very large size (3211 KiB). The maximum recommended task size is 1000 KiB.\n"
     ]
    },
    {
     "name": "stdout",
     "output_type": "stream",
     "text": [
      "Model saved for current chunk\n",
      "Begin preprocessing\n",
      "Run 358\n"
     ]
    },
    {
     "name": "stderr",
     "output_type": "stream",
     "text": [
      "24/04/29 22:10:24 WARN TaskSetManager: Stage 10120 contains a task of very large size (3211 KiB). The maximum recommended task size is 1000 KiB.\n"
     ]
    },
    {
     "name": "stdout",
     "output_type": "stream",
     "text": [
      "Model saved for current chunk\n",
      "Begin preprocessing\n",
      "Run 359\n"
     ]
    },
    {
     "name": "stderr",
     "output_type": "stream",
     "text": [
      "24/04/29 22:10:28 WARN TaskSetManager: Stage 10148 contains a task of very large size (3211 KiB). The maximum recommended task size is 1000 KiB.\n"
     ]
    },
    {
     "name": "stdout",
     "output_type": "stream",
     "text": [
      "Model saved for current chunk\n",
      "Begin preprocessing\n",
      "Run 360\n"
     ]
    },
    {
     "name": "stderr",
     "output_type": "stream",
     "text": [
      "24/04/29 22:10:32 WARN TaskSetManager: Stage 10176 contains a task of very large size (3211 KiB). The maximum recommended task size is 1000 KiB.\n"
     ]
    },
    {
     "name": "stdout",
     "output_type": "stream",
     "text": [
      "Model saved for current chunk\n",
      "Begin preprocessing\n",
      "Run 361\n"
     ]
    },
    {
     "name": "stderr",
     "output_type": "stream",
     "text": [
      "24/04/29 22:10:36 WARN TaskSetManager: Stage 10204 contains a task of very large size (3211 KiB). The maximum recommended task size is 1000 KiB.\n"
     ]
    },
    {
     "name": "stdout",
     "output_type": "stream",
     "text": [
      "Model saved for current chunk\n",
      "Begin preprocessing\n",
      "Run 362\n"
     ]
    },
    {
     "name": "stderr",
     "output_type": "stream",
     "text": [
      "24/04/29 22:10:40 WARN TaskSetManager: Stage 10232 contains a task of very large size (3211 KiB). The maximum recommended task size is 1000 KiB.\n"
     ]
    },
    {
     "name": "stdout",
     "output_type": "stream",
     "text": [
      "Model saved for current chunk\n",
      "Begin preprocessing\n",
      "Run 363\n"
     ]
    },
    {
     "name": "stderr",
     "output_type": "stream",
     "text": [
      "24/04/29 22:10:44 WARN TaskSetManager: Stage 10260 contains a task of very large size (3211 KiB). The maximum recommended task size is 1000 KiB.\n"
     ]
    },
    {
     "name": "stdout",
     "output_type": "stream",
     "text": [
      "Model saved for current chunk\n",
      "Begin preprocessing\n",
      "Run 364\n"
     ]
    },
    {
     "name": "stderr",
     "output_type": "stream",
     "text": [
      "24/04/29 22:10:48 WARN TaskSetManager: Stage 10288 contains a task of very large size (3211 KiB). The maximum recommended task size is 1000 KiB.\n"
     ]
    },
    {
     "name": "stdout",
     "output_type": "stream",
     "text": [
      "Model saved for current chunk\n",
      "Begin preprocessing\n",
      "Run 365\n"
     ]
    },
    {
     "name": "stderr",
     "output_type": "stream",
     "text": [
      "24/04/29 22:10:52 WARN TaskSetManager: Stage 10316 contains a task of very large size (3211 KiB). The maximum recommended task size is 1000 KiB.\n"
     ]
    },
    {
     "name": "stdout",
     "output_type": "stream",
     "text": [
      "Model saved for current chunk\n",
      "Begin preprocessing\n",
      "Run 366\n"
     ]
    },
    {
     "name": "stderr",
     "output_type": "stream",
     "text": [
      "24/04/29 22:10:57 WARN TaskSetManager: Stage 10344 contains a task of very large size (3211 KiB). The maximum recommended task size is 1000 KiB.\n"
     ]
    },
    {
     "name": "stdout",
     "output_type": "stream",
     "text": [
      "Model saved for current chunk\n",
      "Begin preprocessing\n",
      "Run 367\n"
     ]
    },
    {
     "name": "stderr",
     "output_type": "stream",
     "text": [
      "24/04/29 22:11:01 WARN TaskSetManager: Stage 10372 contains a task of very large size (3211 KiB). The maximum recommended task size is 1000 KiB.\n"
     ]
    },
    {
     "name": "stdout",
     "output_type": "stream",
     "text": [
      "Model saved for current chunk\n",
      "Begin preprocessing\n",
      "Run 368\n"
     ]
    },
    {
     "name": "stderr",
     "output_type": "stream",
     "text": [
      "24/04/29 22:11:05 WARN TaskSetManager: Stage 10400 contains a task of very large size (3211 KiB). The maximum recommended task size is 1000 KiB.\n"
     ]
    },
    {
     "name": "stdout",
     "output_type": "stream",
     "text": [
      "Model saved for current chunk\n",
      "Begin preprocessing\n",
      "Run 369\n"
     ]
    },
    {
     "name": "stderr",
     "output_type": "stream",
     "text": [
      "24/04/29 22:11:09 WARN TaskSetManager: Stage 10428 contains a task of very large size (3211 KiB). The maximum recommended task size is 1000 KiB.\n"
     ]
    },
    {
     "name": "stdout",
     "output_type": "stream",
     "text": [
      "Model saved for current chunk\n",
      "Begin preprocessing\n",
      "Run 370\n"
     ]
    },
    {
     "name": "stderr",
     "output_type": "stream",
     "text": [
      "24/04/29 22:11:13 WARN TaskSetManager: Stage 10456 contains a task of very large size (3211 KiB). The maximum recommended task size is 1000 KiB.\n"
     ]
    },
    {
     "name": "stdout",
     "output_type": "stream",
     "text": [
      "Model saved for current chunk\n",
      "Begin preprocessing\n",
      "Run 371\n"
     ]
    },
    {
     "name": "stderr",
     "output_type": "stream",
     "text": [
      "24/04/29 22:11:16 WARN TaskSetManager: Stage 10484 contains a task of very large size (3211 KiB). The maximum recommended task size is 1000 KiB.\n"
     ]
    },
    {
     "name": "stdout",
     "output_type": "stream",
     "text": [
      "Model saved for current chunk\n",
      "Begin preprocessing\n",
      "Run 372\n"
     ]
    },
    {
     "name": "stderr",
     "output_type": "stream",
     "text": [
      "24/04/29 22:11:21 WARN TaskSetManager: Stage 10512 contains a task of very large size (3211 KiB). The maximum recommended task size is 1000 KiB.\n"
     ]
    },
    {
     "name": "stdout",
     "output_type": "stream",
     "text": [
      "Model saved for current chunk\n",
      "Begin preprocessing\n",
      "Run 373\n"
     ]
    },
    {
     "name": "stderr",
     "output_type": "stream",
     "text": [
      "24/04/29 22:11:25 WARN TaskSetManager: Stage 10540 contains a task of very large size (3211 KiB). The maximum recommended task size is 1000 KiB.\n"
     ]
    },
    {
     "name": "stdout",
     "output_type": "stream",
     "text": [
      "Model saved for current chunk\n",
      "Begin preprocessing\n",
      "Run 374\n"
     ]
    },
    {
     "name": "stderr",
     "output_type": "stream",
     "text": [
      "24/04/29 22:11:30 WARN TaskSetManager: Stage 10568 contains a task of very large size (3211 KiB). The maximum recommended task size is 1000 KiB.\n"
     ]
    },
    {
     "name": "stdout",
     "output_type": "stream",
     "text": [
      "Model saved for current chunk\n",
      "Begin preprocessing\n",
      "Run 375\n"
     ]
    },
    {
     "name": "stderr",
     "output_type": "stream",
     "text": [
      "24/04/29 22:11:34 WARN TaskSetManager: Stage 10596 contains a task of very large size (3211 KiB). The maximum recommended task size is 1000 KiB.\n"
     ]
    },
    {
     "name": "stdout",
     "output_type": "stream",
     "text": [
      "Model saved for current chunk\n",
      "Begin preprocessing\n",
      "Run 376\n"
     ]
    },
    {
     "name": "stderr",
     "output_type": "stream",
     "text": [
      "24/04/29 22:11:38 WARN TaskSetManager: Stage 10624 contains a task of very large size (3211 KiB). The maximum recommended task size is 1000 KiB.\n"
     ]
    },
    {
     "name": "stdout",
     "output_type": "stream",
     "text": [
      "Model saved for current chunk\n",
      "Begin preprocessing\n",
      "Run 377\n"
     ]
    },
    {
     "name": "stderr",
     "output_type": "stream",
     "text": [
      "24/04/29 22:11:42 WARN TaskSetManager: Stage 10652 contains a task of very large size (3211 KiB). The maximum recommended task size is 1000 KiB.\n"
     ]
    },
    {
     "name": "stdout",
     "output_type": "stream",
     "text": [
      "Model saved for current chunk\n",
      "Begin preprocessing\n",
      "Run 378\n"
     ]
    },
    {
     "name": "stderr",
     "output_type": "stream",
     "text": [
      "24/04/29 22:11:46 WARN TaskSetManager: Stage 10680 contains a task of very large size (3211 KiB). The maximum recommended task size is 1000 KiB.\n"
     ]
    },
    {
     "name": "stdout",
     "output_type": "stream",
     "text": [
      "Model saved for current chunk\n",
      "Begin preprocessing\n",
      "Run 379\n"
     ]
    },
    {
     "name": "stderr",
     "output_type": "stream",
     "text": [
      "24/04/29 22:11:50 WARN TaskSetManager: Stage 10708 contains a task of very large size (3211 KiB). The maximum recommended task size is 1000 KiB.\n"
     ]
    },
    {
     "name": "stdout",
     "output_type": "stream",
     "text": [
      "Model saved for current chunk\n",
      "Begin preprocessing\n",
      "Run 380\n"
     ]
    },
    {
     "name": "stderr",
     "output_type": "stream",
     "text": [
      "24/04/29 22:11:54 WARN TaskSetManager: Stage 10736 contains a task of very large size (3211 KiB). The maximum recommended task size is 1000 KiB.\n"
     ]
    },
    {
     "name": "stdout",
     "output_type": "stream",
     "text": [
      "Model saved for current chunk\n",
      "Begin preprocessing\n",
      "Run 381\n"
     ]
    },
    {
     "name": "stderr",
     "output_type": "stream",
     "text": [
      "24/04/29 22:11:58 WARN TaskSetManager: Stage 10764 contains a task of very large size (3211 KiB). The maximum recommended task size is 1000 KiB.\n"
     ]
    },
    {
     "name": "stdout",
     "output_type": "stream",
     "text": [
      "Model saved for current chunk\n",
      "Begin preprocessing\n",
      "Run 382\n"
     ]
    },
    {
     "name": "stderr",
     "output_type": "stream",
     "text": [
      "24/04/29 22:12:02 WARN TaskSetManager: Stage 10792 contains a task of very large size (3211 KiB). The maximum recommended task size is 1000 KiB.\n"
     ]
    },
    {
     "name": "stdout",
     "output_type": "stream",
     "text": [
      "Model saved for current chunk\n",
      "Begin preprocessing\n",
      "Run 383\n"
     ]
    },
    {
     "name": "stderr",
     "output_type": "stream",
     "text": [
      "24/04/29 22:12:07 WARN TaskSetManager: Stage 10820 contains a task of very large size (3211 KiB). The maximum recommended task size is 1000 KiB.\n"
     ]
    },
    {
     "name": "stdout",
     "output_type": "stream",
     "text": [
      "Model saved for current chunk\n",
      "Begin preprocessing\n",
      "Run 384\n"
     ]
    },
    {
     "name": "stderr",
     "output_type": "stream",
     "text": [
      "24/04/29 22:12:11 WARN TaskSetManager: Stage 10848 contains a task of very large size (3211 KiB). The maximum recommended task size is 1000 KiB.\n"
     ]
    },
    {
     "name": "stdout",
     "output_type": "stream",
     "text": [
      "Model saved for current chunk\n",
      "Begin preprocessing\n",
      "Run 385\n"
     ]
    },
    {
     "name": "stderr",
     "output_type": "stream",
     "text": [
      "24/04/29 22:12:16 WARN TaskSetManager: Stage 10876 contains a task of very large size (3211 KiB). The maximum recommended task size is 1000 KiB.\n"
     ]
    },
    {
     "name": "stdout",
     "output_type": "stream",
     "text": [
      "Model saved for current chunk\n",
      "Begin preprocessing\n",
      "Run 386\n"
     ]
    },
    {
     "name": "stderr",
     "output_type": "stream",
     "text": [
      "24/04/29 22:12:20 WARN TaskSetManager: Stage 10904 contains a task of very large size (3211 KiB). The maximum recommended task size is 1000 KiB.\n"
     ]
    },
    {
     "name": "stdout",
     "output_type": "stream",
     "text": [
      "Model saved for current chunk\n",
      "Begin preprocessing\n",
      "Run 387\n"
     ]
    },
    {
     "name": "stderr",
     "output_type": "stream",
     "text": [
      "24/04/29 22:12:24 WARN TaskSetManager: Stage 10932 contains a task of very large size (3211 KiB). The maximum recommended task size is 1000 KiB.\n"
     ]
    },
    {
     "name": "stdout",
     "output_type": "stream",
     "text": [
      "Model saved for current chunk\n",
      "Begin preprocessing\n",
      "Run 388\n"
     ]
    },
    {
     "name": "stderr",
     "output_type": "stream",
     "text": [
      "24/04/29 22:12:28 WARN TaskSetManager: Stage 10960 contains a task of very large size (3211 KiB). The maximum recommended task size is 1000 KiB.\n"
     ]
    },
    {
     "name": "stdout",
     "output_type": "stream",
     "text": [
      "Model saved for current chunk\n",
      "Begin preprocessing\n",
      "Run 389\n"
     ]
    },
    {
     "name": "stderr",
     "output_type": "stream",
     "text": [
      "24/04/29 22:12:31 WARN TaskSetManager: Stage 10988 contains a task of very large size (3211 KiB). The maximum recommended task size is 1000 KiB.\n"
     ]
    },
    {
     "name": "stdout",
     "output_type": "stream",
     "text": [
      "Model saved for current chunk\n",
      "Begin preprocessing\n",
      "Run 390\n"
     ]
    },
    {
     "name": "stderr",
     "output_type": "stream",
     "text": [
      "24/04/29 22:12:35 WARN TaskSetManager: Stage 11016 contains a task of very large size (3211 KiB). The maximum recommended task size is 1000 KiB.\n"
     ]
    },
    {
     "name": "stdout",
     "output_type": "stream",
     "text": [
      "Model saved for current chunk\n",
      "Begin preprocessing\n",
      "Run 391\n"
     ]
    },
    {
     "name": "stderr",
     "output_type": "stream",
     "text": [
      "24/04/29 22:12:38 WARN TaskSetManager: Stage 11044 contains a task of very large size (3211 KiB). The maximum recommended task size is 1000 KiB.\n"
     ]
    },
    {
     "name": "stdout",
     "output_type": "stream",
     "text": [
      "Model saved for current chunk\n",
      "Begin preprocessing\n",
      "Run 392\n"
     ]
    },
    {
     "name": "stderr",
     "output_type": "stream",
     "text": [
      "24/04/29 22:12:42 WARN TaskSetManager: Stage 11072 contains a task of very large size (3211 KiB). The maximum recommended task size is 1000 KiB.\n"
     ]
    },
    {
     "name": "stdout",
     "output_type": "stream",
     "text": [
      "Model saved for current chunk\n",
      "Begin preprocessing\n",
      "Run 393\n"
     ]
    },
    {
     "name": "stderr",
     "output_type": "stream",
     "text": [
      "24/04/29 22:12:47 WARN TaskSetManager: Stage 11100 contains a task of very large size (3211 KiB). The maximum recommended task size is 1000 KiB.\n"
     ]
    },
    {
     "name": "stdout",
     "output_type": "stream",
     "text": [
      "Model saved for current chunk\n",
      "Begin preprocessing\n",
      "Run 394\n"
     ]
    },
    {
     "name": "stderr",
     "output_type": "stream",
     "text": [
      "24/04/29 22:12:51 WARN TaskSetManager: Stage 11128 contains a task of very large size (3211 KiB). The maximum recommended task size is 1000 KiB.\n"
     ]
    },
    {
     "name": "stdout",
     "output_type": "stream",
     "text": [
      "Model saved for current chunk\n",
      "Begin preprocessing\n",
      "Run 395\n"
     ]
    },
    {
     "name": "stderr",
     "output_type": "stream",
     "text": [
      "24/04/29 22:12:56 WARN TaskSetManager: Stage 11156 contains a task of very large size (3211 KiB). The maximum recommended task size is 1000 KiB.\n"
     ]
    },
    {
     "name": "stdout",
     "output_type": "stream",
     "text": [
      "Model saved for current chunk\n",
      "Begin preprocessing\n",
      "Run 396\n"
     ]
    },
    {
     "name": "stderr",
     "output_type": "stream",
     "text": [
      "24/04/29 22:13:01 WARN TaskSetManager: Stage 11184 contains a task of very large size (3211 KiB). The maximum recommended task size is 1000 KiB.\n"
     ]
    },
    {
     "name": "stdout",
     "output_type": "stream",
     "text": [
      "Model saved for current chunk\n",
      "Begin preprocessing\n",
      "Run 397\n"
     ]
    },
    {
     "name": "stderr",
     "output_type": "stream",
     "text": [
      "24/04/29 22:13:05 WARN TaskSetManager: Stage 11212 contains a task of very large size (3211 KiB). The maximum recommended task size is 1000 KiB.\n"
     ]
    },
    {
     "name": "stdout",
     "output_type": "stream",
     "text": [
      "Model saved for current chunk\n",
      "Begin preprocessing\n",
      "Run 398\n"
     ]
    },
    {
     "name": "stderr",
     "output_type": "stream",
     "text": [
      "24/04/29 22:13:09 WARN TaskSetManager: Stage 11240 contains a task of very large size (3211 KiB). The maximum recommended task size is 1000 KiB.\n"
     ]
    },
    {
     "name": "stdout",
     "output_type": "stream",
     "text": [
      "Model saved for current chunk\n",
      "Begin preprocessing\n",
      "Run 399\n"
     ]
    },
    {
     "name": "stderr",
     "output_type": "stream",
     "text": [
      "24/04/29 22:13:14 WARN TaskSetManager: Stage 11268 contains a task of very large size (3211 KiB). The maximum recommended task size is 1000 KiB.\n"
     ]
    },
    {
     "name": "stdout",
     "output_type": "stream",
     "text": [
      "Model saved for current chunk\n",
      "Begin preprocessing\n",
      "Run 400\n"
     ]
    },
    {
     "name": "stderr",
     "output_type": "stream",
     "text": [
      "24/04/29 22:13:17 WARN TaskSetManager: Stage 11296 contains a task of very large size (3211 KiB). The maximum recommended task size is 1000 KiB.\n"
     ]
    },
    {
     "name": "stdout",
     "output_type": "stream",
     "text": [
      "Model saved for current chunk\n",
      "Begin preprocessing\n",
      "Run 401\n"
     ]
    },
    {
     "name": "stderr",
     "output_type": "stream",
     "text": [
      "24/04/29 22:13:21 WARN TaskSetManager: Stage 11324 contains a task of very large size (3211 KiB). The maximum recommended task size is 1000 KiB.\n"
     ]
    },
    {
     "name": "stdout",
     "output_type": "stream",
     "text": [
      "Model saved for current chunk\n",
      "Begin preprocessing\n",
      "Run 402\n"
     ]
    },
    {
     "name": "stderr",
     "output_type": "stream",
     "text": [
      "24/04/29 22:13:26 WARN TaskSetManager: Stage 11352 contains a task of very large size (3211 KiB). The maximum recommended task size is 1000 KiB.\n"
     ]
    },
    {
     "name": "stdout",
     "output_type": "stream",
     "text": [
      "Model saved for current chunk\n",
      "Begin preprocessing\n",
      "Run 403\n"
     ]
    },
    {
     "name": "stderr",
     "output_type": "stream",
     "text": [
      "24/04/29 22:13:30 WARN TaskSetManager: Stage 11380 contains a task of very large size (3211 KiB). The maximum recommended task size is 1000 KiB.\n"
     ]
    },
    {
     "name": "stdout",
     "output_type": "stream",
     "text": [
      "Model saved for current chunk\n",
      "Begin preprocessing\n",
      "Run 404\n"
     ]
    },
    {
     "name": "stderr",
     "output_type": "stream",
     "text": [
      "24/04/29 22:13:34 WARN TaskSetManager: Stage 11408 contains a task of very large size (3211 KiB). The maximum recommended task size is 1000 KiB.\n"
     ]
    },
    {
     "name": "stdout",
     "output_type": "stream",
     "text": [
      "Model saved for current chunk\n",
      "Begin preprocessing\n",
      "Run 405\n"
     ]
    },
    {
     "name": "stderr",
     "output_type": "stream",
     "text": [
      "24/04/29 22:13:39 WARN TaskSetManager: Stage 11436 contains a task of very large size (3211 KiB). The maximum recommended task size is 1000 KiB.\n"
     ]
    },
    {
     "name": "stdout",
     "output_type": "stream",
     "text": [
      "Model saved for current chunk\n",
      "Begin preprocessing\n",
      "Run 406\n"
     ]
    },
    {
     "name": "stderr",
     "output_type": "stream",
     "text": [
      "24/04/29 22:13:43 WARN TaskSetManager: Stage 11464 contains a task of very large size (3211 KiB). The maximum recommended task size is 1000 KiB.\n"
     ]
    },
    {
     "name": "stdout",
     "output_type": "stream",
     "text": [
      "Model saved for current chunk\n",
      "Begin preprocessing\n",
      "Run 407\n"
     ]
    },
    {
     "name": "stderr",
     "output_type": "stream",
     "text": [
      "24/04/29 22:13:48 WARN TaskSetManager: Stage 11492 contains a task of very large size (3211 KiB). The maximum recommended task size is 1000 KiB.\n"
     ]
    },
    {
     "name": "stdout",
     "output_type": "stream",
     "text": [
      "Model saved for current chunk\n",
      "Begin preprocessing\n",
      "Run 408\n"
     ]
    },
    {
     "name": "stderr",
     "output_type": "stream",
     "text": [
      "24/04/29 22:13:51 WARN TaskSetManager: Stage 11520 contains a task of very large size (3211 KiB). The maximum recommended task size is 1000 KiB.\n"
     ]
    },
    {
     "name": "stdout",
     "output_type": "stream",
     "text": [
      "Model saved for current chunk\n",
      "Begin preprocessing\n",
      "Run 409\n"
     ]
    },
    {
     "name": "stderr",
     "output_type": "stream",
     "text": [
      "24/04/29 22:13:55 WARN TaskSetManager: Stage 11548 contains a task of very large size (3211 KiB). The maximum recommended task size is 1000 KiB.\n"
     ]
    },
    {
     "name": "stdout",
     "output_type": "stream",
     "text": [
      "Model saved for current chunk\n",
      "Begin preprocessing\n",
      "Run 410\n"
     ]
    },
    {
     "name": "stderr",
     "output_type": "stream",
     "text": [
      "24/04/29 22:13:59 WARN TaskSetManager: Stage 11576 contains a task of very large size (3211 KiB). The maximum recommended task size is 1000 KiB.\n"
     ]
    },
    {
     "name": "stdout",
     "output_type": "stream",
     "text": [
      "Model saved for current chunk\n",
      "Begin preprocessing\n",
      "Run 411\n"
     ]
    },
    {
     "name": "stderr",
     "output_type": "stream",
     "text": [
      "24/04/29 22:14:03 WARN TaskSetManager: Stage 11604 contains a task of very large size (3211 KiB). The maximum recommended task size is 1000 KiB.\n"
     ]
    },
    {
     "name": "stdout",
     "output_type": "stream",
     "text": [
      "Model saved for current chunk\n",
      "Begin preprocessing\n",
      "Run 412\n"
     ]
    },
    {
     "name": "stderr",
     "output_type": "stream",
     "text": [
      "24/04/29 22:14:07 WARN TaskSetManager: Stage 11632 contains a task of very large size (3211 KiB). The maximum recommended task size is 1000 KiB.\n"
     ]
    },
    {
     "name": "stdout",
     "output_type": "stream",
     "text": [
      "Model saved for current chunk\n",
      "Begin preprocessing\n",
      "Run 413\n"
     ]
    },
    {
     "name": "stderr",
     "output_type": "stream",
     "text": [
      "24/04/29 22:14:11 WARN TaskSetManager: Stage 11660 contains a task of very large size (3211 KiB). The maximum recommended task size is 1000 KiB.\n"
     ]
    },
    {
     "name": "stdout",
     "output_type": "stream",
     "text": [
      "Model saved for current chunk\n",
      "Begin preprocessing\n",
      "Run 414\n"
     ]
    },
    {
     "name": "stderr",
     "output_type": "stream",
     "text": [
      "24/04/29 22:14:15 WARN TaskSetManager: Stage 11688 contains a task of very large size (3211 KiB). The maximum recommended task size is 1000 KiB.\n"
     ]
    },
    {
     "name": "stdout",
     "output_type": "stream",
     "text": [
      "Model saved for current chunk\n",
      "Begin preprocessing\n",
      "Run 415\n"
     ]
    },
    {
     "name": "stderr",
     "output_type": "stream",
     "text": [
      "24/04/29 22:14:19 WARN TaskSetManager: Stage 11716 contains a task of very large size (3211 KiB). The maximum recommended task size is 1000 KiB.\n"
     ]
    },
    {
     "name": "stdout",
     "output_type": "stream",
     "text": [
      "Model saved for current chunk\n",
      "Begin preprocessing\n",
      "Run 416\n"
     ]
    },
    {
     "name": "stderr",
     "output_type": "stream",
     "text": [
      "24/04/29 22:14:23 WARN TaskSetManager: Stage 11744 contains a task of very large size (3211 KiB). The maximum recommended task size is 1000 KiB.\n"
     ]
    },
    {
     "name": "stdout",
     "output_type": "stream",
     "text": [
      "Model saved for current chunk\n",
      "Begin preprocessing\n",
      "Run 417\n"
     ]
    },
    {
     "name": "stderr",
     "output_type": "stream",
     "text": [
      "24/04/29 22:14:28 WARN TaskSetManager: Stage 11772 contains a task of very large size (3211 KiB). The maximum recommended task size is 1000 KiB.\n"
     ]
    },
    {
     "name": "stdout",
     "output_type": "stream",
     "text": [
      "Model saved for current chunk\n",
      "Begin preprocessing\n",
      "Run 418\n"
     ]
    },
    {
     "name": "stderr",
     "output_type": "stream",
     "text": [
      "24/04/29 22:14:32 WARN TaskSetManager: Stage 11800 contains a task of very large size (3211 KiB). The maximum recommended task size is 1000 KiB.\n"
     ]
    },
    {
     "name": "stdout",
     "output_type": "stream",
     "text": [
      "Model saved for current chunk\n",
      "Begin preprocessing\n",
      "Run 419\n"
     ]
    },
    {
     "name": "stderr",
     "output_type": "stream",
     "text": [
      "24/04/29 22:14:35 WARN TaskSetManager: Stage 11828 contains a task of very large size (3211 KiB). The maximum recommended task size is 1000 KiB.\n"
     ]
    },
    {
     "name": "stdout",
     "output_type": "stream",
     "text": [
      "Model saved for current chunk\n",
      "Begin preprocessing\n",
      "Run 420\n"
     ]
    },
    {
     "name": "stderr",
     "output_type": "stream",
     "text": [
      "24/04/29 22:14:39 WARN TaskSetManager: Stage 11856 contains a task of very large size (3211 KiB). The maximum recommended task size is 1000 KiB.\n"
     ]
    },
    {
     "name": "stdout",
     "output_type": "stream",
     "text": [
      "Model saved for current chunk\n",
      "Begin preprocessing\n",
      "Run 421\n"
     ]
    },
    {
     "name": "stderr",
     "output_type": "stream",
     "text": [
      "24/04/29 22:14:43 WARN TaskSetManager: Stage 11884 contains a task of very large size (3211 KiB). The maximum recommended task size is 1000 KiB.\n"
     ]
    },
    {
     "name": "stdout",
     "output_type": "stream",
     "text": [
      "Model saved for current chunk\n",
      "Begin preprocessing\n",
      "Run 422\n"
     ]
    },
    {
     "name": "stderr",
     "output_type": "stream",
     "text": [
      "24/04/29 22:14:47 WARN TaskSetManager: Stage 11912 contains a task of very large size (3211 KiB). The maximum recommended task size is 1000 KiB.\n"
     ]
    },
    {
     "name": "stdout",
     "output_type": "stream",
     "text": [
      "Model saved for current chunk\n",
      "Begin preprocessing\n",
      "Run 423\n"
     ]
    },
    {
     "name": "stderr",
     "output_type": "stream",
     "text": [
      "24/04/29 22:14:51 WARN TaskSetManager: Stage 11940 contains a task of very large size (3211 KiB). The maximum recommended task size is 1000 KiB.\n"
     ]
    },
    {
     "name": "stdout",
     "output_type": "stream",
     "text": [
      "Model saved for current chunk\n",
      "Begin preprocessing\n",
      "Run 424\n"
     ]
    },
    {
     "name": "stderr",
     "output_type": "stream",
     "text": [
      "24/04/29 22:14:55 WARN TaskSetManager: Stage 11968 contains a task of very large size (3211 KiB). The maximum recommended task size is 1000 KiB.\n"
     ]
    },
    {
     "name": "stdout",
     "output_type": "stream",
     "text": [
      "Model saved for current chunk\n",
      "Begin preprocessing\n",
      "Run 425\n"
     ]
    },
    {
     "name": "stderr",
     "output_type": "stream",
     "text": [
      "24/04/29 22:15:00 WARN TaskSetManager: Stage 11996 contains a task of very large size (3211 KiB). The maximum recommended task size is 1000 KiB.\n"
     ]
    },
    {
     "name": "stdout",
     "output_type": "stream",
     "text": [
      "Model saved for current chunk\n",
      "Begin preprocessing\n",
      "Run 426\n"
     ]
    },
    {
     "name": "stderr",
     "output_type": "stream",
     "text": [
      "24/04/29 22:15:04 WARN TaskSetManager: Stage 12024 contains a task of very large size (3211 KiB). The maximum recommended task size is 1000 KiB.\n"
     ]
    },
    {
     "name": "stdout",
     "output_type": "stream",
     "text": [
      "Model saved for current chunk\n",
      "Begin preprocessing\n",
      "Run 427\n"
     ]
    },
    {
     "name": "stderr",
     "output_type": "stream",
     "text": [
      "24/04/29 22:15:09 WARN TaskSetManager: Stage 12052 contains a task of very large size (3211 KiB). The maximum recommended task size is 1000 KiB.\n"
     ]
    },
    {
     "name": "stdout",
     "output_type": "stream",
     "text": [
      "Model saved for current chunk\n",
      "Begin preprocessing\n",
      "Run 428\n"
     ]
    },
    {
     "name": "stderr",
     "output_type": "stream",
     "text": [
      "24/04/29 22:15:14 WARN TaskSetManager: Stage 12080 contains a task of very large size (3211 KiB). The maximum recommended task size is 1000 KiB.\n"
     ]
    },
    {
     "name": "stdout",
     "output_type": "stream",
     "text": [
      "Model saved for current chunk\n",
      "Begin preprocessing\n",
      "Run 429\n"
     ]
    },
    {
     "name": "stderr",
     "output_type": "stream",
     "text": [
      "24/04/29 22:15:18 WARN TaskSetManager: Stage 12108 contains a task of very large size (3211 KiB). The maximum recommended task size is 1000 KiB.\n"
     ]
    },
    {
     "name": "stdout",
     "output_type": "stream",
     "text": [
      "Model saved for current chunk\n",
      "Begin preprocessing\n",
      "Run 430\n"
     ]
    },
    {
     "name": "stderr",
     "output_type": "stream",
     "text": [
      "24/04/29 22:15:22 WARN TaskSetManager: Stage 12136 contains a task of very large size (3211 KiB). The maximum recommended task size is 1000 KiB.\n"
     ]
    },
    {
     "name": "stdout",
     "output_type": "stream",
     "text": [
      "Model saved for current chunk\n",
      "Begin preprocessing\n",
      "Run 431\n"
     ]
    },
    {
     "name": "stderr",
     "output_type": "stream",
     "text": [
      "24/04/29 22:15:26 WARN TaskSetManager: Stage 12164 contains a task of very large size (3211 KiB). The maximum recommended task size is 1000 KiB.\n"
     ]
    },
    {
     "name": "stdout",
     "output_type": "stream",
     "text": [
      "Model saved for current chunk\n",
      "Begin preprocessing\n",
      "Run 432\n"
     ]
    },
    {
     "name": "stderr",
     "output_type": "stream",
     "text": [
      "24/04/29 22:15:30 WARN TaskSetManager: Stage 12192 contains a task of very large size (3211 KiB). The maximum recommended task size is 1000 KiB.\n"
     ]
    },
    {
     "name": "stdout",
     "output_type": "stream",
     "text": [
      "Model saved for current chunk\n",
      "Begin preprocessing\n",
      "Run 433\n"
     ]
    },
    {
     "name": "stderr",
     "output_type": "stream",
     "text": [
      "24/04/29 22:15:34 WARN TaskSetManager: Stage 12220 contains a task of very large size (3211 KiB). The maximum recommended task size is 1000 KiB.\n"
     ]
    },
    {
     "name": "stdout",
     "output_type": "stream",
     "text": [
      "Model saved for current chunk\n",
      "Begin preprocessing\n",
      "Run 434\n"
     ]
    },
    {
     "name": "stderr",
     "output_type": "stream",
     "text": [
      "24/04/29 22:15:38 WARN TaskSetManager: Stage 12248 contains a task of very large size (3211 KiB). The maximum recommended task size is 1000 KiB.\n"
     ]
    },
    {
     "name": "stdout",
     "output_type": "stream",
     "text": [
      "Model saved for current chunk\n",
      "Begin preprocessing\n",
      "Run 435\n"
     ]
    },
    {
     "name": "stderr",
     "output_type": "stream",
     "text": [
      "24/04/29 22:15:42 WARN TaskSetManager: Stage 12276 contains a task of very large size (3211 KiB). The maximum recommended task size is 1000 KiB.\n"
     ]
    },
    {
     "name": "stdout",
     "output_type": "stream",
     "text": [
      "Model saved for current chunk\n",
      "Begin preprocessing\n",
      "Run 436\n"
     ]
    },
    {
     "name": "stderr",
     "output_type": "stream",
     "text": [
      "24/04/29 22:15:46 WARN TaskSetManager: Stage 12304 contains a task of very large size (3211 KiB). The maximum recommended task size is 1000 KiB.\n"
     ]
    },
    {
     "name": "stdout",
     "output_type": "stream",
     "text": [
      "Model saved for current chunk\n",
      "Begin preprocessing\n",
      "Run 437\n"
     ]
    },
    {
     "name": "stderr",
     "output_type": "stream",
     "text": [
      "24/04/29 22:15:51 WARN TaskSetManager: Stage 12332 contains a task of very large size (3211 KiB). The maximum recommended task size is 1000 KiB.\n"
     ]
    },
    {
     "name": "stdout",
     "output_type": "stream",
     "text": [
      "Model saved for current chunk\n",
      "Begin preprocessing\n",
      "Run 438\n"
     ]
    },
    {
     "name": "stderr",
     "output_type": "stream",
     "text": [
      "24/04/29 22:15:55 WARN TaskSetManager: Stage 12360 contains a task of very large size (3211 KiB). The maximum recommended task size is 1000 KiB.\n"
     ]
    },
    {
     "name": "stdout",
     "output_type": "stream",
     "text": [
      "Model saved for current chunk\n",
      "Begin preprocessing\n",
      "Run 439\n"
     ]
    },
    {
     "name": "stderr",
     "output_type": "stream",
     "text": [
      "24/04/29 22:15:59 WARN TaskSetManager: Stage 12388 contains a task of very large size (3211 KiB). The maximum recommended task size is 1000 KiB.\n"
     ]
    },
    {
     "name": "stdout",
     "output_type": "stream",
     "text": [
      "Model saved for current chunk\n",
      "Begin preprocessing\n",
      "Run 440\n"
     ]
    },
    {
     "name": "stderr",
     "output_type": "stream",
     "text": [
      "24/04/29 22:16:03 WARN TaskSetManager: Stage 12416 contains a task of very large size (3211 KiB). The maximum recommended task size is 1000 KiB.\n"
     ]
    },
    {
     "name": "stdout",
     "output_type": "stream",
     "text": [
      "Model saved for current chunk\n",
      "Begin preprocessing\n",
      "Run 441\n"
     ]
    },
    {
     "name": "stderr",
     "output_type": "stream",
     "text": [
      "24/04/29 22:16:07 WARN TaskSetManager: Stage 12444 contains a task of very large size (3211 KiB). The maximum recommended task size is 1000 KiB.\n"
     ]
    },
    {
     "name": "stdout",
     "output_type": "stream",
     "text": [
      "Model saved for current chunk\n",
      "Begin preprocessing\n",
      "Run 442\n"
     ]
    },
    {
     "name": "stderr",
     "output_type": "stream",
     "text": [
      "24/04/29 22:16:10 WARN TaskSetManager: Stage 12472 contains a task of very large size (3211 KiB). The maximum recommended task size is 1000 KiB.\n"
     ]
    },
    {
     "name": "stdout",
     "output_type": "stream",
     "text": [
      "Model saved for current chunk\n",
      "Begin preprocessing\n",
      "Run 443\n"
     ]
    },
    {
     "name": "stderr",
     "output_type": "stream",
     "text": [
      "24/04/29 22:16:14 WARN TaskSetManager: Stage 12500 contains a task of very large size (3211 KiB). The maximum recommended task size is 1000 KiB.\n"
     ]
    },
    {
     "name": "stdout",
     "output_type": "stream",
     "text": [
      "Model saved for current chunk\n",
      "Begin preprocessing\n",
      "Run 444\n"
     ]
    },
    {
     "name": "stderr",
     "output_type": "stream",
     "text": [
      "24/04/29 22:16:18 WARN TaskSetManager: Stage 12528 contains a task of very large size (3211 KiB). The maximum recommended task size is 1000 KiB.\n"
     ]
    },
    {
     "name": "stdout",
     "output_type": "stream",
     "text": [
      "Model saved for current chunk\n",
      "Begin preprocessing\n",
      "Run 445\n"
     ]
    },
    {
     "name": "stderr",
     "output_type": "stream",
     "text": [
      "24/04/29 22:16:22 WARN TaskSetManager: Stage 12556 contains a task of very large size (3211 KiB). The maximum recommended task size is 1000 KiB.\n"
     ]
    },
    {
     "name": "stdout",
     "output_type": "stream",
     "text": [
      "Model saved for current chunk\n",
      "Begin preprocessing\n",
      "Run 446\n"
     ]
    },
    {
     "name": "stderr",
     "output_type": "stream",
     "text": [
      "24/04/29 22:16:26 WARN TaskSetManager: Stage 12584 contains a task of very large size (3211 KiB). The maximum recommended task size is 1000 KiB.\n"
     ]
    },
    {
     "name": "stdout",
     "output_type": "stream",
     "text": [
      "Model saved for current chunk\n",
      "Begin preprocessing\n",
      "Run 447\n"
     ]
    },
    {
     "name": "stderr",
     "output_type": "stream",
     "text": [
      "24/04/29 22:16:30 WARN TaskSetManager: Stage 12612 contains a task of very large size (3211 KiB). The maximum recommended task size is 1000 KiB.\n"
     ]
    },
    {
     "name": "stdout",
     "output_type": "stream",
     "text": [
      "Model saved for current chunk\n",
      "Begin preprocessing\n",
      "Run 448\n"
     ]
    },
    {
     "name": "stderr",
     "output_type": "stream",
     "text": [
      "24/04/29 22:16:35 WARN TaskSetManager: Stage 12640 contains a task of very large size (3211 KiB). The maximum recommended task size is 1000 KiB.\n"
     ]
    },
    {
     "name": "stdout",
     "output_type": "stream",
     "text": [
      "Model saved for current chunk\n",
      "Begin preprocessing\n",
      "Run 449\n"
     ]
    },
    {
     "name": "stderr",
     "output_type": "stream",
     "text": [
      "24/04/29 22:16:39 WARN TaskSetManager: Stage 12668 contains a task of very large size (3211 KiB). The maximum recommended task size is 1000 KiB.\n"
     ]
    },
    {
     "name": "stdout",
     "output_type": "stream",
     "text": [
      "Model saved for current chunk\n",
      "Begin preprocessing\n",
      "Run 450\n"
     ]
    },
    {
     "name": "stderr",
     "output_type": "stream",
     "text": [
      "24/04/29 22:16:42 WARN TaskSetManager: Stage 12696 contains a task of very large size (3211 KiB). The maximum recommended task size is 1000 KiB.\n"
     ]
    },
    {
     "name": "stdout",
     "output_type": "stream",
     "text": [
      "Model saved for current chunk\n",
      "Begin preprocessing\n",
      "Run 451\n"
     ]
    },
    {
     "name": "stderr",
     "output_type": "stream",
     "text": [
      "24/04/29 22:16:46 WARN TaskSetManager: Stage 12724 contains a task of very large size (3211 KiB). The maximum recommended task size is 1000 KiB.\n"
     ]
    },
    {
     "name": "stdout",
     "output_type": "stream",
     "text": [
      "Model saved for current chunk\n",
      "Begin preprocessing\n",
      "Run 452\n"
     ]
    },
    {
     "name": "stderr",
     "output_type": "stream",
     "text": [
      "24/04/29 22:16:49 WARN TaskSetManager: Stage 12752 contains a task of very large size (3211 KiB). The maximum recommended task size is 1000 KiB.\n"
     ]
    },
    {
     "name": "stdout",
     "output_type": "stream",
     "text": [
      "Model saved for current chunk\n",
      "Begin preprocessing\n",
      "Run 453\n"
     ]
    },
    {
     "name": "stderr",
     "output_type": "stream",
     "text": [
      "24/04/29 22:16:53 WARN TaskSetManager: Stage 12780 contains a task of very large size (3211 KiB). The maximum recommended task size is 1000 KiB.\n"
     ]
    },
    {
     "name": "stdout",
     "output_type": "stream",
     "text": [
      "Model saved for current chunk\n",
      "Begin preprocessing\n",
      "Run 454\n"
     ]
    },
    {
     "name": "stderr",
     "output_type": "stream",
     "text": [
      "24/04/29 22:16:56 WARN TaskSetManager: Stage 12808 contains a task of very large size (3211 KiB). The maximum recommended task size is 1000 KiB.\n"
     ]
    },
    {
     "name": "stdout",
     "output_type": "stream",
     "text": [
      "Model saved for current chunk\n",
      "Begin preprocessing\n",
      "Run 455\n"
     ]
    },
    {
     "name": "stderr",
     "output_type": "stream",
     "text": [
      "24/04/29 22:17:00 WARN TaskSetManager: Stage 12836 contains a task of very large size (3211 KiB). The maximum recommended task size is 1000 KiB.\n"
     ]
    },
    {
     "name": "stdout",
     "output_type": "stream",
     "text": [
      "Model saved for current chunk\n",
      "Begin preprocessing\n",
      "Run 456\n"
     ]
    },
    {
     "name": "stderr",
     "output_type": "stream",
     "text": [
      "24/04/29 22:17:04 WARN TaskSetManager: Stage 12864 contains a task of very large size (3211 KiB). The maximum recommended task size is 1000 KiB.\n"
     ]
    },
    {
     "name": "stdout",
     "output_type": "stream",
     "text": [
      "Model saved for current chunk\n",
      "Begin preprocessing\n",
      "Run 457\n"
     ]
    },
    {
     "name": "stderr",
     "output_type": "stream",
     "text": [
      "24/04/29 22:17:08 WARN TaskSetManager: Stage 12892 contains a task of very large size (3211 KiB). The maximum recommended task size is 1000 KiB.\n"
     ]
    },
    {
     "name": "stdout",
     "output_type": "stream",
     "text": [
      "Model saved for current chunk\n",
      "Begin preprocessing\n",
      "Run 458\n"
     ]
    },
    {
     "name": "stderr",
     "output_type": "stream",
     "text": [
      "24/04/29 22:17:12 WARN TaskSetManager: Stage 12920 contains a task of very large size (3211 KiB). The maximum recommended task size is 1000 KiB.\n"
     ]
    },
    {
     "name": "stdout",
     "output_type": "stream",
     "text": [
      "Model saved for current chunk\n",
      "Begin preprocessing\n",
      "Run 459\n"
     ]
    },
    {
     "name": "stderr",
     "output_type": "stream",
     "text": [
      "24/04/29 22:17:17 WARN TaskSetManager: Stage 12948 contains a task of very large size (3211 KiB). The maximum recommended task size is 1000 KiB.\n"
     ]
    },
    {
     "name": "stdout",
     "output_type": "stream",
     "text": [
      "Model saved for current chunk\n",
      "Begin preprocessing\n",
      "Run 460\n"
     ]
    },
    {
     "name": "stderr",
     "output_type": "stream",
     "text": [
      "24/04/29 22:17:21 WARN TaskSetManager: Stage 12976 contains a task of very large size (3211 KiB). The maximum recommended task size is 1000 KiB.\n"
     ]
    },
    {
     "name": "stdout",
     "output_type": "stream",
     "text": [
      "Model saved for current chunk\n",
      "Begin preprocessing\n",
      "Run 461\n"
     ]
    },
    {
     "name": "stderr",
     "output_type": "stream",
     "text": [
      "24/04/29 22:17:25 WARN TaskSetManager: Stage 13004 contains a task of very large size (3211 KiB). The maximum recommended task size is 1000 KiB.\n"
     ]
    },
    {
     "name": "stdout",
     "output_type": "stream",
     "text": [
      "Model saved for current chunk\n",
      "Begin preprocessing\n",
      "Run 462\n"
     ]
    },
    {
     "name": "stderr",
     "output_type": "stream",
     "text": [
      "24/04/29 22:17:29 WARN TaskSetManager: Stage 13032 contains a task of very large size (3211 KiB). The maximum recommended task size is 1000 KiB.\n"
     ]
    },
    {
     "name": "stdout",
     "output_type": "stream",
     "text": [
      "Model saved for current chunk\n",
      "Begin preprocessing\n",
      "Run 463\n"
     ]
    },
    {
     "name": "stderr",
     "output_type": "stream",
     "text": [
      "24/04/29 22:17:33 WARN TaskSetManager: Stage 13060 contains a task of very large size (3211 KiB). The maximum recommended task size is 1000 KiB.\n"
     ]
    },
    {
     "name": "stdout",
     "output_type": "stream",
     "text": [
      "Model saved for current chunk\n",
      "Begin preprocessing\n",
      "Run 464\n"
     ]
    },
    {
     "name": "stderr",
     "output_type": "stream",
     "text": [
      "24/04/29 22:17:37 WARN TaskSetManager: Stage 13088 contains a task of very large size (3211 KiB). The maximum recommended task size is 1000 KiB.\n"
     ]
    },
    {
     "name": "stdout",
     "output_type": "stream",
     "text": [
      "Model saved for current chunk\n",
      "Begin preprocessing\n",
      "Run 465\n"
     ]
    },
    {
     "name": "stderr",
     "output_type": "stream",
     "text": [
      "24/04/29 22:17:40 WARN TaskSetManager: Stage 13116 contains a task of very large size (3211 KiB). The maximum recommended task size is 1000 KiB.\n"
     ]
    },
    {
     "name": "stdout",
     "output_type": "stream",
     "text": [
      "Model saved for current chunk\n",
      "Begin preprocessing\n",
      "Run 466\n"
     ]
    },
    {
     "name": "stderr",
     "output_type": "stream",
     "text": [
      "24/04/29 22:17:44 WARN TaskSetManager: Stage 13144 contains a task of very large size (3211 KiB). The maximum recommended task size is 1000 KiB.\n"
     ]
    },
    {
     "name": "stdout",
     "output_type": "stream",
     "text": [
      "Model saved for current chunk\n",
      "Begin preprocessing\n",
      "Run 467\n"
     ]
    },
    {
     "name": "stderr",
     "output_type": "stream",
     "text": [
      "24/04/29 22:17:48 WARN TaskSetManager: Stage 13172 contains a task of very large size (3211 KiB). The maximum recommended task size is 1000 KiB.\n"
     ]
    },
    {
     "name": "stdout",
     "output_type": "stream",
     "text": [
      "Model saved for current chunk\n",
      "Begin preprocessing\n",
      "Run 468\n"
     ]
    },
    {
     "name": "stderr",
     "output_type": "stream",
     "text": [
      "24/04/29 22:17:52 WARN TaskSetManager: Stage 13200 contains a task of very large size (3211 KiB). The maximum recommended task size is 1000 KiB.\n"
     ]
    },
    {
     "name": "stdout",
     "output_type": "stream",
     "text": [
      "Model saved for current chunk\n",
      "Begin preprocessing\n",
      "Run 469\n"
     ]
    },
    {
     "name": "stderr",
     "output_type": "stream",
     "text": [
      "24/04/29 22:17:57 WARN TaskSetManager: Stage 13228 contains a task of very large size (3211 KiB). The maximum recommended task size is 1000 KiB.\n"
     ]
    },
    {
     "name": "stdout",
     "output_type": "stream",
     "text": [
      "Model saved for current chunk\n",
      "Begin preprocessing\n",
      "Run 470\n"
     ]
    },
    {
     "name": "stderr",
     "output_type": "stream",
     "text": [
      "24/04/29 22:18:01 WARN TaskSetManager: Stage 13256 contains a task of very large size (3211 KiB). The maximum recommended task size is 1000 KiB.\n"
     ]
    },
    {
     "name": "stdout",
     "output_type": "stream",
     "text": [
      "Model saved for current chunk\n",
      "Begin preprocessing\n",
      "Run 471\n"
     ]
    },
    {
     "name": "stderr",
     "output_type": "stream",
     "text": [
      "24/04/29 22:18:06 WARN TaskSetManager: Stage 13284 contains a task of very large size (3211 KiB). The maximum recommended task size is 1000 KiB.\n"
     ]
    },
    {
     "name": "stdout",
     "output_type": "stream",
     "text": [
      "Model saved for current chunk\n",
      "Begin preprocessing\n",
      "Run 472\n"
     ]
    },
    {
     "name": "stderr",
     "output_type": "stream",
     "text": [
      "24/04/29 22:18:10 WARN TaskSetManager: Stage 13312 contains a task of very large size (3211 KiB). The maximum recommended task size is 1000 KiB.\n"
     ]
    },
    {
     "name": "stdout",
     "output_type": "stream",
     "text": [
      "Model saved for current chunk\n",
      "Begin preprocessing\n",
      "Run 473\n"
     ]
    },
    {
     "name": "stderr",
     "output_type": "stream",
     "text": [
      "24/04/29 22:18:14 WARN TaskSetManager: Stage 13340 contains a task of very large size (3211 KiB). The maximum recommended task size is 1000 KiB.\n"
     ]
    },
    {
     "name": "stdout",
     "output_type": "stream",
     "text": [
      "Model saved for current chunk\n",
      "Begin preprocessing\n",
      "Run 474\n"
     ]
    },
    {
     "name": "stderr",
     "output_type": "stream",
     "text": [
      "24/04/29 22:18:17 WARN TaskSetManager: Stage 13368 contains a task of very large size (3211 KiB). The maximum recommended task size is 1000 KiB.\n"
     ]
    },
    {
     "name": "stdout",
     "output_type": "stream",
     "text": [
      "Model saved for current chunk\n",
      "Begin preprocessing\n",
      "Run 475\n"
     ]
    },
    {
     "name": "stderr",
     "output_type": "stream",
     "text": [
      "24/04/29 22:18:21 WARN TaskSetManager: Stage 13396 contains a task of very large size (3211 KiB). The maximum recommended task size is 1000 KiB.\n"
     ]
    },
    {
     "name": "stdout",
     "output_type": "stream",
     "text": [
      "Model saved for current chunk\n",
      "Begin preprocessing\n",
      "Run 476\n"
     ]
    },
    {
     "name": "stderr",
     "output_type": "stream",
     "text": [
      "24/04/29 22:18:25 WARN TaskSetManager: Stage 13424 contains a task of very large size (3211 KiB). The maximum recommended task size is 1000 KiB.\n"
     ]
    },
    {
     "name": "stdout",
     "output_type": "stream",
     "text": [
      "Model saved for current chunk\n",
      "Begin preprocessing\n",
      "Run 477\n"
     ]
    },
    {
     "name": "stderr",
     "output_type": "stream",
     "text": [
      "24/04/29 22:18:29 WARN TaskSetManager: Stage 13452 contains a task of very large size (3211 KiB). The maximum recommended task size is 1000 KiB.\n"
     ]
    },
    {
     "name": "stdout",
     "output_type": "stream",
     "text": [
      "Model saved for current chunk\n",
      "Begin preprocessing\n",
      "Run 478\n"
     ]
    },
    {
     "name": "stderr",
     "output_type": "stream",
     "text": [
      "24/04/29 22:18:33 WARN TaskSetManager: Stage 13480 contains a task of very large size (3211 KiB). The maximum recommended task size is 1000 KiB.\n"
     ]
    },
    {
     "name": "stdout",
     "output_type": "stream",
     "text": [
      "Model saved for current chunk\n",
      "Begin preprocessing\n",
      "Run 479\n"
     ]
    },
    {
     "name": "stderr",
     "output_type": "stream",
     "text": [
      "24/04/29 22:18:37 WARN TaskSetManager: Stage 13508 contains a task of very large size (3211 KiB). The maximum recommended task size is 1000 KiB.\n"
     ]
    },
    {
     "name": "stdout",
     "output_type": "stream",
     "text": [
      "Model saved for current chunk\n",
      "Begin preprocessing\n",
      "Run 480\n"
     ]
    },
    {
     "name": "stderr",
     "output_type": "stream",
     "text": [
      "24/04/29 22:18:41 WARN TaskSetManager: Stage 13536 contains a task of very large size (3211 KiB). The maximum recommended task size is 1000 KiB.\n"
     ]
    },
    {
     "name": "stdout",
     "output_type": "stream",
     "text": [
      "Model saved for current chunk\n",
      "Begin preprocessing\n",
      "Run 481\n"
     ]
    },
    {
     "name": "stderr",
     "output_type": "stream",
     "text": [
      "24/04/29 22:18:46 WARN TaskSetManager: Stage 13564 contains a task of very large size (3211 KiB). The maximum recommended task size is 1000 KiB.\n"
     ]
    },
    {
     "name": "stdout",
     "output_type": "stream",
     "text": [
      "Model saved for current chunk\n",
      "Begin preprocessing\n",
      "Run 482\n"
     ]
    },
    {
     "name": "stderr",
     "output_type": "stream",
     "text": [
      "24/04/29 22:18:50 WARN TaskSetManager: Stage 13592 contains a task of very large size (3211 KiB). The maximum recommended task size is 1000 KiB.\n"
     ]
    },
    {
     "name": "stdout",
     "output_type": "stream",
     "text": [
      "Model saved for current chunk\n",
      "Begin preprocessing\n",
      "Run 483\n"
     ]
    },
    {
     "name": "stderr",
     "output_type": "stream",
     "text": [
      "24/04/29 22:18:54 WARN TaskSetManager: Stage 13620 contains a task of very large size (3211 KiB). The maximum recommended task size is 1000 KiB.\n"
     ]
    },
    {
     "name": "stdout",
     "output_type": "stream",
     "text": [
      "Model saved for current chunk\n",
      "Begin preprocessing\n",
      "Run 484\n"
     ]
    },
    {
     "name": "stderr",
     "output_type": "stream",
     "text": [
      "24/04/29 22:18:58 WARN TaskSetManager: Stage 13648 contains a task of very large size (3211 KiB). The maximum recommended task size is 1000 KiB.\n"
     ]
    },
    {
     "name": "stdout",
     "output_type": "stream",
     "text": [
      "Model saved for current chunk\n",
      "Begin preprocessing\n",
      "Run 485\n"
     ]
    },
    {
     "name": "stderr",
     "output_type": "stream",
     "text": [
      "24/04/29 22:19:01 WARN TaskSetManager: Stage 13676 contains a task of very large size (3211 KiB). The maximum recommended task size is 1000 KiB.\n"
     ]
    },
    {
     "name": "stdout",
     "output_type": "stream",
     "text": [
      "Model saved for current chunk\n",
      "Begin preprocessing\n",
      "Run 486\n"
     ]
    },
    {
     "name": "stderr",
     "output_type": "stream",
     "text": [
      "24/04/29 22:19:05 WARN TaskSetManager: Stage 13704 contains a task of very large size (3211 KiB). The maximum recommended task size is 1000 KiB.\n"
     ]
    },
    {
     "name": "stdout",
     "output_type": "stream",
     "text": [
      "Model saved for current chunk\n",
      "Begin preprocessing\n",
      "Run 487\n"
     ]
    },
    {
     "name": "stderr",
     "output_type": "stream",
     "text": [
      "24/04/29 22:19:09 WARN TaskSetManager: Stage 13732 contains a task of very large size (3211 KiB). The maximum recommended task size is 1000 KiB.\n"
     ]
    },
    {
     "name": "stdout",
     "output_type": "stream",
     "text": [
      "Model saved for current chunk\n",
      "Begin preprocessing\n",
      "Run 488\n"
     ]
    },
    {
     "name": "stderr",
     "output_type": "stream",
     "text": [
      "24/04/29 22:19:13 WARN TaskSetManager: Stage 13760 contains a task of very large size (3211 KiB). The maximum recommended task size is 1000 KiB.\n"
     ]
    },
    {
     "name": "stdout",
     "output_type": "stream",
     "text": [
      "Model saved for current chunk\n",
      "Begin preprocessing\n",
      "Run 489\n"
     ]
    },
    {
     "name": "stderr",
     "output_type": "stream",
     "text": [
      "24/04/29 22:19:18 WARN TaskSetManager: Stage 13788 contains a task of very large size (3211 KiB). The maximum recommended task size is 1000 KiB.\n"
     ]
    },
    {
     "name": "stdout",
     "output_type": "stream",
     "text": [
      "Model saved for current chunk\n",
      "Begin preprocessing\n",
      "Run 490\n"
     ]
    },
    {
     "name": "stderr",
     "output_type": "stream",
     "text": [
      "24/04/29 22:19:23 WARN TaskSetManager: Stage 13816 contains a task of very large size (3211 KiB). The maximum recommended task size is 1000 KiB.\n"
     ]
    },
    {
     "name": "stdout",
     "output_type": "stream",
     "text": [
      "Model saved for current chunk\n",
      "Begin preprocessing\n",
      "Run 491\n"
     ]
    },
    {
     "name": "stderr",
     "output_type": "stream",
     "text": [
      "24/04/29 22:19:27 WARN TaskSetManager: Stage 13844 contains a task of very large size (3211 KiB). The maximum recommended task size is 1000 KiB.\n"
     ]
    },
    {
     "name": "stdout",
     "output_type": "stream",
     "text": [
      "Model saved for current chunk\n",
      "Begin preprocessing\n",
      "Run 492\n"
     ]
    },
    {
     "name": "stderr",
     "output_type": "stream",
     "text": [
      "24/04/29 22:19:31 WARN TaskSetManager: Stage 13872 contains a task of very large size (3211 KiB). The maximum recommended task size is 1000 KiB.\n"
     ]
    },
    {
     "name": "stdout",
     "output_type": "stream",
     "text": [
      "Model saved for current chunk\n",
      "Begin preprocessing\n",
      "Run 493\n"
     ]
    },
    {
     "name": "stderr",
     "output_type": "stream",
     "text": [
      "24/04/29 22:19:35 WARN TaskSetManager: Stage 13900 contains a task of very large size (3211 KiB). The maximum recommended task size is 1000 KiB.\n"
     ]
    },
    {
     "name": "stdout",
     "output_type": "stream",
     "text": [
      "Model saved for current chunk\n",
      "Begin preprocessing\n",
      "Run 494\n"
     ]
    },
    {
     "name": "stderr",
     "output_type": "stream",
     "text": [
      "24/04/29 22:19:38 WARN TaskSetManager: Stage 13928 contains a task of very large size (3211 KiB). The maximum recommended task size is 1000 KiB.\n"
     ]
    },
    {
     "name": "stdout",
     "output_type": "stream",
     "text": [
      "Model saved for current chunk\n",
      "Begin preprocessing\n",
      "Run 495\n"
     ]
    },
    {
     "name": "stderr",
     "output_type": "stream",
     "text": [
      "24/04/29 22:19:42 WARN TaskSetManager: Stage 13956 contains a task of very large size (3211 KiB). The maximum recommended task size is 1000 KiB.\n"
     ]
    },
    {
     "name": "stdout",
     "output_type": "stream",
     "text": [
      "Model saved for current chunk\n",
      "Begin preprocessing\n",
      "Run 496\n"
     ]
    },
    {
     "name": "stderr",
     "output_type": "stream",
     "text": [
      "24/04/29 22:19:46 WARN TaskSetManager: Stage 13984 contains a task of very large size (3211 KiB). The maximum recommended task size is 1000 KiB.\n"
     ]
    },
    {
     "name": "stdout",
     "output_type": "stream",
     "text": [
      "Model saved for current chunk\n",
      "Begin preprocessing\n",
      "Run 497\n"
     ]
    },
    {
     "name": "stderr",
     "output_type": "stream",
     "text": [
      "24/04/29 22:19:51 WARN TaskSetManager: Stage 14012 contains a task of very large size (3211 KiB). The maximum recommended task size is 1000 KiB.\n"
     ]
    },
    {
     "name": "stdout",
     "output_type": "stream",
     "text": [
      "Model saved for current chunk\n",
      "Begin preprocessing\n",
      "Run 498\n"
     ]
    },
    {
     "name": "stderr",
     "output_type": "stream",
     "text": [
      "24/04/29 22:19:55 WARN TaskSetManager: Stage 14040 contains a task of very large size (3211 KiB). The maximum recommended task size is 1000 KiB.\n"
     ]
    },
    {
     "name": "stdout",
     "output_type": "stream",
     "text": [
      "Model saved for current chunk\n",
      "Begin preprocessing\n",
      "Run 499\n"
     ]
    },
    {
     "name": "stderr",
     "output_type": "stream",
     "text": [
      "24/04/29 22:19:59 WARN TaskSetManager: Stage 14068 contains a task of very large size (3211 KiB). The maximum recommended task size is 1000 KiB.\n"
     ]
    },
    {
     "name": "stdout",
     "output_type": "stream",
     "text": [
      "Model saved for current chunk\n",
      "Begin preprocessing\n",
      "Run 500\n"
     ]
    },
    {
     "name": "stderr",
     "output_type": "stream",
     "text": [
      "24/04/29 22:20:04 WARN TaskSetManager: Stage 14096 contains a task of very large size (3211 KiB). The maximum recommended task size is 1000 KiB.\n"
     ]
    },
    {
     "name": "stdout",
     "output_type": "stream",
     "text": [
      "Model saved for current chunk\n",
      "Begin preprocessing\n",
      "Run 501\n"
     ]
    },
    {
     "name": "stderr",
     "output_type": "stream",
     "text": [
      "24/04/29 22:20:08 WARN TaskSetManager: Stage 14124 contains a task of very large size (3211 KiB). The maximum recommended task size is 1000 KiB.\n"
     ]
    },
    {
     "name": "stdout",
     "output_type": "stream",
     "text": [
      "Model saved for current chunk\n",
      "Begin preprocessing\n",
      "Run 502\n"
     ]
    },
    {
     "name": "stderr",
     "output_type": "stream",
     "text": [
      "24/04/29 22:20:13 WARN TaskSetManager: Stage 14152 contains a task of very large size (3211 KiB). The maximum recommended task size is 1000 KiB.\n"
     ]
    },
    {
     "name": "stdout",
     "output_type": "stream",
     "text": [
      "Model saved for current chunk\n",
      "Begin preprocessing\n",
      "Run 503\n"
     ]
    },
    {
     "name": "stderr",
     "output_type": "stream",
     "text": [
      "24/04/29 22:20:18 WARN TaskSetManager: Stage 14180 contains a task of very large size (3211 KiB). The maximum recommended task size is 1000 KiB.\n"
     ]
    },
    {
     "name": "stdout",
     "output_type": "stream",
     "text": [
      "Model saved for current chunk\n",
      "Begin preprocessing\n",
      "Run 504\n"
     ]
    },
    {
     "name": "stderr",
     "output_type": "stream",
     "text": [
      "24/04/29 22:20:21 WARN TaskSetManager: Stage 14208 contains a task of very large size (3211 KiB). The maximum recommended task size is 1000 KiB.\n"
     ]
    },
    {
     "name": "stdout",
     "output_type": "stream",
     "text": [
      "Model saved for current chunk\n",
      "Begin preprocessing\n",
      "Run 505\n"
     ]
    },
    {
     "name": "stderr",
     "output_type": "stream",
     "text": [
      "24/04/29 22:20:25 WARN TaskSetManager: Stage 14236 contains a task of very large size (3211 KiB). The maximum recommended task size is 1000 KiB.\n"
     ]
    },
    {
     "name": "stdout",
     "output_type": "stream",
     "text": [
      "Model saved for current chunk\n",
      "Begin preprocessing\n",
      "Run 506\n"
     ]
    },
    {
     "name": "stderr",
     "output_type": "stream",
     "text": [
      "24/04/29 22:20:29 WARN TaskSetManager: Stage 14264 contains a task of very large size (3211 KiB). The maximum recommended task size is 1000 KiB.\n"
     ]
    },
    {
     "name": "stdout",
     "output_type": "stream",
     "text": [
      "Model saved for current chunk\n",
      "Begin preprocessing\n",
      "Run 507\n"
     ]
    },
    {
     "name": "stderr",
     "output_type": "stream",
     "text": [
      "24/04/29 22:20:33 WARN TaskSetManager: Stage 14292 contains a task of very large size (3211 KiB). The maximum recommended task size is 1000 KiB.\n"
     ]
    },
    {
     "name": "stdout",
     "output_type": "stream",
     "text": [
      "Model saved for current chunk\n",
      "Begin preprocessing\n",
      "Run 508\n"
     ]
    },
    {
     "name": "stderr",
     "output_type": "stream",
     "text": [
      "24/04/29 22:20:37 WARN TaskSetManager: Stage 14320 contains a task of very large size (3211 KiB). The maximum recommended task size is 1000 KiB.\n"
     ]
    },
    {
     "name": "stdout",
     "output_type": "stream",
     "text": [
      "Model saved for current chunk\n",
      "Begin preprocessing\n",
      "Run 509\n"
     ]
    },
    {
     "name": "stderr",
     "output_type": "stream",
     "text": [
      "24/04/29 22:20:41 WARN TaskSetManager: Stage 14348 contains a task of very large size (3211 KiB). The maximum recommended task size is 1000 KiB.\n"
     ]
    },
    {
     "name": "stdout",
     "output_type": "stream",
     "text": [
      "Model saved for current chunk\n",
      "Begin preprocessing\n",
      "Run 510\n"
     ]
    },
    {
     "name": "stderr",
     "output_type": "stream",
     "text": [
      "24/04/29 22:20:45 WARN TaskSetManager: Stage 14376 contains a task of very large size (3211 KiB). The maximum recommended task size is 1000 KiB.\n"
     ]
    },
    {
     "name": "stdout",
     "output_type": "stream",
     "text": [
      "Model saved for current chunk\n",
      "Begin preprocessing\n",
      "Run 511\n"
     ]
    },
    {
     "name": "stderr",
     "output_type": "stream",
     "text": [
      "24/04/29 22:20:49 WARN TaskSetManager: Stage 14404 contains a task of very large size (3211 KiB). The maximum recommended task size is 1000 KiB.\n"
     ]
    },
    {
     "name": "stdout",
     "output_type": "stream",
     "text": [
      "Model saved for current chunk\n",
      "Begin preprocessing\n",
      "Run 512\n"
     ]
    },
    {
     "name": "stderr",
     "output_type": "stream",
     "text": [
      "24/04/29 22:20:53 WARN TaskSetManager: Stage 14432 contains a task of very large size (3211 KiB). The maximum recommended task size is 1000 KiB.\n"
     ]
    },
    {
     "name": "stdout",
     "output_type": "stream",
     "text": [
      "Model saved for current chunk\n",
      "Begin preprocessing\n",
      "Run 513\n"
     ]
    },
    {
     "name": "stderr",
     "output_type": "stream",
     "text": [
      "24/04/29 22:20:57 WARN TaskSetManager: Stage 14460 contains a task of very large size (3211 KiB). The maximum recommended task size is 1000 KiB.\n"
     ]
    },
    {
     "name": "stdout",
     "output_type": "stream",
     "text": [
      "Model saved for current chunk\n",
      "Begin preprocessing\n",
      "Run 514\n"
     ]
    },
    {
     "name": "stderr",
     "output_type": "stream",
     "text": [
      "24/04/29 22:21:02 WARN TaskSetManager: Stage 14488 contains a task of very large size (3211 KiB). The maximum recommended task size is 1000 KiB.\n"
     ]
    },
    {
     "name": "stdout",
     "output_type": "stream",
     "text": [
      "Model saved for current chunk\n",
      "Begin preprocessing\n",
      "Run 515\n"
     ]
    },
    {
     "name": "stderr",
     "output_type": "stream",
     "text": [
      "24/04/29 22:21:05 WARN TaskSetManager: Stage 14516 contains a task of very large size (3211 KiB). The maximum recommended task size is 1000 KiB.\n"
     ]
    },
    {
     "name": "stdout",
     "output_type": "stream",
     "text": [
      "Model saved for current chunk\n",
      "Begin preprocessing\n",
      "Run 516\n"
     ]
    },
    {
     "name": "stderr",
     "output_type": "stream",
     "text": [
      "24/04/29 22:21:09 WARN TaskSetManager: Stage 14544 contains a task of very large size (3211 KiB). The maximum recommended task size is 1000 KiB.\n"
     ]
    },
    {
     "name": "stdout",
     "output_type": "stream",
     "text": [
      "Model saved for current chunk\n",
      "Begin preprocessing\n",
      "Run 517\n"
     ]
    },
    {
     "name": "stderr",
     "output_type": "stream",
     "text": [
      "24/04/29 22:21:13 WARN TaskSetManager: Stage 14572 contains a task of very large size (3211 KiB). The maximum recommended task size is 1000 KiB.\n"
     ]
    },
    {
     "name": "stdout",
     "output_type": "stream",
     "text": [
      "Model saved for current chunk\n",
      "Begin preprocessing\n",
      "Run 518\n"
     ]
    },
    {
     "name": "stderr",
     "output_type": "stream",
     "text": [
      "24/04/29 22:21:18 WARN TaskSetManager: Stage 14600 contains a task of very large size (3211 KiB). The maximum recommended task size is 1000 KiB.\n"
     ]
    },
    {
     "name": "stdout",
     "output_type": "stream",
     "text": [
      "Model saved for current chunk\n",
      "Begin preprocessing\n",
      "Run 519\n"
     ]
    },
    {
     "name": "stderr",
     "output_type": "stream",
     "text": [
      "24/04/29 22:21:22 WARN TaskSetManager: Stage 14628 contains a task of very large size (3211 KiB). The maximum recommended task size is 1000 KiB.\n"
     ]
    },
    {
     "name": "stdout",
     "output_type": "stream",
     "text": [
      "Model saved for current chunk\n",
      "Begin preprocessing\n",
      "Run 520\n"
     ]
    },
    {
     "name": "stderr",
     "output_type": "stream",
     "text": [
      "24/04/29 22:21:26 WARN TaskSetManager: Stage 14656 contains a task of very large size (3211 KiB). The maximum recommended task size is 1000 KiB.\n"
     ]
    },
    {
     "name": "stdout",
     "output_type": "stream",
     "text": [
      "Model saved for current chunk\n",
      "Begin preprocessing\n",
      "Run 521\n"
     ]
    },
    {
     "name": "stderr",
     "output_type": "stream",
     "text": [
      "24/04/29 22:21:30 WARN TaskSetManager: Stage 14684 contains a task of very large size (3211 KiB). The maximum recommended task size is 1000 KiB.\n"
     ]
    },
    {
     "name": "stdout",
     "output_type": "stream",
     "text": [
      "Model saved for current chunk\n",
      "Begin preprocessing\n",
      "Run 522\n"
     ]
    },
    {
     "name": "stderr",
     "output_type": "stream",
     "text": [
      "24/04/29 22:21:35 WARN TaskSetManager: Stage 14712 contains a task of very large size (3211 KiB). The maximum recommended task size is 1000 KiB.\n"
     ]
    },
    {
     "name": "stdout",
     "output_type": "stream",
     "text": [
      "Model saved for current chunk\n",
      "Begin preprocessing\n",
      "Run 523\n"
     ]
    },
    {
     "name": "stderr",
     "output_type": "stream",
     "text": [
      "24/04/29 22:21:38 WARN TaskSetManager: Stage 14740 contains a task of very large size (3211 KiB). The maximum recommended task size is 1000 KiB.\n"
     ]
    },
    {
     "name": "stdout",
     "output_type": "stream",
     "text": [
      "Model saved for current chunk\n",
      "Begin preprocessing\n",
      "Run 524\n"
     ]
    },
    {
     "name": "stderr",
     "output_type": "stream",
     "text": [
      "24/04/29 22:21:42 WARN TaskSetManager: Stage 14768 contains a task of very large size (3211 KiB). The maximum recommended task size is 1000 KiB.\n"
     ]
    },
    {
     "name": "stdout",
     "output_type": "stream",
     "text": [
      "Model saved for current chunk\n",
      "Begin preprocessing\n",
      "Run 525\n"
     ]
    },
    {
     "name": "stderr",
     "output_type": "stream",
     "text": [
      "24/04/29 22:21:47 WARN TaskSetManager: Stage 14796 contains a task of very large size (3211 KiB). The maximum recommended task size is 1000 KiB.\n"
     ]
    },
    {
     "name": "stdout",
     "output_type": "stream",
     "text": [
      "Model saved for current chunk\n",
      "Begin preprocessing\n",
      "Run 526\n"
     ]
    },
    {
     "name": "stderr",
     "output_type": "stream",
     "text": [
      "24/04/29 22:21:51 WARN TaskSetManager: Stage 14824 contains a task of very large size (3211 KiB). The maximum recommended task size is 1000 KiB.\n"
     ]
    },
    {
     "name": "stdout",
     "output_type": "stream",
     "text": [
      "Model saved for current chunk\n",
      "Begin preprocessing\n",
      "Run 527\n"
     ]
    },
    {
     "name": "stderr",
     "output_type": "stream",
     "text": [
      "24/04/29 22:21:55 WARN TaskSetManager: Stage 14852 contains a task of very large size (3211 KiB). The maximum recommended task size is 1000 KiB.\n"
     ]
    },
    {
     "name": "stdout",
     "output_type": "stream",
     "text": [
      "Model saved for current chunk\n",
      "Begin preprocessing\n",
      "Run 528\n"
     ]
    },
    {
     "name": "stderr",
     "output_type": "stream",
     "text": [
      "24/04/29 22:21:59 WARN TaskSetManager: Stage 14880 contains a task of very large size (3211 KiB). The maximum recommended task size is 1000 KiB.\n"
     ]
    },
    {
     "name": "stdout",
     "output_type": "stream",
     "text": [
      "Model saved for current chunk\n",
      "Begin preprocessing\n",
      "Run 529\n"
     ]
    },
    {
     "name": "stderr",
     "output_type": "stream",
     "text": [
      "24/04/29 22:22:04 WARN TaskSetManager: Stage 14908 contains a task of very large size (3211 KiB). The maximum recommended task size is 1000 KiB.\n"
     ]
    },
    {
     "name": "stdout",
     "output_type": "stream",
     "text": [
      "Model saved for current chunk\n",
      "Begin preprocessing\n",
      "Run 530\n"
     ]
    },
    {
     "name": "stderr",
     "output_type": "stream",
     "text": [
      "24/04/29 22:22:08 WARN TaskSetManager: Stage 14936 contains a task of very large size (3211 KiB). The maximum recommended task size is 1000 KiB.\n"
     ]
    },
    {
     "name": "stdout",
     "output_type": "stream",
     "text": [
      "Model saved for current chunk\n",
      "Begin preprocessing\n",
      "Run 531\n"
     ]
    },
    {
     "name": "stderr",
     "output_type": "stream",
     "text": [
      "24/04/29 22:22:12 WARN TaskSetManager: Stage 14964 contains a task of very large size (3211 KiB). The maximum recommended task size is 1000 KiB.\n"
     ]
    },
    {
     "name": "stdout",
     "output_type": "stream",
     "text": [
      "Model saved for current chunk\n",
      "Begin preprocessing\n",
      "Run 532\n"
     ]
    },
    {
     "name": "stderr",
     "output_type": "stream",
     "text": [
      "24/04/29 22:22:17 WARN TaskSetManager: Stage 14992 contains a task of very large size (3211 KiB). The maximum recommended task size is 1000 KiB.\n"
     ]
    },
    {
     "name": "stdout",
     "output_type": "stream",
     "text": [
      "Model saved for current chunk\n",
      "Begin preprocessing\n",
      "Run 533\n"
     ]
    },
    {
     "name": "stderr",
     "output_type": "stream",
     "text": [
      "24/04/29 22:22:21 WARN TaskSetManager: Stage 15020 contains a task of very large size (3211 KiB). The maximum recommended task size is 1000 KiB.\n"
     ]
    },
    {
     "name": "stdout",
     "output_type": "stream",
     "text": [
      "Model saved for current chunk\n",
      "Begin preprocessing\n",
      "Run 534\n"
     ]
    },
    {
     "name": "stderr",
     "output_type": "stream",
     "text": [
      "24/04/29 22:22:26 WARN TaskSetManager: Stage 15048 contains a task of very large size (3211 KiB). The maximum recommended task size is 1000 KiB.\n"
     ]
    },
    {
     "name": "stdout",
     "output_type": "stream",
     "text": [
      "Model saved for current chunk\n",
      "Begin preprocessing\n",
      "Run 535\n"
     ]
    },
    {
     "name": "stderr",
     "output_type": "stream",
     "text": [
      "24/04/29 22:22:30 WARN TaskSetManager: Stage 15076 contains a task of very large size (3211 KiB). The maximum recommended task size is 1000 KiB.\n"
     ]
    },
    {
     "name": "stdout",
     "output_type": "stream",
     "text": [
      "Model saved for current chunk\n",
      "Begin preprocessing\n",
      "Run 536\n"
     ]
    },
    {
     "name": "stderr",
     "output_type": "stream",
     "text": [
      "24/04/29 22:22:35 WARN TaskSetManager: Stage 15104 contains a task of very large size (3211 KiB). The maximum recommended task size is 1000 KiB.\n"
     ]
    },
    {
     "name": "stdout",
     "output_type": "stream",
     "text": [
      "Model saved for current chunk\n",
      "Begin preprocessing\n",
      "Run 537\n"
     ]
    },
    {
     "name": "stderr",
     "output_type": "stream",
     "text": [
      "24/04/29 22:22:39 WARN TaskSetManager: Stage 15132 contains a task of very large size (3211 KiB). The maximum recommended task size is 1000 KiB.\n"
     ]
    },
    {
     "name": "stdout",
     "output_type": "stream",
     "text": [
      "Model saved for current chunk\n",
      "Begin preprocessing\n",
      "Run 538\n"
     ]
    },
    {
     "name": "stderr",
     "output_type": "stream",
     "text": [
      "24/04/29 22:22:43 WARN TaskSetManager: Stage 15160 contains a task of very large size (3211 KiB). The maximum recommended task size is 1000 KiB.\n"
     ]
    },
    {
     "name": "stdout",
     "output_type": "stream",
     "text": [
      "Model saved for current chunk\n",
      "Begin preprocessing\n",
      "Run 539\n"
     ]
    },
    {
     "name": "stderr",
     "output_type": "stream",
     "text": [
      "24/04/29 22:22:48 WARN TaskSetManager: Stage 15188 contains a task of very large size (3211 KiB). The maximum recommended task size is 1000 KiB.\n"
     ]
    },
    {
     "name": "stdout",
     "output_type": "stream",
     "text": [
      "Model saved for current chunk\n",
      "Begin preprocessing\n",
      "Run 540\n"
     ]
    },
    {
     "name": "stderr",
     "output_type": "stream",
     "text": [
      "24/04/29 22:22:53 WARN TaskSetManager: Stage 15216 contains a task of very large size (3211 KiB). The maximum recommended task size is 1000 KiB.\n"
     ]
    },
    {
     "name": "stdout",
     "output_type": "stream",
     "text": [
      "Model saved for current chunk\n",
      "Begin preprocessing\n",
      "Run 541\n"
     ]
    },
    {
     "name": "stderr",
     "output_type": "stream",
     "text": [
      "24/04/29 22:22:58 WARN TaskSetManager: Stage 15244 contains a task of very large size (3211 KiB). The maximum recommended task size is 1000 KiB.\n"
     ]
    },
    {
     "name": "stdout",
     "output_type": "stream",
     "text": [
      "Model saved for current chunk\n",
      "Begin preprocessing\n",
      "Run 542\n"
     ]
    },
    {
     "name": "stderr",
     "output_type": "stream",
     "text": [
      "24/04/29 22:23:02 WARN TaskSetManager: Stage 15272 contains a task of very large size (3211 KiB). The maximum recommended task size is 1000 KiB.\n"
     ]
    },
    {
     "name": "stdout",
     "output_type": "stream",
     "text": [
      "Model saved for current chunk\n",
      "Begin preprocessing\n",
      "Run 543\n"
     ]
    },
    {
     "name": "stderr",
     "output_type": "stream",
     "text": [
      "24/04/29 22:23:07 WARN TaskSetManager: Stage 15300 contains a task of very large size (3211 KiB). The maximum recommended task size is 1000 KiB.\n"
     ]
    },
    {
     "name": "stdout",
     "output_type": "stream",
     "text": [
      "Model saved for current chunk\n",
      "Begin preprocessing\n",
      "Run 544\n"
     ]
    },
    {
     "name": "stderr",
     "output_type": "stream",
     "text": [
      "24/04/29 22:23:11 WARN TaskSetManager: Stage 15328 contains a task of very large size (3211 KiB). The maximum recommended task size is 1000 KiB.\n"
     ]
    },
    {
     "name": "stdout",
     "output_type": "stream",
     "text": [
      "Model saved for current chunk\n",
      "Begin preprocessing\n",
      "Run 545\n"
     ]
    },
    {
     "name": "stderr",
     "output_type": "stream",
     "text": [
      "24/04/29 22:23:15 WARN TaskSetManager: Stage 15356 contains a task of very large size (3211 KiB). The maximum recommended task size is 1000 KiB.\n"
     ]
    },
    {
     "name": "stdout",
     "output_type": "stream",
     "text": [
      "Model saved for current chunk\n",
      "Begin preprocessing\n",
      "Run 546\n"
     ]
    },
    {
     "name": "stderr",
     "output_type": "stream",
     "text": [
      "24/04/29 22:23:19 WARN TaskSetManager: Stage 15384 contains a task of very large size (3211 KiB). The maximum recommended task size is 1000 KiB.\n"
     ]
    },
    {
     "name": "stdout",
     "output_type": "stream",
     "text": [
      "Model saved for current chunk\n",
      "Begin preprocessing\n",
      "Run 547\n"
     ]
    },
    {
     "name": "stderr",
     "output_type": "stream",
     "text": [
      "24/04/29 22:23:23 WARN TaskSetManager: Stage 15412 contains a task of very large size (3211 KiB). The maximum recommended task size is 1000 KiB.\n"
     ]
    },
    {
     "name": "stdout",
     "output_type": "stream",
     "text": [
      "Model saved for current chunk\n",
      "Begin preprocessing\n",
      "Run 548\n"
     ]
    },
    {
     "name": "stderr",
     "output_type": "stream",
     "text": [
      "24/04/29 22:23:27 WARN TaskSetManager: Stage 15440 contains a task of very large size (3211 KiB). The maximum recommended task size is 1000 KiB.\n"
     ]
    },
    {
     "name": "stdout",
     "output_type": "stream",
     "text": [
      "Model saved for current chunk\n",
      "Begin preprocessing\n",
      "Run 549\n"
     ]
    },
    {
     "name": "stderr",
     "output_type": "stream",
     "text": [
      "24/04/29 22:23:32 WARN TaskSetManager: Stage 15468 contains a task of very large size (3211 KiB). The maximum recommended task size is 1000 KiB.\n"
     ]
    },
    {
     "name": "stdout",
     "output_type": "stream",
     "text": [
      "Model saved for current chunk\n",
      "Begin preprocessing\n",
      "Run 550\n"
     ]
    },
    {
     "name": "stderr",
     "output_type": "stream",
     "text": [
      "24/04/29 22:23:37 WARN TaskSetManager: Stage 15496 contains a task of very large size (3211 KiB). The maximum recommended task size is 1000 KiB.\n"
     ]
    },
    {
     "name": "stdout",
     "output_type": "stream",
     "text": [
      "Model saved for current chunk\n",
      "Begin preprocessing\n",
      "Run 551\n"
     ]
    },
    {
     "name": "stderr",
     "output_type": "stream",
     "text": [
      "24/04/29 22:23:41 WARN TaskSetManager: Stage 15524 contains a task of very large size (3211 KiB). The maximum recommended task size is 1000 KiB.\n"
     ]
    },
    {
     "name": "stdout",
     "output_type": "stream",
     "text": [
      "Model saved for current chunk\n",
      "Begin preprocessing\n",
      "Run 552\n"
     ]
    },
    {
     "name": "stderr",
     "output_type": "stream",
     "text": [
      "24/04/29 22:23:46 WARN TaskSetManager: Stage 15552 contains a task of very large size (3211 KiB). The maximum recommended task size is 1000 KiB.\n"
     ]
    },
    {
     "name": "stdout",
     "output_type": "stream",
     "text": [
      "Model saved for current chunk\n",
      "Begin preprocessing\n",
      "Run 553\n"
     ]
    },
    {
     "name": "stderr",
     "output_type": "stream",
     "text": [
      "24/04/29 22:23:50 WARN TaskSetManager: Stage 15580 contains a task of very large size (3211 KiB). The maximum recommended task size is 1000 KiB.\n"
     ]
    },
    {
     "name": "stdout",
     "output_type": "stream",
     "text": [
      "Model saved for current chunk\n",
      "Begin preprocessing\n",
      "Run 554\n"
     ]
    },
    {
     "name": "stderr",
     "output_type": "stream",
     "text": [
      "24/04/29 22:23:55 WARN TaskSetManager: Stage 15608 contains a task of very large size (3211 KiB). The maximum recommended task size is 1000 KiB.\n"
     ]
    },
    {
     "name": "stdout",
     "output_type": "stream",
     "text": [
      "Model saved for current chunk\n",
      "Begin preprocessing\n",
      "Run 555\n"
     ]
    },
    {
     "name": "stderr",
     "output_type": "stream",
     "text": [
      "24/04/29 22:23:58 WARN TaskSetManager: Stage 15636 contains a task of very large size (3211 KiB). The maximum recommended task size is 1000 KiB.\n"
     ]
    },
    {
     "name": "stdout",
     "output_type": "stream",
     "text": [
      "Model saved for current chunk\n",
      "Begin preprocessing\n",
      "Run 556\n"
     ]
    },
    {
     "name": "stderr",
     "output_type": "stream",
     "text": [
      "24/04/29 22:24:02 WARN TaskSetManager: Stage 15664 contains a task of very large size (3211 KiB). The maximum recommended task size is 1000 KiB.\n"
     ]
    },
    {
     "name": "stdout",
     "output_type": "stream",
     "text": [
      "Model saved for current chunk\n",
      "Begin preprocessing\n",
      "Run 557\n"
     ]
    },
    {
     "name": "stderr",
     "output_type": "stream",
     "text": [
      "24/04/29 22:24:06 WARN TaskSetManager: Stage 15692 contains a task of very large size (3211 KiB). The maximum recommended task size is 1000 KiB.\n"
     ]
    },
    {
     "name": "stdout",
     "output_type": "stream",
     "text": [
      "Model saved for current chunk\n",
      "Begin preprocessing\n",
      "Run 558\n"
     ]
    },
    {
     "name": "stderr",
     "output_type": "stream",
     "text": [
      "24/04/29 22:24:11 WARN TaskSetManager: Stage 15720 contains a task of very large size (3211 KiB). The maximum recommended task size is 1000 KiB.\n"
     ]
    },
    {
     "name": "stdout",
     "output_type": "stream",
     "text": [
      "Model saved for current chunk\n",
      "Begin preprocessing\n",
      "Run 559\n"
     ]
    },
    {
     "name": "stderr",
     "output_type": "stream",
     "text": [
      "24/04/29 22:24:15 WARN TaskSetManager: Stage 15748 contains a task of very large size (3211 KiB). The maximum recommended task size is 1000 KiB.\n"
     ]
    },
    {
     "name": "stdout",
     "output_type": "stream",
     "text": [
      "Model saved for current chunk\n",
      "Begin preprocessing\n",
      "Run 560\n"
     ]
    },
    {
     "name": "stderr",
     "output_type": "stream",
     "text": [
      "24/04/29 22:24:19 WARN TaskSetManager: Stage 15776 contains a task of very large size (3211 KiB). The maximum recommended task size is 1000 KiB.\n"
     ]
    },
    {
     "name": "stdout",
     "output_type": "stream",
     "text": [
      "Model saved for current chunk\n",
      "Begin preprocessing\n",
      "Run 561\n"
     ]
    },
    {
     "name": "stderr",
     "output_type": "stream",
     "text": [
      "24/04/29 22:24:23 WARN TaskSetManager: Stage 15804 contains a task of very large size (3211 KiB). The maximum recommended task size is 1000 KiB.\n"
     ]
    },
    {
     "name": "stdout",
     "output_type": "stream",
     "text": [
      "Model saved for current chunk\n",
      "Begin preprocessing\n",
      "Run 562\n"
     ]
    },
    {
     "name": "stderr",
     "output_type": "stream",
     "text": [
      "24/04/29 22:24:28 WARN TaskSetManager: Stage 15832 contains a task of very large size (3211 KiB). The maximum recommended task size is 1000 KiB.\n"
     ]
    },
    {
     "name": "stdout",
     "output_type": "stream",
     "text": [
      "Model saved for current chunk\n",
      "Begin preprocessing\n",
      "Run 563\n"
     ]
    },
    {
     "name": "stderr",
     "output_type": "stream",
     "text": [
      "24/04/29 22:24:32 WARN TaskSetManager: Stage 15860 contains a task of very large size (3211 KiB). The maximum recommended task size is 1000 KiB.\n"
     ]
    },
    {
     "name": "stdout",
     "output_type": "stream",
     "text": [
      "Model saved for current chunk\n",
      "Begin preprocessing\n",
      "Run 564\n"
     ]
    },
    {
     "name": "stderr",
     "output_type": "stream",
     "text": [
      "24/04/29 22:24:37 WARN TaskSetManager: Stage 15888 contains a task of very large size (3211 KiB). The maximum recommended task size is 1000 KiB.\n"
     ]
    },
    {
     "name": "stdout",
     "output_type": "stream",
     "text": [
      "Model saved for current chunk\n",
      "Begin preprocessing\n",
      "Run 565\n"
     ]
    },
    {
     "name": "stderr",
     "output_type": "stream",
     "text": [
      "24/04/29 22:24:40 WARN TaskSetManager: Stage 15916 contains a task of very large size (3211 KiB). The maximum recommended task size is 1000 KiB.\n"
     ]
    },
    {
     "name": "stdout",
     "output_type": "stream",
     "text": [
      "Model saved for current chunk\n",
      "Begin preprocessing\n",
      "Run 566\n"
     ]
    },
    {
     "name": "stderr",
     "output_type": "stream",
     "text": [
      "24/04/29 22:24:45 WARN TaskSetManager: Stage 15944 contains a task of very large size (3211 KiB). The maximum recommended task size is 1000 KiB.\n"
     ]
    },
    {
     "name": "stdout",
     "output_type": "stream",
     "text": [
      "Model saved for current chunk\n",
      "Begin preprocessing\n",
      "Run 567\n"
     ]
    },
    {
     "name": "stderr",
     "output_type": "stream",
     "text": [
      "24/04/29 22:24:48 WARN TaskSetManager: Stage 15972 contains a task of very large size (3211 KiB). The maximum recommended task size is 1000 KiB.\n"
     ]
    },
    {
     "name": "stdout",
     "output_type": "stream",
     "text": [
      "Model saved for current chunk\n",
      "Begin preprocessing\n",
      "Run 568\n"
     ]
    },
    {
     "name": "stderr",
     "output_type": "stream",
     "text": [
      "24/04/29 22:24:52 WARN TaskSetManager: Stage 16000 contains a task of very large size (3211 KiB). The maximum recommended task size is 1000 KiB.\n"
     ]
    },
    {
     "name": "stdout",
     "output_type": "stream",
     "text": [
      "Model saved for current chunk\n",
      "Begin preprocessing\n",
      "Run 569\n"
     ]
    },
    {
     "name": "stderr",
     "output_type": "stream",
     "text": [
      "24/04/29 22:24:57 WARN TaskSetManager: Stage 16028 contains a task of very large size (3211 KiB). The maximum recommended task size is 1000 KiB.\n"
     ]
    },
    {
     "name": "stdout",
     "output_type": "stream",
     "text": [
      "Model saved for current chunk\n",
      "Begin preprocessing\n",
      "Run 570\n"
     ]
    },
    {
     "name": "stderr",
     "output_type": "stream",
     "text": [
      "24/04/29 22:25:01 WARN TaskSetManager: Stage 16056 contains a task of very large size (3211 KiB). The maximum recommended task size is 1000 KiB.\n"
     ]
    },
    {
     "name": "stdout",
     "output_type": "stream",
     "text": [
      "Model saved for current chunk\n",
      "Begin preprocessing\n",
      "Run 571\n"
     ]
    },
    {
     "name": "stderr",
     "output_type": "stream",
     "text": [
      "24/04/29 22:25:06 WARN TaskSetManager: Stage 16084 contains a task of very large size (3211 KiB). The maximum recommended task size is 1000 KiB.\n"
     ]
    },
    {
     "name": "stdout",
     "output_type": "stream",
     "text": [
      "Model saved for current chunk\n",
      "Begin preprocessing\n",
      "Run 572\n"
     ]
    },
    {
     "name": "stderr",
     "output_type": "stream",
     "text": [
      "24/04/29 22:25:10 WARN TaskSetManager: Stage 16112 contains a task of very large size (3211 KiB). The maximum recommended task size is 1000 KiB.\n"
     ]
    },
    {
     "name": "stdout",
     "output_type": "stream",
     "text": [
      "Model saved for current chunk\n",
      "Begin preprocessing\n",
      "Run 573\n"
     ]
    },
    {
     "name": "stderr",
     "output_type": "stream",
     "text": [
      "24/04/29 22:25:15 WARN TaskSetManager: Stage 16140 contains a task of very large size (3211 KiB). The maximum recommended task size is 1000 KiB.\n"
     ]
    },
    {
     "name": "stdout",
     "output_type": "stream",
     "text": [
      "Model saved for current chunk\n",
      "Begin preprocessing\n",
      "Run 574\n"
     ]
    },
    {
     "name": "stderr",
     "output_type": "stream",
     "text": [
      "24/04/29 22:25:19 WARN TaskSetManager: Stage 16168 contains a task of very large size (3211 KiB). The maximum recommended task size is 1000 KiB.\n"
     ]
    },
    {
     "name": "stdout",
     "output_type": "stream",
     "text": [
      "Model saved for current chunk\n",
      "Begin preprocessing\n",
      "Run 575\n"
     ]
    },
    {
     "name": "stderr",
     "output_type": "stream",
     "text": [
      "24/04/29 22:25:23 WARN TaskSetManager: Stage 16196 contains a task of very large size (3211 KiB). The maximum recommended task size is 1000 KiB.\n"
     ]
    },
    {
     "name": "stdout",
     "output_type": "stream",
     "text": [
      "Model saved for current chunk\n",
      "Begin preprocessing\n",
      "Run 576\n"
     ]
    },
    {
     "name": "stderr",
     "output_type": "stream",
     "text": [
      "24/04/29 22:25:27 WARN TaskSetManager: Stage 16224 contains a task of very large size (3211 KiB). The maximum recommended task size is 1000 KiB.\n"
     ]
    },
    {
     "name": "stdout",
     "output_type": "stream",
     "text": [
      "Model saved for current chunk\n",
      "Begin preprocessing\n",
      "Run 577\n"
     ]
    },
    {
     "name": "stderr",
     "output_type": "stream",
     "text": [
      "24/04/29 22:25:31 WARN TaskSetManager: Stage 16252 contains a task of very large size (3211 KiB). The maximum recommended task size is 1000 KiB.\n"
     ]
    },
    {
     "name": "stdout",
     "output_type": "stream",
     "text": [
      "Model saved for current chunk\n",
      "Begin preprocessing\n",
      "Run 578\n"
     ]
    },
    {
     "name": "stderr",
     "output_type": "stream",
     "text": [
      "24/04/29 22:25:35 WARN TaskSetManager: Stage 16280 contains a task of very large size (3211 KiB). The maximum recommended task size is 1000 KiB.\n"
     ]
    },
    {
     "name": "stdout",
     "output_type": "stream",
     "text": [
      "Model saved for current chunk\n",
      "Begin preprocessing\n",
      "Run 579\n"
     ]
    },
    {
     "name": "stderr",
     "output_type": "stream",
     "text": [
      "24/04/29 22:25:40 WARN TaskSetManager: Stage 16308 contains a task of very large size (3211 KiB). The maximum recommended task size is 1000 KiB.\n"
     ]
    },
    {
     "name": "stdout",
     "output_type": "stream",
     "text": [
      "Model saved for current chunk\n",
      "Begin preprocessing\n",
      "Run 580\n"
     ]
    },
    {
     "name": "stderr",
     "output_type": "stream",
     "text": [
      "24/04/29 22:25:44 WARN TaskSetManager: Stage 16336 contains a task of very large size (3211 KiB). The maximum recommended task size is 1000 KiB.\n"
     ]
    },
    {
     "name": "stdout",
     "output_type": "stream",
     "text": [
      "Model saved for current chunk\n",
      "Begin preprocessing\n",
      "Run 581\n"
     ]
    },
    {
     "name": "stderr",
     "output_type": "stream",
     "text": [
      "24/04/29 22:25:48 WARN TaskSetManager: Stage 16364 contains a task of very large size (3211 KiB). The maximum recommended task size is 1000 KiB.\n"
     ]
    },
    {
     "name": "stdout",
     "output_type": "stream",
     "text": [
      "Model saved for current chunk\n",
      "Begin preprocessing\n",
      "Run 582\n"
     ]
    },
    {
     "name": "stderr",
     "output_type": "stream",
     "text": [
      "24/04/29 22:25:52 WARN TaskSetManager: Stage 16392 contains a task of very large size (3211 KiB). The maximum recommended task size is 1000 KiB.\n"
     ]
    },
    {
     "name": "stdout",
     "output_type": "stream",
     "text": [
      "Model saved for current chunk\n",
      "Begin preprocessing\n",
      "Run 583\n"
     ]
    },
    {
     "name": "stderr",
     "output_type": "stream",
     "text": [
      "24/04/29 22:25:56 WARN TaskSetManager: Stage 16420 contains a task of very large size (3211 KiB). The maximum recommended task size is 1000 KiB.\n"
     ]
    },
    {
     "name": "stdout",
     "output_type": "stream",
     "text": [
      "Model saved for current chunk\n",
      "Begin preprocessing\n",
      "Run 584\n"
     ]
    },
    {
     "name": "stderr",
     "output_type": "stream",
     "text": [
      "24/04/29 22:26:00 WARN TaskSetManager: Stage 16448 contains a task of very large size (3211 KiB). The maximum recommended task size is 1000 KiB.\n"
     ]
    },
    {
     "name": "stdout",
     "output_type": "stream",
     "text": [
      "Model saved for current chunk\n",
      "Begin preprocessing\n",
      "Run 585\n"
     ]
    },
    {
     "name": "stderr",
     "output_type": "stream",
     "text": [
      "24/04/29 22:26:04 WARN TaskSetManager: Stage 16476 contains a task of very large size (3211 KiB). The maximum recommended task size is 1000 KiB.\n"
     ]
    },
    {
     "name": "stdout",
     "output_type": "stream",
     "text": [
      "Model saved for current chunk\n",
      "Begin preprocessing\n",
      "Run 586\n"
     ]
    },
    {
     "name": "stderr",
     "output_type": "stream",
     "text": [
      "24/04/29 22:26:08 WARN TaskSetManager: Stage 16504 contains a task of very large size (3211 KiB). The maximum recommended task size is 1000 KiB.\n"
     ]
    },
    {
     "name": "stdout",
     "output_type": "stream",
     "text": [
      "Model saved for current chunk\n",
      "Begin preprocessing\n",
      "Run 587\n"
     ]
    },
    {
     "name": "stderr",
     "output_type": "stream",
     "text": [
      "24/04/29 22:26:12 WARN TaskSetManager: Stage 16532 contains a task of very large size (3211 KiB). The maximum recommended task size is 1000 KiB.\n"
     ]
    },
    {
     "name": "stdout",
     "output_type": "stream",
     "text": [
      "Model saved for current chunk\n",
      "Begin preprocessing\n",
      "Run 588\n"
     ]
    },
    {
     "name": "stderr",
     "output_type": "stream",
     "text": [
      "24/04/29 22:26:16 WARN TaskSetManager: Stage 16560 contains a task of very large size (3211 KiB). The maximum recommended task size is 1000 KiB.\n"
     ]
    },
    {
     "name": "stdout",
     "output_type": "stream",
     "text": [
      "Model saved for current chunk\n",
      "Begin preprocessing\n",
      "Run 589\n"
     ]
    },
    {
     "name": "stderr",
     "output_type": "stream",
     "text": [
      "24/04/29 22:26:20 WARN TaskSetManager: Stage 16588 contains a task of very large size (3211 KiB). The maximum recommended task size is 1000 KiB.\n"
     ]
    },
    {
     "name": "stdout",
     "output_type": "stream",
     "text": [
      "Model saved for current chunk\n",
      "Begin preprocessing\n",
      "Run 590\n"
     ]
    },
    {
     "name": "stderr",
     "output_type": "stream",
     "text": [
      "24/04/29 22:26:25 WARN TaskSetManager: Stage 16616 contains a task of very large size (3211 KiB). The maximum recommended task size is 1000 KiB.\n"
     ]
    },
    {
     "name": "stdout",
     "output_type": "stream",
     "text": [
      "Model saved for current chunk\n",
      "Begin preprocessing\n",
      "Run 591\n"
     ]
    },
    {
     "name": "stderr",
     "output_type": "stream",
     "text": [
      "24/04/29 22:26:29 WARN TaskSetManager: Stage 16644 contains a task of very large size (3211 KiB). The maximum recommended task size is 1000 KiB.\n"
     ]
    },
    {
     "name": "stdout",
     "output_type": "stream",
     "text": [
      "Model saved for current chunk\n",
      "Begin preprocessing\n",
      "Run 592\n"
     ]
    },
    {
     "name": "stderr",
     "output_type": "stream",
     "text": [
      "24/04/29 22:26:33 WARN TaskSetManager: Stage 16672 contains a task of very large size (3211 KiB). The maximum recommended task size is 1000 KiB.\n"
     ]
    },
    {
     "name": "stdout",
     "output_type": "stream",
     "text": [
      "Model saved for current chunk\n",
      "Begin preprocessing\n",
      "Run 593\n"
     ]
    },
    {
     "name": "stderr",
     "output_type": "stream",
     "text": [
      "24/04/29 22:26:37 WARN TaskSetManager: Stage 16700 contains a task of very large size (3211 KiB). The maximum recommended task size is 1000 KiB.\n"
     ]
    },
    {
     "name": "stdout",
     "output_type": "stream",
     "text": [
      "Model saved for current chunk\n",
      "Begin preprocessing\n",
      "Run 594\n"
     ]
    },
    {
     "name": "stderr",
     "output_type": "stream",
     "text": [
      "24/04/29 22:26:41 WARN TaskSetManager: Stage 16728 contains a task of very large size (3211 KiB). The maximum recommended task size is 1000 KiB.\n"
     ]
    },
    {
     "name": "stdout",
     "output_type": "stream",
     "text": [
      "Model saved for current chunk\n",
      "Begin preprocessing\n",
      "Run 595\n"
     ]
    },
    {
     "name": "stderr",
     "output_type": "stream",
     "text": [
      "24/04/29 22:26:44 WARN TaskSetManager: Stage 16756 contains a task of very large size (3211 KiB). The maximum recommended task size is 1000 KiB.\n"
     ]
    },
    {
     "name": "stdout",
     "output_type": "stream",
     "text": [
      "Model saved for current chunk\n",
      "Begin preprocessing\n",
      "Run 596\n"
     ]
    },
    {
     "name": "stderr",
     "output_type": "stream",
     "text": [
      "24/04/29 22:26:48 WARN TaskSetManager: Stage 16784 contains a task of very large size (3211 KiB). The maximum recommended task size is 1000 KiB.\n"
     ]
    },
    {
     "name": "stdout",
     "output_type": "stream",
     "text": [
      "Model saved for current chunk\n",
      "Begin preprocessing\n",
      "Run 597\n"
     ]
    },
    {
     "name": "stderr",
     "output_type": "stream",
     "text": [
      "24/04/29 22:26:52 WARN TaskSetManager: Stage 16812 contains a task of very large size (3211 KiB). The maximum recommended task size is 1000 KiB.\n"
     ]
    },
    {
     "name": "stdout",
     "output_type": "stream",
     "text": [
      "Model saved for current chunk\n",
      "Begin preprocessing\n",
      "Run 598\n"
     ]
    },
    {
     "name": "stderr",
     "output_type": "stream",
     "text": [
      "24/04/29 22:26:57 WARN TaskSetManager: Stage 16840 contains a task of very large size (3211 KiB). The maximum recommended task size is 1000 KiB.\n"
     ]
    },
    {
     "name": "stdout",
     "output_type": "stream",
     "text": [
      "Model saved for current chunk\n",
      "Begin preprocessing\n",
      "Run 599\n"
     ]
    },
    {
     "name": "stderr",
     "output_type": "stream",
     "text": [
      "24/04/29 22:27:02 WARN TaskSetManager: Stage 16868 contains a task of very large size (3211 KiB). The maximum recommended task size is 1000 KiB.\n"
     ]
    },
    {
     "name": "stdout",
     "output_type": "stream",
     "text": [
      "Model saved for current chunk\n",
      "Begin preprocessing\n",
      "Run 600\n"
     ]
    },
    {
     "name": "stderr",
     "output_type": "stream",
     "text": [
      "24/04/29 22:27:07 WARN TaskSetManager: Stage 16896 contains a task of very large size (3211 KiB). The maximum recommended task size is 1000 KiB.\n"
     ]
    },
    {
     "name": "stdout",
     "output_type": "stream",
     "text": [
      "Model saved for current chunk\n",
      "Begin preprocessing\n",
      "Run 601\n"
     ]
    },
    {
     "name": "stderr",
     "output_type": "stream",
     "text": [
      "24/04/29 22:27:12 WARN TaskSetManager: Stage 16924 contains a task of very large size (3211 KiB). The maximum recommended task size is 1000 KiB.\n"
     ]
    },
    {
     "name": "stdout",
     "output_type": "stream",
     "text": [
      "Model saved for current chunk\n",
      "Begin preprocessing\n",
      "Run 602\n"
     ]
    },
    {
     "name": "stderr",
     "output_type": "stream",
     "text": [
      "24/04/29 22:27:16 WARN TaskSetManager: Stage 16952 contains a task of very large size (3211 KiB). The maximum recommended task size is 1000 KiB.\n"
     ]
    },
    {
     "name": "stdout",
     "output_type": "stream",
     "text": [
      "Model saved for current chunk\n",
      "Begin preprocessing\n",
      "Run 603\n"
     ]
    },
    {
     "name": "stderr",
     "output_type": "stream",
     "text": [
      "24/04/29 22:27:20 WARN TaskSetManager: Stage 16980 contains a task of very large size (3211 KiB). The maximum recommended task size is 1000 KiB.\n"
     ]
    },
    {
     "name": "stdout",
     "output_type": "stream",
     "text": [
      "Model saved for current chunk\n",
      "Begin preprocessing\n",
      "Run 604\n"
     ]
    },
    {
     "name": "stderr",
     "output_type": "stream",
     "text": [
      "24/04/29 22:27:24 WARN TaskSetManager: Stage 17008 contains a task of very large size (3211 KiB). The maximum recommended task size is 1000 KiB.\n"
     ]
    },
    {
     "name": "stdout",
     "output_type": "stream",
     "text": [
      "Model saved for current chunk\n",
      "Begin preprocessing\n",
      "Run 605\n"
     ]
    },
    {
     "name": "stderr",
     "output_type": "stream",
     "text": [
      "24/04/29 22:27:28 WARN TaskSetManager: Stage 17036 contains a task of very large size (3211 KiB). The maximum recommended task size is 1000 KiB.\n"
     ]
    },
    {
     "name": "stdout",
     "output_type": "stream",
     "text": [
      "Model saved for current chunk\n",
      "Begin preprocessing\n",
      "Run 606\n"
     ]
    },
    {
     "name": "stderr",
     "output_type": "stream",
     "text": [
      "24/04/29 22:27:32 WARN TaskSetManager: Stage 17064 contains a task of very large size (3211 KiB). The maximum recommended task size is 1000 KiB.\n"
     ]
    },
    {
     "name": "stdout",
     "output_type": "stream",
     "text": [
      "Model saved for current chunk\n",
      "Begin preprocessing\n",
      "Run 607\n"
     ]
    },
    {
     "name": "stderr",
     "output_type": "stream",
     "text": [
      "24/04/29 22:27:36 WARN TaskSetManager: Stage 17092 contains a task of very large size (3211 KiB). The maximum recommended task size is 1000 KiB.\n"
     ]
    },
    {
     "name": "stdout",
     "output_type": "stream",
     "text": [
      "Model saved for current chunk\n",
      "Begin preprocessing\n",
      "Run 608\n"
     ]
    },
    {
     "name": "stderr",
     "output_type": "stream",
     "text": [
      "24/04/29 22:27:40 WARN TaskSetManager: Stage 17120 contains a task of very large size (3211 KiB). The maximum recommended task size is 1000 KiB.\n"
     ]
    },
    {
     "name": "stdout",
     "output_type": "stream",
     "text": [
      "Model saved for current chunk\n",
      "Begin preprocessing\n",
      "Run 609\n"
     ]
    },
    {
     "name": "stderr",
     "output_type": "stream",
     "text": [
      "24/04/29 22:27:45 WARN TaskSetManager: Stage 17148 contains a task of very large size (3211 KiB). The maximum recommended task size is 1000 KiB.\n"
     ]
    },
    {
     "name": "stdout",
     "output_type": "stream",
     "text": [
      "Model saved for current chunk\n",
      "Begin preprocessing\n",
      "Run 610\n"
     ]
    },
    {
     "name": "stderr",
     "output_type": "stream",
     "text": [
      "24/04/29 22:27:50 WARN TaskSetManager: Stage 17176 contains a task of very large size (3211 KiB). The maximum recommended task size is 1000 KiB.\n"
     ]
    },
    {
     "name": "stdout",
     "output_type": "stream",
     "text": [
      "Model saved for current chunk\n",
      "Begin preprocessing\n",
      "Run 611\n"
     ]
    },
    {
     "name": "stderr",
     "output_type": "stream",
     "text": [
      "24/04/29 22:27:55 WARN TaskSetManager: Stage 17204 contains a task of very large size (3211 KiB). The maximum recommended task size is 1000 KiB.\n"
     ]
    },
    {
     "name": "stdout",
     "output_type": "stream",
     "text": [
      "Model saved for current chunk\n",
      "Begin preprocessing\n",
      "Run 612\n"
     ]
    },
    {
     "name": "stderr",
     "output_type": "stream",
     "text": [
      "24/04/29 22:28:00 WARN TaskSetManager: Stage 17232 contains a task of very large size (3211 KiB). The maximum recommended task size is 1000 KiB.\n"
     ]
    },
    {
     "name": "stdout",
     "output_type": "stream",
     "text": [
      "Model saved for current chunk\n",
      "Begin preprocessing\n",
      "Run 613\n"
     ]
    },
    {
     "name": "stderr",
     "output_type": "stream",
     "text": [
      "24/04/29 22:28:04 WARN TaskSetManager: Stage 17260 contains a task of very large size (3211 KiB). The maximum recommended task size is 1000 KiB.\n"
     ]
    },
    {
     "name": "stdout",
     "output_type": "stream",
     "text": [
      "Model saved for current chunk\n",
      "Begin preprocessing\n",
      "Run 614\n"
     ]
    },
    {
     "name": "stderr",
     "output_type": "stream",
     "text": [
      "24/04/29 22:28:08 WARN TaskSetManager: Stage 17288 contains a task of very large size (3211 KiB). The maximum recommended task size is 1000 KiB.\n"
     ]
    },
    {
     "name": "stdout",
     "output_type": "stream",
     "text": [
      "Model saved for current chunk\n",
      "Begin preprocessing\n",
      "Run 615\n"
     ]
    },
    {
     "name": "stderr",
     "output_type": "stream",
     "text": [
      "24/04/29 22:28:12 WARN TaskSetManager: Stage 17316 contains a task of very large size (3211 KiB). The maximum recommended task size is 1000 KiB.\n"
     ]
    },
    {
     "name": "stdout",
     "output_type": "stream",
     "text": [
      "Model saved for current chunk\n",
      "Begin preprocessing\n",
      "Run 616\n"
     ]
    },
    {
     "name": "stderr",
     "output_type": "stream",
     "text": [
      "24/04/29 22:28:16 WARN TaskSetManager: Stage 17344 contains a task of very large size (3211 KiB). The maximum recommended task size is 1000 KiB.\n"
     ]
    },
    {
     "name": "stdout",
     "output_type": "stream",
     "text": [
      "Model saved for current chunk\n",
      "Begin preprocessing\n",
      "Run 617\n"
     ]
    },
    {
     "name": "stderr",
     "output_type": "stream",
     "text": [
      "24/04/29 22:28:20 WARN TaskSetManager: Stage 17372 contains a task of very large size (3211 KiB). The maximum recommended task size is 1000 KiB.\n"
     ]
    },
    {
     "name": "stdout",
     "output_type": "stream",
     "text": [
      "Model saved for current chunk\n",
      "Begin preprocessing\n",
      "Run 618\n"
     ]
    },
    {
     "name": "stderr",
     "output_type": "stream",
     "text": [
      "24/04/29 22:28:24 WARN TaskSetManager: Stage 17400 contains a task of very large size (3211 KiB). The maximum recommended task size is 1000 KiB.\n"
     ]
    },
    {
     "name": "stdout",
     "output_type": "stream",
     "text": [
      "Model saved for current chunk\n",
      "Begin preprocessing\n",
      "Run 619\n"
     ]
    },
    {
     "name": "stderr",
     "output_type": "stream",
     "text": [
      "24/04/29 22:28:29 WARN TaskSetManager: Stage 17428 contains a task of very large size (3211 KiB). The maximum recommended task size is 1000 KiB.\n"
     ]
    },
    {
     "name": "stdout",
     "output_type": "stream",
     "text": [
      "Model saved for current chunk\n",
      "Begin preprocessing\n",
      "Run 620\n"
     ]
    },
    {
     "name": "stderr",
     "output_type": "stream",
     "text": [
      "24/04/29 22:28:34 WARN TaskSetManager: Stage 17456 contains a task of very large size (3211 KiB). The maximum recommended task size is 1000 KiB.\n"
     ]
    },
    {
     "name": "stdout",
     "output_type": "stream",
     "text": [
      "Model saved for current chunk\n",
      "Begin preprocessing\n",
      "Run 621\n"
     ]
    },
    {
     "name": "stderr",
     "output_type": "stream",
     "text": [
      "24/04/29 22:28:38 WARN TaskSetManager: Stage 17484 contains a task of very large size (3211 KiB). The maximum recommended task size is 1000 KiB.\n"
     ]
    },
    {
     "name": "stdout",
     "output_type": "stream",
     "text": [
      "Model saved for current chunk\n",
      "Begin preprocessing\n",
      "Run 622\n"
     ]
    },
    {
     "name": "stderr",
     "output_type": "stream",
     "text": [
      "24/04/29 22:28:43 WARN TaskSetManager: Stage 17512 contains a task of very large size (3211 KiB). The maximum recommended task size is 1000 KiB.\n"
     ]
    },
    {
     "name": "stdout",
     "output_type": "stream",
     "text": [
      "Model saved for current chunk\n",
      "Begin preprocessing\n",
      "Run 623\n"
     ]
    },
    {
     "name": "stderr",
     "output_type": "stream",
     "text": [
      "24/04/29 22:28:46 WARN TaskSetManager: Stage 17540 contains a task of very large size (3211 KiB). The maximum recommended task size is 1000 KiB.\n"
     ]
    },
    {
     "name": "stdout",
     "output_type": "stream",
     "text": [
      "Model saved for current chunk\n",
      "Begin preprocessing\n",
      "Run 624\n"
     ]
    },
    {
     "name": "stderr",
     "output_type": "stream",
     "text": [
      "24/04/29 22:28:50 WARN TaskSetManager: Stage 17568 contains a task of very large size (3211 KiB). The maximum recommended task size is 1000 KiB.\n"
     ]
    },
    {
     "name": "stdout",
     "output_type": "stream",
     "text": [
      "Model saved for current chunk\n",
      "Begin preprocessing\n",
      "Run 625\n"
     ]
    },
    {
     "name": "stderr",
     "output_type": "stream",
     "text": [
      "24/04/29 22:28:54 WARN TaskSetManager: Stage 17596 contains a task of very large size (3211 KiB). The maximum recommended task size is 1000 KiB.\n"
     ]
    },
    {
     "name": "stdout",
     "output_type": "stream",
     "text": [
      "Model saved for current chunk\n",
      "Begin preprocessing\n",
      "Run 626\n"
     ]
    },
    {
     "name": "stderr",
     "output_type": "stream",
     "text": [
      "24/04/29 22:28:58 WARN TaskSetManager: Stage 17624 contains a task of very large size (3211 KiB). The maximum recommended task size is 1000 KiB.\n"
     ]
    },
    {
     "name": "stdout",
     "output_type": "stream",
     "text": [
      "Model saved for current chunk\n",
      "Begin preprocessing\n",
      "Run 627\n"
     ]
    },
    {
     "name": "stderr",
     "output_type": "stream",
     "text": [
      "24/04/29 22:29:03 WARN TaskSetManager: Stage 17652 contains a task of very large size (3211 KiB). The maximum recommended task size is 1000 KiB.\n"
     ]
    },
    {
     "name": "stdout",
     "output_type": "stream",
     "text": [
      "Model saved for current chunk\n",
      "Begin preprocessing\n",
      "Run 628\n"
     ]
    },
    {
     "name": "stderr",
     "output_type": "stream",
     "text": [
      "24/04/29 22:29:07 WARN TaskSetManager: Stage 17680 contains a task of very large size (3211 KiB). The maximum recommended task size is 1000 KiB.\n"
     ]
    },
    {
     "name": "stdout",
     "output_type": "stream",
     "text": [
      "Model saved for current chunk\n",
      "Begin preprocessing\n",
      "Run 629\n"
     ]
    },
    {
     "name": "stderr",
     "output_type": "stream",
     "text": [
      "24/04/29 22:29:12 WARN TaskSetManager: Stage 17708 contains a task of very large size (3211 KiB). The maximum recommended task size is 1000 KiB.\n"
     ]
    },
    {
     "name": "stdout",
     "output_type": "stream",
     "text": [
      "Model saved for current chunk\n",
      "Begin preprocessing\n",
      "Run 630\n"
     ]
    },
    {
     "name": "stderr",
     "output_type": "stream",
     "text": [
      "24/04/29 22:29:16 WARN TaskSetManager: Stage 17736 contains a task of very large size (3211 KiB). The maximum recommended task size is 1000 KiB.\n"
     ]
    },
    {
     "name": "stdout",
     "output_type": "stream",
     "text": [
      "Model saved for current chunk\n",
      "Begin preprocessing\n",
      "Run 631\n"
     ]
    },
    {
     "name": "stderr",
     "output_type": "stream",
     "text": [
      "24/04/29 22:29:21 WARN TaskSetManager: Stage 17764 contains a task of very large size (3211 KiB). The maximum recommended task size is 1000 KiB.\n"
     ]
    },
    {
     "name": "stdout",
     "output_type": "stream",
     "text": [
      "Model saved for current chunk\n",
      "Begin preprocessing\n",
      "Run 632\n"
     ]
    },
    {
     "name": "stderr",
     "output_type": "stream",
     "text": [
      "24/04/29 22:29:25 WARN TaskSetManager: Stage 17792 contains a task of very large size (3211 KiB). The maximum recommended task size is 1000 KiB.\n"
     ]
    },
    {
     "name": "stdout",
     "output_type": "stream",
     "text": [
      "Model saved for current chunk\n",
      "Begin preprocessing\n",
      "Run 633\n"
     ]
    },
    {
     "name": "stderr",
     "output_type": "stream",
     "text": [
      "24/04/29 22:29:29 WARN TaskSetManager: Stage 17820 contains a task of very large size (3211 KiB). The maximum recommended task size is 1000 KiB.\n"
     ]
    },
    {
     "name": "stdout",
     "output_type": "stream",
     "text": [
      "Model saved for current chunk\n",
      "Begin preprocessing\n",
      "Run 634\n"
     ]
    },
    {
     "name": "stderr",
     "output_type": "stream",
     "text": [
      "24/04/29 22:29:33 WARN TaskSetManager: Stage 17848 contains a task of very large size (3211 KiB). The maximum recommended task size is 1000 KiB.\n"
     ]
    },
    {
     "name": "stdout",
     "output_type": "stream",
     "text": [
      "Model saved for current chunk\n",
      "Begin preprocessing\n",
      "Run 635\n"
     ]
    },
    {
     "name": "stderr",
     "output_type": "stream",
     "text": [
      "24/04/29 22:29:36 WARN TaskSetManager: Stage 17876 contains a task of very large size (3211 KiB). The maximum recommended task size is 1000 KiB.\n"
     ]
    },
    {
     "name": "stdout",
     "output_type": "stream",
     "text": [
      "Model saved for current chunk\n",
      "Begin preprocessing\n",
      "Run 636\n"
     ]
    },
    {
     "name": "stderr",
     "output_type": "stream",
     "text": [
      "24/04/29 22:29:41 WARN TaskSetManager: Stage 17904 contains a task of very large size (3211 KiB). The maximum recommended task size is 1000 KiB.\n"
     ]
    },
    {
     "name": "stdout",
     "output_type": "stream",
     "text": [
      "Model saved for current chunk\n",
      "Begin preprocessing\n",
      "Run 637\n"
     ]
    },
    {
     "name": "stderr",
     "output_type": "stream",
     "text": [
      "24/04/29 22:29:45 WARN TaskSetManager: Stage 17932 contains a task of very large size (3211 KiB). The maximum recommended task size is 1000 KiB.\n"
     ]
    },
    {
     "name": "stdout",
     "output_type": "stream",
     "text": [
      "Model saved for current chunk\n",
      "Begin preprocessing\n",
      "Run 638\n"
     ]
    },
    {
     "name": "stderr",
     "output_type": "stream",
     "text": [
      "24/04/29 22:29:50 WARN TaskSetManager: Stage 17960 contains a task of very large size (3211 KiB). The maximum recommended task size is 1000 KiB.\n"
     ]
    },
    {
     "name": "stdout",
     "output_type": "stream",
     "text": [
      "Model saved for current chunk\n",
      "Begin preprocessing\n",
      "Run 639\n"
     ]
    },
    {
     "name": "stderr",
     "output_type": "stream",
     "text": [
      "24/04/29 22:29:55 WARN TaskSetManager: Stage 17988 contains a task of very large size (3211 KiB). The maximum recommended task size is 1000 KiB.\n"
     ]
    },
    {
     "name": "stdout",
     "output_type": "stream",
     "text": [
      "Model saved for current chunk\n",
      "Begin preprocessing\n",
      "Run 640\n"
     ]
    },
    {
     "name": "stderr",
     "output_type": "stream",
     "text": [
      "24/04/29 22:29:59 WARN TaskSetManager: Stage 18016 contains a task of very large size (3211 KiB). The maximum recommended task size is 1000 KiB.\n"
     ]
    },
    {
     "name": "stdout",
     "output_type": "stream",
     "text": [
      "Model saved for current chunk\n",
      "Begin preprocessing\n",
      "Run 641\n"
     ]
    },
    {
     "name": "stderr",
     "output_type": "stream",
     "text": [
      "24/04/29 22:30:04 WARN TaskSetManager: Stage 18044 contains a task of very large size (3211 KiB). The maximum recommended task size is 1000 KiB.\n"
     ]
    },
    {
     "name": "stdout",
     "output_type": "stream",
     "text": [
      "Model saved for current chunk\n",
      "Begin preprocessing\n",
      "Run 642\n"
     ]
    },
    {
     "name": "stderr",
     "output_type": "stream",
     "text": [
      "24/04/29 22:30:09 WARN TaskSetManager: Stage 18072 contains a task of very large size (3211 KiB). The maximum recommended task size is 1000 KiB.\n"
     ]
    },
    {
     "name": "stdout",
     "output_type": "stream",
     "text": [
      "Model saved for current chunk\n",
      "Begin preprocessing\n",
      "Run 643\n"
     ]
    },
    {
     "name": "stderr",
     "output_type": "stream",
     "text": [
      "24/04/29 22:30:13 WARN TaskSetManager: Stage 18100 contains a task of very large size (3211 KiB). The maximum recommended task size is 1000 KiB.\n"
     ]
    },
    {
     "name": "stdout",
     "output_type": "stream",
     "text": [
      "Model saved for current chunk\n",
      "Begin preprocessing\n",
      "Run 644\n"
     ]
    },
    {
     "name": "stderr",
     "output_type": "stream",
     "text": [
      "24/04/29 22:30:18 WARN TaskSetManager: Stage 18128 contains a task of very large size (3211 KiB). The maximum recommended task size is 1000 KiB.\n"
     ]
    },
    {
     "name": "stdout",
     "output_type": "stream",
     "text": [
      "Model saved for current chunk\n",
      "Begin preprocessing\n",
      "Run 645\n"
     ]
    },
    {
     "name": "stderr",
     "output_type": "stream",
     "text": [
      "24/04/29 22:30:23 WARN TaskSetManager: Stage 18156 contains a task of very large size (3211 KiB). The maximum recommended task size is 1000 KiB.\n"
     ]
    },
    {
     "name": "stdout",
     "output_type": "stream",
     "text": [
      "Model saved for current chunk\n",
      "Begin preprocessing\n",
      "Run 646\n"
     ]
    },
    {
     "name": "stderr",
     "output_type": "stream",
     "text": [
      "24/04/29 22:30:27 WARN TaskSetManager: Stage 18184 contains a task of very large size (3211 KiB). The maximum recommended task size is 1000 KiB.\n"
     ]
    },
    {
     "name": "stdout",
     "output_type": "stream",
     "text": [
      "Model saved for current chunk\n",
      "Begin preprocessing\n",
      "Run 647\n"
     ]
    },
    {
     "name": "stderr",
     "output_type": "stream",
     "text": [
      "24/04/29 22:30:31 WARN TaskSetManager: Stage 18212 contains a task of very large size (3211 KiB). The maximum recommended task size is 1000 KiB.\n"
     ]
    },
    {
     "name": "stdout",
     "output_type": "stream",
     "text": [
      "Model saved for current chunk\n",
      "Begin preprocessing\n",
      "Run 648\n"
     ]
    },
    {
     "name": "stderr",
     "output_type": "stream",
     "text": [
      "24/04/29 22:30:35 WARN TaskSetManager: Stage 18240 contains a task of very large size (3211 KiB). The maximum recommended task size is 1000 KiB.\n"
     ]
    },
    {
     "name": "stdout",
     "output_type": "stream",
     "text": [
      "Model saved for current chunk\n",
      "Begin preprocessing\n",
      "Run 649\n"
     ]
    },
    {
     "name": "stderr",
     "output_type": "stream",
     "text": [
      "24/04/29 22:30:39 WARN TaskSetManager: Stage 18268 contains a task of very large size (3211 KiB). The maximum recommended task size is 1000 KiB.\n"
     ]
    },
    {
     "name": "stdout",
     "output_type": "stream",
     "text": [
      "Model saved for current chunk\n",
      "Begin preprocessing\n",
      "Run 650\n"
     ]
    },
    {
     "name": "stderr",
     "output_type": "stream",
     "text": [
      "24/04/29 22:30:43 WARN TaskSetManager: Stage 18296 contains a task of very large size (3211 KiB). The maximum recommended task size is 1000 KiB.\n"
     ]
    },
    {
     "name": "stdout",
     "output_type": "stream",
     "text": [
      "Model saved for current chunk\n",
      "Begin preprocessing\n",
      "Run 651\n"
     ]
    },
    {
     "name": "stderr",
     "output_type": "stream",
     "text": [
      "24/04/29 22:30:47 WARN TaskSetManager: Stage 18324 contains a task of very large size (3211 KiB). The maximum recommended task size is 1000 KiB.\n"
     ]
    },
    {
     "name": "stdout",
     "output_type": "stream",
     "text": [
      "Model saved for current chunk\n",
      "Begin preprocessing\n",
      "Run 652\n"
     ]
    },
    {
     "name": "stderr",
     "output_type": "stream",
     "text": [
      "24/04/29 22:30:52 WARN TaskSetManager: Stage 18352 contains a task of very large size (3211 KiB). The maximum recommended task size is 1000 KiB.\n"
     ]
    },
    {
     "name": "stdout",
     "output_type": "stream",
     "text": [
      "Model saved for current chunk\n",
      "Begin preprocessing\n",
      "Run 653\n"
     ]
    },
    {
     "name": "stderr",
     "output_type": "stream",
     "text": [
      "24/04/29 22:30:56 WARN TaskSetManager: Stage 18380 contains a task of very large size (3211 KiB). The maximum recommended task size is 1000 KiB.\n"
     ]
    },
    {
     "name": "stdout",
     "output_type": "stream",
     "text": [
      "Model saved for current chunk\n",
      "Begin preprocessing\n",
      "Run 654\n"
     ]
    },
    {
     "name": "stderr",
     "output_type": "stream",
     "text": [
      "24/04/29 22:31:00 WARN TaskSetManager: Stage 18408 contains a task of very large size (3211 KiB). The maximum recommended task size is 1000 KiB.\n"
     ]
    },
    {
     "name": "stdout",
     "output_type": "stream",
     "text": [
      "Model saved for current chunk\n",
      "Begin preprocessing\n",
      "Run 655\n"
     ]
    },
    {
     "name": "stderr",
     "output_type": "stream",
     "text": [
      "24/04/29 22:31:04 WARN TaskSetManager: Stage 18436 contains a task of very large size (3211 KiB). The maximum recommended task size is 1000 KiB.\n"
     ]
    },
    {
     "name": "stdout",
     "output_type": "stream",
     "text": [
      "Model saved for current chunk\n",
      "Begin preprocessing\n",
      "Run 656\n"
     ]
    },
    {
     "name": "stderr",
     "output_type": "stream",
     "text": [
      "24/04/29 22:31:09 WARN TaskSetManager: Stage 18464 contains a task of very large size (3211 KiB). The maximum recommended task size is 1000 KiB.\n"
     ]
    },
    {
     "name": "stdout",
     "output_type": "stream",
     "text": [
      "Model saved for current chunk\n",
      "Begin preprocessing\n",
      "Run 657\n"
     ]
    },
    {
     "name": "stderr",
     "output_type": "stream",
     "text": [
      "24/04/29 22:31:13 WARN TaskSetManager: Stage 18492 contains a task of very large size (3211 KiB). The maximum recommended task size is 1000 KiB.\n"
     ]
    },
    {
     "name": "stdout",
     "output_type": "stream",
     "text": [
      "Model saved for current chunk\n",
      "Begin preprocessing\n",
      "Run 658\n"
     ]
    },
    {
     "name": "stderr",
     "output_type": "stream",
     "text": [
      "24/04/29 22:31:17 WARN TaskSetManager: Stage 18520 contains a task of very large size (3211 KiB). The maximum recommended task size is 1000 KiB.\n"
     ]
    },
    {
     "name": "stdout",
     "output_type": "stream",
     "text": [
      "Model saved for current chunk\n",
      "Begin preprocessing\n",
      "Run 659\n"
     ]
    },
    {
     "name": "stderr",
     "output_type": "stream",
     "text": [
      "24/04/29 22:31:21 WARN TaskSetManager: Stage 18548 contains a task of very large size (3211 KiB). The maximum recommended task size is 1000 KiB.\n"
     ]
    },
    {
     "name": "stdout",
     "output_type": "stream",
     "text": [
      "Model saved for current chunk\n",
      "Begin preprocessing\n",
      "Run 660\n"
     ]
    },
    {
     "name": "stderr",
     "output_type": "stream",
     "text": [
      "24/04/29 22:31:25 WARN TaskSetManager: Stage 18576 contains a task of very large size (3211 KiB). The maximum recommended task size is 1000 KiB.\n"
     ]
    },
    {
     "name": "stdout",
     "output_type": "stream",
     "text": [
      "Model saved for current chunk\n",
      "Begin preprocessing\n",
      "Run 661\n"
     ]
    },
    {
     "name": "stderr",
     "output_type": "stream",
     "text": [
      "24/04/29 22:31:29 WARN TaskSetManager: Stage 18604 contains a task of very large size (3211 KiB). The maximum recommended task size is 1000 KiB.\n"
     ]
    },
    {
     "name": "stdout",
     "output_type": "stream",
     "text": [
      "Model saved for current chunk\n",
      "Begin preprocessing\n",
      "Run 662\n"
     ]
    },
    {
     "name": "stderr",
     "output_type": "stream",
     "text": [
      "24/04/29 22:31:34 WARN TaskSetManager: Stage 18632 contains a task of very large size (3211 KiB). The maximum recommended task size is 1000 KiB.\n"
     ]
    },
    {
     "name": "stdout",
     "output_type": "stream",
     "text": [
      "Model saved for current chunk\n",
      "Begin preprocessing\n",
      "Run 663\n"
     ]
    },
    {
     "name": "stderr",
     "output_type": "stream",
     "text": [
      "24/04/29 22:31:38 WARN TaskSetManager: Stage 18660 contains a task of very large size (3211 KiB). The maximum recommended task size is 1000 KiB.\n"
     ]
    },
    {
     "name": "stdout",
     "output_type": "stream",
     "text": [
      "Model saved for current chunk\n",
      "Begin preprocessing\n",
      "Run 664\n"
     ]
    },
    {
     "name": "stderr",
     "output_type": "stream",
     "text": [
      "24/04/29 22:31:42 WARN TaskSetManager: Stage 18688 contains a task of very large size (3211 KiB). The maximum recommended task size is 1000 KiB.\n"
     ]
    },
    {
     "name": "stdout",
     "output_type": "stream",
     "text": [
      "Model saved for current chunk\n",
      "Begin preprocessing\n",
      "Run 665\n"
     ]
    },
    {
     "name": "stderr",
     "output_type": "stream",
     "text": [
      "24/04/29 22:31:46 WARN TaskSetManager: Stage 18716 contains a task of very large size (3211 KiB). The maximum recommended task size is 1000 KiB.\n"
     ]
    },
    {
     "name": "stdout",
     "output_type": "stream",
     "text": [
      "Model saved for current chunk\n",
      "Begin preprocessing\n",
      "Run 666\n"
     ]
    },
    {
     "name": "stderr",
     "output_type": "stream",
     "text": [
      "24/04/29 22:31:50 WARN TaskSetManager: Stage 18744 contains a task of very large size (3211 KiB). The maximum recommended task size is 1000 KiB.\n"
     ]
    },
    {
     "name": "stdout",
     "output_type": "stream",
     "text": [
      "Model saved for current chunk\n",
      "Begin preprocessing\n",
      "Run 667\n"
     ]
    },
    {
     "name": "stderr",
     "output_type": "stream",
     "text": [
      "24/04/29 22:31:54 WARN TaskSetManager: Stage 18772 contains a task of very large size (3211 KiB). The maximum recommended task size is 1000 KiB.\n"
     ]
    },
    {
     "name": "stdout",
     "output_type": "stream",
     "text": [
      "Model saved for current chunk\n",
      "Begin preprocessing\n",
      "Run 668\n"
     ]
    },
    {
     "name": "stderr",
     "output_type": "stream",
     "text": [
      "24/04/29 22:31:58 WARN TaskSetManager: Stage 18800 contains a task of very large size (3211 KiB). The maximum recommended task size is 1000 KiB.\n"
     ]
    },
    {
     "name": "stdout",
     "output_type": "stream",
     "text": [
      "Model saved for current chunk\n",
      "Begin preprocessing\n",
      "Run 669\n"
     ]
    },
    {
     "name": "stderr",
     "output_type": "stream",
     "text": [
      "24/04/29 22:32:01 WARN TaskSetManager: Stage 18828 contains a task of very large size (3211 KiB). The maximum recommended task size is 1000 KiB.\n"
     ]
    },
    {
     "name": "stdout",
     "output_type": "stream",
     "text": [
      "Model saved for current chunk\n",
      "Begin preprocessing\n",
      "Run 670\n"
     ]
    },
    {
     "name": "stderr",
     "output_type": "stream",
     "text": [
      "24/04/29 22:32:05 WARN TaskSetManager: Stage 18856 contains a task of very large size (3211 KiB). The maximum recommended task size is 1000 KiB.\n"
     ]
    },
    {
     "name": "stdout",
     "output_type": "stream",
     "text": [
      "Model saved for current chunk\n",
      "Begin preprocessing\n",
      "Run 671\n"
     ]
    },
    {
     "name": "stderr",
     "output_type": "stream",
     "text": [
      "24/04/29 22:32:09 WARN TaskSetManager: Stage 18884 contains a task of very large size (3211 KiB). The maximum recommended task size is 1000 KiB.\n"
     ]
    },
    {
     "name": "stdout",
     "output_type": "stream",
     "text": [
      "Model saved for current chunk\n",
      "Begin preprocessing\n",
      "Run 672\n"
     ]
    },
    {
     "name": "stderr",
     "output_type": "stream",
     "text": [
      "24/04/29 22:32:14 WARN TaskSetManager: Stage 18912 contains a task of very large size (3211 KiB). The maximum recommended task size is 1000 KiB.\n"
     ]
    },
    {
     "name": "stdout",
     "output_type": "stream",
     "text": [
      "Model saved for current chunk\n",
      "Begin preprocessing\n",
      "Run 673\n"
     ]
    },
    {
     "name": "stderr",
     "output_type": "stream",
     "text": [
      "24/04/29 22:32:18 WARN TaskSetManager: Stage 18940 contains a task of very large size (3211 KiB). The maximum recommended task size is 1000 KiB.\n"
     ]
    },
    {
     "name": "stdout",
     "output_type": "stream",
     "text": [
      "Model saved for current chunk\n",
      "Begin preprocessing\n",
      "Run 674\n"
     ]
    },
    {
     "name": "stderr",
     "output_type": "stream",
     "text": [
      "24/04/29 22:32:22 WARN TaskSetManager: Stage 18968 contains a task of very large size (3211 KiB). The maximum recommended task size is 1000 KiB.\n"
     ]
    },
    {
     "name": "stdout",
     "output_type": "stream",
     "text": [
      "Model saved for current chunk\n",
      "Begin preprocessing\n",
      "Run 675\n"
     ]
    },
    {
     "name": "stderr",
     "output_type": "stream",
     "text": [
      "24/04/29 22:32:26 WARN TaskSetManager: Stage 18996 contains a task of very large size (3211 KiB). The maximum recommended task size is 1000 KiB.\n"
     ]
    },
    {
     "name": "stdout",
     "output_type": "stream",
     "text": [
      "Model saved for current chunk\n",
      "Begin preprocessing\n",
      "Run 676\n"
     ]
    },
    {
     "name": "stderr",
     "output_type": "stream",
     "text": [
      "24/04/29 22:32:30 WARN TaskSetManager: Stage 19024 contains a task of very large size (3211 KiB). The maximum recommended task size is 1000 KiB.\n"
     ]
    },
    {
     "name": "stdout",
     "output_type": "stream",
     "text": [
      "Model saved for current chunk\n",
      "Begin preprocessing\n",
      "Run 677\n"
     ]
    },
    {
     "name": "stderr",
     "output_type": "stream",
     "text": [
      "24/04/29 22:32:34 WARN TaskSetManager: Stage 19052 contains a task of very large size (3211 KiB). The maximum recommended task size is 1000 KiB.\n"
     ]
    },
    {
     "name": "stdout",
     "output_type": "stream",
     "text": [
      "Model saved for current chunk\n",
      "Begin preprocessing\n",
      "Run 678\n"
     ]
    },
    {
     "name": "stderr",
     "output_type": "stream",
     "text": [
      "24/04/29 22:32:38 WARN TaskSetManager: Stage 19080 contains a task of very large size (3211 KiB). The maximum recommended task size is 1000 KiB.\n"
     ]
    },
    {
     "name": "stdout",
     "output_type": "stream",
     "text": [
      "Model saved for current chunk\n",
      "Begin preprocessing\n",
      "Run 679\n"
     ]
    },
    {
     "name": "stderr",
     "output_type": "stream",
     "text": [
      "24/04/29 22:32:42 WARN TaskSetManager: Stage 19108 contains a task of very large size (3211 KiB). The maximum recommended task size is 1000 KiB.\n"
     ]
    },
    {
     "name": "stdout",
     "output_type": "stream",
     "text": [
      "Model saved for current chunk\n",
      "Begin preprocessing\n",
      "Run 680\n"
     ]
    },
    {
     "name": "stderr",
     "output_type": "stream",
     "text": [
      "24/04/29 22:32:46 WARN TaskSetManager: Stage 19136 contains a task of very large size (3211 KiB). The maximum recommended task size is 1000 KiB.\n"
     ]
    },
    {
     "name": "stdout",
     "output_type": "stream",
     "text": [
      "Model saved for current chunk\n",
      "Begin preprocessing\n",
      "Run 681\n"
     ]
    },
    {
     "name": "stderr",
     "output_type": "stream",
     "text": [
      "24/04/29 22:32:50 WARN TaskSetManager: Stage 19164 contains a task of very large size (3211 KiB). The maximum recommended task size is 1000 KiB.\n"
     ]
    },
    {
     "name": "stdout",
     "output_type": "stream",
     "text": [
      "Model saved for current chunk\n",
      "Begin preprocessing\n",
      "Run 682\n"
     ]
    },
    {
     "name": "stderr",
     "output_type": "stream",
     "text": [
      "24/04/29 22:32:55 WARN TaskSetManager: Stage 19192 contains a task of very large size (3211 KiB). The maximum recommended task size is 1000 KiB.\n"
     ]
    },
    {
     "name": "stdout",
     "output_type": "stream",
     "text": [
      "Model saved for current chunk\n",
      "Begin preprocessing\n",
      "Run 683\n"
     ]
    },
    {
     "name": "stderr",
     "output_type": "stream",
     "text": [
      "24/04/29 22:32:59 WARN TaskSetManager: Stage 19220 contains a task of very large size (3211 KiB). The maximum recommended task size is 1000 KiB.\n"
     ]
    },
    {
     "name": "stdout",
     "output_type": "stream",
     "text": [
      "Model saved for current chunk\n",
      "Begin preprocessing\n",
      "Run 684\n"
     ]
    },
    {
     "name": "stderr",
     "output_type": "stream",
     "text": [
      "24/04/29 22:33:04 WARN TaskSetManager: Stage 19248 contains a task of very large size (3211 KiB). The maximum recommended task size is 1000 KiB.\n"
     ]
    },
    {
     "name": "stdout",
     "output_type": "stream",
     "text": [
      "Model saved for current chunk\n",
      "Begin preprocessing\n",
      "Run 685\n"
     ]
    },
    {
     "name": "stderr",
     "output_type": "stream",
     "text": [
      "24/04/29 22:33:08 WARN TaskSetManager: Stage 19276 contains a task of very large size (3211 KiB). The maximum recommended task size is 1000 KiB.\n"
     ]
    },
    {
     "name": "stdout",
     "output_type": "stream",
     "text": [
      "Model saved for current chunk\n",
      "Begin preprocessing\n",
      "Run 686\n"
     ]
    },
    {
     "name": "stderr",
     "output_type": "stream",
     "text": [
      "24/04/29 22:33:12 WARN TaskSetManager: Stage 19304 contains a task of very large size (3211 KiB). The maximum recommended task size is 1000 KiB.\n"
     ]
    },
    {
     "name": "stdout",
     "output_type": "stream",
     "text": [
      "Model saved for current chunk\n",
      "Begin preprocessing\n",
      "Run 687\n"
     ]
    },
    {
     "name": "stderr",
     "output_type": "stream",
     "text": [
      "24/04/29 22:33:16 WARN TaskSetManager: Stage 19332 contains a task of very large size (3211 KiB). The maximum recommended task size is 1000 KiB.\n"
     ]
    },
    {
     "name": "stdout",
     "output_type": "stream",
     "text": [
      "Model saved for current chunk\n",
      "Begin preprocessing\n",
      "Run 688\n"
     ]
    },
    {
     "name": "stderr",
     "output_type": "stream",
     "text": [
      "24/04/29 22:33:20 WARN TaskSetManager: Stage 19360 contains a task of very large size (3211 KiB). The maximum recommended task size is 1000 KiB.\n"
     ]
    },
    {
     "name": "stdout",
     "output_type": "stream",
     "text": [
      "Model saved for current chunk\n",
      "Begin preprocessing\n",
      "Run 689\n"
     ]
    },
    {
     "name": "stderr",
     "output_type": "stream",
     "text": [
      "24/04/29 22:33:24 WARN TaskSetManager: Stage 19388 contains a task of very large size (3211 KiB). The maximum recommended task size is 1000 KiB.\n"
     ]
    },
    {
     "name": "stdout",
     "output_type": "stream",
     "text": [
      "Model saved for current chunk\n",
      "Begin preprocessing\n",
      "Run 690\n"
     ]
    },
    {
     "name": "stderr",
     "output_type": "stream",
     "text": [
      "24/04/29 22:33:28 WARN TaskSetManager: Stage 19416 contains a task of very large size (3211 KiB). The maximum recommended task size is 1000 KiB.\n"
     ]
    },
    {
     "name": "stdout",
     "output_type": "stream",
     "text": [
      "Model saved for current chunk\n"
     ]
    }
   ],
   "source": [
    "\n",
    "import sys\n",
    "import json\n",
    "import os\n",
    "\n",
    "from pyspark.ml.pipeline import PipelineModel\n",
    "\n",
    "def transform_chunk(df, run):\n",
    "    nlpPipeline = get_nlp_pipeline()\n",
    "    tokenized_df = nlpPipeline.fit(df).transform(df)\n",
    "    if run == 0:\n",
    "        print('Showing tokenized dataframe')\n",
    "        tokenized_df.show(20)\n",
    "    df6_train = tokenized_df.where(F.size(F.col(\"cleanTokens\")) > 0)\n",
    "    if run == 0:\n",
    "        print('Showing processed tokenized dataframe')\n",
    "        tokenized_df.show(20)\n",
    "    df_train_for_model = df6_train.select(\"reviewText\",\"sentiment\", \"cleanTokens.result\").withColumnRenamed(\"sentiment\", \"label\").withColumnRenamed(\"result\", \"token\")\n",
    "    return df_train_for_model\n",
    "\n",
    "# Define the maximum file size in bytes (10MB)\n",
    "max_file_size = 10 * 1024 * 1024\n",
    "\n",
    "json_objects = []\n",
    "run = 0\n",
    "# Read the file line by line until the maximum file size is reached\n",
    "with open(json_training_file_path, 'r') as file:\n",
    "    total_size = 0\n",
    "    for line in file:\n",
    "        # Calculate the size of the current line\n",
    "        line_size = sys.getsizeof(line)\n",
    "\n",
    "        # If adding the current line exceeds the maximum file size, stop reading\n",
    "        if total_size + line_size >= max_file_size:\n",
    "            print('Begin preprocessing')\n",
    "            # Create a DataFrame from the list of JSON objects\n",
    "            df = pre_process(json_objects, run)\n",
    "            # Print only one the first run\n",
    "            if run == 0:\n",
    "                print(\"Show preprocessed chunk:\")\n",
    "                df.show(20)\n",
    "            df_train = transform_chunk(df, run)\n",
    "            if run == 0:\n",
    "                print(\"Show transformed chunk:\")\n",
    "                df_train.show(20)\n",
    "            print(\"Run %d\" % run)\n",
    "            train_stem = stem_pipeline.transform(df_train)\\\n",
    "                          .where(F.size(F.col(\"stemmed\")) >= 1)\n",
    "            if os.path.exists('bigram_pipeline_model'):\n",
    "                loaded_model = PipelineModel.load('bigram_pipeline_model')\n",
    "                stages_steps = loaded_model.stages\n",
    "                updated_model = Pipeline(stages = stages_steps).fit(train_stem)\n",
    "            else:\n",
    "                updated_model = bigram_pipeline.fit(train_stem)\n",
    "\n",
    "            updated_model.write().overwrite().save('bigram_pipeline_model')\n",
    "            run += 1\n",
    "            print('Model saved for current chunk')\n",
    "            del df\n",
    "            del df_train\n",
    "            json_objects = []\n",
    "            total_size = 0\n",
    "        # Otherwise, add the line to the list of JSON objects\n",
    "        json_objects.append(json.loads(line))\n",
    "        total_size += line_size"
   ]
  },
  {
   "cell_type": "code",
   "execution_count": 10,
   "metadata": {},
   "outputs": [
    {
     "name": "stdout",
     "output_type": "stream",
     "text": [
      "Loading test data:\n",
      "Preprocessed test data:\n"
     ]
    },
    {
     "name": "stderr",
     "output_type": "stream",
     "text": [
      "                                                                                \r"
     ]
    },
    {
     "name": "stdout",
     "output_type": "stream",
     "text": [
      "+-------+--------------------+----------+--------------------+---------+\n",
      "|overall|          reviewerID|      asin|          reviewText|sentiment|\n",
      "+-------+--------------------+----------+--------------------+---------+\n",
      "|    3.0| A0020356UF96ZV361ST|B00FDXFFW2|I guess you can s...|        0|\n",
      "|    4.0| A0020356UF96ZV361ST|B00H6VZ0SS|This girl has bee...|        1|\n",
      "|    4.0| A0020356UF96ZV361ST|B00XQOGWV8|Mario is a sorry ...|        1|\n",
      "|    4.0| A0020356UF96ZV361ST|B014HD23EQ|This father had h...|        1|\n",
      "|    4.0| A0020356UF96ZV361ST|B018RSH2FW|This guy is and h...|        1|\n",
      "|    4.0|A00463782V7TKAP9EMNL|B00D0LUKCO|Isn't it scary wh...|        1|\n",
      "|    5.0|A00463782V7TKAP9EMNL|B00LSDQNJK|After reading thi...|        1|\n",
      "|    4.0|A00463782V7TKAP9EMNL|B00PJ1MPGW|The history of th...|        1|\n",
      "|    3.0|A00463782V7TKAP9EMNL|B00S4BZHYG|A very good intro...|        0|\n",
      "|    5.0|A00463782V7TKAP9EMNL|B01CWYTJUS|I love this roman...|        1|\n",
      "+-------+--------------------+----------+--------------------+---------+\n",
      "only showing top 10 rows\n",
      "\n",
      "Transformed test data:\n"
     ]
    },
    {
     "name": "stderr",
     "output_type": "stream",
     "text": [
      "                                                                                \r"
     ]
    },
    {
     "name": "stdout",
     "output_type": "stream",
     "text": [
      "+--------------------+-----+--------------------+\n",
      "|          reviewText|label|               token|\n",
      "+--------------------+-----+--------------------+\n",
      "|I guess you can s...|    0|[guess, say, happ...|\n",
      "|This girl has bee...|    1|[girl, man, ,, th...|\n",
      "|Mario is a sorry ...|    1|[Mario, sorry, ad...|\n",
      "|This father had h...|    1|[father, daughter...|\n",
      "|This guy is and h...|    1|[guy, girlfriend,...|\n",
      "|Isn't it scary wh...|    1|[scary, extremism...|\n",
      "|After reading thi...|    1|[reading, want, g...|\n",
      "|The history of th...|    1|[history, Shoshon...|\n",
      "|A very good intro...|    0|[good, introducti...|\n",
      "|I love this roman...|    1|[love, romantic, ...|\n",
      "+--------------------+-----+--------------------+\n",
      "only showing top 10 rows\n",
      "\n"
     ]
    },
    {
     "name": "stderr",
     "output_type": "stream",
     "text": [
      "24/04/29 22:40:53 WARN DAGScheduler: Broadcasting large task binary with size 4.2 MiB\n",
      "[Stage 19552:====================================>                 (8 + 4) / 12]\r"
     ]
    },
    {
     "name": "stdout",
     "output_type": "stream",
     "text": [
      "AUC SCORE: 0.6858078647061024\n"
     ]
    },
    {
     "name": "stderr",
     "output_type": "stream",
     "text": [
      "                                                                                \r"
     ]
    }
   ],
   "source": [
    "from pyspark.ml import Pipeline\n",
    "from pyspark.ml.feature import Tokenizer\n",
    "from pyspark.ml.evaluation import BinaryClassificationEvaluator\n",
    "from sparknlp.annotator import Tokenizer, DocumentAssembler, StopWordsCleaner, Normalizer\n",
    "\n",
    "def get_nlp_pipeline():\n",
    "    documentAssembler = DocumentAssembler()\\\n",
    "        .setInputCol(\"reviewText\")\\\n",
    "        .setOutputCol(\"document\")\n",
    "\n",
    "    stopwords_cleaner = StopWordsCleaner()\\\n",
    "        .setInputCols(\"token\")\\\n",
    "        .setOutputCol(\"cleanTokens\")\\\n",
    "        .setCaseSensitive(False)\n",
    "\n",
    "    tokenizer = Tokenizer() \\\n",
    "        .setInputCols([\"document\"]) \\\n",
    "        .setOutputCol(\"token\")\n",
    "\n",
    "    normalizer = Normalizer() \\\n",
    "        .setInputCols([\"token\"]) \\\n",
    "        .setOutputCol(\"normalized\")\\\n",
    "        .setLowercase(True)\\\n",
    "        .setCleanupPatterns([\"[^\\w\\d\\s]\"]) # remove punctuations (keep alphanumeric chars)\n",
    "    # if we don't set CleanupPatterns, it will only keep alphabet letters ([^A-Za-z])\n",
    "\n",
    "\n",
    "    nlpPipeline = Pipeline(stages=[\n",
    "        documentAssembler,\n",
    "        tokenizer,\n",
    "        stopwords_cleaner\n",
    "    ])\n",
    "\n",
    "    return nlpPipeline\n",
    "\n",
    "evaluator = BinaryClassificationEvaluator(rawPredictionCol=\"rawPrediction\")\n",
    "loaded_model = PipelineModel.load('bigram_pipeline_model')\n",
    "\n",
    "# get the name of the metric used\n",
    "evaluator.getMetricName()\n",
    "print(\"Loading test data:\")\n",
    "df = spark.read.schema(schema).json(\"../combined_test_data_chunked_10mb_latest.json\")\n",
    "reduced_df = df.select(\"overall\", \"reviewerID\", \"asin\", \"reviewText\")\n",
    "unique_df = reduced_df.dropDuplicates([\"reviewerID\", \"asin\"])\n",
    "unique_df = unique_df.filter(unique_df.reviewText.isNotNull())\n",
    "df_sentiment = unique_df.withColumn(\"sentiment\", targetUDF(unique_df[\"overall\"]))\n",
    "print(\"Preprocessed test data:\")\n",
    "df_sentiment.show(10)\n",
    "nlpPipeline = get_nlp_pipeline()\n",
    "tokenized_df = nlpPipeline.fit(df_sentiment).transform(df_sentiment)\n",
    "df_test = tokenized_df.where(F.size(F.col(\"cleanTokens\")) > 0)\n",
    "transformed_test = df_test.select(\"reviewText\",\"sentiment\", \"cleanTokens.result\").withColumnRenamed(\"sentiment\", \"label\").withColumnRenamed(\"result\", \"token\")\n",
    "print(\"Transformed test data:\")\n",
    "transformed_test.show(10)\n",
    "stemmer = PorterStemming(inputCol=\"token\", outputCol=\"stemmed\")\n",
    "test_stem = stemmer.transform(transformed_test)\\\n",
    "                          .where(F.size(F.col(\"stemmed\")) >= 1)\n",
    "\n",
    "loaded_model = PipelineModel.load('bigram_pipeline_model')\n",
    "predictions = loaded_model.transform(test_stem)\n",
    "score = evaluator.evaluate(predictions)\n",
    "print(\"AUC SCORE: {}\".format(score))"
   ]
  },
  {
   "cell_type": "code",
   "execution_count": null,
   "metadata": {},
   "outputs": [
    {
     "name": "stderr",
     "output_type": "stream",
     "text": [
      "[Stage 20304:================================================>    (12 + 1) / 13]\r"
     ]
    }
   ],
   "source": [
    "predictedAndLabels = predictions.select([\"prediction\",\"label\"])\\\n",
    "                                .rdd.map(lambda r : (float(r[0]), float(r[1])))"
   ]
  },
  {
   "cell_type": "code",
   "execution_count": null,
   "metadata": {},
   "outputs": [
    {
     "name": "stderr",
     "output_type": "stream",
     "text": [
      "/Library/Frameworks/Python.framework/Versions/3.10/lib/python3.10/site-packages/pyspark/sql/context.py:158: FutureWarning: Deprecated in 3.0.0. Use SparkSession.builder.getOrCreate() instead.\n",
      "  warnings.warn(\n",
      "24/04/27 11:25:34 WARN DAGScheduler: Broadcasting large task binary with size 4.4 MiB\n"
     ]
    },
    {
     "name": "stderr",
     "output_type": "stream",
     "text": [
      "24/04/27 11:26:12 WARN DAGScheduler: Broadcasting large task binary with size 4.5 MiB\n",
      "[Stage 20308:================================================>    (11 + 1) / 12]\r"
     ]
    },
    {
     "name": "stdout",
     "output_type": "stream",
     "text": [
      "Test Set Accuracy: 0.7312626136566233\n"
     ]
    },
    {
     "name": "stderr",
     "output_type": "stream",
     "text": [
      "                                                                                \r"
     ]
    }
   ],
   "source": [
    "from pyspark.mllib.evaluation import MulticlassMetrics\n",
    "metrics = MulticlassMetrics(predictedAndLabels)\n",
    "\n",
    "print(\"Test Set Accuracy: {}\".format(metrics.accuracy))"
   ]
  },
  {
   "cell_type": "code",
   "execution_count": null,
   "metadata": {},
   "outputs": [
    {
     "name": "stdout",
     "output_type": "stream",
     "text": [
      "[[ 266136.  169701.]\n",
      " [ 583973. 1784690.]]\n"
     ]
    },
    {
     "data": {
      "image/png": "[encoded data removed]",
      "text/plain": [
       "<Figure size 1000x700 with 2 Axes>"
      ]
     },
     "metadata": {},
     "output_type": "display_data"
    }
   ],
   "source": [
    "confusion_matrix = metrics.confusionMatrix().toArray()\n",
    "\n",
    "print(confusion_matrix)\n",
    "import matplotlib.pyplot as plt\n",
    "import seaborn as sns\n",
    "\n",
    "# Plotting confusion matrix\n",
    "plt.figure(figsize=(10, 7))\n",
    "sns.heatmap(confusion_matrix, annot=True, fmt='g', cmap='Blues')  # 'g' formats numbers as integers\n",
    "plt.xlabel('Predicted Labels')\n",
    "plt.ylabel('True Labels')\n",
    "plt.title('Confusion Matrix')\n",
    "plt.show()"
   ]
  }
 ],
 "metadata": {
  "kernelspec": {
   "display_name": "Python 3",
   "language": "python",
   "name": "python3"
  },
  "language_info": {
   "codemirror_mode": {
    "name": "ipython",
    "version": 3
   },
   "file_extension": ".py",
   "mimetype": "text/x-python",
   "name": "python",
   "nbconvert_exporter": "python",
   "pygments_lexer": "ipython3",
   "version": "3.10.6"
  }
 },
 "nbformat": 4,
 "nbformat_minor": 2
}
