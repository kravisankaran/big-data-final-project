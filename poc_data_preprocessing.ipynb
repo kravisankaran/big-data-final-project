{
 "cells": [
  {
   "cell_type": "code",
   "execution_count": 2,
   "metadata": {},
   "outputs": [
    {
     "name": "stderr",
     "output_type": "stream",
     "text": [
      "Setting default log level to \"WARN\".\n",
      "To adjust logging level use sc.setLogLevel(newLevel). For SparkR, use setLogLevel(newLevel).\n",
      "24/04/06 16:43:02 WARN NativeCodeLoader: Unable to load native-hadoop library for your platform... using builtin-java classes where applicable\n"
     ]
    }
   ],
   "source": [
    "from pyspark.sql import SparkSession\n",
    "from pyspark.sql.functions import udf\n",
    "from pyspark.sql.types import StringType\n",
    "\n",
    "spark = SparkSession.builder.master(\"local\").appName(\"AmazonReviews\").getOrCreate()"
   ]
  },
  {
   "cell_type": "code",
   "execution_count": 3,
   "metadata": {},
   "outputs": [],
   "source": [
    "from pyspark.sql.types import StructType, StructField, StringType, FloatType, BooleanType, IntegerType\n",
    "#\"reviewerID\": \"A8WEXFRWX1ZHH\",\n",
    "# \"asin\": \"0209688726\",\n",
    "# \"style\": {\"Color:\": \" AC\"},\n",
    "# \"reviewerName\": \"Goldengate\",\n",
    "# Define the schema\n",
    "schema = StructType([\n",
    "    StructField(\"overall\", FloatType(), True),\n",
    "    StructField(\"verified\", BooleanType(), True),\n",
    "    StructField(\"reviewTime\", StringType(), True),\n",
    "    StructField(\"reviewerID\", StringType(), True),\n",
    "    StructField(\"asin\", StringType(), True),\n",
    "    StructField(\"style\", StructType([StructField(\"Color:\", StringType(), True)]), True),\n",
    "    StructField(\"reviewerName\", StringType(), True),\n",
    "    StructField(\"reviewText\", StringType(), True),\n",
    "    StructField(\"unixReviewTime\", IntegerType(), True)\n",
    "\n",
    "])"
   ]
  },
  {
   "cell_type": "code",
   "execution_count": 4,
   "metadata": {},
   "outputs": [
    {
     "name": "stderr",
     "output_type": "stream",
     "text": [
      "                                                                                \r"
     ]
    },
    {
     "name": "stdout",
     "output_type": "stream",
     "text": [
      "electronics row count 20994353\n"
     ]
    },
    {
     "name": "stderr",
     "output_type": "stream",
     "text": [
      "                                                                                \r"
     ]
    },
    {
     "name": "stdout",
     "output_type": "stream",
     "text": [
      "electronics row count 20984669\n"
     ]
    },
    {
     "name": "stderr",
     "output_type": "stream",
     "text": [
      "                                                                                \r"
     ]
    },
    {
     "name": "stdout",
     "output_type": "stream",
     "text": [
      "pet supplies row count 6542483\n"
     ]
    },
    {
     "name": "stderr",
     "output_type": "stream",
     "text": [
      "[Stage 9:======================================================>  (24 + 1) / 25]\r"
     ]
    },
    {
     "name": "stdout",
     "output_type": "stream",
     "text": [
      "pet supplies row count 6538687\n"
     ]
    },
    {
     "name": "stderr",
     "output_type": "stream",
     "text": [
      "                                                                                \r"
     ]
    }
   ],
   "source": [
    "electronics_dataset_path = '../Electronics.json'\n",
    "pet_supplies_dataset_path = '../Pet_Supplies.json'\n",
    "\n",
    "df_electronics = spark.read.schema(schema).json(electronics_dataset_path)\n",
    "df_pet_supplies = spark.read.schema(schema).json(pet_supplies_dataset_path)\n",
    "\n",
    "# drop unnecessary columns\n",
    "columns_to_drop = ['verified', 'reviewTime', 'unixReviewTime', 'style', 'reviewerName']\n",
    "df_electronics = df_electronics.drop(*columns_to_drop)\n",
    "df_pet_supplies = df_pet_supplies.drop(*columns_to_drop)\n",
    "\n",
    "# process null values\n",
    "print('electronics row count', df_electronics.count())\n",
    "df_electronics = df_electronics.na.drop(subset=['reviewText'])\n",
    "print('electronics row count', df_electronics.count())\n",
    "print('pet supplies row count', df_pet_supplies.count())\n",
    "df_pet_supplies = df_pet_supplies.na.drop(subset=['reviewText'])\n",
    "print('pet supplies row count', df_pet_supplies.count())"
   ]
  },
  {
   "cell_type": "code",
   "execution_count": 5,
   "metadata": {},
   "outputs": [],
   "source": [
    "# Split data into training and testing sets\n",
    "training_df_electronics, testing_df_electronics = df_electronics.randomSplit([0.8, 0.2], seed=42)\n",
    "training_df_pet_supplies, testing_df_pet_supplies = df_pet_supplies.randomSplit([0.8, 0.2], seed=42)"
   ]
  },
  {
   "cell_type": "code",
   "execution_count": 6,
   "metadata": {},
   "outputs": [
    {
     "name": "stderr",
     "output_type": "stream",
     "text": [
      "                                                                                \r"
     ]
    },
    {
     "name": "stdout",
     "output_type": "stream",
     "text": [
      "electronics training row count 16785007\n"
     ]
    },
    {
     "name": "stderr",
     "output_type": "stream",
     "text": [
      "                                                                                \r"
     ]
    },
    {
     "name": "stdout",
     "output_type": "stream",
     "text": [
      "electronic testing row count 4199662\n"
     ]
    },
    {
     "name": "stderr",
     "output_type": "stream",
     "text": [
      "                                                                                \r"
     ]
    },
    {
     "name": "stdout",
     "output_type": "stream",
     "text": [
      "pet supplies training row count 5230764\n"
     ]
    },
    {
     "name": "stderr",
     "output_type": "stream",
     "text": [
      "[Stage 21:=====================================================>  (24 + 1) / 25]\r"
     ]
    },
    {
     "name": "stdout",
     "output_type": "stream",
     "text": [
      "pet supplies testing row count 1307923\n"
     ]
    },
    {
     "name": "stderr",
     "output_type": "stream",
     "text": [
      "                                                                                \r"
     ]
    }
   ],
   "source": [
    "print('electronics training row count', training_df_electronics.count())\n",
    "print('electronic testing row count', testing_df_electronics.count())\n",
    "print('pet supplies training row count', training_df_pet_supplies.count())\n",
    "print('pet supplies testing row count', testing_df_pet_supplies.count())"
   ]
  },
  {
   "cell_type": "code",
   "execution_count": 7,
   "metadata": {},
   "outputs": [],
   "source": [
    "from pyspark.sql.functions import rand\n",
    "# combining training data, testing data\n",
    "combined_training_data = training_df_electronics.union(training_df_pet_supplies)\n",
    "combined_testing_data = testing_df_electronics.union(testing_df_pet_supplies)\n",
    "\n",
    "# shuffling both sets of data\n",
    "combined_training_data = combined_training_data.orderBy(rand())\n",
    "combined_testing_data = combined_testing_data.orderBy(rand())"
   ]
  },
  {
   "cell_type": "code",
   "execution_count": 8,
   "metadata": {},
   "outputs": [
    {
     "name": "stderr",
     "output_type": "stream",
     "text": [
      "                                                                                \r"
     ]
    }
   ],
   "source": [
    "# Write combined DataFrames to JSON files\n",
    "combined_training_data.write.mode(\"overwrite\").json(\"combined_training_data.json\")\n",
    "combined_testing_data.write.mode(\"overwrite\").json(\"combined_testing_data.json\")"
   ]
  }
 ],
 "metadata": {
  "kernelspec": {
   "display_name": "Python 3",
   "language": "python",
   "name": "python3"
  },
  "language_info": {
   "codemirror_mode": {
    "name": "ipython",
    "version": 3
   },
   "file_extension": ".py",
   "mimetype": "text/x-python",
   "name": "python",
   "nbconvert_exporter": "python",
   "pygments_lexer": "ipython3",
   "version": "3.10.6"
  }
 },
 "nbformat": 4,
 "nbformat_minor": 2
}
