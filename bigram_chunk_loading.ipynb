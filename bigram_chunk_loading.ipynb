{
 "cells": [
  {
   "cell_type": "code",
   "execution_count": 12,
   "metadata": {},
   "outputs": [
    {
     "name": "stdout",
     "output_type": "stream",
     "text": [
      "Default Parallelism : 8\n",
      "Partition Size: 134217728 in bytes and 128.0 in MB\n"
     ]
    }
   ],
   "source": [
    "from pyspark.sql import SparkSession\n",
    "allocated_memory = 18 * 0.75\n",
    "\n",
    "# create a SparkSession\n",
    "spark = SparkSession.builder.appName(\"ReadJSON\")\\\n",
    ".config(\"spark.executor.memory\", \"6g\") \\\n",
    ".master(\"local[*]\")  \\\n",
    ".config(\"spark.driver.memory\", \"4g\") \\\n",
    ".config(\"spark.network.timeout\", \"800s\")\\\n",
    ".config(\"spark.executor.heartbeatInterval\", \"120s\")\\\n",
    ".config(\"spark.executor.extraJavaOptions\", \"-XX:+UseG1GC\")\\\n",
    ".config(\"spark.driver.extraJavaOptions\", \"-XX:+UseG1GC\")\\\n",
    ".config(\"spark.memory.fraction\", \"0.8\") \\\n",
    ".getOrCreate()\n",
    "\n",
    "print('Default Parallelism :', spark.sparkContext.defaultParallelism)\n",
    "\n",
    "# Check the default partition size\n",
    "partition_size = spark.conf.get(\"spark.sql.files.maxPartitionBytes\").replace(\"b\",\"\")\n",
    "print(f\"Partition Size: {partition_size} in bytes and {int(partition_size) / 1024 / 1024} in MB\")\n",
    "\n",
    "from pyspark.sql.types import StructType, StructField, StringType, FloatType, BooleanType, IntegerType\n",
    "\n",
    "# Define the schema\n",
    "schema = StructType([\n",
    "    StructField(\"overall\", FloatType(), True),\n",
    "    StructField(\"verified\", BooleanType(), True),\n",
    "    StructField(\"reviewTime\", StringType(), True),\n",
    "    StructField(\"reviewerID\", StringType(), True),\n",
    "    StructField(\"asin\", StringType(), True),\n",
    "    StructField(\"style\", StructType([StructField(\"Color:\", StringType(), True)]), True),\n",
    "    StructField(\"reviewerName\", StringType(), True),\n",
    "    StructField(\"reviewText\", StringType(), True),\n",
    "    StructField(\"unixReviewTime\", IntegerType(), True)\n",
    "\n",
    "])\n",
    "json_training_file_path =\"../combined_train_data_chunked_10mb_latest.json\""
   ]
  },
  {
   "cell_type": "code",
   "execution_count": 13,
   "metadata": {},
   "outputs": [],
   "source": [
    "import pyspark.sql.functions as F\n",
    "from pyspark.sql.types import StructType, StructField, StringType, FloatType, BooleanType, IntegerType, ArrayType\n",
    "# targetUDF = F.udf(lambda x: 1 if x >= 4.0 else (0 if x == 3.0 else -1), IntegerType())\n",
    "targetUDF = F.udf(lambda x: 1 if x >= 4.0 else 0, IntegerType())\n",
    "import re\n",
    "import nltk\n",
    "from nltk.corpus import stopwords\n",
    "\n",
    "def preProcess(text):\n",
    "    # Should return a list of tokens\n",
    "    text = re.sub(r\"(\\w)([.,;:!?'\\\"”\\)])\", r\"\\1 \\2\", text)\n",
    "    text = re.sub(r\"([.,;:!?'\\\"“\\(])(\\w)\", r\"\\1 \\2\", text)\n",
    "    text = text.lower()\n",
    "    tokens = word_tokenize(text)\n",
    "    return tokens"
   ]
  },
  {
   "cell_type": "code",
   "execution_count": 14,
   "metadata": {},
   "outputs": [],
   "source": [
    "import re\n",
    "\n",
    "def removeRegex(tokens: list) -> list:\n",
    "    \"\"\"\n",
    "    Removes hashtags, call outs and web addresses from tokens.\n",
    "    \"\"\"\n",
    "    # Use a raw string for regular expressions to avoid escape sequence warnings\n",
    "    expr = r'(@[A-Za-z0-9_]+)|(#[A-Za-z0-9_]+)|'+\\\n",
    "           r'(https?://[^\\s<>\"]+|www\\.[^\\s<>\"]+)'\n",
    "    regex = re.compile(expr)\n",
    "    cleaned = [t for t in tokens if not regex.search(t) and len(t) > 0]\n",
    "\n",
    "    return cleaned\n",
    "\n",
    "removeWEBUDF = F.udf(removeRegex, ArrayType(StringType()))\n",
    "\n",
    "def normalize(tokens : list) -> list:\n",
    "    \"\"\"\n",
    "    Removes non-english characters and returns lower case versions of words.\n",
    "    \"\"\"\n",
    "    subbed   = [re.sub(\"[^a-zA-Z]+\", \"\", s).lower() for s in tokens]\n",
    "\n",
    "    filtered = filter(None, subbed)\n",
    "\n",
    "    return list(filtered)\n",
    "\n",
    "\n",
    "normalizeUDF = F.udf(normalize, ArrayType(StringType()))"
   ]
  },
  {
   "cell_type": "code",
   "execution_count": 15,
   "metadata": {},
   "outputs": [],
   "source": [
    "from pyspark.ml.feature import Tokenizer\n",
    "from pyspark.sql.functions import rand\n",
    "\n",
    "json_test_df = spark.read.schema(schema).json(\"../combined_test_data_chunked_10mb_latest.json\")\n",
    "\n",
    "\n",
    "tokenizer = Tokenizer(inputCol  = \"reviewText\",\n",
    "                      outputCol = \"token\")\n",
    "reduced_test_df = json_test_df.select(\"overall\", \"reviewerID\", \"asin\", \"reviewText\")\n",
    "unique_test_df = reduced_test_df.dropDuplicates([\"reviewerID\", \"asin\"])\n",
    "df_test_sentiment = unique_test_df.withColumn(\"sentiment\", targetUDF(unique_test_df[\"overall\"]))\n",
    "df_test_tokenized = tokenizer.transform(df_test_sentiment.filter(unique_test_df.reviewText.isNotNull()))\n",
    "df4_test = df_test_tokenized.withColumn(\"tokens_re\", removeWEBUDF(df_test_tokenized[\"token\"]))\n",
    "df4_test = df4_test.withColumn(\"tokens_clean\", normalizeUDF(df4_test[\"tokens_re\"]))\n",
    "df5_test = df4_test.drop(\"token\",\"tokens_re\")\n",
    "df5_test = df5_test.withColumnRenamed(\"tokens_clean\", \"tokens\")\n",
    "df6_test = df5_test.where(F.size(F.col(\"tokens\")) > 0)\n",
    "df_test_for_model = df6_test.select(\"reviewText\",\"sentiment\").withColumnRenamed(\"sentiment\", \"label\")\n",
    "shuffled_test_df = df_test_for_model.orderBy(rand())\n"
   ]
  },
  {
   "cell_type": "code",
   "execution_count": 16,
   "metadata": {},
   "outputs": [],
   "source": [
    "from pyspark.ml import Pipeline\n",
    "from pyspark.ml.feature import NGram, HashingTF, IDF, StopWordsRemover, Tokenizer\n",
    "from pyspark.ml.classification import LogisticRegression\n",
    "from pyspark.ml.evaluation import BinaryClassificationEvaluator\n",
    "\n",
    "\n",
    "sw  = StopWordsRemover(inputCol=\"tokens\", outputCol=\"filtered\")\n",
    "tf2 = HashingTF(inputCol=\"filtered\", outputCol=\"rawFeatures\", numFeatures=1e5)\n",
    "\n",
    "evaluator = BinaryClassificationEvaluator(rawPredictionCol=\"rawPrediction\")\n",
    "bigram = NGram(inputCol=\"tokens\", outputCol=\"bigrams\", n=2)\n",
    "tf5   = HashingTF(inputCol=\"bigrams\", outputCol=\"rawFeatures\", numFeatures=2e5)\n",
    "# create tokens from reviews\n",
    "tk = Tokenizer(inputCol= \"reviewText\", outputCol = \"tokens\")\n",
    "# create tf-idf for each of the tokens\n",
    "idf = IDF(inputCol=\"rawFeatures\", outputCol=\"features\", minDocFreq=2.0)\n",
    "# create basic logistic regression model\n",
    "lr = LogisticRegression(maxIter=20)\n",
    "\n",
    "bigram_pipeline  = Pipeline(stages= [tk, bigram, tf5, idf, lr])"
   ]
  },
  {
   "cell_type": "code",
   "execution_count": 19,
   "metadata": {},
   "outputs": [
    {
     "name": "stdout",
     "output_type": "stream",
     "text": [
      "277 10485535\n"
     ]
    },
    {
     "name": "stderr",
     "output_type": "stream",
     "text": [
      "24/04/23 22:17:06 WARN TaskSetManager: Stage 985 contains a task of very large size (1091 KiB). The maximum recommended task size is 1000 KiB.\n",
      "24/04/23 22:17:15 WARN TaskSetManager: Stage 993 contains a task of very large size (1091 KiB). The maximum recommended task size is 1000 KiB.\n",
      "24/04/23 22:17:22 WARN TaskSetManager: Stage 998 contains a task of very large size (1091 KiB). The maximum recommended task size is 1000 KiB.\n",
      "24/04/23 22:17:29 WARN DAGScheduler: Broadcasting large task binary with size 3.2 MiB\n",
      "24/04/23 22:17:31 WARN DAGScheduler: Broadcasting large task binary with size 3.2 MiB\n",
      "24/04/23 22:17:33 WARN DAGScheduler: Broadcasting large task binary with size 3.2 MiB\n",
      "24/04/23 22:17:33 WARN DAGScheduler: Broadcasting large task binary with size 3.2 MiB\n",
      "24/04/23 22:17:33 WARN DAGScheduler: Broadcasting large task binary with size 3.2 MiB\n",
      "24/04/23 22:17:33 WARN DAGScheduler: Broadcasting large task binary with size 3.2 MiB\n",
      "24/04/23 22:17:33 WARN DAGScheduler: Broadcasting large task binary with size 3.2 MiB\n",
      "24/04/23 22:17:33 WARN DAGScheduler: Broadcasting large task binary with size 3.2 MiB\n",
      "24/04/23 22:17:34 WARN DAGScheduler: Broadcasting large task binary with size 3.2 MiB\n",
      "24/04/23 22:17:34 WARN DAGScheduler: Broadcasting large task binary with size 3.2 MiB\n",
      "24/04/23 22:17:34 WARN DAGScheduler: Broadcasting large task binary with size 3.2 MiB\n",
      "24/04/23 22:17:34 WARN DAGScheduler: Broadcasting large task binary with size 3.2 MiB\n",
      "24/04/23 22:17:34 WARN DAGScheduler: Broadcasting large task binary with size 3.2 MiB\n",
      "24/04/23 22:17:34 WARN DAGScheduler: Broadcasting large task binary with size 3.2 MiB\n",
      "24/04/23 22:17:34 WARN DAGScheduler: Broadcasting large task binary with size 3.2 MiB\n",
      "24/04/23 22:17:35 WARN DAGScheduler: Broadcasting large task binary with size 3.2 MiB\n",
      "24/04/23 22:17:35 WARN DAGScheduler: Broadcasting large task binary with size 3.2 MiB\n",
      "24/04/23 22:17:35 WARN DAGScheduler: Broadcasting large task binary with size 3.2 MiB\n",
      "24/04/23 22:17:35 WARN DAGScheduler: Broadcasting large task binary with size 3.2 MiB\n",
      "24/04/23 22:17:35 WARN DAGScheduler: Broadcasting large task binary with size 3.2 MiB\n",
      "24/04/23 22:17:35 WARN DAGScheduler: Broadcasting large task binary with size 3.2 MiB\n",
      "24/04/23 22:17:35 WARN DAGScheduler: Broadcasting large task binary with size 3.2 MiB\n",
      "24/04/23 22:17:35 WARN DAGScheduler: Broadcasting large task binary with size 3.2 MiB\n",
      "24/04/23 22:17:36 WARN DAGScheduler: Broadcasting large task binary with size 3.2 MiB\n",
      "24/04/23 22:17:36 WARN DAGScheduler: Broadcasting large task binary with size 3.2 MiB\n",
      "24/04/23 22:17:36 WARN DAGScheduler: Broadcasting large task binary with size 3.2 MiB\n",
      "24/04/23 22:17:36 WARN TaskSetManager: Stage 1081 contains a task of very large size (1091 KiB). The maximum recommended task size is 1000 KiB.\n",
      "24/04/23 22:17:43 WARN TaskSetManager: Stage 1086 contains a task of very large size (1091 KiB). The maximum recommended task size is 1000 KiB.\n",
      "24/04/23 22:17:51 WARN TaskSetManager: Stage 1096 contains a task of very large size (3196 KiB). The maximum recommended task size is 1000 KiB.\n",
      "24/04/23 22:17:51 WARN TaskSetManager: Stage 1100 contains a task of very large size (1281 KiB). The maximum recommended task size is 1000 KiB.\n"
     ]
    },
    {
     "name": "stdout",
     "output_type": "stream",
     "text": [
      "Model saved\n",
      "1185 10484917\n"
     ]
    },
    {
     "name": "stderr",
     "output_type": "stream",
     "text": [
      "24/04/23 22:17:59 WARN TaskSetManager: Stage 1124 contains a task of very large size (3196 KiB). The maximum recommended task size is 1000 KiB.\n",
      "24/04/23 22:18:00 WARN TaskSetManager: Stage 1128 contains a task of very large size (1281 KiB). The maximum recommended task size is 1000 KiB.\n"
     ]
    },
    {
     "name": "stdout",
     "output_type": "stream",
     "text": [
      "Model saved\n",
      "469 10485345\n"
     ]
    },
    {
     "name": "stderr",
     "output_type": "stream",
     "text": [
      "24/04/23 22:18:08 WARN TaskSetManager: Stage 1152 contains a task of very large size (3196 KiB). The maximum recommended task size is 1000 KiB.\n",
      "24/04/23 22:18:08 WARN TaskSetManager: Stage 1156 contains a task of very large size (1281 KiB). The maximum recommended task size is 1000 KiB.\n"
     ]
    },
    {
     "name": "stdout",
     "output_type": "stream",
     "text": [
      "Model saved\n",
      "1393 10485117\n"
     ]
    },
    {
     "name": "stderr",
     "output_type": "stream",
     "text": [
      "24/04/23 22:18:16 WARN TaskSetManager: Stage 1180 contains a task of very large size (3196 KiB). The maximum recommended task size is 1000 KiB.\n",
      "24/04/23 22:18:17 WARN TaskSetManager: Stage 1184 contains a task of very large size (1281 KiB). The maximum recommended task size is 1000 KiB.\n"
     ]
    },
    {
     "name": "stdout",
     "output_type": "stream",
     "text": [
      "Model saved\n",
      "1257 10485050\n"
     ]
    },
    {
     "name": "stderr",
     "output_type": "stream",
     "text": [
      "24/04/23 22:18:25 WARN TaskSetManager: Stage 1208 contains a task of very large size (3196 KiB). The maximum recommended task size is 1000 KiB.\n",
      "24/04/23 22:18:26 WARN TaskSetManager: Stage 1212 contains a task of very large size (1281 KiB). The maximum recommended task size is 1000 KiB.\n"
     ]
    },
    {
     "name": "stdout",
     "output_type": "stream",
     "text": [
      "Model saved\n",
      "308 10485740\n"
     ]
    },
    {
     "name": "stderr",
     "output_type": "stream",
     "text": [
      "24/04/23 22:18:33 WARN TaskSetManager: Stage 1236 contains a task of very large size (3196 KiB). The maximum recommended task size is 1000 KiB.\n",
      "24/04/23 22:18:34 WARN TaskSetManager: Stage 1240 contains a task of very large size (1281 KiB). The maximum recommended task size is 1000 KiB.\n"
     ]
    },
    {
     "name": "stdout",
     "output_type": "stream",
     "text": [
      "Model saved\n",
      "481 10485439\n"
     ]
    },
    {
     "name": "stderr",
     "output_type": "stream",
     "text": [
      "24/04/23 22:18:41 WARN TaskSetManager: Stage 1264 contains a task of very large size (3196 KiB). The maximum recommended task size is 1000 KiB.\n",
      "24/04/23 22:18:42 WARN TaskSetManager: Stage 1268 contains a task of very large size (1281 KiB). The maximum recommended task size is 1000 KiB.\n"
     ]
    },
    {
     "name": "stdout",
     "output_type": "stream",
     "text": [
      "Model saved\n",
      "492 10485522\n"
     ]
    },
    {
     "name": "stderr",
     "output_type": "stream",
     "text": [
      "24/04/23 22:18:50 WARN TaskSetManager: Stage 1292 contains a task of very large size (3196 KiB). The maximum recommended task size is 1000 KiB.\n",
      "24/04/23 22:18:50 WARN TaskSetManager: Stage 1296 contains a task of very large size (1281 KiB). The maximum recommended task size is 1000 KiB.\n"
     ]
    },
    {
     "name": "stdout",
     "output_type": "stream",
     "text": [
      "Model saved\n",
      "607 10485631\n"
     ]
    },
    {
     "name": "stderr",
     "output_type": "stream",
     "text": [
      "24/04/23 22:18:59 WARN TaskSetManager: Stage 1320 contains a task of very large size (3196 KiB). The maximum recommended task size is 1000 KiB.\n",
      "24/04/23 22:19:00 WARN TaskSetManager: Stage 1324 contains a task of very large size (1281 KiB). The maximum recommended task size is 1000 KiB.\n"
     ]
    },
    {
     "name": "stdout",
     "output_type": "stream",
     "text": [
      "Model saved\n",
      "266 10485535\n"
     ]
    },
    {
     "name": "stderr",
     "output_type": "stream",
     "text": [
      "24/04/23 22:19:08 WARN TaskSetManager: Stage 1348 contains a task of very large size (3196 KiB). The maximum recommended task size is 1000 KiB.\n",
      "24/04/23 22:19:09 WARN TaskSetManager: Stage 1352 contains a task of very large size (1281 KiB). The maximum recommended task size is 1000 KiB.\n"
     ]
    },
    {
     "name": "stdout",
     "output_type": "stream",
     "text": [
      "Model saved\n",
      "515 10485343\n"
     ]
    },
    {
     "name": "stderr",
     "output_type": "stream",
     "text": [
      "24/04/23 22:19:17 WARN TaskSetManager: Stage 1376 contains a task of very large size (3196 KiB). The maximum recommended task size is 1000 KiB.\n",
      "24/04/23 22:19:17 WARN TaskSetManager: Stage 1380 contains a task of very large size (1281 KiB). The maximum recommended task size is 1000 KiB.\n"
     ]
    },
    {
     "name": "stdout",
     "output_type": "stream",
     "text": [
      "Model saved\n",
      "288 10485593\n"
     ]
    },
    {
     "name": "stderr",
     "output_type": "stream",
     "text": [
      "24/04/23 22:19:25 WARN TaskSetManager: Stage 1404 contains a task of very large size (3196 KiB). The maximum recommended task size is 1000 KiB.\n",
      "24/04/23 22:19:26 WARN TaskSetManager: Stage 1408 contains a task of very large size (1281 KiB). The maximum recommended task size is 1000 KiB.\n"
     ]
    },
    {
     "name": "stdout",
     "output_type": "stream",
     "text": [
      "Model saved\n",
      "2691 10483864\n"
     ]
    },
    {
     "name": "stderr",
     "output_type": "stream",
     "text": [
      "24/04/23 22:19:33 WARN TaskSetManager: Stage 1432 contains a task of very large size (3196 KiB). The maximum recommended task size is 1000 KiB.\n",
      "24/04/23 22:19:34 WARN TaskSetManager: Stage 1436 contains a task of very large size (1281 KiB). The maximum recommended task size is 1000 KiB.\n"
     ]
    },
    {
     "name": "stdout",
     "output_type": "stream",
     "text": [
      "Model saved\n",
      "667 10485403\n"
     ]
    },
    {
     "name": "stderr",
     "output_type": "stream",
     "text": [
      "24/04/23 22:19:42 WARN TaskSetManager: Stage 1460 contains a task of very large size (3196 KiB). The maximum recommended task size is 1000 KiB.\n",
      "24/04/23 22:19:43 WARN TaskSetManager: Stage 1464 contains a task of very large size (1281 KiB). The maximum recommended task size is 1000 KiB.\n"
     ]
    },
    {
     "name": "stdout",
     "output_type": "stream",
     "text": [
      "Model saved\n",
      "400 10485648\n"
     ]
    },
    {
     "name": "stderr",
     "output_type": "stream",
     "text": [
      "24/04/23 22:19:51 WARN TaskSetManager: Stage 1488 contains a task of very large size (3196 KiB). The maximum recommended task size is 1000 KiB.\n",
      "24/04/23 22:19:51 WARN TaskSetManager: Stage 1492 contains a task of very large size (1281 KiB). The maximum recommended task size is 1000 KiB.\n"
     ]
    },
    {
     "name": "stdout",
     "output_type": "stream",
     "text": [
      "Model saved\n",
      "449 10485685\n"
     ]
    },
    {
     "name": "stderr",
     "output_type": "stream",
     "text": [
      "24/04/23 22:20:00 WARN TaskSetManager: Stage 1516 contains a task of very large size (3196 KiB). The maximum recommended task size is 1000 KiB.\n",
      "24/04/23 22:20:00 WARN TaskSetManager: Stage 1520 contains a task of very large size (1281 KiB). The maximum recommended task size is 1000 KiB.\n"
     ]
    },
    {
     "name": "stdout",
     "output_type": "stream",
     "text": [
      "Model saved\n",
      "429 10485337\n"
     ]
    },
    {
     "name": "stderr",
     "output_type": "stream",
     "text": [
      "24/04/23 22:20:08 WARN TaskSetManager: Stage 1544 contains a task of very large size (3196 KiB). The maximum recommended task size is 1000 KiB.\n",
      "24/04/23 22:20:09 WARN TaskSetManager: Stage 1548 contains a task of very large size (1281 KiB). The maximum recommended task size is 1000 KiB.\n"
     ]
    },
    {
     "name": "stdout",
     "output_type": "stream",
     "text": [
      "Model saved\n",
      "531 10485248\n"
     ]
    },
    {
     "name": "stderr",
     "output_type": "stream",
     "text": [
      "24/04/23 22:20:16 WARN TaskSetManager: Stage 1572 contains a task of very large size (3196 KiB). The maximum recommended task size is 1000 KiB.\n",
      "24/04/23 22:20:17 WARN TaskSetManager: Stage 1576 contains a task of very large size (1281 KiB). The maximum recommended task size is 1000 KiB.\n"
     ]
    },
    {
     "name": "stdout",
     "output_type": "stream",
     "text": [
      "Model saved\n",
      "478 10485580\n"
     ]
    },
    {
     "name": "stderr",
     "output_type": "stream",
     "text": [
      "24/04/23 22:20:26 WARN TaskSetManager: Stage 1600 contains a task of very large size (3196 KiB). The maximum recommended task size is 1000 KiB.\n",
      "24/04/23 22:20:26 WARN TaskSetManager: Stage 1604 contains a task of very large size (1281 KiB). The maximum recommended task size is 1000 KiB.\n"
     ]
    },
    {
     "name": "stdout",
     "output_type": "stream",
     "text": [
      "Model saved\n",
      "599 10485431\n"
     ]
    },
    {
     "name": "stderr",
     "output_type": "stream",
     "text": [
      "24/04/23 22:20:34 WARN TaskSetManager: Stage 1628 contains a task of very large size (3196 KiB). The maximum recommended task size is 1000 KiB.\n",
      "24/04/23 22:20:35 WARN TaskSetManager: Stage 1632 contains a task of very large size (1281 KiB). The maximum recommended task size is 1000 KiB.\n"
     ]
    },
    {
     "name": "stdout",
     "output_type": "stream",
     "text": [
      "Model saved\n",
      "583 10485535\n"
     ]
    },
    {
     "name": "stderr",
     "output_type": "stream",
     "text": [
      "24/04/23 22:20:42 WARN TaskSetManager: Stage 1656 contains a task of very large size (3196 KiB). The maximum recommended task size is 1000 KiB.\n",
      "24/04/23 22:20:43 WARN TaskSetManager: Stage 1660 contains a task of very large size (1281 KiB). The maximum recommended task size is 1000 KiB.\n"
     ]
    },
    {
     "name": "stdout",
     "output_type": "stream",
     "text": [
      "Model saved\n",
      "978 10484926\n"
     ]
    },
    {
     "name": "stderr",
     "output_type": "stream",
     "text": [
      "24/04/23 22:20:51 WARN TaskSetManager: Stage 1684 contains a task of very large size (3196 KiB). The maximum recommended task size is 1000 KiB.\n",
      "24/04/23 22:20:51 WARN TaskSetManager: Stage 1688 contains a task of very large size (1281 KiB). The maximum recommended task size is 1000 KiB.\n"
     ]
    },
    {
     "name": "stdout",
     "output_type": "stream",
     "text": [
      "Model saved\n",
      "408 10485715\n"
     ]
    },
    {
     "name": "stderr",
     "output_type": "stream",
     "text": [
      "24/04/23 22:20:59 WARN TaskSetManager: Stage 1712 contains a task of very large size (3196 KiB). The maximum recommended task size is 1000 KiB.\n",
      "24/04/23 22:21:00 WARN TaskSetManager: Stage 1716 contains a task of very large size (1281 KiB). The maximum recommended task size is 1000 KiB.\n"
     ]
    },
    {
     "name": "stdout",
     "output_type": "stream",
     "text": [
      "Model saved\n",
      "468 10485546\n"
     ]
    },
    {
     "name": "stderr",
     "output_type": "stream",
     "text": [
      "24/04/23 22:21:08 WARN TaskSetManager: Stage 1740 contains a task of very large size (3196 KiB). The maximum recommended task size is 1000 KiB.\n",
      "24/04/23 22:21:09 WARN TaskSetManager: Stage 1744 contains a task of very large size (1281 KiB). The maximum recommended task size is 1000 KiB.\n"
     ]
    },
    {
     "name": "stdout",
     "output_type": "stream",
     "text": [
      "Model saved\n",
      "504 10485638\n"
     ]
    },
    {
     "name": "stderr",
     "output_type": "stream",
     "text": [
      "24/04/23 22:21:16 WARN TaskSetManager: Stage 1768 contains a task of very large size (3196 KiB). The maximum recommended task size is 1000 KiB.\n",
      "24/04/23 22:21:17 WARN TaskSetManager: Stage 1772 contains a task of very large size (1281 KiB). The maximum recommended task size is 1000 KiB.\n"
     ]
    },
    {
     "name": "stdout",
     "output_type": "stream",
     "text": [
      "Model saved\n",
      "1035 10484834\n"
     ]
    },
    {
     "name": "stderr",
     "output_type": "stream",
     "text": [
      "24/04/23 22:21:25 WARN TaskSetManager: Stage 1796 contains a task of very large size (3196 KiB). The maximum recommended task size is 1000 KiB.\n",
      "24/04/23 22:21:25 WARN TaskSetManager: Stage 1800 contains a task of very large size (1281 KiB). The maximum recommended task size is 1000 KiB.\n"
     ]
    },
    {
     "name": "stdout",
     "output_type": "stream",
     "text": [
      "Model saved\n",
      "549 10485602\n"
     ]
    },
    {
     "name": "stderr",
     "output_type": "stream",
     "text": [
      "24/04/23 22:21:33 WARN TaskSetManager: Stage 1824 contains a task of very large size (3196 KiB). The maximum recommended task size is 1000 KiB.\n",
      "24/04/23 22:21:34 WARN TaskSetManager: Stage 1828 contains a task of very large size (1281 KiB). The maximum recommended task size is 1000 KiB.\n"
     ]
    },
    {
     "name": "stdout",
     "output_type": "stream",
     "text": [
      "Model saved\n",
      "631 10485405\n"
     ]
    },
    {
     "name": "stderr",
     "output_type": "stream",
     "text": [
      "24/04/23 22:21:42 WARN TaskSetManager: Stage 1852 contains a task of very large size (3196 KiB). The maximum recommended task size is 1000 KiB.\n",
      "24/04/23 22:21:43 WARN TaskSetManager: Stage 1856 contains a task of very large size (1281 KiB). The maximum recommended task size is 1000 KiB.\n"
     ]
    },
    {
     "name": "stdout",
     "output_type": "stream",
     "text": [
      "Model saved\n",
      "994 10485261\n"
     ]
    },
    {
     "name": "stderr",
     "output_type": "stream",
     "text": [
      "24/04/23 22:21:50 WARN TaskSetManager: Stage 1880 contains a task of very large size (3196 KiB). The maximum recommended task size is 1000 KiB.\n",
      "24/04/23 22:21:51 WARN TaskSetManager: Stage 1884 contains a task of very large size (1281 KiB). The maximum recommended task size is 1000 KiB.\n"
     ]
    },
    {
     "name": "stdout",
     "output_type": "stream",
     "text": [
      "Model saved\n",
      "496 10485413\n"
     ]
    },
    {
     "name": "stderr",
     "output_type": "stream",
     "text": [
      "24/04/23 22:21:59 WARN TaskSetManager: Stage 1908 contains a task of very large size (3196 KiB). The maximum recommended task size is 1000 KiB.\n",
      "24/04/23 22:21:59 WARN TaskSetManager: Stage 1912 contains a task of very large size (1281 KiB). The maximum recommended task size is 1000 KiB.\n"
     ]
    },
    {
     "name": "stdout",
     "output_type": "stream",
     "text": [
      "Model saved\n",
      "642 10485223\n"
     ]
    },
    {
     "name": "stderr",
     "output_type": "stream",
     "text": [
      "24/04/23 22:22:07 WARN TaskSetManager: Stage 1936 contains a task of very large size (3196 KiB). The maximum recommended task size is 1000 KiB.\n",
      "24/04/23 22:22:08 WARN TaskSetManager: Stage 1940 contains a task of very large size (1281 KiB). The maximum recommended task size is 1000 KiB.\n"
     ]
    },
    {
     "name": "stdout",
     "output_type": "stream",
     "text": [
      "Model saved\n",
      "533 10485310\n"
     ]
    },
    {
     "name": "stderr",
     "output_type": "stream",
     "text": [
      "24/04/23 22:22:17 WARN TaskSetManager: Stage 1964 contains a task of very large size (3196 KiB). The maximum recommended task size is 1000 KiB.\n",
      "24/04/23 22:22:18 WARN TaskSetManager: Stage 1968 contains a task of very large size (1281 KiB). The maximum recommended task size is 1000 KiB.\n"
     ]
    },
    {
     "name": "stdout",
     "output_type": "stream",
     "text": [
      "Model saved\n",
      "667 10485545\n"
     ]
    },
    {
     "name": "stderr",
     "output_type": "stream",
     "text": [
      "24/04/23 22:22:25 WARN TaskSetManager: Stage 1992 contains a task of very large size (3196 KiB). The maximum recommended task size is 1000 KiB.\n",
      "24/04/23 22:22:25 WARN TaskSetManager: Stage 1996 contains a task of very large size (1281 KiB). The maximum recommended task size is 1000 KiB.\n"
     ]
    },
    {
     "name": "stdout",
     "output_type": "stream",
     "text": [
      "Model saved\n",
      "455 10485661\n"
     ]
    },
    {
     "name": "stderr",
     "output_type": "stream",
     "text": [
      "24/04/23 22:22:33 WARN TaskSetManager: Stage 2020 contains a task of very large size (3196 KiB). The maximum recommended task size is 1000 KiB.\n",
      "24/04/23 22:22:34 WARN TaskSetManager: Stage 2024 contains a task of very large size (1281 KiB). The maximum recommended task size is 1000 KiB.\n"
     ]
    },
    {
     "name": "stdout",
     "output_type": "stream",
     "text": [
      "Model saved\n",
      "398 10485413\n"
     ]
    },
    {
     "name": "stderr",
     "output_type": "stream",
     "text": [
      "24/04/23 22:22:42 WARN TaskSetManager: Stage 2048 contains a task of very large size (3196 KiB). The maximum recommended task size is 1000 KiB.\n",
      "24/04/23 22:22:43 WARN TaskSetManager: Stage 2052 contains a task of very large size (1281 KiB). The maximum recommended task size is 1000 KiB.\n"
     ]
    },
    {
     "name": "stdout",
     "output_type": "stream",
     "text": [
      "Model saved\n",
      "1456 10485731\n"
     ]
    },
    {
     "name": "stderr",
     "output_type": "stream",
     "text": [
      "24/04/23 22:22:51 WARN TaskSetManager: Stage 2076 contains a task of very large size (3196 KiB). The maximum recommended task size is 1000 KiB.\n",
      "24/04/23 22:22:52 WARN TaskSetManager: Stage 2080 contains a task of very large size (1281 KiB). The maximum recommended task size is 1000 KiB.\n"
     ]
    },
    {
     "name": "stdout",
     "output_type": "stream",
     "text": [
      "Model saved\n",
      "349 10485648\n"
     ]
    },
    {
     "name": "stderr",
     "output_type": "stream",
     "text": [
      "24/04/23 22:23:00 WARN TaskSetManager: Stage 2104 contains a task of very large size (3196 KiB). The maximum recommended task size is 1000 KiB.\n",
      "24/04/23 22:23:01 WARN TaskSetManager: Stage 2108 contains a task of very large size (1281 KiB). The maximum recommended task size is 1000 KiB.\n"
     ]
    },
    {
     "name": "stdout",
     "output_type": "stream",
     "text": [
      "Model saved\n",
      "1603 10484726\n"
     ]
    },
    {
     "name": "stderr",
     "output_type": "stream",
     "text": [
      "24/04/23 22:23:09 WARN TaskSetManager: Stage 2132 contains a task of very large size (3196 KiB). The maximum recommended task size is 1000 KiB.\n",
      "24/04/23 22:23:10 WARN TaskSetManager: Stage 2136 contains a task of very large size (1281 KiB). The maximum recommended task size is 1000 KiB.\n"
     ]
    },
    {
     "name": "stdout",
     "output_type": "stream",
     "text": [
      "Model saved\n",
      "335 10485687\n"
     ]
    },
    {
     "name": "stderr",
     "output_type": "stream",
     "text": [
      "24/04/23 22:23:18 WARN TaskSetManager: Stage 2160 contains a task of very large size (3196 KiB). The maximum recommended task size is 1000 KiB.\n",
      "24/04/23 22:23:19 WARN TaskSetManager: Stage 2164 contains a task of very large size (1281 KiB). The maximum recommended task size is 1000 KiB.\n"
     ]
    },
    {
     "name": "stdout",
     "output_type": "stream",
     "text": [
      "Model saved\n",
      "969 10485256\n"
     ]
    },
    {
     "name": "stderr",
     "output_type": "stream",
     "text": [
      "24/04/23 22:23:27 WARN TaskSetManager: Stage 2188 contains a task of very large size (3196 KiB). The maximum recommended task size is 1000 KiB.\n",
      "24/04/23 22:23:27 WARN TaskSetManager: Stage 2192 contains a task of very large size (1281 KiB). The maximum recommended task size is 1000 KiB.\n"
     ]
    },
    {
     "name": "stdout",
     "output_type": "stream",
     "text": [
      "Model saved\n",
      "1151 10485207\n"
     ]
    },
    {
     "name": "stderr",
     "output_type": "stream",
     "text": [
      "24/04/23 22:23:36 WARN TaskSetManager: Stage 2216 contains a task of very large size (3196 KiB). The maximum recommended task size is 1000 KiB.\n",
      "24/04/23 22:23:37 WARN TaskSetManager: Stage 2220 contains a task of very large size (1281 KiB). The maximum recommended task size is 1000 KiB.\n"
     ]
    },
    {
     "name": "stdout",
     "output_type": "stream",
     "text": [
      "Model saved\n",
      "351 10485665\n"
     ]
    },
    {
     "name": "stderr",
     "output_type": "stream",
     "text": [
      "24/04/23 22:23:46 WARN TaskSetManager: Stage 2244 contains a task of very large size (3196 KiB). The maximum recommended task size is 1000 KiB.\n",
      "24/04/23 22:23:46 WARN TaskSetManager: Stage 2248 contains a task of very large size (1281 KiB). The maximum recommended task size is 1000 KiB.\n"
     ]
    },
    {
     "name": "stdout",
     "output_type": "stream",
     "text": [
      "Model saved\n",
      "757 10485619\n"
     ]
    },
    {
     "name": "stderr",
     "output_type": "stream",
     "text": [
      "24/04/23 22:23:55 WARN TaskSetManager: Stage 2272 contains a task of very large size (3196 KiB). The maximum recommended task size is 1000 KiB.\n",
      "24/04/23 22:23:55 WARN TaskSetManager: Stage 2276 contains a task of very large size (1281 KiB). The maximum recommended task size is 1000 KiB.\n"
     ]
    },
    {
     "name": "stdout",
     "output_type": "stream",
     "text": [
      "Model saved\n",
      "1230 10485084\n"
     ]
    },
    {
     "name": "stderr",
     "output_type": "stream",
     "text": [
      "24/04/23 22:24:04 WARN TaskSetManager: Stage 2300 contains a task of very large size (3196 KiB). The maximum recommended task size is 1000 KiB.\n",
      "24/04/23 22:24:05 WARN TaskSetManager: Stage 2304 contains a task of very large size (1281 KiB). The maximum recommended task size is 1000 KiB.\n"
     ]
    },
    {
     "name": "stdout",
     "output_type": "stream",
     "text": [
      "Model saved\n",
      "1647 10484618\n"
     ]
    },
    {
     "name": "stderr",
     "output_type": "stream",
     "text": [
      "24/04/23 22:24:14 WARN TaskSetManager: Stage 2328 contains a task of very large size (3196 KiB). The maximum recommended task size is 1000 KiB.\n",
      "24/04/23 22:24:15 WARN TaskSetManager: Stage 2332 contains a task of very large size (1281 KiB). The maximum recommended task size is 1000 KiB.\n"
     ]
    },
    {
     "name": "stdout",
     "output_type": "stream",
     "text": [
      "Model saved\n",
      "338 10485480\n"
     ]
    },
    {
     "name": "stderr",
     "output_type": "stream",
     "text": [
      "24/04/23 22:24:24 WARN TaskSetManager: Stage 2356 contains a task of very large size (3196 KiB). The maximum recommended task size is 1000 KiB.\n",
      "24/04/23 22:24:24 WARN TaskSetManager: Stage 2360 contains a task of very large size (1281 KiB). The maximum recommended task size is 1000 KiB.\n"
     ]
    },
    {
     "name": "stdout",
     "output_type": "stream",
     "text": [
      "Model saved\n",
      "544 10485473\n"
     ]
    },
    {
     "name": "stderr",
     "output_type": "stream",
     "text": [
      "24/04/23 22:24:33 WARN TaskSetManager: Stage 2384 contains a task of very large size (3196 KiB). The maximum recommended task size is 1000 KiB.\n",
      "24/04/23 22:24:33 WARN TaskSetManager: Stage 2388 contains a task of very large size (1281 KiB). The maximum recommended task size is 1000 KiB.\n"
     ]
    },
    {
     "name": "stdout",
     "output_type": "stream",
     "text": [
      "Model saved\n",
      "1401 10485464\n"
     ]
    },
    {
     "name": "stderr",
     "output_type": "stream",
     "text": [
      "24/04/23 22:24:42 WARN TaskSetManager: Stage 2412 contains a task of very large size (3196 KiB). The maximum recommended task size is 1000 KiB.\n",
      "24/04/23 22:24:43 WARN TaskSetManager: Stage 2416 contains a task of very large size (1281 KiB). The maximum recommended task size is 1000 KiB.\n"
     ]
    },
    {
     "name": "stdout",
     "output_type": "stream",
     "text": [
      "Model saved\n",
      "310 10485716\n"
     ]
    },
    {
     "name": "stderr",
     "output_type": "stream",
     "text": [
      "24/04/23 22:24:52 WARN TaskSetManager: Stage 2440 contains a task of very large size (3196 KiB). The maximum recommended task size is 1000 KiB.\n",
      "24/04/23 22:24:53 WARN TaskSetManager: Stage 2444 contains a task of very large size (1281 KiB). The maximum recommended task size is 1000 KiB.\n"
     ]
    },
    {
     "name": "stdout",
     "output_type": "stream",
     "text": [
      "Model saved\n",
      "374 10485693\n"
     ]
    },
    {
     "name": "stderr",
     "output_type": "stream",
     "text": [
      "24/04/23 22:25:02 WARN TaskSetManager: Stage 2468 contains a task of very large size (3196 KiB). The maximum recommended task size is 1000 KiB.\n",
      "24/04/23 22:25:03 WARN TaskSetManager: Stage 2472 contains a task of very large size (1281 KiB). The maximum recommended task size is 1000 KiB.\n"
     ]
    },
    {
     "name": "stdout",
     "output_type": "stream",
     "text": [
      "Model saved\n",
      "2008 10485170\n"
     ]
    },
    {
     "name": "stderr",
     "output_type": "stream",
     "text": [
      "24/04/23 22:25:11 WARN TaskSetManager: Stage 2496 contains a task of very large size (3196 KiB). The maximum recommended task size is 1000 KiB.\n",
      "24/04/23 22:25:12 WARN TaskSetManager: Stage 2500 contains a task of very large size (1281 KiB). The maximum recommended task size is 1000 KiB.\n"
     ]
    },
    {
     "name": "stdout",
     "output_type": "stream",
     "text": [
      "Model saved\n",
      "770 10485360\n"
     ]
    },
    {
     "name": "stderr",
     "output_type": "stream",
     "text": [
      "24/04/23 22:25:22 WARN TaskSetManager: Stage 2524 contains a task of very large size (3196 KiB). The maximum recommended task size is 1000 KiB.\n",
      "24/04/23 22:25:23 WARN TaskSetManager: Stage 2528 contains a task of very large size (1281 KiB). The maximum recommended task size is 1000 KiB.\n"
     ]
    },
    {
     "name": "stdout",
     "output_type": "stream",
     "text": [
      "Model saved\n",
      "299 10485494\n"
     ]
    },
    {
     "name": "stderr",
     "output_type": "stream",
     "text": [
      "24/04/23 22:25:31 WARN TaskSetManager: Stage 2552 contains a task of very large size (3196 KiB). The maximum recommended task size is 1000 KiB.\n",
      "24/04/23 22:25:32 WARN TaskSetManager: Stage 2556 contains a task of very large size (1281 KiB). The maximum recommended task size is 1000 KiB.\n"
     ]
    },
    {
     "name": "stdout",
     "output_type": "stream",
     "text": [
      "Model saved\n",
      "1977 10485520\n"
     ]
    },
    {
     "name": "stderr",
     "output_type": "stream",
     "text": [
      "24/04/23 22:25:40 WARN TaskSetManager: Stage 2580 contains a task of very large size (3196 KiB). The maximum recommended task size is 1000 KiB.\n",
      "24/04/23 22:25:40 WARN TaskSetManager: Stage 2584 contains a task of very large size (1281 KiB). The maximum recommended task size is 1000 KiB.\n"
     ]
    },
    {
     "name": "stdout",
     "output_type": "stream",
     "text": [
      "Model saved\n",
      "443 10485758\n"
     ]
    },
    {
     "name": "stderr",
     "output_type": "stream",
     "text": [
      "24/04/23 22:25:48 WARN TaskSetManager: Stage 2608 contains a task of very large size (3196 KiB). The maximum recommended task size is 1000 KiB.\n",
      "24/04/23 22:25:49 WARN TaskSetManager: Stage 2612 contains a task of very large size (1281 KiB). The maximum recommended task size is 1000 KiB.\n"
     ]
    },
    {
     "name": "stdout",
     "output_type": "stream",
     "text": [
      "Model saved\n",
      "332 10485673\n"
     ]
    },
    {
     "name": "stderr",
     "output_type": "stream",
     "text": [
      "24/04/23 22:25:57 WARN TaskSetManager: Stage 2636 contains a task of very large size (3196 KiB). The maximum recommended task size is 1000 KiB.\n",
      "24/04/23 22:25:58 WARN TaskSetManager: Stage 2640 contains a task of very large size (1281 KiB). The maximum recommended task size is 1000 KiB.\n"
     ]
    },
    {
     "name": "stdout",
     "output_type": "stream",
     "text": [
      "Model saved\n",
      "303 10485469\n"
     ]
    },
    {
     "name": "stderr",
     "output_type": "stream",
     "text": [
      "24/04/23 22:26:06 WARN TaskSetManager: Stage 2664 contains a task of very large size (3196 KiB). The maximum recommended task size is 1000 KiB.\n",
      "24/04/23 22:26:06 WARN TaskSetManager: Stage 2668 contains a task of very large size (1281 KiB). The maximum recommended task size is 1000 KiB.\n"
     ]
    },
    {
     "name": "stdout",
     "output_type": "stream",
     "text": [
      "Model saved\n",
      "2446 10483331\n"
     ]
    },
    {
     "name": "stderr",
     "output_type": "stream",
     "text": [
      "24/04/23 22:26:14 WARN TaskSetManager: Stage 2692 contains a task of very large size (3196 KiB). The maximum recommended task size is 1000 KiB.\n",
      "24/04/23 22:26:15 WARN TaskSetManager: Stage 2696 contains a task of very large size (1281 KiB). The maximum recommended task size is 1000 KiB.\n"
     ]
    },
    {
     "name": "stdout",
     "output_type": "stream",
     "text": [
      "Model saved\n",
      "619 10485720\n"
     ]
    },
    {
     "name": "stderr",
     "output_type": "stream",
     "text": [
      "24/04/23 22:26:23 WARN TaskSetManager: Stage 2720 contains a task of very large size (3196 KiB). The maximum recommended task size is 1000 KiB.\n",
      "24/04/23 22:26:24 WARN TaskSetManager: Stage 2724 contains a task of very large size (1281 KiB). The maximum recommended task size is 1000 KiB.\n"
     ]
    },
    {
     "name": "stdout",
     "output_type": "stream",
     "text": [
      "Model saved\n",
      "432 10485662\n"
     ]
    },
    {
     "name": "stderr",
     "output_type": "stream",
     "text": [
      "24/04/23 22:26:33 WARN TaskSetManager: Stage 2748 contains a task of very large size (3196 KiB). The maximum recommended task size is 1000 KiB.\n",
      "24/04/23 22:26:34 WARN TaskSetManager: Stage 2752 contains a task of very large size (1281 KiB). The maximum recommended task size is 1000 KiB.\n"
     ]
    },
    {
     "name": "stdout",
     "output_type": "stream",
     "text": [
      "Model saved\n",
      "812 10485285\n"
     ]
    },
    {
     "name": "stderr",
     "output_type": "stream",
     "text": [
      "24/04/23 22:26:43 WARN TaskSetManager: Stage 2776 contains a task of very large size (3196 KiB). The maximum recommended task size is 1000 KiB.\n",
      "24/04/23 22:26:43 WARN TaskSetManager: Stage 2780 contains a task of very large size (1281 KiB). The maximum recommended task size is 1000 KiB.\n"
     ]
    },
    {
     "name": "stdout",
     "output_type": "stream",
     "text": [
      "Model saved\n",
      "1751 10484784\n"
     ]
    },
    {
     "name": "stderr",
     "output_type": "stream",
     "text": [
      "24/04/23 22:26:51 WARN TaskSetManager: Stage 2804 contains a task of very large size (3196 KiB). The maximum recommended task size is 1000 KiB.\n",
      "24/04/23 22:26:52 WARN TaskSetManager: Stage 2808 contains a task of very large size (1281 KiB). The maximum recommended task size is 1000 KiB.\n"
     ]
    },
    {
     "name": "stdout",
     "output_type": "stream",
     "text": [
      "Model saved\n",
      "985 10485240\n"
     ]
    },
    {
     "name": "stderr",
     "output_type": "stream",
     "text": [
      "24/04/23 22:26:59 WARN TaskSetManager: Stage 2832 contains a task of very large size (3196 KiB). The maximum recommended task size is 1000 KiB.\n",
      "24/04/23 22:27:00 WARN TaskSetManager: Stage 2836 contains a task of very large size (1281 KiB). The maximum recommended task size is 1000 KiB.\n"
     ]
    },
    {
     "name": "stdout",
     "output_type": "stream",
     "text": [
      "Model saved\n",
      "2031 10485653\n"
     ]
    },
    {
     "name": "stderr",
     "output_type": "stream",
     "text": [
      "24/04/23 22:27:08 WARN TaskSetManager: Stage 2860 contains a task of very large size (3196 KiB). The maximum recommended task size is 1000 KiB.\n",
      "24/04/23 22:27:08 WARN TaskSetManager: Stage 2864 contains a task of very large size (1281 KiB). The maximum recommended task size is 1000 KiB.\n"
     ]
    },
    {
     "name": "stdout",
     "output_type": "stream",
     "text": [
      "Model saved\n",
      "289 10485574\n"
     ]
    },
    {
     "name": "stderr",
     "output_type": "stream",
     "text": [
      "24/04/23 22:27:17 WARN TaskSetManager: Stage 2888 contains a task of very large size (3196 KiB). The maximum recommended task size is 1000 KiB.\n",
      "24/04/23 22:27:17 WARN TaskSetManager: Stage 2892 contains a task of very large size (1281 KiB). The maximum recommended task size is 1000 KiB.\n"
     ]
    },
    {
     "name": "stdout",
     "output_type": "stream",
     "text": [
      "Model saved\n",
      "327 10485688\n"
     ]
    },
    {
     "name": "stderr",
     "output_type": "stream",
     "text": [
      "24/04/23 22:27:26 WARN TaskSetManager: Stage 2916 contains a task of very large size (3196 KiB). The maximum recommended task size is 1000 KiB.\n",
      "24/04/23 22:27:27 WARN TaskSetManager: Stage 2920 contains a task of very large size (1281 KiB). The maximum recommended task size is 1000 KiB.\n"
     ]
    },
    {
     "name": "stdout",
     "output_type": "stream",
     "text": [
      "Model saved\n",
      "288 10485694\n"
     ]
    },
    {
     "name": "stderr",
     "output_type": "stream",
     "text": [
      "24/04/23 22:27:36 WARN TaskSetManager: Stage 2944 contains a task of very large size (3196 KiB). The maximum recommended task size is 1000 KiB.\n",
      "24/04/23 22:27:37 WARN TaskSetManager: Stage 2948 contains a task of very large size (1281 KiB). The maximum recommended task size is 1000 KiB.\n"
     ]
    },
    {
     "name": "stdout",
     "output_type": "stream",
     "text": [
      "Model saved\n",
      "297 10485616\n"
     ]
    },
    {
     "name": "stderr",
     "output_type": "stream",
     "text": [
      "24/04/23 22:27:46 WARN TaskSetManager: Stage 2972 contains a task of very large size (3196 KiB). The maximum recommended task size is 1000 KiB.\n",
      "24/04/23 22:27:46 WARN TaskSetManager: Stage 2976 contains a task of very large size (1281 KiB). The maximum recommended task size is 1000 KiB.\n"
     ]
    },
    {
     "name": "stdout",
     "output_type": "stream",
     "text": [
      "Model saved\n",
      "271 10485699\n"
     ]
    },
    {
     "name": "stderr",
     "output_type": "stream",
     "text": [
      "24/04/23 22:27:56 WARN TaskSetManager: Stage 3000 contains a task of very large size (3196 KiB). The maximum recommended task size is 1000 KiB.\n",
      "24/04/23 22:27:56 WARN TaskSetManager: Stage 3004 contains a task of very large size (1281 KiB). The maximum recommended task size is 1000 KiB.\n"
     ]
    },
    {
     "name": "stdout",
     "output_type": "stream",
     "text": [
      "Model saved\n",
      "401 10485492\n"
     ]
    },
    {
     "name": "stderr",
     "output_type": "stream",
     "text": [
      "24/04/23 22:28:05 WARN TaskSetManager: Stage 3028 contains a task of very large size (3196 KiB). The maximum recommended task size is 1000 KiB.\n",
      "24/04/23 22:28:06 WARN TaskSetManager: Stage 3032 contains a task of very large size (1281 KiB). The maximum recommended task size is 1000 KiB.\n"
     ]
    },
    {
     "name": "stdout",
     "output_type": "stream",
     "text": [
      "Model saved\n",
      "4909 10483838\n"
     ]
    },
    {
     "name": "stderr",
     "output_type": "stream",
     "text": [
      "24/04/23 22:28:15 WARN TaskSetManager: Stage 3056 contains a task of very large size (3196 KiB). The maximum recommended task size is 1000 KiB.\n",
      "24/04/23 22:28:16 WARN TaskSetManager: Stage 3060 contains a task of very large size (1281 KiB). The maximum recommended task size is 1000 KiB.\n"
     ]
    },
    {
     "name": "stdout",
     "output_type": "stream",
     "text": [
      "Model saved\n",
      "499 10485558\n"
     ]
    },
    {
     "name": "stderr",
     "output_type": "stream",
     "text": [
      "24/04/23 22:28:25 WARN TaskSetManager: Stage 3084 contains a task of very large size (3196 KiB). The maximum recommended task size is 1000 KiB.\n",
      "24/04/23 22:28:26 WARN TaskSetManager: Stage 3088 contains a task of very large size (1281 KiB). The maximum recommended task size is 1000 KiB.\n"
     ]
    },
    {
     "name": "stdout",
     "output_type": "stream",
     "text": [
      "Model saved\n",
      "970 10484838\n"
     ]
    },
    {
     "name": "stderr",
     "output_type": "stream",
     "text": [
      "24/04/23 22:28:35 WARN TaskSetManager: Stage 3112 contains a task of very large size (3196 KiB). The maximum recommended task size is 1000 KiB.\n",
      "24/04/23 22:28:36 WARN TaskSetManager: Stage 3116 contains a task of very large size (1281 KiB). The maximum recommended task size is 1000 KiB.\n"
     ]
    },
    {
     "name": "stdout",
     "output_type": "stream",
     "text": [
      "Model saved\n",
      "468 10485414\n"
     ]
    },
    {
     "name": "stderr",
     "output_type": "stream",
     "text": [
      "24/04/23 22:28:45 WARN TaskSetManager: Stage 3140 contains a task of very large size (3196 KiB). The maximum recommended task size is 1000 KiB.\n",
      "24/04/23 22:28:45 WARN TaskSetManager: Stage 3144 contains a task of very large size (1281 KiB). The maximum recommended task size is 1000 KiB.\n"
     ]
    },
    {
     "name": "stdout",
     "output_type": "stream",
     "text": [
      "Model saved\n",
      "678 10485103\n"
     ]
    },
    {
     "name": "stderr",
     "output_type": "stream",
     "text": [
      "24/04/23 22:28:53 WARN TaskSetManager: Stage 3168 contains a task of very large size (3196 KiB). The maximum recommended task size is 1000 KiB.\n",
      "24/04/23 22:28:54 WARN TaskSetManager: Stage 3172 contains a task of very large size (1281 KiB). The maximum recommended task size is 1000 KiB.\n"
     ]
    },
    {
     "name": "stdout",
     "output_type": "stream",
     "text": [
      "Model saved\n",
      "573 10485322\n"
     ]
    },
    {
     "name": "stderr",
     "output_type": "stream",
     "text": [
      "24/04/23 22:29:02 WARN TaskSetManager: Stage 3196 contains a task of very large size (3196 KiB). The maximum recommended task size is 1000 KiB.\n",
      "24/04/23 22:29:03 WARN TaskSetManager: Stage 3200 contains a task of very large size (1281 KiB). The maximum recommended task size is 1000 KiB.\n"
     ]
    },
    {
     "name": "stdout",
     "output_type": "stream",
     "text": [
      "Model saved\n",
      "4283 10483197\n"
     ]
    },
    {
     "name": "stderr",
     "output_type": "stream",
     "text": [
      "24/04/23 22:29:10 WARN TaskSetManager: Stage 3224 contains a task of very large size (3196 KiB). The maximum recommended task size is 1000 KiB.\n",
      "24/04/23 22:29:11 WARN TaskSetManager: Stage 3228 contains a task of very large size (1281 KiB). The maximum recommended task size is 1000 KiB.\n"
     ]
    },
    {
     "name": "stdout",
     "output_type": "stream",
     "text": [
      "Model saved\n",
      "360 10485424\n"
     ]
    },
    {
     "name": "stderr",
     "output_type": "stream",
     "text": [
      "24/04/23 22:29:19 WARN TaskSetManager: Stage 3252 contains a task of very large size (3196 KiB). The maximum recommended task size is 1000 KiB.\n",
      "24/04/23 22:29:20 WARN TaskSetManager: Stage 3256 contains a task of very large size (1281 KiB). The maximum recommended task size is 1000 KiB.\n"
     ]
    },
    {
     "name": "stdout",
     "output_type": "stream",
     "text": [
      "Model saved\n",
      "466 10485700\n"
     ]
    },
    {
     "name": "stderr",
     "output_type": "stream",
     "text": [
      "24/04/23 22:29:29 WARN TaskSetManager: Stage 3280 contains a task of very large size (3196 KiB). The maximum recommended task size is 1000 KiB.\n",
      "24/04/23 22:29:29 WARN TaskSetManager: Stage 3284 contains a task of very large size (1281 KiB). The maximum recommended task size is 1000 KiB.\n"
     ]
    },
    {
     "name": "stdout",
     "output_type": "stream",
     "text": [
      "Model saved\n",
      "1075 10485759\n"
     ]
    },
    {
     "name": "stderr",
     "output_type": "stream",
     "text": [
      "24/04/23 22:29:38 WARN TaskSetManager: Stage 3308 contains a task of very large size (3196 KiB). The maximum recommended task size is 1000 KiB.\n",
      "24/04/23 22:29:38 WARN TaskSetManager: Stage 3312 contains a task of very large size (1281 KiB). The maximum recommended task size is 1000 KiB.\n"
     ]
    },
    {
     "name": "stdout",
     "output_type": "stream",
     "text": [
      "Model saved\n",
      "1043 10485558\n"
     ]
    },
    {
     "name": "stderr",
     "output_type": "stream",
     "text": [
      "24/04/23 22:29:48 WARN TaskSetManager: Stage 3336 contains a task of very large size (3196 KiB). The maximum recommended task size is 1000 KiB.\n",
      "24/04/23 22:29:49 WARN TaskSetManager: Stage 3340 contains a task of very large size (1281 KiB). The maximum recommended task size is 1000 KiB.\n"
     ]
    },
    {
     "name": "stdout",
     "output_type": "stream",
     "text": [
      "Model saved\n",
      "24994 10463239\n"
     ]
    },
    {
     "name": "stderr",
     "output_type": "stream",
     "text": [
      "24/04/23 22:29:58 WARN TaskSetManager: Stage 3364 contains a task of very large size (3196 KiB). The maximum recommended task size is 1000 KiB.\n",
      "24/04/23 22:29:59 WARN TaskSetManager: Stage 3368 contains a task of very large size (1281 KiB). The maximum recommended task size is 1000 KiB.\n"
     ]
    },
    {
     "name": "stdout",
     "output_type": "stream",
     "text": [
      "Model saved\n",
      "484 10485748\n"
     ]
    },
    {
     "name": "stderr",
     "output_type": "stream",
     "text": [
      "24/04/23 22:30:07 WARN TaskSetManager: Stage 3392 contains a task of very large size (3196 KiB). The maximum recommended task size is 1000 KiB.\n",
      "24/04/23 22:30:08 WARN TaskSetManager: Stage 3396 contains a task of very large size (1281 KiB). The maximum recommended task size is 1000 KiB.\n"
     ]
    },
    {
     "name": "stdout",
     "output_type": "stream",
     "text": [
      "Model saved\n",
      "389 10485737\n"
     ]
    },
    {
     "name": "stderr",
     "output_type": "stream",
     "text": [
      "24/04/23 22:30:17 WARN TaskSetManager: Stage 3420 contains a task of very large size (3196 KiB). The maximum recommended task size is 1000 KiB.\n",
      "24/04/23 22:30:18 WARN TaskSetManager: Stage 3424 contains a task of very large size (1281 KiB). The maximum recommended task size is 1000 KiB.\n"
     ]
    },
    {
     "name": "stdout",
     "output_type": "stream",
     "text": [
      "Model saved\n",
      "1488 10485383\n"
     ]
    },
    {
     "name": "stderr",
     "output_type": "stream",
     "text": [
      "24/04/23 22:30:27 WARN TaskSetManager: Stage 3448 contains a task of very large size (3196 KiB). The maximum recommended task size is 1000 KiB.\n",
      "24/04/23 22:30:28 WARN TaskSetManager: Stage 3452 contains a task of very large size (1281 KiB). The maximum recommended task size is 1000 KiB.\n"
     ]
    },
    {
     "name": "stdout",
     "output_type": "stream",
     "text": [
      "Model saved\n",
      "4355 10484217\n"
     ]
    },
    {
     "name": "stderr",
     "output_type": "stream",
     "text": [
      "24/04/23 22:30:37 WARN TaskSetManager: Stage 3476 contains a task of very large size (3196 KiB). The maximum recommended task size is 1000 KiB.\n",
      "24/04/23 22:30:38 WARN TaskSetManager: Stage 3480 contains a task of very large size (1281 KiB). The maximum recommended task size is 1000 KiB.\n"
     ]
    },
    {
     "name": "stdout",
     "output_type": "stream",
     "text": [
      "Model saved\n",
      "342 10485527\n"
     ]
    },
    {
     "name": "stderr",
     "output_type": "stream",
     "text": [
      "24/04/23 22:30:48 WARN TaskSetManager: Stage 3504 contains a task of very large size (3196 KiB). The maximum recommended task size is 1000 KiB.\n",
      "24/04/23 22:30:49 WARN TaskSetManager: Stage 3508 contains a task of very large size (1281 KiB). The maximum recommended task size is 1000 KiB.\n"
     ]
    },
    {
     "name": "stdout",
     "output_type": "stream",
     "text": [
      "Model saved\n",
      "2057 10485262\n"
     ]
    },
    {
     "name": "stderr",
     "output_type": "stream",
     "text": [
      "24/04/23 22:30:58 WARN TaskSetManager: Stage 3532 contains a task of very large size (3196 KiB). The maximum recommended task size is 1000 KiB.\n",
      "24/04/23 22:30:59 WARN TaskSetManager: Stage 3536 contains a task of very large size (1281 KiB). The maximum recommended task size is 1000 KiB.\n"
     ]
    },
    {
     "name": "stdout",
     "output_type": "stream",
     "text": [
      "Model saved\n",
      "8963 10484072\n"
     ]
    },
    {
     "name": "stderr",
     "output_type": "stream",
     "text": [
      "24/04/23 22:31:09 WARN TaskSetManager: Stage 3560 contains a task of very large size (3196 KiB). The maximum recommended task size is 1000 KiB.\n",
      "24/04/23 22:31:10 WARN TaskSetManager: Stage 3564 contains a task of very large size (1281 KiB). The maximum recommended task size is 1000 KiB.\n"
     ]
    },
    {
     "name": "stdout",
     "output_type": "stream",
     "text": [
      "Model saved\n",
      "359 10485439\n"
     ]
    },
    {
     "name": "stderr",
     "output_type": "stream",
     "text": [
      "24/04/23 22:31:18 WARN TaskSetManager: Stage 3588 contains a task of very large size (3196 KiB). The maximum recommended task size is 1000 KiB.\n",
      "24/04/23 22:31:19 WARN TaskSetManager: Stage 3592 contains a task of very large size (1281 KiB). The maximum recommended task size is 1000 KiB.\n"
     ]
    },
    {
     "name": "stdout",
     "output_type": "stream",
     "text": [
      "Model saved\n",
      "1363 10485167\n"
     ]
    },
    {
     "name": "stderr",
     "output_type": "stream",
     "text": [
      "24/04/23 22:31:29 WARN TaskSetManager: Stage 3616 contains a task of very large size (3196 KiB). The maximum recommended task size is 1000 KiB.\n",
      "24/04/23 22:31:29 WARN TaskSetManager: Stage 3620 contains a task of very large size (1281 KiB). The maximum recommended task size is 1000 KiB.\n"
     ]
    },
    {
     "name": "stdout",
     "output_type": "stream",
     "text": [
      "Model saved\n",
      "2069 10484979\n"
     ]
    },
    {
     "name": "stderr",
     "output_type": "stream",
     "text": [
      "24/04/23 22:31:38 WARN TaskSetManager: Stage 3644 contains a task of very large size (3196 KiB). The maximum recommended task size is 1000 KiB.\n",
      "24/04/23 22:31:39 WARN TaskSetManager: Stage 3648 contains a task of very large size (1281 KiB). The maximum recommended task size is 1000 KiB.\n"
     ]
    },
    {
     "name": "stdout",
     "output_type": "stream",
     "text": [
      "Model saved\n",
      "478 10485436\n"
     ]
    },
    {
     "name": "stderr",
     "output_type": "stream",
     "text": [
      "24/04/23 22:31:48 WARN TaskSetManager: Stage 3672 contains a task of very large size (3196 KiB). The maximum recommended task size is 1000 KiB.\n",
      "24/04/23 22:31:49 WARN TaskSetManager: Stage 3676 contains a task of very large size (1281 KiB). The maximum recommended task size is 1000 KiB.\n"
     ]
    },
    {
     "name": "stdout",
     "output_type": "stream",
     "text": [
      "Model saved\n",
      "391 10485554\n"
     ]
    },
    {
     "name": "stderr",
     "output_type": "stream",
     "text": [
      "24/04/23 22:31:58 WARN TaskSetManager: Stage 3700 contains a task of very large size (3196 KiB). The maximum recommended task size is 1000 KiB.\n",
      "24/04/23 22:31:59 WARN TaskSetManager: Stage 3704 contains a task of very large size (1281 KiB). The maximum recommended task size is 1000 KiB.\n"
     ]
    },
    {
     "name": "stdout",
     "output_type": "stream",
     "text": [
      "Model saved\n",
      "348 10485466\n"
     ]
    },
    {
     "name": "stderr",
     "output_type": "stream",
     "text": [
      "24/04/23 22:32:08 WARN TaskSetManager: Stage 3728 contains a task of very large size (3196 KiB). The maximum recommended task size is 1000 KiB.\n",
      "24/04/23 22:32:09 WARN TaskSetManager: Stage 3732 contains a task of very large size (1281 KiB). The maximum recommended task size is 1000 KiB.\n"
     ]
    },
    {
     "name": "stdout",
     "output_type": "stream",
     "text": [
      "Model saved\n",
      "1775 10485661\n"
     ]
    },
    {
     "name": "stderr",
     "output_type": "stream",
     "text": [
      "24/04/23 22:32:17 WARN TaskSetManager: Stage 3756 contains a task of very large size (3196 KiB). The maximum recommended task size is 1000 KiB.\n",
      "24/04/23 22:32:18 WARN TaskSetManager: Stage 3760 contains a task of very large size (1281 KiB). The maximum recommended task size is 1000 KiB.\n"
     ]
    },
    {
     "name": "stdout",
     "output_type": "stream",
     "text": [
      "Model saved\n",
      "682 10485459\n"
     ]
    },
    {
     "name": "stderr",
     "output_type": "stream",
     "text": [
      "24/04/23 22:32:27 WARN TaskSetManager: Stage 3784 contains a task of very large size (3196 KiB). The maximum recommended task size is 1000 KiB.\n",
      "24/04/23 22:32:28 WARN TaskSetManager: Stage 3788 contains a task of very large size (1281 KiB). The maximum recommended task size is 1000 KiB.\n"
     ]
    },
    {
     "name": "stdout",
     "output_type": "stream",
     "text": [
      "Model saved\n",
      "10167 10476374\n"
     ]
    },
    {
     "name": "stderr",
     "output_type": "stream",
     "text": [
      "24/04/23 22:32:36 WARN TaskSetManager: Stage 3812 contains a task of very large size (3196 KiB). The maximum recommended task size is 1000 KiB.\n",
      "24/04/23 22:32:37 WARN TaskSetManager: Stage 3816 contains a task of very large size (1281 KiB). The maximum recommended task size is 1000 KiB.\n"
     ]
    },
    {
     "name": "stdout",
     "output_type": "stream",
     "text": [
      "Model saved\n",
      "353 10485684\n"
     ]
    },
    {
     "name": "stderr",
     "output_type": "stream",
     "text": [
      "24/04/23 22:32:45 WARN TaskSetManager: Stage 3840 contains a task of very large size (3196 KiB). The maximum recommended task size is 1000 KiB.\n",
      "24/04/23 22:32:46 WARN TaskSetManager: Stage 3844 contains a task of very large size (1281 KiB). The maximum recommended task size is 1000 KiB.\n"
     ]
    },
    {
     "name": "stdout",
     "output_type": "stream",
     "text": [
      "Model saved\n",
      "565 10485754\n"
     ]
    },
    {
     "name": "stderr",
     "output_type": "stream",
     "text": [
      "24/04/23 22:32:55 WARN TaskSetManager: Stage 3868 contains a task of very large size (3196 KiB). The maximum recommended task size is 1000 KiB.\n",
      "24/04/23 22:32:56 WARN TaskSetManager: Stage 3872 contains a task of very large size (1281 KiB). The maximum recommended task size is 1000 KiB.\n"
     ]
    },
    {
     "name": "stdout",
     "output_type": "stream",
     "text": [
      "Model saved\n",
      "597 10485291\n"
     ]
    },
    {
     "name": "stderr",
     "output_type": "stream",
     "text": [
      "24/04/23 22:33:05 WARN TaskSetManager: Stage 3896 contains a task of very large size (3196 KiB). The maximum recommended task size is 1000 KiB.\n",
      "24/04/23 22:33:06 WARN TaskSetManager: Stage 3900 contains a task of very large size (1281 KiB). The maximum recommended task size is 1000 KiB.\n"
     ]
    },
    {
     "name": "stdout",
     "output_type": "stream",
     "text": [
      "Model saved\n",
      "1211 10485390\n"
     ]
    },
    {
     "name": "stderr",
     "output_type": "stream",
     "text": [
      "24/04/23 22:33:14 WARN TaskSetManager: Stage 3924 contains a task of very large size (3196 KiB). The maximum recommended task size is 1000 KiB.\n",
      "24/04/23 22:33:15 WARN TaskSetManager: Stage 3928 contains a task of very large size (1281 KiB). The maximum recommended task size is 1000 KiB.\n"
     ]
    },
    {
     "name": "stdout",
     "output_type": "stream",
     "text": [
      "Model saved\n",
      "671 10485441\n"
     ]
    },
    {
     "name": "stderr",
     "output_type": "stream",
     "text": [
      "24/04/23 22:33:22 WARN TaskSetManager: Stage 3952 contains a task of very large size (3196 KiB). The maximum recommended task size is 1000 KiB.\n",
      "24/04/23 22:33:23 WARN TaskSetManager: Stage 3956 contains a task of very large size (1281 KiB). The maximum recommended task size is 1000 KiB.\n"
     ]
    },
    {
     "name": "stdout",
     "output_type": "stream",
     "text": [
      "Model saved\n",
      "968 10485428\n"
     ]
    },
    {
     "name": "stderr",
     "output_type": "stream",
     "text": [
      "24/04/23 22:33:32 WARN TaskSetManager: Stage 3980 contains a task of very large size (3196 KiB). The maximum recommended task size is 1000 KiB.\n",
      "24/04/23 22:33:33 WARN TaskSetManager: Stage 3984 contains a task of very large size (1281 KiB). The maximum recommended task size is 1000 KiB.\n"
     ]
    },
    {
     "name": "stdout",
     "output_type": "stream",
     "text": [
      "Model saved\n",
      "386 10485629\n"
     ]
    },
    {
     "name": "stderr",
     "output_type": "stream",
     "text": [
      "24/04/23 22:33:42 WARN TaskSetManager: Stage 4008 contains a task of very large size (3196 KiB). The maximum recommended task size is 1000 KiB.\n",
      "24/04/23 22:33:42 WARN TaskSetManager: Stage 4012 contains a task of very large size (1281 KiB). The maximum recommended task size is 1000 KiB.\n"
     ]
    },
    {
     "name": "stdout",
     "output_type": "stream",
     "text": [
      "Model saved\n",
      "604 10485321\n"
     ]
    },
    {
     "name": "stderr",
     "output_type": "stream",
     "text": [
      "24/04/23 22:33:50 WARN TaskSetManager: Stage 4036 contains a task of very large size (3196 KiB). The maximum recommended task size is 1000 KiB.\n",
      "24/04/23 22:33:51 WARN TaskSetManager: Stage 4040 contains a task of very large size (1281 KiB). The maximum recommended task size is 1000 KiB.\n"
     ]
    },
    {
     "name": "stdout",
     "output_type": "stream",
     "text": [
      "Model saved\n",
      "402 10485569\n"
     ]
    },
    {
     "name": "stderr",
     "output_type": "stream",
     "text": [
      "24/04/23 22:33:59 WARN TaskSetManager: Stage 4064 contains a task of very large size (3196 KiB). The maximum recommended task size is 1000 KiB.\n",
      "24/04/23 22:34:00 WARN TaskSetManager: Stage 4068 contains a task of very large size (1281 KiB). The maximum recommended task size is 1000 KiB.\n"
     ]
    },
    {
     "name": "stdout",
     "output_type": "stream",
     "text": [
      "Model saved\n",
      "1021 10485288\n"
     ]
    },
    {
     "name": "stderr",
     "output_type": "stream",
     "text": [
      "24/04/23 22:34:09 WARN TaskSetManager: Stage 4092 contains a task of very large size (3196 KiB). The maximum recommended task size is 1000 KiB.\n",
      "24/04/23 22:34:09 WARN TaskSetManager: Stage 4096 contains a task of very large size (1281 KiB). The maximum recommended task size is 1000 KiB.\n"
     ]
    },
    {
     "name": "stdout",
     "output_type": "stream",
     "text": [
      "Model saved\n",
      "394 10485477\n"
     ]
    },
    {
     "name": "stderr",
     "output_type": "stream",
     "text": [
      "24/04/23 22:34:18 WARN TaskSetManager: Stage 4120 contains a task of very large size (3196 KiB). The maximum recommended task size is 1000 KiB.\n",
      "24/04/23 22:34:19 WARN TaskSetManager: Stage 4124 contains a task of very large size (1281 KiB). The maximum recommended task size is 1000 KiB.\n"
     ]
    },
    {
     "name": "stdout",
     "output_type": "stream",
     "text": [
      "Model saved\n",
      "467 10485695\n"
     ]
    },
    {
     "name": "stderr",
     "output_type": "stream",
     "text": [
      "24/04/23 22:34:28 WARN TaskSetManager: Stage 4148 contains a task of very large size (3196 KiB). The maximum recommended task size is 1000 KiB.\n",
      "24/04/23 22:34:28 WARN TaskSetManager: Stage 4152 contains a task of very large size (1281 KiB). The maximum recommended task size is 1000 KiB.\n"
     ]
    },
    {
     "name": "stdout",
     "output_type": "stream",
     "text": [
      "Model saved\n",
      "1176 10484859\n"
     ]
    },
    {
     "name": "stderr",
     "output_type": "stream",
     "text": [
      "24/04/23 22:34:38 WARN TaskSetManager: Stage 4176 contains a task of very large size (3196 KiB). The maximum recommended task size is 1000 KiB.\n",
      "24/04/23 22:34:39 WARN TaskSetManager: Stage 4180 contains a task of very large size (1281 KiB). The maximum recommended task size is 1000 KiB.\n"
     ]
    },
    {
     "name": "stdout",
     "output_type": "stream",
     "text": [
      "Model saved\n",
      "567 10485461\n"
     ]
    },
    {
     "name": "stderr",
     "output_type": "stream",
     "text": [
      "24/04/23 22:34:47 WARN TaskSetManager: Stage 4204 contains a task of very large size (3196 KiB). The maximum recommended task size is 1000 KiB.\n",
      "24/04/23 22:34:47 WARN TaskSetManager: Stage 4208 contains a task of very large size (1281 KiB). The maximum recommended task size is 1000 KiB.\n"
     ]
    },
    {
     "name": "stdout",
     "output_type": "stream",
     "text": [
      "Model saved\n",
      "751 10485165\n"
     ]
    },
    {
     "name": "stderr",
     "output_type": "stream",
     "text": [
      "24/04/23 22:34:56 WARN TaskSetManager: Stage 4232 contains a task of very large size (3196 KiB). The maximum recommended task size is 1000 KiB.\n",
      "24/04/23 22:34:56 WARN TaskSetManager: Stage 4236 contains a task of very large size (1281 KiB). The maximum recommended task size is 1000 KiB.\n"
     ]
    },
    {
     "name": "stdout",
     "output_type": "stream",
     "text": [
      "Model saved\n",
      "651 10485740\n"
     ]
    },
    {
     "name": "stderr",
     "output_type": "stream",
     "text": [
      "24/04/23 22:35:05 WARN TaskSetManager: Stage 4260 contains a task of very large size (3196 KiB). The maximum recommended task size is 1000 KiB.\n",
      "24/04/23 22:35:06 WARN TaskSetManager: Stage 4264 contains a task of very large size (1281 KiB). The maximum recommended task size is 1000 KiB.\n"
     ]
    },
    {
     "name": "stdout",
     "output_type": "stream",
     "text": [
      "Model saved\n",
      "596 10485644\n"
     ]
    },
    {
     "name": "stderr",
     "output_type": "stream",
     "text": [
      "24/04/23 22:35:15 WARN TaskSetManager: Stage 4288 contains a task of very large size (3196 KiB). The maximum recommended task size is 1000 KiB.\n",
      "24/04/23 22:35:16 WARN TaskSetManager: Stage 4292 contains a task of very large size (1281 KiB). The maximum recommended task size is 1000 KiB.\n"
     ]
    },
    {
     "name": "stdout",
     "output_type": "stream",
     "text": [
      "Model saved\n",
      "316 10485467\n"
     ]
    },
    {
     "name": "stderr",
     "output_type": "stream",
     "text": [
      "24/04/23 22:35:24 WARN TaskSetManager: Stage 4316 contains a task of very large size (3196 KiB). The maximum recommended task size is 1000 KiB.\n",
      "24/04/23 22:35:25 WARN TaskSetManager: Stage 4320 contains a task of very large size (1281 KiB). The maximum recommended task size is 1000 KiB.\n"
     ]
    },
    {
     "name": "stdout",
     "output_type": "stream",
     "text": [
      "Model saved\n",
      "546 10485603\n"
     ]
    },
    {
     "name": "stderr",
     "output_type": "stream",
     "text": [
      "24/04/23 22:35:32 WARN TaskSetManager: Stage 4344 contains a task of very large size (3196 KiB). The maximum recommended task size is 1000 KiB.\n",
      "24/04/23 22:35:32 WARN TaskSetManager: Stage 4348 contains a task of very large size (1281 KiB). The maximum recommended task size is 1000 KiB.\n"
     ]
    },
    {
     "name": "stdout",
     "output_type": "stream",
     "text": [
      "Model saved\n",
      "713 10485504\n"
     ]
    },
    {
     "name": "stderr",
     "output_type": "stream",
     "text": [
      "24/04/23 22:35:40 WARN TaskSetManager: Stage 4372 contains a task of very large size (3196 KiB). The maximum recommended task size is 1000 KiB.\n",
      "24/04/23 22:35:41 WARN TaskSetManager: Stage 4376 contains a task of very large size (1281 KiB). The maximum recommended task size is 1000 KiB.\n"
     ]
    },
    {
     "name": "stdout",
     "output_type": "stream",
     "text": [
      "Model saved\n",
      "545 10485514\n"
     ]
    },
    {
     "name": "stderr",
     "output_type": "stream",
     "text": [
      "24/04/23 22:35:50 WARN TaskSetManager: Stage 4400 contains a task of very large size (3196 KiB). The maximum recommended task size is 1000 KiB.\n",
      "24/04/23 22:35:50 WARN TaskSetManager: Stage 4404 contains a task of very large size (1281 KiB). The maximum recommended task size is 1000 KiB.\n"
     ]
    },
    {
     "name": "stdout",
     "output_type": "stream",
     "text": [
      "Model saved\n",
      "430 10485422\n"
     ]
    },
    {
     "name": "stderr",
     "output_type": "stream",
     "text": [
      "24/04/23 22:35:59 WARN TaskSetManager: Stage 4428 contains a task of very large size (3196 KiB). The maximum recommended task size is 1000 KiB.\n",
      "24/04/23 22:36:00 WARN TaskSetManager: Stage 4432 contains a task of very large size (1281 KiB). The maximum recommended task size is 1000 KiB.\n"
     ]
    },
    {
     "name": "stdout",
     "output_type": "stream",
     "text": [
      "Model saved\n",
      "575 10485676\n"
     ]
    },
    {
     "name": "stderr",
     "output_type": "stream",
     "text": [
      "24/04/23 22:36:08 WARN TaskSetManager: Stage 4456 contains a task of very large size (3196 KiB). The maximum recommended task size is 1000 KiB.\n",
      "24/04/23 22:36:09 WARN TaskSetManager: Stage 4460 contains a task of very large size (1281 KiB). The maximum recommended task size is 1000 KiB.\n"
     ]
    },
    {
     "name": "stdout",
     "output_type": "stream",
     "text": [
      "Model saved\n",
      "317 10485582\n"
     ]
    },
    {
     "name": "stderr",
     "output_type": "stream",
     "text": [
      "24/04/23 22:36:19 WARN TaskSetManager: Stage 4484 contains a task of very large size (3196 KiB). The maximum recommended task size is 1000 KiB.\n",
      "24/04/23 22:36:19 WARN TaskSetManager: Stage 4488 contains a task of very large size (1281 KiB). The maximum recommended task size is 1000 KiB.\n"
     ]
    },
    {
     "name": "stdout",
     "output_type": "stream",
     "text": [
      "Model saved\n",
      "448 10485582\n"
     ]
    },
    {
     "name": "stderr",
     "output_type": "stream",
     "text": [
      "24/04/23 22:36:30 WARN TaskSetManager: Stage 4512 contains a task of very large size (3196 KiB). The maximum recommended task size is 1000 KiB.\n",
      "24/04/23 22:36:31 WARN TaskSetManager: Stage 4516 contains a task of very large size (1281 KiB). The maximum recommended task size is 1000 KiB.\n"
     ]
    },
    {
     "name": "stdout",
     "output_type": "stream",
     "text": [
      "Model saved\n",
      "4229 10483568\n"
     ]
    },
    {
     "name": "stderr",
     "output_type": "stream",
     "text": [
      "24/04/23 22:36:40 WARN TaskSetManager: Stage 4540 contains a task of very large size (3196 KiB). The maximum recommended task size is 1000 KiB.\n",
      "24/04/23 22:36:40 WARN TaskSetManager: Stage 4544 contains a task of very large size (1281 KiB). The maximum recommended task size is 1000 KiB.\n"
     ]
    },
    {
     "name": "stdout",
     "output_type": "stream",
     "text": [
      "Model saved\n",
      "1160 10485328\n"
     ]
    },
    {
     "name": "stderr",
     "output_type": "stream",
     "text": [
      "24/04/23 22:36:50 WARN TaskSetManager: Stage 4568 contains a task of very large size (3196 KiB). The maximum recommended task size is 1000 KiB.\n",
      "24/04/23 22:36:51 WARN TaskSetManager: Stage 4572 contains a task of very large size (1281 KiB). The maximum recommended task size is 1000 KiB.\n"
     ]
    },
    {
     "name": "stdout",
     "output_type": "stream",
     "text": [
      "Model saved\n",
      "318 10485741\n"
     ]
    },
    {
     "name": "stderr",
     "output_type": "stream",
     "text": [
      "24/04/23 22:37:00 WARN TaskSetManager: Stage 4596 contains a task of very large size (3196 KiB). The maximum recommended task size is 1000 KiB.\n",
      "24/04/23 22:37:00 WARN TaskSetManager: Stage 4600 contains a task of very large size (1281 KiB). The maximum recommended task size is 1000 KiB.\n",
      "                                                                                \r"
     ]
    },
    {
     "name": "stdout",
     "output_type": "stream",
     "text": [
      "Model saved\n",
      "429 10485666\n"
     ]
    },
    {
     "name": "stderr",
     "output_type": "stream",
     "text": [
      "24/04/23 22:37:10 WARN TaskSetManager: Stage 4624 contains a task of very large size (3196 KiB). The maximum recommended task size is 1000 KiB.\n",
      "24/04/23 22:37:11 WARN TaskSetManager: Stage 4628 contains a task of very large size (1281 KiB). The maximum recommended task size is 1000 KiB.\n"
     ]
    },
    {
     "name": "stdout",
     "output_type": "stream",
     "text": [
      "Model saved\n",
      "954 10484877\n"
     ]
    },
    {
     "name": "stderr",
     "output_type": "stream",
     "text": [
      "24/04/23 22:37:19 WARN TaskSetManager: Stage 4652 contains a task of very large size (3196 KiB). The maximum recommended task size is 1000 KiB.\n",
      "24/04/23 22:37:20 WARN TaskSetManager: Stage 4656 contains a task of very large size (1281 KiB). The maximum recommended task size is 1000 KiB.\n"
     ]
    },
    {
     "name": "stdout",
     "output_type": "stream",
     "text": [
      "Model saved\n",
      "502 10485613\n"
     ]
    },
    {
     "name": "stderr",
     "output_type": "stream",
     "text": [
      "24/04/23 22:37:29 WARN TaskSetManager: Stage 4680 contains a task of very large size (3196 KiB). The maximum recommended task size is 1000 KiB.\n",
      "24/04/23 22:37:29 WARN TaskSetManager: Stage 4684 contains a task of very large size (1281 KiB). The maximum recommended task size is 1000 KiB.\n"
     ]
    },
    {
     "name": "stdout",
     "output_type": "stream",
     "text": [
      "Model saved\n",
      "693 10485287\n"
     ]
    },
    {
     "name": "stderr",
     "output_type": "stream",
     "text": [
      "24/04/23 22:37:38 WARN TaskSetManager: Stage 4708 contains a task of very large size (3196 KiB). The maximum recommended task size is 1000 KiB.\n",
      "24/04/23 22:37:39 WARN TaskSetManager: Stage 4712 contains a task of very large size (1281 KiB). The maximum recommended task size is 1000 KiB.\n"
     ]
    },
    {
     "name": "stdout",
     "output_type": "stream",
     "text": [
      "Model saved\n",
      "547 10485696\n"
     ]
    },
    {
     "name": "stderr",
     "output_type": "stream",
     "text": [
      "24/04/23 22:37:48 WARN TaskSetManager: Stage 4736 contains a task of very large size (3196 KiB). The maximum recommended task size is 1000 KiB.\n",
      "24/04/23 22:37:49 WARN TaskSetManager: Stage 4740 contains a task of very large size (1281 KiB). The maximum recommended task size is 1000 KiB.\n"
     ]
    },
    {
     "name": "stdout",
     "output_type": "stream",
     "text": [
      "Model saved\n",
      "422 10485603\n"
     ]
    },
    {
     "name": "stderr",
     "output_type": "stream",
     "text": [
      "24/04/23 22:37:58 WARN TaskSetManager: Stage 4764 contains a task of very large size (3196 KiB). The maximum recommended task size is 1000 KiB.\n",
      "24/04/23 22:37:59 WARN TaskSetManager: Stage 4768 contains a task of very large size (1281 KiB). The maximum recommended task size is 1000 KiB.\n"
     ]
    },
    {
     "name": "stdout",
     "output_type": "stream",
     "text": [
      "Model saved\n",
      "726 10485460\n"
     ]
    },
    {
     "name": "stderr",
     "output_type": "stream",
     "text": [
      "24/04/23 22:38:08 WARN TaskSetManager: Stage 4792 contains a task of very large size (3196 KiB). The maximum recommended task size is 1000 KiB.\n",
      "24/04/23 22:38:09 WARN TaskSetManager: Stage 4796 contains a task of very large size (1281 KiB). The maximum recommended task size is 1000 KiB.\n"
     ]
    },
    {
     "name": "stdout",
     "output_type": "stream",
     "text": [
      "Model saved\n",
      "1226 10484989\n"
     ]
    },
    {
     "name": "stderr",
     "output_type": "stream",
     "text": [
      "24/04/23 22:38:17 WARN TaskSetManager: Stage 4820 contains a task of very large size (3196 KiB). The maximum recommended task size is 1000 KiB.\n",
      "24/04/23 22:38:17 WARN TaskSetManager: Stage 4824 contains a task of very large size (1281 KiB). The maximum recommended task size is 1000 KiB.\n"
     ]
    },
    {
     "name": "stdout",
     "output_type": "stream",
     "text": [
      "Model saved\n",
      "2043 10484726\n"
     ]
    },
    {
     "name": "stderr",
     "output_type": "stream",
     "text": [
      "24/04/23 22:38:25 WARN TaskSetManager: Stage 4848 contains a task of very large size (3196 KiB). The maximum recommended task size is 1000 KiB.\n",
      "24/04/23 22:38:26 WARN TaskSetManager: Stage 4852 contains a task of very large size (1281 KiB). The maximum recommended task size is 1000 KiB.\n"
     ]
    },
    {
     "name": "stdout",
     "output_type": "stream",
     "text": [
      "Model saved\n",
      "787 10485363\n"
     ]
    },
    {
     "name": "stderr",
     "output_type": "stream",
     "text": [
      "24/04/23 22:38:34 WARN TaskSetManager: Stage 4876 contains a task of very large size (3196 KiB). The maximum recommended task size is 1000 KiB.\n",
      "24/04/23 22:38:35 WARN TaskSetManager: Stage 4880 contains a task of very large size (1281 KiB). The maximum recommended task size is 1000 KiB.\n"
     ]
    },
    {
     "name": "stdout",
     "output_type": "stream",
     "text": [
      "Model saved\n",
      "442 10485558\n"
     ]
    },
    {
     "name": "stderr",
     "output_type": "stream",
     "text": [
      "24/04/23 22:38:44 WARN TaskSetManager: Stage 4904 contains a task of very large size (3196 KiB). The maximum recommended task size is 1000 KiB.\n",
      "24/04/23 22:38:45 WARN TaskSetManager: Stage 4908 contains a task of very large size (1281 KiB). The maximum recommended task size is 1000 KiB.\n"
     ]
    },
    {
     "name": "stdout",
     "output_type": "stream",
     "text": [
      "Model saved\n",
      "428 10485459\n"
     ]
    },
    {
     "name": "stderr",
     "output_type": "stream",
     "text": [
      "24/04/23 22:38:53 WARN TaskSetManager: Stage 4932 contains a task of very large size (3196 KiB). The maximum recommended task size is 1000 KiB.\n",
      "24/04/23 22:38:54 WARN TaskSetManager: Stage 4936 contains a task of very large size (1281 KiB). The maximum recommended task size is 1000 KiB.\n"
     ]
    },
    {
     "name": "stdout",
     "output_type": "stream",
     "text": [
      "Model saved\n",
      "755 10485718\n"
     ]
    },
    {
     "name": "stderr",
     "output_type": "stream",
     "text": [
      "24/04/23 22:39:02 WARN TaskSetManager: Stage 4960 contains a task of very large size (3196 KiB). The maximum recommended task size is 1000 KiB.\n",
      "24/04/23 22:39:02 WARN TaskSetManager: Stage 4964 contains a task of very large size (1281 KiB). The maximum recommended task size is 1000 KiB.\n"
     ]
    },
    {
     "name": "stdout",
     "output_type": "stream",
     "text": [
      "Model saved\n",
      "391 10485644\n"
     ]
    },
    {
     "name": "stderr",
     "output_type": "stream",
     "text": [
      "24/04/23 22:39:11 WARN TaskSetManager: Stage 4988 contains a task of very large size (3196 KiB). The maximum recommended task size is 1000 KiB.\n",
      "24/04/23 22:39:12 WARN TaskSetManager: Stage 4992 contains a task of very large size (1281 KiB). The maximum recommended task size is 1000 KiB.\n"
     ]
    },
    {
     "name": "stdout",
     "output_type": "stream",
     "text": [
      "Model saved\n",
      "351 10485503\n"
     ]
    },
    {
     "name": "stderr",
     "output_type": "stream",
     "text": [
      "24/04/23 22:39:20 WARN TaskSetManager: Stage 5016 contains a task of very large size (3196 KiB). The maximum recommended task size is 1000 KiB.\n",
      "24/04/23 22:39:21 WARN TaskSetManager: Stage 5020 contains a task of very large size (1281 KiB). The maximum recommended task size is 1000 KiB.\n"
     ]
    },
    {
     "name": "stdout",
     "output_type": "stream",
     "text": [
      "Model saved\n",
      "815 10485074\n"
     ]
    },
    {
     "name": "stderr",
     "output_type": "stream",
     "text": [
      "24/04/23 22:39:29 WARN TaskSetManager: Stage 5044 contains a task of very large size (3196 KiB). The maximum recommended task size is 1000 KiB.\n",
      "24/04/23 22:39:30 WARN TaskSetManager: Stage 5048 contains a task of very large size (1281 KiB). The maximum recommended task size is 1000 KiB.\n"
     ]
    },
    {
     "name": "stdout",
     "output_type": "stream",
     "text": [
      "Model saved\n",
      "1009 10485637\n"
     ]
    },
    {
     "name": "stderr",
     "output_type": "stream",
     "text": [
      "24/04/23 22:39:39 WARN TaskSetManager: Stage 5072 contains a task of very large size (3196 KiB). The maximum recommended task size is 1000 KiB.\n",
      "24/04/23 22:39:40 WARN TaskSetManager: Stage 5076 contains a task of very large size (1281 KiB). The maximum recommended task size is 1000 KiB.\n"
     ]
    },
    {
     "name": "stdout",
     "output_type": "stream",
     "text": [
      "Model saved\n",
      "739 10485317\n"
     ]
    },
    {
     "name": "stderr",
     "output_type": "stream",
     "text": [
      "24/04/23 22:39:48 WARN TaskSetManager: Stage 5100 contains a task of very large size (3196 KiB). The maximum recommended task size is 1000 KiB.\n",
      "24/04/23 22:39:49 WARN TaskSetManager: Stage 5104 contains a task of very large size (1281 KiB). The maximum recommended task size is 1000 KiB.\n"
     ]
    },
    {
     "name": "stdout",
     "output_type": "stream",
     "text": [
      "Model saved\n",
      "2266 10484002\n"
     ]
    },
    {
     "name": "stderr",
     "output_type": "stream",
     "text": [
      "24/04/23 22:39:59 WARN TaskSetManager: Stage 5128 contains a task of very large size (3196 KiB). The maximum recommended task size is 1000 KiB.\n",
      "24/04/23 22:40:00 WARN TaskSetManager: Stage 5132 contains a task of very large size (1281 KiB). The maximum recommended task size is 1000 KiB.\n"
     ]
    },
    {
     "name": "stdout",
     "output_type": "stream",
     "text": [
      "Model saved\n",
      "488 10485752\n"
     ]
    },
    {
     "name": "stderr",
     "output_type": "stream",
     "text": [
      "24/04/23 22:40:08 WARN TaskSetManager: Stage 5156 contains a task of very large size (3196 KiB). The maximum recommended task size is 1000 KiB.\n",
      "24/04/23 22:40:09 WARN TaskSetManager: Stage 5160 contains a task of very large size (1281 KiB). The maximum recommended task size is 1000 KiB.\n"
     ]
    },
    {
     "name": "stdout",
     "output_type": "stream",
     "text": [
      "Model saved\n",
      "426 10485720\n"
     ]
    },
    {
     "name": "stderr",
     "output_type": "stream",
     "text": [
      "24/04/23 22:40:17 WARN TaskSetManager: Stage 5184 contains a task of very large size (3196 KiB). The maximum recommended task size is 1000 KiB.\n",
      "24/04/23 22:40:17 WARN TaskSetManager: Stage 5188 contains a task of very large size (1281 KiB). The maximum recommended task size is 1000 KiB.\n"
     ]
    },
    {
     "name": "stdout",
     "output_type": "stream",
     "text": [
      "Model saved\n",
      "1311 10485149\n"
     ]
    },
    {
     "name": "stderr",
     "output_type": "stream",
     "text": [
      "24/04/23 22:40:25 WARN TaskSetManager: Stage 5212 contains a task of very large size (3196 KiB). The maximum recommended task size is 1000 KiB.\n",
      "24/04/23 22:40:26 WARN TaskSetManager: Stage 5216 contains a task of very large size (1281 KiB). The maximum recommended task size is 1000 KiB.\n"
     ]
    },
    {
     "name": "stdout",
     "output_type": "stream",
     "text": [
      "Model saved\n",
      "586 10485194\n"
     ]
    },
    {
     "name": "stderr",
     "output_type": "stream",
     "text": [
      "24/04/23 22:40:35 WARN TaskSetManager: Stage 5240 contains a task of very large size (3196 KiB). The maximum recommended task size is 1000 KiB.\n",
      "24/04/23 22:40:36 WARN TaskSetManager: Stage 5244 contains a task of very large size (1281 KiB). The maximum recommended task size is 1000 KiB.\n"
     ]
    },
    {
     "name": "stdout",
     "output_type": "stream",
     "text": [
      "Model saved\n",
      "860 10485659\n"
     ]
    },
    {
     "name": "stderr",
     "output_type": "stream",
     "text": [
      "24/04/23 22:40:46 WARN TaskSetManager: Stage 5268 contains a task of very large size (3196 KiB). The maximum recommended task size is 1000 KiB.\n",
      "24/04/23 22:40:46 WARN TaskSetManager: Stage 5272 contains a task of very large size (1281 KiB). The maximum recommended task size is 1000 KiB.\n"
     ]
    },
    {
     "name": "stdout",
     "output_type": "stream",
     "text": [
      "Model saved\n",
      "327 10485590\n"
     ]
    },
    {
     "name": "stderr",
     "output_type": "stream",
     "text": [
      "24/04/23 22:40:53 WARN TaskSetManager: Stage 5296 contains a task of very large size (3196 KiB). The maximum recommended task size is 1000 KiB.\n",
      "24/04/23 22:40:54 WARN TaskSetManager: Stage 5300 contains a task of very large size (1281 KiB). The maximum recommended task size is 1000 KiB.\n"
     ]
    },
    {
     "name": "stdout",
     "output_type": "stream",
     "text": [
      "Model saved\n",
      "312 10485573\n"
     ]
    },
    {
     "name": "stderr",
     "output_type": "stream",
     "text": [
      "24/04/23 22:41:01 WARN TaskSetManager: Stage 5324 contains a task of very large size (3196 KiB). The maximum recommended task size is 1000 KiB.\n",
      "24/04/23 22:41:02 WARN TaskSetManager: Stage 5328 contains a task of very large size (1281 KiB). The maximum recommended task size is 1000 KiB.\n"
     ]
    },
    {
     "name": "stdout",
     "output_type": "stream",
     "text": [
      "Model saved\n",
      "1053 10485096\n"
     ]
    },
    {
     "name": "stderr",
     "output_type": "stream",
     "text": [
      "24/04/23 22:41:10 WARN TaskSetManager: Stage 5352 contains a task of very large size (3196 KiB). The maximum recommended task size is 1000 KiB.\n",
      "24/04/23 22:41:11 WARN TaskSetManager: Stage 5356 contains a task of very large size (1281 KiB). The maximum recommended task size is 1000 KiB.\n"
     ]
    },
    {
     "name": "stdout",
     "output_type": "stream",
     "text": [
      "Model saved\n",
      "504 10485738\n"
     ]
    },
    {
     "name": "stderr",
     "output_type": "stream",
     "text": [
      "24/04/23 22:41:19 WARN TaskSetManager: Stage 5380 contains a task of very large size (3196 KiB). The maximum recommended task size is 1000 KiB.\n",
      "24/04/23 22:41:20 WARN TaskSetManager: Stage 5384 contains a task of very large size (1281 KiB). The maximum recommended task size is 1000 KiB.\n"
     ]
    },
    {
     "name": "stdout",
     "output_type": "stream",
     "text": [
      "Model saved\n",
      "709 10485433\n"
     ]
    },
    {
     "name": "stderr",
     "output_type": "stream",
     "text": [
      "24/04/23 22:41:29 WARN TaskSetManager: Stage 5408 contains a task of very large size (3196 KiB). The maximum recommended task size is 1000 KiB.\n",
      "24/04/23 22:41:30 WARN TaskSetManager: Stage 5412 contains a task of very large size (1281 KiB). The maximum recommended task size is 1000 KiB.\n"
     ]
    },
    {
     "name": "stdout",
     "output_type": "stream",
     "text": [
      "Model saved\n",
      "1654 10484603\n"
     ]
    },
    {
     "name": "stderr",
     "output_type": "stream",
     "text": [
      "24/04/23 22:41:38 WARN TaskSetManager: Stage 5436 contains a task of very large size (3196 KiB). The maximum recommended task size is 1000 KiB.\n",
      "24/04/23 22:41:39 WARN TaskSetManager: Stage 5440 contains a task of very large size (1281 KiB). The maximum recommended task size is 1000 KiB.\n"
     ]
    },
    {
     "name": "stdout",
     "output_type": "stream",
     "text": [
      "Model saved\n",
      "805 10485040\n"
     ]
    },
    {
     "name": "stderr",
     "output_type": "stream",
     "text": [
      "24/04/23 22:41:48 WARN TaskSetManager: Stage 5464 contains a task of very large size (3196 KiB). The maximum recommended task size is 1000 KiB.\n",
      "24/04/23 22:41:48 WARN TaskSetManager: Stage 5468 contains a task of very large size (1281 KiB). The maximum recommended task size is 1000 KiB.\n"
     ]
    },
    {
     "name": "stdout",
     "output_type": "stream",
     "text": [
      "Model saved\n",
      "2628 10485316\n"
     ]
    },
    {
     "name": "stderr",
     "output_type": "stream",
     "text": [
      "24/04/23 22:41:57 WARN TaskSetManager: Stage 5492 contains a task of very large size (3196 KiB). The maximum recommended task size is 1000 KiB.\n",
      "24/04/23 22:41:58 WARN TaskSetManager: Stage 5496 contains a task of very large size (1281 KiB). The maximum recommended task size is 1000 KiB.\n"
     ]
    },
    {
     "name": "stdout",
     "output_type": "stream",
     "text": [
      "Model saved\n",
      "678 10485712\n"
     ]
    },
    {
     "name": "stderr",
     "output_type": "stream",
     "text": [
      "24/04/23 22:42:06 WARN TaskSetManager: Stage 5520 contains a task of very large size (3196 KiB). The maximum recommended task size is 1000 KiB.\n",
      "24/04/23 22:42:06 WARN TaskSetManager: Stage 5524 contains a task of very large size (1281 KiB). The maximum recommended task size is 1000 KiB.\n"
     ]
    },
    {
     "name": "stdout",
     "output_type": "stream",
     "text": [
      "Model saved\n",
      "1208 10485399\n"
     ]
    },
    {
     "name": "stderr",
     "output_type": "stream",
     "text": [
      "24/04/23 22:42:14 WARN TaskSetManager: Stage 5548 contains a task of very large size (3196 KiB). The maximum recommended task size is 1000 KiB.\n",
      "24/04/23 22:42:15 WARN TaskSetManager: Stage 5552 contains a task of very large size (1281 KiB). The maximum recommended task size is 1000 KiB.\n"
     ]
    },
    {
     "name": "stdout",
     "output_type": "stream",
     "text": [
      "Model saved\n",
      "385 10485529\n"
     ]
    },
    {
     "name": "stderr",
     "output_type": "stream",
     "text": [
      "24/04/23 22:42:25 WARN TaskSetManager: Stage 5576 contains a task of very large size (3196 KiB). The maximum recommended task size is 1000 KiB.\n",
      "24/04/23 22:42:26 WARN TaskSetManager: Stage 5580 contains a task of very large size (1281 KiB). The maximum recommended task size is 1000 KiB.\n"
     ]
    },
    {
     "name": "stdout",
     "output_type": "stream",
     "text": [
      "Model saved\n",
      "1217 10485191\n"
     ]
    },
    {
     "name": "stderr",
     "output_type": "stream",
     "text": [
      "24/04/23 22:42:34 WARN TaskSetManager: Stage 5604 contains a task of very large size (3196 KiB). The maximum recommended task size is 1000 KiB.\n",
      "24/04/23 22:42:35 WARN TaskSetManager: Stage 5608 contains a task of very large size (1281 KiB). The maximum recommended task size is 1000 KiB.\n"
     ]
    },
    {
     "name": "stdout",
     "output_type": "stream",
     "text": [
      "Model saved\n",
      "810 10485436\n"
     ]
    },
    {
     "name": "stderr",
     "output_type": "stream",
     "text": [
      "24/04/23 22:42:42 WARN TaskSetManager: Stage 5632 contains a task of very large size (3196 KiB). The maximum recommended task size is 1000 KiB.\n",
      "24/04/23 22:42:43 WARN TaskSetManager: Stage 5636 contains a task of very large size (1281 KiB). The maximum recommended task size is 1000 KiB.\n"
     ]
    },
    {
     "name": "stdout",
     "output_type": "stream",
     "text": [
      "Model saved\n",
      "360 10485654\n"
     ]
    },
    {
     "name": "stderr",
     "output_type": "stream",
     "text": [
      "24/04/23 22:42:52 WARN TaskSetManager: Stage 5660 contains a task of very large size (3196 KiB). The maximum recommended task size is 1000 KiB.\n",
      "24/04/23 22:42:52 WARN TaskSetManager: Stage 5664 contains a task of very large size (1281 KiB). The maximum recommended task size is 1000 KiB.\n"
     ]
    },
    {
     "name": "stdout",
     "output_type": "stream",
     "text": [
      "Model saved\n",
      "478 10485724\n"
     ]
    },
    {
     "name": "stderr",
     "output_type": "stream",
     "text": [
      "24/04/23 22:43:02 WARN TaskSetManager: Stage 5688 contains a task of very large size (3196 KiB). The maximum recommended task size is 1000 KiB.\n",
      "24/04/23 22:43:03 WARN TaskSetManager: Stage 5692 contains a task of very large size (1281 KiB). The maximum recommended task size is 1000 KiB.\n"
     ]
    },
    {
     "name": "stdout",
     "output_type": "stream",
     "text": [
      "Model saved\n",
      "1634 10484981\n"
     ]
    },
    {
     "name": "stderr",
     "output_type": "stream",
     "text": [
      "24/04/23 22:43:11 WARN TaskSetManager: Stage 5716 contains a task of very large size (3196 KiB). The maximum recommended task size is 1000 KiB.\n",
      "24/04/23 22:43:12 WARN TaskSetManager: Stage 5720 contains a task of very large size (1281 KiB). The maximum recommended task size is 1000 KiB.\n"
     ]
    },
    {
     "name": "stdout",
     "output_type": "stream",
     "text": [
      "Model saved\n",
      "622 10485723\n"
     ]
    },
    {
     "name": "stderr",
     "output_type": "stream",
     "text": [
      "24/04/23 22:43:20 WARN TaskSetManager: Stage 5744 contains a task of very large size (3196 KiB). The maximum recommended task size is 1000 KiB.\n",
      "24/04/23 22:43:20 WARN TaskSetManager: Stage 5748 contains a task of very large size (1281 KiB). The maximum recommended task size is 1000 KiB.\n"
     ]
    },
    {
     "name": "stdout",
     "output_type": "stream",
     "text": [
      "Model saved\n",
      "337 10485603\n"
     ]
    },
    {
     "name": "stderr",
     "output_type": "stream",
     "text": [
      "24/04/23 22:43:29 WARN TaskSetManager: Stage 5772 contains a task of very large size (3196 KiB). The maximum recommended task size is 1000 KiB.\n",
      "24/04/23 22:43:30 WARN TaskSetManager: Stage 5776 contains a task of very large size (1281 KiB). The maximum recommended task size is 1000 KiB.\n"
     ]
    },
    {
     "name": "stdout",
     "output_type": "stream",
     "text": [
      "Model saved\n",
      "487 10485288\n"
     ]
    },
    {
     "name": "stderr",
     "output_type": "stream",
     "text": [
      "24/04/23 22:43:39 WARN TaskSetManager: Stage 5800 contains a task of very large size (3196 KiB). The maximum recommended task size is 1000 KiB.\n",
      "24/04/23 22:43:40 WARN TaskSetManager: Stage 5804 contains a task of very large size (1281 KiB). The maximum recommended task size is 1000 KiB.\n"
     ]
    },
    {
     "name": "stdout",
     "output_type": "stream",
     "text": [
      "Model saved\n",
      "951 10485551\n"
     ]
    },
    {
     "name": "stderr",
     "output_type": "stream",
     "text": [
      "24/04/23 22:43:48 WARN TaskSetManager: Stage 5828 contains a task of very large size (3196 KiB). The maximum recommended task size is 1000 KiB.\n",
      "24/04/23 22:43:48 WARN TaskSetManager: Stage 5832 contains a task of very large size (1281 KiB). The maximum recommended task size is 1000 KiB.\n"
     ]
    },
    {
     "name": "stdout",
     "output_type": "stream",
     "text": [
      "Model saved\n",
      "418 10485591\n"
     ]
    },
    {
     "name": "stderr",
     "output_type": "stream",
     "text": [
      "24/04/23 22:43:56 WARN TaskSetManager: Stage 5856 contains a task of very large size (3196 KiB). The maximum recommended task size is 1000 KiB.\n",
      "24/04/23 22:43:57 WARN TaskSetManager: Stage 5860 contains a task of very large size (1281 KiB). The maximum recommended task size is 1000 KiB.\n"
     ]
    },
    {
     "name": "stdout",
     "output_type": "stream",
     "text": [
      "Model saved\n",
      "1265 10484706\n"
     ]
    },
    {
     "name": "stderr",
     "output_type": "stream",
     "text": [
      "24/04/23 22:44:06 WARN TaskSetManager: Stage 5884 contains a task of very large size (3196 KiB). The maximum recommended task size is 1000 KiB.\n",
      "24/04/23 22:44:07 WARN TaskSetManager: Stage 5888 contains a task of very large size (1281 KiB). The maximum recommended task size is 1000 KiB.\n"
     ]
    },
    {
     "name": "stdout",
     "output_type": "stream",
     "text": [
      "Model saved\n",
      "3551 10482571\n"
     ]
    },
    {
     "name": "stderr",
     "output_type": "stream",
     "text": [
      "24/04/23 22:44:15 WARN TaskSetManager: Stage 5912 contains a task of very large size (3196 KiB). The maximum recommended task size is 1000 KiB.\n",
      "24/04/23 22:44:15 WARN TaskSetManager: Stage 5916 contains a task of very large size (1281 KiB). The maximum recommended task size is 1000 KiB.\n",
      "                                                                                \r"
     ]
    },
    {
     "name": "stdout",
     "output_type": "stream",
     "text": [
      "Model saved\n",
      "1668 10484723\n"
     ]
    },
    {
     "name": "stderr",
     "output_type": "stream",
     "text": [
      "24/04/23 22:44:24 WARN TaskSetManager: Stage 5940 contains a task of very large size (3196 KiB). The maximum recommended task size is 1000 KiB.\n",
      "24/04/23 22:44:24 WARN TaskSetManager: Stage 5944 contains a task of very large size (1281 KiB). The maximum recommended task size is 1000 KiB.\n"
     ]
    },
    {
     "name": "stdout",
     "output_type": "stream",
     "text": [
      "Model saved\n",
      "553 10485746\n"
     ]
    },
    {
     "name": "stderr",
     "output_type": "stream",
     "text": [
      "24/04/23 22:44:33 WARN TaskSetManager: Stage 5968 contains a task of very large size (3196 KiB). The maximum recommended task size is 1000 KiB.\n",
      "24/04/23 22:44:34 WARN TaskSetManager: Stage 5972 contains a task of very large size (1281 KiB). The maximum recommended task size is 1000 KiB.\n"
     ]
    },
    {
     "name": "stdout",
     "output_type": "stream",
     "text": [
      "Model saved\n",
      "386 10485427\n"
     ]
    },
    {
     "name": "stderr",
     "output_type": "stream",
     "text": [
      "24/04/23 22:44:43 WARN TaskSetManager: Stage 5996 contains a task of very large size (3196 KiB). The maximum recommended task size is 1000 KiB.\n",
      "24/04/23 22:44:44 WARN TaskSetManager: Stage 6000 contains a task of very large size (1281 KiB). The maximum recommended task size is 1000 KiB.\n"
     ]
    },
    {
     "name": "stdout",
     "output_type": "stream",
     "text": [
      "Model saved\n",
      "455 10485556\n"
     ]
    },
    {
     "name": "stderr",
     "output_type": "stream",
     "text": [
      "24/04/23 22:44:52 WARN TaskSetManager: Stage 6024 contains a task of very large size (3196 KiB). The maximum recommended task size is 1000 KiB.\n",
      "24/04/23 22:44:52 WARN TaskSetManager: Stage 6028 contains a task of very large size (1281 KiB). The maximum recommended task size is 1000 KiB.\n"
     ]
    },
    {
     "name": "stdout",
     "output_type": "stream",
     "text": [
      "Model saved\n",
      "659 10485612\n"
     ]
    },
    {
     "name": "stderr",
     "output_type": "stream",
     "text": [
      "24/04/23 22:45:00 WARN TaskSetManager: Stage 6052 contains a task of very large size (3196 KiB). The maximum recommended task size is 1000 KiB.\n",
      "24/04/23 22:45:01 WARN TaskSetManager: Stage 6056 contains a task of very large size (1281 KiB). The maximum recommended task size is 1000 KiB.\n"
     ]
    },
    {
     "name": "stdout",
     "output_type": "stream",
     "text": [
      "Model saved\n",
      "499 10485516\n"
     ]
    },
    {
     "name": "stderr",
     "output_type": "stream",
     "text": [
      "24/04/23 22:45:10 WARN TaskSetManager: Stage 6080 contains a task of very large size (3196 KiB). The maximum recommended task size is 1000 KiB.\n",
      "24/04/23 22:45:11 WARN TaskSetManager: Stage 6084 contains a task of very large size (1281 KiB). The maximum recommended task size is 1000 KiB.\n"
     ]
    },
    {
     "name": "stdout",
     "output_type": "stream",
     "text": [
      "Model saved\n",
      "574 10485256\n"
     ]
    },
    {
     "name": "stderr",
     "output_type": "stream",
     "text": [
      "24/04/23 22:45:20 WARN TaskSetManager: Stage 6108 contains a task of very large size (3196 KiB). The maximum recommended task size is 1000 KiB.\n",
      "24/04/23 22:45:21 WARN TaskSetManager: Stage 6112 contains a task of very large size (1281 KiB). The maximum recommended task size is 1000 KiB.\n"
     ]
    },
    {
     "name": "stdout",
     "output_type": "stream",
     "text": [
      "Model saved\n",
      "502 10485500\n"
     ]
    },
    {
     "name": "stderr",
     "output_type": "stream",
     "text": [
      "24/04/23 22:45:30 WARN TaskSetManager: Stage 6136 contains a task of very large size (3196 KiB). The maximum recommended task size is 1000 KiB.\n",
      "24/04/23 22:45:31 WARN TaskSetManager: Stage 6140 contains a task of very large size (1281 KiB). The maximum recommended task size is 1000 KiB.\n"
     ]
    },
    {
     "name": "stdout",
     "output_type": "stream",
     "text": [
      "Model saved\n",
      "941 10484964\n"
     ]
    },
    {
     "name": "stderr",
     "output_type": "stream",
     "text": [
      "24/04/23 22:45:39 WARN TaskSetManager: Stage 6164 contains a task of very large size (3196 KiB). The maximum recommended task size is 1000 KiB.\n",
      "24/04/23 22:45:40 WARN TaskSetManager: Stage 6168 contains a task of very large size (1281 KiB). The maximum recommended task size is 1000 KiB.\n"
     ]
    },
    {
     "name": "stdout",
     "output_type": "stream",
     "text": [
      "Model saved\n",
      "458 10485337\n"
     ]
    },
    {
     "name": "stderr",
     "output_type": "stream",
     "text": [
      "24/04/23 22:45:49 WARN TaskSetManager: Stage 6192 contains a task of very large size (3196 KiB). The maximum recommended task size is 1000 KiB.\n",
      "24/04/23 22:45:49 WARN TaskSetManager: Stage 6196 contains a task of very large size (1281 KiB). The maximum recommended task size is 1000 KiB.\n"
     ]
    },
    {
     "name": "stdout",
     "output_type": "stream",
     "text": [
      "Model saved\n",
      "379 10485494\n"
     ]
    },
    {
     "name": "stderr",
     "output_type": "stream",
     "text": [
      "24/04/23 22:45:59 WARN TaskSetManager: Stage 6220 contains a task of very large size (3196 KiB). The maximum recommended task size is 1000 KiB.\n",
      "24/04/23 22:45:59 WARN TaskSetManager: Stage 6224 contains a task of very large size (1281 KiB). The maximum recommended task size is 1000 KiB.\n"
     ]
    },
    {
     "name": "stdout",
     "output_type": "stream",
     "text": [
      "Model saved\n",
      "690 10485236\n"
     ]
    },
    {
     "name": "stderr",
     "output_type": "stream",
     "text": [
      "24/04/23 22:46:08 WARN TaskSetManager: Stage 6248 contains a task of very large size (3196 KiB). The maximum recommended task size is 1000 KiB.\n",
      "24/04/23 22:46:08 WARN TaskSetManager: Stage 6252 contains a task of very large size (1281 KiB). The maximum recommended task size is 1000 KiB.\n"
     ]
    },
    {
     "name": "stdout",
     "output_type": "stream",
     "text": [
      "Model saved\n",
      "524 10485244\n"
     ]
    },
    {
     "name": "stderr",
     "output_type": "stream",
     "text": [
      "24/04/23 22:46:16 WARN TaskSetManager: Stage 6276 contains a task of very large size (3196 KiB). The maximum recommended task size is 1000 KiB.\n",
      "24/04/23 22:46:16 WARN TaskSetManager: Stage 6280 contains a task of very large size (1281 KiB). The maximum recommended task size is 1000 KiB.\n"
     ]
    },
    {
     "name": "stdout",
     "output_type": "stream",
     "text": [
      "Model saved\n",
      "777 10485693\n"
     ]
    },
    {
     "name": "stderr",
     "output_type": "stream",
     "text": [
      "24/04/23 22:46:25 WARN TaskSetManager: Stage 6304 contains a task of very large size (3196 KiB). The maximum recommended task size is 1000 KiB.\n",
      "24/04/23 22:46:26 WARN TaskSetManager: Stage 6308 contains a task of very large size (1281 KiB). The maximum recommended task size is 1000 KiB.\n"
     ]
    },
    {
     "name": "stdout",
     "output_type": "stream",
     "text": [
      "Model saved\n",
      "1171 10485633\n"
     ]
    },
    {
     "name": "stderr",
     "output_type": "stream",
     "text": [
      "24/04/23 22:46:33 WARN TaskSetManager: Stage 6332 contains a task of very large size (3196 KiB). The maximum recommended task size is 1000 KiB.\n",
      "24/04/23 22:46:34 WARN TaskSetManager: Stage 6336 contains a task of very large size (1281 KiB). The maximum recommended task size is 1000 KiB.\n"
     ]
    },
    {
     "name": "stdout",
     "output_type": "stream",
     "text": [
      "Model saved\n",
      "653 10485125\n"
     ]
    },
    {
     "name": "stderr",
     "output_type": "stream",
     "text": [
      "24/04/23 22:46:43 WARN TaskSetManager: Stage 6360 contains a task of very large size (3196 KiB). The maximum recommended task size is 1000 KiB.\n",
      "24/04/23 22:46:44 WARN TaskSetManager: Stage 6364 contains a task of very large size (1281 KiB). The maximum recommended task size is 1000 KiB.\n"
     ]
    },
    {
     "name": "stdout",
     "output_type": "stream",
     "text": [
      "Model saved\n",
      "429 10485498\n"
     ]
    },
    {
     "name": "stderr",
     "output_type": "stream",
     "text": [
      "24/04/23 22:46:53 WARN TaskSetManager: Stage 6388 contains a task of very large size (3196 KiB). The maximum recommended task size is 1000 KiB.\n",
      "24/04/23 22:46:53 WARN TaskSetManager: Stage 6392 contains a task of very large size (1281 KiB). The maximum recommended task size is 1000 KiB.\n"
     ]
    },
    {
     "name": "stdout",
     "output_type": "stream",
     "text": [
      "Model saved\n",
      "1665 10485422\n"
     ]
    },
    {
     "name": "stderr",
     "output_type": "stream",
     "text": [
      "24/04/23 22:47:02 WARN TaskSetManager: Stage 6416 contains a task of very large size (3196 KiB). The maximum recommended task size is 1000 KiB.\n",
      "24/04/23 22:47:03 WARN TaskSetManager: Stage 6420 contains a task of very large size (1281 KiB). The maximum recommended task size is 1000 KiB.\n"
     ]
    },
    {
     "name": "stdout",
     "output_type": "stream",
     "text": [
      "Model saved\n",
      "672 10485725\n"
     ]
    },
    {
     "name": "stderr",
     "output_type": "stream",
     "text": [
      "24/04/23 22:47:10 WARN TaskSetManager: Stage 6444 contains a task of very large size (3196 KiB). The maximum recommended task size is 1000 KiB.\n",
      "24/04/23 22:47:11 WARN TaskSetManager: Stage 6448 contains a task of very large size (1281 KiB). The maximum recommended task size is 1000 KiB.\n"
     ]
    },
    {
     "name": "stdout",
     "output_type": "stream",
     "text": [
      "Model saved\n",
      "1097 10485721\n"
     ]
    },
    {
     "name": "stderr",
     "output_type": "stream",
     "text": [
      "24/04/23 22:47:20 WARN TaskSetManager: Stage 6472 contains a task of very large size (3196 KiB). The maximum recommended task size is 1000 KiB.\n",
      "24/04/23 22:47:20 WARN TaskSetManager: Stage 6476 contains a task of very large size (1281 KiB). The maximum recommended task size is 1000 KiB.\n"
     ]
    },
    {
     "name": "stdout",
     "output_type": "stream",
     "text": [
      "Model saved\n",
      "404 10485460\n"
     ]
    },
    {
     "name": "stderr",
     "output_type": "stream",
     "text": [
      "24/04/23 22:47:28 WARN TaskSetManager: Stage 6500 contains a task of very large size (3196 KiB). The maximum recommended task size is 1000 KiB.\n",
      "24/04/23 22:47:29 WARN TaskSetManager: Stage 6504 contains a task of very large size (1281 KiB). The maximum recommended task size is 1000 KiB.\n"
     ]
    },
    {
     "name": "stdout",
     "output_type": "stream",
     "text": [
      "Model saved\n",
      "820 10485282\n"
     ]
    },
    {
     "name": "stderr",
     "output_type": "stream",
     "text": [
      "24/04/23 22:47:37 WARN TaskSetManager: Stage 6528 contains a task of very large size (3196 KiB). The maximum recommended task size is 1000 KiB.\n",
      "24/04/23 22:47:38 WARN TaskSetManager: Stage 6532 contains a task of very large size (1281 KiB). The maximum recommended task size is 1000 KiB.\n"
     ]
    },
    {
     "name": "stdout",
     "output_type": "stream",
     "text": [
      "Model saved\n",
      "330 10485643\n"
     ]
    },
    {
     "name": "stderr",
     "output_type": "stream",
     "text": [
      "24/04/23 22:47:46 WARN TaskSetManager: Stage 6556 contains a task of very large size (3196 KiB). The maximum recommended task size is 1000 KiB.\n",
      "24/04/23 22:47:47 WARN TaskSetManager: Stage 6560 contains a task of very large size (1281 KiB). The maximum recommended task size is 1000 KiB.\n"
     ]
    },
    {
     "name": "stdout",
     "output_type": "stream",
     "text": [
      "Model saved\n",
      "1221 10485537\n"
     ]
    },
    {
     "name": "stderr",
     "output_type": "stream",
     "text": [
      "24/04/23 22:47:56 WARN TaskSetManager: Stage 6584 contains a task of very large size (3196 KiB). The maximum recommended task size is 1000 KiB.\n",
      "24/04/23 22:47:57 WARN TaskSetManager: Stage 6588 contains a task of very large size (1281 KiB). The maximum recommended task size is 1000 KiB.\n"
     ]
    },
    {
     "name": "stdout",
     "output_type": "stream",
     "text": [
      "Model saved\n",
      "1076 10484867\n"
     ]
    },
    {
     "name": "stderr",
     "output_type": "stream",
     "text": [
      "24/04/23 22:48:06 WARN TaskSetManager: Stage 6612 contains a task of very large size (3196 KiB). The maximum recommended task size is 1000 KiB.\n",
      "24/04/23 22:48:06 WARN TaskSetManager: Stage 6616 contains a task of very large size (1281 KiB). The maximum recommended task size is 1000 KiB.\n"
     ]
    },
    {
     "name": "stdout",
     "output_type": "stream",
     "text": [
      "Model saved\n",
      "427 10485425\n"
     ]
    },
    {
     "name": "stderr",
     "output_type": "stream",
     "text": [
      "24/04/23 22:48:15 WARN TaskSetManager: Stage 6640 contains a task of very large size (3196 KiB). The maximum recommended task size is 1000 KiB.\n",
      "24/04/23 22:48:16 WARN TaskSetManager: Stage 6644 contains a task of very large size (1281 KiB). The maximum recommended task size is 1000 KiB.\n"
     ]
    },
    {
     "name": "stdout",
     "output_type": "stream",
     "text": [
      "Model saved\n",
      "343 10485591\n"
     ]
    },
    {
     "name": "stderr",
     "output_type": "stream",
     "text": [
      "24/04/23 22:48:24 WARN TaskSetManager: Stage 6668 contains a task of very large size (3196 KiB). The maximum recommended task size is 1000 KiB.\n",
      "24/04/23 22:48:25 WARN TaskSetManager: Stage 6672 contains a task of very large size (1281 KiB). The maximum recommended task size is 1000 KiB.\n"
     ]
    },
    {
     "name": "stdout",
     "output_type": "stream",
     "text": [
      "Model saved\n",
      "2400 10485627\n"
     ]
    },
    {
     "name": "stderr",
     "output_type": "stream",
     "text": [
      "24/04/23 22:48:34 WARN TaskSetManager: Stage 6696 contains a task of very large size (3196 KiB). The maximum recommended task size is 1000 KiB.\n",
      "24/04/23 22:48:34 WARN TaskSetManager: Stage 6700 contains a task of very large size (1281 KiB). The maximum recommended task size is 1000 KiB.\n"
     ]
    },
    {
     "name": "stdout",
     "output_type": "stream",
     "text": [
      "Model saved\n",
      "456 10485703\n"
     ]
    },
    {
     "name": "stderr",
     "output_type": "stream",
     "text": [
      "24/04/23 22:48:42 WARN TaskSetManager: Stage 6724 contains a task of very large size (3196 KiB). The maximum recommended task size is 1000 KiB.\n",
      "24/04/23 22:48:43 WARN TaskSetManager: Stage 6728 contains a task of very large size (1281 KiB). The maximum recommended task size is 1000 KiB.\n"
     ]
    },
    {
     "name": "stdout",
     "output_type": "stream",
     "text": [
      "Model saved\n",
      "779 10485026\n"
     ]
    },
    {
     "name": "stderr",
     "output_type": "stream",
     "text": [
      "24/04/23 22:48:50 WARN TaskSetManager: Stage 6752 contains a task of very large size (3196 KiB). The maximum recommended task size is 1000 KiB.\n",
      "24/04/23 22:48:51 WARN TaskSetManager: Stage 6756 contains a task of very large size (1281 KiB). The maximum recommended task size is 1000 KiB.\n"
     ]
    },
    {
     "name": "stdout",
     "output_type": "stream",
     "text": [
      "Model saved\n",
      "508 10485377\n"
     ]
    },
    {
     "name": "stderr",
     "output_type": "stream",
     "text": [
      "24/04/23 22:49:00 WARN TaskSetManager: Stage 6780 contains a task of very large size (3196 KiB). The maximum recommended task size is 1000 KiB.\n",
      "24/04/23 22:49:01 WARN TaskSetManager: Stage 6784 contains a task of very large size (1281 KiB). The maximum recommended task size is 1000 KiB.\n"
     ]
    },
    {
     "name": "stdout",
     "output_type": "stream",
     "text": [
      "Model saved\n",
      "2754 10485689\n"
     ]
    },
    {
     "name": "stderr",
     "output_type": "stream",
     "text": [
      "24/04/23 22:49:10 WARN TaskSetManager: Stage 6808 contains a task of very large size (3196 KiB). The maximum recommended task size is 1000 KiB.\n",
      "24/04/23 22:49:11 WARN TaskSetManager: Stage 6812 contains a task of very large size (1281 KiB). The maximum recommended task size is 1000 KiB.\n"
     ]
    },
    {
     "name": "stdout",
     "output_type": "stream",
     "text": [
      "Model saved\n",
      "374 10485636\n"
     ]
    },
    {
     "name": "stderr",
     "output_type": "stream",
     "text": [
      "24/04/23 22:49:20 WARN TaskSetManager: Stage 6836 contains a task of very large size (3196 KiB). The maximum recommended task size is 1000 KiB.\n",
      "24/04/23 22:49:20 WARN TaskSetManager: Stage 6840 contains a task of very large size (1281 KiB). The maximum recommended task size is 1000 KiB.\n"
     ]
    },
    {
     "name": "stdout",
     "output_type": "stream",
     "text": [
      "Model saved\n",
      "569 10485732\n"
     ]
    },
    {
     "name": "stderr",
     "output_type": "stream",
     "text": [
      "24/04/23 22:49:28 WARN TaskSetManager: Stage 6864 contains a task of very large size (3196 KiB). The maximum recommended task size is 1000 KiB.\n",
      "24/04/23 22:49:29 WARN TaskSetManager: Stage 6868 contains a task of very large size (1281 KiB). The maximum recommended task size is 1000 KiB.\n"
     ]
    },
    {
     "name": "stdout",
     "output_type": "stream",
     "text": [
      "Model saved\n",
      "665 10485299\n"
     ]
    },
    {
     "name": "stderr",
     "output_type": "stream",
     "text": [
      "24/04/23 22:49:37 WARN TaskSetManager: Stage 6892 contains a task of very large size (3196 KiB). The maximum recommended task size is 1000 KiB.\n",
      "24/04/23 22:49:38 WARN TaskSetManager: Stage 6896 contains a task of very large size (1281 KiB). The maximum recommended task size is 1000 KiB.\n"
     ]
    },
    {
     "name": "stdout",
     "output_type": "stream",
     "text": [
      "Model saved\n",
      "495 10485312\n"
     ]
    },
    {
     "name": "stderr",
     "output_type": "stream",
     "text": [
      "24/04/23 22:49:47 WARN TaskSetManager: Stage 6920 contains a task of very large size (3196 KiB). The maximum recommended task size is 1000 KiB.\n",
      "24/04/23 22:49:48 WARN TaskSetManager: Stage 6924 contains a task of very large size (1281 KiB). The maximum recommended task size is 1000 KiB.\n"
     ]
    },
    {
     "name": "stdout",
     "output_type": "stream",
     "text": [
      "Model saved\n",
      "2004 10484453\n"
     ]
    },
    {
     "name": "stderr",
     "output_type": "stream",
     "text": [
      "24/04/23 22:49:56 WARN TaskSetManager: Stage 6948 contains a task of very large size (3196 KiB). The maximum recommended task size is 1000 KiB.\n",
      "24/04/23 22:49:56 WARN TaskSetManager: Stage 6952 contains a task of very large size (1281 KiB). The maximum recommended task size is 1000 KiB.\n"
     ]
    },
    {
     "name": "stdout",
     "output_type": "stream",
     "text": [
      "Model saved\n",
      "1141 10485438\n"
     ]
    },
    {
     "name": "stderr",
     "output_type": "stream",
     "text": [
      "24/04/23 22:50:05 WARN TaskSetManager: Stage 6976 contains a task of very large size (3196 KiB). The maximum recommended task size is 1000 KiB.\n",
      "24/04/23 22:50:05 WARN TaskSetManager: Stage 6980 contains a task of very large size (1281 KiB). The maximum recommended task size is 1000 KiB.\n"
     ]
    },
    {
     "name": "stdout",
     "output_type": "stream",
     "text": [
      "Model saved\n",
      "317 10485577\n"
     ]
    },
    {
     "name": "stderr",
     "output_type": "stream",
     "text": [
      "24/04/23 22:50:15 WARN TaskSetManager: Stage 7004 contains a task of very large size (3196 KiB). The maximum recommended task size is 1000 KiB.\n",
      "24/04/23 22:50:15 WARN TaskSetManager: Stage 7008 contains a task of very large size (1281 KiB). The maximum recommended task size is 1000 KiB.\n"
     ]
    },
    {
     "name": "stdout",
     "output_type": "stream",
     "text": [
      "Model saved\n",
      "1509 10485336\n"
     ]
    },
    {
     "name": "stderr",
     "output_type": "stream",
     "text": [
      "24/04/23 22:50:25 WARN TaskSetManager: Stage 7032 contains a task of very large size (3196 KiB). The maximum recommended task size is 1000 KiB.\n",
      "24/04/23 22:50:26 WARN TaskSetManager: Stage 7036 contains a task of very large size (1281 KiB). The maximum recommended task size is 1000 KiB.\n"
     ]
    },
    {
     "name": "stdout",
     "output_type": "stream",
     "text": [
      "Model saved\n",
      "581 10485229\n"
     ]
    },
    {
     "name": "stderr",
     "output_type": "stream",
     "text": [
      "24/04/23 22:50:34 WARN TaskSetManager: Stage 7060 contains a task of very large size (3196 KiB). The maximum recommended task size is 1000 KiB.\n",
      "24/04/23 22:50:35 WARN TaskSetManager: Stage 7064 contains a task of very large size (1281 KiB). The maximum recommended task size is 1000 KiB.\n"
     ]
    },
    {
     "name": "stdout",
     "output_type": "stream",
     "text": [
      "Model saved\n",
      "1566 10485113\n"
     ]
    },
    {
     "name": "stderr",
     "output_type": "stream",
     "text": [
      "24/04/23 22:50:44 WARN TaskSetManager: Stage 7088 contains a task of very large size (3196 KiB). The maximum recommended task size is 1000 KiB.\n",
      "24/04/23 22:50:45 WARN TaskSetManager: Stage 7092 contains a task of very large size (1281 KiB). The maximum recommended task size is 1000 KiB.\n"
     ]
    },
    {
     "name": "stdout",
     "output_type": "stream",
     "text": [
      "Model saved\n",
      "337 10485566\n"
     ]
    },
    {
     "name": "stderr",
     "output_type": "stream",
     "text": [
      "24/04/23 22:50:55 WARN TaskSetManager: Stage 7116 contains a task of very large size (3196 KiB). The maximum recommended task size is 1000 KiB.\n",
      "24/04/23 22:50:56 WARN TaskSetManager: Stage 7120 contains a task of very large size (1281 KiB). The maximum recommended task size is 1000 KiB.\n"
     ]
    },
    {
     "name": "stdout",
     "output_type": "stream",
     "text": [
      "Model saved\n",
      "812 10485554\n"
     ]
    },
    {
     "name": "stderr",
     "output_type": "stream",
     "text": [
      "24/04/23 22:51:04 WARN TaskSetManager: Stage 7144 contains a task of very large size (3196 KiB). The maximum recommended task size is 1000 KiB.\n",
      "24/04/23 22:51:05 WARN TaskSetManager: Stage 7148 contains a task of very large size (1281 KiB). The maximum recommended task size is 1000 KiB.\n"
     ]
    },
    {
     "name": "stdout",
     "output_type": "stream",
     "text": [
      "Model saved\n",
      "725 10485748\n"
     ]
    },
    {
     "name": "stderr",
     "output_type": "stream",
     "text": [
      "24/04/23 22:51:14 WARN TaskSetManager: Stage 7172 contains a task of very large size (3196 KiB). The maximum recommended task size is 1000 KiB.\n",
      "24/04/23 22:51:15 WARN TaskSetManager: Stage 7176 contains a task of very large size (1281 KiB). The maximum recommended task size is 1000 KiB.\n"
     ]
    },
    {
     "name": "stdout",
     "output_type": "stream",
     "text": [
      "Model saved\n",
      "282 10485585\n"
     ]
    },
    {
     "name": "stderr",
     "output_type": "stream",
     "text": [
      "24/04/23 22:51:23 WARN TaskSetManager: Stage 7200 contains a task of very large size (3196 KiB). The maximum recommended task size is 1000 KiB.\n",
      "24/04/23 22:51:24 WARN TaskSetManager: Stage 7204 contains a task of very large size (1281 KiB). The maximum recommended task size is 1000 KiB.\n"
     ]
    },
    {
     "name": "stdout",
     "output_type": "stream",
     "text": [
      "Model saved\n",
      "672 10485624\n"
     ]
    },
    {
     "name": "stderr",
     "output_type": "stream",
     "text": [
      "24/04/23 22:51:33 WARN TaskSetManager: Stage 7228 contains a task of very large size (3196 KiB). The maximum recommended task size is 1000 KiB.\n",
      "24/04/23 22:51:34 WARN TaskSetManager: Stage 7232 contains a task of very large size (1281 KiB). The maximum recommended task size is 1000 KiB.\n"
     ]
    },
    {
     "name": "stdout",
     "output_type": "stream",
     "text": [
      "Model saved\n",
      "1012 10485070\n"
     ]
    },
    {
     "name": "stderr",
     "output_type": "stream",
     "text": [
      "24/04/23 22:51:43 WARN TaskSetManager: Stage 7256 contains a task of very large size (3196 KiB). The maximum recommended task size is 1000 KiB.\n",
      "24/04/23 22:51:44 WARN TaskSetManager: Stage 7260 contains a task of very large size (1281 KiB). The maximum recommended task size is 1000 KiB.\n"
     ]
    },
    {
     "name": "stdout",
     "output_type": "stream",
     "text": [
      "Model saved\n",
      "1922 10485524\n"
     ]
    },
    {
     "name": "stderr",
     "output_type": "stream",
     "text": [
      "24/04/23 22:51:54 WARN TaskSetManager: Stage 7284 contains a task of very large size (3196 KiB). The maximum recommended task size is 1000 KiB.\n",
      "24/04/23 22:51:55 WARN TaskSetManager: Stage 7288 contains a task of very large size (1281 KiB). The maximum recommended task size is 1000 KiB.\n"
     ]
    },
    {
     "name": "stdout",
     "output_type": "stream",
     "text": [
      "Model saved\n",
      "283 10485562\n"
     ]
    },
    {
     "name": "stderr",
     "output_type": "stream",
     "text": [
      "24/04/23 22:52:04 WARN TaskSetManager: Stage 7312 contains a task of very large size (3196 KiB). The maximum recommended task size is 1000 KiB.\n",
      "24/04/23 22:52:04 WARN TaskSetManager: Stage 7316 contains a task of very large size (1281 KiB). The maximum recommended task size is 1000 KiB.\n"
     ]
    },
    {
     "name": "stdout",
     "output_type": "stream",
     "text": [
      "Model saved\n",
      "379 10485685\n"
     ]
    },
    {
     "name": "stderr",
     "output_type": "stream",
     "text": [
      "24/04/23 22:52:13 WARN TaskSetManager: Stage 7340 contains a task of very large size (3196 KiB). The maximum recommended task size is 1000 KiB.\n",
      "24/04/23 22:52:14 WARN TaskSetManager: Stage 7344 contains a task of very large size (1281 KiB). The maximum recommended task size is 1000 KiB.\n"
     ]
    },
    {
     "name": "stdout",
     "output_type": "stream",
     "text": [
      "Model saved\n",
      "268 10485642\n"
     ]
    },
    {
     "name": "stderr",
     "output_type": "stream",
     "text": [
      "24/04/23 22:52:24 WARN TaskSetManager: Stage 7368 contains a task of very large size (3196 KiB). The maximum recommended task size is 1000 KiB.\n",
      "24/04/23 22:52:25 WARN TaskSetManager: Stage 7372 contains a task of very large size (1281 KiB). The maximum recommended task size is 1000 KiB.\n"
     ]
    },
    {
     "name": "stdout",
     "output_type": "stream",
     "text": [
      "Model saved\n",
      "317 10485695\n"
     ]
    },
    {
     "name": "stderr",
     "output_type": "stream",
     "text": [
      "24/04/23 22:52:35 WARN TaskSetManager: Stage 7396 contains a task of very large size (3196 KiB). The maximum recommended task size is 1000 KiB.\n",
      "24/04/23 22:52:36 WARN TaskSetManager: Stage 7400 contains a task of very large size (1281 KiB). The maximum recommended task size is 1000 KiB.\n"
     ]
    },
    {
     "name": "stdout",
     "output_type": "stream",
     "text": [
      "Model saved\n",
      "692 10485540\n"
     ]
    },
    {
     "name": "stderr",
     "output_type": "stream",
     "text": [
      "24/04/23 22:52:45 WARN TaskSetManager: Stage 7424 contains a task of very large size (3196 KiB). The maximum recommended task size is 1000 KiB.\n",
      "24/04/23 22:52:45 WARN TaskSetManager: Stage 7428 contains a task of very large size (1281 KiB). The maximum recommended task size is 1000 KiB.\n",
      "                                                                                \r"
     ]
    },
    {
     "name": "stdout",
     "output_type": "stream",
     "text": [
      "Model saved\n",
      "295 10485520\n"
     ]
    },
    {
     "name": "stderr",
     "output_type": "stream",
     "text": [
      "24/04/23 22:52:54 WARN TaskSetManager: Stage 7452 contains a task of very large size (3196 KiB). The maximum recommended task size is 1000 KiB.\n",
      "24/04/23 22:52:55 WARN TaskSetManager: Stage 7456 contains a task of very large size (1281 KiB). The maximum recommended task size is 1000 KiB.\n"
     ]
    },
    {
     "name": "stdout",
     "output_type": "stream",
     "text": [
      "Model saved\n",
      "312 10485757\n"
     ]
    },
    {
     "name": "stderr",
     "output_type": "stream",
     "text": [
      "24/04/23 22:53:05 WARN TaskSetManager: Stage 7480 contains a task of very large size (3196 KiB). The maximum recommended task size is 1000 KiB.\n",
      "24/04/23 22:53:06 WARN TaskSetManager: Stage 7484 contains a task of very large size (1281 KiB). The maximum recommended task size is 1000 KiB.\n"
     ]
    },
    {
     "name": "stdout",
     "output_type": "stream",
     "text": [
      "Model saved\n",
      "527 10485640\n"
     ]
    },
    {
     "name": "stderr",
     "output_type": "stream",
     "text": [
      "24/04/23 22:53:15 WARN TaskSetManager: Stage 7508 contains a task of very large size (3196 KiB). The maximum recommended task size is 1000 KiB.\n",
      "24/04/23 22:53:16 WARN TaskSetManager: Stage 7512 contains a task of very large size (1281 KiB). The maximum recommended task size is 1000 KiB.\n"
     ]
    },
    {
     "name": "stdout",
     "output_type": "stream",
     "text": [
      "Model saved\n",
      "897 10485513\n"
     ]
    },
    {
     "name": "stderr",
     "output_type": "stream",
     "text": [
      "24/04/23 22:53:24 WARN TaskSetManager: Stage 7536 contains a task of very large size (3196 KiB). The maximum recommended task size is 1000 KiB.\n",
      "24/04/23 22:53:25 WARN TaskSetManager: Stage 7540 contains a task of very large size (1281 KiB). The maximum recommended task size is 1000 KiB.\n"
     ]
    },
    {
     "name": "stdout",
     "output_type": "stream",
     "text": [
      "Model saved\n",
      "1367 10484970\n"
     ]
    },
    {
     "name": "stderr",
     "output_type": "stream",
     "text": [
      "24/04/23 22:53:33 WARN TaskSetManager: Stage 7564 contains a task of very large size (3196 KiB). The maximum recommended task size is 1000 KiB.\n",
      "24/04/23 22:53:34 WARN TaskSetManager: Stage 7568 contains a task of very large size (1281 KiB). The maximum recommended task size is 1000 KiB.\n"
     ]
    },
    {
     "name": "stdout",
     "output_type": "stream",
     "text": [
      "Model saved\n",
      "307 10485495\n"
     ]
    },
    {
     "name": "stderr",
     "output_type": "stream",
     "text": [
      "24/04/23 22:53:43 WARN TaskSetManager: Stage 7592 contains a task of very large size (3196 KiB). The maximum recommended task size is 1000 KiB.\n",
      "24/04/23 22:53:43 WARN TaskSetManager: Stage 7596 contains a task of very large size (1281 KiB). The maximum recommended task size is 1000 KiB.\n"
     ]
    },
    {
     "name": "stdout",
     "output_type": "stream",
     "text": [
      "Model saved\n",
      "502 10485346\n"
     ]
    },
    {
     "name": "stderr",
     "output_type": "stream",
     "text": [
      "24/04/23 22:53:53 WARN TaskSetManager: Stage 7620 contains a task of very large size (3196 KiB). The maximum recommended task size is 1000 KiB.\n",
      "24/04/23 22:53:53 WARN TaskSetManager: Stage 7624 contains a task of very large size (1281 KiB). The maximum recommended task size is 1000 KiB.\n"
     ]
    },
    {
     "name": "stdout",
     "output_type": "stream",
     "text": [
      "Model saved\n",
      "546 10485265\n"
     ]
    },
    {
     "name": "stderr",
     "output_type": "stream",
     "text": [
      "24/04/23 22:54:03 WARN TaskSetManager: Stage 7648 contains a task of very large size (3196 KiB). The maximum recommended task size is 1000 KiB.\n",
      "24/04/23 22:54:03 WARN TaskSetManager: Stage 7652 contains a task of very large size (1281 KiB). The maximum recommended task size is 1000 KiB.\n"
     ]
    },
    {
     "name": "stdout",
     "output_type": "stream",
     "text": [
      "Model saved\n",
      "318 10485661\n"
     ]
    },
    {
     "name": "stderr",
     "output_type": "stream",
     "text": [
      "24/04/23 22:54:12 WARN TaskSetManager: Stage 7676 contains a task of very large size (3196 KiB). The maximum recommended task size is 1000 KiB.\n",
      "24/04/23 22:54:12 WARN TaskSetManager: Stage 7680 contains a task of very large size (1281 KiB). The maximum recommended task size is 1000 KiB.\n"
     ]
    },
    {
     "name": "stdout",
     "output_type": "stream",
     "text": [
      "Model saved\n",
      "1449 10485755\n"
     ]
    },
    {
     "name": "stderr",
     "output_type": "stream",
     "text": [
      "24/04/23 22:54:21 WARN TaskSetManager: Stage 7704 contains a task of very large size (3196 KiB). The maximum recommended task size is 1000 KiB.\n",
      "24/04/23 22:54:21 WARN TaskSetManager: Stage 7708 contains a task of very large size (1281 KiB). The maximum recommended task size is 1000 KiB.\n"
     ]
    },
    {
     "name": "stdout",
     "output_type": "stream",
     "text": [
      "Model saved\n",
      "403 10485362\n"
     ]
    },
    {
     "name": "stderr",
     "output_type": "stream",
     "text": [
      "24/04/23 22:54:29 WARN TaskSetManager: Stage 7732 contains a task of very large size (3196 KiB). The maximum recommended task size is 1000 KiB.\n",
      "24/04/23 22:54:30 WARN TaskSetManager: Stage 7736 contains a task of very large size (1281 KiB). The maximum recommended task size is 1000 KiB.\n"
     ]
    },
    {
     "name": "stdout",
     "output_type": "stream",
     "text": [
      "Model saved\n",
      "477 10485284\n"
     ]
    },
    {
     "name": "stderr",
     "output_type": "stream",
     "text": [
      "24/04/23 22:54:38 WARN TaskSetManager: Stage 7760 contains a task of very large size (3196 KiB). The maximum recommended task size is 1000 KiB.\n",
      "24/04/23 22:54:39 WARN TaskSetManager: Stage 7764 contains a task of very large size (1281 KiB). The maximum recommended task size is 1000 KiB.\n"
     ]
    },
    {
     "name": "stdout",
     "output_type": "stream",
     "text": [
      "Model saved\n",
      "313 10485452\n"
     ]
    },
    {
     "name": "stderr",
     "output_type": "stream",
     "text": [
      "24/04/23 22:54:46 WARN TaskSetManager: Stage 7788 contains a task of very large size (3196 KiB). The maximum recommended task size is 1000 KiB.\n",
      "24/04/23 22:54:47 WARN TaskSetManager: Stage 7792 contains a task of very large size (1281 KiB). The maximum recommended task size is 1000 KiB.\n"
     ]
    },
    {
     "name": "stdout",
     "output_type": "stream",
     "text": [
      "Model saved\n",
      "288 10485621\n"
     ]
    },
    {
     "name": "stderr",
     "output_type": "stream",
     "text": [
      "24/04/23 22:54:55 WARN TaskSetManager: Stage 7816 contains a task of very large size (3196 KiB). The maximum recommended task size is 1000 KiB.\n",
      "24/04/23 22:54:55 WARN TaskSetManager: Stage 7820 contains a task of very large size (1281 KiB). The maximum recommended task size is 1000 KiB.\n"
     ]
    },
    {
     "name": "stdout",
     "output_type": "stream",
     "text": [
      "Model saved\n",
      "411 10485750\n"
     ]
    },
    {
     "name": "stderr",
     "output_type": "stream",
     "text": [
      "24/04/23 22:55:04 WARN TaskSetManager: Stage 7844 contains a task of very large size (3196 KiB). The maximum recommended task size is 1000 KiB.\n",
      "24/04/23 22:55:04 WARN TaskSetManager: Stage 7848 contains a task of very large size (1281 KiB). The maximum recommended task size is 1000 KiB.\n"
     ]
    },
    {
     "name": "stdout",
     "output_type": "stream",
     "text": [
      "Model saved\n",
      "970 10485456\n"
     ]
    },
    {
     "name": "stderr",
     "output_type": "stream",
     "text": [
      "24/04/23 22:55:13 WARN TaskSetManager: Stage 7872 contains a task of very large size (3196 KiB). The maximum recommended task size is 1000 KiB.\n",
      "24/04/23 22:55:13 WARN TaskSetManager: Stage 7876 contains a task of very large size (1281 KiB). The maximum recommended task size is 1000 KiB.\n"
     ]
    },
    {
     "name": "stdout",
     "output_type": "stream",
     "text": [
      "Model saved\n",
      "349 10485534\n"
     ]
    },
    {
     "name": "stderr",
     "output_type": "stream",
     "text": [
      "24/04/23 22:55:21 WARN TaskSetManager: Stage 7900 contains a task of very large size (3196 KiB). The maximum recommended task size is 1000 KiB.\n",
      "24/04/23 22:55:22 WARN TaskSetManager: Stage 7904 contains a task of very large size (1281 KiB). The maximum recommended task size is 1000 KiB.\n"
     ]
    },
    {
     "name": "stdout",
     "output_type": "stream",
     "text": [
      "Model saved\n",
      "277 10485715\n"
     ]
    },
    {
     "name": "stderr",
     "output_type": "stream",
     "text": [
      "24/04/23 22:55:29 WARN TaskSetManager: Stage 7928 contains a task of very large size (3196 KiB). The maximum recommended task size is 1000 KiB.\n",
      "24/04/23 22:55:30 WARN TaskSetManager: Stage 7932 contains a task of very large size (1281 KiB). The maximum recommended task size is 1000 KiB.\n"
     ]
    },
    {
     "name": "stdout",
     "output_type": "stream",
     "text": [
      "Model saved\n",
      "354 10485428\n"
     ]
    },
    {
     "name": "stderr",
     "output_type": "stream",
     "text": [
      "24/04/23 22:55:38 WARN TaskSetManager: Stage 7956 contains a task of very large size (3196 KiB). The maximum recommended task size is 1000 KiB.\n",
      "24/04/23 22:55:39 WARN TaskSetManager: Stage 7960 contains a task of very large size (1281 KiB). The maximum recommended task size is 1000 KiB.\n"
     ]
    },
    {
     "name": "stdout",
     "output_type": "stream",
     "text": [
      "Model saved\n",
      "339 10485665\n"
     ]
    },
    {
     "name": "stderr",
     "output_type": "stream",
     "text": [
      "24/04/23 22:55:47 WARN TaskSetManager: Stage 7984 contains a task of very large size (3196 KiB). The maximum recommended task size is 1000 KiB.\n",
      "24/04/23 22:55:48 WARN TaskSetManager: Stage 7988 contains a task of very large size (1281 KiB). The maximum recommended task size is 1000 KiB.\n"
     ]
    },
    {
     "name": "stdout",
     "output_type": "stream",
     "text": [
      "Model saved\n",
      "395 10485427\n"
     ]
    },
    {
     "name": "stderr",
     "output_type": "stream",
     "text": [
      "24/04/23 22:55:57 WARN TaskSetManager: Stage 8012 contains a task of very large size (3196 KiB). The maximum recommended task size is 1000 KiB.\n",
      "24/04/23 22:55:57 WARN TaskSetManager: Stage 8016 contains a task of very large size (1281 KiB). The maximum recommended task size is 1000 KiB.\n"
     ]
    },
    {
     "name": "stdout",
     "output_type": "stream",
     "text": [
      "Model saved\n",
      "285 10485632\n"
     ]
    },
    {
     "name": "stderr",
     "output_type": "stream",
     "text": [
      "24/04/23 22:56:06 WARN TaskSetManager: Stage 8040 contains a task of very large size (3196 KiB). The maximum recommended task size is 1000 KiB.\n",
      "24/04/23 22:56:07 WARN TaskSetManager: Stage 8044 contains a task of very large size (1281 KiB). The maximum recommended task size is 1000 KiB.\n"
     ]
    },
    {
     "name": "stdout",
     "output_type": "stream",
     "text": [
      "Model saved\n",
      "972 10484834\n"
     ]
    },
    {
     "name": "stderr",
     "output_type": "stream",
     "text": [
      "24/04/23 22:56:15 WARN TaskSetManager: Stage 8068 contains a task of very large size (3196 KiB). The maximum recommended task size is 1000 KiB.\n",
      "24/04/23 22:56:15 WARN TaskSetManager: Stage 8072 contains a task of very large size (1281 KiB). The maximum recommended task size is 1000 KiB.\n"
     ]
    },
    {
     "name": "stdout",
     "output_type": "stream",
     "text": [
      "Model saved\n",
      "781 10485577\n"
     ]
    },
    {
     "name": "stderr",
     "output_type": "stream",
     "text": [
      "24/04/23 22:56:23 WARN TaskSetManager: Stage 8096 contains a task of very large size (3196 KiB). The maximum recommended task size is 1000 KiB.\n",
      "24/04/23 22:56:24 WARN TaskSetManager: Stage 8100 contains a task of very large size (1281 KiB). The maximum recommended task size is 1000 KiB.\n"
     ]
    },
    {
     "name": "stdout",
     "output_type": "stream",
     "text": [
      "Model saved\n",
      "493 10485323\n"
     ]
    },
    {
     "name": "stderr",
     "output_type": "stream",
     "text": [
      "24/04/23 22:56:33 WARN TaskSetManager: Stage 8124 contains a task of very large size (3196 KiB). The maximum recommended task size is 1000 KiB.\n",
      "24/04/23 22:56:34 WARN TaskSetManager: Stage 8128 contains a task of very large size (1281 KiB). The maximum recommended task size is 1000 KiB.\n"
     ]
    },
    {
     "name": "stdout",
     "output_type": "stream",
     "text": [
      "Model saved\n",
      "521 10485649\n"
     ]
    },
    {
     "name": "stderr",
     "output_type": "stream",
     "text": [
      "24/04/23 22:56:42 WARN TaskSetManager: Stage 8152 contains a task of very large size (3196 KiB). The maximum recommended task size is 1000 KiB.\n",
      "24/04/23 22:56:43 WARN TaskSetManager: Stage 8156 contains a task of very large size (1281 KiB). The maximum recommended task size is 1000 KiB.\n"
     ]
    },
    {
     "name": "stdout",
     "output_type": "stream",
     "text": [
      "Model saved\n",
      "608 10485188\n"
     ]
    },
    {
     "name": "stderr",
     "output_type": "stream",
     "text": [
      "24/04/23 22:56:50 WARN TaskSetManager: Stage 8180 contains a task of very large size (3196 KiB). The maximum recommended task size is 1000 KiB.\n",
      "24/04/23 22:56:50 WARN TaskSetManager: Stage 8184 contains a task of very large size (1281 KiB). The maximum recommended task size is 1000 KiB.\n"
     ]
    },
    {
     "name": "stdout",
     "output_type": "stream",
     "text": [
      "Model saved\n",
      "356 10485419\n"
     ]
    },
    {
     "name": "stderr",
     "output_type": "stream",
     "text": [
      "24/04/23 22:56:58 WARN TaskSetManager: Stage 8208 contains a task of very large size (3196 KiB). The maximum recommended task size is 1000 KiB.\n",
      "24/04/23 22:56:58 WARN TaskSetManager: Stage 8212 contains a task of very large size (1281 KiB). The maximum recommended task size is 1000 KiB.\n"
     ]
    },
    {
     "name": "stdout",
     "output_type": "stream",
     "text": [
      "Model saved\n",
      "282 10485528\n"
     ]
    },
    {
     "name": "stderr",
     "output_type": "stream",
     "text": [
      "24/04/23 22:57:06 WARN TaskSetManager: Stage 8236 contains a task of very large size (3196 KiB). The maximum recommended task size is 1000 KiB.\n",
      "24/04/23 22:57:07 WARN TaskSetManager: Stage 8240 contains a task of very large size (1281 KiB). The maximum recommended task size is 1000 KiB.\n"
     ]
    },
    {
     "name": "stdout",
     "output_type": "stream",
     "text": [
      "Model saved\n",
      "544 10485364\n"
     ]
    },
    {
     "name": "stderr",
     "output_type": "stream",
     "text": [
      "24/04/23 22:57:14 WARN TaskSetManager: Stage 8264 contains a task of very large size (3196 KiB). The maximum recommended task size is 1000 KiB.\n",
      "24/04/23 22:57:15 WARN TaskSetManager: Stage 8268 contains a task of very large size (1281 KiB). The maximum recommended task size is 1000 KiB.\n"
     ]
    },
    {
     "name": "stdout",
     "output_type": "stream",
     "text": [
      "Model saved\n",
      "1207 10485728\n"
     ]
    },
    {
     "name": "stderr",
     "output_type": "stream",
     "text": [
      "24/04/23 22:57:22 WARN TaskSetManager: Stage 8292 contains a task of very large size (3196 KiB). The maximum recommended task size is 1000 KiB.\n",
      "24/04/23 22:57:23 WARN TaskSetManager: Stage 8296 contains a task of very large size (1281 KiB). The maximum recommended task size is 1000 KiB.\n"
     ]
    },
    {
     "name": "stdout",
     "output_type": "stream",
     "text": [
      "Model saved\n",
      "510 10485321\n"
     ]
    },
    {
     "name": "stderr",
     "output_type": "stream",
     "text": [
      "24/04/23 22:57:32 WARN TaskSetManager: Stage 8320 contains a task of very large size (3196 KiB). The maximum recommended task size is 1000 KiB.\n",
      "24/04/23 22:57:32 WARN TaskSetManager: Stage 8324 contains a task of very large size (1281 KiB). The maximum recommended task size is 1000 KiB.\n"
     ]
    },
    {
     "name": "stdout",
     "output_type": "stream",
     "text": [
      "Model saved\n",
      "780 10485249\n"
     ]
    },
    {
     "name": "stderr",
     "output_type": "stream",
     "text": [
      "24/04/23 22:57:42 WARN TaskSetManager: Stage 8348 contains a task of very large size (3196 KiB). The maximum recommended task size is 1000 KiB.\n",
      "24/04/23 22:57:42 WARN TaskSetManager: Stage 8352 contains a task of very large size (1281 KiB). The maximum recommended task size is 1000 KiB.\n"
     ]
    },
    {
     "name": "stdout",
     "output_type": "stream",
     "text": [
      "Model saved\n",
      "381 10485391\n"
     ]
    },
    {
     "name": "stderr",
     "output_type": "stream",
     "text": [
      "24/04/23 22:57:50 WARN TaskSetManager: Stage 8376 contains a task of very large size (3196 KiB). The maximum recommended task size is 1000 KiB.\n",
      "24/04/23 22:57:51 WARN TaskSetManager: Stage 8380 contains a task of very large size (1281 KiB). The maximum recommended task size is 1000 KiB.\n"
     ]
    },
    {
     "name": "stdout",
     "output_type": "stream",
     "text": [
      "Model saved\n",
      "375 10485685\n"
     ]
    },
    {
     "name": "stderr",
     "output_type": "stream",
     "text": [
      "24/04/23 22:57:59 WARN TaskSetManager: Stage 8404 contains a task of very large size (3196 KiB). The maximum recommended task size is 1000 KiB.\n",
      "24/04/23 22:57:59 WARN TaskSetManager: Stage 8408 contains a task of very large size (1281 KiB). The maximum recommended task size is 1000 KiB.\n"
     ]
    },
    {
     "name": "stdout",
     "output_type": "stream",
     "text": [
      "Model saved\n",
      "539 10485594\n"
     ]
    },
    {
     "name": "stderr",
     "output_type": "stream",
     "text": [
      "24/04/23 22:58:07 WARN TaskSetManager: Stage 8432 contains a task of very large size (3196 KiB). The maximum recommended task size is 1000 KiB.\n",
      "24/04/23 22:58:08 WARN TaskSetManager: Stage 8436 contains a task of very large size (1281 KiB). The maximum recommended task size is 1000 KiB.\n"
     ]
    },
    {
     "name": "stdout",
     "output_type": "stream",
     "text": [
      "Model saved\n",
      "427 10485496\n"
     ]
    },
    {
     "name": "stderr",
     "output_type": "stream",
     "text": [
      "24/04/23 22:58:17 WARN TaskSetManager: Stage 8460 contains a task of very large size (3196 KiB). The maximum recommended task size is 1000 KiB.\n",
      "24/04/23 22:58:18 WARN TaskSetManager: Stage 8464 contains a task of very large size (1281 KiB). The maximum recommended task size is 1000 KiB.\n"
     ]
    },
    {
     "name": "stdout",
     "output_type": "stream",
     "text": [
      "Model saved\n",
      "1095 10484802\n"
     ]
    },
    {
     "name": "stderr",
     "output_type": "stream",
     "text": [
      "24/04/23 22:58:27 WARN TaskSetManager: Stage 8488 contains a task of very large size (3196 KiB). The maximum recommended task size is 1000 KiB.\n",
      "24/04/23 22:58:28 WARN TaskSetManager: Stage 8492 contains a task of very large size (1281 KiB). The maximum recommended task size is 1000 KiB.\n"
     ]
    },
    {
     "name": "stdout",
     "output_type": "stream",
     "text": [
      "Model saved\n",
      "456 10485579\n"
     ]
    },
    {
     "name": "stderr",
     "output_type": "stream",
     "text": [
      "24/04/23 22:58:38 WARN TaskSetManager: Stage 8516 contains a task of very large size (3196 KiB). The maximum recommended task size is 1000 KiB.\n",
      "24/04/23 22:58:39 WARN TaskSetManager: Stage 8520 contains a task of very large size (1281 KiB). The maximum recommended task size is 1000 KiB.\n"
     ]
    },
    {
     "name": "stdout",
     "output_type": "stream",
     "text": [
      "Model saved\n",
      "567 10485710\n"
     ]
    },
    {
     "name": "stderr",
     "output_type": "stream",
     "text": [
      "24/04/23 22:58:50 WARN TaskSetManager: Stage 8544 contains a task of very large size (3196 KiB). The maximum recommended task size is 1000 KiB.\n",
      "24/04/23 22:58:51 WARN TaskSetManager: Stage 8548 contains a task of very large size (1281 KiB). The maximum recommended task size is 1000 KiB.\n"
     ]
    },
    {
     "name": "stdout",
     "output_type": "stream",
     "text": [
      "Model saved\n",
      "280 10485538\n"
     ]
    },
    {
     "name": "stderr",
     "output_type": "stream",
     "text": [
      "24/04/23 22:59:00 WARN TaskSetManager: Stage 8572 contains a task of very large size (3196 KiB). The maximum recommended task size is 1000 KiB.\n",
      "24/04/23 22:59:01 WARN TaskSetManager: Stage 8576 contains a task of very large size (1281 KiB). The maximum recommended task size is 1000 KiB.\n"
     ]
    },
    {
     "name": "stdout",
     "output_type": "stream",
     "text": [
      "Model saved\n",
      "416 10485709\n"
     ]
    },
    {
     "name": "stderr",
     "output_type": "stream",
     "text": [
      "24/04/23 22:59:10 WARN TaskSetManager: Stage 8600 contains a task of very large size (3196 KiB). The maximum recommended task size is 1000 KiB.\n",
      "24/04/23 22:59:10 WARN TaskSetManager: Stage 8604 contains a task of very large size (1281 KiB). The maximum recommended task size is 1000 KiB.\n"
     ]
    },
    {
     "name": "stdout",
     "output_type": "stream",
     "text": [
      "Model saved\n",
      "480 10485717\n"
     ]
    },
    {
     "name": "stderr",
     "output_type": "stream",
     "text": [
      "24/04/23 22:59:18 WARN TaskSetManager: Stage 8628 contains a task of very large size (3196 KiB). The maximum recommended task size is 1000 KiB.\n",
      "24/04/23 22:59:19 WARN TaskSetManager: Stage 8632 contains a task of very large size (1281 KiB). The maximum recommended task size is 1000 KiB.\n"
     ]
    },
    {
     "name": "stdout",
     "output_type": "stream",
     "text": [
      "Model saved\n",
      "3174 10482760\n"
     ]
    },
    {
     "name": "stderr",
     "output_type": "stream",
     "text": [
      "24/04/23 22:59:29 WARN TaskSetManager: Stage 8656 contains a task of very large size (3196 KiB). The maximum recommended task size is 1000 KiB.\n",
      "24/04/23 22:59:29 WARN TaskSetManager: Stage 8660 contains a task of very large size (1281 KiB). The maximum recommended task size is 1000 KiB.\n"
     ]
    },
    {
     "name": "stdout",
     "output_type": "stream",
     "text": [
      "Model saved\n",
      "481 10485588\n"
     ]
    },
    {
     "name": "stderr",
     "output_type": "stream",
     "text": [
      "24/04/23 22:59:38 WARN TaskSetManager: Stage 8684 contains a task of very large size (3196 KiB). The maximum recommended task size is 1000 KiB.\n",
      "24/04/23 22:59:39 WARN TaskSetManager: Stage 8688 contains a task of very large size (1281 KiB). The maximum recommended task size is 1000 KiB.\n"
     ]
    },
    {
     "name": "stdout",
     "output_type": "stream",
     "text": [
      "Model saved\n",
      "929 10484913\n"
     ]
    },
    {
     "name": "stderr",
     "output_type": "stream",
     "text": [
      "24/04/23 22:59:48 WARN TaskSetManager: Stage 8712 contains a task of very large size (3196 KiB). The maximum recommended task size is 1000 KiB.\n",
      "24/04/23 22:59:49 WARN TaskSetManager: Stage 8716 contains a task of very large size (1281 KiB). The maximum recommended task size is 1000 KiB.\n"
     ]
    },
    {
     "name": "stdout",
     "output_type": "stream",
     "text": [
      "Model saved\n",
      "886 10485610\n"
     ]
    },
    {
     "name": "stderr",
     "output_type": "stream",
     "text": [
      "24/04/23 22:59:57 WARN TaskSetManager: Stage 8740 contains a task of very large size (3196 KiB). The maximum recommended task size is 1000 KiB.\n",
      "24/04/23 22:59:58 WARN TaskSetManager: Stage 8744 contains a task of very large size (1281 KiB). The maximum recommended task size is 1000 KiB.\n"
     ]
    },
    {
     "name": "stdout",
     "output_type": "stream",
     "text": [
      "Model saved\n",
      "425 10485756\n"
     ]
    },
    {
     "name": "stderr",
     "output_type": "stream",
     "text": [
      "24/04/23 23:00:08 WARN TaskSetManager: Stage 8768 contains a task of very large size (3196 KiB). The maximum recommended task size is 1000 KiB.\n",
      "24/04/23 23:00:09 WARN TaskSetManager: Stage 8772 contains a task of very large size (1281 KiB). The maximum recommended task size is 1000 KiB.\n"
     ]
    },
    {
     "name": "stdout",
     "output_type": "stream",
     "text": [
      "Model saved\n",
      "615 10485459\n"
     ]
    },
    {
     "name": "stderr",
     "output_type": "stream",
     "text": [
      "24/04/23 23:00:17 WARN TaskSetManager: Stage 8796 contains a task of very large size (3196 KiB). The maximum recommended task size is 1000 KiB.\n",
      "24/04/23 23:00:18 WARN TaskSetManager: Stage 8800 contains a task of very large size (1281 KiB). The maximum recommended task size is 1000 KiB.\n"
     ]
    },
    {
     "name": "stdout",
     "output_type": "stream",
     "text": [
      "Model saved\n",
      "1696 10485202\n"
     ]
    },
    {
     "name": "stderr",
     "output_type": "stream",
     "text": [
      "24/04/23 23:00:26 WARN TaskSetManager: Stage 8824 contains a task of very large size (3196 KiB). The maximum recommended task size is 1000 KiB.\n",
      "24/04/23 23:00:27 WARN TaskSetManager: Stage 8828 contains a task of very large size (1281 KiB). The maximum recommended task size is 1000 KiB.\n"
     ]
    },
    {
     "name": "stdout",
     "output_type": "stream",
     "text": [
      "Model saved\n",
      "541 10485556\n"
     ]
    },
    {
     "name": "stderr",
     "output_type": "stream",
     "text": [
      "24/04/23 23:00:36 WARN TaskSetManager: Stage 8852 contains a task of very large size (3196 KiB). The maximum recommended task size is 1000 KiB.\n",
      "24/04/23 23:00:37 WARN TaskSetManager: Stage 8856 contains a task of very large size (1281 KiB). The maximum recommended task size is 1000 KiB.\n"
     ]
    },
    {
     "name": "stdout",
     "output_type": "stream",
     "text": [
      "Model saved\n",
      "323 10485528\n"
     ]
    },
    {
     "name": "stderr",
     "output_type": "stream",
     "text": [
      "24/04/23 23:00:45 WARN TaskSetManager: Stage 8880 contains a task of very large size (3196 KiB). The maximum recommended task size is 1000 KiB.\n",
      "24/04/23 23:00:46 WARN TaskSetManager: Stage 8884 contains a task of very large size (1281 KiB). The maximum recommended task size is 1000 KiB.\n"
     ]
    },
    {
     "name": "stdout",
     "output_type": "stream",
     "text": [
      "Model saved\n",
      "500 10485552\n"
     ]
    },
    {
     "name": "stderr",
     "output_type": "stream",
     "text": [
      "24/04/23 23:00:55 WARN TaskSetManager: Stage 8908 contains a task of very large size (3196 KiB). The maximum recommended task size is 1000 KiB.\n",
      "24/04/23 23:00:56 WARN TaskSetManager: Stage 8912 contains a task of very large size (1281 KiB). The maximum recommended task size is 1000 KiB.\n"
     ]
    },
    {
     "name": "stdout",
     "output_type": "stream",
     "text": [
      "Model saved\n",
      "559 10485676\n"
     ]
    },
    {
     "name": "stderr",
     "output_type": "stream",
     "text": [
      "24/04/23 23:01:06 WARN TaskSetManager: Stage 8936 contains a task of very large size (3196 KiB). The maximum recommended task size is 1000 KiB.\n",
      "24/04/23 23:01:06 WARN TaskSetManager: Stage 8940 contains a task of very large size (1281 KiB). The maximum recommended task size is 1000 KiB.\n"
     ]
    },
    {
     "name": "stdout",
     "output_type": "stream",
     "text": [
      "Model saved\n",
      "615 10485530\n"
     ]
    },
    {
     "name": "stderr",
     "output_type": "stream",
     "text": [
      "24/04/23 23:01:15 WARN TaskSetManager: Stage 8964 contains a task of very large size (3196 KiB). The maximum recommended task size is 1000 KiB.\n",
      "24/04/23 23:01:15 WARN TaskSetManager: Stage 8968 contains a task of very large size (1281 KiB). The maximum recommended task size is 1000 KiB.\n"
     ]
    },
    {
     "name": "stdout",
     "output_type": "stream",
     "text": [
      "Model saved\n",
      "355 10485691\n"
     ]
    },
    {
     "name": "stderr",
     "output_type": "stream",
     "text": [
      "24/04/23 23:01:24 WARN TaskSetManager: Stage 8992 contains a task of very large size (3196 KiB). The maximum recommended task size is 1000 KiB.\n",
      "24/04/23 23:01:24 WARN TaskSetManager: Stage 8996 contains a task of very large size (1281 KiB). The maximum recommended task size is 1000 KiB.\n"
     ]
    },
    {
     "name": "stdout",
     "output_type": "stream",
     "text": [
      "Model saved\n",
      "1420 10484528\n"
     ]
    },
    {
     "name": "stderr",
     "output_type": "stream",
     "text": [
      "24/04/23 23:01:33 WARN TaskSetManager: Stage 9020 contains a task of very large size (3196 KiB). The maximum recommended task size is 1000 KiB.\n",
      "24/04/23 23:01:34 WARN TaskSetManager: Stage 9024 contains a task of very large size (1281 KiB). The maximum recommended task size is 1000 KiB.\n"
     ]
    },
    {
     "name": "stdout",
     "output_type": "stream",
     "text": [
      "Model saved\n",
      "492 10485562\n"
     ]
    },
    {
     "name": "stderr",
     "output_type": "stream",
     "text": [
      "24/04/23 23:01:44 WARN TaskSetManager: Stage 9048 contains a task of very large size (3196 KiB). The maximum recommended task size is 1000 KiB.\n",
      "24/04/23 23:01:45 WARN TaskSetManager: Stage 9052 contains a task of very large size (1281 KiB). The maximum recommended task size is 1000 KiB.\n"
     ]
    },
    {
     "name": "stdout",
     "output_type": "stream",
     "text": [
      "Model saved\n",
      "702 10485308\n"
     ]
    },
    {
     "name": "stderr",
     "output_type": "stream",
     "text": [
      "24/04/23 23:01:53 WARN TaskSetManager: Stage 9076 contains a task of very large size (3196 KiB). The maximum recommended task size is 1000 KiB.\n",
      "24/04/23 23:01:54 WARN TaskSetManager: Stage 9080 contains a task of very large size (1281 KiB). The maximum recommended task size is 1000 KiB.\n"
     ]
    },
    {
     "name": "stdout",
     "output_type": "stream",
     "text": [
      "Model saved\n",
      "613 10485229\n"
     ]
    },
    {
     "name": "stderr",
     "output_type": "stream",
     "text": [
      "24/04/23 23:02:02 WARN TaskSetManager: Stage 9104 contains a task of very large size (3196 KiB). The maximum recommended task size is 1000 KiB.\n",
      "24/04/23 23:02:03 WARN TaskSetManager: Stage 9108 contains a task of very large size (1281 KiB). The maximum recommended task size is 1000 KiB.\n"
     ]
    },
    {
     "name": "stdout",
     "output_type": "stream",
     "text": [
      "Model saved\n",
      "722 10485729\n"
     ]
    },
    {
     "name": "stderr",
     "output_type": "stream",
     "text": [
      "24/04/23 23:02:12 WARN TaskSetManager: Stage 9132 contains a task of very large size (3196 KiB). The maximum recommended task size is 1000 KiB.\n",
      "24/04/23 23:02:12 WARN TaskSetManager: Stage 9136 contains a task of very large size (1281 KiB). The maximum recommended task size is 1000 KiB.\n"
     ]
    },
    {
     "name": "stdout",
     "output_type": "stream",
     "text": [
      "Model saved\n",
      "529 10485632\n"
     ]
    },
    {
     "name": "stderr",
     "output_type": "stream",
     "text": [
      "24/04/23 23:02:22 WARN TaskSetManager: Stage 9160 contains a task of very large size (3196 KiB). The maximum recommended task size is 1000 KiB.\n",
      "24/04/23 23:02:23 WARN TaskSetManager: Stage 9164 contains a task of very large size (1281 KiB). The maximum recommended task size is 1000 KiB.\n"
     ]
    },
    {
     "name": "stdout",
     "output_type": "stream",
     "text": [
      "Model saved\n",
      "438 10485389\n"
     ]
    },
    {
     "name": "stderr",
     "output_type": "stream",
     "text": [
      "24/04/23 23:02:31 WARN TaskSetManager: Stage 9188 contains a task of very large size (3196 KiB). The maximum recommended task size is 1000 KiB.\n",
      "24/04/23 23:02:32 WARN TaskSetManager: Stage 9192 contains a task of very large size (1281 KiB). The maximum recommended task size is 1000 KiB.\n"
     ]
    },
    {
     "name": "stdout",
     "output_type": "stream",
     "text": [
      "Model saved\n",
      "307 10485706\n"
     ]
    },
    {
     "name": "stderr",
     "output_type": "stream",
     "text": [
      "24/04/23 23:02:40 WARN TaskSetManager: Stage 9216 contains a task of very large size (3196 KiB). The maximum recommended task size is 1000 KiB.\n",
      "24/04/23 23:02:41 WARN TaskSetManager: Stage 9220 contains a task of very large size (1281 KiB). The maximum recommended task size is 1000 KiB.\n"
     ]
    },
    {
     "name": "stdout",
     "output_type": "stream",
     "text": [
      "Model saved\n",
      "291 10485701\n"
     ]
    },
    {
     "name": "stderr",
     "output_type": "stream",
     "text": [
      "24/04/23 23:02:54 WARN TaskSetManager: Stage 9244 contains a task of very large size (3196 KiB). The maximum recommended task size is 1000 KiB.\n",
      "24/04/23 23:02:54 WARN TaskSetManager: Stage 9248 contains a task of very large size (1281 KiB). The maximum recommended task size is 1000 KiB.\n"
     ]
    },
    {
     "name": "stdout",
     "output_type": "stream",
     "text": [
      "Model saved\n",
      "329 10485720\n"
     ]
    },
    {
     "name": "stderr",
     "output_type": "stream",
     "text": [
      "24/04/23 23:03:04 WARN TaskSetManager: Stage 9272 contains a task of very large size (3196 KiB). The maximum recommended task size is 1000 KiB.\n",
      "24/04/23 23:03:04 WARN TaskSetManager: Stage 9276 contains a task of very large size (1281 KiB). The maximum recommended task size is 1000 KiB.\n"
     ]
    },
    {
     "name": "stdout",
     "output_type": "stream",
     "text": [
      "Model saved\n",
      "1585 10485658\n"
     ]
    },
    {
     "name": "stderr",
     "output_type": "stream",
     "text": [
      "24/04/23 23:03:13 WARN TaskSetManager: Stage 9300 contains a task of very large size (3196 KiB). The maximum recommended task size is 1000 KiB.\n",
      "24/04/23 23:03:13 WARN TaskSetManager: Stage 9304 contains a task of very large size (1281 KiB). The maximum recommended task size is 1000 KiB.\n"
     ]
    },
    {
     "name": "stdout",
     "output_type": "stream",
     "text": [
      "Model saved\n",
      "560 10485342\n"
     ]
    },
    {
     "name": "stderr",
     "output_type": "stream",
     "text": [
      "24/04/23 23:03:23 WARN TaskSetManager: Stage 9328 contains a task of very large size (3196 KiB). The maximum recommended task size is 1000 KiB.\n",
      "24/04/23 23:03:23 WARN TaskSetManager: Stage 9332 contains a task of very large size (1281 KiB). The maximum recommended task size is 1000 KiB.\n"
     ]
    },
    {
     "name": "stdout",
     "output_type": "stream",
     "text": [
      "Model saved\n",
      "682 10485743\n"
     ]
    },
    {
     "name": "stderr",
     "output_type": "stream",
     "text": [
      "24/04/23 23:03:32 WARN TaskSetManager: Stage 9356 contains a task of very large size (3196 KiB). The maximum recommended task size is 1000 KiB.\n",
      "24/04/23 23:03:33 WARN TaskSetManager: Stage 9360 contains a task of very large size (1281 KiB). The maximum recommended task size is 1000 KiB.\n"
     ]
    },
    {
     "name": "stdout",
     "output_type": "stream",
     "text": [
      "Model saved\n",
      "597 10485663\n"
     ]
    },
    {
     "name": "stderr",
     "output_type": "stream",
     "text": [
      "24/04/23 23:03:41 WARN TaskSetManager: Stage 9384 contains a task of very large size (3196 KiB). The maximum recommended task size is 1000 KiB.\n",
      "24/04/23 23:03:41 WARN TaskSetManager: Stage 9388 contains a task of very large size (1281 KiB). The maximum recommended task size is 1000 KiB.\n"
     ]
    },
    {
     "name": "stdout",
     "output_type": "stream",
     "text": [
      "Model saved\n",
      "308 10485635\n"
     ]
    },
    {
     "name": "stderr",
     "output_type": "stream",
     "text": [
      "24/04/23 23:03:50 WARN TaskSetManager: Stage 9412 contains a task of very large size (3196 KiB). The maximum recommended task size is 1000 KiB.\n",
      "24/04/23 23:03:51 WARN TaskSetManager: Stage 9416 contains a task of very large size (1281 KiB). The maximum recommended task size is 1000 KiB.\n"
     ]
    },
    {
     "name": "stdout",
     "output_type": "stream",
     "text": [
      "Model saved\n",
      "1857 10484444\n"
     ]
    },
    {
     "name": "stderr",
     "output_type": "stream",
     "text": [
      "24/04/23 23:04:00 WARN TaskSetManager: Stage 9440 contains a task of very large size (3196 KiB). The maximum recommended task size is 1000 KiB.\n",
      "24/04/23 23:04:01 WARN TaskSetManager: Stage 9444 contains a task of very large size (1281 KiB). The maximum recommended task size is 1000 KiB.\n"
     ]
    },
    {
     "name": "stdout",
     "output_type": "stream",
     "text": [
      "Model saved\n",
      "315 10485544\n"
     ]
    },
    {
     "name": "stderr",
     "output_type": "stream",
     "text": [
      "24/04/23 23:04:09 WARN TaskSetManager: Stage 9468 contains a task of very large size (3196 KiB). The maximum recommended task size is 1000 KiB.\n",
      "24/04/23 23:04:10 WARN TaskSetManager: Stage 9472 contains a task of very large size (1281 KiB). The maximum recommended task size is 1000 KiB.\n"
     ]
    },
    {
     "name": "stdout",
     "output_type": "stream",
     "text": [
      "Model saved\n",
      "1041 10485458\n"
     ]
    },
    {
     "name": "stderr",
     "output_type": "stream",
     "text": [
      "24/04/23 23:04:18 WARN TaskSetManager: Stage 9496 contains a task of very large size (3196 KiB). The maximum recommended task size is 1000 KiB.\n",
      "24/04/23 23:04:19 WARN TaskSetManager: Stage 9500 contains a task of very large size (1281 KiB). The maximum recommended task size is 1000 KiB.\n"
     ]
    },
    {
     "name": "stdout",
     "output_type": "stream",
     "text": [
      "Model saved\n",
      "838 10485343\n"
     ]
    },
    {
     "name": "stderr",
     "output_type": "stream",
     "text": [
      "24/04/23 23:04:28 WARN TaskSetManager: Stage 9524 contains a task of very large size (3196 KiB). The maximum recommended task size is 1000 KiB.\n",
      "24/04/23 23:04:28 WARN TaskSetManager: Stage 9528 contains a task of very large size (1281 KiB). The maximum recommended task size is 1000 KiB.\n"
     ]
    },
    {
     "name": "stdout",
     "output_type": "stream",
     "text": [
      "Model saved\n",
      "599 10485725\n"
     ]
    },
    {
     "name": "stderr",
     "output_type": "stream",
     "text": [
      "24/04/23 23:04:36 WARN TaskSetManager: Stage 9552 contains a task of very large size (3196 KiB). The maximum recommended task size is 1000 KiB.\n",
      "24/04/23 23:04:37 WARN TaskSetManager: Stage 9556 contains a task of very large size (1281 KiB). The maximum recommended task size is 1000 KiB.\n"
     ]
    },
    {
     "name": "stdout",
     "output_type": "stream",
     "text": [
      "Model saved\n",
      "625 10485192\n"
     ]
    },
    {
     "name": "stderr",
     "output_type": "stream",
     "text": [
      "24/04/23 23:04:44 WARN TaskSetManager: Stage 9580 contains a task of very large size (3196 KiB). The maximum recommended task size is 1000 KiB.\n",
      "24/04/23 23:04:45 WARN TaskSetManager: Stage 9584 contains a task of very large size (1281 KiB). The maximum recommended task size is 1000 KiB.\n"
     ]
    },
    {
     "name": "stdout",
     "output_type": "stream",
     "text": [
      "Model saved\n",
      "1548 10485086\n"
     ]
    },
    {
     "name": "stderr",
     "output_type": "stream",
     "text": [
      "24/04/23 23:04:53 WARN TaskSetManager: Stage 9608 contains a task of very large size (3196 KiB). The maximum recommended task size is 1000 KiB.\n",
      "24/04/23 23:04:54 WARN TaskSetManager: Stage 9612 contains a task of very large size (1281 KiB). The maximum recommended task size is 1000 KiB.\n"
     ]
    },
    {
     "name": "stdout",
     "output_type": "stream",
     "text": [
      "Model saved\n",
      "490 10485489\n"
     ]
    },
    {
     "name": "stderr",
     "output_type": "stream",
     "text": [
      "24/04/23 23:05:02 WARN TaskSetManager: Stage 9636 contains a task of very large size (3196 KiB). The maximum recommended task size is 1000 KiB.\n",
      "24/04/23 23:05:03 WARN TaskSetManager: Stage 9640 contains a task of very large size (1281 KiB). The maximum recommended task size is 1000 KiB.\n"
     ]
    },
    {
     "name": "stdout",
     "output_type": "stream",
     "text": [
      "Model saved\n",
      "333 10485531\n"
     ]
    },
    {
     "name": "stderr",
     "output_type": "stream",
     "text": [
      "24/04/23 23:05:13 WARN TaskSetManager: Stage 9664 contains a task of very large size (3196 KiB). The maximum recommended task size is 1000 KiB.\n",
      "24/04/23 23:05:13 WARN TaskSetManager: Stage 9668 contains a task of very large size (1281 KiB). The maximum recommended task size is 1000 KiB.\n"
     ]
    },
    {
     "name": "stdout",
     "output_type": "stream",
     "text": [
      "Model saved\n",
      "275 10485735\n"
     ]
    },
    {
     "name": "stderr",
     "output_type": "stream",
     "text": [
      "24/04/23 23:05:21 WARN TaskSetManager: Stage 9692 contains a task of very large size (3196 KiB). The maximum recommended task size is 1000 KiB.\n",
      "24/04/23 23:05:22 WARN TaskSetManager: Stage 9696 contains a task of very large size (1281 KiB). The maximum recommended task size is 1000 KiB.\n"
     ]
    },
    {
     "name": "stdout",
     "output_type": "stream",
     "text": [
      "Model saved\n",
      "409 10485386\n"
     ]
    },
    {
     "name": "stderr",
     "output_type": "stream",
     "text": [
      "24/04/23 23:05:30 WARN TaskSetManager: Stage 9720 contains a task of very large size (3196 KiB). The maximum recommended task size is 1000 KiB.\n",
      "24/04/23 23:05:31 WARN TaskSetManager: Stage 9724 contains a task of very large size (1281 KiB). The maximum recommended task size is 1000 KiB.\n"
     ]
    },
    {
     "name": "stdout",
     "output_type": "stream",
     "text": [
      "Model saved\n",
      "293 10485633\n"
     ]
    },
    {
     "name": "stderr",
     "output_type": "stream",
     "text": [
      "24/04/23 23:05:38 WARN TaskSetManager: Stage 9748 contains a task of very large size (3196 KiB). The maximum recommended task size is 1000 KiB.\n",
      "24/04/23 23:05:39 WARN TaskSetManager: Stage 9752 contains a task of very large size (1281 KiB). The maximum recommended task size is 1000 KiB.\n"
     ]
    },
    {
     "name": "stdout",
     "output_type": "stream",
     "text": [
      "Model saved\n",
      "939 10485304\n"
     ]
    },
    {
     "name": "stderr",
     "output_type": "stream",
     "text": [
      "24/04/23 23:05:48 WARN TaskSetManager: Stage 9776 contains a task of very large size (3196 KiB). The maximum recommended task size is 1000 KiB.\n",
      "24/04/23 23:05:48 WARN TaskSetManager: Stage 9780 contains a task of very large size (1281 KiB). The maximum recommended task size is 1000 KiB.\n"
     ]
    },
    {
     "name": "stdout",
     "output_type": "stream",
     "text": [
      "Model saved\n",
      "1119 10485240\n"
     ]
    },
    {
     "name": "stderr",
     "output_type": "stream",
     "text": [
      "24/04/23 23:05:57 WARN TaskSetManager: Stage 9804 contains a task of very large size (3196 KiB). The maximum recommended task size is 1000 KiB.\n",
      "24/04/23 23:05:57 WARN TaskSetManager: Stage 9808 contains a task of very large size (1281 KiB). The maximum recommended task size is 1000 KiB.\n"
     ]
    },
    {
     "name": "stdout",
     "output_type": "stream",
     "text": [
      "Model saved\n",
      "858 10485527\n"
     ]
    },
    {
     "name": "stderr",
     "output_type": "stream",
     "text": [
      "24/04/23 23:06:05 WARN TaskSetManager: Stage 9832 contains a task of very large size (3196 KiB). The maximum recommended task size is 1000 KiB.\n",
      "24/04/23 23:06:05 WARN TaskSetManager: Stage 9836 contains a task of very large size (1281 KiB). The maximum recommended task size is 1000 KiB.\n"
     ]
    },
    {
     "name": "stdout",
     "output_type": "stream",
     "text": [
      "Model saved\n",
      "2693 10483336\n"
     ]
    },
    {
     "name": "stderr",
     "output_type": "stream",
     "text": [
      "24/04/23 23:06:13 WARN TaskSetManager: Stage 9860 contains a task of very large size (3196 KiB). The maximum recommended task size is 1000 KiB.\n",
      "24/04/23 23:06:14 WARN TaskSetManager: Stage 9864 contains a task of very large size (1281 KiB). The maximum recommended task size is 1000 KiB.\n"
     ]
    },
    {
     "name": "stdout",
     "output_type": "stream",
     "text": [
      "Model saved\n",
      "764 10485205\n"
     ]
    },
    {
     "name": "stderr",
     "output_type": "stream",
     "text": [
      "24/04/23 23:06:21 WARN TaskSetManager: Stage 9888 contains a task of very large size (3196 KiB). The maximum recommended task size is 1000 KiB.\n",
      "24/04/23 23:06:22 WARN TaskSetManager: Stage 9892 contains a task of very large size (1281 KiB). The maximum recommended task size is 1000 KiB.\n"
     ]
    },
    {
     "name": "stdout",
     "output_type": "stream",
     "text": [
      "Model saved\n",
      "296 10485563\n"
     ]
    },
    {
     "name": "stderr",
     "output_type": "stream",
     "text": [
      "24/04/23 23:06:30 WARN TaskSetManager: Stage 9916 contains a task of very large size (3196 KiB). The maximum recommended task size is 1000 KiB.\n",
      "24/04/23 23:06:31 WARN TaskSetManager: Stage 9920 contains a task of very large size (1281 KiB). The maximum recommended task size is 1000 KiB.\n"
     ]
    },
    {
     "name": "stdout",
     "output_type": "stream",
     "text": [
      "Model saved\n",
      "943 10485404\n"
     ]
    },
    {
     "name": "stderr",
     "output_type": "stream",
     "text": [
      "24/04/23 23:06:40 WARN TaskSetManager: Stage 9944 contains a task of very large size (3196 KiB). The maximum recommended task size is 1000 KiB.\n",
      "24/04/23 23:06:40 WARN TaskSetManager: Stage 9948 contains a task of very large size (1281 KiB). The maximum recommended task size is 1000 KiB.\n"
     ]
    },
    {
     "name": "stdout",
     "output_type": "stream",
     "text": [
      "Model saved\n",
      "282 10485756\n"
     ]
    },
    {
     "name": "stderr",
     "output_type": "stream",
     "text": [
      "24/04/23 23:06:48 WARN TaskSetManager: Stage 9972 contains a task of very large size (3196 KiB). The maximum recommended task size is 1000 KiB.\n",
      "24/04/23 23:06:49 WARN TaskSetManager: Stage 9976 contains a task of very large size (1281 KiB). The maximum recommended task size is 1000 KiB.\n"
     ]
    },
    {
     "name": "stdout",
     "output_type": "stream",
     "text": [
      "Model saved\n",
      "375 10485692\n"
     ]
    },
    {
     "name": "stderr",
     "output_type": "stream",
     "text": [
      "24/04/23 23:06:57 WARN TaskSetManager: Stage 10000 contains a task of very large size (3196 KiB). The maximum recommended task size is 1000 KiB.\n",
      "24/04/23 23:06:58 WARN TaskSetManager: Stage 10004 contains a task of very large size (1281 KiB). The maximum recommended task size is 1000 KiB.\n"
     ]
    },
    {
     "name": "stdout",
     "output_type": "stream",
     "text": [
      "Model saved\n",
      "336 10485705\n"
     ]
    },
    {
     "name": "stderr",
     "output_type": "stream",
     "text": [
      "24/04/23 23:07:06 WARN TaskSetManager: Stage 10028 contains a task of very large size (3196 KiB). The maximum recommended task size is 1000 KiB.\n",
      "24/04/23 23:07:07 WARN TaskSetManager: Stage 10032 contains a task of very large size (1281 KiB). The maximum recommended task size is 1000 KiB.\n"
     ]
    },
    {
     "name": "stdout",
     "output_type": "stream",
     "text": [
      "Model saved\n",
      "449 10485525\n"
     ]
    },
    {
     "name": "stderr",
     "output_type": "stream",
     "text": [
      "24/04/23 23:07:14 WARN TaskSetManager: Stage 10056 contains a task of very large size (3196 KiB). The maximum recommended task size is 1000 KiB.\n",
      "24/04/23 23:07:15 WARN TaskSetManager: Stage 10060 contains a task of very large size (1281 KiB). The maximum recommended task size is 1000 KiB.\n"
     ]
    },
    {
     "name": "stdout",
     "output_type": "stream",
     "text": [
      "Model saved\n",
      "531 10485613\n"
     ]
    },
    {
     "name": "stderr",
     "output_type": "stream",
     "text": [
      "24/04/23 23:07:22 WARN TaskSetManager: Stage 10084 contains a task of very large size (3196 KiB). The maximum recommended task size is 1000 KiB.\n",
      "24/04/23 23:07:23 WARN TaskSetManager: Stage 10088 contains a task of very large size (1281 KiB). The maximum recommended task size is 1000 KiB.\n"
     ]
    },
    {
     "name": "stdout",
     "output_type": "stream",
     "text": [
      "Model saved\n",
      "1041 10485515\n"
     ]
    },
    {
     "name": "stderr",
     "output_type": "stream",
     "text": [
      "24/04/23 23:07:31 WARN TaskSetManager: Stage 10112 contains a task of very large size (3196 KiB). The maximum recommended task size is 1000 KiB.\n",
      "24/04/23 23:07:32 WARN TaskSetManager: Stage 10116 contains a task of very large size (1281 KiB). The maximum recommended task size is 1000 KiB.\n"
     ]
    },
    {
     "name": "stdout",
     "output_type": "stream",
     "text": [
      "Model saved\n",
      "519 10485624\n"
     ]
    },
    {
     "name": "stderr",
     "output_type": "stream",
     "text": [
      "24/04/23 23:07:40 WARN TaskSetManager: Stage 10140 contains a task of very large size (3196 KiB). The maximum recommended task size is 1000 KiB.\n",
      "24/04/23 23:07:41 WARN TaskSetManager: Stage 10144 contains a task of very large size (1281 KiB). The maximum recommended task size is 1000 KiB.\n"
     ]
    },
    {
     "name": "stdout",
     "output_type": "stream",
     "text": [
      "Model saved\n",
      "462 10485613\n"
     ]
    },
    {
     "name": "stderr",
     "output_type": "stream",
     "text": [
      "24/04/23 23:07:48 WARN TaskSetManager: Stage 10168 contains a task of very large size (3196 KiB). The maximum recommended task size is 1000 KiB.\n",
      "24/04/23 23:07:49 WARN TaskSetManager: Stage 10172 contains a task of very large size (1281 KiB). The maximum recommended task size is 1000 KiB.\n"
     ]
    },
    {
     "name": "stdout",
     "output_type": "stream",
     "text": [
      "Model saved\n",
      "505 10485705\n"
     ]
    },
    {
     "name": "stderr",
     "output_type": "stream",
     "text": [
      "24/04/23 23:07:56 WARN TaskSetManager: Stage 10196 contains a task of very large size (3196 KiB). The maximum recommended task size is 1000 KiB.\n",
      "24/04/23 23:07:57 WARN TaskSetManager: Stage 10200 contains a task of very large size (1281 KiB). The maximum recommended task size is 1000 KiB.\n"
     ]
    },
    {
     "name": "stdout",
     "output_type": "stream",
     "text": [
      "Model saved\n",
      "550 10485371\n"
     ]
    },
    {
     "name": "stderr",
     "output_type": "stream",
     "text": [
      "24/04/23 23:08:06 WARN TaskSetManager: Stage 10224 contains a task of very large size (3196 KiB). The maximum recommended task size is 1000 KiB.\n",
      "24/04/23 23:08:06 WARN TaskSetManager: Stage 10228 contains a task of very large size (1281 KiB). The maximum recommended task size is 1000 KiB.\n"
     ]
    },
    {
     "name": "stdout",
     "output_type": "stream",
     "text": [
      "Model saved\n",
      "917 10485029\n"
     ]
    },
    {
     "name": "stderr",
     "output_type": "stream",
     "text": [
      "24/04/23 23:08:16 WARN TaskSetManager: Stage 10252 contains a task of very large size (3196 KiB). The maximum recommended task size is 1000 KiB.\n",
      "24/04/23 23:08:17 WARN TaskSetManager: Stage 10256 contains a task of very large size (1281 KiB). The maximum recommended task size is 1000 KiB.\n"
     ]
    },
    {
     "name": "stdout",
     "output_type": "stream",
     "text": [
      "Model saved\n",
      "324 10485680\n"
     ]
    },
    {
     "name": "stderr",
     "output_type": "stream",
     "text": [
      "24/04/23 23:08:26 WARN TaskSetManager: Stage 10280 contains a task of very large size (3196 KiB). The maximum recommended task size is 1000 KiB.\n",
      "24/04/23 23:08:27 WARN TaskSetManager: Stage 10284 contains a task of very large size (1281 KiB). The maximum recommended task size is 1000 KiB.\n"
     ]
    },
    {
     "name": "stdout",
     "output_type": "stream",
     "text": [
      "Model saved\n",
      "1216 10485676\n"
     ]
    },
    {
     "name": "stderr",
     "output_type": "stream",
     "text": [
      "24/04/23 23:08:35 WARN TaskSetManager: Stage 10308 contains a task of very large size (3196 KiB). The maximum recommended task size is 1000 KiB.\n",
      "24/04/23 23:08:36 WARN TaskSetManager: Stage 10312 contains a task of very large size (1281 KiB). The maximum recommended task size is 1000 KiB.\n"
     ]
    },
    {
     "name": "stdout",
     "output_type": "stream",
     "text": [
      "Model saved\n",
      "306 10485670\n"
     ]
    },
    {
     "name": "stderr",
     "output_type": "stream",
     "text": [
      "24/04/23 23:08:44 WARN TaskSetManager: Stage 10336 contains a task of very large size (3196 KiB). The maximum recommended task size is 1000 KiB.\n",
      "24/04/23 23:08:45 WARN TaskSetManager: Stage 10340 contains a task of very large size (1281 KiB). The maximum recommended task size is 1000 KiB.\n"
     ]
    },
    {
     "name": "stdout",
     "output_type": "stream",
     "text": [
      "Model saved\n",
      "453 10485406\n"
     ]
    },
    {
     "name": "stderr",
     "output_type": "stream",
     "text": [
      "24/04/23 23:08:55 WARN TaskSetManager: Stage 10364 contains a task of very large size (3196 KiB). The maximum recommended task size is 1000 KiB.\n",
      "24/04/23 23:08:55 WARN TaskSetManager: Stage 10368 contains a task of very large size (1281 KiB). The maximum recommended task size is 1000 KiB.\n"
     ]
    },
    {
     "name": "stdout",
     "output_type": "stream",
     "text": [
      "Model saved\n",
      "375 10485560\n"
     ]
    },
    {
     "name": "stderr",
     "output_type": "stream",
     "text": [
      "24/04/23 23:09:04 WARN TaskSetManager: Stage 10392 contains a task of very large size (3196 KiB). The maximum recommended task size is 1000 KiB.\n",
      "24/04/23 23:09:05 WARN TaskSetManager: Stage 10396 contains a task of very large size (1281 KiB). The maximum recommended task size is 1000 KiB.\n"
     ]
    },
    {
     "name": "stdout",
     "output_type": "stream",
     "text": [
      "Model saved\n",
      "295 10485741\n"
     ]
    },
    {
     "name": "stderr",
     "output_type": "stream",
     "text": [
      "24/04/23 23:09:13 WARN TaskSetManager: Stage 10420 contains a task of very large size (3196 KiB). The maximum recommended task size is 1000 KiB.\n",
      "24/04/23 23:09:14 WARN TaskSetManager: Stage 10424 contains a task of very large size (1281 KiB). The maximum recommended task size is 1000 KiB.\n"
     ]
    },
    {
     "name": "stdout",
     "output_type": "stream",
     "text": [
      "Model saved\n",
      "370 10485497\n"
     ]
    },
    {
     "name": "stderr",
     "output_type": "stream",
     "text": [
      "24/04/23 23:09:21 WARN TaskSetManager: Stage 10448 contains a task of very large size (3196 KiB). The maximum recommended task size is 1000 KiB.\n",
      "24/04/23 23:09:22 WARN TaskSetManager: Stage 10452 contains a task of very large size (1281 KiB). The maximum recommended task size is 1000 KiB.\n"
     ]
    },
    {
     "name": "stdout",
     "output_type": "stream",
     "text": [
      "Model saved\n",
      "344 10485464\n"
     ]
    },
    {
     "name": "stderr",
     "output_type": "stream",
     "text": [
      "24/04/23 23:09:31 WARN TaskSetManager: Stage 10476 contains a task of very large size (3196 KiB). The maximum recommended task size is 1000 KiB.\n",
      "24/04/23 23:09:32 WARN TaskSetManager: Stage 10480 contains a task of very large size (1281 KiB). The maximum recommended task size is 1000 KiB.\n"
     ]
    },
    {
     "name": "stdout",
     "output_type": "stream",
     "text": [
      "Model saved\n",
      "383 10485598\n"
     ]
    },
    {
     "name": "stderr",
     "output_type": "stream",
     "text": [
      "24/04/23 23:09:40 WARN TaskSetManager: Stage 10504 contains a task of very large size (3196 KiB). The maximum recommended task size is 1000 KiB.\n",
      "24/04/23 23:09:41 WARN TaskSetManager: Stage 10508 contains a task of very large size (1281 KiB). The maximum recommended task size is 1000 KiB.\n"
     ]
    },
    {
     "name": "stdout",
     "output_type": "stream",
     "text": [
      "Model saved\n",
      "1094 10484682\n"
     ]
    },
    {
     "name": "stderr",
     "output_type": "stream",
     "text": [
      "24/04/23 23:09:48 WARN TaskSetManager: Stage 10532 contains a task of very large size (3196 KiB). The maximum recommended task size is 1000 KiB.\n",
      "24/04/23 23:09:49 WARN TaskSetManager: Stage 10536 contains a task of very large size (1281 KiB). The maximum recommended task size is 1000 KiB.\n"
     ]
    },
    {
     "name": "stdout",
     "output_type": "stream",
     "text": [
      "Model saved\n",
      "1503 10485565\n"
     ]
    },
    {
     "name": "stderr",
     "output_type": "stream",
     "text": [
      "24/04/23 23:09:56 WARN TaskSetManager: Stage 10560 contains a task of very large size (3196 KiB). The maximum recommended task size is 1000 KiB.\n",
      "24/04/23 23:09:57 WARN TaskSetManager: Stage 10564 contains a task of very large size (1281 KiB). The maximum recommended task size is 1000 KiB.\n"
     ]
    },
    {
     "name": "stdout",
     "output_type": "stream",
     "text": [
      "Model saved\n",
      "704 10485428\n"
     ]
    },
    {
     "name": "stderr",
     "output_type": "stream",
     "text": [
      "24/04/23 23:10:07 WARN TaskSetManager: Stage 10588 contains a task of very large size (3196 KiB). The maximum recommended task size is 1000 KiB.\n",
      "24/04/23 23:10:08 WARN TaskSetManager: Stage 10592 contains a task of very large size (1281 KiB). The maximum recommended task size is 1000 KiB.\n"
     ]
    },
    {
     "name": "stdout",
     "output_type": "stream",
     "text": [
      "Model saved\n",
      "348 10485535\n"
     ]
    },
    {
     "name": "stderr",
     "output_type": "stream",
     "text": [
      "24/04/23 23:10:17 WARN TaskSetManager: Stage 10616 contains a task of very large size (3196 KiB). The maximum recommended task size is 1000 KiB.\n",
      "24/04/23 23:10:17 WARN TaskSetManager: Stage 10620 contains a task of very large size (1281 KiB). The maximum recommended task size is 1000 KiB.\n"
     ]
    },
    {
     "name": "stdout",
     "output_type": "stream",
     "text": [
      "Model saved\n",
      "1232 10485531\n"
     ]
    },
    {
     "name": "stderr",
     "output_type": "stream",
     "text": [
      "24/04/23 23:10:26 WARN TaskSetManager: Stage 10644 contains a task of very large size (3196 KiB). The maximum recommended task size is 1000 KiB.\n",
      "24/04/23 23:10:26 WARN TaskSetManager: Stage 10648 contains a task of very large size (1281 KiB). The maximum recommended task size is 1000 KiB.\n"
     ]
    },
    {
     "name": "stdout",
     "output_type": "stream",
     "text": [
      "Model saved\n",
      "357 10485505\n"
     ]
    },
    {
     "name": "stderr",
     "output_type": "stream",
     "text": [
      "24/04/23 23:10:34 WARN TaskSetManager: Stage 10672 contains a task of very large size (3196 KiB). The maximum recommended task size is 1000 KiB.\n",
      "24/04/23 23:10:35 WARN TaskSetManager: Stage 10676 contains a task of very large size (1281 KiB). The maximum recommended task size is 1000 KiB.\n"
     ]
    },
    {
     "name": "stdout",
     "output_type": "stream",
     "text": [
      "Model saved\n",
      "2149 10484984\n"
     ]
    },
    {
     "name": "stderr",
     "output_type": "stream",
     "text": [
      "24/04/23 23:10:42 WARN TaskSetManager: Stage 10700 contains a task of very large size (3196 KiB). The maximum recommended task size is 1000 KiB.\n",
      "24/04/23 23:10:43 WARN TaskSetManager: Stage 10704 contains a task of very large size (1281 KiB). The maximum recommended task size is 1000 KiB.\n"
     ]
    },
    {
     "name": "stdout",
     "output_type": "stream",
     "text": [
      "Model saved\n",
      "607 10485209\n"
     ]
    },
    {
     "name": "stderr",
     "output_type": "stream",
     "text": [
      "24/04/23 23:10:50 WARN TaskSetManager: Stage 10728 contains a task of very large size (3196 KiB). The maximum recommended task size is 1000 KiB.\n",
      "24/04/23 23:10:50 WARN TaskSetManager: Stage 10732 contains a task of very large size (1281 KiB). The maximum recommended task size is 1000 KiB.\n"
     ]
    },
    {
     "name": "stdout",
     "output_type": "stream",
     "text": [
      "Model saved\n",
      "1908 10484147\n"
     ]
    },
    {
     "name": "stderr",
     "output_type": "stream",
     "text": [
      "24/04/23 23:10:56 WARN TaskSetManager: Stage 10756 contains a task of very large size (3196 KiB). The maximum recommended task size is 1000 KiB.\n",
      "24/04/23 23:10:56 WARN TaskSetManager: Stage 10760 contains a task of very large size (1281 KiB). The maximum recommended task size is 1000 KiB.\n"
     ]
    },
    {
     "name": "stdout",
     "output_type": "stream",
     "text": [
      "Model saved\n",
      "2580 10485355\n"
     ]
    },
    {
     "name": "stderr",
     "output_type": "stream",
     "text": [
      "24/04/23 23:11:02 WARN TaskSetManager: Stage 10784 contains a task of very large size (3196 KiB). The maximum recommended task size is 1000 KiB.\n",
      "24/04/23 23:11:03 WARN TaskSetManager: Stage 10788 contains a task of very large size (1281 KiB). The maximum recommended task size is 1000 KiB.\n"
     ]
    },
    {
     "name": "stdout",
     "output_type": "stream",
     "text": [
      "Model saved\n",
      "891 10484994\n"
     ]
    },
    {
     "name": "stderr",
     "output_type": "stream",
     "text": [
      "24/04/23 23:11:09 WARN TaskSetManager: Stage 10812 contains a task of very large size (3196 KiB). The maximum recommended task size is 1000 KiB.\n",
      "24/04/23 23:11:10 WARN TaskSetManager: Stage 10816 contains a task of very large size (1281 KiB). The maximum recommended task size is 1000 KiB.\n"
     ]
    },
    {
     "name": "stdout",
     "output_type": "stream",
     "text": [
      "Model saved\n",
      "1265 10485043\n"
     ]
    },
    {
     "name": "stderr",
     "output_type": "stream",
     "text": [
      "24/04/23 23:11:17 WARN TaskSetManager: Stage 10840 contains a task of very large size (3196 KiB). The maximum recommended task size is 1000 KiB.\n",
      "24/04/23 23:11:17 WARN TaskSetManager: Stage 10844 contains a task of very large size (1281 KiB). The maximum recommended task size is 1000 KiB.\n"
     ]
    },
    {
     "name": "stdout",
     "output_type": "stream",
     "text": [
      "Model saved\n",
      "2153 10483986\n"
     ]
    },
    {
     "name": "stderr",
     "output_type": "stream",
     "text": [
      "24/04/23 23:11:24 WARN TaskSetManager: Stage 10868 contains a task of very large size (3196 KiB). The maximum recommended task size is 1000 KiB.\n",
      "24/04/23 23:11:25 WARN TaskSetManager: Stage 10872 contains a task of very large size (1281 KiB). The maximum recommended task size is 1000 KiB.\n"
     ]
    },
    {
     "name": "stdout",
     "output_type": "stream",
     "text": [
      "Model saved\n",
      "2653 10484327\n"
     ]
    },
    {
     "name": "stderr",
     "output_type": "stream",
     "text": [
      "24/04/23 23:11:31 WARN TaskSetManager: Stage 10896 contains a task of very large size (3196 KiB). The maximum recommended task size is 1000 KiB.\n",
      "24/04/23 23:11:31 WARN TaskSetManager: Stage 10900 contains a task of very large size (1281 KiB). The maximum recommended task size is 1000 KiB.\n"
     ]
    },
    {
     "name": "stdout",
     "output_type": "stream",
     "text": [
      "Model saved\n",
      "3322 10483315\n"
     ]
    },
    {
     "name": "stderr",
     "output_type": "stream",
     "text": [
      "24/04/23 23:11:37 WARN TaskSetManager: Stage 10924 contains a task of very large size (3196 KiB). The maximum recommended task size is 1000 KiB.\n",
      "24/04/23 23:11:38 WARN TaskSetManager: Stage 10928 contains a task of very large size (1281 KiB). The maximum recommended task size is 1000 KiB.\n"
     ]
    },
    {
     "name": "stdout",
     "output_type": "stream",
     "text": [
      "Model saved\n",
      "1213 10485417\n"
     ]
    },
    {
     "name": "stderr",
     "output_type": "stream",
     "text": [
      "24/04/23 23:11:44 WARN TaskSetManager: Stage 10952 contains a task of very large size (3196 KiB). The maximum recommended task size is 1000 KiB.\n",
      "24/04/23 23:11:45 WARN TaskSetManager: Stage 10956 contains a task of very large size (1281 KiB). The maximum recommended task size is 1000 KiB.\n"
     ]
    },
    {
     "name": "stdout",
     "output_type": "stream",
     "text": [
      "Model saved\n",
      "2543 10484068\n"
     ]
    },
    {
     "name": "stderr",
     "output_type": "stream",
     "text": [
      "24/04/23 23:11:52 WARN TaskSetManager: Stage 10980 contains a task of very large size (3196 KiB). The maximum recommended task size is 1000 KiB.\n",
      "24/04/23 23:11:53 WARN TaskSetManager: Stage 10984 contains a task of very large size (1281 KiB). The maximum recommended task size is 1000 KiB.\n"
     ]
    },
    {
     "name": "stdout",
     "output_type": "stream",
     "text": [
      "Model saved\n",
      "2386 10483705\n"
     ]
    },
    {
     "name": "stderr",
     "output_type": "stream",
     "text": [
      "24/04/23 23:11:59 WARN TaskSetManager: Stage 11008 contains a task of very large size (3196 KiB). The maximum recommended task size is 1000 KiB.\n",
      "24/04/23 23:12:00 WARN TaskSetManager: Stage 11012 contains a task of very large size (1281 KiB). The maximum recommended task size is 1000 KiB.\n"
     ]
    },
    {
     "name": "stdout",
     "output_type": "stream",
     "text": [
      "Model saved\n",
      "3444 10484782\n"
     ]
    },
    {
     "name": "stderr",
     "output_type": "stream",
     "text": [
      "24/04/23 23:12:06 WARN TaskSetManager: Stage 11036 contains a task of very large size (3196 KiB). The maximum recommended task size is 1000 KiB.\n",
      "24/04/23 23:12:07 WARN TaskSetManager: Stage 11040 contains a task of very large size (1281 KiB). The maximum recommended task size is 1000 KiB.\n"
     ]
    },
    {
     "name": "stdout",
     "output_type": "stream",
     "text": [
      "Model saved\n",
      "1647 10484226\n"
     ]
    },
    {
     "name": "stderr",
     "output_type": "stream",
     "text": [
      "24/04/23 23:12:13 WARN TaskSetManager: Stage 11064 contains a task of very large size (3196 KiB). The maximum recommended task size is 1000 KiB.\n",
      "24/04/23 23:12:14 WARN TaskSetManager: Stage 11068 contains a task of very large size (1281 KiB). The maximum recommended task size is 1000 KiB.\n"
     ]
    },
    {
     "name": "stdout",
     "output_type": "stream",
     "text": [
      "Model saved\n",
      "369 10485422\n"
     ]
    },
    {
     "name": "stderr",
     "output_type": "stream",
     "text": [
      "24/04/23 23:12:21 WARN TaskSetManager: Stage 11092 contains a task of very large size (3196 KiB). The maximum recommended task size is 1000 KiB.\n",
      "24/04/23 23:12:22 WARN TaskSetManager: Stage 11096 contains a task of very large size (1281 KiB). The maximum recommended task size is 1000 KiB.\n"
     ]
    },
    {
     "name": "stdout",
     "output_type": "stream",
     "text": [
      "Model saved\n",
      "1845 10484185\n"
     ]
    },
    {
     "name": "stderr",
     "output_type": "stream",
     "text": [
      "24/04/23 23:12:29 WARN TaskSetManager: Stage 11120 contains a task of very large size (3196 KiB). The maximum recommended task size is 1000 KiB.\n",
      "24/04/23 23:12:30 WARN TaskSetManager: Stage 11124 contains a task of very large size (1281 KiB). The maximum recommended task size is 1000 KiB.\n"
     ]
    },
    {
     "name": "stdout",
     "output_type": "stream",
     "text": [
      "Model saved\n",
      "1999 10484923\n"
     ]
    },
    {
     "name": "stderr",
     "output_type": "stream",
     "text": [
      "24/04/23 23:12:37 WARN TaskSetManager: Stage 11148 contains a task of very large size (3196 KiB). The maximum recommended task size is 1000 KiB.\n",
      "24/04/23 23:12:37 WARN TaskSetManager: Stage 11152 contains a task of very large size (1281 KiB). The maximum recommended task size is 1000 KiB.\n"
     ]
    },
    {
     "name": "stdout",
     "output_type": "stream",
     "text": [
      "Model saved\n",
      "9127 10480482\n"
     ]
    },
    {
     "name": "stderr",
     "output_type": "stream",
     "text": [
      "24/04/23 23:12:44 WARN TaskSetManager: Stage 11176 contains a task of very large size (3196 KiB). The maximum recommended task size is 1000 KiB.\n",
      "24/04/23 23:12:44 WARN TaskSetManager: Stage 11180 contains a task of very large size (1281 KiB). The maximum recommended task size is 1000 KiB.\n"
     ]
    },
    {
     "name": "stdout",
     "output_type": "stream",
     "text": [
      "Model saved\n",
      "3302 10484982\n"
     ]
    },
    {
     "name": "stderr",
     "output_type": "stream",
     "text": [
      "24/04/23 23:12:50 WARN TaskSetManager: Stage 11204 contains a task of very large size (3196 KiB). The maximum recommended task size is 1000 KiB.\n",
      "24/04/23 23:12:51 WARN TaskSetManager: Stage 11208 contains a task of very large size (1281 KiB). The maximum recommended task size is 1000 KiB.\n"
     ]
    },
    {
     "name": "stdout",
     "output_type": "stream",
     "text": [
      "Model saved\n",
      "791 10485153\n"
     ]
    },
    {
     "name": "stderr",
     "output_type": "stream",
     "text": [
      "24/04/23 23:12:58 WARN TaskSetManager: Stage 11232 contains a task of very large size (3196 KiB). The maximum recommended task size is 1000 KiB.\n",
      "24/04/23 23:12:59 WARN TaskSetManager: Stage 11236 contains a task of very large size (1281 KiB). The maximum recommended task size is 1000 KiB.\n"
     ]
    },
    {
     "name": "stdout",
     "output_type": "stream",
     "text": [
      "Model saved\n",
      "4194 10485316\n"
     ]
    },
    {
     "name": "stderr",
     "output_type": "stream",
     "text": [
      "24/04/23 23:13:07 WARN TaskSetManager: Stage 11260 contains a task of very large size (3196 KiB). The maximum recommended task size is 1000 KiB.\n",
      "24/04/23 23:13:08 WARN TaskSetManager: Stage 11264 contains a task of very large size (1281 KiB). The maximum recommended task size is 1000 KiB.\n"
     ]
    },
    {
     "name": "stdout",
     "output_type": "stream",
     "text": [
      "Model saved\n",
      "2551 10483774\n"
     ]
    },
    {
     "name": "stderr",
     "output_type": "stream",
     "text": [
      "24/04/23 23:13:16 WARN TaskSetManager: Stage 11288 contains a task of very large size (3196 KiB). The maximum recommended task size is 1000 KiB.\n",
      "24/04/23 23:13:17 WARN TaskSetManager: Stage 11292 contains a task of very large size (1281 KiB). The maximum recommended task size is 1000 KiB.\n"
     ]
    },
    {
     "name": "stdout",
     "output_type": "stream",
     "text": [
      "Model saved\n",
      "3039 10483064\n"
     ]
    },
    {
     "name": "stderr",
     "output_type": "stream",
     "text": [
      "24/04/23 23:13:23 WARN TaskSetManager: Stage 11316 contains a task of very large size (3196 KiB). The maximum recommended task size is 1000 KiB.\n",
      "24/04/23 23:13:24 WARN TaskSetManager: Stage 11320 contains a task of very large size (1281 KiB). The maximum recommended task size is 1000 KiB.\n"
     ]
    },
    {
     "name": "stdout",
     "output_type": "stream",
     "text": [
      "Model saved\n",
      "1381 10485168\n"
     ]
    },
    {
     "name": "stderr",
     "output_type": "stream",
     "text": [
      "24/04/23 23:13:31 WARN TaskSetManager: Stage 11344 contains a task of very large size (3196 KiB). The maximum recommended task size is 1000 KiB.\n",
      "24/04/23 23:13:32 WARN TaskSetManager: Stage 11348 contains a task of very large size (1281 KiB). The maximum recommended task size is 1000 KiB.\n"
     ]
    },
    {
     "name": "stdout",
     "output_type": "stream",
     "text": [
      "Model saved\n",
      "4749 10482615\n"
     ]
    },
    {
     "name": "stderr",
     "output_type": "stream",
     "text": [
      "24/04/23 23:13:39 WARN TaskSetManager: Stage 11372 contains a task of very large size (3196 KiB). The maximum recommended task size is 1000 KiB.\n",
      "24/04/23 23:13:40 WARN TaskSetManager: Stage 11376 contains a task of very large size (1281 KiB). The maximum recommended task size is 1000 KiB.\n"
     ]
    },
    {
     "name": "stdout",
     "output_type": "stream",
     "text": [
      "Model saved\n",
      "2922 10483149\n"
     ]
    },
    {
     "name": "stderr",
     "output_type": "stream",
     "text": [
      "24/04/23 23:13:46 WARN TaskSetManager: Stage 11400 contains a task of very large size (3196 KiB). The maximum recommended task size is 1000 KiB.\n",
      "24/04/23 23:13:47 WARN TaskSetManager: Stage 11404 contains a task of very large size (1281 KiB). The maximum recommended task size is 1000 KiB.\n"
     ]
    },
    {
     "name": "stdout",
     "output_type": "stream",
     "text": [
      "Model saved\n",
      "1965 10484518\n"
     ]
    },
    {
     "name": "stderr",
     "output_type": "stream",
     "text": [
      "24/04/23 23:13:53 WARN TaskSetManager: Stage 11428 contains a task of very large size (3196 KiB). The maximum recommended task size is 1000 KiB.\n",
      "24/04/23 23:13:54 WARN TaskSetManager: Stage 11432 contains a task of very large size (1281 KiB). The maximum recommended task size is 1000 KiB.\n"
     ]
    },
    {
     "name": "stdout",
     "output_type": "stream",
     "text": [
      "Model saved\n",
      "993 10485509\n"
     ]
    },
    {
     "name": "stderr",
     "output_type": "stream",
     "text": [
      "24/04/23 23:14:00 WARN TaskSetManager: Stage 11456 contains a task of very large size (3196 KiB). The maximum recommended task size is 1000 KiB.\n",
      "24/04/23 23:14:00 WARN TaskSetManager: Stage 11460 contains a task of very large size (1281 KiB). The maximum recommended task size is 1000 KiB.\n"
     ]
    },
    {
     "name": "stdout",
     "output_type": "stream",
     "text": [
      "Model saved\n",
      "469 10485351\n"
     ]
    },
    {
     "name": "stderr",
     "output_type": "stream",
     "text": [
      "24/04/23 23:14:07 WARN TaskSetManager: Stage 11484 contains a task of very large size (3196 KiB). The maximum recommended task size is 1000 KiB.\n",
      "24/04/23 23:14:08 WARN TaskSetManager: Stage 11488 contains a task of very large size (1281 KiB). The maximum recommended task size is 1000 KiB.\n"
     ]
    },
    {
     "name": "stdout",
     "output_type": "stream",
     "text": [
      "Model saved\n",
      "366 10485474\n"
     ]
    },
    {
     "name": "stderr",
     "output_type": "stream",
     "text": [
      "24/04/23 23:14:15 WARN TaskSetManager: Stage 11512 contains a task of very large size (3196 KiB). The maximum recommended task size is 1000 KiB.\n",
      "24/04/23 23:14:15 WARN TaskSetManager: Stage 11516 contains a task of very large size (1281 KiB). The maximum recommended task size is 1000 KiB.\n"
     ]
    },
    {
     "name": "stdout",
     "output_type": "stream",
     "text": [
      "Model saved\n",
      "1169 10485127\n"
     ]
    },
    {
     "name": "stderr",
     "output_type": "stream",
     "text": [
      "24/04/23 23:14:22 WARN TaskSetManager: Stage 11540 contains a task of very large size (3196 KiB). The maximum recommended task size is 1000 KiB.\n",
      "24/04/23 23:14:22 WARN TaskSetManager: Stage 11544 contains a task of very large size (1281 KiB). The maximum recommended task size is 1000 KiB.\n"
     ]
    },
    {
     "name": "stdout",
     "output_type": "stream",
     "text": [
      "Model saved\n",
      "2378 10485225\n"
     ]
    },
    {
     "name": "stderr",
     "output_type": "stream",
     "text": [
      "24/04/23 23:14:29 WARN TaskSetManager: Stage 11568 contains a task of very large size (3196 KiB). The maximum recommended task size is 1000 KiB.\n",
      "24/04/23 23:14:29 WARN TaskSetManager: Stage 11572 contains a task of very large size (1281 KiB). The maximum recommended task size is 1000 KiB.\n"
     ]
    },
    {
     "name": "stdout",
     "output_type": "stream",
     "text": [
      "Model saved\n",
      "1042 10485624\n"
     ]
    },
    {
     "name": "stderr",
     "output_type": "stream",
     "text": [
      "24/04/23 23:14:35 WARN TaskSetManager: Stage 11596 contains a task of very large size (3196 KiB). The maximum recommended task size is 1000 KiB.\n",
      "24/04/23 23:14:36 WARN TaskSetManager: Stage 11600 contains a task of very large size (1281 KiB). The maximum recommended task size is 1000 KiB.\n"
     ]
    },
    {
     "name": "stdout",
     "output_type": "stream",
     "text": [
      "Model saved\n",
      "1677 10485367\n"
     ]
    },
    {
     "name": "stderr",
     "output_type": "stream",
     "text": [
      "24/04/23 23:14:42 WARN TaskSetManager: Stage 11624 contains a task of very large size (3196 KiB). The maximum recommended task size is 1000 KiB.\n",
      "24/04/23 23:14:43 WARN TaskSetManager: Stage 11628 contains a task of very large size (1281 KiB). The maximum recommended task size is 1000 KiB.\n"
     ]
    },
    {
     "name": "stdout",
     "output_type": "stream",
     "text": [
      "Model saved\n",
      "1222 10485116\n"
     ]
    },
    {
     "name": "stderr",
     "output_type": "stream",
     "text": [
      "24/04/23 23:14:50 WARN TaskSetManager: Stage 11652 contains a task of very large size (3196 KiB). The maximum recommended task size is 1000 KiB.\n",
      "24/04/23 23:14:50 WARN TaskSetManager: Stage 11656 contains a task of very large size (1281 KiB). The maximum recommended task size is 1000 KiB.\n"
     ]
    },
    {
     "name": "stdout",
     "output_type": "stream",
     "text": [
      "Model saved\n",
      "1371 10485661\n"
     ]
    },
    {
     "name": "stderr",
     "output_type": "stream",
     "text": [
      "24/04/23 23:14:59 WARN TaskSetManager: Stage 11680 contains a task of very large size (3196 KiB). The maximum recommended task size is 1000 KiB.\n",
      "24/04/23 23:15:00 WARN TaskSetManager: Stage 11684 contains a task of very large size (1281 KiB). The maximum recommended task size is 1000 KiB.\n"
     ]
    },
    {
     "name": "stdout",
     "output_type": "stream",
     "text": [
      "Model saved\n",
      "2623 10485041\n"
     ]
    },
    {
     "name": "stderr",
     "output_type": "stream",
     "text": [
      "24/04/23 23:15:08 WARN TaskSetManager: Stage 11708 contains a task of very large size (3196 KiB). The maximum recommended task size is 1000 KiB.\n",
      "24/04/23 23:15:09 WARN TaskSetManager: Stage 11712 contains a task of very large size (1281 KiB). The maximum recommended task size is 1000 KiB.\n"
     ]
    },
    {
     "name": "stdout",
     "output_type": "stream",
     "text": [
      "Model saved\n",
      "2804 10483819\n"
     ]
    },
    {
     "name": "stderr",
     "output_type": "stream",
     "text": [
      "24/04/23 23:15:15 WARN TaskSetManager: Stage 11736 contains a task of very large size (3196 KiB). The maximum recommended task size is 1000 KiB.\n",
      "24/04/23 23:15:16 WARN TaskSetManager: Stage 11740 contains a task of very large size (1281 KiB). The maximum recommended task size is 1000 KiB.\n"
     ]
    },
    {
     "name": "stdout",
     "output_type": "stream",
     "text": [
      "Model saved\n",
      "1703 10485635\n"
     ]
    },
    {
     "name": "stderr",
     "output_type": "stream",
     "text": [
      "24/04/23 23:15:23 WARN TaskSetManager: Stage 11764 contains a task of very large size (3196 KiB). The maximum recommended task size is 1000 KiB.\n",
      "24/04/23 23:15:24 WARN TaskSetManager: Stage 11768 contains a task of very large size (1281 KiB). The maximum recommended task size is 1000 KiB.\n"
     ]
    },
    {
     "name": "stdout",
     "output_type": "stream",
     "text": [
      "Model saved\n",
      "1052 10485567\n"
     ]
    },
    {
     "name": "stderr",
     "output_type": "stream",
     "text": [
      "24/04/23 23:15:30 WARN TaskSetManager: Stage 11792 contains a task of very large size (3196 KiB). The maximum recommended task size is 1000 KiB.\n",
      "24/04/23 23:15:31 WARN TaskSetManager: Stage 11796 contains a task of very large size (1281 KiB). The maximum recommended task size is 1000 KiB.\n"
     ]
    },
    {
     "name": "stdout",
     "output_type": "stream",
     "text": [
      "Model saved\n",
      "3279 10484977\n"
     ]
    },
    {
     "name": "stderr",
     "output_type": "stream",
     "text": [
      "24/04/23 23:15:37 WARN TaskSetManager: Stage 11820 contains a task of very large size (3196 KiB). The maximum recommended task size is 1000 KiB.\n",
      "24/04/23 23:15:38 WARN TaskSetManager: Stage 11824 contains a task of very large size (1281 KiB). The maximum recommended task size is 1000 KiB.\n"
     ]
    },
    {
     "name": "stdout",
     "output_type": "stream",
     "text": [
      "Model saved\n",
      "1526 10484362\n"
     ]
    },
    {
     "name": "stderr",
     "output_type": "stream",
     "text": [
      "24/04/23 23:15:44 WARN TaskSetManager: Stage 11848 contains a task of very large size (3196 KiB). The maximum recommended task size is 1000 KiB.\n",
      "24/04/23 23:15:45 WARN TaskSetManager: Stage 11852 contains a task of very large size (1281 KiB). The maximum recommended task size is 1000 KiB.\n"
     ]
    },
    {
     "name": "stdout",
     "output_type": "stream",
     "text": [
      "Model saved\n",
      "619 10485512\n"
     ]
    },
    {
     "name": "stderr",
     "output_type": "stream",
     "text": [
      "24/04/23 23:15:51 WARN TaskSetManager: Stage 11876 contains a task of very large size (3196 KiB). The maximum recommended task size is 1000 KiB.\n",
      "24/04/23 23:15:52 WARN TaskSetManager: Stage 11880 contains a task of very large size (1281 KiB). The maximum recommended task size is 1000 KiB.\n"
     ]
    },
    {
     "name": "stdout",
     "output_type": "stream",
     "text": [
      "Model saved\n",
      "2464 10485439\n"
     ]
    },
    {
     "name": "stderr",
     "output_type": "stream",
     "text": [
      "24/04/23 23:15:58 WARN TaskSetManager: Stage 11904 contains a task of very large size (3196 KiB). The maximum recommended task size is 1000 KiB.\n",
      "24/04/23 23:15:59 WARN TaskSetManager: Stage 11908 contains a task of very large size (1281 KiB). The maximum recommended task size is 1000 KiB.\n"
     ]
    },
    {
     "name": "stdout",
     "output_type": "stream",
     "text": [
      "Model saved\n",
      "2136 10484460\n"
     ]
    },
    {
     "name": "stderr",
     "output_type": "stream",
     "text": [
      "24/04/23 23:16:06 WARN TaskSetManager: Stage 11932 contains a task of very large size (3196 KiB). The maximum recommended task size is 1000 KiB.\n",
      "24/04/23 23:16:07 WARN TaskSetManager: Stage 11936 contains a task of very large size (1281 KiB). The maximum recommended task size is 1000 KiB.\n"
     ]
    },
    {
     "name": "stdout",
     "output_type": "stream",
     "text": [
      "Model saved\n",
      "977 10485381\n"
     ]
    },
    {
     "name": "stderr",
     "output_type": "stream",
     "text": [
      "24/04/23 23:16:12 WARN TaskSetManager: Stage 11960 contains a task of very large size (3196 KiB). The maximum recommended task size is 1000 KiB.\n",
      "24/04/23 23:16:13 WARN TaskSetManager: Stage 11964 contains a task of very large size (1281 KiB). The maximum recommended task size is 1000 KiB.\n"
     ]
    },
    {
     "name": "stdout",
     "output_type": "stream",
     "text": [
      "Model saved\n",
      "678 10485287\n"
     ]
    },
    {
     "name": "stderr",
     "output_type": "stream",
     "text": [
      "24/04/23 23:16:18 WARN TaskSetManager: Stage 11988 contains a task of very large size (3196 KiB). The maximum recommended task size is 1000 KiB.\n",
      "24/04/23 23:16:19 WARN TaskSetManager: Stage 11992 contains a task of very large size (1281 KiB). The maximum recommended task size is 1000 KiB.\n"
     ]
    },
    {
     "name": "stdout",
     "output_type": "stream",
     "text": [
      "Model saved\n",
      "1485 10485591\n"
     ]
    },
    {
     "name": "stderr",
     "output_type": "stream",
     "text": [
      "24/04/23 23:16:25 WARN TaskSetManager: Stage 12016 contains a task of very large size (3196 KiB). The maximum recommended task size is 1000 KiB.\n",
      "24/04/23 23:16:26 WARN TaskSetManager: Stage 12020 contains a task of very large size (1281 KiB). The maximum recommended task size is 1000 KiB.\n"
     ]
    },
    {
     "name": "stdout",
     "output_type": "stream",
     "text": [
      "Model saved\n",
      "636 10485165\n"
     ]
    },
    {
     "name": "stderr",
     "output_type": "stream",
     "text": [
      "24/04/23 23:16:33 WARN TaskSetManager: Stage 12044 contains a task of very large size (3196 KiB). The maximum recommended task size is 1000 KiB.\n",
      "24/04/23 23:16:34 WARN TaskSetManager: Stage 12048 contains a task of very large size (1281 KiB). The maximum recommended task size is 1000 KiB.\n"
     ]
    },
    {
     "name": "stdout",
     "output_type": "stream",
     "text": [
      "Model saved\n",
      "1811 10485220\n"
     ]
    },
    {
     "name": "stderr",
     "output_type": "stream",
     "text": [
      "24/04/23 23:16:41 WARN TaskSetManager: Stage 12072 contains a task of very large size (3196 KiB). The maximum recommended task size is 1000 KiB.\n",
      "24/04/23 23:16:41 WARN TaskSetManager: Stage 12076 contains a task of very large size (1281 KiB). The maximum recommended task size is 1000 KiB.\n"
     ]
    },
    {
     "name": "stdout",
     "output_type": "stream",
     "text": [
      "Model saved\n",
      "676 10485496\n"
     ]
    },
    {
     "name": "stderr",
     "output_type": "stream",
     "text": [
      "24/04/23 23:16:48 WARN TaskSetManager: Stage 12100 contains a task of very large size (3196 KiB). The maximum recommended task size is 1000 KiB.\n",
      "24/04/23 23:16:48 WARN TaskSetManager: Stage 12104 contains a task of very large size (1281 KiB). The maximum recommended task size is 1000 KiB.\n"
     ]
    },
    {
     "name": "stdout",
     "output_type": "stream",
     "text": [
      "Model saved\n",
      "509 10485682\n"
     ]
    },
    {
     "name": "stderr",
     "output_type": "stream",
     "text": [
      "24/04/23 23:16:55 WARN TaskSetManager: Stage 12128 contains a task of very large size (3196 KiB). The maximum recommended task size is 1000 KiB.\n",
      "24/04/23 23:16:55 WARN TaskSetManager: Stage 12132 contains a task of very large size (1281 KiB). The maximum recommended task size is 1000 KiB.\n"
     ]
    },
    {
     "name": "stdout",
     "output_type": "stream",
     "text": [
      "Model saved\n",
      "1843 10484530\n"
     ]
    },
    {
     "name": "stderr",
     "output_type": "stream",
     "text": [
      "24/04/23 23:17:01 WARN TaskSetManager: Stage 12156 contains a task of very large size (3196 KiB). The maximum recommended task size is 1000 KiB.\n",
      "24/04/23 23:17:02 WARN TaskSetManager: Stage 12160 contains a task of very large size (1281 KiB). The maximum recommended task size is 1000 KiB.\n"
     ]
    },
    {
     "name": "stdout",
     "output_type": "stream",
     "text": [
      "Model saved\n",
      "780 10485369\n"
     ]
    },
    {
     "name": "stderr",
     "output_type": "stream",
     "text": [
      "24/04/23 23:17:08 WARN TaskSetManager: Stage 12184 contains a task of very large size (3196 KiB). The maximum recommended task size is 1000 KiB.\n",
      "24/04/23 23:17:09 WARN TaskSetManager: Stage 12188 contains a task of very large size (1281 KiB). The maximum recommended task size is 1000 KiB.\n"
     ]
    },
    {
     "name": "stdout",
     "output_type": "stream",
     "text": [
      "Model saved\n",
      "2490 10483579\n"
     ]
    },
    {
     "name": "stderr",
     "output_type": "stream",
     "text": [
      "24/04/23 23:17:15 WARN TaskSetManager: Stage 12212 contains a task of very large size (3196 KiB). The maximum recommended task size is 1000 KiB.\n",
      "24/04/23 23:17:16 WARN TaskSetManager: Stage 12216 contains a task of very large size (1281 KiB). The maximum recommended task size is 1000 KiB.\n"
     ]
    },
    {
     "name": "stdout",
     "output_type": "stream",
     "text": [
      "Model saved\n",
      "2703 10483944\n"
     ]
    },
    {
     "name": "stderr",
     "output_type": "stream",
     "text": [
      "24/04/23 23:17:22 WARN TaskSetManager: Stage 12240 contains a task of very large size (3196 KiB). The maximum recommended task size is 1000 KiB.\n",
      "24/04/23 23:17:23 WARN TaskSetManager: Stage 12244 contains a task of very large size (1281 KiB). The maximum recommended task size is 1000 KiB.\n"
     ]
    },
    {
     "name": "stdout",
     "output_type": "stream",
     "text": [
      "Model saved\n",
      "3317 10485010\n"
     ]
    },
    {
     "name": "stderr",
     "output_type": "stream",
     "text": [
      "24/04/23 23:17:30 WARN TaskSetManager: Stage 12268 contains a task of very large size (3196 KiB). The maximum recommended task size is 1000 KiB.\n",
      "24/04/23 23:17:30 WARN TaskSetManager: Stage 12272 contains a task of very large size (1281 KiB). The maximum recommended task size is 1000 KiB.\n"
     ]
    },
    {
     "name": "stdout",
     "output_type": "stream",
     "text": [
      "Model saved\n",
      "832 10485112\n"
     ]
    },
    {
     "name": "stderr",
     "output_type": "stream",
     "text": [
      "24/04/23 23:17:37 WARN TaskSetManager: Stage 12296 contains a task of very large size (3196 KiB). The maximum recommended task size is 1000 KiB.\n",
      "24/04/23 23:17:37 WARN TaskSetManager: Stage 12300 contains a task of very large size (1281 KiB). The maximum recommended task size is 1000 KiB.\n"
     ]
    },
    {
     "name": "stdout",
     "output_type": "stream",
     "text": [
      "Model saved\n",
      "1717 10485373\n"
     ]
    },
    {
     "name": "stderr",
     "output_type": "stream",
     "text": [
      "24/04/23 23:17:44 WARN TaskSetManager: Stage 12324 contains a task of very large size (3196 KiB). The maximum recommended task size is 1000 KiB.\n",
      "24/04/23 23:17:45 WARN TaskSetManager: Stage 12328 contains a task of very large size (1281 KiB). The maximum recommended task size is 1000 KiB.\n"
     ]
    },
    {
     "name": "stdout",
     "output_type": "stream",
     "text": [
      "Model saved\n",
      "759 10485231\n"
     ]
    },
    {
     "name": "stderr",
     "output_type": "stream",
     "text": [
      "24/04/23 23:17:51 WARN TaskSetManager: Stage 12352 contains a task of very large size (3196 KiB). The maximum recommended task size is 1000 KiB.\n",
      "24/04/23 23:17:52 WARN TaskSetManager: Stage 12356 contains a task of very large size (1281 KiB). The maximum recommended task size is 1000 KiB.\n"
     ]
    },
    {
     "name": "stdout",
     "output_type": "stream",
     "text": [
      "Model saved\n",
      "1108 10485027\n"
     ]
    },
    {
     "name": "stderr",
     "output_type": "stream",
     "text": [
      "24/04/23 23:17:59 WARN TaskSetManager: Stage 12380 contains a task of very large size (3196 KiB). The maximum recommended task size is 1000 KiB.\n",
      "24/04/23 23:18:00 WARN TaskSetManager: Stage 12384 contains a task of very large size (1281 KiB). The maximum recommended task size is 1000 KiB.\n"
     ]
    },
    {
     "name": "stdout",
     "output_type": "stream",
     "text": [
      "Model saved\n",
      "1205 10485207\n"
     ]
    },
    {
     "name": "stderr",
     "output_type": "stream",
     "text": [
      "24/04/23 23:18:06 WARN TaskSetManager: Stage 12408 contains a task of very large size (3196 KiB). The maximum recommended task size is 1000 KiB.\n",
      "24/04/23 23:18:07 WARN TaskSetManager: Stage 12412 contains a task of very large size (1281 KiB). The maximum recommended task size is 1000 KiB.\n"
     ]
    },
    {
     "name": "stdout",
     "output_type": "stream",
     "text": [
      "Model saved\n",
      "1680 10485741\n"
     ]
    },
    {
     "name": "stderr",
     "output_type": "stream",
     "text": [
      "24/04/23 23:18:13 WARN TaskSetManager: Stage 12436 contains a task of very large size (3196 KiB). The maximum recommended task size is 1000 KiB.\n",
      "24/04/23 23:18:14 WARN TaskSetManager: Stage 12440 contains a task of very large size (1281 KiB). The maximum recommended task size is 1000 KiB.\n"
     ]
    },
    {
     "name": "stdout",
     "output_type": "stream",
     "text": [
      "Model saved\n",
      "2870 10484633\n"
     ]
    },
    {
     "name": "stderr",
     "output_type": "stream",
     "text": [
      "24/04/23 23:18:20 WARN TaskSetManager: Stage 12464 contains a task of very large size (3196 KiB). The maximum recommended task size is 1000 KiB.\n",
      "24/04/23 23:18:20 WARN TaskSetManager: Stage 12468 contains a task of very large size (1281 KiB). The maximum recommended task size is 1000 KiB.\n"
     ]
    },
    {
     "name": "stdout",
     "output_type": "stream",
     "text": [
      "Model saved\n",
      "5291 10480904\n"
     ]
    },
    {
     "name": "stderr",
     "output_type": "stream",
     "text": [
      "24/04/23 23:18:27 WARN TaskSetManager: Stage 12492 contains a task of very large size (3196 KiB). The maximum recommended task size is 1000 KiB.\n",
      "24/04/23 23:18:28 WARN TaskSetManager: Stage 12496 contains a task of very large size (1281 KiB). The maximum recommended task size is 1000 KiB.\n"
     ]
    },
    {
     "name": "stdout",
     "output_type": "stream",
     "text": [
      "Model saved\n",
      "3050 10485630\n"
     ]
    },
    {
     "name": "stderr",
     "output_type": "stream",
     "text": [
      "24/04/23 23:18:34 WARN TaskSetManager: Stage 12520 contains a task of very large size (3196 KiB). The maximum recommended task size is 1000 KiB.\n",
      "24/04/23 23:18:34 WARN TaskSetManager: Stage 12524 contains a task of very large size (1281 KiB). The maximum recommended task size is 1000 KiB.\n"
     ]
    },
    {
     "name": "stdout",
     "output_type": "stream",
     "text": [
      "Model saved\n",
      "273 10485601\n"
     ]
    },
    {
     "name": "stderr",
     "output_type": "stream",
     "text": [
      "24/04/23 23:18:41 WARN TaskSetManager: Stage 12548 contains a task of very large size (3196 KiB). The maximum recommended task size is 1000 KiB.\n",
      "24/04/23 23:18:41 WARN TaskSetManager: Stage 12552 contains a task of very large size (1281 KiB). The maximum recommended task size is 1000 KiB.\n"
     ]
    },
    {
     "name": "stdout",
     "output_type": "stream",
     "text": [
      "Model saved\n",
      "1132 10484709\n"
     ]
    },
    {
     "name": "stderr",
     "output_type": "stream",
     "text": [
      "24/04/23 23:18:48 WARN TaskSetManager: Stage 12576 contains a task of very large size (3196 KiB). The maximum recommended task size is 1000 KiB.\n",
      "24/04/23 23:18:49 WARN TaskSetManager: Stage 12580 contains a task of very large size (1281 KiB). The maximum recommended task size is 1000 KiB.\n"
     ]
    },
    {
     "name": "stdout",
     "output_type": "stream",
     "text": [
      "Model saved\n",
      "1708 10484980\n"
     ]
    },
    {
     "name": "stderr",
     "output_type": "stream",
     "text": [
      "24/04/23 23:18:55 WARN TaskSetManager: Stage 12604 contains a task of very large size (3196 KiB). The maximum recommended task size is 1000 KiB.\n",
      "24/04/23 23:18:56 WARN TaskSetManager: Stage 12608 contains a task of very large size (1281 KiB). The maximum recommended task size is 1000 KiB.\n"
     ]
    },
    {
     "name": "stdout",
     "output_type": "stream",
     "text": [
      "Model saved\n",
      "5329 10480794\n"
     ]
    },
    {
     "name": "stderr",
     "output_type": "stream",
     "text": [
      "24/04/23 23:19:03 WARN TaskSetManager: Stage 12632 contains a task of very large size (3196 KiB). The maximum recommended task size is 1000 KiB.\n",
      "24/04/23 23:19:04 WARN TaskSetManager: Stage 12636 contains a task of very large size (1281 KiB). The maximum recommended task size is 1000 KiB.\n"
     ]
    },
    {
     "name": "stdout",
     "output_type": "stream",
     "text": [
      "Model saved\n",
      "1095 10485105\n"
     ]
    },
    {
     "name": "stderr",
     "output_type": "stream",
     "text": [
      "24/04/23 23:19:11 WARN TaskSetManager: Stage 12660 contains a task of very large size (3196 KiB). The maximum recommended task size is 1000 KiB.\n",
      "24/04/23 23:19:12 WARN TaskSetManager: Stage 12664 contains a task of very large size (1281 KiB). The maximum recommended task size is 1000 KiB.\n"
     ]
    },
    {
     "name": "stdout",
     "output_type": "stream",
     "text": [
      "Model saved\n",
      "2776 10484245\n"
     ]
    },
    {
     "name": "stderr",
     "output_type": "stream",
     "text": [
      "24/04/23 23:19:19 WARN TaskSetManager: Stage 12688 contains a task of very large size (3196 KiB). The maximum recommended task size is 1000 KiB.\n",
      "24/04/23 23:19:20 WARN TaskSetManager: Stage 12692 contains a task of very large size (1281 KiB). The maximum recommended task size is 1000 KiB.\n"
     ]
    },
    {
     "name": "stdout",
     "output_type": "stream",
     "text": [
      "Model saved\n",
      "6517 10482676\n"
     ]
    },
    {
     "name": "stderr",
     "output_type": "stream",
     "text": [
      "24/04/23 23:19:27 WARN TaskSetManager: Stage 12716 contains a task of very large size (3196 KiB). The maximum recommended task size is 1000 KiB.\n",
      "24/04/23 23:19:27 WARN TaskSetManager: Stage 12720 contains a task of very large size (1281 KiB). The maximum recommended task size is 1000 KiB.\n"
     ]
    },
    {
     "name": "stdout",
     "output_type": "stream",
     "text": [
      "Model saved\n",
      "3513 10483600\n"
     ]
    },
    {
     "name": "stderr",
     "output_type": "stream",
     "text": [
      "24/04/23 23:19:34 WARN TaskSetManager: Stage 12744 contains a task of very large size (3196 KiB). The maximum recommended task size is 1000 KiB.\n",
      "24/04/23 23:19:34 WARN TaskSetManager: Stage 12748 contains a task of very large size (1281 KiB). The maximum recommended task size is 1000 KiB.\n"
     ]
    },
    {
     "name": "stdout",
     "output_type": "stream",
     "text": [
      "Model saved\n",
      "334 10485748\n"
     ]
    },
    {
     "name": "stderr",
     "output_type": "stream",
     "text": [
      "24/04/23 23:19:40 WARN TaskSetManager: Stage 12772 contains a task of very large size (3196 KiB). The maximum recommended task size is 1000 KiB.\n",
      "24/04/23 23:19:41 WARN TaskSetManager: Stage 12776 contains a task of very large size (1281 KiB). The maximum recommended task size is 1000 KiB.\n"
     ]
    },
    {
     "name": "stdout",
     "output_type": "stream",
     "text": [
      "Model saved\n",
      "335 10485652\n"
     ]
    },
    {
     "name": "stderr",
     "output_type": "stream",
     "text": [
      "24/04/23 23:19:47 WARN TaskSetManager: Stage 12800 contains a task of very large size (3196 KiB). The maximum recommended task size is 1000 KiB.\n",
      "24/04/23 23:19:47 WARN TaskSetManager: Stage 12804 contains a task of very large size (1281 KiB). The maximum recommended task size is 1000 KiB.\n"
     ]
    },
    {
     "name": "stdout",
     "output_type": "stream",
     "text": [
      "Model saved\n",
      "457 10485363\n"
     ]
    },
    {
     "name": "stderr",
     "output_type": "stream",
     "text": [
      "24/04/23 23:19:54 WARN TaskSetManager: Stage 12828 contains a task of very large size (3196 KiB). The maximum recommended task size is 1000 KiB.\n",
      "24/04/23 23:19:54 WARN TaskSetManager: Stage 12832 contains a task of very large size (1281 KiB). The maximum recommended task size is 1000 KiB.\n"
     ]
    },
    {
     "name": "stdout",
     "output_type": "stream",
     "text": [
      "Model saved\n",
      "2075 10484639\n"
     ]
    },
    {
     "name": "stderr",
     "output_type": "stream",
     "text": [
      "24/04/23 23:20:01 WARN TaskSetManager: Stage 12856 contains a task of very large size (3196 KiB). The maximum recommended task size is 1000 KiB.\n",
      "24/04/23 23:20:02 WARN TaskSetManager: Stage 12860 contains a task of very large size (1281 KiB). The maximum recommended task size is 1000 KiB.\n"
     ]
    },
    {
     "name": "stdout",
     "output_type": "stream",
     "text": [
      "Model saved\n",
      "1006 10485108\n"
     ]
    },
    {
     "name": "stderr",
     "output_type": "stream",
     "text": [
      "24/04/23 23:20:08 WARN TaskSetManager: Stage 12884 contains a task of very large size (3196 KiB). The maximum recommended task size is 1000 KiB.\n",
      "24/04/23 23:20:09 WARN TaskSetManager: Stage 12888 contains a task of very large size (1281 KiB). The maximum recommended task size is 1000 KiB.\n"
     ]
    },
    {
     "name": "stdout",
     "output_type": "stream",
     "text": [
      "Model saved\n",
      "4712 10483003\n"
     ]
    },
    {
     "name": "stderr",
     "output_type": "stream",
     "text": [
      "24/04/23 23:20:16 WARN TaskSetManager: Stage 12912 contains a task of very large size (3196 KiB). The maximum recommended task size is 1000 KiB.\n",
      "24/04/23 23:20:16 WARN TaskSetManager: Stage 12916 contains a task of very large size (1281 KiB). The maximum recommended task size is 1000 KiB.\n"
     ]
    },
    {
     "name": "stdout",
     "output_type": "stream",
     "text": [
      "Model saved\n",
      "1890 10485585\n"
     ]
    },
    {
     "name": "stderr",
     "output_type": "stream",
     "text": [
      "24/04/23 23:20:24 WARN TaskSetManager: Stage 12940 contains a task of very large size (3196 KiB). The maximum recommended task size is 1000 KiB.\n",
      "24/04/23 23:20:25 WARN TaskSetManager: Stage 12944 contains a task of very large size (1281 KiB). The maximum recommended task size is 1000 KiB.\n"
     ]
    },
    {
     "name": "stdout",
     "output_type": "stream",
     "text": [
      "Model saved\n",
      "395 10485695\n"
     ]
    },
    {
     "name": "stderr",
     "output_type": "stream",
     "text": [
      "24/04/23 23:20:31 WARN TaskSetManager: Stage 12968 contains a task of very large size (3196 KiB). The maximum recommended task size is 1000 KiB.\n",
      "24/04/23 23:20:32 WARN TaskSetManager: Stage 12972 contains a task of very large size (1281 KiB). The maximum recommended task size is 1000 KiB.\n"
     ]
    },
    {
     "name": "stdout",
     "output_type": "stream",
     "text": [
      "Model saved\n",
      "1564 10485201\n"
     ]
    },
    {
     "name": "stderr",
     "output_type": "stream",
     "text": [
      "24/04/23 23:20:39 WARN TaskSetManager: Stage 12996 contains a task of very large size (3196 KiB). The maximum recommended task size is 1000 KiB.\n",
      "24/04/23 23:20:40 WARN TaskSetManager: Stage 13000 contains a task of very large size (1281 KiB). The maximum recommended task size is 1000 KiB.\n"
     ]
    },
    {
     "name": "stdout",
     "output_type": "stream",
     "text": [
      "Model saved\n",
      "1847 10485285\n"
     ]
    },
    {
     "name": "stderr",
     "output_type": "stream",
     "text": [
      "24/04/23 23:20:47 WARN TaskSetManager: Stage 13024 contains a task of very large size (3196 KiB). The maximum recommended task size is 1000 KiB.\n",
      "24/04/23 23:20:48 WARN TaskSetManager: Stage 13028 contains a task of very large size (1281 KiB). The maximum recommended task size is 1000 KiB.\n"
     ]
    },
    {
     "name": "stdout",
     "output_type": "stream",
     "text": [
      "Model saved\n",
      "7145 10479797\n"
     ]
    },
    {
     "name": "stderr",
     "output_type": "stream",
     "text": [
      "24/04/23 23:20:55 WARN TaskSetManager: Stage 13052 contains a task of very large size (3196 KiB). The maximum recommended task size is 1000 KiB.\n",
      "24/04/23 23:20:55 WARN TaskSetManager: Stage 13056 contains a task of very large size (1281 KiB). The maximum recommended task size is 1000 KiB.\n"
     ]
    },
    {
     "name": "stdout",
     "output_type": "stream",
     "text": [
      "Model saved\n",
      "524 10485678\n"
     ]
    },
    {
     "name": "stderr",
     "output_type": "stream",
     "text": [
      "24/04/23 23:21:02 WARN TaskSetManager: Stage 13080 contains a task of very large size (3196 KiB). The maximum recommended task size is 1000 KiB.\n",
      "24/04/23 23:21:03 WARN TaskSetManager: Stage 13084 contains a task of very large size (1281 KiB). The maximum recommended task size is 1000 KiB.\n"
     ]
    },
    {
     "name": "stdout",
     "output_type": "stream",
     "text": [
      "Model saved\n",
      "5136 10482931\n"
     ]
    },
    {
     "name": "stderr",
     "output_type": "stream",
     "text": [
      "24/04/23 23:21:11 WARN TaskSetManager: Stage 13108 contains a task of very large size (3196 KiB). The maximum recommended task size is 1000 KiB.\n",
      "24/04/23 23:21:12 WARN TaskSetManager: Stage 13112 contains a task of very large size (1281 KiB). The maximum recommended task size is 1000 KiB.\n"
     ]
    },
    {
     "name": "stdout",
     "output_type": "stream",
     "text": [
      "Model saved\n",
      "336 10485537\n"
     ]
    },
    {
     "name": "stderr",
     "output_type": "stream",
     "text": [
      "24/04/23 23:21:19 WARN TaskSetManager: Stage 13136 contains a task of very large size (3196 KiB). The maximum recommended task size is 1000 KiB.\n",
      "24/04/23 23:21:20 WARN TaskSetManager: Stage 13140 contains a task of very large size (1281 KiB). The maximum recommended task size is 1000 KiB.\n"
     ]
    },
    {
     "name": "stdout",
     "output_type": "stream",
     "text": [
      "Model saved\n",
      "915 10484864\n"
     ]
    },
    {
     "name": "stderr",
     "output_type": "stream",
     "text": [
      "24/04/23 23:21:27 WARN TaskSetManager: Stage 13164 contains a task of very large size (3196 KiB). The maximum recommended task size is 1000 KiB.\n",
      "24/04/23 23:21:28 WARN TaskSetManager: Stage 13168 contains a task of very large size (1281 KiB). The maximum recommended task size is 1000 KiB.\n"
     ]
    },
    {
     "name": "stdout",
     "output_type": "stream",
     "text": [
      "Model saved\n",
      "1611 10485749\n"
     ]
    },
    {
     "name": "stderr",
     "output_type": "stream",
     "text": [
      "24/04/23 23:21:35 WARN TaskSetManager: Stage 13192 contains a task of very large size (3196 KiB). The maximum recommended task size is 1000 KiB.\n",
      "24/04/23 23:21:35 WARN TaskSetManager: Stage 13196 contains a task of very large size (1281 KiB). The maximum recommended task size is 1000 KiB.\n"
     ]
    },
    {
     "name": "stdout",
     "output_type": "stream",
     "text": [
      "Model saved\n",
      "2089 10484874\n"
     ]
    },
    {
     "name": "stderr",
     "output_type": "stream",
     "text": [
      "24/04/23 23:21:43 WARN TaskSetManager: Stage 13220 contains a task of very large size (3196 KiB). The maximum recommended task size is 1000 KiB.\n",
      "24/04/23 23:21:44 WARN TaskSetManager: Stage 13224 contains a task of very large size (1281 KiB). The maximum recommended task size is 1000 KiB.\n"
     ]
    },
    {
     "name": "stdout",
     "output_type": "stream",
     "text": [
      "Model saved\n",
      "282 10485663\n"
     ]
    },
    {
     "name": "stderr",
     "output_type": "stream",
     "text": [
      "24/04/23 23:21:50 WARN TaskSetManager: Stage 13248 contains a task of very large size (3196 KiB). The maximum recommended task size is 1000 KiB.\n",
      "24/04/23 23:21:51 WARN TaskSetManager: Stage 13252 contains a task of very large size (1281 KiB). The maximum recommended task size is 1000 KiB.\n"
     ]
    },
    {
     "name": "stdout",
     "output_type": "stream",
     "text": [
      "Model saved\n",
      "308 10485697\n"
     ]
    },
    {
     "name": "stderr",
     "output_type": "stream",
     "text": [
      "24/04/23 23:21:58 WARN TaskSetManager: Stage 13276 contains a task of very large size (3196 KiB). The maximum recommended task size is 1000 KiB.\n",
      "24/04/23 23:21:58 WARN TaskSetManager: Stage 13280 contains a task of very large size (1281 KiB). The maximum recommended task size is 1000 KiB.\n"
     ]
    },
    {
     "name": "stdout",
     "output_type": "stream",
     "text": [
      "Model saved\n",
      "325 10485654\n"
     ]
    },
    {
     "name": "stderr",
     "output_type": "stream",
     "text": [
      "24/04/23 23:22:05 WARN TaskSetManager: Stage 13304 contains a task of very large size (3196 KiB). The maximum recommended task size is 1000 KiB.\n",
      "24/04/23 23:22:05 WARN TaskSetManager: Stage 13308 contains a task of very large size (1281 KiB). The maximum recommended task size is 1000 KiB.\n"
     ]
    },
    {
     "name": "stdout",
     "output_type": "stream",
     "text": [
      "Model saved\n",
      "2481 10484507\n"
     ]
    },
    {
     "name": "stderr",
     "output_type": "stream",
     "text": [
      "24/04/23 23:22:12 WARN TaskSetManager: Stage 13332 contains a task of very large size (3196 KiB). The maximum recommended task size is 1000 KiB.\n",
      "24/04/23 23:22:12 WARN TaskSetManager: Stage 13336 contains a task of very large size (1281 KiB). The maximum recommended task size is 1000 KiB.\n"
     ]
    },
    {
     "name": "stdout",
     "output_type": "stream",
     "text": [
      "Model saved\n",
      "956 10485273\n"
     ]
    },
    {
     "name": "stderr",
     "output_type": "stream",
     "text": [
      "24/04/23 23:22:20 WARN TaskSetManager: Stage 13360 contains a task of very large size (3196 KiB). The maximum recommended task size is 1000 KiB.\n",
      "24/04/23 23:22:20 WARN TaskSetManager: Stage 13364 contains a task of very large size (1281 KiB). The maximum recommended task size is 1000 KiB.\n"
     ]
    },
    {
     "name": "stdout",
     "output_type": "stream",
     "text": [
      "Model saved\n",
      "1391 10485296\n"
     ]
    },
    {
     "name": "stderr",
     "output_type": "stream",
     "text": [
      "24/04/23 23:22:27 WARN TaskSetManager: Stage 13388 contains a task of very large size (3196 KiB). The maximum recommended task size is 1000 KiB.\n",
      "24/04/23 23:22:28 WARN TaskSetManager: Stage 13392 contains a task of very large size (1281 KiB). The maximum recommended task size is 1000 KiB.\n"
     ]
    },
    {
     "name": "stdout",
     "output_type": "stream",
     "text": [
      "Model saved\n",
      "2239 10485284\n"
     ]
    },
    {
     "name": "stderr",
     "output_type": "stream",
     "text": [
      "24/04/23 23:22:33 WARN TaskSetManager: Stage 13416 contains a task of very large size (3196 KiB). The maximum recommended task size is 1000 KiB.\n",
      "24/04/23 23:22:34 WARN TaskSetManager: Stage 13420 contains a task of very large size (1281 KiB). The maximum recommended task size is 1000 KiB.\n"
     ]
    },
    {
     "name": "stdout",
     "output_type": "stream",
     "text": [
      "Model saved\n",
      "2708 10483958\n"
     ]
    },
    {
     "name": "stderr",
     "output_type": "stream",
     "text": [
      "24/04/23 23:22:40 WARN TaskSetManager: Stage 13444 contains a task of very large size (3196 KiB). The maximum recommended task size is 1000 KiB.\n",
      "24/04/23 23:22:41 WARN TaskSetManager: Stage 13448 contains a task of very large size (1281 KiB). The maximum recommended task size is 1000 KiB.\n"
     ]
    },
    {
     "name": "stdout",
     "output_type": "stream",
     "text": [
      "Model saved\n",
      "3629 10483991\n"
     ]
    },
    {
     "name": "stderr",
     "output_type": "stream",
     "text": [
      "24/04/23 23:22:48 WARN TaskSetManager: Stage 13472 contains a task of very large size (3196 KiB). The maximum recommended task size is 1000 KiB.\n",
      "24/04/23 23:22:49 WARN TaskSetManager: Stage 13476 contains a task of very large size (1281 KiB). The maximum recommended task size is 1000 KiB.\n"
     ]
    },
    {
     "name": "stdout",
     "output_type": "stream",
     "text": [
      "Model saved\n",
      "3543 10483083\n"
     ]
    },
    {
     "name": "stderr",
     "output_type": "stream",
     "text": [
      "24/04/23 23:22:56 WARN TaskSetManager: Stage 13500 contains a task of very large size (3196 KiB). The maximum recommended task size is 1000 KiB.\n",
      "24/04/23 23:22:56 WARN TaskSetManager: Stage 13504 contains a task of very large size (1281 KiB). The maximum recommended task size is 1000 KiB.\n"
     ]
    },
    {
     "name": "stdout",
     "output_type": "stream",
     "text": [
      "Model saved\n",
      "363 10485511\n"
     ]
    },
    {
     "name": "stderr",
     "output_type": "stream",
     "text": [
      "24/04/23 23:23:04 WARN TaskSetManager: Stage 13528 contains a task of very large size (3196 KiB). The maximum recommended task size is 1000 KiB.\n",
      "24/04/23 23:23:04 WARN TaskSetManager: Stage 13532 contains a task of very large size (1281 KiB). The maximum recommended task size is 1000 KiB.\n"
     ]
    },
    {
     "name": "stdout",
     "output_type": "stream",
     "text": [
      "Model saved\n",
      "1008 10485140\n"
     ]
    },
    {
     "name": "stderr",
     "output_type": "stream",
     "text": [
      "24/04/23 23:23:11 WARN TaskSetManager: Stage 13556 contains a task of very large size (3196 KiB). The maximum recommended task size is 1000 KiB.\n",
      "24/04/23 23:23:11 WARN TaskSetManager: Stage 13560 contains a task of very large size (1281 KiB). The maximum recommended task size is 1000 KiB.\n"
     ]
    },
    {
     "name": "stdout",
     "output_type": "stream",
     "text": [
      "Model saved\n",
      "446 10485315\n"
     ]
    },
    {
     "name": "stderr",
     "output_type": "stream",
     "text": [
      "24/04/23 23:23:18 WARN TaskSetManager: Stage 13584 contains a task of very large size (3196 KiB). The maximum recommended task size is 1000 KiB.\n",
      "24/04/23 23:23:19 WARN TaskSetManager: Stage 13588 contains a task of very large size (1281 KiB). The maximum recommended task size is 1000 KiB.\n"
     ]
    },
    {
     "name": "stdout",
     "output_type": "stream",
     "text": [
      "Model saved\n",
      "809 10485459\n"
     ]
    },
    {
     "name": "stderr",
     "output_type": "stream",
     "text": [
      "24/04/23 23:23:25 WARN TaskSetManager: Stage 13612 contains a task of very large size (3196 KiB). The maximum recommended task size is 1000 KiB.\n",
      "24/04/23 23:23:26 WARN TaskSetManager: Stage 13616 contains a task of very large size (1281 KiB). The maximum recommended task size is 1000 KiB.\n"
     ]
    },
    {
     "name": "stdout",
     "output_type": "stream",
     "text": [
      "Model saved\n",
      "2349 10483922\n"
     ]
    },
    {
     "name": "stderr",
     "output_type": "stream",
     "text": [
      "24/04/23 23:23:33 WARN TaskSetManager: Stage 13640 contains a task of very large size (3196 KiB). The maximum recommended task size is 1000 KiB.\n",
      "24/04/23 23:23:33 WARN TaskSetManager: Stage 13644 contains a task of very large size (1281 KiB). The maximum recommended task size is 1000 KiB.\n"
     ]
    },
    {
     "name": "stdout",
     "output_type": "stream",
     "text": [
      "Model saved\n",
      "1542 10484711\n"
     ]
    },
    {
     "name": "stderr",
     "output_type": "stream",
     "text": [
      "24/04/23 23:23:40 WARN TaskSetManager: Stage 13668 contains a task of very large size (3196 KiB). The maximum recommended task size is 1000 KiB.\n",
      "24/04/23 23:23:41 WARN TaskSetManager: Stage 13672 contains a task of very large size (1281 KiB). The maximum recommended task size is 1000 KiB.\n"
     ]
    },
    {
     "name": "stdout",
     "output_type": "stream",
     "text": [
      "Model saved\n",
      "456 10485527\n"
     ]
    },
    {
     "name": "stderr",
     "output_type": "stream",
     "text": [
      "24/04/23 23:23:47 WARN TaskSetManager: Stage 13696 contains a task of very large size (3196 KiB). The maximum recommended task size is 1000 KiB.\n",
      "24/04/23 23:23:48 WARN TaskSetManager: Stage 13700 contains a task of very large size (1281 KiB). The maximum recommended task size is 1000 KiB.\n"
     ]
    },
    {
     "name": "stdout",
     "output_type": "stream",
     "text": [
      "Model saved\n",
      "1292 10484753\n"
     ]
    },
    {
     "name": "stderr",
     "output_type": "stream",
     "text": [
      "24/04/23 23:23:56 WARN TaskSetManager: Stage 13724 contains a task of very large size (3196 KiB). The maximum recommended task size is 1000 KiB.\n",
      "24/04/23 23:23:56 WARN TaskSetManager: Stage 13728 contains a task of very large size (1281 KiB). The maximum recommended task size is 1000 KiB.\n"
     ]
    },
    {
     "name": "stdout",
     "output_type": "stream",
     "text": [
      "Model saved\n",
      "5110 10482317\n"
     ]
    },
    {
     "name": "stderr",
     "output_type": "stream",
     "text": [
      "24/04/23 23:24:03 WARN TaskSetManager: Stage 13752 contains a task of very large size (3196 KiB). The maximum recommended task size is 1000 KiB.\n",
      "24/04/23 23:24:04 WARN TaskSetManager: Stage 13756 contains a task of very large size (1281 KiB). The maximum recommended task size is 1000 KiB.\n"
     ]
    },
    {
     "name": "stdout",
     "output_type": "stream",
     "text": [
      "Model saved\n",
      "2214 10484981\n"
     ]
    },
    {
     "name": "stderr",
     "output_type": "stream",
     "text": [
      "24/04/23 23:24:11 WARN TaskSetManager: Stage 13780 contains a task of very large size (3196 KiB). The maximum recommended task size is 1000 KiB.\n",
      "24/04/23 23:24:11 WARN TaskSetManager: Stage 13784 contains a task of very large size (1281 KiB). The maximum recommended task size is 1000 KiB.\n"
     ]
    },
    {
     "name": "stdout",
     "output_type": "stream",
     "text": [
      "Model saved\n",
      "2557 10484151\n"
     ]
    },
    {
     "name": "stderr",
     "output_type": "stream",
     "text": [
      "24/04/23 23:24:19 WARN TaskSetManager: Stage 13808 contains a task of very large size (3196 KiB). The maximum recommended task size is 1000 KiB.\n",
      "24/04/23 23:24:19 WARN TaskSetManager: Stage 13812 contains a task of very large size (1281 KiB). The maximum recommended task size is 1000 KiB.\n"
     ]
    },
    {
     "name": "stdout",
     "output_type": "stream",
     "text": [
      "Model saved\n",
      "7665 10478696\n"
     ]
    },
    {
     "name": "stderr",
     "output_type": "stream",
     "text": [
      "24/04/23 23:24:27 WARN TaskSetManager: Stage 13836 contains a task of very large size (3196 KiB). The maximum recommended task size is 1000 KiB.\n",
      "24/04/23 23:24:27 WARN TaskSetManager: Stage 13840 contains a task of very large size (1281 KiB). The maximum recommended task size is 1000 KiB.\n"
     ]
    },
    {
     "name": "stdout",
     "output_type": "stream",
     "text": [
      "Model saved\n",
      "975 10485449\n"
     ]
    },
    {
     "name": "stderr",
     "output_type": "stream",
     "text": [
      "24/04/23 23:24:35 WARN TaskSetManager: Stage 13864 contains a task of very large size (3196 KiB). The maximum recommended task size is 1000 KiB.\n",
      "24/04/23 23:24:36 WARN TaskSetManager: Stage 13868 contains a task of very large size (1281 KiB). The maximum recommended task size is 1000 KiB.\n"
     ]
    },
    {
     "name": "stdout",
     "output_type": "stream",
     "text": [
      "Model saved\n",
      "575 10485685\n"
     ]
    },
    {
     "name": "stderr",
     "output_type": "stream",
     "text": [
      "24/04/23 23:24:44 WARN TaskSetManager: Stage 13892 contains a task of very large size (3196 KiB). The maximum recommended task size is 1000 KiB.\n",
      "24/04/23 23:24:44 WARN TaskSetManager: Stage 13896 contains a task of very large size (1281 KiB). The maximum recommended task size is 1000 KiB.\n"
     ]
    },
    {
     "name": "stdout",
     "output_type": "stream",
     "text": [
      "Model saved\n",
      "624 10485305\n"
     ]
    },
    {
     "name": "stderr",
     "output_type": "stream",
     "text": [
      "24/04/23 23:24:53 WARN TaskSetManager: Stage 13920 contains a task of very large size (3196 KiB). The maximum recommended task size is 1000 KiB.\n",
      "24/04/23 23:24:53 WARN TaskSetManager: Stage 13924 contains a task of very large size (1281 KiB). The maximum recommended task size is 1000 KiB.\n"
     ]
    },
    {
     "name": "stdout",
     "output_type": "stream",
     "text": [
      "Model saved\n",
      "1089 10485367\n"
     ]
    },
    {
     "name": "stderr",
     "output_type": "stream",
     "text": [
      "24/04/23 23:25:02 WARN TaskSetManager: Stage 13948 contains a task of very large size (3196 KiB). The maximum recommended task size is 1000 KiB.\n",
      "24/04/23 23:25:03 WARN TaskSetManager: Stage 13952 contains a task of very large size (1281 KiB). The maximum recommended task size is 1000 KiB.\n"
     ]
    },
    {
     "name": "stdout",
     "output_type": "stream",
     "text": [
      "Model saved\n",
      "315 10485613\n"
     ]
    },
    {
     "name": "stderr",
     "output_type": "stream",
     "text": [
      "24/04/23 23:25:10 WARN TaskSetManager: Stage 13976 contains a task of very large size (3196 KiB). The maximum recommended task size is 1000 KiB.\n",
      "24/04/23 23:25:11 WARN TaskSetManager: Stage 13980 contains a task of very large size (1281 KiB). The maximum recommended task size is 1000 KiB.\n"
     ]
    },
    {
     "name": "stdout",
     "output_type": "stream",
     "text": [
      "Model saved\n",
      "324 10485560\n"
     ]
    },
    {
     "name": "stderr",
     "output_type": "stream",
     "text": [
      "24/04/23 23:25:18 WARN TaskSetManager: Stage 14004 contains a task of very large size (3196 KiB). The maximum recommended task size is 1000 KiB.\n",
      "24/04/23 23:25:19 WARN TaskSetManager: Stage 14008 contains a task of very large size (1281 KiB). The maximum recommended task size is 1000 KiB.\n"
     ]
    },
    {
     "name": "stdout",
     "output_type": "stream",
     "text": [
      "Model saved\n",
      "839 10485069\n"
     ]
    },
    {
     "name": "stderr",
     "output_type": "stream",
     "text": [
      "24/04/23 23:25:26 WARN TaskSetManager: Stage 14032 contains a task of very large size (3196 KiB). The maximum recommended task size is 1000 KiB.\n",
      "24/04/23 23:25:27 WARN TaskSetManager: Stage 14036 contains a task of very large size (1281 KiB). The maximum recommended task size is 1000 KiB.\n"
     ]
    },
    {
     "name": "stdout",
     "output_type": "stream",
     "text": [
      "Model saved\n",
      "1611 10484185\n"
     ]
    },
    {
     "name": "stderr",
     "output_type": "stream",
     "text": [
      "24/04/23 23:25:36 WARN TaskSetManager: Stage 14060 contains a task of very large size (3196 KiB). The maximum recommended task size is 1000 KiB.\n",
      "24/04/23 23:25:36 WARN TaskSetManager: Stage 14064 contains a task of very large size (1281 KiB). The maximum recommended task size is 1000 KiB.\n"
     ]
    },
    {
     "name": "stdout",
     "output_type": "stream",
     "text": [
      "Model saved\n",
      "309 10485622\n"
     ]
    },
    {
     "name": "stderr",
     "output_type": "stream",
     "text": [
      "24/04/23 23:25:44 WARN TaskSetManager: Stage 14088 contains a task of very large size (3196 KiB). The maximum recommended task size is 1000 KiB.\n",
      "24/04/23 23:25:45 WARN TaskSetManager: Stage 14092 contains a task of very large size (1281 KiB). The maximum recommended task size is 1000 KiB.\n"
     ]
    },
    {
     "name": "stdout",
     "output_type": "stream",
     "text": [
      "Model saved\n",
      "950 10485466\n"
     ]
    },
    {
     "name": "stderr",
     "output_type": "stream",
     "text": [
      "24/04/23 23:25:53 WARN TaskSetManager: Stage 14116 contains a task of very large size (3196 KiB). The maximum recommended task size is 1000 KiB.\n",
      "24/04/23 23:25:54 WARN TaskSetManager: Stage 14120 contains a task of very large size (1281 KiB). The maximum recommended task size is 1000 KiB.\n"
     ]
    },
    {
     "name": "stdout",
     "output_type": "stream",
     "text": [
      "Model saved\n",
      "439 10485602\n"
     ]
    },
    {
     "name": "stderr",
     "output_type": "stream",
     "text": [
      "24/04/23 23:26:01 WARN TaskSetManager: Stage 14144 contains a task of very large size (3196 KiB). The maximum recommended task size is 1000 KiB.\n",
      "24/04/23 23:26:02 WARN TaskSetManager: Stage 14148 contains a task of very large size (1281 KiB). The maximum recommended task size is 1000 KiB.\n"
     ]
    },
    {
     "name": "stdout",
     "output_type": "stream",
     "text": [
      "Model saved\n",
      "2207 10483884\n"
     ]
    },
    {
     "name": "stderr",
     "output_type": "stream",
     "text": [
      "24/04/23 23:26:09 WARN TaskSetManager: Stage 14172 contains a task of very large size (3196 KiB). The maximum recommended task size is 1000 KiB.\n",
      "24/04/23 23:26:10 WARN TaskSetManager: Stage 14176 contains a task of very large size (1281 KiB). The maximum recommended task size is 1000 KiB.\n"
     ]
    },
    {
     "name": "stdout",
     "output_type": "stream",
     "text": [
      "Model saved\n",
      "476 10485412\n"
     ]
    },
    {
     "name": "stderr",
     "output_type": "stream",
     "text": [
      "24/04/23 23:26:17 WARN TaskSetManager: Stage 14200 contains a task of very large size (3196 KiB). The maximum recommended task size is 1000 KiB.\n",
      "24/04/23 23:26:18 WARN TaskSetManager: Stage 14204 contains a task of very large size (1281 KiB). The maximum recommended task size is 1000 KiB.\n"
     ]
    },
    {
     "name": "stdout",
     "output_type": "stream",
     "text": [
      "Model saved\n",
      "306 10485652\n"
     ]
    },
    {
     "name": "stderr",
     "output_type": "stream",
     "text": [
      "24/04/23 23:26:26 WARN TaskSetManager: Stage 14228 contains a task of very large size (3196 KiB). The maximum recommended task size is 1000 KiB.\n",
      "24/04/23 23:26:26 WARN TaskSetManager: Stage 14232 contains a task of very large size (1281 KiB). The maximum recommended task size is 1000 KiB.\n"
     ]
    },
    {
     "name": "stdout",
     "output_type": "stream",
     "text": [
      "Model saved\n",
      "283 10485660\n"
     ]
    },
    {
     "name": "stderr",
     "output_type": "stream",
     "text": [
      "24/04/23 23:26:35 WARN TaskSetManager: Stage 14256 contains a task of very large size (3196 KiB). The maximum recommended task size is 1000 KiB.\n",
      "24/04/23 23:26:36 WARN TaskSetManager: Stage 14260 contains a task of very large size (1281 KiB). The maximum recommended task size is 1000 KiB.\n"
     ]
    },
    {
     "name": "stdout",
     "output_type": "stream",
     "text": [
      "Model saved\n",
      "416 10485626\n"
     ]
    },
    {
     "name": "stderr",
     "output_type": "stream",
     "text": [
      "24/04/23 23:26:44 WARN TaskSetManager: Stage 14284 contains a task of very large size (3196 KiB). The maximum recommended task size is 1000 KiB.\n",
      "24/04/23 23:26:44 WARN TaskSetManager: Stage 14288 contains a task of very large size (1281 KiB). The maximum recommended task size is 1000 KiB.\n"
     ]
    },
    {
     "name": "stdout",
     "output_type": "stream",
     "text": [
      "Model saved\n",
      "1252 10485048\n"
     ]
    },
    {
     "name": "stderr",
     "output_type": "stream",
     "text": [
      "24/04/23 23:26:53 WARN TaskSetManager: Stage 14312 contains a task of very large size (3196 KiB). The maximum recommended task size is 1000 KiB.\n",
      "24/04/23 23:26:53 WARN TaskSetManager: Stage 14316 contains a task of very large size (1281 KiB). The maximum recommended task size is 1000 KiB.\n"
     ]
    },
    {
     "name": "stdout",
     "output_type": "stream",
     "text": [
      "Model saved\n",
      "574 10485441\n"
     ]
    },
    {
     "name": "stderr",
     "output_type": "stream",
     "text": [
      "24/04/23 23:27:02 WARN TaskSetManager: Stage 14340 contains a task of very large size (3196 KiB). The maximum recommended task size is 1000 KiB.\n",
      "24/04/23 23:27:03 WARN TaskSetManager: Stage 14344 contains a task of very large size (1281 KiB). The maximum recommended task size is 1000 KiB.\n"
     ]
    },
    {
     "name": "stdout",
     "output_type": "stream",
     "text": [
      "Model saved\n",
      "367 10485569\n"
     ]
    },
    {
     "name": "stderr",
     "output_type": "stream",
     "text": [
      "24/04/23 23:27:12 WARN TaskSetManager: Stage 14368 contains a task of very large size (3196 KiB). The maximum recommended task size is 1000 KiB.\n",
      "24/04/23 23:27:13 WARN TaskSetManager: Stage 14372 contains a task of very large size (1281 KiB). The maximum recommended task size is 1000 KiB.\n"
     ]
    },
    {
     "name": "stdout",
     "output_type": "stream",
     "text": [
      "Model saved\n",
      "275 10485688\n"
     ]
    },
    {
     "name": "stderr",
     "output_type": "stream",
     "text": [
      "24/04/23 23:27:20 WARN TaskSetManager: Stage 14396 contains a task of very large size (3196 KiB). The maximum recommended task size is 1000 KiB.\n",
      "24/04/23 23:27:21 WARN TaskSetManager: Stage 14400 contains a task of very large size (1281 KiB). The maximum recommended task size is 1000 KiB.\n"
     ]
    },
    {
     "name": "stdout",
     "output_type": "stream",
     "text": [
      "Model saved\n",
      "635 10485199\n"
     ]
    },
    {
     "name": "stderr",
     "output_type": "stream",
     "text": [
      "24/04/23 23:27:28 WARN TaskSetManager: Stage 14424 contains a task of very large size (3196 KiB). The maximum recommended task size is 1000 KiB.\n",
      "24/04/23 23:27:29 WARN TaskSetManager: Stage 14428 contains a task of very large size (1281 KiB). The maximum recommended task size is 1000 KiB.\n"
     ]
    },
    {
     "name": "stdout",
     "output_type": "stream",
     "text": [
      "Model saved\n",
      "2915 10485054\n"
     ]
    },
    {
     "name": "stderr",
     "output_type": "stream",
     "text": [
      "24/04/23 23:27:37 WARN TaskSetManager: Stage 14452 contains a task of very large size (3196 KiB). The maximum recommended task size is 1000 KiB.\n",
      "24/04/23 23:27:38 WARN TaskSetManager: Stage 14456 contains a task of very large size (1281 KiB). The maximum recommended task size is 1000 KiB.\n"
     ]
    },
    {
     "name": "stdout",
     "output_type": "stream",
     "text": [
      "Model saved\n",
      "331 10485754\n"
     ]
    },
    {
     "name": "stderr",
     "output_type": "stream",
     "text": [
      "24/04/23 23:27:46 WARN TaskSetManager: Stage 14480 contains a task of very large size (3196 KiB). The maximum recommended task size is 1000 KiB.\n",
      "24/04/23 23:27:47 WARN TaskSetManager: Stage 14484 contains a task of very large size (1281 KiB). The maximum recommended task size is 1000 KiB.\n"
     ]
    },
    {
     "name": "stdout",
     "output_type": "stream",
     "text": [
      "Model saved\n",
      "449 10485721\n"
     ]
    },
    {
     "name": "stderr",
     "output_type": "stream",
     "text": [
      "24/04/23 23:27:55 WARN TaskSetManager: Stage 14508 contains a task of very large size (3196 KiB). The maximum recommended task size is 1000 KiB.\n",
      "24/04/23 23:27:56 WARN TaskSetManager: Stage 14512 contains a task of very large size (1281 KiB). The maximum recommended task size is 1000 KiB.\n"
     ]
    },
    {
     "name": "stdout",
     "output_type": "stream",
     "text": [
      "Model saved\n",
      "283 10485539\n"
     ]
    },
    {
     "name": "stderr",
     "output_type": "stream",
     "text": [
      "24/04/23 23:28:04 WARN TaskSetManager: Stage 14536 contains a task of very large size (3196 KiB). The maximum recommended task size is 1000 KiB.\n",
      "24/04/23 23:28:05 WARN TaskSetManager: Stage 14540 contains a task of very large size (1281 KiB). The maximum recommended task size is 1000 KiB.\n"
     ]
    },
    {
     "name": "stdout",
     "output_type": "stream",
     "text": [
      "Model saved\n",
      "736 10485634\n"
     ]
    },
    {
     "name": "stderr",
     "output_type": "stream",
     "text": [
      "24/04/23 23:28:12 WARN TaskSetManager: Stage 14564 contains a task of very large size (3196 KiB). The maximum recommended task size is 1000 KiB.\n",
      "24/04/23 23:28:13 WARN TaskSetManager: Stage 14568 contains a task of very large size (1281 KiB). The maximum recommended task size is 1000 KiB.\n"
     ]
    },
    {
     "name": "stdout",
     "output_type": "stream",
     "text": [
      "Model saved\n",
      "966 10485713\n"
     ]
    },
    {
     "name": "stderr",
     "output_type": "stream",
     "text": [
      "24/04/23 23:28:22 WARN TaskSetManager: Stage 14592 contains a task of very large size (3196 KiB). The maximum recommended task size is 1000 KiB.\n",
      "24/04/23 23:28:22 WARN TaskSetManager: Stage 14596 contains a task of very large size (1281 KiB). The maximum recommended task size is 1000 KiB.\n"
     ]
    },
    {
     "name": "stdout",
     "output_type": "stream",
     "text": [
      "Model saved\n",
      "455 10485356\n"
     ]
    },
    {
     "name": "stderr",
     "output_type": "stream",
     "text": [
      "24/04/23 23:28:30 WARN TaskSetManager: Stage 14620 contains a task of very large size (3196 KiB). The maximum recommended task size is 1000 KiB.\n",
      "24/04/23 23:28:31 WARN TaskSetManager: Stage 14624 contains a task of very large size (1281 KiB). The maximum recommended task size is 1000 KiB.\n"
     ]
    },
    {
     "name": "stdout",
     "output_type": "stream",
     "text": [
      "Model saved\n",
      "773 10485692\n"
     ]
    },
    {
     "name": "stderr",
     "output_type": "stream",
     "text": [
      "24/04/23 23:28:38 WARN TaskSetManager: Stage 14648 contains a task of very large size (3196 KiB). The maximum recommended task size is 1000 KiB.\n",
      "24/04/23 23:28:39 WARN TaskSetManager: Stage 14652 contains a task of very large size (1281 KiB). The maximum recommended task size is 1000 KiB.\n"
     ]
    },
    {
     "name": "stdout",
     "output_type": "stream",
     "text": [
      "Model saved\n",
      "429 10485524\n"
     ]
    },
    {
     "name": "stderr",
     "output_type": "stream",
     "text": [
      "24/04/23 23:28:49 WARN TaskSetManager: Stage 14676 contains a task of very large size (3196 KiB). The maximum recommended task size is 1000 KiB.\n",
      "24/04/23 23:28:49 WARN TaskSetManager: Stage 14680 contains a task of very large size (1281 KiB). The maximum recommended task size is 1000 KiB.\n"
     ]
    },
    {
     "name": "stdout",
     "output_type": "stream",
     "text": [
      "Model saved\n",
      "4474 10483154\n"
     ]
    },
    {
     "name": "stderr",
     "output_type": "stream",
     "text": [
      "24/04/23 23:28:58 WARN TaskSetManager: Stage 14704 contains a task of very large size (3196 KiB). The maximum recommended task size is 1000 KiB.\n",
      "24/04/23 23:28:58 WARN TaskSetManager: Stage 14708 contains a task of very large size (1281 KiB). The maximum recommended task size is 1000 KiB.\n"
     ]
    },
    {
     "name": "stdout",
     "output_type": "stream",
     "text": [
      "Model saved\n",
      "638 10485484\n"
     ]
    },
    {
     "name": "stderr",
     "output_type": "stream",
     "text": [
      "24/04/23 23:29:07 WARN TaskSetManager: Stage 14732 contains a task of very large size (3196 KiB). The maximum recommended task size is 1000 KiB.\n",
      "24/04/23 23:29:07 WARN TaskSetManager: Stage 14736 contains a task of very large size (1281 KiB). The maximum recommended task size is 1000 KiB.\n"
     ]
    },
    {
     "name": "stdout",
     "output_type": "stream",
     "text": [
      "Model saved\n",
      "381 10485449\n"
     ]
    },
    {
     "name": "stderr",
     "output_type": "stream",
     "text": [
      "24/04/23 23:29:15 WARN TaskSetManager: Stage 14760 contains a task of very large size (3196 KiB). The maximum recommended task size is 1000 KiB.\n",
      "24/04/23 23:29:16 WARN TaskSetManager: Stage 14764 contains a task of very large size (1281 KiB). The maximum recommended task size is 1000 KiB.\n"
     ]
    },
    {
     "name": "stdout",
     "output_type": "stream",
     "text": [
      "Model saved\n",
      "643 10485691\n"
     ]
    },
    {
     "name": "stderr",
     "output_type": "stream",
     "text": [
      "24/04/23 23:29:24 WARN TaskSetManager: Stage 14788 contains a task of very large size (3196 KiB). The maximum recommended task size is 1000 KiB.\n",
      "24/04/23 23:29:25 WARN TaskSetManager: Stage 14792 contains a task of very large size (1281 KiB). The maximum recommended task size is 1000 KiB.\n"
     ]
    },
    {
     "name": "stdout",
     "output_type": "stream",
     "text": [
      "Model saved\n",
      "1568 10485088\n"
     ]
    },
    {
     "name": "stderr",
     "output_type": "stream",
     "text": [
      "24/04/23 23:29:34 WARN TaskSetManager: Stage 14816 contains a task of very large size (3196 KiB). The maximum recommended task size is 1000 KiB.\n",
      "24/04/23 23:29:35 WARN TaskSetManager: Stage 14820 contains a task of very large size (1281 KiB). The maximum recommended task size is 1000 KiB.\n"
     ]
    },
    {
     "name": "stdout",
     "output_type": "stream",
     "text": [
      "Model saved\n",
      "468 10485564\n"
     ]
    },
    {
     "name": "stderr",
     "output_type": "stream",
     "text": [
      "24/04/23 23:29:45 WARN TaskSetManager: Stage 14844 contains a task of very large size (3196 KiB). The maximum recommended task size is 1000 KiB.\n",
      "24/04/23 23:29:46 WARN TaskSetManager: Stage 14848 contains a task of very large size (1281 KiB). The maximum recommended task size is 1000 KiB.\n"
     ]
    },
    {
     "name": "stdout",
     "output_type": "stream",
     "text": [
      "Model saved\n",
      "1058 10484991\n"
     ]
    },
    {
     "name": "stderr",
     "output_type": "stream",
     "text": [
      "24/04/23 23:29:56 WARN TaskSetManager: Stage 14872 contains a task of very large size (3196 KiB). The maximum recommended task size is 1000 KiB.\n",
      "24/04/23 23:29:56 WARN TaskSetManager: Stage 14876 contains a task of very large size (1281 KiB). The maximum recommended task size is 1000 KiB.\n"
     ]
    },
    {
     "name": "stdout",
     "output_type": "stream",
     "text": [
      "Model saved\n",
      "421 10485557\n"
     ]
    },
    {
     "name": "stderr",
     "output_type": "stream",
     "text": [
      "24/04/23 23:30:05 WARN TaskSetManager: Stage 14900 contains a task of very large size (3196 KiB). The maximum recommended task size is 1000 KiB.\n",
      "24/04/23 23:30:05 WARN TaskSetManager: Stage 14904 contains a task of very large size (1281 KiB). The maximum recommended task size is 1000 KiB.\n"
     ]
    },
    {
     "name": "stdout",
     "output_type": "stream",
     "text": [
      "Model saved\n",
      "1271 10485670\n"
     ]
    },
    {
     "name": "stderr",
     "output_type": "stream",
     "text": [
      "24/04/23 23:30:13 WARN TaskSetManager: Stage 14928 contains a task of very large size (3196 KiB). The maximum recommended task size is 1000 KiB.\n",
      "24/04/23 23:30:14 WARN TaskSetManager: Stage 14932 contains a task of very large size (1281 KiB). The maximum recommended task size is 1000 KiB.\n"
     ]
    },
    {
     "name": "stdout",
     "output_type": "stream",
     "text": [
      "Model saved\n",
      "3437 10485266\n"
     ]
    },
    {
     "name": "stderr",
     "output_type": "stream",
     "text": [
      "24/04/23 23:30:21 WARN TaskSetManager: Stage 14956 contains a task of very large size (3196 KiB). The maximum recommended task size is 1000 KiB.\n",
      "24/04/23 23:30:22 WARN TaskSetManager: Stage 14960 contains a task of very large size (1281 KiB). The maximum recommended task size is 1000 KiB.\n"
     ]
    },
    {
     "name": "stdout",
     "output_type": "stream",
     "text": [
      "Model saved\n",
      "924 10485042\n"
     ]
    },
    {
     "name": "stderr",
     "output_type": "stream",
     "text": [
      "24/04/23 23:30:31 WARN TaskSetManager: Stage 14984 contains a task of very large size (3196 KiB). The maximum recommended task size is 1000 KiB.\n",
      "24/04/23 23:30:32 WARN TaskSetManager: Stage 14988 contains a task of very large size (1281 KiB). The maximum recommended task size is 1000 KiB.\n"
     ]
    },
    {
     "name": "stdout",
     "output_type": "stream",
     "text": [
      "Model saved\n",
      "333 10485491\n"
     ]
    },
    {
     "name": "stderr",
     "output_type": "stream",
     "text": [
      "24/04/23 23:30:41 WARN TaskSetManager: Stage 15012 contains a task of very large size (3196 KiB). The maximum recommended task size is 1000 KiB.\n",
      "24/04/23 23:30:42 WARN TaskSetManager: Stage 15016 contains a task of very large size (1281 KiB). The maximum recommended task size is 1000 KiB.\n"
     ]
    },
    {
     "name": "stdout",
     "output_type": "stream",
     "text": [
      "Model saved\n",
      "430 10485577\n"
     ]
    },
    {
     "name": "stderr",
     "output_type": "stream",
     "text": [
      "24/04/23 23:30:49 WARN TaskSetManager: Stage 15040 contains a task of very large size (3196 KiB). The maximum recommended task size is 1000 KiB.\n",
      "24/04/23 23:30:50 WARN TaskSetManager: Stage 15044 contains a task of very large size (1281 KiB). The maximum recommended task size is 1000 KiB.\n"
     ]
    },
    {
     "name": "stdout",
     "output_type": "stream",
     "text": [
      "Model saved\n",
      "326 10485628\n"
     ]
    },
    {
     "name": "stderr",
     "output_type": "stream",
     "text": [
      "24/04/23 23:30:58 WARN TaskSetManager: Stage 15068 contains a task of very large size (3196 KiB). The maximum recommended task size is 1000 KiB.\n",
      "24/04/23 23:30:59 WARN TaskSetManager: Stage 15072 contains a task of very large size (1281 KiB). The maximum recommended task size is 1000 KiB.\n"
     ]
    },
    {
     "name": "stdout",
     "output_type": "stream",
     "text": [
      "Model saved\n",
      "303 10485531\n"
     ]
    },
    {
     "name": "stderr",
     "output_type": "stream",
     "text": [
      "24/04/23 23:31:07 WARN TaskSetManager: Stage 15096 contains a task of very large size (3196 KiB). The maximum recommended task size is 1000 KiB.\n",
      "24/04/23 23:31:08 WARN TaskSetManager: Stage 15100 contains a task of very large size (1281 KiB). The maximum recommended task size is 1000 KiB.\n"
     ]
    },
    {
     "name": "stdout",
     "output_type": "stream",
     "text": [
      "Model saved\n",
      "278 10485683\n"
     ]
    },
    {
     "name": "stderr",
     "output_type": "stream",
     "text": [
      "24/04/23 23:31:16 WARN TaskSetManager: Stage 15124 contains a task of very large size (3196 KiB). The maximum recommended task size is 1000 KiB.\n",
      "24/04/23 23:31:17 WARN TaskSetManager: Stage 15128 contains a task of very large size (1281 KiB). The maximum recommended task size is 1000 KiB.\n"
     ]
    },
    {
     "name": "stdout",
     "output_type": "stream",
     "text": [
      "Model saved\n",
      "428 10485402\n"
     ]
    },
    {
     "name": "stderr",
     "output_type": "stream",
     "text": [
      "24/04/23 23:31:24 WARN TaskSetManager: Stage 15152 contains a task of very large size (3196 KiB). The maximum recommended task size is 1000 KiB.\n",
      "24/04/23 23:31:25 WARN TaskSetManager: Stage 15156 contains a task of very large size (1281 KiB). The maximum recommended task size is 1000 KiB.\n"
     ]
    },
    {
     "name": "stdout",
     "output_type": "stream",
     "text": [
      "Model saved\n",
      "387 10485394\n"
     ]
    },
    {
     "name": "stderr",
     "output_type": "stream",
     "text": [
      "24/04/23 23:31:33 WARN TaskSetManager: Stage 15180 contains a task of very large size (3196 KiB). The maximum recommended task size is 1000 KiB.\n",
      "24/04/23 23:31:34 WARN TaskSetManager: Stage 15184 contains a task of very large size (1281 KiB). The maximum recommended task size is 1000 KiB.\n"
     ]
    },
    {
     "name": "stdout",
     "output_type": "stream",
     "text": [
      "Model saved\n",
      "551 10485272\n"
     ]
    },
    {
     "name": "stderr",
     "output_type": "stream",
     "text": [
      "24/04/23 23:31:42 WARN TaskSetManager: Stage 15208 contains a task of very large size (3196 KiB). The maximum recommended task size is 1000 KiB.\n",
      "24/04/23 23:31:43 WARN TaskSetManager: Stage 15212 contains a task of very large size (1281 KiB). The maximum recommended task size is 1000 KiB.\n"
     ]
    },
    {
     "name": "stdout",
     "output_type": "stream",
     "text": [
      "Model saved\n",
      "427 10485480\n"
     ]
    },
    {
     "name": "stderr",
     "output_type": "stream",
     "text": [
      "24/04/23 23:31:52 WARN TaskSetManager: Stage 15236 contains a task of very large size (3196 KiB). The maximum recommended task size is 1000 KiB.\n",
      "24/04/23 23:31:53 WARN TaskSetManager: Stage 15240 contains a task of very large size (1281 KiB). The maximum recommended task size is 1000 KiB.\n"
     ]
    },
    {
     "name": "stdout",
     "output_type": "stream",
     "text": [
      "Model saved\n",
      "1884 10484390\n"
     ]
    },
    {
     "name": "stderr",
     "output_type": "stream",
     "text": [
      "24/04/23 23:32:00 WARN TaskSetManager: Stage 15264 contains a task of very large size (3196 KiB). The maximum recommended task size is 1000 KiB.\n",
      "24/04/23 23:32:01 WARN TaskSetManager: Stage 15268 contains a task of very large size (1281 KiB). The maximum recommended task size is 1000 KiB.\n"
     ]
    },
    {
     "name": "stdout",
     "output_type": "stream",
     "text": [
      "Model saved\n",
      "601 10485342\n"
     ]
    },
    {
     "name": "stderr",
     "output_type": "stream",
     "text": [
      "24/04/23 23:32:09 WARN TaskSetManager: Stage 15292 contains a task of very large size (3196 KiB). The maximum recommended task size is 1000 KiB.\n",
      "24/04/23 23:32:09 WARN TaskSetManager: Stage 15296 contains a task of very large size (1281 KiB). The maximum recommended task size is 1000 KiB.\n"
     ]
    },
    {
     "name": "stdout",
     "output_type": "stream",
     "text": [
      "Model saved\n",
      "865 10485556\n"
     ]
    },
    {
     "name": "stderr",
     "output_type": "stream",
     "text": [
      "24/04/23 23:32:16 WARN TaskSetManager: Stage 15320 contains a task of very large size (3196 KiB). The maximum recommended task size is 1000 KiB.\n",
      "24/04/23 23:32:17 WARN TaskSetManager: Stage 15324 contains a task of very large size (1281 KiB). The maximum recommended task size is 1000 KiB.\n"
     ]
    },
    {
     "name": "stdout",
     "output_type": "stream",
     "text": [
      "Model saved\n",
      "873 10485502\n"
     ]
    },
    {
     "name": "stderr",
     "output_type": "stream",
     "text": [
      "24/04/23 23:32:25 WARN TaskSetManager: Stage 15348 contains a task of very large size (3196 KiB). The maximum recommended task size is 1000 KiB.\n",
      "24/04/23 23:32:26 WARN TaskSetManager: Stage 15352 contains a task of very large size (1281 KiB). The maximum recommended task size is 1000 KiB.\n"
     ]
    },
    {
     "name": "stdout",
     "output_type": "stream",
     "text": [
      "Model saved\n",
      "430 10485709\n"
     ]
    },
    {
     "name": "stderr",
     "output_type": "stream",
     "text": [
      "24/04/23 23:32:34 WARN TaskSetManager: Stage 15376 contains a task of very large size (3196 KiB). The maximum recommended task size is 1000 KiB.\n",
      "24/04/23 23:32:35 WARN TaskSetManager: Stage 15380 contains a task of very large size (1281 KiB). The maximum recommended task size is 1000 KiB.\n"
     ]
    },
    {
     "name": "stdout",
     "output_type": "stream",
     "text": [
      "Model saved\n",
      "357 10485598\n"
     ]
    },
    {
     "name": "stderr",
     "output_type": "stream",
     "text": [
      "24/04/23 23:32:43 WARN TaskSetManager: Stage 15404 contains a task of very large size (3196 KiB). The maximum recommended task size is 1000 KiB.\n",
      "24/04/23 23:32:43 WARN TaskSetManager: Stage 15408 contains a task of very large size (1281 KiB). The maximum recommended task size is 1000 KiB.\n"
     ]
    },
    {
     "name": "stdout",
     "output_type": "stream",
     "text": [
      "Model saved\n",
      "418 10485749\n"
     ]
    },
    {
     "name": "stderr",
     "output_type": "stream",
     "text": [
      "24/04/23 23:32:50 WARN TaskSetManager: Stage 15432 contains a task of very large size (3196 KiB). The maximum recommended task size is 1000 KiB.\n",
      "24/04/23 23:32:51 WARN TaskSetManager: Stage 15436 contains a task of very large size (1281 KiB). The maximum recommended task size is 1000 KiB.\n"
     ]
    },
    {
     "name": "stdout",
     "output_type": "stream",
     "text": [
      "Model saved\n",
      "362 10485438\n"
     ]
    },
    {
     "name": "stderr",
     "output_type": "stream",
     "text": [
      "24/04/23 23:32:59 WARN TaskSetManager: Stage 15460 contains a task of very large size (3196 KiB). The maximum recommended task size is 1000 KiB.\n",
      "24/04/23 23:33:00 WARN TaskSetManager: Stage 15464 contains a task of very large size (1281 KiB). The maximum recommended task size is 1000 KiB.\n"
     ]
    },
    {
     "name": "stdout",
     "output_type": "stream",
     "text": [
      "Model saved\n",
      "843 10485641\n"
     ]
    },
    {
     "name": "stderr",
     "output_type": "stream",
     "text": [
      "24/04/23 23:33:08 WARN TaskSetManager: Stage 15488 contains a task of very large size (3196 KiB). The maximum recommended task size is 1000 KiB.\n",
      "24/04/23 23:33:09 WARN TaskSetManager: Stage 15492 contains a task of very large size (1281 KiB). The maximum recommended task size is 1000 KiB.\n"
     ]
    },
    {
     "name": "stdout",
     "output_type": "stream",
     "text": [
      "Model saved\n",
      "613 10485227\n"
     ]
    },
    {
     "name": "stderr",
     "output_type": "stream",
     "text": [
      "24/04/23 23:33:17 WARN TaskSetManager: Stage 15516 contains a task of very large size (3196 KiB). The maximum recommended task size is 1000 KiB.\n",
      "24/04/23 23:33:18 WARN TaskSetManager: Stage 15520 contains a task of very large size (1281 KiB). The maximum recommended task size is 1000 KiB.\n"
     ]
    },
    {
     "name": "stdout",
     "output_type": "stream",
     "text": [
      "Model saved\n",
      "446 10485687\n"
     ]
    },
    {
     "name": "stderr",
     "output_type": "stream",
     "text": [
      "24/04/23 23:33:27 WARN TaskSetManager: Stage 15544 contains a task of very large size (3196 KiB). The maximum recommended task size is 1000 KiB.\n",
      "24/04/23 23:33:27 WARN TaskSetManager: Stage 15548 contains a task of very large size (1281 KiB). The maximum recommended task size is 1000 KiB.\n"
     ]
    },
    {
     "name": "stdout",
     "output_type": "stream",
     "text": [
      "Model saved\n",
      "2255 10484746\n"
     ]
    },
    {
     "name": "stderr",
     "output_type": "stream",
     "text": [
      "24/04/23 23:33:35 WARN TaskSetManager: Stage 15572 contains a task of very large size (3196 KiB). The maximum recommended task size is 1000 KiB.\n",
      "24/04/23 23:33:36 WARN TaskSetManager: Stage 15576 contains a task of very large size (1281 KiB). The maximum recommended task size is 1000 KiB.\n"
     ]
    },
    {
     "name": "stdout",
     "output_type": "stream",
     "text": [
      "Model saved\n",
      "600 10485253\n"
     ]
    },
    {
     "name": "stderr",
     "output_type": "stream",
     "text": [
      "24/04/23 23:33:43 WARN TaskSetManager: Stage 15600 contains a task of very large size (3196 KiB). The maximum recommended task size is 1000 KiB.\n",
      "24/04/23 23:33:44 WARN TaskSetManager: Stage 15604 contains a task of very large size (1281 KiB). The maximum recommended task size is 1000 KiB.\n"
     ]
    },
    {
     "name": "stdout",
     "output_type": "stream",
     "text": [
      "Model saved\n",
      "3546 10482423\n"
     ]
    },
    {
     "name": "stderr",
     "output_type": "stream",
     "text": [
      "24/04/23 23:33:51 WARN TaskSetManager: Stage 15628 contains a task of very large size (3196 KiB). The maximum recommended task size is 1000 KiB.\n",
      "24/04/23 23:33:52 WARN TaskSetManager: Stage 15632 contains a task of very large size (1281 KiB). The maximum recommended task size is 1000 KiB.\n"
     ]
    },
    {
     "name": "stdout",
     "output_type": "stream",
     "text": [
      "Model saved\n",
      "1284 10485734\n"
     ]
    },
    {
     "name": "stderr",
     "output_type": "stream",
     "text": [
      "24/04/23 23:34:01 WARN TaskSetManager: Stage 15656 contains a task of very large size (3196 KiB). The maximum recommended task size is 1000 KiB.\n",
      "24/04/23 23:34:02 WARN TaskSetManager: Stage 15660 contains a task of very large size (1281 KiB). The maximum recommended task size is 1000 KiB.\n"
     ]
    },
    {
     "name": "stdout",
     "output_type": "stream",
     "text": [
      "Model saved\n",
      "374 10485644\n"
     ]
    },
    {
     "name": "stderr",
     "output_type": "stream",
     "text": [
      "24/04/23 23:34:09 WARN TaskSetManager: Stage 15684 contains a task of very large size (3196 KiB). The maximum recommended task size is 1000 KiB.\n",
      "24/04/23 23:34:10 WARN TaskSetManager: Stage 15688 contains a task of very large size (1281 KiB). The maximum recommended task size is 1000 KiB.\n"
     ]
    },
    {
     "name": "stdout",
     "output_type": "stream",
     "text": [
      "Model saved\n",
      "675 10485206\n"
     ]
    },
    {
     "name": "stderr",
     "output_type": "stream",
     "text": [
      "24/04/23 23:34:17 WARN TaskSetManager: Stage 15712 contains a task of very large size (3196 KiB). The maximum recommended task size is 1000 KiB.\n",
      "24/04/23 23:34:18 WARN TaskSetManager: Stage 15716 contains a task of very large size (1281 KiB). The maximum recommended task size is 1000 KiB.\n"
     ]
    },
    {
     "name": "stdout",
     "output_type": "stream",
     "text": [
      "Model saved\n",
      "938 10485445\n"
     ]
    },
    {
     "name": "stderr",
     "output_type": "stream",
     "text": [
      "24/04/23 23:34:26 WARN TaskSetManager: Stage 15740 contains a task of very large size (3196 KiB). The maximum recommended task size is 1000 KiB.\n",
      "24/04/23 23:34:27 WARN TaskSetManager: Stage 15744 contains a task of very large size (1281 KiB). The maximum recommended task size is 1000 KiB.\n"
     ]
    },
    {
     "name": "stdout",
     "output_type": "stream",
     "text": [
      "Model saved\n",
      "1348 10484591\n"
     ]
    },
    {
     "name": "stderr",
     "output_type": "stream",
     "text": [
      "24/04/23 23:34:35 WARN TaskSetManager: Stage 15768 contains a task of very large size (3196 KiB). The maximum recommended task size is 1000 KiB.\n",
      "24/04/23 23:34:36 WARN TaskSetManager: Stage 15772 contains a task of very large size (1281 KiB). The maximum recommended task size is 1000 KiB.\n"
     ]
    },
    {
     "name": "stdout",
     "output_type": "stream",
     "text": [
      "Model saved\n",
      "566 10485608\n"
     ]
    },
    {
     "name": "stderr",
     "output_type": "stream",
     "text": [
      "24/04/23 23:34:43 WARN TaskSetManager: Stage 15796 contains a task of very large size (3196 KiB). The maximum recommended task size is 1000 KiB.\n",
      "24/04/23 23:34:44 WARN TaskSetManager: Stage 15800 contains a task of very large size (1281 KiB). The maximum recommended task size is 1000 KiB.\n"
     ]
    },
    {
     "name": "stdout",
     "output_type": "stream",
     "text": [
      "Model saved\n",
      "828 10485448\n"
     ]
    },
    {
     "name": "stderr",
     "output_type": "stream",
     "text": [
      "24/04/23 23:34:52 WARN TaskSetManager: Stage 15824 contains a task of very large size (3196 KiB). The maximum recommended task size is 1000 KiB.\n",
      "24/04/23 23:34:53 WARN TaskSetManager: Stage 15828 contains a task of very large size (1281 KiB). The maximum recommended task size is 1000 KiB.\n"
     ]
    },
    {
     "name": "stdout",
     "output_type": "stream",
     "text": [
      "Model saved\n",
      "319 10485677\n"
     ]
    },
    {
     "name": "stderr",
     "output_type": "stream",
     "text": [
      "24/04/23 23:35:02 WARN TaskSetManager: Stage 15852 contains a task of very large size (3196 KiB). The maximum recommended task size is 1000 KiB.\n",
      "24/04/23 23:35:02 WARN TaskSetManager: Stage 15856 contains a task of very large size (1281 KiB). The maximum recommended task size is 1000 KiB.\n"
     ]
    },
    {
     "name": "stdout",
     "output_type": "stream",
     "text": [
      "Model saved\n",
      "278 10485685\n"
     ]
    },
    {
     "name": "stderr",
     "output_type": "stream",
     "text": [
      "24/04/23 23:35:10 WARN TaskSetManager: Stage 15880 contains a task of very large size (3196 KiB). The maximum recommended task size is 1000 KiB.\n",
      "24/04/23 23:35:11 WARN TaskSetManager: Stage 15884 contains a task of very large size (1281 KiB). The maximum recommended task size is 1000 KiB.\n"
     ]
    },
    {
     "name": "stdout",
     "output_type": "stream",
     "text": [
      "Model saved\n",
      "323 10485502\n"
     ]
    },
    {
     "name": "stderr",
     "output_type": "stream",
     "text": [
      "24/04/23 23:35:18 WARN TaskSetManager: Stage 15908 contains a task of very large size (3196 KiB). The maximum recommended task size is 1000 KiB.\n",
      "24/04/23 23:35:19 WARN TaskSetManager: Stage 15912 contains a task of very large size (1281 KiB). The maximum recommended task size is 1000 KiB.\n"
     ]
    },
    {
     "name": "stdout",
     "output_type": "stream",
     "text": [
      "Model saved\n",
      "863 10485480\n"
     ]
    },
    {
     "name": "stderr",
     "output_type": "stream",
     "text": [
      "24/04/23 23:35:27 WARN TaskSetManager: Stage 15936 contains a task of very large size (3196 KiB). The maximum recommended task size is 1000 KiB.\n",
      "24/04/23 23:35:28 WARN TaskSetManager: Stage 15940 contains a task of very large size (1281 KiB). The maximum recommended task size is 1000 KiB.\n"
     ]
    },
    {
     "name": "stdout",
     "output_type": "stream",
     "text": [
      "Model saved\n",
      "520 10485717\n"
     ]
    },
    {
     "name": "stderr",
     "output_type": "stream",
     "text": [
      "24/04/23 23:35:35 WARN TaskSetManager: Stage 15964 contains a task of very large size (3196 KiB). The maximum recommended task size is 1000 KiB.\n",
      "24/04/23 23:35:36 WARN TaskSetManager: Stage 15968 contains a task of very large size (1281 KiB). The maximum recommended task size is 1000 KiB.\n"
     ]
    },
    {
     "name": "stdout",
     "output_type": "stream",
     "text": [
      "Model saved\n",
      "1708 10484375\n"
     ]
    },
    {
     "name": "stderr",
     "output_type": "stream",
     "text": [
      "24/04/23 23:35:44 WARN TaskSetManager: Stage 15992 contains a task of very large size (3196 KiB). The maximum recommended task size is 1000 KiB.\n",
      "24/04/23 23:35:44 WARN TaskSetManager: Stage 15996 contains a task of very large size (1281 KiB). The maximum recommended task size is 1000 KiB.\n"
     ]
    },
    {
     "name": "stdout",
     "output_type": "stream",
     "text": [
      "Model saved\n",
      "401 10485659\n"
     ]
    },
    {
     "name": "stderr",
     "output_type": "stream",
     "text": [
      "24/04/23 23:35:52 WARN TaskSetManager: Stage 16020 contains a task of very large size (3196 KiB). The maximum recommended task size is 1000 KiB.\n",
      "24/04/23 23:35:53 WARN TaskSetManager: Stage 16024 contains a task of very large size (1281 KiB). The maximum recommended task size is 1000 KiB.\n",
      "                                                                                \r"
     ]
    },
    {
     "name": "stdout",
     "output_type": "stream",
     "text": [
      "Model saved\n",
      "765 10485693\n"
     ]
    },
    {
     "name": "stderr",
     "output_type": "stream",
     "text": [
      "24/04/23 23:36:01 WARN TaskSetManager: Stage 16048 contains a task of very large size (3196 KiB). The maximum recommended task size is 1000 KiB.\n",
      "24/04/23 23:36:02 WARN TaskSetManager: Stage 16052 contains a task of very large size (1281 KiB). The maximum recommended task size is 1000 KiB.\n"
     ]
    },
    {
     "name": "stdout",
     "output_type": "stream",
     "text": [
      "Model saved\n",
      "538 10485335\n"
     ]
    },
    {
     "name": "stderr",
     "output_type": "stream",
     "text": [
      "24/04/23 23:36:10 WARN TaskSetManager: Stage 16076 contains a task of very large size (3196 KiB). The maximum recommended task size is 1000 KiB.\n",
      "24/04/23 23:36:11 WARN TaskSetManager: Stage 16080 contains a task of very large size (1281 KiB). The maximum recommended task size is 1000 KiB.\n"
     ]
    },
    {
     "name": "stdout",
     "output_type": "stream",
     "text": [
      "Model saved\n",
      "1104 10484974\n"
     ]
    },
    {
     "name": "stderr",
     "output_type": "stream",
     "text": [
      "24/04/23 23:36:19 WARN TaskSetManager: Stage 16104 contains a task of very large size (3196 KiB). The maximum recommended task size is 1000 KiB.\n",
      "24/04/23 23:36:19 WARN TaskSetManager: Stage 16108 contains a task of very large size (1281 KiB). The maximum recommended task size is 1000 KiB.\n"
     ]
    },
    {
     "name": "stdout",
     "output_type": "stream",
     "text": [
      "Model saved\n",
      "553 10485628\n"
     ]
    },
    {
     "name": "stderr",
     "output_type": "stream",
     "text": [
      "24/04/23 23:36:27 WARN TaskSetManager: Stage 16132 contains a task of very large size (3196 KiB). The maximum recommended task size is 1000 KiB.\n",
      "24/04/23 23:36:28 WARN TaskSetManager: Stage 16136 contains a task of very large size (1281 KiB). The maximum recommended task size is 1000 KiB.\n"
     ]
    },
    {
     "name": "stdout",
     "output_type": "stream",
     "text": [
      "Model saved\n",
      "1293 10485373\n"
     ]
    },
    {
     "name": "stderr",
     "output_type": "stream",
     "text": [
      "24/04/23 23:36:35 WARN TaskSetManager: Stage 16160 contains a task of very large size (3196 KiB). The maximum recommended task size is 1000 KiB.\n",
      "24/04/23 23:36:36 WARN TaskSetManager: Stage 16164 contains a task of very large size (1281 KiB). The maximum recommended task size is 1000 KiB.\n"
     ]
    },
    {
     "name": "stdout",
     "output_type": "stream",
     "text": [
      "Model saved\n",
      "1039 10485750\n"
     ]
    },
    {
     "name": "stderr",
     "output_type": "stream",
     "text": [
      "24/04/23 23:36:44 WARN TaskSetManager: Stage 16188 contains a task of very large size (3196 KiB). The maximum recommended task size is 1000 KiB.\n",
      "24/04/23 23:36:45 WARN TaskSetManager: Stage 16192 contains a task of very large size (1281 KiB). The maximum recommended task size is 1000 KiB.\n"
     ]
    },
    {
     "name": "stdout",
     "output_type": "stream",
     "text": [
      "Model saved\n",
      "545 10485375\n"
     ]
    },
    {
     "name": "stderr",
     "output_type": "stream",
     "text": [
      "24/04/23 23:36:53 WARN TaskSetManager: Stage 16216 contains a task of very large size (3196 KiB). The maximum recommended task size is 1000 KiB.\n",
      "24/04/23 23:36:54 WARN TaskSetManager: Stage 16220 contains a task of very large size (1281 KiB). The maximum recommended task size is 1000 KiB.\n"
     ]
    },
    {
     "name": "stdout",
     "output_type": "stream",
     "text": [
      "Model saved\n",
      "564 10485505\n"
     ]
    },
    {
     "name": "stderr",
     "output_type": "stream",
     "text": [
      "24/04/23 23:37:03 WARN TaskSetManager: Stage 16244 contains a task of very large size (3196 KiB). The maximum recommended task size is 1000 KiB.\n",
      "24/04/23 23:37:04 WARN TaskSetManager: Stage 16248 contains a task of very large size (1281 KiB). The maximum recommended task size is 1000 KiB.\n"
     ]
    },
    {
     "name": "stdout",
     "output_type": "stream",
     "text": [
      "Model saved\n",
      "364 10485663\n"
     ]
    },
    {
     "name": "stderr",
     "output_type": "stream",
     "text": [
      "24/04/23 23:37:12 WARN TaskSetManager: Stage 16272 contains a task of very large size (3196 KiB). The maximum recommended task size is 1000 KiB.\n",
      "24/04/23 23:37:13 WARN TaskSetManager: Stage 16276 contains a task of very large size (1281 KiB). The maximum recommended task size is 1000 KiB.\n"
     ]
    },
    {
     "name": "stdout",
     "output_type": "stream",
     "text": [
      "Model saved\n",
      "2626 10483476\n"
     ]
    },
    {
     "name": "stderr",
     "output_type": "stream",
     "text": [
      "24/04/23 23:37:22 WARN TaskSetManager: Stage 16300 contains a task of very large size (3196 KiB). The maximum recommended task size is 1000 KiB.\n",
      "24/04/23 23:37:23 WARN TaskSetManager: Stage 16304 contains a task of very large size (1281 KiB). The maximum recommended task size is 1000 KiB.\n"
     ]
    },
    {
     "name": "stdout",
     "output_type": "stream",
     "text": [
      "Model saved\n",
      "306 10485480\n"
     ]
    },
    {
     "name": "stderr",
     "output_type": "stream",
     "text": [
      "24/04/23 23:37:31 WARN TaskSetManager: Stage 16328 contains a task of very large size (3196 KiB). The maximum recommended task size is 1000 KiB.\n",
      "24/04/23 23:37:31 WARN TaskSetManager: Stage 16332 contains a task of very large size (1281 KiB). The maximum recommended task size is 1000 KiB.\n"
     ]
    },
    {
     "name": "stdout",
     "output_type": "stream",
     "text": [
      "Model saved\n",
      "291 10485563\n"
     ]
    },
    {
     "name": "stderr",
     "output_type": "stream",
     "text": [
      "24/04/23 23:37:39 WARN TaskSetManager: Stage 16356 contains a task of very large size (3196 KiB). The maximum recommended task size is 1000 KiB.\n",
      "24/04/23 23:37:40 WARN TaskSetManager: Stage 16360 contains a task of very large size (1281 KiB). The maximum recommended task size is 1000 KiB.\n"
     ]
    },
    {
     "name": "stdout",
     "output_type": "stream",
     "text": [
      "Model saved\n",
      "1309 10485176\n"
     ]
    },
    {
     "name": "stderr",
     "output_type": "stream",
     "text": [
      "24/04/23 23:37:48 WARN TaskSetManager: Stage 16384 contains a task of very large size (3196 KiB). The maximum recommended task size is 1000 KiB.\n",
      "24/04/23 23:37:49 WARN TaskSetManager: Stage 16388 contains a task of very large size (1281 KiB). The maximum recommended task size is 1000 KiB.\n"
     ]
    },
    {
     "name": "stdout",
     "output_type": "stream",
     "text": [
      "Model saved\n",
      "539 10485644\n"
     ]
    },
    {
     "name": "stderr",
     "output_type": "stream",
     "text": [
      "24/04/23 23:37:56 WARN TaskSetManager: Stage 16412 contains a task of very large size (3196 KiB). The maximum recommended task size is 1000 KiB.\n",
      "24/04/23 23:37:57 WARN TaskSetManager: Stage 16416 contains a task of very large size (1281 KiB). The maximum recommended task size is 1000 KiB.\n"
     ]
    },
    {
     "name": "stdout",
     "output_type": "stream",
     "text": [
      "Model saved\n",
      "2351 10484399\n"
     ]
    },
    {
     "name": "stderr",
     "output_type": "stream",
     "text": [
      "24/04/23 23:38:04 WARN TaskSetManager: Stage 16440 contains a task of very large size (3196 KiB). The maximum recommended task size is 1000 KiB.\n",
      "24/04/23 23:38:05 WARN TaskSetManager: Stage 16444 contains a task of very large size (1281 KiB). The maximum recommended task size is 1000 KiB.\n"
     ]
    },
    {
     "name": "stdout",
     "output_type": "stream",
     "text": [
      "Model saved\n",
      "464 10485662\n"
     ]
    },
    {
     "name": "stderr",
     "output_type": "stream",
     "text": [
      "24/04/23 23:38:12 WARN TaskSetManager: Stage 16468 contains a task of very large size (3196 KiB). The maximum recommended task size is 1000 KiB.\n",
      "24/04/23 23:38:13 WARN TaskSetManager: Stage 16472 contains a task of very large size (1281 KiB). The maximum recommended task size is 1000 KiB.\n"
     ]
    },
    {
     "name": "stdout",
     "output_type": "stream",
     "text": [
      "Model saved\n",
      "530 10485662\n"
     ]
    },
    {
     "name": "stderr",
     "output_type": "stream",
     "text": [
      "24/04/23 23:38:20 WARN TaskSetManager: Stage 16496 contains a task of very large size (3196 KiB). The maximum recommended task size is 1000 KiB.\n",
      "24/04/23 23:38:21 WARN TaskSetManager: Stage 16500 contains a task of very large size (1281 KiB). The maximum recommended task size is 1000 KiB.\n"
     ]
    },
    {
     "name": "stdout",
     "output_type": "stream",
     "text": [
      "Model saved\n",
      "1791 10484016\n"
     ]
    },
    {
     "name": "stderr",
     "output_type": "stream",
     "text": [
      "24/04/23 23:38:28 WARN TaskSetManager: Stage 16524 contains a task of very large size (3196 KiB). The maximum recommended task size is 1000 KiB.\n",
      "24/04/23 23:38:28 WARN TaskSetManager: Stage 16528 contains a task of very large size (1281 KiB). The maximum recommended task size is 1000 KiB.\n"
     ]
    },
    {
     "name": "stdout",
     "output_type": "stream",
     "text": [
      "Model saved\n",
      "1945 10484964\n"
     ]
    },
    {
     "name": "stderr",
     "output_type": "stream",
     "text": [
      "24/04/23 23:38:35 WARN TaskSetManager: Stage 16552 contains a task of very large size (3196 KiB). The maximum recommended task size is 1000 KiB.\n",
      "24/04/23 23:38:35 WARN TaskSetManager: Stage 16556 contains a task of very large size (1281 KiB). The maximum recommended task size is 1000 KiB.\n"
     ]
    },
    {
     "name": "stdout",
     "output_type": "stream",
     "text": [
      "Model saved\n",
      "440 10485456\n"
     ]
    },
    {
     "name": "stderr",
     "output_type": "stream",
     "text": [
      "24/04/23 23:38:42 WARN TaskSetManager: Stage 16580 contains a task of very large size (3196 KiB). The maximum recommended task size is 1000 KiB.\n",
      "24/04/23 23:38:43 WARN TaskSetManager: Stage 16584 contains a task of very large size (1281 KiB). The maximum recommended task size is 1000 KiB.\n"
     ]
    },
    {
     "name": "stdout",
     "output_type": "stream",
     "text": [
      "Model saved\n",
      "941 10485638\n"
     ]
    },
    {
     "name": "stderr",
     "output_type": "stream",
     "text": [
      "24/04/23 23:38:49 WARN TaskSetManager: Stage 16608 contains a task of very large size (3196 KiB). The maximum recommended task size is 1000 KiB.\n",
      "24/04/23 23:38:50 WARN TaskSetManager: Stage 16612 contains a task of very large size (1281 KiB). The maximum recommended task size is 1000 KiB.\n"
     ]
    },
    {
     "name": "stdout",
     "output_type": "stream",
     "text": [
      "Model saved\n",
      "1156 10485115\n"
     ]
    },
    {
     "name": "stderr",
     "output_type": "stream",
     "text": [
      "24/04/23 23:38:56 WARN TaskSetManager: Stage 16636 contains a task of very large size (3196 KiB). The maximum recommended task size is 1000 KiB.\n",
      "24/04/23 23:38:57 WARN TaskSetManager: Stage 16640 contains a task of very large size (1281 KiB). The maximum recommended task size is 1000 KiB.\n"
     ]
    },
    {
     "name": "stdout",
     "output_type": "stream",
     "text": [
      "Model saved\n",
      "567 10485600\n"
     ]
    },
    {
     "name": "stderr",
     "output_type": "stream",
     "text": [
      "24/04/23 23:39:04 WARN TaskSetManager: Stage 16664 contains a task of very large size (3196 KiB). The maximum recommended task size is 1000 KiB.\n",
      "24/04/23 23:39:04 WARN TaskSetManager: Stage 16668 contains a task of very large size (1281 KiB). The maximum recommended task size is 1000 KiB.\n"
     ]
    },
    {
     "name": "stdout",
     "output_type": "stream",
     "text": [
      "Model saved\n",
      "19748 10484302\n"
     ]
    },
    {
     "name": "stderr",
     "output_type": "stream",
     "text": [
      "24/04/23 23:39:11 WARN TaskSetManager: Stage 16692 contains a task of very large size (3196 KiB). The maximum recommended task size is 1000 KiB.\n",
      "24/04/23 23:39:12 WARN TaskSetManager: Stage 16696 contains a task of very large size (1281 KiB). The maximum recommended task size is 1000 KiB.\n"
     ]
    },
    {
     "name": "stdout",
     "output_type": "stream",
     "text": [
      "Model saved\n",
      "1468 10484863\n"
     ]
    },
    {
     "name": "stderr",
     "output_type": "stream",
     "text": [
      "24/04/23 23:39:19 WARN TaskSetManager: Stage 16720 contains a task of very large size (3196 KiB). The maximum recommended task size is 1000 KiB.\n",
      "24/04/23 23:39:20 WARN TaskSetManager: Stage 16724 contains a task of very large size (1281 KiB). The maximum recommended task size is 1000 KiB.\n"
     ]
    },
    {
     "name": "stdout",
     "output_type": "stream",
     "text": [
      "Model saved\n",
      "1162 10485040\n"
     ]
    },
    {
     "name": "stderr",
     "output_type": "stream",
     "text": [
      "24/04/23 23:39:26 WARN TaskSetManager: Stage 16748 contains a task of very large size (3196 KiB). The maximum recommended task size is 1000 KiB.\n",
      "24/04/23 23:39:27 WARN TaskSetManager: Stage 16752 contains a task of very large size (1281 KiB). The maximum recommended task size is 1000 KiB.\n"
     ]
    },
    {
     "name": "stdout",
     "output_type": "stream",
     "text": [
      "Model saved\n",
      "452 10485593\n"
     ]
    },
    {
     "name": "stderr",
     "output_type": "stream",
     "text": [
      "24/04/23 23:39:34 WARN TaskSetManager: Stage 16776 contains a task of very large size (3196 KiB). The maximum recommended task size is 1000 KiB.\n",
      "24/04/23 23:39:35 WARN TaskSetManager: Stage 16780 contains a task of very large size (1281 KiB). The maximum recommended task size is 1000 KiB.\n"
     ]
    },
    {
     "name": "stdout",
     "output_type": "stream",
     "text": [
      "Model saved\n",
      "727 10485367\n"
     ]
    },
    {
     "name": "stderr",
     "output_type": "stream",
     "text": [
      "24/04/23 23:39:42 WARN TaskSetManager: Stage 16804 contains a task of very large size (3196 KiB). The maximum recommended task size is 1000 KiB.\n",
      "24/04/23 23:39:43 WARN TaskSetManager: Stage 16808 contains a task of very large size (1281 KiB). The maximum recommended task size is 1000 KiB.\n"
     ]
    },
    {
     "name": "stdout",
     "output_type": "stream",
     "text": [
      "Model saved\n",
      "418 10485513\n"
     ]
    },
    {
     "name": "stderr",
     "output_type": "stream",
     "text": [
      "24/04/23 23:39:51 WARN TaskSetManager: Stage 16832 contains a task of very large size (3196 KiB). The maximum recommended task size is 1000 KiB.\n",
      "24/04/23 23:39:52 WARN TaskSetManager: Stage 16836 contains a task of very large size (1281 KiB). The maximum recommended task size is 1000 KiB.\n"
     ]
    },
    {
     "name": "stdout",
     "output_type": "stream",
     "text": [
      "Model saved\n",
      "406 10485431\n"
     ]
    },
    {
     "name": "stderr",
     "output_type": "stream",
     "text": [
      "24/04/23 23:40:00 WARN TaskSetManager: Stage 16860 contains a task of very large size (3196 KiB). The maximum recommended task size is 1000 KiB.\n",
      "24/04/23 23:40:01 WARN TaskSetManager: Stage 16864 contains a task of very large size (1281 KiB). The maximum recommended task size is 1000 KiB.\n"
     ]
    },
    {
     "name": "stdout",
     "output_type": "stream",
     "text": [
      "Model saved\n",
      "320 10485576\n"
     ]
    },
    {
     "name": "stderr",
     "output_type": "stream",
     "text": [
      "24/04/23 23:40:09 WARN TaskSetManager: Stage 16888 contains a task of very large size (3196 KiB). The maximum recommended task size is 1000 KiB.\n",
      "24/04/23 23:40:10 WARN TaskSetManager: Stage 16892 contains a task of very large size (1281 KiB). The maximum recommended task size is 1000 KiB.\n"
     ]
    },
    {
     "name": "stdout",
     "output_type": "stream",
     "text": [
      "Model saved\n",
      "410 10485602\n"
     ]
    },
    {
     "name": "stderr",
     "output_type": "stream",
     "text": [
      "24/04/23 23:40:17 WARN TaskSetManager: Stage 16916 contains a task of very large size (3196 KiB). The maximum recommended task size is 1000 KiB.\n",
      "24/04/23 23:40:18 WARN TaskSetManager: Stage 16920 contains a task of very large size (1281 KiB). The maximum recommended task size is 1000 KiB.\n"
     ]
    },
    {
     "name": "stdout",
     "output_type": "stream",
     "text": [
      "Model saved\n",
      "479 10485386\n"
     ]
    },
    {
     "name": "stderr",
     "output_type": "stream",
     "text": [
      "24/04/23 23:40:25 WARN TaskSetManager: Stage 16944 contains a task of very large size (3196 KiB). The maximum recommended task size is 1000 KiB.\n",
      "24/04/23 23:40:26 WARN TaskSetManager: Stage 16948 contains a task of very large size (1281 KiB). The maximum recommended task size is 1000 KiB.\n"
     ]
    },
    {
     "name": "stdout",
     "output_type": "stream",
     "text": [
      "Model saved\n",
      "567 10485391\n"
     ]
    },
    {
     "name": "stderr",
     "output_type": "stream",
     "text": [
      "24/04/23 23:40:33 WARN TaskSetManager: Stage 16972 contains a task of very large size (3196 KiB). The maximum recommended task size is 1000 KiB.\n",
      "24/04/23 23:40:34 WARN TaskSetManager: Stage 16976 contains a task of very large size (1281 KiB). The maximum recommended task size is 1000 KiB.\n"
     ]
    },
    {
     "name": "stdout",
     "output_type": "stream",
     "text": [
      "Model saved\n",
      "424 10485709\n"
     ]
    },
    {
     "name": "stderr",
     "output_type": "stream",
     "text": [
      "24/04/23 23:40:41 WARN TaskSetManager: Stage 17000 contains a task of very large size (3196 KiB). The maximum recommended task size is 1000 KiB.\n",
      "24/04/23 23:40:42 WARN TaskSetManager: Stage 17004 contains a task of very large size (1281 KiB). The maximum recommended task size is 1000 KiB.\n"
     ]
    },
    {
     "name": "stdout",
     "output_type": "stream",
     "text": [
      "Model saved\n",
      "432 10485364\n"
     ]
    },
    {
     "name": "stderr",
     "output_type": "stream",
     "text": [
      "24/04/23 23:40:49 WARN TaskSetManager: Stage 17028 contains a task of very large size (3196 KiB). The maximum recommended task size is 1000 KiB.\n",
      "24/04/23 23:40:50 WARN TaskSetManager: Stage 17032 contains a task of very large size (1281 KiB). The maximum recommended task size is 1000 KiB.\n"
     ]
    },
    {
     "name": "stdout",
     "output_type": "stream",
     "text": [
      "Model saved\n",
      "1992 10485046\n"
     ]
    },
    {
     "name": "stderr",
     "output_type": "stream",
     "text": [
      "24/04/23 23:40:57 WARN TaskSetManager: Stage 17056 contains a task of very large size (3196 KiB). The maximum recommended task size is 1000 KiB.\n",
      "24/04/23 23:40:58 WARN TaskSetManager: Stage 17060 contains a task of very large size (1281 KiB). The maximum recommended task size is 1000 KiB.\n"
     ]
    },
    {
     "name": "stdout",
     "output_type": "stream",
     "text": [
      "Model saved\n",
      "2746 10484858\n"
     ]
    },
    {
     "name": "stderr",
     "output_type": "stream",
     "text": [
      "24/04/23 23:41:05 WARN TaskSetManager: Stage 17084 contains a task of very large size (3196 KiB). The maximum recommended task size is 1000 KiB.\n",
      "24/04/23 23:41:06 WARN TaskSetManager: Stage 17088 contains a task of very large size (1281 KiB). The maximum recommended task size is 1000 KiB.\n"
     ]
    },
    {
     "name": "stdout",
     "output_type": "stream",
     "text": [
      "Model saved\n",
      "1319 10485554\n"
     ]
    },
    {
     "name": "stderr",
     "output_type": "stream",
     "text": [
      "24/04/23 23:41:13 WARN TaskSetManager: Stage 17112 contains a task of very large size (3196 KiB). The maximum recommended task size is 1000 KiB.\n",
      "24/04/23 23:41:14 WARN TaskSetManager: Stage 17116 contains a task of very large size (1281 KiB). The maximum recommended task size is 1000 KiB.\n"
     ]
    },
    {
     "name": "stdout",
     "output_type": "stream",
     "text": [
      "Model saved\n",
      "318 10485554\n"
     ]
    },
    {
     "name": "stderr",
     "output_type": "stream",
     "text": [
      "24/04/23 23:41:20 WARN TaskSetManager: Stage 17140 contains a task of very large size (3196 KiB). The maximum recommended task size is 1000 KiB.\n",
      "24/04/23 23:41:21 WARN TaskSetManager: Stage 17144 contains a task of very large size (1281 KiB). The maximum recommended task size is 1000 KiB.\n"
     ]
    },
    {
     "name": "stdout",
     "output_type": "stream",
     "text": [
      "Model saved\n",
      "457 10485612\n"
     ]
    },
    {
     "name": "stderr",
     "output_type": "stream",
     "text": [
      "24/04/23 23:41:28 WARN TaskSetManager: Stage 17168 contains a task of very large size (3196 KiB). The maximum recommended task size is 1000 KiB.\n",
      "24/04/23 23:41:29 WARN TaskSetManager: Stage 17172 contains a task of very large size (1281 KiB). The maximum recommended task size is 1000 KiB.\n"
     ]
    },
    {
     "name": "stdout",
     "output_type": "stream",
     "text": [
      "Model saved\n",
      "699 10485451\n"
     ]
    },
    {
     "name": "stderr",
     "output_type": "stream",
     "text": [
      "24/04/23 23:41:37 WARN TaskSetManager: Stage 17196 contains a task of very large size (3196 KiB). The maximum recommended task size is 1000 KiB.\n",
      "24/04/23 23:41:37 WARN TaskSetManager: Stage 17200 contains a task of very large size (1281 KiB). The maximum recommended task size is 1000 KiB.\n"
     ]
    },
    {
     "name": "stdout",
     "output_type": "stream",
     "text": [
      "Model saved\n",
      "1295 10485037\n"
     ]
    },
    {
     "name": "stderr",
     "output_type": "stream",
     "text": [
      "24/04/23 23:41:45 WARN TaskSetManager: Stage 17224 contains a task of very large size (3196 KiB). The maximum recommended task size is 1000 KiB.\n",
      "24/04/23 23:41:46 WARN TaskSetManager: Stage 17228 contains a task of very large size (1281 KiB). The maximum recommended task size is 1000 KiB.\n"
     ]
    },
    {
     "name": "stdout",
     "output_type": "stream",
     "text": [
      "Model saved\n",
      "1351 10485513\n"
     ]
    },
    {
     "name": "stderr",
     "output_type": "stream",
     "text": [
      "24/04/23 23:41:52 WARN TaskSetManager: Stage 17252 contains a task of very large size (3196 KiB). The maximum recommended task size is 1000 KiB.\n",
      "24/04/23 23:41:53 WARN TaskSetManager: Stage 17256 contains a task of very large size (1281 KiB). The maximum recommended task size is 1000 KiB.\n"
     ]
    },
    {
     "name": "stdout",
     "output_type": "stream",
     "text": [
      "Model saved\n",
      "1050 10484812\n"
     ]
    },
    {
     "name": "stderr",
     "output_type": "stream",
     "text": [
      "24/04/23 23:42:00 WARN TaskSetManager: Stage 17280 contains a task of very large size (3196 KiB). The maximum recommended task size is 1000 KiB.\n",
      "24/04/23 23:42:00 WARN TaskSetManager: Stage 17284 contains a task of very large size (1281 KiB). The maximum recommended task size is 1000 KiB.\n"
     ]
    },
    {
     "name": "stdout",
     "output_type": "stream",
     "text": [
      "Model saved\n",
      "938 10484977\n"
     ]
    },
    {
     "name": "stderr",
     "output_type": "stream",
     "text": [
      "24/04/23 23:42:07 WARN TaskSetManager: Stage 17308 contains a task of very large size (3196 KiB). The maximum recommended task size is 1000 KiB.\n",
      "24/04/23 23:42:08 WARN TaskSetManager: Stage 17312 contains a task of very large size (1281 KiB). The maximum recommended task size is 1000 KiB.\n"
     ]
    },
    {
     "name": "stdout",
     "output_type": "stream",
     "text": [
      "Model saved\n",
      "650 10485450\n"
     ]
    },
    {
     "name": "stderr",
     "output_type": "stream",
     "text": [
      "24/04/23 23:42:15 WARN TaskSetManager: Stage 17336 contains a task of very large size (3196 KiB). The maximum recommended task size is 1000 KiB.\n",
      "24/04/23 23:42:16 WARN TaskSetManager: Stage 17340 contains a task of very large size (1281 KiB). The maximum recommended task size is 1000 KiB.\n"
     ]
    },
    {
     "name": "stdout",
     "output_type": "stream",
     "text": [
      "Model saved\n",
      "1523 10484541\n"
     ]
    },
    {
     "name": "stderr",
     "output_type": "stream",
     "text": [
      "24/04/23 23:42:23 WARN TaskSetManager: Stage 17364 contains a task of very large size (3196 KiB). The maximum recommended task size is 1000 KiB.\n",
      "24/04/23 23:42:23 WARN TaskSetManager: Stage 17368 contains a task of very large size (1281 KiB). The maximum recommended task size is 1000 KiB.\n"
     ]
    },
    {
     "name": "stdout",
     "output_type": "stream",
     "text": [
      "Model saved\n",
      "1458 10485313\n"
     ]
    },
    {
     "name": "stderr",
     "output_type": "stream",
     "text": [
      "24/04/23 23:42:30 WARN TaskSetManager: Stage 17392 contains a task of very large size (3196 KiB). The maximum recommended task size is 1000 KiB.\n",
      "24/04/23 23:42:31 WARN TaskSetManager: Stage 17396 contains a task of very large size (1281 KiB). The maximum recommended task size is 1000 KiB.\n"
     ]
    },
    {
     "name": "stdout",
     "output_type": "stream",
     "text": [
      "Model saved\n",
      "763 10485690\n"
     ]
    },
    {
     "name": "stderr",
     "output_type": "stream",
     "text": [
      "24/04/23 23:42:38 WARN TaskSetManager: Stage 17420 contains a task of very large size (3196 KiB). The maximum recommended task size is 1000 KiB.\n",
      "24/04/23 23:42:39 WARN TaskSetManager: Stage 17424 contains a task of very large size (1281 KiB). The maximum recommended task size is 1000 KiB.\n"
     ]
    },
    {
     "name": "stdout",
     "output_type": "stream",
     "text": [
      "Model saved\n",
      "437 10485641\n"
     ]
    },
    {
     "name": "stderr",
     "output_type": "stream",
     "text": [
      "24/04/23 23:42:46 WARN TaskSetManager: Stage 17448 contains a task of very large size (3196 KiB). The maximum recommended task size is 1000 KiB.\n",
      "24/04/23 23:42:47 WARN TaskSetManager: Stage 17452 contains a task of very large size (1281 KiB). The maximum recommended task size is 1000 KiB.\n"
     ]
    },
    {
     "name": "stdout",
     "output_type": "stream",
     "text": [
      "Model saved\n",
      "2278 10484929\n"
     ]
    },
    {
     "name": "stderr",
     "output_type": "stream",
     "text": [
      "24/04/23 23:42:54 WARN TaskSetManager: Stage 17476 contains a task of very large size (3196 KiB). The maximum recommended task size is 1000 KiB.\n",
      "24/04/23 23:42:54 WARN TaskSetManager: Stage 17480 contains a task of very large size (1281 KiB). The maximum recommended task size is 1000 KiB.\n"
     ]
    },
    {
     "name": "stdout",
     "output_type": "stream",
     "text": [
      "Model saved\n",
      "810 10485180\n"
     ]
    },
    {
     "name": "stderr",
     "output_type": "stream",
     "text": [
      "24/04/23 23:43:01 WARN TaskSetManager: Stage 17504 contains a task of very large size (3196 KiB). The maximum recommended task size is 1000 KiB.\n",
      "24/04/23 23:43:02 WARN TaskSetManager: Stage 17508 contains a task of very large size (1281 KiB). The maximum recommended task size is 1000 KiB.\n"
     ]
    },
    {
     "name": "stdout",
     "output_type": "stream",
     "text": [
      "Model saved\n",
      "1364 10484664\n"
     ]
    },
    {
     "name": "stderr",
     "output_type": "stream",
     "text": [
      "24/04/23 23:43:09 WARN TaskSetManager: Stage 17532 contains a task of very large size (3196 KiB). The maximum recommended task size is 1000 KiB.\n",
      "24/04/23 23:43:10 WARN TaskSetManager: Stage 17536 contains a task of very large size (1281 KiB). The maximum recommended task size is 1000 KiB.\n"
     ]
    },
    {
     "name": "stdout",
     "output_type": "stream",
     "text": [
      "Model saved\n",
      "1669 10484506\n"
     ]
    },
    {
     "name": "stderr",
     "output_type": "stream",
     "text": [
      "24/04/23 23:43:17 WARN TaskSetManager: Stage 17560 contains a task of very large size (3196 KiB). The maximum recommended task size is 1000 KiB.\n",
      "24/04/23 23:43:17 WARN TaskSetManager: Stage 17564 contains a task of very large size (1281 KiB). The maximum recommended task size is 1000 KiB.\n"
     ]
    },
    {
     "name": "stdout",
     "output_type": "stream",
     "text": [
      "Model saved\n",
      "1339 10485756\n"
     ]
    },
    {
     "name": "stderr",
     "output_type": "stream",
     "text": [
      "24/04/23 23:43:25 WARN TaskSetManager: Stage 17588 contains a task of very large size (3196 KiB). The maximum recommended task size is 1000 KiB.\n",
      "24/04/23 23:43:25 WARN TaskSetManager: Stage 17592 contains a task of very large size (1281 KiB). The maximum recommended task size is 1000 KiB.\n"
     ]
    },
    {
     "name": "stdout",
     "output_type": "stream",
     "text": [
      "Model saved\n",
      "466 10485739\n"
     ]
    },
    {
     "name": "stderr",
     "output_type": "stream",
     "text": [
      "24/04/23 23:43:33 WARN TaskSetManager: Stage 17616 contains a task of very large size (3196 KiB). The maximum recommended task size is 1000 KiB.\n",
      "24/04/23 23:43:34 WARN TaskSetManager: Stage 17620 contains a task of very large size (1281 KiB). The maximum recommended task size is 1000 KiB.\n"
     ]
    },
    {
     "name": "stdout",
     "output_type": "stream",
     "text": [
      "Model saved\n",
      "2139 10483677\n"
     ]
    },
    {
     "name": "stderr",
     "output_type": "stream",
     "text": [
      "24/04/23 23:43:41 WARN TaskSetManager: Stage 17644 contains a task of very large size (3196 KiB). The maximum recommended task size is 1000 KiB.\n",
      "24/04/23 23:43:42 WARN TaskSetManager: Stage 17648 contains a task of very large size (1281 KiB). The maximum recommended task size is 1000 KiB.\n"
     ]
    },
    {
     "name": "stdout",
     "output_type": "stream",
     "text": [
      "Model saved\n",
      "330 10485505\n"
     ]
    },
    {
     "name": "stderr",
     "output_type": "stream",
     "text": [
      "24/04/23 23:43:48 WARN TaskSetManager: Stage 17672 contains a task of very large size (3196 KiB). The maximum recommended task size is 1000 KiB.\n",
      "24/04/23 23:43:49 WARN TaskSetManager: Stage 17676 contains a task of very large size (1281 KiB). The maximum recommended task size is 1000 KiB.\n"
     ]
    },
    {
     "name": "stdout",
     "output_type": "stream",
     "text": [
      "Model saved\n",
      "1892 10485456\n"
     ]
    },
    {
     "name": "stderr",
     "output_type": "stream",
     "text": [
      "24/04/23 23:43:56 WARN TaskSetManager: Stage 17700 contains a task of very large size (3196 KiB). The maximum recommended task size is 1000 KiB.\n",
      "24/04/23 23:43:56 WARN TaskSetManager: Stage 17704 contains a task of very large size (1281 KiB). The maximum recommended task size is 1000 KiB.\n"
     ]
    },
    {
     "name": "stdout",
     "output_type": "stream",
     "text": [
      "Model saved\n",
      "2821 10485472\n"
     ]
    },
    {
     "name": "stderr",
     "output_type": "stream",
     "text": [
      "24/04/23 23:44:04 WARN TaskSetManager: Stage 17728 contains a task of very large size (3196 KiB). The maximum recommended task size is 1000 KiB.\n",
      "24/04/23 23:44:05 WARN TaskSetManager: Stage 17732 contains a task of very large size (1281 KiB). The maximum recommended task size is 1000 KiB.\n"
     ]
    },
    {
     "name": "stdout",
     "output_type": "stream",
     "text": [
      "Model saved\n",
      "634 10485524\n"
     ]
    },
    {
     "name": "stderr",
     "output_type": "stream",
     "text": [
      "24/04/23 23:44:12 WARN TaskSetManager: Stage 17756 contains a task of very large size (3196 KiB). The maximum recommended task size is 1000 KiB.\n",
      "24/04/23 23:44:13 WARN TaskSetManager: Stage 17760 contains a task of very large size (1281 KiB). The maximum recommended task size is 1000 KiB.\n"
     ]
    },
    {
     "name": "stdout",
     "output_type": "stream",
     "text": [
      "Model saved\n",
      "1168 10485328\n"
     ]
    },
    {
     "name": "stderr",
     "output_type": "stream",
     "text": [
      "24/04/23 23:44:19 WARN TaskSetManager: Stage 17784 contains a task of very large size (3196 KiB). The maximum recommended task size is 1000 KiB.\n",
      "24/04/23 23:44:20 WARN TaskSetManager: Stage 17788 contains a task of very large size (1281 KiB). The maximum recommended task size is 1000 KiB.\n"
     ]
    },
    {
     "name": "stdout",
     "output_type": "stream",
     "text": [
      "Model saved\n",
      "5688 10483067\n"
     ]
    },
    {
     "name": "stderr",
     "output_type": "stream",
     "text": [
      "24/04/23 23:44:27 WARN TaskSetManager: Stage 17812 contains a task of very large size (3196 KiB). The maximum recommended task size is 1000 KiB.\n",
      "24/04/23 23:44:28 WARN TaskSetManager: Stage 17816 contains a task of very large size (1281 KiB). The maximum recommended task size is 1000 KiB.\n"
     ]
    },
    {
     "name": "stdout",
     "output_type": "stream",
     "text": [
      "Model saved\n",
      "1013 10484775\n"
     ]
    },
    {
     "name": "stderr",
     "output_type": "stream",
     "text": [
      "24/04/23 23:44:35 WARN TaskSetManager: Stage 17840 contains a task of very large size (3196 KiB). The maximum recommended task size is 1000 KiB.\n",
      "24/04/23 23:44:36 WARN TaskSetManager: Stage 17844 contains a task of very large size (1281 KiB). The maximum recommended task size is 1000 KiB.\n"
     ]
    },
    {
     "name": "stdout",
     "output_type": "stream",
     "text": [
      "Model saved\n",
      "3316 10484823\n"
     ]
    },
    {
     "name": "stderr",
     "output_type": "stream",
     "text": [
      "24/04/23 23:44:43 WARN TaskSetManager: Stage 17868 contains a task of very large size (3196 KiB). The maximum recommended task size is 1000 KiB.\n",
      "24/04/23 23:44:43 WARN TaskSetManager: Stage 17872 contains a task of very large size (1281 KiB). The maximum recommended task size is 1000 KiB.\n"
     ]
    },
    {
     "name": "stdout",
     "output_type": "stream",
     "text": [
      "Model saved\n",
      "3042 10485494\n"
     ]
    },
    {
     "name": "stderr",
     "output_type": "stream",
     "text": [
      "24/04/23 23:44:50 WARN TaskSetManager: Stage 17896 contains a task of very large size (3196 KiB). The maximum recommended task size is 1000 KiB.\n",
      "24/04/23 23:44:51 WARN TaskSetManager: Stage 17900 contains a task of very large size (1281 KiB). The maximum recommended task size is 1000 KiB.\n"
     ]
    },
    {
     "name": "stdout",
     "output_type": "stream",
     "text": [
      "Model saved\n",
      "657 10485613\n"
     ]
    },
    {
     "name": "stderr",
     "output_type": "stream",
     "text": [
      "24/04/23 23:44:57 WARN TaskSetManager: Stage 17924 contains a task of very large size (3196 KiB). The maximum recommended task size is 1000 KiB.\n",
      "24/04/23 23:44:58 WARN TaskSetManager: Stage 17928 contains a task of very large size (1281 KiB). The maximum recommended task size is 1000 KiB.\n"
     ]
    },
    {
     "name": "stdout",
     "output_type": "stream",
     "text": [
      "Model saved\n",
      "537 10485541\n"
     ]
    },
    {
     "name": "stderr",
     "output_type": "stream",
     "text": [
      "24/04/23 23:45:05 WARN TaskSetManager: Stage 17952 contains a task of very large size (3196 KiB). The maximum recommended task size is 1000 KiB.\n",
      "24/04/23 23:45:06 WARN TaskSetManager: Stage 17956 contains a task of very large size (1281 KiB). The maximum recommended task size is 1000 KiB.\n"
     ]
    },
    {
     "name": "stdout",
     "output_type": "stream",
     "text": [
      "Model saved\n",
      "408 10485718\n"
     ]
    },
    {
     "name": "stderr",
     "output_type": "stream",
     "text": [
      "24/04/23 23:45:13 WARN TaskSetManager: Stage 17980 contains a task of very large size (3196 KiB). The maximum recommended task size is 1000 KiB.\n",
      "24/04/23 23:45:13 WARN TaskSetManager: Stage 17984 contains a task of very large size (1281 KiB). The maximum recommended task size is 1000 KiB.\n"
     ]
    },
    {
     "name": "stdout",
     "output_type": "stream",
     "text": [
      "Model saved\n",
      "963 10485680\n"
     ]
    },
    {
     "name": "stderr",
     "output_type": "stream",
     "text": [
      "24/04/23 23:45:20 WARN TaskSetManager: Stage 18008 contains a task of very large size (3196 KiB). The maximum recommended task size is 1000 KiB.\n",
      "24/04/23 23:45:21 WARN TaskSetManager: Stage 18012 contains a task of very large size (1281 KiB). The maximum recommended task size is 1000 KiB.\n"
     ]
    },
    {
     "name": "stdout",
     "output_type": "stream",
     "text": [
      "Model saved\n",
      "1121 10485143\n"
     ]
    },
    {
     "name": "stderr",
     "output_type": "stream",
     "text": [
      "24/04/23 23:45:27 WARN TaskSetManager: Stage 18036 contains a task of very large size (3196 KiB). The maximum recommended task size is 1000 KiB.\n",
      "24/04/23 23:45:28 WARN TaskSetManager: Stage 18040 contains a task of very large size (1281 KiB). The maximum recommended task size is 1000 KiB.\n"
     ]
    },
    {
     "name": "stdout",
     "output_type": "stream",
     "text": [
      "Model saved\n",
      "450 10485615\n"
     ]
    },
    {
     "name": "stderr",
     "output_type": "stream",
     "text": [
      "24/04/23 23:45:35 WARN TaskSetManager: Stage 18064 contains a task of very large size (3196 KiB). The maximum recommended task size is 1000 KiB.\n",
      "24/04/23 23:45:36 WARN TaskSetManager: Stage 18068 contains a task of very large size (1281 KiB). The maximum recommended task size is 1000 KiB.\n"
     ]
    },
    {
     "name": "stdout",
     "output_type": "stream",
     "text": [
      "Model saved\n",
      "3111 10483923\n"
     ]
    },
    {
     "name": "stderr",
     "output_type": "stream",
     "text": [
      "24/04/23 23:45:43 WARN TaskSetManager: Stage 18092 contains a task of very large size (3196 KiB). The maximum recommended task size is 1000 KiB.\n",
      "24/04/23 23:45:44 WARN TaskSetManager: Stage 18096 contains a task of very large size (1281 KiB). The maximum recommended task size is 1000 KiB.\n"
     ]
    },
    {
     "name": "stdout",
     "output_type": "stream",
     "text": [
      "Model saved\n",
      "379 10485558\n"
     ]
    },
    {
     "name": "stderr",
     "output_type": "stream",
     "text": [
      "24/04/23 23:45:52 WARN TaskSetManager: Stage 18120 contains a task of very large size (3196 KiB). The maximum recommended task size is 1000 KiB.\n",
      "24/04/23 23:45:52 WARN TaskSetManager: Stage 18124 contains a task of very large size (1281 KiB). The maximum recommended task size is 1000 KiB.\n"
     ]
    },
    {
     "name": "stdout",
     "output_type": "stream",
     "text": [
      "Model saved\n",
      "541 10485494\n"
     ]
    },
    {
     "name": "stderr",
     "output_type": "stream",
     "text": [
      "24/04/23 23:45:59 WARN TaskSetManager: Stage 18148 contains a task of very large size (3196 KiB). The maximum recommended task size is 1000 KiB.\n",
      "24/04/23 23:46:00 WARN TaskSetManager: Stage 18152 contains a task of very large size (1281 KiB). The maximum recommended task size is 1000 KiB.\n"
     ]
    },
    {
     "name": "stdout",
     "output_type": "stream",
     "text": [
      "Model saved\n",
      "1897 10485491\n"
     ]
    },
    {
     "name": "stderr",
     "output_type": "stream",
     "text": [
      "24/04/23 23:46:07 WARN TaskSetManager: Stage 18176 contains a task of very large size (3196 KiB). The maximum recommended task size is 1000 KiB.\n",
      "24/04/23 23:46:08 WARN TaskSetManager: Stage 18180 contains a task of very large size (1281 KiB). The maximum recommended task size is 1000 KiB.\n"
     ]
    },
    {
     "name": "stdout",
     "output_type": "stream",
     "text": [
      "Model saved\n",
      "2183 10485257\n"
     ]
    },
    {
     "name": "stderr",
     "output_type": "stream",
     "text": [
      "24/04/23 23:46:15 WARN TaskSetManager: Stage 18204 contains a task of very large size (3196 KiB). The maximum recommended task size is 1000 KiB.\n",
      "24/04/23 23:46:16 WARN TaskSetManager: Stage 18208 contains a task of very large size (1281 KiB). The maximum recommended task size is 1000 KiB.\n"
     ]
    },
    {
     "name": "stdout",
     "output_type": "stream",
     "text": [
      "Model saved\n",
      "531 10485401\n"
     ]
    },
    {
     "name": "stderr",
     "output_type": "stream",
     "text": [
      "24/04/23 23:46:24 WARN TaskSetManager: Stage 18232 contains a task of very large size (3196 KiB). The maximum recommended task size is 1000 KiB.\n",
      "24/04/23 23:46:25 WARN TaskSetManager: Stage 18236 contains a task of very large size (1281 KiB). The maximum recommended task size is 1000 KiB.\n"
     ]
    },
    {
     "name": "stdout",
     "output_type": "stream",
     "text": [
      "Model saved\n",
      "3613 10483106\n"
     ]
    },
    {
     "name": "stderr",
     "output_type": "stream",
     "text": [
      "24/04/23 23:46:32 WARN TaskSetManager: Stage 18260 contains a task of very large size (3196 KiB). The maximum recommended task size is 1000 KiB.\n",
      "24/04/23 23:46:33 WARN TaskSetManager: Stage 18264 contains a task of very large size (1281 KiB). The maximum recommended task size is 1000 KiB.\n"
     ]
    },
    {
     "name": "stdout",
     "output_type": "stream",
     "text": [
      "Model saved\n",
      "715 10485336\n"
     ]
    },
    {
     "name": "stderr",
     "output_type": "stream",
     "text": [
      "24/04/23 23:46:40 WARN TaskSetManager: Stage 18288 contains a task of very large size (3196 KiB). The maximum recommended task size is 1000 KiB.\n",
      "24/04/23 23:46:40 WARN TaskSetManager: Stage 18292 contains a task of very large size (1281 KiB). The maximum recommended task size is 1000 KiB.\n"
     ]
    },
    {
     "name": "stdout",
     "output_type": "stream",
     "text": [
      "Model saved\n",
      "414 10485435\n"
     ]
    },
    {
     "name": "stderr",
     "output_type": "stream",
     "text": [
      "24/04/23 23:46:47 WARN TaskSetManager: Stage 18316 contains a task of very large size (3196 KiB). The maximum recommended task size is 1000 KiB.\n",
      "24/04/23 23:46:48 WARN TaskSetManager: Stage 18320 contains a task of very large size (1281 KiB). The maximum recommended task size is 1000 KiB.\n"
     ]
    },
    {
     "name": "stdout",
     "output_type": "stream",
     "text": [
      "Model saved\n",
      "3606 10484583\n"
     ]
    },
    {
     "name": "stderr",
     "output_type": "stream",
     "text": [
      "24/04/23 23:46:55 WARN TaskSetManager: Stage 18344 contains a task of very large size (3196 KiB). The maximum recommended task size is 1000 KiB.\n",
      "24/04/23 23:46:56 WARN TaskSetManager: Stage 18348 contains a task of very large size (1281 KiB). The maximum recommended task size is 1000 KiB.\n"
     ]
    },
    {
     "name": "stdout",
     "output_type": "stream",
     "text": [
      "Model saved\n",
      "928 10485260\n"
     ]
    },
    {
     "name": "stderr",
     "output_type": "stream",
     "text": [
      "24/04/23 23:47:03 WARN TaskSetManager: Stage 18372 contains a task of very large size (3196 KiB). The maximum recommended task size is 1000 KiB.\n",
      "24/04/23 23:47:03 WARN TaskSetManager: Stage 18376 contains a task of very large size (1281 KiB). The maximum recommended task size is 1000 KiB.\n"
     ]
    },
    {
     "name": "stdout",
     "output_type": "stream",
     "text": [
      "Model saved\n",
      "486 10485746\n"
     ]
    },
    {
     "name": "stderr",
     "output_type": "stream",
     "text": [
      "24/04/23 23:47:10 WARN TaskSetManager: Stage 18400 contains a task of very large size (3196 KiB). The maximum recommended task size is 1000 KiB.\n",
      "24/04/23 23:47:11 WARN TaskSetManager: Stage 18404 contains a task of very large size (1281 KiB). The maximum recommended task size is 1000 KiB.\n"
     ]
    },
    {
     "name": "stdout",
     "output_type": "stream",
     "text": [
      "Model saved\n",
      "3865 10483197\n"
     ]
    },
    {
     "name": "stderr",
     "output_type": "stream",
     "text": [
      "24/04/23 23:47:17 WARN TaskSetManager: Stage 18428 contains a task of very large size (3196 KiB). The maximum recommended task size is 1000 KiB.\n",
      "24/04/23 23:47:18 WARN TaskSetManager: Stage 18432 contains a task of very large size (1281 KiB). The maximum recommended task size is 1000 KiB.\n"
     ]
    },
    {
     "name": "stdout",
     "output_type": "stream",
     "text": [
      "Model saved\n",
      "3567 10482885\n"
     ]
    },
    {
     "name": "stderr",
     "output_type": "stream",
     "text": [
      "24/04/23 23:47:25 WARN TaskSetManager: Stage 18456 contains a task of very large size (3196 KiB). The maximum recommended task size is 1000 KiB.\n",
      "24/04/23 23:47:26 WARN TaskSetManager: Stage 18460 contains a task of very large size (1281 KiB). The maximum recommended task size is 1000 KiB.\n"
     ]
    },
    {
     "name": "stdout",
     "output_type": "stream",
     "text": [
      "Model saved\n",
      "562 10485711\n"
     ]
    },
    {
     "name": "stderr",
     "output_type": "stream",
     "text": [
      "24/04/23 23:47:33 WARN TaskSetManager: Stage 18484 contains a task of very large size (3196 KiB). The maximum recommended task size is 1000 KiB.\n",
      "24/04/23 23:47:34 WARN TaskSetManager: Stage 18488 contains a task of very large size (1281 KiB). The maximum recommended task size is 1000 KiB.\n"
     ]
    },
    {
     "name": "stdout",
     "output_type": "stream",
     "text": [
      "Model saved\n",
      "745 10485560\n"
     ]
    },
    {
     "name": "stderr",
     "output_type": "stream",
     "text": [
      "24/04/23 23:47:42 WARN TaskSetManager: Stage 18512 contains a task of very large size (3196 KiB). The maximum recommended task size is 1000 KiB.\n",
      "24/04/23 23:47:42 WARN TaskSetManager: Stage 18516 contains a task of very large size (1281 KiB). The maximum recommended task size is 1000 KiB.\n"
     ]
    },
    {
     "name": "stdout",
     "output_type": "stream",
     "text": [
      "Model saved\n",
      "2644 10485007\n"
     ]
    },
    {
     "name": "stderr",
     "output_type": "stream",
     "text": [
      "24/04/23 23:47:49 WARN TaskSetManager: Stage 18540 contains a task of very large size (3196 KiB). The maximum recommended task size is 1000 KiB.\n",
      "24/04/23 23:47:50 WARN TaskSetManager: Stage 18544 contains a task of very large size (1281 KiB). The maximum recommended task size is 1000 KiB.\n"
     ]
    },
    {
     "name": "stdout",
     "output_type": "stream",
     "text": [
      "Model saved\n",
      "2435 10483711\n"
     ]
    },
    {
     "name": "stderr",
     "output_type": "stream",
     "text": [
      "24/04/23 23:47:56 WARN TaskSetManager: Stage 18568 contains a task of very large size (3196 KiB). The maximum recommended task size is 1000 KiB.\n",
      "24/04/23 23:47:57 WARN TaskSetManager: Stage 18572 contains a task of very large size (1281 KiB). The maximum recommended task size is 1000 KiB.\n"
     ]
    },
    {
     "name": "stdout",
     "output_type": "stream",
     "text": [
      "Model saved\n",
      "582 10485319\n"
     ]
    },
    {
     "name": "stderr",
     "output_type": "stream",
     "text": [
      "24/04/23 23:48:03 WARN TaskSetManager: Stage 18596 contains a task of very large size (3196 KiB). The maximum recommended task size is 1000 KiB.\n",
      "24/04/23 23:48:04 WARN TaskSetManager: Stage 18600 contains a task of very large size (1281 KiB). The maximum recommended task size is 1000 KiB.\n"
     ]
    },
    {
     "name": "stdout",
     "output_type": "stream",
     "text": [
      "Model saved\n",
      "406 10485671\n"
     ]
    },
    {
     "name": "stderr",
     "output_type": "stream",
     "text": [
      "24/04/23 23:48:11 WARN TaskSetManager: Stage 18624 contains a task of very large size (3196 KiB). The maximum recommended task size is 1000 KiB.\n",
      "24/04/23 23:48:12 WARN TaskSetManager: Stage 18628 contains a task of very large size (1281 KiB). The maximum recommended task size is 1000 KiB.\n"
     ]
    },
    {
     "name": "stdout",
     "output_type": "stream",
     "text": [
      "Model saved\n",
      "349 10485499\n"
     ]
    },
    {
     "name": "stderr",
     "output_type": "stream",
     "text": [
      "24/04/23 23:48:18 WARN TaskSetManager: Stage 18652 contains a task of very large size (3196 KiB). The maximum recommended task size is 1000 KiB.\n",
      "24/04/23 23:48:19 WARN TaskSetManager: Stage 18656 contains a task of very large size (1281 KiB). The maximum recommended task size is 1000 KiB.\n"
     ]
    },
    {
     "name": "stdout",
     "output_type": "stream",
     "text": [
      "Model saved\n",
      "458 10485490\n"
     ]
    },
    {
     "name": "stderr",
     "output_type": "stream",
     "text": [
      "24/04/23 23:48:26 WARN TaskSetManager: Stage 18680 contains a task of very large size (3196 KiB). The maximum recommended task size is 1000 KiB.\n",
      "24/04/23 23:48:27 WARN TaskSetManager: Stage 18684 contains a task of very large size (1281 KiB). The maximum recommended task size is 1000 KiB.\n"
     ]
    },
    {
     "name": "stdout",
     "output_type": "stream",
     "text": [
      "Model saved\n",
      "1266 10484755\n"
     ]
    },
    {
     "name": "stderr",
     "output_type": "stream",
     "text": [
      "24/04/23 23:48:33 WARN TaskSetManager: Stage 18708 contains a task of very large size (3196 KiB). The maximum recommended task size is 1000 KiB.\n",
      "24/04/23 23:48:34 WARN TaskSetManager: Stage 18712 contains a task of very large size (1281 KiB). The maximum recommended task size is 1000 KiB.\n"
     ]
    },
    {
     "name": "stdout",
     "output_type": "stream",
     "text": [
      "Model saved\n",
      "2780 10483806\n"
     ]
    },
    {
     "name": "stderr",
     "output_type": "stream",
     "text": [
      "24/04/23 23:48:41 WARN TaskSetManager: Stage 18736 contains a task of very large size (3196 KiB). The maximum recommended task size is 1000 KiB.\n",
      "24/04/23 23:48:42 WARN TaskSetManager: Stage 18740 contains a task of very large size (1281 KiB). The maximum recommended task size is 1000 KiB.\n"
     ]
    },
    {
     "name": "stdout",
     "output_type": "stream",
     "text": [
      "Model saved\n",
      "3012 10484676\n"
     ]
    },
    {
     "name": "stderr",
     "output_type": "stream",
     "text": [
      "24/04/23 23:48:49 WARN TaskSetManager: Stage 18764 contains a task of very large size (3196 KiB). The maximum recommended task size is 1000 KiB.\n",
      "24/04/23 23:48:50 WARN TaskSetManager: Stage 18768 contains a task of very large size (1281 KiB). The maximum recommended task size is 1000 KiB.\n"
     ]
    },
    {
     "name": "stdout",
     "output_type": "stream",
     "text": [
      "Model saved\n",
      "645 10485256\n"
     ]
    },
    {
     "name": "stderr",
     "output_type": "stream",
     "text": [
      "24/04/23 23:48:57 WARN TaskSetManager: Stage 18792 contains a task of very large size (3196 KiB). The maximum recommended task size is 1000 KiB.\n",
      "24/04/23 23:48:58 WARN TaskSetManager: Stage 18796 contains a task of very large size (1281 KiB). The maximum recommended task size is 1000 KiB.\n"
     ]
    },
    {
     "name": "stdout",
     "output_type": "stream",
     "text": [
      "Model saved\n",
      "915 10485605\n"
     ]
    },
    {
     "name": "stderr",
     "output_type": "stream",
     "text": [
      "24/04/23 23:49:05 WARN TaskSetManager: Stage 18820 contains a task of very large size (3196 KiB). The maximum recommended task size is 1000 KiB.\n",
      "24/04/23 23:49:06 WARN TaskSetManager: Stage 18824 contains a task of very large size (1281 KiB). The maximum recommended task size is 1000 KiB.\n"
     ]
    },
    {
     "name": "stdout",
     "output_type": "stream",
     "text": [
      "Model saved\n",
      "419 10485446\n"
     ]
    },
    {
     "name": "stderr",
     "output_type": "stream",
     "text": [
      "24/04/23 23:49:13 WARN TaskSetManager: Stage 18848 contains a task of very large size (3196 KiB). The maximum recommended task size is 1000 KiB.\n",
      "24/04/23 23:49:14 WARN TaskSetManager: Stage 18852 contains a task of very large size (1281 KiB). The maximum recommended task size is 1000 KiB.\n"
     ]
    },
    {
     "name": "stdout",
     "output_type": "stream",
     "text": [
      "Model saved\n",
      "972 10485425\n"
     ]
    },
    {
     "name": "stderr",
     "output_type": "stream",
     "text": [
      "24/04/23 23:49:20 WARN TaskSetManager: Stage 18876 contains a task of very large size (3196 KiB). The maximum recommended task size is 1000 KiB.\n",
      "24/04/23 23:49:21 WARN TaskSetManager: Stage 18880 contains a task of very large size (1281 KiB). The maximum recommended task size is 1000 KiB.\n"
     ]
    },
    {
     "name": "stdout",
     "output_type": "stream",
     "text": [
      "Model saved\n",
      "2014 10484489\n"
     ]
    },
    {
     "name": "stderr",
     "output_type": "stream",
     "text": [
      "24/04/23 23:49:28 WARN TaskSetManager: Stage 18904 contains a task of very large size (3196 KiB). The maximum recommended task size is 1000 KiB.\n",
      "24/04/23 23:49:28 WARN TaskSetManager: Stage 18908 contains a task of very large size (1281 KiB). The maximum recommended task size is 1000 KiB.\n"
     ]
    },
    {
     "name": "stdout",
     "output_type": "stream",
     "text": [
      "Model saved\n",
      "465 10485512\n"
     ]
    },
    {
     "name": "stderr",
     "output_type": "stream",
     "text": [
      "24/04/23 23:49:35 WARN TaskSetManager: Stage 18932 contains a task of very large size (3196 KiB). The maximum recommended task size is 1000 KiB.\n",
      "24/04/23 23:49:36 WARN TaskSetManager: Stage 18936 contains a task of very large size (1281 KiB). The maximum recommended task size is 1000 KiB.\n"
     ]
    },
    {
     "name": "stdout",
     "output_type": "stream",
     "text": [
      "Model saved\n",
      "2115 10485068\n"
     ]
    },
    {
     "name": "stderr",
     "output_type": "stream",
     "text": [
      "24/04/23 23:49:42 WARN TaskSetManager: Stage 18960 contains a task of very large size (3196 KiB). The maximum recommended task size is 1000 KiB.\n",
      "24/04/23 23:49:43 WARN TaskSetManager: Stage 18964 contains a task of very large size (1281 KiB). The maximum recommended task size is 1000 KiB.\n"
     ]
    },
    {
     "name": "stdout",
     "output_type": "stream",
     "text": [
      "Model saved\n",
      "332 10485467\n"
     ]
    },
    {
     "name": "stderr",
     "output_type": "stream",
     "text": [
      "24/04/23 23:49:50 WARN TaskSetManager: Stage 18988 contains a task of very large size (3196 KiB). The maximum recommended task size is 1000 KiB.\n",
      "24/04/23 23:49:51 WARN TaskSetManager: Stage 18992 contains a task of very large size (1281 KiB). The maximum recommended task size is 1000 KiB.\n"
     ]
    },
    {
     "name": "stdout",
     "output_type": "stream",
     "text": [
      "Model saved\n",
      "1388 10484746\n"
     ]
    },
    {
     "name": "stderr",
     "output_type": "stream",
     "text": [
      "24/04/23 23:49:58 WARN TaskSetManager: Stage 19016 contains a task of very large size (3196 KiB). The maximum recommended task size is 1000 KiB.\n",
      "24/04/23 23:49:59 WARN TaskSetManager: Stage 19020 contains a task of very large size (1281 KiB). The maximum recommended task size is 1000 KiB.\n"
     ]
    },
    {
     "name": "stdout",
     "output_type": "stream",
     "text": [
      "Model saved\n",
      "1545 10484980\n"
     ]
    },
    {
     "name": "stderr",
     "output_type": "stream",
     "text": [
      "24/04/23 23:50:06 WARN TaskSetManager: Stage 19044 contains a task of very large size (3196 KiB). The maximum recommended task size is 1000 KiB.\n",
      "24/04/23 23:50:07 WARN TaskSetManager: Stage 19048 contains a task of very large size (1281 KiB). The maximum recommended task size is 1000 KiB.\n"
     ]
    },
    {
     "name": "stdout",
     "output_type": "stream",
     "text": [
      "Model saved\n",
      "1530 10485622\n"
     ]
    },
    {
     "name": "stderr",
     "output_type": "stream",
     "text": [
      "24/04/23 23:50:13 WARN TaskSetManager: Stage 19072 contains a task of very large size (3196 KiB). The maximum recommended task size is 1000 KiB.\n",
      "24/04/23 23:50:14 WARN TaskSetManager: Stage 19076 contains a task of very large size (1281 KiB). The maximum recommended task size is 1000 KiB.\n"
     ]
    },
    {
     "name": "stdout",
     "output_type": "stream",
     "text": [
      "Model saved\n",
      "1668 10484227\n"
     ]
    },
    {
     "name": "stderr",
     "output_type": "stream",
     "text": [
      "24/04/23 23:50:21 WARN TaskSetManager: Stage 19100 contains a task of very large size (3196 KiB). The maximum recommended task size is 1000 KiB.\n",
      "24/04/23 23:50:22 WARN TaskSetManager: Stage 19104 contains a task of very large size (1281 KiB). The maximum recommended task size is 1000 KiB.\n"
     ]
    },
    {
     "name": "stdout",
     "output_type": "stream",
     "text": [
      "Model saved\n",
      "1487 10485383\n"
     ]
    },
    {
     "name": "stderr",
     "output_type": "stream",
     "text": [
      "24/04/23 23:50:28 WARN TaskSetManager: Stage 19128 contains a task of very large size (3196 KiB). The maximum recommended task size is 1000 KiB.\n",
      "24/04/23 23:50:29 WARN TaskSetManager: Stage 19132 contains a task of very large size (1281 KiB). The maximum recommended task size is 1000 KiB.\n"
     ]
    },
    {
     "name": "stdout",
     "output_type": "stream",
     "text": [
      "Model saved\n",
      "2068 10485554\n"
     ]
    },
    {
     "name": "stderr",
     "output_type": "stream",
     "text": [
      "24/04/23 23:50:36 WARN TaskSetManager: Stage 19156 contains a task of very large size (3196 KiB). The maximum recommended task size is 1000 KiB.\n",
      "24/04/23 23:50:37 WARN TaskSetManager: Stage 19160 contains a task of very large size (1281 KiB). The maximum recommended task size is 1000 KiB.\n"
     ]
    },
    {
     "name": "stdout",
     "output_type": "stream",
     "text": [
      "Model saved\n",
      "4094 10483490\n"
     ]
    },
    {
     "name": "stderr",
     "output_type": "stream",
     "text": [
      "24/04/23 23:50:43 WARN TaskSetManager: Stage 19184 contains a task of very large size (3196 KiB). The maximum recommended task size is 1000 KiB.\n",
      "24/04/23 23:50:44 WARN TaskSetManager: Stage 19188 contains a task of very large size (1281 KiB). The maximum recommended task size is 1000 KiB.\n"
     ]
    },
    {
     "name": "stdout",
     "output_type": "stream",
     "text": [
      "Model saved\n",
      "1639 10484274\n"
     ]
    },
    {
     "name": "stderr",
     "output_type": "stream",
     "text": [
      "24/04/23 23:50:51 WARN TaskSetManager: Stage 19212 contains a task of very large size (3196 KiB). The maximum recommended task size is 1000 KiB.\n",
      "24/04/23 23:50:52 WARN TaskSetManager: Stage 19216 contains a task of very large size (1281 KiB). The maximum recommended task size is 1000 KiB.\n"
     ]
    },
    {
     "name": "stdout",
     "output_type": "stream",
     "text": [
      "Model saved\n",
      "1691 10485281\n"
     ]
    },
    {
     "name": "stderr",
     "output_type": "stream",
     "text": [
      "24/04/23 23:50:58 WARN TaskSetManager: Stage 19240 contains a task of very large size (3196 KiB). The maximum recommended task size is 1000 KiB.\n",
      "24/04/23 23:50:59 WARN TaskSetManager: Stage 19244 contains a task of very large size (1281 KiB). The maximum recommended task size is 1000 KiB.\n"
     ]
    },
    {
     "name": "stdout",
     "output_type": "stream",
     "text": [
      "Model saved\n",
      "527 10485749\n"
     ]
    },
    {
     "name": "stderr",
     "output_type": "stream",
     "text": [
      "24/04/23 23:51:06 WARN TaskSetManager: Stage 19268 contains a task of very large size (3196 KiB). The maximum recommended task size is 1000 KiB.\n",
      "24/04/23 23:51:07 WARN TaskSetManager: Stage 19272 contains a task of very large size (1281 KiB). The maximum recommended task size is 1000 KiB.\n"
     ]
    },
    {
     "name": "stdout",
     "output_type": "stream",
     "text": [
      "Model saved\n",
      "1071 10484920\n"
     ]
    },
    {
     "name": "stderr",
     "output_type": "stream",
     "text": [
      "24/04/23 23:51:14 WARN TaskSetManager: Stage 19296 contains a task of very large size (3196 KiB). The maximum recommended task size is 1000 KiB.\n",
      "24/04/23 23:51:14 WARN TaskSetManager: Stage 19300 contains a task of very large size (1281 KiB). The maximum recommended task size is 1000 KiB.\n"
     ]
    },
    {
     "name": "stdout",
     "output_type": "stream",
     "text": [
      "Model saved\n",
      "1757 10484533\n"
     ]
    },
    {
     "name": "stderr",
     "output_type": "stream",
     "text": [
      "24/04/23 23:51:21 WARN TaskSetManager: Stage 19324 contains a task of very large size (3196 KiB). The maximum recommended task size is 1000 KiB.\n",
      "24/04/23 23:51:22 WARN TaskSetManager: Stage 19328 contains a task of very large size (1281 KiB). The maximum recommended task size is 1000 KiB.\n"
     ]
    },
    {
     "name": "stdout",
     "output_type": "stream",
     "text": [
      "Model saved\n",
      "1541 10484930\n"
     ]
    },
    {
     "name": "stderr",
     "output_type": "stream",
     "text": [
      "24/04/23 23:51:29 WARN TaskSetManager: Stage 19352 contains a task of very large size (3196 KiB). The maximum recommended task size is 1000 KiB.\n",
      "24/04/23 23:51:30 WARN TaskSetManager: Stage 19356 contains a task of very large size (1281 KiB). The maximum recommended task size is 1000 KiB.\n"
     ]
    },
    {
     "name": "stdout",
     "output_type": "stream",
     "text": [
      "Model saved\n",
      "551 10485647\n"
     ]
    },
    {
     "name": "stderr",
     "output_type": "stream",
     "text": [
      "24/04/23 23:51:36 WARN TaskSetManager: Stage 19380 contains a task of very large size (3196 KiB). The maximum recommended task size is 1000 KiB.\n",
      "24/04/23 23:51:37 WARN TaskSetManager: Stage 19384 contains a task of very large size (1281 KiB). The maximum recommended task size is 1000 KiB.\n"
     ]
    },
    {
     "name": "stdout",
     "output_type": "stream",
     "text": [
      "Model saved\n",
      "1929 10484970\n"
     ]
    },
    {
     "name": "stderr",
     "output_type": "stream",
     "text": [
      "24/04/23 23:51:44 WARN TaskSetManager: Stage 19408 contains a task of very large size (3196 KiB). The maximum recommended task size is 1000 KiB.\n",
      "24/04/23 23:51:44 WARN TaskSetManager: Stage 19412 contains a task of very large size (1281 KiB). The maximum recommended task size is 1000 KiB.\n"
     ]
    },
    {
     "name": "stdout",
     "output_type": "stream",
     "text": [
      "Model saved\n",
      "2300 10485111\n"
     ]
    },
    {
     "name": "stderr",
     "output_type": "stream",
     "text": [
      "24/04/23 23:51:52 WARN TaskSetManager: Stage 19436 contains a task of very large size (3196 KiB). The maximum recommended task size is 1000 KiB.\n",
      "24/04/23 23:51:53 WARN TaskSetManager: Stage 19440 contains a task of very large size (1281 KiB). The maximum recommended task size is 1000 KiB.\n"
     ]
    },
    {
     "name": "stdout",
     "output_type": "stream",
     "text": [
      "Model saved\n",
      "2138 10483895\n"
     ]
    },
    {
     "name": "stderr",
     "output_type": "stream",
     "text": [
      "24/04/23 23:52:01 WARN TaskSetManager: Stage 19464 contains a task of very large size (3196 KiB). The maximum recommended task size is 1000 KiB.\n",
      "24/04/23 23:52:01 WARN TaskSetManager: Stage 19468 contains a task of very large size (1281 KiB). The maximum recommended task size is 1000 KiB.\n"
     ]
    },
    {
     "name": "stdout",
     "output_type": "stream",
     "text": [
      "Model saved\n",
      "907 10484981\n"
     ]
    },
    {
     "name": "stderr",
     "output_type": "stream",
     "text": [
      "24/04/23 23:52:09 WARN TaskSetManager: Stage 19492 contains a task of very large size (3196 KiB). The maximum recommended task size is 1000 KiB.\n",
      "24/04/23 23:52:10 WARN TaskSetManager: Stage 19496 contains a task of very large size (1281 KiB). The maximum recommended task size is 1000 KiB.\n"
     ]
    },
    {
     "name": "stdout",
     "output_type": "stream",
     "text": [
      "Model saved\n",
      "3601 10483220\n"
     ]
    },
    {
     "name": "stderr",
     "output_type": "stream",
     "text": [
      "24/04/23 23:52:17 WARN TaskSetManager: Stage 19520 contains a task of very large size (3196 KiB). The maximum recommended task size is 1000 KiB.\n",
      "24/04/23 23:52:18 WARN TaskSetManager: Stage 19524 contains a task of very large size (1281 KiB). The maximum recommended task size is 1000 KiB.\n"
     ]
    },
    {
     "name": "stdout",
     "output_type": "stream",
     "text": [
      "Model saved\n",
      "489 10485422\n"
     ]
    },
    {
     "name": "stderr",
     "output_type": "stream",
     "text": [
      "24/04/23 23:52:25 WARN TaskSetManager: Stage 19548 contains a task of very large size (3196 KiB). The maximum recommended task size is 1000 KiB.\n",
      "24/04/23 23:52:25 WARN TaskSetManager: Stage 19552 contains a task of very large size (1281 KiB). The maximum recommended task size is 1000 KiB.\n"
     ]
    },
    {
     "name": "stdout",
     "output_type": "stream",
     "text": [
      "Model saved\n",
      "595 10485610\n"
     ]
    },
    {
     "name": "stderr",
     "output_type": "stream",
     "text": [
      "24/04/23 23:52:32 WARN TaskSetManager: Stage 19576 contains a task of very large size (3196 KiB). The maximum recommended task size is 1000 KiB.\n",
      "24/04/23 23:52:33 WARN TaskSetManager: Stage 19580 contains a task of very large size (1281 KiB). The maximum recommended task size is 1000 KiB.\n"
     ]
    },
    {
     "name": "stdout",
     "output_type": "stream",
     "text": [
      "Model saved\n",
      "964 10485449\n"
     ]
    },
    {
     "name": "stderr",
     "output_type": "stream",
     "text": [
      "24/04/23 23:52:41 WARN TaskSetManager: Stage 19604 contains a task of very large size (3196 KiB). The maximum recommended task size is 1000 KiB.\n",
      "24/04/23 23:52:42 WARN TaskSetManager: Stage 19608 contains a task of very large size (1281 KiB). The maximum recommended task size is 1000 KiB.\n"
     ]
    },
    {
     "name": "stdout",
     "output_type": "stream",
     "text": [
      "Model saved\n",
      "685 10485483\n"
     ]
    },
    {
     "name": "stderr",
     "output_type": "stream",
     "text": [
      "24/04/23 23:52:49 WARN TaskSetManager: Stage 19632 contains a task of very large size (3196 KiB). The maximum recommended task size is 1000 KiB.\n",
      "24/04/23 23:52:50 WARN TaskSetManager: Stage 19636 contains a task of very large size (1281 KiB). The maximum recommended task size is 1000 KiB.\n"
     ]
    },
    {
     "name": "stdout",
     "output_type": "stream",
     "text": [
      "Model saved\n",
      "782 10485491\n"
     ]
    },
    {
     "name": "stderr",
     "output_type": "stream",
     "text": [
      "24/04/23 23:52:57 WARN TaskSetManager: Stage 19660 contains a task of very large size (3196 KiB). The maximum recommended task size is 1000 KiB.\n",
      "24/04/23 23:52:57 WARN TaskSetManager: Stage 19664 contains a task of very large size (1281 KiB). The maximum recommended task size is 1000 KiB.\n"
     ]
    },
    {
     "name": "stdout",
     "output_type": "stream",
     "text": [
      "Model saved\n",
      "850 10485505\n"
     ]
    },
    {
     "name": "stderr",
     "output_type": "stream",
     "text": [
      "24/04/23 23:53:04 WARN TaskSetManager: Stage 19688 contains a task of very large size (3196 KiB). The maximum recommended task size is 1000 KiB.\n",
      "24/04/23 23:53:05 WARN TaskSetManager: Stage 19692 contains a task of very large size (1281 KiB). The maximum recommended task size is 1000 KiB.\n"
     ]
    },
    {
     "name": "stdout",
     "output_type": "stream",
     "text": [
      "Model saved\n",
      "1005 10485578\n"
     ]
    },
    {
     "name": "stderr",
     "output_type": "stream",
     "text": [
      "24/04/23 23:53:11 WARN TaskSetManager: Stage 19716 contains a task of very large size (3196 KiB). The maximum recommended task size is 1000 KiB.\n",
      "24/04/23 23:53:12 WARN TaskSetManager: Stage 19720 contains a task of very large size (1281 KiB). The maximum recommended task size is 1000 KiB.\n"
     ]
    },
    {
     "name": "stdout",
     "output_type": "stream",
     "text": [
      "Model saved\n",
      "430 10485623\n"
     ]
    },
    {
     "name": "stderr",
     "output_type": "stream",
     "text": [
      "24/04/23 23:53:19 WARN TaskSetManager: Stage 19744 contains a task of very large size (3196 KiB). The maximum recommended task size is 1000 KiB.\n",
      "24/04/23 23:53:20 WARN TaskSetManager: Stage 19748 contains a task of very large size (1281 KiB). The maximum recommended task size is 1000 KiB.\n"
     ]
    },
    {
     "name": "stdout",
     "output_type": "stream",
     "text": [
      "Model saved\n",
      "1697 10484373\n"
     ]
    },
    {
     "name": "stderr",
     "output_type": "stream",
     "text": [
      "24/04/23 23:53:28 WARN TaskSetManager: Stage 19772 contains a task of very large size (3196 KiB). The maximum recommended task size is 1000 KiB.\n",
      "24/04/23 23:53:29 WARN TaskSetManager: Stage 19776 contains a task of very large size (1281 KiB). The maximum recommended task size is 1000 KiB.\n"
     ]
    },
    {
     "name": "stdout",
     "output_type": "stream",
     "text": [
      "Model saved\n",
      "3111 10484261\n"
     ]
    },
    {
     "name": "stderr",
     "output_type": "stream",
     "text": [
      "24/04/23 23:53:36 WARN TaskSetManager: Stage 19800 contains a task of very large size (3196 KiB). The maximum recommended task size is 1000 KiB.\n",
      "24/04/23 23:53:37 WARN TaskSetManager: Stage 19804 contains a task of very large size (1281 KiB). The maximum recommended task size is 1000 KiB.\n"
     ]
    },
    {
     "name": "stdout",
     "output_type": "stream",
     "text": [
      "Model saved\n",
      "953 10485362\n"
     ]
    },
    {
     "name": "stderr",
     "output_type": "stream",
     "text": [
      "24/04/23 23:53:44 WARN TaskSetManager: Stage 19828 contains a task of very large size (3196 KiB). The maximum recommended task size is 1000 KiB.\n",
      "24/04/23 23:53:44 WARN TaskSetManager: Stage 19832 contains a task of very large size (1281 KiB). The maximum recommended task size is 1000 KiB.\n"
     ]
    },
    {
     "name": "stdout",
     "output_type": "stream",
     "text": [
      "Model saved\n",
      "427 10485359\n"
     ]
    },
    {
     "name": "stderr",
     "output_type": "stream",
     "text": [
      "24/04/23 23:53:51 WARN TaskSetManager: Stage 19856 contains a task of very large size (3196 KiB). The maximum recommended task size is 1000 KiB.\n",
      "24/04/23 23:53:51 WARN TaskSetManager: Stage 19860 contains a task of very large size (1281 KiB). The maximum recommended task size is 1000 KiB.\n"
     ]
    },
    {
     "name": "stdout",
     "output_type": "stream",
     "text": [
      "Model saved\n",
      "536 10485585\n"
     ]
    },
    {
     "name": "stderr",
     "output_type": "stream",
     "text": [
      "24/04/23 23:53:59 WARN TaskSetManager: Stage 19884 contains a task of very large size (3196 KiB). The maximum recommended task size is 1000 KiB.\n",
      "24/04/23 23:53:59 WARN TaskSetManager: Stage 19888 contains a task of very large size (1281 KiB). The maximum recommended task size is 1000 KiB.\n"
     ]
    },
    {
     "name": "stdout",
     "output_type": "stream",
     "text": [
      "Model saved\n",
      "4284 10481569\n"
     ]
    },
    {
     "name": "stderr",
     "output_type": "stream",
     "text": [
      "24/04/23 23:54:06 WARN TaskSetManager: Stage 19912 contains a task of very large size (3196 KiB). The maximum recommended task size is 1000 KiB.\n",
      "24/04/23 23:54:07 WARN TaskSetManager: Stage 19916 contains a task of very large size (1281 KiB). The maximum recommended task size is 1000 KiB.\n"
     ]
    },
    {
     "name": "stdout",
     "output_type": "stream",
     "text": [
      "Model saved\n",
      "2740 10483286\n"
     ]
    },
    {
     "name": "stderr",
     "output_type": "stream",
     "text": [
      "24/04/23 23:54:15 WARN TaskSetManager: Stage 19940 contains a task of very large size (3196 KiB). The maximum recommended task size is 1000 KiB.\n",
      "24/04/23 23:54:15 WARN TaskSetManager: Stage 19944 contains a task of very large size (1281 KiB). The maximum recommended task size is 1000 KiB.\n"
     ]
    },
    {
     "name": "stdout",
     "output_type": "stream",
     "text": [
      "Model saved\n",
      "725 10485072\n"
     ]
    },
    {
     "name": "stderr",
     "output_type": "stream",
     "text": [
      "24/04/23 23:54:22 WARN TaskSetManager: Stage 19968 contains a task of very large size (3196 KiB). The maximum recommended task size is 1000 KiB.\n",
      "24/04/23 23:54:23 WARN TaskSetManager: Stage 19972 contains a task of very large size (1281 KiB). The maximum recommended task size is 1000 KiB.\n"
     ]
    },
    {
     "name": "stdout",
     "output_type": "stream",
     "text": [
      "Model saved\n",
      "663 10485712\n"
     ]
    },
    {
     "name": "stderr",
     "output_type": "stream",
     "text": [
      "24/04/23 23:54:30 WARN TaskSetManager: Stage 19996 contains a task of very large size (3196 KiB). The maximum recommended task size is 1000 KiB.\n",
      "24/04/23 23:54:31 WARN TaskSetManager: Stage 20000 contains a task of very large size (1281 KiB). The maximum recommended task size is 1000 KiB.\n"
     ]
    },
    {
     "name": "stdout",
     "output_type": "stream",
     "text": [
      "Model saved\n",
      "824 10484962\n"
     ]
    },
    {
     "name": "stderr",
     "output_type": "stream",
     "text": [
      "24/04/23 23:54:38 WARN TaskSetManager: Stage 20024 contains a task of very large size (3196 KiB). The maximum recommended task size is 1000 KiB.\n",
      "24/04/23 23:54:39 WARN TaskSetManager: Stage 20028 contains a task of very large size (1281 KiB). The maximum recommended task size is 1000 KiB.\n"
     ]
    },
    {
     "name": "stdout",
     "output_type": "stream",
     "text": [
      "Model saved\n",
      "751 10485470\n"
     ]
    },
    {
     "name": "stderr",
     "output_type": "stream",
     "text": [
      "24/04/23 23:54:47 WARN TaskSetManager: Stage 20052 contains a task of very large size (3196 KiB). The maximum recommended task size is 1000 KiB.\n",
      "24/04/23 23:54:48 WARN TaskSetManager: Stage 20056 contains a task of very large size (1281 KiB). The maximum recommended task size is 1000 KiB.\n"
     ]
    },
    {
     "name": "stdout",
     "output_type": "stream",
     "text": [
      "Model saved\n",
      "877 10485567\n"
     ]
    },
    {
     "name": "stderr",
     "output_type": "stream",
     "text": [
      "24/04/23 23:54:55 WARN TaskSetManager: Stage 20080 contains a task of very large size (3196 KiB). The maximum recommended task size is 1000 KiB.\n",
      "24/04/23 23:54:56 WARN TaskSetManager: Stage 20084 contains a task of very large size (1281 KiB). The maximum recommended task size is 1000 KiB.\n"
     ]
    },
    {
     "name": "stdout",
     "output_type": "stream",
     "text": [
      "Model saved\n",
      "1824 10484043\n"
     ]
    },
    {
     "name": "stderr",
     "output_type": "stream",
     "text": [
      "24/04/23 23:55:03 WARN TaskSetManager: Stage 20108 contains a task of very large size (3196 KiB). The maximum recommended task size is 1000 KiB.\n",
      "24/04/23 23:55:04 WARN TaskSetManager: Stage 20112 contains a task of very large size (1281 KiB). The maximum recommended task size is 1000 KiB.\n"
     ]
    },
    {
     "name": "stdout",
     "output_type": "stream",
     "text": [
      "Model saved\n",
      "1859 10485086\n"
     ]
    },
    {
     "name": "stderr",
     "output_type": "stream",
     "text": [
      "24/04/23 23:55:11 WARN TaskSetManager: Stage 20136 contains a task of very large size (3196 KiB). The maximum recommended task size is 1000 KiB.\n",
      "24/04/23 23:55:11 WARN TaskSetManager: Stage 20140 contains a task of very large size (1281 KiB). The maximum recommended task size is 1000 KiB.\n"
     ]
    },
    {
     "name": "stdout",
     "output_type": "stream",
     "text": [
      "Model saved\n",
      "519 10485477\n"
     ]
    },
    {
     "name": "stderr",
     "output_type": "stream",
     "text": [
      "24/04/23 23:55:18 WARN TaskSetManager: Stage 20164 contains a task of very large size (3196 KiB). The maximum recommended task size is 1000 KiB.\n",
      "24/04/23 23:55:19 WARN TaskSetManager: Stage 20168 contains a task of very large size (1281 KiB). The maximum recommended task size is 1000 KiB.\n"
     ]
    },
    {
     "name": "stdout",
     "output_type": "stream",
     "text": [
      "Model saved\n",
      "472 10485733\n"
     ]
    },
    {
     "name": "stderr",
     "output_type": "stream",
     "text": [
      "24/04/23 23:55:26 WARN TaskSetManager: Stage 20192 contains a task of very large size (3196 KiB). The maximum recommended task size is 1000 KiB.\n",
      "24/04/23 23:55:26 WARN TaskSetManager: Stage 20196 contains a task of very large size (1281 KiB). The maximum recommended task size is 1000 KiB.\n"
     ]
    },
    {
     "name": "stdout",
     "output_type": "stream",
     "text": [
      "Model saved\n",
      "1374 10485219\n"
     ]
    },
    {
     "name": "stderr",
     "output_type": "stream",
     "text": [
      "24/04/23 23:55:33 WARN TaskSetManager: Stage 20220 contains a task of very large size (3196 KiB). The maximum recommended task size is 1000 KiB.\n",
      "24/04/23 23:55:34 WARN TaskSetManager: Stage 20224 contains a task of very large size (1281 KiB). The maximum recommended task size is 1000 KiB.\n"
     ]
    },
    {
     "name": "stdout",
     "output_type": "stream",
     "text": [
      "Model saved\n",
      "1770 10484606\n"
     ]
    },
    {
     "name": "stderr",
     "output_type": "stream",
     "text": [
      "24/04/23 23:55:41 WARN TaskSetManager: Stage 20248 contains a task of very large size (3196 KiB). The maximum recommended task size is 1000 KiB.\n",
      "24/04/23 23:55:42 WARN TaskSetManager: Stage 20252 contains a task of very large size (1281 KiB). The maximum recommended task size is 1000 KiB.\n"
     ]
    },
    {
     "name": "stdout",
     "output_type": "stream",
     "text": [
      "Model saved\n",
      "1421 10484609\n"
     ]
    },
    {
     "name": "stderr",
     "output_type": "stream",
     "text": [
      "24/04/23 23:55:48 WARN TaskSetManager: Stage 20276 contains a task of very large size (3196 KiB). The maximum recommended task size is 1000 KiB.\n",
      "24/04/23 23:55:49 WARN TaskSetManager: Stage 20280 contains a task of very large size (1281 KiB). The maximum recommended task size is 1000 KiB.\n"
     ]
    },
    {
     "name": "stdout",
     "output_type": "stream",
     "text": [
      "Model saved\n",
      "3340 10485053\n"
     ]
    },
    {
     "name": "stderr",
     "output_type": "stream",
     "text": [
      "24/04/23 23:55:56 WARN TaskSetManager: Stage 20304 contains a task of very large size (3196 KiB). The maximum recommended task size is 1000 KiB.\n",
      "24/04/23 23:55:56 WARN TaskSetManager: Stage 20308 contains a task of very large size (1281 KiB). The maximum recommended task size is 1000 KiB.\n"
     ]
    },
    {
     "name": "stdout",
     "output_type": "stream",
     "text": [
      "Model saved\n",
      "647 10485370\n"
     ]
    },
    {
     "name": "stderr",
     "output_type": "stream",
     "text": [
      "24/04/23 23:56:03 WARN TaskSetManager: Stage 20332 contains a task of very large size (3196 KiB). The maximum recommended task size is 1000 KiB.\n",
      "24/04/23 23:56:04 WARN TaskSetManager: Stage 20336 contains a task of very large size (1281 KiB). The maximum recommended task size is 1000 KiB.\n"
     ]
    },
    {
     "name": "stdout",
     "output_type": "stream",
     "text": [
      "Model saved\n",
      "1269 10485164\n"
     ]
    },
    {
     "name": "stderr",
     "output_type": "stream",
     "text": [
      "24/04/23 23:56:11 WARN TaskSetManager: Stage 20360 contains a task of very large size (3196 KiB). The maximum recommended task size is 1000 KiB.\n",
      "24/04/23 23:56:11 WARN TaskSetManager: Stage 20364 contains a task of very large size (1281 KiB). The maximum recommended task size is 1000 KiB.\n"
     ]
    },
    {
     "name": "stdout",
     "output_type": "stream",
     "text": [
      "Model saved\n",
      "473 10485313\n"
     ]
    },
    {
     "name": "stderr",
     "output_type": "stream",
     "text": [
      "24/04/23 23:56:17 WARN TaskSetManager: Stage 20388 contains a task of very large size (3196 KiB). The maximum recommended task size is 1000 KiB.\n",
      "24/04/23 23:56:18 WARN TaskSetManager: Stage 20392 contains a task of very large size (1281 KiB). The maximum recommended task size is 1000 KiB.\n"
     ]
    },
    {
     "name": "stdout",
     "output_type": "stream",
     "text": [
      "Model saved\n",
      "1850 10485563\n"
     ]
    },
    {
     "name": "stderr",
     "output_type": "stream",
     "text": [
      "24/04/23 23:56:25 WARN TaskSetManager: Stage 20416 contains a task of very large size (3196 KiB). The maximum recommended task size is 1000 KiB.\n",
      "24/04/23 23:56:26 WARN TaskSetManager: Stage 20420 contains a task of very large size (1281 KiB). The maximum recommended task size is 1000 KiB.\n"
     ]
    },
    {
     "name": "stdout",
     "output_type": "stream",
     "text": [
      "Model saved\n"
     ]
    }
   ],
   "source": [
    "\n",
    "import sys\n",
    "import json\n",
    "import os\n",
    "import shutil\n",
    "\n",
    "from pyspark.sql.functions import rand\n",
    "from pyspark.ml.pipeline import PipelineModel\n",
    "\n",
    "# Define the maximum file size in bytes (10MB)\n",
    "max_file_size = 10 * 1024 * 1024\n",
    "\n",
    "json_objects = []\n",
    "\n",
    "# Read the file line by line until the maximum file size is reached\n",
    "with open(json_training_file_path, 'r') as file:\n",
    "    total_size = 0\n",
    "    for line in file:\n",
    "        # Calculate the size of the current line\n",
    "        line_size = sys.getsizeof(line)\n",
    "\n",
    "        # If adding the current line exceeds the maximum file size, stop reading\n",
    "        if total_size + line_size > max_file_size:\n",
    "            print(line_size, total_size)\n",
    "            # Create a DataFrame from the list of JSON objects\n",
    "            df = spark.createDataFrame(json_objects)\n",
    "            reduced_df = df.select(\"overall\", \"reviewerID\", \"asin\", \"reviewText\")\n",
    "            unique_df = reduced_df.dropDuplicates([\"reviewerID\", \"asin\"])\n",
    "            df_sentiment = unique_df.withColumn(\"sentiment\", targetUDF(unique_df[\"overall\"]))\n",
    "            tokenizer = Tokenizer(inputCol  = \"reviewText\",\n",
    "                      outputCol = \"token\")\n",
    "            # Remove the rows with missing values and tokenize\n",
    "            df_train_tokenized = tokenizer.transform(df_sentiment.filter(unique_df.reviewText.isNotNull()))\n",
    "            # remove hashtags, call outs and web addresses\n",
    "            df4_train = df_train_tokenized.withColumn(\"tokens_re\", removeWEBUDF(df_train_tokenized[\"token\"]))\n",
    "            # remove non english characters\n",
    "            df4_train = df4_train.withColumn(\"tokens_clean\", normalizeUDF(df4_train[\"tokens_re\"]))\n",
    "            # rename columns\n",
    "            df5_train = df4_train.drop(\"token\",\"tokens_re\")\n",
    "            df5_train = df5_train.withColumnRenamed(\"tokens_clean\", \"tokens\")\n",
    "            # remove reviews where the tokens array is empty, i.e. where it was just\n",
    "            # a hashtag, callout, numbers, web adress etc.\n",
    "            df6_train = df5_train.where(F.size(F.col(\"tokens\")) > 0)\n",
    "            df_train_for_model = df6_train.select(\"reviewText\",\"sentiment\").withColumnRenamed(\"sentiment\", \"label\")\n",
    "            shuffled_train_df = df_train_for_model.orderBy(rand())\n",
    "            if os.path.exists('bigram_pipeline_model'):\n",
    "                loaded_model = PipelineModel.load('bigram_pipeline_model')\n",
    "                stages_steps = loaded_model.stages\n",
    "                updated_model = Pipeline(stages = stages_steps).fit(shuffled_train_df)\n",
    "                shutil.rmtree('bigram_pipeline_model')\n",
    "            else:\n",
    "                updated_model = bigram_pipeline.fit(shuffled_train_df)\n",
    "\n",
    "            PipelineModel.save(updated_model, 'bigram_pipeline_model')\n",
    "            print('Model saved')\n",
    "            json_objects = []\n",
    "            total_size = 0\n",
    "        # Otherwise, add the line to the list of JSON objects\n",
    "        json_objects.append(json.loads(line))\n",
    "        total_size += line_size"
   ]
  },
  {
   "cell_type": "code",
   "execution_count": 20,
   "metadata": {},
   "outputs": [
    {
     "name": "stderr",
     "output_type": "stream",
     "text": [
      "24/04/24 00:09:16 WARN DAGScheduler: Broadcasting large task binary with size 4.4 MiB\n",
      "[Stage 20462:=======================================>              (8 + 3) / 11]\r"
     ]
    },
    {
     "name": "stdout",
     "output_type": "stream",
     "text": [
      "AUC SCORE: 0.7342407927637674\n"
     ]
    },
    {
     "name": "stderr",
     "output_type": "stream",
     "text": [
      "                                                                                \r"
     ]
    }
   ],
   "source": [
    "loaded_model = PipelineModel.load('bigram_pipeline_model')\n",
    "predictions = loaded_model.transform(shuffled_test_df)\n",
    "score = evaluator.evaluate(predictions)\n",
    "print(\"AUC SCORE: {}\".format(score))"
   ]
  },
  {
   "cell_type": "code",
   "execution_count": null,
   "metadata": {},
   "outputs": [],
   "source": []
  }
 ],
 "metadata": {
  "kernelspec": {
   "display_name": "Python 3",
   "language": "python",
   "name": "python3"
  },
  "language_info": {
   "codemirror_mode": {
    "name": "ipython",
    "version": 3
   },
   "file_extension": ".py",
   "mimetype": "text/x-python",
   "name": "python",
   "nbconvert_exporter": "python",
   "pygments_lexer": "ipython3",
   "version": "3.10.6"
  }
 },
 "nbformat": 4,
 "nbformat_minor": 2
}
