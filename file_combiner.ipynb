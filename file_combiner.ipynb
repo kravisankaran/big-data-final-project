{
 "cells": [
  {
   "cell_type": "code",
   "execution_count": 1,
   "id": "ed6674c0-da37-4733-82bf-ef0cd8f0e19a",
   "metadata": {},
   "outputs": [],
   "source": [
    "# combining data\n",
    "\n",
    "import os\n",
    "import json \n",
    "TEST_RATIO = 0.2\n",
    "TRAIN_RATIO = 0.8\n",
    "\n",
    "# directory of the donwnloaded data\n",
    "dir = r\"C:\\Users\\Emma\\Downloads\\school\\Big_Data\\project\\amazon_review_data\"\n",
    "# directory for the combined files to write to\n",
    "combined_test = r\"C:\\Users\\Emma\\Downloads\\school\\Big_Data\\project\\finaldata\\combined_test.json\"\n",
    "combined_train = r\"C:\\Users\\Emma\\Downloads\\school\\Big_Data\\project\\finaldata\\combined_train.json\"\n",
    "\n",
    "def split_train_test(filename):\n",
    "    with open(filename, 'r') as f:\n",
    "\n",
    "        # count how many lines to read\n",
    "        content = f.readlines()\n",
    "        lines_total = len(content)\n",
    "        lines_test = int(lines_total*TEST_RATIO)\n",
    "        lines_train = int(lines_total*TRAIN_RATIO)\n",
    "        #print(lines_total, lines_test, lines_train)\n",
    "\n",
    "        # write the first 20% into testing json\n",
    "        with open(combined_test, 'a') as output_file:\n",
    "            for i in range(lines_test):\n",
    "                line = content[i]\n",
    "                line.strip()\n",
    "                data = json.loads(line)\n",
    "                json.dump(data, output_file)\n",
    "                output_file.write('\\n')\n",
    "        output_file.close()\n",
    "\n",
    "        # write the rest into training json\n",
    "        with open(combined_train, 'a') as output_file:\n",
    "            for i in range(lines_test,lines_test+lines_train):\n",
    "                line = content[i]\n",
    "                line.strip()\n",
    "                data = json.loads(line)\n",
    "                json.dump(data, output_file)\n",
    "                output_file.write('\\n')\n",
    "        output_file.close()\n",
    "    \n",
    "\n",
    "def combine_data():\n",
    "    for root, _, files in os.walk(dir):\n",
    "        for filename in files:\n",
    "            print(filename)\n",
    "            split_train_test(os.path.join(root, filename))        "
   ]
  },
  {
   "cell_type": "code",
   "execution_count": 2,
   "id": "9d0970d2-07e1-491f-a2c4-17446bdd7750",
   "metadata": {},
   "outputs": [
    {
     "name": "stdout",
     "output_type": "stream",
     "text": [
      "All_Beauty_5.json\n",
      "AMAZON_FASHION_5.json\n",
      "Appliances_5.json\n",
      "Arts_Crafts_and_Sewing_5.json\n",
      "Automotive_5.json\n",
      "CDs_and_Vinyl_5.json\n",
      "Cell_Phones_and_Accessories_5.json\n",
      "Grocery_and_Gourmet_Food_5.json\n",
      "Kindle_Store_5.json\n",
      "Pet_Supplies_5.json\n",
      "Tools_and_Home_Improvement_5.json\n",
      "Toys_and_Games_5.json\n",
      "CPU times: total: 5min 59s\n",
      "Wall time: 9min 38s\n"
     ]
    }
   ],
   "source": [
    "%%time\n",
    "\n",
    "combine_data()"
   ]
  }
 ],
 "metadata": {
  "kernelspec": {
   "display_name": "Python 3 (ipykernel)",
   "language": "python",
   "name": "python3"
  },
  "language_info": {
   "codemirror_mode": {
    "name": "ipython",
    "version": 3
   },
   "file_extension": ".py",
   "mimetype": "text/x-python",
   "name": "python",
   "nbconvert_exporter": "python",
   "pygments_lexer": "ipython3",
   "version": "3.11.7"
  }
 },
 "nbformat": 4,
 "nbformat_minor": 5
}
