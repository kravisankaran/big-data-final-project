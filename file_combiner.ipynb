{
 "cells": [
  {
   "cell_type": "code",
   "execution_count": 19,
   "id": "ed6674c0-da37-4733-82bf-ef0cd8f0e19a",
   "metadata": {},
   "outputs": [],
   "source": [
    "# combining data\n",
    "\n",
    "import os\n",
    "import json \n",
    "TEST_RATIO = 0.2\n",
    "TRAIN_RATIO = 0.8\n",
    "\n",
    "# directory of the donwnloaded data\n",
    "dir = r\"C:\\Users\\Emma\\Downloads\\school\\Big_Data\\project\\amazon_review_data\"\n",
    "# directory for the combined files to write to\n",
    "combined_test = r\"C:\\Users\\Emma\\Downloads\\school\\Big_Data\\project\\big-data-final-project\\combined_test.json\"\n",
    "combined_train = r\"C:\\Users\\Emma\\Downloads\\school\\Big_Data\\project\\big-data-final-project\\combined_train.json\"\n",
    "\n",
    "def split_train_test(filename):\n",
    "    with open(filename, 'r') as f:\n",
    "\n",
    "        # count how many lines to read\n",
    "        content = f.readlines()\n",
    "        lines_total = len(content)\n",
    "        lines_test = int(lines_total*TEST_RATIO)\n",
    "        lines_train = int(lines_total*TRAIN_RATIO)\n",
    "        #print(lines_total, lines_test, lines_train)\n",
    "\n",
    "        # write the first 20% into testing json\n",
    "        with open(combined_test, 'a') as output_file:\n",
    "            for i in range(lines_test):\n",
    "                line = content[i]\n",
    "                line.strip()\n",
    "                data = json.loads(line)\n",
    "                json.dump(data, output_file, indent=4)\n",
    "                output_file.write('\\n')\n",
    "        output_file.close()\n",
    "\n",
    "        # write the rest into training json\n",
    "        with open(combined_train, 'a') as output_file:\n",
    "            for i in range(lines_test,lines_test+lines_train):\n",
    "                line = content[i]\n",
    "                line.strip()\n",
    "                data = json.loads(line)\n",
    "                json.dump(data, output_file, indent=4)\n",
    "                output_file.write('\\n')\n",
    "        output_file.close()\n",
    "    \n",
    "\n",
    "def combine_data():\n",
    "    for root, _, files in os.walk(dir):\n",
    "        for filename in files:\n",
    "            print(filename)\n",
    "            split_train_test(os.path.join(root, filename))        "
   ]
  },
  {
   "cell_type": "code",
   "execution_count": 20,
   "id": "9d0970d2-07e1-491f-a2c4-17446bdd7750",
   "metadata": {},
   "outputs": [
    {
     "name": "stdout",
     "output_type": "stream",
     "text": [
      "All_Beauty_5.json\n",
      "AMAZON_FASHION_5.json\n",
      "Appliances_5.json\n",
      "Arts_Crafts_and_Sewing_5.json\n",
      "Automotive_5.json\n",
      "CDs_and_Vinyl_5.json\n",
      "Cell_Phones_and_Accessories_5.json\n",
      "Digital_Music_5.json\n",
      "Electronics_5.json\n",
      "Gift_Cards_5.json\n",
      "Grocery_and_Gourmet_Food_5.json\n",
      "Home_and_Kitchen_5.json\n",
      "Industrial_and_Scientific_5.json\n",
      "Kindle_Store_5.json\n",
      "Luxury_Beauty_5.json\n",
      "Magazine_Subscriptions_5.json\n",
      "Movies_and_TV_5.json\n",
      "Musical_Instruments_5.json\n",
      "Office_Products_5.json\n",
      "Patio_Lawn_and_Garden_5.json\n",
      "Pet_Supplies_5.json\n",
      "Prime_Pantry_5.json\n",
      "Software_5.json\n",
      "Sports_and_Outdoors_5.json\n",
      "Toys_and_Games_5.json\n",
      "Video_Games_5.json\n"
     ]
    }
   ],
   "source": [
    "combine_data()"
   ]
  },
  {
   "cell_type": "code",
   "execution_count": 1,
   "id": "f31a0382-ae9d-4a1f-b105-04abff9bd713",
   "metadata": {},
   "outputs": [],
   "source": [
    "# did not shuffle the data\n",
    "# google drive link to combined data\n",
    "# https://drive.google.com/file/d/12ZjwXcF8WiZbUCeSzNkBnXKMUzmsqPF0/view?usp=drive_link"
   ]
  },
  {
   "cell_type": "code",
   "execution_count": null,
   "id": "a6f5de63-8c08-4863-bf42-3da456933b24",
   "metadata": {},
   "outputs": [],
   "source": [
    "# divider------"
   ]
  },
  {
   "cell_type": "code",
   "execution_count": 8,
   "id": "4b91b610-965e-4e4e-9eae-59d84a8ecf80",
   "metadata": {
    "scrolled": true
   },
   "outputs": [],
   "source": [
    "import findspark\n",
    "findspark.init()"
   ]
  },
  {
   "cell_type": "code",
   "execution_count": 9,
   "id": "a4405bad-3282-4c32-9c7d-4f9750fa351e",
   "metadata": {},
   "outputs": [],
   "source": [
    "from pyspark.sql import SparkSession\n",
    "from pyspark.sql.types import StructType, StructField, StringType, FloatType, BooleanType, IntegerType\n",
    "from pyspark.sql.functions import col, struct\n",
    "from pyspark.sql.functions import when\n",
    "\n",
    "# create a SparkSession\n",
    "spark = SparkSession.builder.appName(\"ReadJSON\").getOrCreate()"
   ]
  },
  {
   "cell_type": "code",
   "execution_count": 10,
   "id": "e0fae1ed-952a-4309-97ea-350786edfb14",
   "metadata": {},
   "outputs": [
    {
     "data": {
      "text/plain": [
       "3176"
      ]
     },
     "execution_count": 10,
     "metadata": {},
     "output_type": "execute_result"
    }
   ],
   "source": [
    "# define schema\n",
    "schema = StructType(\n",
    "    [\n",
    "        StructField(\"asin\", StringType(), True),\n",
    "        StructField(\"reviewerID\", StringType(), True),\n",
    "        StructField(\"vote\", StringType(), True),\n",
    "        StructField(\"overall\", StringType(), True),\n",
    "        StructField(\"summary\", StringType(), True),\n",
    "        StructField(\"reviewText\", StringType(), True)\n",
    "    ]\n",
    ")\n",
    "\n",
    "# read a JSON file into a DataFrame\n",
    "df = spark.read.schema(schema).json(r\"C:\\Users\\Emma\\Downloads\\school\\Big_Data\\project\\amazon_review_data\\AMAZON_FASHION_5.json\")\n",
    "df.count()"
   ]
  },
  {
   "cell_type": "code",
   "execution_count": 43,
   "id": "283c8f4a-109c-4064-8c7b-9c8922b1065f",
   "metadata": {},
   "outputs": [
    {
     "name": "stdout",
     "output_type": "stream",
     "text": [
      "+----------+--------------+----+-------+--------------------+--------------------+\n",
      "|      asin|    reviewerID|vote|overall|             summary|          reviewText|\n",
      "+----------+--------------+----+-------+--------------------+--------------------+\n",
      "|B000YFSR4W|A3GJ3DJU1RXOHN|  35|    4.0|       size runs big|great price for t...|\n",
      "|B000YFSR5G|A3GJ3DJU1RXOHN|  35|    4.0|       size runs big|great price for t...|\n",
      "|B000YFSR4W|A3GJ3DJU1RXOHN|  35|    4.0|       size runs big|great price for t...|\n",
      "|B000YFSR5G|A3GJ3DJU1RXOHN|  35|    4.0|       size runs big|great price for t...|\n",
      "|B001LNSY2Q|A3GJ3DJU1RXOHN|  35|    4.0|       size runs big|great price for t...|\n",
      "|B0014F7B98| ATS6HOUGOVX0D|  22|    5.0|Exactly What I Wa...|Tried them on in ...|\n",
      "|B009MA34NY| ATS6HOUGOVX0D|  22|    5.0|Exactly What I Wa...|Tried them on in ...|\n",
      "|B014IBJKNO| A8DR2Z71DERN0|  22|    1.0|Poor quality for ...|After less than a...|\n",
      "|B014IBJKNO| ATS6HOUGOVX0D|  22|    5.0|Exactly What I Wa...|Tried them on in ...|\n",
      "|B0092UF54A| ATS6HOUGOVX0D|  22|    5.0|Exactly What I Wa...|Tried them on in ...|\n",
      "|B005AGO4LU| ATS6HOUGOVX0D|  22|    5.0|Exactly What I Wa...|Tried them on in ...|\n",
      "|B010RRWKT4| ATS6HOUGOVX0D|  22|    5.0|Exactly What I Wa...|Tried them on in ...|\n",
      "|B010RRWKT4| A8DR2Z71DERN0|  21|    1.0|Poor quality for ...|After less than a...|\n",
      "|B005AGO4LU| AG8MPE8CQAPM7|  20|    4.0|Comfortable and l...|I am a recess aid...|\n",
      "|B0014F7B98| AG8MPE8CQAPM7|  20|    4.0|Comfortable and l...|I am a recess aid...|\n",
      "|B009MA34NY| AG8MPE8CQAPM7|  20|    4.0|Comfortable and l...|I am a recess aid...|\n",
      "|B0058YEJ5K| AG8MPE8CQAPM7|  20|    4.0|Comfortable and l...|I am a recess aid...|\n",
      "|B001IKJOLW| AG8MPE8CQAPM7|  20|    4.0|Comfortable and l...|I am a recess aid...|\n",
      "|B010RRWKT4| AG8MPE8CQAPM7|  20|    4.0|Comfortable and l...|I am a recess aid...|\n",
      "|B0092UF54A| A8DR2Z71DERN0|  20|    1.0|Poor quality for ...|After less than a...|\n",
      "+----------+--------------+----+-------+--------------------+--------------------+\n",
      "only showing top 20 rows\n",
      "\n"
     ]
    }
   ],
   "source": [
    "# sort by vote\n",
    "df = df.withColumn('vote', col('vote').cast(IntegerType()))\n",
    "df_byVote = df.orderBy(df[\"vote\"].desc())\n",
    "df_byVote.show()"
   ]
  },
  {
   "cell_type": "code",
   "execution_count": 38,
   "id": "ad19b22f-a25d-4b4c-824d-b25d7e4e10d0",
   "metadata": {},
   "outputs": [
    {
     "name": "stdout",
     "output_type": "stream",
     "text": [
      "+----------+--------------+----+-------+--------------------+--------------------+--------------+\n",
      "|      asin|    reviewerID|vote|overall|             summary|          reviewText|rank_onOverall|\n",
      "+----------+--------------+----+-------+--------------------+--------------------+--------------+\n",
      "|B000K2PJ4K| ALJ66O1Y6SLHA|NULL|    5.0|          Five Stars|Great product and...|          good|\n",
      "|B000K2PJ4K| ALJ66O1Y6SLHA|NULL|    5.0|          Five Stars|Great product and...|          good|\n",
      "|B000K2PJ4K| ALJ66O1Y6SLHA|NULL|    5.0|          Five Stars|Great product and...|          good|\n",
      "|B000K2PJ4K| ALJ66O1Y6SLHA|NULL|    5.0|          Five Stars|Great product and...|          good|\n",
      "|B000K2PJ4K| ALJ66O1Y6SLHA|NULL|    5.0|          Five Stars|Great product and...|          good|\n",
      "|B000K2PJ4K|A3W11493KS6Z2L|NULL|    3.0|               Oops!|Waaay too small. ...|           bad|\n",
      "|B000K2PJ4K|A3W11493KS6Z2L|NULL|    5.0|               Great|Stays vibrant aft...|          good|\n",
      "|B000K2PJ4K|A3W11493KS6Z2L|NULL|    5.0|                Good|Stays vibrant aft...|          good|\n",
      "|B000K2PJ4K|A3W11493KS6Z2L|NULL|    5.0|               Great|My son really lik...|          good|\n",
      "|B000K2PJ4K|A3W11493KS6Z2L|NULL|    3.0|               Oops!|Waaay too small. ...|           bad|\n",
      "|B000KPIHQ4|A3HX4X3TIABWOV|NULL|    2.0|These were recomm...|Relieved my Plant...|           bad|\n",
      "|B000KPIHQ4| AW8UBYMNJ894V|NULL|    2.0|Not the same as a...|This is my 6th pa...|           bad|\n",
      "|B000KPIHQ4|A265UZVOZWTTXQ|NULL|    5.0|       Great inserts|We have used thes...|          good|\n",
      "|B000KPIHQ4| AW8UBYMNJ894V|NULL|    5.0|   Personal favorite|Pinnacle seems to...|          good|\n",
      "|B000KPIHQ4|A265UZVOZWTTXQ|NULL|    5.0|          Five Stars|Excellent insole ...|          good|\n",
      "|B000KPIHQ4| AW8UBYMNJ894V|NULL|    5.0|      Great comfort!|A little more cus...|          good|\n",
      "|B000KPIHQ4|A265UZVOZWTTXQ|NULL|    5.0|These insoles hel...|These insoles hel...|          good|\n",
      "|B000V0IBDM|A3HX4X3TIABWOV|NULL|    2.0|These were recomm...|Relieved my Plant...|           bad|\n",
      "|B000V0IBDM| AW8UBYMNJ894V|NULL|    2.0|Not the same as a...|This is my 6th pa...|           bad|\n",
      "|B000V0IBDM|A265UZVOZWTTXQ|NULL|    5.0|       Great inserts|We have used thes...|          good|\n",
      "+----------+--------------+----+-------+--------------------+--------------------+--------------+\n",
      "only showing top 20 rows\n",
      "\n"
     ]
    }
   ],
   "source": [
    "# rate reviews with overall score\n",
    "# 5,4 as good/ 1,2,3 as bad\n",
    "\n",
    "df_withRank = df.withColumn(\"rank_onOverall\",\n",
    "                            when(df[\"overall\"] > 3, \"good\")\n",
    "                             .otherwise(\"bad\"))\n",
    "df_withRank.show()"
   ]
  },
  {
   "cell_type": "code",
   "execution_count": null,
   "id": "37e94563-9275-47e6-b875-0cb7e7a6252a",
   "metadata": {},
   "outputs": [],
   "source": [
    "# nltk pretrained sentiment analyzer"
   ]
  },
  {
   "cell_type": "code",
   "execution_count": 19,
   "id": "0928df60-689d-41f9-9e63-2ceebcf81671",
   "metadata": {},
   "outputs": [],
   "source": [
    "# tmp\n",
    "\n",
    "from nltk.sentiment import SentimentIntensityAnalyzer\n",
    "sia = SentimentIntensityAnalyzer()"
   ]
  },
  {
   "cell_type": "code",
   "execution_count": 25,
   "id": "fab4b768-3a2a-4fd5-a11a-cd6d6af172ce",
   "metadata": {},
   "outputs": [
    {
     "data": {
      "text/plain": [
       "{'neg': 0.0, 'neu': 0.699, 'pos': 0.301, 'compound': 0.6808}"
      ]
     },
     "execution_count": 25,
     "metadata": {},
     "output_type": "execute_result"
    }
   ],
   "source": [
    "sia.polarity_scores(\"These insoles help my heel feels much better. I would never wear a pair of athletic ...\")"
   ]
  },
  {
   "cell_type": "code",
   "execution_count": 44,
   "id": "4487be84-5367-4d6c-9140-6170148fb4dc",
   "metadata": {},
   "outputs": [
    {
     "data": {
      "text/plain": [
       "{'neg': 0.0, 'neu': 0.808, 'pos': 0.192, 'compound': 0.2263}"
      ]
     },
     "execution_count": 44,
     "metadata": {},
     "output_type": "execute_result"
    }
   ],
   "source": [
    "sia.polarity_scores(\"Nice pants but too small for a medium. Return it\")"
   ]
  }
 ],
 "metadata": {
  "kernelspec": {
   "display_name": "Python 3 (ipykernel)",
   "language": "python",
   "name": "python3"
  },
  "language_info": {
   "codemirror_mode": {
    "name": "ipython",
    "version": 3
   },
   "file_extension": ".py",
   "mimetype": "text/x-python",
   "name": "python",
   "nbconvert_exporter": "python",
   "pygments_lexer": "ipython3",
   "version": "3.11.7"
  }
 },
 "nbformat": 4,
 "nbformat_minor": 5
}
