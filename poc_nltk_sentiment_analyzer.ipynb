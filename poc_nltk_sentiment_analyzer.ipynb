{
 "cells": [
  {
   "cell_type": "code",
   "execution_count": 2,
   "metadata": {},
   "outputs": [
    {
     "name": "stderr",
     "output_type": "stream",
     "text": [
      "[nltk_data] Downloading package vader_lexicon to\n",
      "[nltk_data]     /Users/soniasusanto/nltk_data...\n",
      "[nltk_data]   Package vader_lexicon is already up-to-date!\n",
      "                                                                                \r"
     ]
    },
    {
     "name": "stdout",
     "output_type": "stream",
     "text": [
      "+----------+-----+-------+--------------------+-----------+--------------+------------------+--------------------+--------------------+--------------+--------+----+\n",
      "|      asin|image|overall|          reviewText| reviewTime|    reviewerID|      reviewerName|               style|             summary|unixReviewTime|verified|vote|\n",
      "+----------+-----+-------+--------------------+-----------+--------------+------------------+--------------------+--------------------+--------------+--------+----+\n",
      "|0321719816| NULL|    4.0|I've been using D...|10 20, 2010|A38NELQT98S4H8|         WB Halper|{NULL,  DVD-ROM, ...|A solid overview ...|    1287532800|   false|NULL|\n",
      "|0321719816| NULL|    4.0|The demo is done ...|10 18, 2010|A3QJU4FEN8PQSZ|            Grimmy|{NULL,  DVD-ROM, ...|        A good value|    1287360000|   false|NULL|\n",
      "|0321719816| NULL|    5.0|If you've been wa...|10 16, 2010| ACJT8MUC0LRF0|         D. Fowler|{NULL,  DVD-ROM, ...|This is excellent...|    1287187200|   false|   3|\n",
      "|0321719816| NULL|    5.0|I've been creatin...|10 12, 2010| AYUF7YETYOLNX|      Bryan Newman|{NULL,  DVD-ROM, ...|A Fantastic Overv...|    1286841600|   false|NULL|\n",
      "|0321719816| NULL|    5.0|I decided (after ...| 10 7, 2010|A31ICLWQ9CSHRS|        Al Swanson|{NULL,  DVD-ROM, ...|Excellent Tutorials!|    1286409600|   false|NULL|\n",
      "|0321719816| NULL|    5.0|The video is well...|09 26, 2010|A2BVNVJOFXGZUB|         J. Howard|{NULL,  DVD-ROM, ...|          Excellent.|    1285459200|   false|NULL|\n",
      "|0321719816| NULL|    5.0|I spent several h...| 04 7, 2011|A2JMJVNTBL7K7E|        Yesuaini99|{NULL,  DVD-ROM, ...|excellent video t...|    1302134400|   false|NULL|\n",
      "|0321719816| NULL|    5.0|I have had Dreamw...| 01 8, 2011|A14JBDSWKPKTZA|        Bob Feeser|{NULL,  DVD-ROM, ...|Great Video for a...|    1294444800|   false|NULL|\n",
      "|0321719816| NULL|    5.0|I have also taken...|10 28, 2010|A2WCFDOCS73PNB|         Gadgetman|{NULL,  DVD-ROM, ...|Excellent value f...|    1288224000|   false|   4|\n",
      "|0321719816| NULL|    5.0|Even though I use...|10 28, 2010|A14638TGYH7GD9|     Rebecca Haden|{NULL,  DVD-ROM, ...|Buy this with you...|    1288224000|   false|   6|\n",
      "|0321719816| NULL|    3.0|I waited to compl...|10 21, 2010|A2VWE5SGNDS8HW|            tachi1|{NULL,  DVD-ROM, ...|Competent introdu...|    1287619200|   false|  22|\n",
      "|0321700945| NULL|    5.0|As someone who ha...|10 13, 2010|A13700AF4X40YG| Loves Books in MD|{NULL,  DVD-ROM, ...|Learn Adobe Photo...|    1286928000|   false|NULL|\n",
      "|0321700945| NULL|    5.0|Adobe approved \"A...| 10 7, 2010|A23E9QQHJLNGUI|      Bill Oterson|{NULL,  DVD-ROM, ...|Absolutely the best.|    1286409600|   false|  19|\n",
      "|0321700945| NULL|    5.0|This is a greate ...|05 15, 2011|A1GQRGB8FGSLIZ|   Amazon Customer|{NULL,  DVD-ROM, ...|I find myself goi...|    1305417600|   false|NULL|\n",
      "|0321700945| NULL|    3.0|There are over 10...| 01 9, 2011|A1E50L7PCVXLN4|           Colinda|{NULL,  DVD-ROM, ...|For Highly Motiva...|    1294531200|   false|  16|\n",
      "|0321700945| NULL|    5.0|I am not an avid ...| 12 6, 2010|A10Y058K7B96C6|       midnight122|{NULL,  DVD-ROM, ...|Great for beginne...|    1291593600|   false|NULL|\n",
      "|0321700945| NULL|    5.0|I am a long time ...|11 15, 2010|A3V7D0LH8L7BG0|          Spike D.|{NULL,  DVD-ROM, ...|You need to have ...|    1289779200|   false|NULL|\n",
      "|0321719824| NULL|    4.0|The \"Learn by Vid...|11 27, 2010| AGVWTYW0ULXHT|              Nate|{NULL,  DVD-ROM, ...|A helpful introdu...|    1290816000|   false|NULL|\n",
      "|0321719824| NULL|    4.0|The presenter her...|10 21, 2010|A3QJU4FEN8PQSZ|            Grimmy|{NULL,  DVD-ROM, ...|A good introducti...|    1287619200|   false|NULL|\n",
      "|0321719824| NULL|    4.0|This certified as...|10 10, 2010|A31N0XY2UTB25C|Stephanie Sullivan|{NULL,  DVD-ROM, ...|Learn Adobe Flash...|    1286668800|   false|NULL|\n",
      "+----------+-----+-------+--------------------+-----------+--------------+------------------+--------------------+--------------------+--------------+--------+----+\n",
      "only showing top 20 rows\n",
      "\n"
     ]
    }
   ],
   "source": [
    "from pyspark.sql import SparkSession\n",
    "from pyspark.sql.functions import udf\n",
    "from pyspark.sql.types import StringType\n",
    "import nltk\n",
    "nltk.downloader.download('vader_lexicon')\n",
    "from nltk.sentiment.vader import SentimentIntensityAnalyzer\n",
    "path = '../Software_5.json'\n",
    "\n",
    "spark = SparkSession.builder.master(\"local\").appName(\"AmazonReviews\").getOrCreate()\n",
    "\n",
    "df = spark.read.json(path)\n",
    "\n",
    "df.show()"
   ]
  },
  {
   "cell_type": "code",
   "execution_count": 3,
   "metadata": {},
   "outputs": [
    {
     "name": "stderr",
     "output_type": "stream",
     "text": [
      "                                                                                \r"
     ]
    },
    {
     "name": "stdout",
     "output_type": "stream",
     "text": [
      "row count 12805\n",
      "row count 12804\n",
      "+----------+-----+-------+--------------------+-----------+--------------+------------------+--------------------+--------------------+--------------+--------+----+\n",
      "|      asin|image|overall|          reviewText| reviewTime|    reviewerID|      reviewerName|               style|             summary|unixReviewTime|verified|vote|\n",
      "+----------+-----+-------+--------------------+-----------+--------------+------------------+--------------------+--------------------+--------------+--------+----+\n",
      "|0321719816| NULL|    4.0|I've been using D...|10 20, 2010|A38NELQT98S4H8|         WB Halper|{NULL,  DVD-ROM, ...|A solid overview ...|    1287532800|   false|NULL|\n",
      "|0321719816| NULL|    4.0|The demo is done ...|10 18, 2010|A3QJU4FEN8PQSZ|            Grimmy|{NULL,  DVD-ROM, ...|        A good value|    1287360000|   false|NULL|\n",
      "|0321719816| NULL|    5.0|If you've been wa...|10 16, 2010| ACJT8MUC0LRF0|         D. Fowler|{NULL,  DVD-ROM, ...|This is excellent...|    1287187200|   false|   3|\n",
      "|0321719816| NULL|    5.0|I've been creatin...|10 12, 2010| AYUF7YETYOLNX|      Bryan Newman|{NULL,  DVD-ROM, ...|A Fantastic Overv...|    1286841600|   false|NULL|\n",
      "|0321719816| NULL|    5.0|I decided (after ...| 10 7, 2010|A31ICLWQ9CSHRS|        Al Swanson|{NULL,  DVD-ROM, ...|Excellent Tutorials!|    1286409600|   false|NULL|\n",
      "|0321719816| NULL|    5.0|The video is well...|09 26, 2010|A2BVNVJOFXGZUB|         J. Howard|{NULL,  DVD-ROM, ...|          Excellent.|    1285459200|   false|NULL|\n",
      "|0321719816| NULL|    5.0|I spent several h...| 04 7, 2011|A2JMJVNTBL7K7E|        Yesuaini99|{NULL,  DVD-ROM, ...|excellent video t...|    1302134400|   false|NULL|\n",
      "|0321719816| NULL|    5.0|I have had Dreamw...| 01 8, 2011|A14JBDSWKPKTZA|        Bob Feeser|{NULL,  DVD-ROM, ...|Great Video for a...|    1294444800|   false|NULL|\n",
      "|0321719816| NULL|    5.0|I have also taken...|10 28, 2010|A2WCFDOCS73PNB|         Gadgetman|{NULL,  DVD-ROM, ...|Excellent value f...|    1288224000|   false|   4|\n",
      "|0321719816| NULL|    5.0|Even though I use...|10 28, 2010|A14638TGYH7GD9|     Rebecca Haden|{NULL,  DVD-ROM, ...|Buy this with you...|    1288224000|   false|   6|\n",
      "|0321719816| NULL|    3.0|I waited to compl...|10 21, 2010|A2VWE5SGNDS8HW|            tachi1|{NULL,  DVD-ROM, ...|Competent introdu...|    1287619200|   false|  22|\n",
      "|0321700945| NULL|    5.0|As someone who ha...|10 13, 2010|A13700AF4X40YG| Loves Books in MD|{NULL,  DVD-ROM, ...|Learn Adobe Photo...|    1286928000|   false|NULL|\n",
      "|0321700945| NULL|    5.0|Adobe approved \"A...| 10 7, 2010|A23E9QQHJLNGUI|      Bill Oterson|{NULL,  DVD-ROM, ...|Absolutely the best.|    1286409600|   false|  19|\n",
      "|0321700945| NULL|    5.0|This is a greate ...|05 15, 2011|A1GQRGB8FGSLIZ|   Amazon Customer|{NULL,  DVD-ROM, ...|I find myself goi...|    1305417600|   false|NULL|\n",
      "|0321700945| NULL|    3.0|There are over 10...| 01 9, 2011|A1E50L7PCVXLN4|           Colinda|{NULL,  DVD-ROM, ...|For Highly Motiva...|    1294531200|   false|  16|\n",
      "|0321700945| NULL|    5.0|I am not an avid ...| 12 6, 2010|A10Y058K7B96C6|       midnight122|{NULL,  DVD-ROM, ...|Great for beginne...|    1291593600|   false|NULL|\n",
      "|0321700945| NULL|    5.0|I am a long time ...|11 15, 2010|A3V7D0LH8L7BG0|          Spike D.|{NULL,  DVD-ROM, ...|You need to have ...|    1289779200|   false|NULL|\n",
      "|0321719824| NULL|    4.0|The \"Learn by Vid...|11 27, 2010| AGVWTYW0ULXHT|              Nate|{NULL,  DVD-ROM, ...|A helpful introdu...|    1290816000|   false|NULL|\n",
      "|0321719824| NULL|    4.0|The presenter her...|10 21, 2010|A3QJU4FEN8PQSZ|            Grimmy|{NULL,  DVD-ROM, ...|A good introducti...|    1287619200|   false|NULL|\n",
      "|0321719824| NULL|    4.0|This certified as...|10 10, 2010|A31N0XY2UTB25C|Stephanie Sullivan|{NULL,  DVD-ROM, ...|Learn Adobe Flash...|    1286668800|   false|NULL|\n",
      "+----------+-----+-------+--------------------+-----------+--------------+------------------+--------------------+--------------------+--------------+--------+----+\n",
      "only showing top 20 rows\n",
      "\n"
     ]
    }
   ],
   "source": [
    "# df = df.filter(df.reviewText.isNotNull())\n",
    "print('row count', df.count())\n",
    "df = df.na.drop(subset=['reviewText'])\n",
    "print('row count', df.count())\n",
    "df.show()"
   ]
  },
  {
   "cell_type": "code",
   "execution_count": 4,
   "metadata": {},
   "outputs": [],
   "source": [
    "# Define sentiment analysis function\n",
    "def get_sentiment(text):\n",
    "    sid = SentimentIntensityAnalyzer()\n",
    "    sentiment_score = sid.polarity_scores(text)\n",
    "    if sentiment_score['compound'] > 0:\n",
    "        return \"Positive\"\n",
    "    elif sentiment_score['compound'] < 0:\n",
    "        return \"Negative\"\n",
    "    else:\n",
    "        return \"Neutral\""
   ]
  },
  {
   "cell_type": "code",
   "execution_count": 5,
   "metadata": {},
   "outputs": [
    {
     "name": "stderr",
     "output_type": "stream",
     "text": [
      "[Stage 9:>                                                          (0 + 1) / 1]\r"
     ]
    },
    {
     "name": "stdout",
     "output_type": "stream",
     "text": [
      "+----------+-------+---------+\n",
      "|asin      |overall|sentiment|\n",
      "+----------+-------+---------+\n",
      "|0321719816|4.0    |Positive |\n",
      "|0321719816|4.0    |Positive |\n",
      "|0321719816|5.0    |Positive |\n",
      "|0321719816|5.0    |Positive |\n",
      "|0321719816|5.0    |Positive |\n",
      "|0321719816|5.0    |Positive |\n",
      "|0321719816|5.0    |Positive |\n",
      "|0321719816|5.0    |Positive |\n",
      "|0321719816|5.0    |Positive |\n",
      "|0321719816|5.0    |Positive |\n",
      "|0321719816|3.0    |Positive |\n",
      "|0321700945|5.0    |Positive |\n",
      "|0321700945|5.0    |Positive |\n",
      "|0321700945|5.0    |Positive |\n",
      "|0321700945|3.0    |Positive |\n",
      "|0321700945|5.0    |Positive |\n",
      "|0321700945|5.0    |Positive |\n",
      "|0321719824|4.0    |Positive |\n",
      "|0321719824|4.0    |Positive |\n",
      "|0321719824|4.0    |Positive |\n",
      "|0321719824|4.0    |Positive |\n",
      "|0763855553|1.0    |Positive |\n",
      "|0763855553|5.0    |Positive |\n",
      "|0763855553|1.0    |Positive |\n",
      "|0763855553|5.0    |Positive |\n",
      "|0763855553|5.0    |Negative |\n",
      "|0763855553|5.0    |Positive |\n",
      "|0763855553|5.0    |Positive |\n",
      "|0763855553|4.0    |Positive |\n",
      "|0763855553|5.0    |Positive |\n",
      "|0763855553|4.0    |Positive |\n",
      "|0763855553|5.0    |Positive |\n",
      "|0763855553|3.0    |Negative |\n",
      "|0763855553|5.0    |Positive |\n",
      "|0763855553|5.0    |Positive |\n",
      "|0763855553|1.0    |Negative |\n",
      "|0763855553|5.0    |Positive |\n",
      "|0763855553|5.0    |Positive |\n",
      "|0763855553|5.0    |Positive |\n",
      "|0763855553|1.0    |Negative |\n",
      "|0763855553|5.0    |Positive |\n",
      "|0763855553|4.0    |Negative |\n",
      "|0763855553|4.0    |Positive |\n",
      "|0763855553|3.0    |Positive |\n",
      "|0763855553|5.0    |Positive |\n",
      "|0763855553|4.0    |Positive |\n",
      "|0763855553|4.0    |Positive |\n",
      "|0763855553|4.0    |Positive |\n",
      "|0763855553|5.0    |Positive |\n",
      "|0763855553|5.0    |Positive |\n",
      "|0763855553|3.0    |Positive |\n",
      "|0763855553|4.0    |Positive |\n",
      "|0763855553|3.0    |Positive |\n",
      "|0763855553|5.0    |Positive |\n",
      "|0763855553|4.0    |Positive |\n",
      "|0763855553|5.0    |Positive |\n",
      "|0763855553|3.0    |Positive |\n",
      "|0982697813|5.0    |Positive |\n",
      "|0982697813|4.0    |Positive |\n",
      "|0982697813|5.0    |Positive |\n",
      "|0982697813|5.0    |Positive |\n",
      "|0982697813|4.0    |Positive |\n",
      "|0982697813|5.0    |Positive |\n",
      "|0982697813|5.0    |Positive |\n",
      "|0982697813|4.0    |Positive |\n",
      "|0982697813|5.0    |Positive |\n",
      "|1413313701|4.0    |Positive |\n",
      "|1413313701|2.0    |Positive |\n",
      "|1413313701|5.0    |Positive |\n",
      "|1413313701|4.0    |Negative |\n",
      "|1413313701|5.0    |Positive |\n",
      "|1413313701|5.0    |Positive |\n",
      "|1413313701|4.0    |Positive |\n",
      "|1413313701|2.0    |Positive |\n",
      "|1413313701|3.0    |Positive |\n",
      "|1413313701|4.0    |Positive |\n",
      "|1413313701|3.0    |Positive |\n",
      "|1413313701|5.0    |Positive |\n",
      "|1413313701|5.0    |Positive |\n",
      "|1413313701|4.0    |Positive |\n",
      "|1413313701|5.0    |Positive |\n",
      "|1413313701|5.0    |Positive |\n",
      "|1413313728|2.0    |Positive |\n",
      "|1413313728|4.0    |Positive |\n",
      "|1413313728|5.0    |Positive |\n",
      "|1413313728|4.0    |Positive |\n",
      "|1413313728|5.0    |Positive |\n",
      "|1413313728|5.0    |Positive |\n",
      "|1413313728|5.0    |Positive |\n",
      "|1413313728|5.0    |Positive |\n",
      "|1413313728|5.0    |Positive |\n",
      "|1413313728|3.0    |Positive |\n",
      "|1413313728|5.0    |Positive |\n",
      "|1413313728|5.0    |Positive |\n",
      "|1413313728|5.0    |Positive |\n",
      "|1426296355|5.0    |Positive |\n",
      "|1426296355|3.0    |Positive |\n",
      "|1426296355|5.0    |Positive |\n",
      "|1426296355|5.0    |Positive |\n",
      "|1426296355|5.0    |Positive |\n",
      "+----------+-------+---------+\n",
      "only showing top 100 rows\n",
      "\n"
     ]
    },
    {
     "name": "stderr",
     "output_type": "stream",
     "text": [
      "                                                                                \r"
     ]
    }
   ],
   "source": [
    "sentiment_udf = udf(get_sentiment, StringType())\n",
    "\n",
    "df = df.withColumn('sentiment', sentiment_udf(df['reviewText']))\n",
    "\n",
    "# df.show(truncate=False)\n",
    "df.select('asin','overall','sentiment').show(100,truncate=False)"
   ]
  }
 ],
 "metadata": {
  "kernelspec": {
   "display_name": "Python 3",
   "language": "python",
   "name": "python3"
  },
  "language_info": {
   "codemirror_mode": {
    "name": "ipython",
    "version": 3
   },
   "file_extension": ".py",
   "mimetype": "text/x-python",
   "name": "python",
   "nbconvert_exporter": "python",
   "pygments_lexer": "ipython3",
   "version": "3.10.6"
  }
 },
 "nbformat": 4,
 "nbformat_minor": 2
}
